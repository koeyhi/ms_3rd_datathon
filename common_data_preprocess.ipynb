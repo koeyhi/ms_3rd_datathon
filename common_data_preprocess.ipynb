{
 "cells": [
  {
   "cell_type": "code",
   "execution_count": null,
   "metadata": {
    "id": "frZ9YaIg7AZY"
   },
   "outputs": [],
   "source": [
    "import pandas as pd\n",
    "import numpy as np\n",
    "\n",
    "DATA_PATH = \"LoLesports_data/\"\n",
    "SEED = 42"
   ]
  },
  {
   "cell_type": "code",
   "execution_count": null,
   "metadata": {
    "colab": {
     "base_uri": "https://localhost:8080/"
    },
    "executionInfo": {
     "elapsed": 14504,
     "status": "ok",
     "timestamp": 1735517995298,
     "user": {
      "displayName": "leeya",
      "userId": "01846864398267083738"
     },
     "user_tz": -540
    },
    "id": "K88eod3w70T0",
    "outputId": "d358a4d8-08cb-4d02-bc0c-07481f607b46"
   },
   "outputs": [
    {
     "name": "stderr",
     "output_type": "stream",
     "text": [
      "<ipython-input-3-f8ea586c437b>:1: DtypeWarning: Columns (2) have mixed types. Specify dtype option on import or set low_memory=False.\n",
      "  data2022= pd.read_csv(f'{DATA_PATH}2022_LoL_esports_match_data_from_OraclesElixir.csv')\n",
      "<ipython-input-3-f8ea586c437b>:2: DtypeWarning: Columns (2) have mixed types. Specify dtype option on import or set low_memory=False.\n",
      "  data2023 = pd.read_csv('/content/drive/MyDrive/LoL dataset/2023_LoL_esports_match_data_from_OraclesElixir.csv')\n",
      "<ipython-input-3-f8ea586c437b>:3: DtypeWarning: Columns (2) have mixed types. Specify dtype option on import or set low_memory=False.\n",
      "  data2024 = pd.read_csv('/content/drive/MyDrive/LoL dataset/2024_LoL_esports_match_data_from_OraclesElixir.csv')\n"
     ]
    }
   ],
   "source": [
    "data2022= pd.read_csv(f'{DATA_PATH}2022_LoL_esports_match_data_from_OraclesElixir.csv')\n",
    "data2023 = pd.read_csv(f'{DATA_PATH}2023_LoL_esports_match_data_from_OraclesElixir.csv')\n",
    "data2024 = pd.read_csv(f'{DATA_PATH}2024_LoL_esports_match_data_from_OraclesElixir.csv')"
   ]
  },
  {
   "cell_type": "code",
   "execution_count": null,
   "metadata": {
    "id": "__6S_OeW8weH"
   },
   "outputs": [],
   "source": [
    "data = [data2022, data2023, data2024]\n",
    "final_data = pd.concat(data, axis=0)"
   ]
  },
  {
   "cell_type": "code",
   "execution_count": null,
   "metadata": {
    "id": "cZEVnN479H4Q"
   },
   "outputs": [],
   "source": [
    "leagues = [\"LCK\", \"LEC\", \"LCS\", \"PCS\", \"VCS\", \"CBLOL\", \"WLDs\", \"MSI\"]\n",
    "df = final_data[final_data[\"league\"].isin(leagues)]"
   ]
  },
  {
   "cell_type": "code",
   "execution_count": null,
   "metadata": {
    "id": "rrgecvQytwL-"
   },
   "outputs": [],
   "source": [
    "df.loc[df[\"teamname\"] == \"DWG KIA\", \"teamname\"] = \"Dplus KIA\"\n",
    "df.loc[df[\"teamname\"] == \"Liiv SANDBOX\", \"teamname\"] = \"BNK FEARX\"\n",
    "df.loc[df[\"teamname\"].isin([\"Fredit BRION\", \"BRION\"]), \"teamname\"] = \"OKSavingsBank Brion\"\n",
    "df.loc[df[\"teamname\"] == \"Victory Five\", \"teamname\"] = \"Ninjas in Pyjamas\"\n",
    "df.loc[df[\"teamname\"] == \"MAD Lions\", \"teamname\"] = \"MAD Lions KOI\"\n",
    "df.loc[df[\"teamname\"] == \"Excel Esports\", \"teamname\"] = \"GiantX\"\n",
    "df.loc[df[\"teamname\"].isin([\"Rogue\", \"KOI\"]), \"teamname\"] = \"Rogue\"\n",
    "df.loc[df[\"teamname\"].isin([\"Counter Logic Gaming\", \"NRG\"]), \"teamname\"] = \"NRG Kia\"\n",
    "df.loc[df[\"teamname\"] == \"Hurricane Gaming\", \"teamname\"] = \"Dewish Team\"\n",
    "df.loc[df[\"teamname\"] == \"Meta Falcon Team\", \"teamname\"] = \"HELL PIGS\"\n",
    "df.loc[df[\"teamname\"].isin([\"SEM9\", \"SEM9 WPE\", \"WP Gaming\"]), \"teamname\"] = \"West Point Esports\"\n",
    "df.loc[df[\"teamname\"] == \"Luxury Esports\", \"teamname\"] = \"Team Whales\"\n",
    "df.loc[df[\"teamname\"] == \"Saigon Buffalo\", \"teamname\"] = \"MGN Vikings Esports\"\n",
    "df.loc[df[\"teamname\"] == \"MGN Box Esports\", \"teamname\"] = \"MGN Blue Esports\"\n",
    "df.loc[df[\"teamname\"].isin([\"Flamengo Esports\", \"Flamengo Los Grandes\"]), \"teamname\"] = \"Los Grandes\"\n",
    "df.loc[df[\"teamname\"] == \"KaBuM! e-Sports\", \"teamname\"] = \"KaBuM! Esports\"\n",
    "df.loc[df[\"teamname\"] == \"Netshoes Miners\", \"teamname\"] = \"Miners\"\n",
    "\n",
    "df = df[~df[\"teamname\"].isin([\n",
    "    \"Dino Gaming\",\n",
    "    \"Original Gaming\",\n",
    "    \"APOLLO GAMING\",\n",
    "    \"CYRUS\",\n",
    "    \"Burst The Sky Esports\",\n",
    "    \"Nate9527\"\n",
    "])]"
   ]
  },
  {
   "cell_type": "code",
   "execution_count": null,
   "metadata": {
    "id": "WprpUNzjuOdd"
   },
   "outputs": [],
   "source": [
    "pd.set_option(\"display.max_columns\", None)\n",
    "pd.set_option(\"display.max_rows\", None)"
   ]
  },
  {
   "cell_type": "code",
   "execution_count": null,
   "metadata": {
    "id": "IV1VXu1H0Bl9"
   },
   "outputs": [],
   "source": [
    "columns_to_drop = [\n",
    "    \"datacompleteness\",\n",
    "    \"url\",\n",
    "    \"teamid\",\n",
    "    \"playerid\",\n",
    "    \"year\",\n",
    "]"
   ]
  },
  {
   "cell_type": "code",
   "execution_count": null,
   "metadata": {
    "id": "L9zjykkbAuUr"
   },
   "outputs": [],
   "source": [
    "df = df.drop(columns=columns_to_drop)"
   ]
  },
  {
   "cell_type": "code",
   "execution_count": null,
   "metadata": {
    "id": "un0-ukgxUhGw"
   },
   "outputs": [],
   "source": [
    "for col in columns_to_mean:\n",
    "    lck_mean = df[df['league'] == 'lck'][col].mean()\n",
    "    china_team_mean = df[df['teamname'].isin(china_team)].groupby('teamname')[col].transform('mean')\n",
    "\n",
    "    df[col] = df.apply(lambda row: lck_mean if row['teamname'] in china_team and pd.isna(row[col]) else row[col],axis=1)\n",
    "\n",
    "    team_mean = df.groupby('teamname')[col].transform('mean')\n",
    "    df[col] = df[col].fillna(team_mean)"
   ]
  },
  {
   "cell_type": "code",
   "execution_count": null,
   "metadata": {
    "id": "cXeHv_dwA7EB"
   },
   "outputs": [],
   "source": [
    "df.to_csv(f'{DATA_PATH}base_data_forreal.csv', index=False)"
   ]
  }
 ],
 "metadata": {
  "colab": {
   "authorship_tag": "ABX9TyPXTVsyCTWla8/Dn5a9Vagk",
   "name": "",
   "version": ""
  },
  "kernelspec": {
   "display_name": "Python 3",
   "name": "python3"
  },
  "language_info": {
   "name": "python"
  }
 },
 "nbformat": 4,
 "nbformat_minor": 0
}
