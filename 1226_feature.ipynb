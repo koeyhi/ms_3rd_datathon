{
  "nbformat": 4,
  "nbformat_minor": 0,
  "metadata": {
    "colab": {
      "provenance": []
    },
    "kernelspec": {
      "name": "python3",
      "display_name": "Python 3"
    },
    "language_info": {
      "name": "python"
    }
  },
  "cells": [
    {
      "cell_type": "code",
      "source": [
        "from google.colab import drive\n",
        "drive.mount('/content/drive')\n",
        "\n",
        "DATA_PATH = \"/content/drive/MyDrive/datathon/data/\"\n",
        "\n",
        "SEED = 42"
      ],
      "metadata": {
        "colab": {
          "base_uri": "https://localhost:8080/"
        },
        "id": "gWlQhjnWhA56",
        "outputId": "124d8ec1-be09-421b-fcf0-7fe43bd2fb00"
      },
      "execution_count": 2,
      "outputs": [
        {
          "output_type": "stream",
          "name": "stdout",
          "text": [
            "Mounted at /content/drive\n"
          ]
        }
      ]
    },
    {
      "cell_type": "code",
      "source": [
        "import pandas as pd\n",
        "import numpy as np"
      ],
      "metadata": {
        "id": "2ME4GLqahHyE"
      },
      "execution_count": 3,
      "outputs": []
    },
    {
      "cell_type": "code",
      "execution_count": 4,
      "metadata": {
        "id": "OC84tLKqgP6x"
      },
      "outputs": [],
      "source": [
        "train_tr = pd.read_csv(f\"{DATA_PATH}train_1226.csv\") # 학습용 승부예측 데이터\n",
        "train_target = pd.read_csv(f\"{DATA_PATH}train_target_1226.csv\") # 학습용 정답 데이터\n",
        "test_tr = pd.read_csv(f\"{DATA_PATH}test_1226.csv\") # 테스트용 승부예측 데이터\n",
        "test_target = pd.read_csv(f\"{DATA_PATH}test_target_1226.csv\") # 테스트용 정답 데이터"
      ]
    },
    {
      "cell_type": "code",
      "source": [
        "train_tr.shape, train_target.shape, test_tr.shape, test_target.shape"
      ],
      "metadata": {
        "colab": {
          "base_uri": "https://localhost:8080/"
        },
        "id": "JtNy9SUKhoFJ",
        "outputId": "2e87ade3-f400-4b09-c66e-05942a7ca049"
      },
      "execution_count": 20,
      "outputs": [
        {
          "output_type": "execute_result",
          "data": {
            "text/plain": [
              "((266040, 18), (266040, 1), (67380, 18), (67380, 1))"
            ]
          },
          "metadata": {},
          "execution_count": 20
        }
      ]
    },
    {
      "cell_type": "markdown",
      "source": [
        "# 년월일시 분리"
      ],
      "metadata": {
        "id": "L0dMHB2GlVjt"
      }
    },
    {
      "cell_type": "code",
      "source": [
        "train_tr[\"date\"] = pd.to_datetime(train_tr[\"date\"])\n",
        "test_tr[\"date\"] = pd.to_datetime(test_tr[\"date\"])\n",
        "\n",
        "train_tr[\"year\"] = train_tr[\"date\"].dt.year\n",
        "train_tr[\"month\"] = train_tr[\"date\"].dt.month\n",
        "train_tr[\"day\"] = train_tr[\"date\"].dt.day\n",
        "train_tr[\"time\"] = train_tr[\"date\"].dt.hour\n",
        "\n",
        "test_tr[\"year\"] = test_tr[\"date\"].dt.year\n",
        "test_tr[\"month\"] = test_tr[\"date\"].dt.month\n",
        "test_tr[\"day\"] = test_tr[\"date\"].dt.day\n",
        "test_tr[\"time\"] = test_tr[\"date\"].dt.hour\n",
        "\n",
        "train_tr.drop(columns=[\"date\"], inplace=True)\n",
        "test_tr.drop(columns=[\"date\"], inplace=True)"
      ],
      "metadata": {
        "id": "n35V0iGJkeJ5"
      },
      "execution_count": 22,
      "outputs": []
    },
    {
      "cell_type": "code",
      "source": [
        "train_tr.info()"
      ],
      "metadata": {
        "colab": {
          "base_uri": "https://localhost:8080/"
        },
        "id": "Oq39GtIwiBnI",
        "outputId": "405009b6-8d99-4c3c-b70d-f10d8ce1aeed"
      },
      "execution_count": 25,
      "outputs": [
        {
          "output_type": "stream",
          "name": "stdout",
          "text": [
            "<class 'pandas.core.frame.DataFrame'>\n",
            "RangeIndex: 266040 entries, 0 to 266039\n",
            "Data columns (total 20 columns):\n",
            " #   Column    Non-Null Count   Dtype  \n",
            "---  ------    --------------   -----  \n",
            " 0   league    266040 non-null  object \n",
            " 1   year      266040 non-null  int32  \n",
            " 2   patch     266040 non-null  float64\n",
            " 3   side      266040 non-null  object \n",
            " 4   position  266040 non-null  object \n",
            " 5   playerid  218803 non-null  object \n",
            " 6   teamid    262776 non-null  object \n",
            " 7   ban1      265248 non-null  object \n",
            " 8   ban2      265602 non-null  object \n",
            " 9   ban3      265002 non-null  object \n",
            " 10  ban4      265254 non-null  object \n",
            " 11  ban5      264606 non-null  object \n",
            " 12  pick1     36686 non-null   object \n",
            " 13  pick2     36686 non-null   object \n",
            " 14  pick3     36686 non-null   object \n",
            " 15  pick4     36686 non-null   object \n",
            " 16  pick5     36686 non-null   object \n",
            " 17  month     266040 non-null  int32  \n",
            " 18  day       266040 non-null  int32  \n",
            " 19  time      266040 non-null  int32  \n",
            "dtypes: float64(1), int32(4), object(15)\n",
            "memory usage: 36.5+ MB\n"
          ]
        }
      ]
    },
    {
      "cell_type": "code",
      "source": [
        "\n",
        "# 시간대별 데이터 확인 (train_tr)\n",
        "print(train_tr.groupby('time').size())\n",
        "\n",
        "# 시간대별 데이터 확인 (test_tr)\n",
        "print(test_tr.groupby('time').size())"
      ],
      "metadata": {
        "colab": {
          "base_uri": "https://localhost:8080/"
        },
        "id": "kUDzhYljlcz1",
        "outputId": "78406e8f-cd80-4c4e-eb9a-84cab655b594"
      },
      "execution_count": 24,
      "outputs": [
        {
          "output_type": "stream",
          "name": "stdout",
          "text": [
            "time\n",
            "0     12144\n",
            "1      9996\n",
            "2      5508\n",
            "3      2592\n",
            "4      2628\n",
            "5      5100\n",
            "6      4992\n",
            "7      5652\n",
            "8      9156\n",
            "9     10488\n",
            "10    10980\n",
            "11     9816\n",
            "12     7560\n",
            "13     5304\n",
            "14     5280\n",
            "15    10080\n",
            "16    18792\n",
            "17    26220\n",
            "18    24768\n",
            "19    22668\n",
            "20    17184\n",
            "21    13236\n",
            "22    12600\n",
            "23    13296\n",
            "dtype: int64\n",
            "time\n",
            "0     2364\n",
            "1     1452\n",
            "2      756\n",
            "3      420\n",
            "4       36\n",
            "5     2268\n",
            "6     1956\n",
            "7     1620\n",
            "8     2364\n",
            "9     2016\n",
            "10    2616\n",
            "11    2184\n",
            "12    2148\n",
            "13    1284\n",
            "14     924\n",
            "15    3912\n",
            "16    8112\n",
            "17    9084\n",
            "18    7992\n",
            "19    6000\n",
            "20    3024\n",
            "21    1896\n",
            "22    1488\n",
            "23    1464\n",
            "dtype: int64\n"
          ]
        }
      ]
    },
    {
      "cell_type": "markdown",
      "source": [
        "# 피처"
      ],
      "metadata": {
        "id": "5sqZVgQg_AaP"
      }
    },
    {
      "cell_type": "markdown",
      "source": [
        "- 시간대별(경기) : 였는데 시간대가 안맞아 뺌"
      ],
      "metadata": {
        "id": "o8eZolH0_C3K"
      }
    },
    {
      "cell_type": "code",
      "source": [],
      "metadata": {
        "id": "gc6fLip0-_yn"
      },
      "execution_count": null,
      "outputs": []
    },
    {
      "cell_type": "code",
      "source": [
        "\n",
        "# teamid가 oe:team:78f183fa5a7d8ecb22b9ad272c3abd7인 팀의 2023년 2월 경기 시간 출력\n",
        "print(train_tr[(train_tr[\"teamid\"] == \"oe:team:78f183fa5a7d8ecb22b9ad272c3abd7\") & (train_tr[\"year\"] == 2023) & (train_tr[\"month\"] == 2)][[\"year\", \"month\", \"day\", \"time\"]])"
      ],
      "metadata": {
        "colab": {
          "base_uri": "https://localhost:8080/"
        },
        "id": "mFIovJmh2t1a",
        "outputId": "6233fa49-757a-4f81-cb3d-405f41fbcb3d"
      },
      "execution_count": 39,
      "outputs": [
        {
          "output_type": "stream",
          "name": "stdout",
          "text": [
            "        year  month  day  time\n",
            "136932  2023      2    4    19\n",
            "136933  2023      2    4    19\n",
            "136934  2023      2    4    19\n",
            "136935  2023      2    4    19\n",
            "136936  2023      2    4    19\n",
            "136942  2023      2    4    19\n",
            "137669  2023      2    5    20\n",
            "137670  2023      2    5    20\n",
            "137671  2023      2    5    20\n",
            "137672  2023      2    5    20\n",
            "137673  2023      2    5    20\n",
            "137675  2023      2    5    20\n",
            "138101  2023      2    6    19\n",
            "138102  2023      2    6    19\n",
            "138103  2023      2    6    19\n",
            "138104  2023      2    6    19\n",
            "138105  2023      2    6    19\n",
            "138107  2023      2    6    19\n"
          ]
        }
      ]
    }
  ]
}