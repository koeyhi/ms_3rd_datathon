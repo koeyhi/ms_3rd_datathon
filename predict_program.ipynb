{
 "cells": [
  {
   "cell_type": "code",
   "execution_count": 696,
   "metadata": {},
   "outputs": [],
   "source": [
    "import pandas as pd\n",
    "import numpy as np\n",
    "\n",
    "DATA_PATH = \"LoLesports_data/\"\n",
    "SEED = 42\n",
    "\n",
    "teams_train = pd.read_csv(f\"{DATA_PATH}teams_train.csv\")\n",
    "teams_test = pd.read_csv(f\"{DATA_PATH}teams_test.csv\")\n",
    "\n",
    "teams_train_target = pd.read_csv(f\"{DATA_PATH}teams_train_target.csv\")\n",
    "teams_test_target = pd.read_csv(f\"{DATA_PATH}teams_test_target.csv\")\n",
    "\n",
    "featured_train = pd.read_csv(f\"{DATA_PATH}featured_train.csv\")\n",
    "featured_test = pd.read_csv(f\"{DATA_PATH}featured_test.csv\")\n",
    "featured_data = pd.concat([featured_train, featured_test], ignore_index=True)\n",
    "featured_data.drop(\"gameid\", axis=1, inplace=True)"
   ]
  },
  {
   "cell_type": "markdown",
   "metadata": {},
   "source": [
    "## 상대 팀 추가"
   ]
  },
  {
   "cell_type": "code",
   "execution_count": 697,
   "metadata": {},
   "outputs": [],
   "source": [
    "temp_opp_teams = teams_train.groupby(\"gameid\")[\"teamname\"].transform(lambda x: x.iloc[::-1].values).to_frame(\"opp_teamname\")\n",
    "teams_train = pd.concat([teams_train, temp_opp_teams], axis=1)\n",
    "temp_opp_teams = teams_test.groupby(\"gameid\")[\"teamname\"].transform(lambda x: x.iloc[::-1].values).to_frame(\"opp_teamname\")\n",
    "teams_test = pd.concat([teams_test, temp_opp_teams], axis=1)"
   ]
  },
  {
   "cell_type": "markdown",
   "metadata": {},
   "source": [
    "## 날짜 추가"
   ]
  },
  {
   "cell_type": "code",
   "execution_count": 698,
   "metadata": {},
   "outputs": [],
   "source": [
    "teams_train[\"date\"] = pd.to_datetime(teams_train[\"date\"])\n",
    "teams_test[\"date\"] = pd.to_datetime(teams_test[\"date\"])\n",
    "\n",
    "teams_train[\"year\"] = teams_train[\"date\"].dt.year\n",
    "teams_train[\"month\"] = teams_train[\"date\"].dt.month\n",
    "teams_train[\"day\"] = teams_train[\"date\"].dt.day\n",
    "\n",
    "teams_test[\"year\"] = teams_test[\"date\"].dt.year\n",
    "teams_test[\"month\"] = teams_test[\"date\"].dt.month\n",
    "teams_test[\"day\"] = teams_test[\"date\"].dt.day"
   ]
  },
  {
   "cell_type": "markdown",
   "metadata": {},
   "source": [
    "## 데이터 타입 변경"
   ]
  },
  {
   "cell_type": "code",
   "execution_count": 699,
   "metadata": {},
   "outputs": [],
   "source": [
    "cols = [\"league\", \"split\", \"teamname\", \"opp_teamname\", \"ban1\", \"ban2\", \"ban3\", \"ban4\", \"ban5\", \"pick1\", \"pick2\", \"pick3\", \"pick4\", \"pick5\"]\n",
    "\n",
    "teams_train[cols] = teams_train[cols].astype(\"category\")\n",
    "teams_test[cols] = teams_test[cols].astype(\"category\")"
   ]
  },
  {
   "cell_type": "markdown",
   "metadata": {},
   "source": [
    "# 예측 모델 로드 및 예측"
   ]
  },
  {
   "cell_type": "code",
   "execution_count": 700,
   "metadata": {},
   "outputs": [],
   "source": [
    "stats_columns = [\n",
    "    \"result\",\n",
    "    \"gamelength\",\n",
    "    \"kills\",\n",
    "    \"deaths\",\n",
    "    \"assists\",\n",
    "    \"firstblood\",\n",
    "    \"team kpm\",\n",
    "    \"ckpm\",\n",
    "    \"firstdragon\",\n",
    "    \"firstherald\",\n",
    "    \"void_grubs\",\n",
    "    \"firstbaron\",\n",
    "    \"firsttower\",\n",
    "    \"towers\",\n",
    "    \"firstmidtower\",\n",
    "    \"firsttothreetowers\",\n",
    "    \"turretplates\",\n",
    "    \"inhibitors\",\n",
    "    \"damagetochampions\",\n",
    "    \"dpm\",\n",
    "    \"damagetakenperminute\",\n",
    "    \"damagemitigatedperminute\",\n",
    "    \"wardsplaced\",\n",
    "    \"wpm\",\n",
    "    \"wardskilled\",\n",
    "    \"wcpm\",\n",
    "    \"controlwardsbought\",\n",
    "    \"visionscore\",\n",
    "    \"vspm\",\n",
    "]"
   ]
  },
  {
   "cell_type": "code",
   "execution_count": 701,
   "metadata": {},
   "outputs": [],
   "source": [
    "train_data = pd.concat([teams_train, teams_test], ignore_index=True)\n",
    "train_data.drop(\"gameid\", axis=1, inplace=True)\n",
    "target_data = pd.concat([teams_train_target, teams_test_target], ignore_index=True)"
   ]
  },
  {
   "cell_type": "markdown",
   "metadata": {},
   "source": [
    "## 입력 데이터 특성 추가"
   ]
  },
  {
   "cell_type": "code",
   "execution_count": 702,
   "metadata": {},
   "outputs": [],
   "source": [
    "teamname = \"Dplus KIA\"\n",
    "opp_teamname = \"OKSavingsBank BRION\"\n",
    "patch = 14.23\n",
    "league = \"LCK\"\n",
    "side = \"Blue\"\n",
    "year = 2024\n",
    "month = 12\n",
    "day = 8\n",
    "ban1 = \"Renekton\"\n",
    "ban2 = \"Vi\"\n",
    "ban3 = \"Skarner\"\n",
    "ban4 = \"Ashe\"\n",
    "ban5 = \"Kalista\"\n",
    "pick1 = \"K'Sante\"\n",
    "pick2 = \"Viego\"\n",
    "pick3 = \"Aurora\"\n",
    "pick4 = \"Varus\"\n",
    "pick5 = \"Maokai\"\n",
    "\n",
    "input_data = {\n",
    "    \"patch\": patch,\n",
    "    \"side\": side,\n",
    "    \"league\": league,\n",
    "    \"teamname\": teamname,\n",
    "    \"opp_teamname\": opp_teamname,\n",
    "    \"ban1\": ban1,\n",
    "    \"ban2\": ban2,\n",
    "    \"ban3\": ban3,\n",
    "    \"ban4\": ban4,\n",
    "    \"ban5\": ban5,\n",
    "    \"pick1\": pick1,\n",
    "    \"pick2\": pick2,\n",
    "    \"pick3\": pick3,\n",
    "    \"pick4\": pick4,\n",
    "    \"pick5\": pick5,\n",
    "    \"year\": year,\n",
    "    \"month\": month,\n",
    "    \"day\": day,\n",
    "}"
   ]
  },
  {
   "cell_type": "code",
   "execution_count": 703,
   "metadata": {},
   "outputs": [],
   "source": [
    "input_team_data = train_data[train_data['teamname'] == teamname].sort_values(['year', 'month', 'day']).reset_index(drop=True)\n",
    "input_opp_data = train_data[train_data['teamname'] == opp_teamname].sort_values(['year', 'month', 'day']).reset_index(drop=True)\n",
    "\n",
    "recent10_stats = {}\n",
    "for col in stats_columns:\n",
    "    if len(input_team_data) > 0:\n",
    "        team_recent10 = train_data[train_data['teamname'] == teamname][col].rolling(window=10, min_periods=1).mean().iloc[-1]\n",
    "    else:\n",
    "        team_recent10 = 0.5 if col == 'result' else 0\n",
    "    recent10_stats[f'recent10_{col}'] = team_recent10\n",
    "    \n",
    "    if len(input_opp_data) > 0:\n",
    "        opp_recent10 = train_data[train_data['teamname'] == opp_teamname][col].rolling(window=10, min_periods=1).mean().iloc[-1]\n",
    "    else:\n",
    "        opp_recent10 = 0.5 if col == 'result' else 0\n",
    "    recent10_stats[f'opp_recent10_{col}'] = opp_recent10\n",
    "\n",
    "for feature in recent10_stats:\n",
    "    input_data[feature] = recent10_stats[feature]"
   ]
  },
  {
   "cell_type": "code",
   "execution_count": 704,
   "metadata": {},
   "outputs": [],
   "source": [
    "head_to_head = train_data[\n",
    "    ((train_data['teamname'] == teamname) & (train_data['opp_teamname'] == opp_teamname)) |\n",
    "    ((train_data['teamname'] == opp_teamname) & (train_data['opp_teamname'] == teamname))\n",
    "].sort_values(['year', 'month', 'day'])\n",
    "\n",
    "if len(head_to_head) > 0:\n",
    "    team_wins = head_to_head[\n",
    "        ((head_to_head['teamname'] == teamname) & (head_to_head['result'] == 1) |\n",
    "        (head_to_head['teamname'] == opp_teamname) & (head_to_head['result'] == 0))\n",
    "    ].shape[0]\n",
    "    h2h_winrate = team_wins / len(head_to_head)\n",
    "else:\n",
    "    h2h_winrate = 0.5\n",
    "\n",
    "input_data['h2h_winrate'] = h2h_winrate"
   ]
  },
  {
   "cell_type": "code",
   "execution_count": 705,
   "metadata": {},
   "outputs": [],
   "source": [
    "league_stats = {}\n",
    "\n",
    "team_league_games = train_data[\n",
    "    (train_data['teamname'] == teamname) & \n",
    "    (train_data['league'] == input_data['league'])\n",
    "]\n",
    "if len(team_league_games) > 0:\n",
    "    team_league_winrate = team_league_games['result'].mean()\n",
    "else:\n",
    "    team_league_winrate = 0.5\n",
    "\n",
    "input_data['league_winrate'] = team_league_winrate"
   ]
  },
  {
   "cell_type": "code",
   "execution_count": 706,
   "metadata": {},
   "outputs": [
    {
     "data": {
      "text/html": [
       "<div>\n",
       "<style scoped>\n",
       "    .dataframe tbody tr th:only-of-type {\n",
       "        vertical-align: middle;\n",
       "    }\n",
       "\n",
       "    .dataframe tbody tr th {\n",
       "        vertical-align: top;\n",
       "    }\n",
       "\n",
       "    .dataframe thead th {\n",
       "        text-align: right;\n",
       "    }\n",
       "</style>\n",
       "<table border=\"1\" class=\"dataframe\">\n",
       "  <thead>\n",
       "    <tr style=\"text-align: right;\">\n",
       "      <th></th>\n",
       "      <th>patch</th>\n",
       "      <th>side</th>\n",
       "      <th>league</th>\n",
       "      <th>teamname</th>\n",
       "      <th>opp_teamname</th>\n",
       "      <th>ban1</th>\n",
       "      <th>ban2</th>\n",
       "      <th>ban3</th>\n",
       "      <th>ban4</th>\n",
       "      <th>ban5</th>\n",
       "      <th>...</th>\n",
       "      <th>recent10_wcpm</th>\n",
       "      <th>opp_recent10_wcpm</th>\n",
       "      <th>recent10_controlwardsbought</th>\n",
       "      <th>opp_recent10_controlwardsbought</th>\n",
       "      <th>recent10_visionscore</th>\n",
       "      <th>opp_recent10_visionscore</th>\n",
       "      <th>recent10_vspm</th>\n",
       "      <th>opp_recent10_vspm</th>\n",
       "      <th>h2h_winrate</th>\n",
       "      <th>league_winrate</th>\n",
       "    </tr>\n",
       "  </thead>\n",
       "  <tbody>\n",
       "    <tr>\n",
       "      <th>0</th>\n",
       "      <td>14.23</td>\n",
       "      <td>Blue</td>\n",
       "      <td>LCK</td>\n",
       "      <td>Dplus KIA</td>\n",
       "      <td>OKSavingsBank BRION</td>\n",
       "      <td>Renekton</td>\n",
       "      <td>Vi</td>\n",
       "      <td>Skarner</td>\n",
       "      <td>Ashe</td>\n",
       "      <td>Kalista</td>\n",
       "      <td>...</td>\n",
       "      <td>1.78643</td>\n",
       "      <td>1.69032</td>\n",
       "      <td>57.7</td>\n",
       "      <td>45.2</td>\n",
       "      <td>319.4</td>\n",
       "      <td>281.2</td>\n",
       "      <td>9.00584</td>\n",
       "      <td>8.75083</td>\n",
       "      <td>0.8</td>\n",
       "      <td>0.573333</td>\n",
       "    </tr>\n",
       "  </tbody>\n",
       "</table>\n",
       "<p>1 rows × 78 columns</p>\n",
       "</div>"
      ],
      "text/plain": [
       "   patch  side league   teamname         opp_teamname      ban1 ban2     ban3  \\\n",
       "0  14.23  Blue    LCK  Dplus KIA  OKSavingsBank BRION  Renekton   Vi  Skarner   \n",
       "\n",
       "   ban4     ban5  ... recent10_wcpm opp_recent10_wcpm  \\\n",
       "0  Ashe  Kalista  ...       1.78643           1.69032   \n",
       "\n",
       "  recent10_controlwardsbought opp_recent10_controlwardsbought  \\\n",
       "0                        57.7                            45.2   \n",
       "\n",
       "  recent10_visionscore  opp_recent10_visionscore  recent10_vspm  \\\n",
       "0                319.4                     281.2        9.00584   \n",
       "\n",
       "   opp_recent10_vspm  h2h_winrate  league_winrate  \n",
       "0            8.75083          0.8        0.573333  \n",
       "\n",
       "[1 rows x 78 columns]"
      ]
     },
     "execution_count": 706,
     "metadata": {},
     "output_type": "execute_result"
    }
   ],
   "source": [
    "input_data = pd.DataFrame([input_data.values()], columns=input_data.keys())\n",
    "input_data"
   ]
  },
  {
   "cell_type": "code",
   "execution_count": 707,
   "metadata": {},
   "outputs": [],
   "source": [
    "input_data[\"side\"] = input_data[\"side\"].map({\"Blue\": 0, \"Red\": 1})\n",
    "cat_input_data = input_data.copy()\n",
    "cat_featured_data = featured_data.copy()\n",
    "\n",
    "cat_cols = [\"teamname\", \"opp_teamname\", \"ban1\", \"ban2\", \"ban3\", \"ban4\", \"ban5\", \"pick1\", \"pick2\", \"pick3\", \"pick4\", \"pick5\"]\n",
    "cat_input_data[cat_cols] = cat_input_data[cat_cols].astype(\"category\")"
   ]
  },
  {
   "cell_type": "code",
   "execution_count": 708,
   "metadata": {},
   "outputs": [],
   "source": [
    "from sklearn.preprocessing import LabelEncoder\n",
    "from sklearn.preprocessing import OneHotEncoder\n",
    "\n",
    "\n",
    "def preprocess(input_data, train_data):\n",
    "    champion_columns_teams = [\n",
    "        \"ban1\",\n",
    "        \"ban2\",\n",
    "        \"ban3\",\n",
    "        \"ban4\",\n",
    "        \"ban5\",\n",
    "        \"pick1\",\n",
    "        \"pick2\",\n",
    "        \"pick3\",\n",
    "        \"pick4\",\n",
    "        \"pick5\",\n",
    "    ]\n",
    "\n",
    "    champions = sorted(train_data[champion_columns_teams].stack().unique())\n",
    "\n",
    "    champions_df = pd.DataFrame({\"champion\": champions})\n",
    "    champions_df = champions_df.dropna().reset_index(drop=True)\n",
    "\n",
    "    le = LabelEncoder()\n",
    "    champions_df[\"champion_encoded\"] = le.fit_transform(champions_df[\"champion\"])\n",
    "\n",
    "    for col in champion_columns_teams:\n",
    "        input_data[col] = le.transform(input_data[col])\n",
    "\n",
    "    encoder = OneHotEncoder()\n",
    "    encoder.fit(train_data[[\"league\"]])\n",
    "    league_encoded = encoder.transform(input_data[[\"league\"]]).toarray()\n",
    "    league_cols = [f\"league_{col}\" for col in encoder.categories_[0]]\n",
    "    input_data = pd.concat(\n",
    "        [input_data, pd.DataFrame(league_encoded, columns=league_cols)], axis=1\n",
    "    )\n",
    "    input_data.drop(\"league\", axis=1, inplace=True)\n",
    "\n",
    "    le_team = LabelEncoder()\n",
    "    all_team_names = pd.concat(\n",
    "        [\n",
    "            train_data[\"teamname\"],\n",
    "            train_data[\"opp_teamname\"],\n",
    "        ]\n",
    "    ).unique()\n",
    "    le_team.fit(all_team_names)\n",
    "\n",
    "    input_data[\"teamname\"] = le_team.transform(input_data[\"teamname\"])\n",
    "    input_data[\"opp_teamname\"] = le_team.transform(input_data[\"opp_teamname\"])\n",
    "\n",
    "    return input_data\n",
    "\n",
    "\n",
    "input_data = preprocess(input_data, train_data)\n",
    "featured_data = preprocess(featured_data, train_data)"
   ]
  },
  {
   "cell_type": "code",
   "execution_count": 709,
   "metadata": {},
   "outputs": [],
   "source": [
    "from sklearn.preprocessing import MinMaxScaler\n",
    "\n",
    "\n",
    "def scale(input_data, featured_data):\n",
    "    scaler = MinMaxScaler()\n",
    "    numeric_cols = input_data.select_dtypes(\"number\").columns\n",
    "    \n",
    "    scaler.fit(featured_data[numeric_cols])\n",
    "    input_data[numeric_cols] = scaler.transform(input_data[numeric_cols])\n",
    "\n",
    "    return input_data\n",
    "\n",
    "\n",
    "input_data = scale(input_data, featured_data)\n",
    "cat_input_data = scale(cat_input_data, featured_data)\n",
    "cat_featured_data = scale(cat_featured_data, featured_data)"
   ]
  },
  {
   "cell_type": "code",
   "execution_count": 710,
   "metadata": {},
   "outputs": [],
   "source": [
    "import joblib\n",
    "import json\n",
    "from catboost import CatBoostClassifier, Pool\n",
    "\n",
    "stacking_model = joblib.load(\"output/stacking_0107.pkl\")\n",
    "\n",
    "with open(\"output/cat_features.json\", \"r\") as f:\n",
    "    cat_cols = json.load(f)\n",
    "\n",
    "cat_model = CatBoostClassifier()\n",
    "cat_model.load_model(\"output/cat_0107.cbm\")\n",
    "cat_input_data = Pool(cat_input_data, cat_features=cat_cols)"
   ]
  },
  {
   "cell_type": "code",
   "execution_count": 711,
   "metadata": {},
   "outputs": [],
   "source": [
    "pred_stacking = stacking_model.predict_proba(input_data)\n",
    "pred_cat = cat_model.predict_proba(cat_input_data)"
   ]
  },
  {
   "cell_type": "code",
   "execution_count": 712,
   "metadata": {},
   "outputs": [
    {
     "name": "stdout",
     "output_type": "stream",
     "text": [
      "Dplus KIA 승리 확률: 64.1%\n",
      "OKSavingsBank BRION 승리 확률: 35.9%\n"
     ]
    }
   ],
   "source": [
    "pred = (pred_stacking + pred_cat) / 2\n",
    "print(f\"{teamname} 승리 확률: {round(pred[0][1] * 100, 1)}%\")\n",
    "print(f\"{opp_teamname} 승리 확률: {round(pred[0][0] * 100, 1)}%\")"
   ]
  }
 ],
 "metadata": {
  "kernelspec": {
   "display_name": "Python 3",
   "language": "python",
   "name": "python3"
  },
  "language_info": {
   "codemirror_mode": {
    "name": "ipython",
    "version": 3
   },
   "file_extension": ".py",
   "mimetype": "text/x-python",
   "name": "python",
   "nbconvert_exporter": "python",
   "pygments_lexer": "ipython3",
   "version": "3.10.8"
  }
 },
 "nbformat": 4,
 "nbformat_minor": 2
}
