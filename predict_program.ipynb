{
 "cells": [
  {
   "cell_type": "code",
   "execution_count": 195,
   "metadata": {},
   "outputs": [],
   "source": [
    "import pandas as pd\n",
    "import numpy as np\n",
    "\n",
    "DATA_PATH = \"LoLesports_data/\"\n",
    "SEED = 42\n",
    "\n",
    "teams_train = pd.read_csv(f\"{DATA_PATH}teams_train.csv\")\n",
    "teams_test = pd.read_csv(f\"{DATA_PATH}teams_test.csv\")\n",
    "\n",
    "teams_train_target = pd.read_csv(f\"{DATA_PATH}teams_train_target.csv\")\n",
    "teams_test_target = pd.read_csv(f\"{DATA_PATH}teams_test_target.csv\")"
   ]
  },
  {
   "cell_type": "markdown",
   "metadata": {},
   "source": [
    "## 상대 팀 추가"
   ]
  },
  {
   "cell_type": "code",
   "execution_count": 196,
   "metadata": {},
   "outputs": [],
   "source": [
    "temp_opp_teams = teams_train.groupby(\"gameid\")[\"teamname\"].transform(lambda x: x.iloc[::-1].values).to_frame(\"opp_teamname\")\n",
    "teams_train = pd.concat([teams_train, temp_opp_teams], axis=1)\n",
    "temp_opp_teams = teams_test.groupby(\"gameid\")[\"teamname\"].transform(lambda x: x.iloc[::-1].values).to_frame(\"opp_teamname\")\n",
    "teams_test = pd.concat([teams_test, temp_opp_teams], axis=1)"
   ]
  },
  {
   "cell_type": "markdown",
   "metadata": {},
   "source": [
    "## 날짜 추가"
   ]
  },
  {
   "cell_type": "code",
   "execution_count": 197,
   "metadata": {},
   "outputs": [],
   "source": [
    "teams_train[\"date\"] = pd.to_datetime(teams_train[\"date\"])\n",
    "teams_test[\"date\"] = pd.to_datetime(teams_test[\"date\"])\n",
    "\n",
    "teams_train[\"year\"] = teams_train[\"date\"].dt.year\n",
    "teams_train[\"month\"] = teams_train[\"date\"].dt.month\n",
    "teams_train[\"day\"] = teams_train[\"date\"].dt.day\n",
    "\n",
    "teams_test[\"year\"] = teams_test[\"date\"].dt.year\n",
    "teams_test[\"month\"] = teams_test[\"date\"].dt.month\n",
    "teams_test[\"day\"] = teams_test[\"date\"].dt.day"
   ]
  },
  {
   "cell_type": "markdown",
   "metadata": {},
   "source": [
    "## 데이터 타입 변경"
   ]
  },
  {
   "cell_type": "code",
   "execution_count": 198,
   "metadata": {},
   "outputs": [],
   "source": [
    "cols = [\"league\", \"split\", \"teamname\", \"opp_teamname\", \"ban1\", \"ban2\", \"ban3\", \"ban4\", \"ban5\", \"pick1\", \"pick2\", \"pick3\", \"pick4\", \"pick5\"]\n",
    "\n",
    "teams_train[cols] = teams_train[cols].astype(\"category\")\n",
    "teams_test[cols] = teams_test[cols].astype(\"category\")"
   ]
  },
  {
   "cell_type": "markdown",
   "metadata": {},
   "source": [
    "# 예측 모델 로드 및 예측"
   ]
  },
  {
   "cell_type": "code",
   "execution_count": 199,
   "metadata": {},
   "outputs": [],
   "source": [
    "stats_columns = [\n",
    "    \"result\",\n",
    "    \"gamelength\",\n",
    "    \"kills\",\n",
    "    \"deaths\",\n",
    "    \"assists\",\n",
    "    \"firstblood\",\n",
    "    \"team kpm\",\n",
    "    \"ckpm\",\n",
    "    \"firstdragon\",\n",
    "    \"firstherald\",\n",
    "    \"void_grubs\",\n",
    "    \"firstbaron\",\n",
    "    \"firsttower\",\n",
    "    \"towers\",\n",
    "    \"firstmidtower\",\n",
    "    \"firsttothreetowers\",\n",
    "    \"turretplates\",\n",
    "    \"inhibitors\",\n",
    "    \"damagetochampions\",\n",
    "    \"dpm\",\n",
    "    \"damagetakenperminute\",\n",
    "    \"damagemitigatedperminute\",\n",
    "    \"wardsplaced\",\n",
    "    \"wpm\",\n",
    "    \"wardskilled\",\n",
    "    \"wcpm\",\n",
    "    \"controlwardsbought\",\n",
    "    \"visionscore\",\n",
    "    \"vspm\",\n",
    "]"
   ]
  },
  {
   "cell_type": "code",
   "execution_count": 200,
   "metadata": {},
   "outputs": [],
   "source": [
    "train_data = pd.concat([teams_train, teams_test], ignore_index=True)\n",
    "target_data = pd.concat([teams_train_target, teams_test_target], ignore_index=True)"
   ]
  },
  {
   "cell_type": "code",
   "execution_count": 201,
   "metadata": {},
   "outputs": [],
   "source": [
    "import joblib\n",
    "\n",
    "model1 = joblib.load(\"output/stacking_0107.pkl\")\n",
    "model2 = joblib.load(\"output/cat_0107.pkl\")"
   ]
  },
  {
   "cell_type": "markdown",
   "metadata": {},
   "source": [
    "## 입력 데이터 특성 추가"
   ]
  },
  {
   "cell_type": "code",
   "execution_count": 202,
   "metadata": {},
   "outputs": [],
   "source": [
    "teamname = \"Dplus KIA\"\n",
    "opp_teamname = \"OKSavingsBank BRION\"\n",
    "patch = 14.23\n",
    "league = \"LCK\"\n",
    "side = \"Blue\"\n",
    "year = 2024\n",
    "month = 12\n",
    "day = 8\n",
    "ban1 = \"Vi\"\n",
    "ban2 = \"Renekton\"\n",
    "ban3 = \"Skarner\"\n",
    "ban4 = \"Ashe\"\n",
    "ban5 = \"Kalista\"\n",
    "pick1 = \"K'Sante\"\n",
    "pick2 = \"Viego\"\n",
    "pick3 = \"Aurora\"\n",
    "pick4 = \"Varus\"\n",
    "pick5 = \"Maokai\"\n",
    "\n",
    "input_data = {\n",
    "    \"teamname\": teamname,\n",
    "    \"opp_teamname\": opp_teamname,\n",
    "    \"patch\": patch,\n",
    "    \"league\": league, \n",
    "    \"side\": side,\n",
    "    \"year\": year,\n",
    "    \"month\": month,\n",
    "    \"day\": day,\n",
    "    \"ban1\": ban1,\n",
    "    \"ban2\": ban2,\n",
    "    \"ban3\": ban3,\n",
    "    \"ban4\": ban4,\n",
    "    \"ban5\": ban5,\n",
    "    \"pick1\": pick1,\n",
    "    \"pick2\": pick2,\n",
    "    \"pick3\": pick3,\n",
    "    \"pick4\": pick4,\n",
    "    \"pick5\": pick5\n",
    "}"
   ]
  },
  {
   "cell_type": "code",
   "execution_count": 203,
   "metadata": {},
   "outputs": [],
   "source": [
    "input_team_data = train_data[train_data['teamname'] == teamname].sort_values(['year', 'month', 'day']).reset_index(drop=True)\n",
    "input_opp_data = train_data[train_data['teamname'] == opp_teamname].sort_values(['year', 'month', 'day']).reset_index(drop=True)\n",
    "\n",
    "recent10_stats = {}\n",
    "for col in stats_columns:\n",
    "    if len(input_team_data) > 0:\n",
    "        team_recent10 = train_data[train_data['teamname'] == teamname][col].rolling(window=10, min_periods=1).mean().iloc[-1]\n",
    "    else:\n",
    "        team_recent10 = 0.5 if col == 'result' else 0\n",
    "    recent10_stats[f'recent10_{col}'] = team_recent10\n",
    "    \n",
    "    if len(input_opp_data) > 0:\n",
    "        opp_recent10 = train_data[train_data['teamname'] == opp_teamname][col].rolling(window=10, min_periods=1).mean().iloc[-1]\n",
    "    else:\n",
    "        opp_recent10 = 0.5 if col == 'result' else 0\n",
    "    recent10_stats[f'opp_recent10_{col}'] = opp_recent10\n",
    "\n",
    "for feature in recent10_stats:\n",
    "    input_data[feature] = recent10_stats[feature]"
   ]
  },
  {
   "cell_type": "code",
   "execution_count": 204,
   "metadata": {},
   "outputs": [],
   "source": [
    "head_to_head = train_data[\n",
    "    ((train_data['teamname'] == teamname) & (train_data['opp_teamname'] == opp_teamname)) |\n",
    "    ((train_data['teamname'] == opp_teamname) & (train_data['opp_teamname'] == teamname))\n",
    "].sort_values(['year', 'month', 'day'])\n",
    "\n",
    "if len(head_to_head) > 0:\n",
    "    team_wins = head_to_head[\n",
    "        ((head_to_head['teamname'] == teamname) & (head_to_head['result'] == 1) |\n",
    "        (head_to_head['teamname'] == opp_teamname) & (head_to_head['result'] == 0))\n",
    "    ].shape[0]\n",
    "    h2h_winrate = team_wins / len(head_to_head)\n",
    "else:\n",
    "    h2h_winrate = 0.5\n",
    "\n",
    "input_data['h2h_winrate'] = h2h_winrate"
   ]
  },
  {
   "cell_type": "code",
   "execution_count": 205,
   "metadata": {},
   "outputs": [],
   "source": [
    "league_stats = {}\n",
    "\n",
    "team_league_games = train_data[\n",
    "    (train_data['teamname'] == teamname) & \n",
    "    (train_data['league'] == input_data['league'])\n",
    "]\n",
    "if len(team_league_games) > 0:\n",
    "    team_league_winrate = team_league_games['result'].mean()\n",
    "else:\n",
    "    team_league_winrate = 0.5\n",
    "\n",
    "opp_league_games = train_data[\n",
    "    (train_data['teamname'] == opp_teamname) & \n",
    "    (train_data['league'] == input_data['league'])\n",
    "]\n",
    "if len(opp_league_games) > 0:\n",
    "    opp_league_winrate = opp_league_games['result'].mean()\n",
    "else:\n",
    "    opp_league_winrate = 0.5\n",
    "\n",
    "input_data['league_winrate'] = team_league_winrate\n",
    "input_data['opp_league_winrate'] = opp_league_winrate"
   ]
  },
  {
   "cell_type": "code",
   "execution_count": 206,
   "metadata": {},
   "outputs": [
    {
     "data": {
      "text/html": [
       "<div>\n",
       "<style scoped>\n",
       "    .dataframe tbody tr th:only-of-type {\n",
       "        vertical-align: middle;\n",
       "    }\n",
       "\n",
       "    .dataframe tbody tr th {\n",
       "        vertical-align: top;\n",
       "    }\n",
       "\n",
       "    .dataframe thead th {\n",
       "        text-align: right;\n",
       "    }\n",
       "</style>\n",
       "<table border=\"1\" class=\"dataframe\">\n",
       "  <thead>\n",
       "    <tr style=\"text-align: right;\">\n",
       "      <th></th>\n",
       "      <th>teamname</th>\n",
       "      <th>opp_teamname</th>\n",
       "      <th>patch</th>\n",
       "      <th>league</th>\n",
       "      <th>side</th>\n",
       "      <th>year</th>\n",
       "      <th>month</th>\n",
       "      <th>day</th>\n",
       "      <th>ban1</th>\n",
       "      <th>ban2</th>\n",
       "      <th>...</th>\n",
       "      <th>opp_recent10_wcpm</th>\n",
       "      <th>recent10_controlwardsbought</th>\n",
       "      <th>opp_recent10_controlwardsbought</th>\n",
       "      <th>recent10_visionscore</th>\n",
       "      <th>opp_recent10_visionscore</th>\n",
       "      <th>recent10_vspm</th>\n",
       "      <th>opp_recent10_vspm</th>\n",
       "      <th>h2h_winrate</th>\n",
       "      <th>league_winrate</th>\n",
       "      <th>opp_league_winrate</th>\n",
       "    </tr>\n",
       "  </thead>\n",
       "  <tbody>\n",
       "    <tr>\n",
       "      <th>0</th>\n",
       "      <td>Dplus KIA</td>\n",
       "      <td>OKSavingsBank BRION</td>\n",
       "      <td>14.23</td>\n",
       "      <td>LCK</td>\n",
       "      <td>Blue</td>\n",
       "      <td>2024</td>\n",
       "      <td>12</td>\n",
       "      <td>8</td>\n",
       "      <td>Vi</td>\n",
       "      <td>Renekton</td>\n",
       "      <td>...</td>\n",
       "      <td>1.69032</td>\n",
       "      <td>57.7</td>\n",
       "      <td>45.2</td>\n",
       "      <td>319.4</td>\n",
       "      <td>281.2</td>\n",
       "      <td>9.00584</td>\n",
       "      <td>8.75083</td>\n",
       "      <td>0.8</td>\n",
       "      <td>0.573333</td>\n",
       "      <td>0.292308</td>\n",
       "    </tr>\n",
       "  </tbody>\n",
       "</table>\n",
       "<p>1 rows × 79 columns</p>\n",
       "</div>"
      ],
      "text/plain": [
       "    teamname         opp_teamname  patch league  side  year  month  day ban1  \\\n",
       "0  Dplus KIA  OKSavingsBank BRION  14.23    LCK  Blue  2024     12    8   Vi   \n",
       "\n",
       "       ban2  ... opp_recent10_wcpm recent10_controlwardsbought  \\\n",
       "0  Renekton  ...           1.69032                        57.7   \n",
       "\n",
       "  opp_recent10_controlwardsbought recent10_visionscore  \\\n",
       "0                            45.2                319.4   \n",
       "\n",
       "  opp_recent10_visionscore recent10_vspm opp_recent10_vspm h2h_winrate  \\\n",
       "0                    281.2       9.00584           8.75083         0.8   \n",
       "\n",
       "   league_winrate  opp_league_winrate  \n",
       "0        0.573333            0.292308  \n",
       "\n",
       "[1 rows x 79 columns]"
      ]
     },
     "execution_count": 206,
     "metadata": {},
     "output_type": "execute_result"
    }
   ],
   "source": [
    "input_data = pd.DataFrame([input_data.values()], columns=input_data.keys())\n",
    "input_data"
   ]
  },
  {
   "cell_type": "code",
   "execution_count": 169,
   "metadata": {},
   "outputs": [],
   "source": [
    "input_data[\"side\"] = input_data[\"side\"].map({\"Blue\": 0, \"Red\": 1})\n",
    "cat_input_data = input_data.copy()"
   ]
  },
  {
   "cell_type": "code",
   "execution_count": 170,
   "metadata": {},
   "outputs": [],
   "source": [
    "from sklearn.preprocessing import LabelEncoder\n",
    "from sklearn.preprocessing import OneHotEncoder\n",
    "\n",
    "def preprocess(input_data, train_data):\n",
    "    champion_columns_teams = ['ban1', 'ban2', 'ban3', 'ban4', 'ban5', 'pick1', 'pick2', 'pick3', 'pick4', 'pick5']\n",
    "\n",
    "    champions = sorted(train_data[champion_columns_teams].stack().unique())\n",
    "\n",
    "    champions_df = pd.DataFrame({'champion': champions})\n",
    "    champions_df = champions_df.dropna().reset_index(drop=True)\n",
    "\n",
    "    le = LabelEncoder()\n",
    "    champions_df['champion_encoded'] = le.fit_transform(champions_df['champion'])\n",
    "\n",
    "    for col in champion_columns_teams:\n",
    "        input_data[col] = le.transform(input_data[col])\n",
    "        \n",
    "    encoder = OneHotEncoder()\n",
    "    league_encoded = encoder.fit_transform(input_data[[\"league\"]]).toarray()\n",
    "    league_cols = [f\"league_{col}\" for col in encoder.categories_[0]]\n",
    "    input_data = pd.concat(\n",
    "        [input_data, pd.DataFrame(league_encoded, columns=league_cols)], axis=1\n",
    "    )\n",
    "    input_data.drop(\"league\", axis=1, inplace=True)\n",
    "\n",
    "    le_team = LabelEncoder()\n",
    "    all_team_names = pd.concat(\n",
    "        [\n",
    "            train_data[\"teamname\"],\n",
    "            train_data[\"opp_teamname\"],\n",
    "        ]\n",
    "    )\n",
    "    le_team.fit(all_team_names)\n",
    "\n",
    "    input_data[\"teamname\"] = le_team.transform(input_data[\"teamname\"])\n",
    "    input_data[\"opp_teamname\"] = le_team.transform(input_data[\"opp_teamname\"])\n",
    "    \n",
    "    return input_data\n",
    "\n",
    "input_data = preprocess(input_data, train_data)"
   ]
  },
  {
   "cell_type": "code",
   "execution_count": 155,
   "metadata": {},
   "outputs": [
    {
     "ename": "KeyError",
     "evalue": "\"['recent10_result', 'opp_recent10_result', 'recent10_gamelength', 'opp_recent10_gamelength', 'recent10_kills', 'opp_recent10_kills', 'recent10_deaths', 'opp_recent10_deaths', 'recent10_assists', 'opp_recent10_assists', 'recent10_firstblood', 'opp_recent10_firstblood', 'recent10_team kpm', 'opp_recent10_team kpm', 'recent10_ckpm', 'opp_recent10_ckpm', 'recent10_firstdragon', 'opp_recent10_firstdragon', 'recent10_firstherald', 'opp_recent10_firstherald', 'recent10_void_grubs', 'opp_recent10_void_grubs', 'recent10_firstbaron', 'opp_recent10_firstbaron', 'recent10_firsttower', 'opp_recent10_firsttower', 'recent10_towers', 'opp_recent10_towers', 'recent10_firstmidtower', 'opp_recent10_firstmidtower', 'recent10_firsttothreetowers', 'opp_recent10_firsttothreetowers', 'recent10_turretplates', 'opp_recent10_turretplates', 'recent10_inhibitors', 'opp_recent10_inhibitors', 'recent10_damagetochampions', 'opp_recent10_damagetochampions', 'recent10_dpm', 'opp_recent10_dpm', 'recent10_damagetakenperminute', 'opp_recent10_damagetakenperminute', 'recent10_damagemitigatedperminute', 'opp_recent10_damagemitigatedperminute', 'recent10_wardsplaced', 'opp_recent10_wardsplaced', 'recent10_wpm', 'opp_recent10_wpm', 'recent10_wardskilled', 'opp_recent10_wardskilled', 'recent10_wcpm', 'opp_recent10_wcpm', 'recent10_controlwardsbought', 'opp_recent10_controlwardsbought', 'recent10_visionscore', 'opp_recent10_visionscore', 'recent10_vspm', 'opp_recent10_vspm', 'h2h_winrate', 'league_winrate', 'opp_league_winrate', 'league_LCK'] not in index\"",
     "output_type": "error",
     "traceback": [
      "\u001b[1;31m---------------------------------------------------------------------------\u001b[0m",
      "\u001b[1;31mKeyError\u001b[0m                                  Traceback (most recent call last)",
      "Cell \u001b[1;32mIn[155], line 14\u001b[0m\n\u001b[0;32m      9\u001b[0m     input_data[numeric_cols] \u001b[38;5;241m=\u001b[39m scaler\u001b[38;5;241m.\u001b[39mtransform(input_data[numeric_cols])\n\u001b[0;32m     11\u001b[0m     \u001b[38;5;28;01mreturn\u001b[39;00m input_data\n\u001b[1;32m---> 14\u001b[0m input_data \u001b[38;5;241m=\u001b[39m \u001b[43mscale\u001b[49m\u001b[43m(\u001b[49m\u001b[43minput_data\u001b[49m\u001b[43m,\u001b[49m\u001b[43m \u001b[49m\u001b[43mtrain_data\u001b[49m\u001b[43m)\u001b[49m\n",
      "Cell \u001b[1;32mIn[155], line 8\u001b[0m, in \u001b[0;36mscale\u001b[1;34m(input_data, train_data)\u001b[0m\n\u001b[0;32m      5\u001b[0m scaler \u001b[38;5;241m=\u001b[39m MinMaxScaler()\n\u001b[0;32m      6\u001b[0m numeric_cols \u001b[38;5;241m=\u001b[39m input_data\u001b[38;5;241m.\u001b[39mselect_dtypes(\u001b[38;5;124m\"\u001b[39m\u001b[38;5;124mnumber\u001b[39m\u001b[38;5;124m\"\u001b[39m)\u001b[38;5;241m.\u001b[39mcolumns\n\u001b[1;32m----> 8\u001b[0m scaler\u001b[38;5;241m.\u001b[39mfit(\u001b[43mtrain_data\u001b[49m\u001b[43m[\u001b[49m\u001b[43mnumeric_cols\u001b[49m\u001b[43m]\u001b[49m)\n\u001b[0;32m      9\u001b[0m input_data[numeric_cols] \u001b[38;5;241m=\u001b[39m scaler\u001b[38;5;241m.\u001b[39mtransform(input_data[numeric_cols])\n\u001b[0;32m     11\u001b[0m \u001b[38;5;28;01mreturn\u001b[39;00m input_data\n",
      "File \u001b[1;32mc:\\Users\\kwon3\\AppData\\Local\\Programs\\Python\\Python310\\lib\\site-packages\\pandas\\core\\frame.py:4108\u001b[0m, in \u001b[0;36mDataFrame.__getitem__\u001b[1;34m(self, key)\u001b[0m\n\u001b[0;32m   4106\u001b[0m     \u001b[38;5;28;01mif\u001b[39;00m is_iterator(key):\n\u001b[0;32m   4107\u001b[0m         key \u001b[38;5;241m=\u001b[39m \u001b[38;5;28mlist\u001b[39m(key)\n\u001b[1;32m-> 4108\u001b[0m     indexer \u001b[38;5;241m=\u001b[39m \u001b[38;5;28;43mself\u001b[39;49m\u001b[38;5;241;43m.\u001b[39;49m\u001b[43mcolumns\u001b[49m\u001b[38;5;241;43m.\u001b[39;49m\u001b[43m_get_indexer_strict\u001b[49m\u001b[43m(\u001b[49m\u001b[43mkey\u001b[49m\u001b[43m,\u001b[49m\u001b[43m \u001b[49m\u001b[38;5;124;43m\"\u001b[39;49m\u001b[38;5;124;43mcolumns\u001b[39;49m\u001b[38;5;124;43m\"\u001b[39;49m\u001b[43m)\u001b[49m[\u001b[38;5;241m1\u001b[39m]\n\u001b[0;32m   4110\u001b[0m \u001b[38;5;66;03m# take() does not accept boolean indexers\u001b[39;00m\n\u001b[0;32m   4111\u001b[0m \u001b[38;5;28;01mif\u001b[39;00m \u001b[38;5;28mgetattr\u001b[39m(indexer, \u001b[38;5;124m\"\u001b[39m\u001b[38;5;124mdtype\u001b[39m\u001b[38;5;124m\"\u001b[39m, \u001b[38;5;28;01mNone\u001b[39;00m) \u001b[38;5;241m==\u001b[39m \u001b[38;5;28mbool\u001b[39m:\n",
      "File \u001b[1;32mc:\\Users\\kwon3\\AppData\\Local\\Programs\\Python\\Python310\\lib\\site-packages\\pandas\\core\\indexes\\base.py:6200\u001b[0m, in \u001b[0;36mIndex._get_indexer_strict\u001b[1;34m(self, key, axis_name)\u001b[0m\n\u001b[0;32m   6197\u001b[0m \u001b[38;5;28;01melse\u001b[39;00m:\n\u001b[0;32m   6198\u001b[0m     keyarr, indexer, new_indexer \u001b[38;5;241m=\u001b[39m \u001b[38;5;28mself\u001b[39m\u001b[38;5;241m.\u001b[39m_reindex_non_unique(keyarr)\n\u001b[1;32m-> 6200\u001b[0m \u001b[38;5;28;43mself\u001b[39;49m\u001b[38;5;241;43m.\u001b[39;49m\u001b[43m_raise_if_missing\u001b[49m\u001b[43m(\u001b[49m\u001b[43mkeyarr\u001b[49m\u001b[43m,\u001b[49m\u001b[43m \u001b[49m\u001b[43mindexer\u001b[49m\u001b[43m,\u001b[49m\u001b[43m \u001b[49m\u001b[43maxis_name\u001b[49m\u001b[43m)\u001b[49m\n\u001b[0;32m   6202\u001b[0m keyarr \u001b[38;5;241m=\u001b[39m \u001b[38;5;28mself\u001b[39m\u001b[38;5;241m.\u001b[39mtake(indexer)\n\u001b[0;32m   6203\u001b[0m \u001b[38;5;28;01mif\u001b[39;00m \u001b[38;5;28misinstance\u001b[39m(key, Index):\n\u001b[0;32m   6204\u001b[0m     \u001b[38;5;66;03m# GH 42790 - Preserve name from an Index\u001b[39;00m\n",
      "File \u001b[1;32mc:\\Users\\kwon3\\AppData\\Local\\Programs\\Python\\Python310\\lib\\site-packages\\pandas\\core\\indexes\\base.py:6252\u001b[0m, in \u001b[0;36mIndex._raise_if_missing\u001b[1;34m(self, key, indexer, axis_name)\u001b[0m\n\u001b[0;32m   6249\u001b[0m     \u001b[38;5;28;01mraise\u001b[39;00m \u001b[38;5;167;01mKeyError\u001b[39;00m(\u001b[38;5;124mf\u001b[39m\u001b[38;5;124m\"\u001b[39m\u001b[38;5;124mNone of [\u001b[39m\u001b[38;5;132;01m{\u001b[39;00mkey\u001b[38;5;132;01m}\u001b[39;00m\u001b[38;5;124m] are in the [\u001b[39m\u001b[38;5;132;01m{\u001b[39;00maxis_name\u001b[38;5;132;01m}\u001b[39;00m\u001b[38;5;124m]\u001b[39m\u001b[38;5;124m\"\u001b[39m)\n\u001b[0;32m   6251\u001b[0m not_found \u001b[38;5;241m=\u001b[39m \u001b[38;5;28mlist\u001b[39m(ensure_index(key)[missing_mask\u001b[38;5;241m.\u001b[39mnonzero()[\u001b[38;5;241m0\u001b[39m]]\u001b[38;5;241m.\u001b[39munique())\n\u001b[1;32m-> 6252\u001b[0m \u001b[38;5;28;01mraise\u001b[39;00m \u001b[38;5;167;01mKeyError\u001b[39;00m(\u001b[38;5;124mf\u001b[39m\u001b[38;5;124m\"\u001b[39m\u001b[38;5;132;01m{\u001b[39;00mnot_found\u001b[38;5;132;01m}\u001b[39;00m\u001b[38;5;124m not in index\u001b[39m\u001b[38;5;124m\"\u001b[39m)\n",
      "\u001b[1;31mKeyError\u001b[0m: \"['recent10_result', 'opp_recent10_result', 'recent10_gamelength', 'opp_recent10_gamelength', 'recent10_kills', 'opp_recent10_kills', 'recent10_deaths', 'opp_recent10_deaths', 'recent10_assists', 'opp_recent10_assists', 'recent10_firstblood', 'opp_recent10_firstblood', 'recent10_team kpm', 'opp_recent10_team kpm', 'recent10_ckpm', 'opp_recent10_ckpm', 'recent10_firstdragon', 'opp_recent10_firstdragon', 'recent10_firstherald', 'opp_recent10_firstherald', 'recent10_void_grubs', 'opp_recent10_void_grubs', 'recent10_firstbaron', 'opp_recent10_firstbaron', 'recent10_firsttower', 'opp_recent10_firsttower', 'recent10_towers', 'opp_recent10_towers', 'recent10_firstmidtower', 'opp_recent10_firstmidtower', 'recent10_firsttothreetowers', 'opp_recent10_firsttothreetowers', 'recent10_turretplates', 'opp_recent10_turretplates', 'recent10_inhibitors', 'opp_recent10_inhibitors', 'recent10_damagetochampions', 'opp_recent10_damagetochampions', 'recent10_dpm', 'opp_recent10_dpm', 'recent10_damagetakenperminute', 'opp_recent10_damagetakenperminute', 'recent10_damagemitigatedperminute', 'opp_recent10_damagemitigatedperminute', 'recent10_wardsplaced', 'opp_recent10_wardsplaced', 'recent10_wpm', 'opp_recent10_wpm', 'recent10_wardskilled', 'opp_recent10_wardskilled', 'recent10_wcpm', 'opp_recent10_wcpm', 'recent10_controlwardsbought', 'opp_recent10_controlwardsbought', 'recent10_visionscore', 'opp_recent10_visionscore', 'recent10_vspm', 'opp_recent10_vspm', 'h2h_winrate', 'league_winrate', 'opp_league_winrate', 'league_LCK'] not in index\""
     ]
    }
   ],
   "source": [
    "from sklearn.preprocessing import MinMaxScaler\n",
    "\n",
    "\n",
    "def scale(input_data, train_data):\n",
    "    scaler = MinMaxScaler()\n",
    "    numeric_cols = input_data.select_dtypes(\"number\").columns\n",
    "\n",
    "    scaler.fit(train_data[numeric_cols])\n",
    "    input_data[numeric_cols] = scaler.transform(input_data[numeric_cols])\n",
    "    \n",
    "    return input_data\n",
    "\n",
    "\n",
    "input_data = scale(input_data, train_data)"
   ]
  }
 ],
 "metadata": {
  "kernelspec": {
   "display_name": "Python 3",
   "language": "python",
   "name": "python3"
  },
  "language_info": {
   "codemirror_mode": {
    "name": "ipython",
    "version": 3
   },
   "file_extension": ".py",
   "mimetype": "text/x-python",
   "name": "python",
   "nbconvert_exporter": "python",
   "pygments_lexer": "ipython3",
   "version": "3.10.8"
  }
 },
 "nbformat": 4,
 "nbformat_minor": 2
}
