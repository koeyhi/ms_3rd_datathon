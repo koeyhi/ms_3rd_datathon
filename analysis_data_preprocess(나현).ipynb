{
  "cells": [
    {
      "cell_type": "markdown",
      "metadata": {
        "id": "1ByeaL7UlQup"
      },
      "source": [
        "# 데이터 불러오기"
      ]
    },
    {
      "cell_type": "code",
      "execution_count": 5,
      "metadata": {
        "colab": {
          "base_uri": "https://localhost:8080/"
        },
        "id": "2_iVFSl0lNMP",
        "outputId": "6e647aab-bd23-41fc-9fba-ba1ab4af41c4"
      },
      "outputs": [],
      "source": [
        "DATA_PATH = \"LoLesports_data/\"\n",
        "SEED = 42"
      ]
    },
    {
      "cell_type": "code",
      "execution_count": 6,
      "metadata": {
        "id": "HtnMD4zzl0Xm"
      },
      "outputs": [],
      "source": [
        "import pandas as pd\n",
        "import numpy as np"
      ]
    },
    {
      "cell_type": "code",
      "execution_count": 7,
      "metadata": {
        "id": "mUMu17Xxl3Y3"
      },
      "outputs": [],
      "source": [
        "team_train_tr = pd.read_csv(f\"{DATA_PATH}teams_train(analyze).csv\")\n",
        "team_train_target = pd.read_csv(f\"{DATA_PATH}teams_train_target.csv\")\n",
        "team_test_tr = pd.read_csv(f\"{DATA_PATH}teams_test(analyze).csv\")\n",
        "\n",
        "player_train_tr = pd.read_csv(f\"{DATA_PATH}players_train(analyze).csv\")\n",
        "player_test_tr = pd.read_csv(f\"{DATA_PATH}players_test(analyze).csv\")"
      ]
    },
    {
      "cell_type": "code",
      "execution_count": 8,
      "metadata": {
        "colab": {
          "base_uri": "https://localhost:8080/"
        },
        "id": "POME20HgmGG6",
        "outputId": "eef509eb-95a8-442f-a183-8d76f3a72282"
      },
      "outputs": [
        {
          "data": {
            "text/plain": [
              "((10000, 156), (2334, 111), (50000, 87), (11670, 87))"
            ]
          },
          "execution_count": 8,
          "metadata": {},
          "output_type": "execute_result"
        }
      ],
      "source": [
        "team_train_tr.shape, team_test_tr.shape, player_train_tr.shape, player_test_tr.shape"
      ]
    },
    {
      "cell_type": "code",
      "execution_count": 9,
      "metadata": {
        "colab": {
          "base_uri": "https://localhost:8080/"
        },
        "id": "EQwta_hupaE4",
        "outputId": "ca61ce48-674f-4ee8-f7a2-bd98eaf61de4"
      },
      "outputs": [
        {
          "data": {
            "text/plain": [
              "(10000, 3)"
            ]
          },
          "execution_count": 9,
          "metadata": {},
          "output_type": "execute_result"
        }
      ],
      "source": [
        "team_train_target.shape"
      ]
    },
    {
      "cell_type": "code",
      "execution_count": 10,
      "metadata": {
        "colab": {
          "base_uri": "https://localhost:8080/"
        },
        "id": "ZPNPhtR6VE6U",
        "outputId": "89bbef0a-79d8-42c3-a049-7cb555b06bb1"
      },
      "outputs": [
        {
          "data": {
            "text/plain": [
              "array(['Hanwha Life Esports', 'Kwangdong Freecs', 'KT Rolster',\n",
              "       'Dplus KIA', 'Gen.G', 'T1', 'Nongshim RedForce', 'BNK FEARX',\n",
              "       'OKSavingsBank BRION', 'DRX'], dtype=object)"
            ]
          },
          "execution_count": 10,
          "metadata": {},
          "output_type": "execute_result"
        }
      ],
      "source": [
        "lck_teams = team_test_tr[team_test_tr['league'] == 'LCK']['teamname'].unique()\n",
        "lck_teams"
      ]
    },
    {
      "cell_type": "markdown",
      "metadata": {
        "id": "iaTP984FlUkr"
      },
      "source": [
        "# 데이터 전처리"
      ]
    },
    {
      "cell_type": "markdown",
      "metadata": {
        "id": "TEo6BzMwnuqk"
      },
      "source": [
        "##  team"
      ]
    },
    {
      "cell_type": "code",
      "execution_count": 11,
      "metadata": {
        "id": "G0fHP8jhlfZ9"
      },
      "outputs": [],
      "source": [
        "drop_list_team = [\n",
        "    \"participantid\",\n",
        "    \"playername\",\n",
        "    'position',\n",
        "    \"champion\",\n",
        "    \"teamkills\",\n",
        "    \"teamdeaths\",\n",
        "    \"firstbloodkill\",\n",
        "    \"firstbloodassist\",\n",
        "    \"firstbloodvictim\",\n",
        "    \"dragons (type unknown)\",\n",
        "    \"damageshare\",\n",
        "    \"earnedgoldshare\",\n",
        "    \"total cs\",\n",
        "    \"monsterkillsownjungle\",\n",
        "    \"monsterkillsenemyjungle\",\n",
        "    \"goldat20\",\n",
        "    \"xpat20\",\n",
        "    \"csat20\",\n",
        "    \"opp_goldat20\",\n",
        "    \"opp_xpat20\",\n",
        "    \"opp_csat20\",\n",
        "    \"golddiffat20\",\n",
        "    \"xpdiffat20\",\n",
        "    \"csdiffat20\",\n",
        "    \"killsat20\",\n",
        "    \"assistsat20\",\n",
        "    \"deathsat20\",\n",
        "    \"opp_killsat20\",\n",
        "    \"opp_assistsat20\",\n",
        "    \"opp_deathsat20\",\n",
        "    \"goldat25\",\n",
        "    \"xpat25\",\n",
        "    \"csat25\",\n",
        "    \"opp_goldat25\",\n",
        "    \"opp_xpat25\",\n",
        "    \"opp_csat25\",\n",
        "    \"golddiffat25\",\n",
        "    \"xpdiffat25\",\n",
        "    \"csdiffat25\",\n",
        "    \"killsat25\",\n",
        "    \"assistsat25\",\n",
        "    \"deathsat25\",\n",
        "    \"opp_killsat25\",\n",
        "    \"opp_assistsat25\",\n",
        "    \"opp_deathsat25\"\n",
        "]\n",
        "\n",
        "team_train = team_train_tr.drop(columns=drop_list_team)\n",
        "team_test = team_test_tr.copy()"
      ]
    },
    {
      "cell_type": "code",
      "execution_count": 12,
      "metadata": {
        "id": "pqTT5UbZn0Df"
      },
      "outputs": [],
      "source": [
        "fill_zero_cols = [\n",
        "    \"void_grubs\",\n",
        "    \"opp_void_grubs\",\n",
        "]\n",
        "\n",
        "fill_unknown_cols = [\n",
        "    \"split\",\n",
        "    \"ban1\",\n",
        "    \"ban2\",\n",
        "    \"ban3\",\n",
        "    \"ban4\",\n",
        "    \"ban5\",\n",
        "]\n",
        "\n",
        "team_train[fill_zero_cols] = team_train[fill_zero_cols].fillna(0)\n",
        "team_test[fill_zero_cols] = team_test[fill_zero_cols].fillna(0)\n",
        "\n",
        "team_train[fill_unknown_cols] = team_train[fill_unknown_cols].fillna(\"unknown\")\n",
        "team_test[fill_unknown_cols] = team_test[fill_unknown_cols].fillna(\"unknown\")\n",
        "\n",
        "team_train.dropna(subset=['pick1'], inplace=True)\n",
        "team_test.dropna(subset=['pick1'], inplace=True)"
      ]
    },
    {
      "cell_type": "code",
      "execution_count": null,
      "metadata": {
        "id": "lHJFi2EYn36T"
      },
      "outputs": [],
      "source": [
        "lpl_team = [\n",
        "    \"Anyone's Legend\",\n",
        "    \"Bilibili Gaming\",\n",
        "    \"EDward Gaming\",\n",
        "    \"FunPlus Phoenix\",\n",
        "    \"Invictus Gaming\",\n",
        "    \"JD Gaming\",\n",
        "    \"LGD Gaming\",\n",
        "    \"LNG Esports\",\n",
        "    \"Oh My God\",\n",
        "    \"Rare Atom\",\n",
        "    \"Royal Never Give Up\",\n",
        "    \"Team WE\",\n",
        "    \"Top Esports\",\n",
        "    \"ThunderTalk Gaming\",\n",
        "    \"Ultra Prime\",\n",
        "    \"Weibo Gaming\",\n",
        "    \"Ninjas in Pyjamas\"\n",
        "]"
      ]
    },
    {
      "cell_type": "code",
      "execution_count": null,
      "metadata": {
        "id": "2ZGHrGhFqLWs"
      },
      "outputs": [],
      "source": [
        "missing_columns = team_train.columns[team_train.isnull().sum() > 0]\n",
        "null_samples = team_train[team_train[missing_columns].isnull().any(axis=1)]\n",
        "\n",
        "for idx, row in null_samples.iterrows():\n",
        "    team_history = team_train[\n",
        "        (team_train[\"teamname\"] == row[\"teamname\"])\n",
        "        & (team_train[\"gameid\"] < row[\"gameid\"])\n",
        "    ].sort_values(\"gameid\", ascending=False)\n",
        "\n",
        "    for col in missing_columns:\n",
        "        if pd.isnull(row[col]):\n",
        "            if row[\"teamname\"] in lpl_team:\n",
        "                # LPL 팀인 경우 LCK 평균으로 채움\n",
        "                lck_mean = team_train[team_train[\"league\"] == \"LCK\"][col].mean()\n",
        "                team_train.loc[idx, col] = lck_mean\n",
        "            else:\n",
        "                # LPL 팀이 아닌 경우 해당 팀의 이전 5경기 평균으로 채움\n",
        "                prev_5_mean = team_history[col].head(5).mean()\n",
        "                if pd.notnull(prev_5_mean):\n",
        "                    team_train.loc[idx, col] = prev_5_mean\n",
        "                else:\n",
        "                    # 이전 5경기 데이터가 없는 경우 해당 팀의 전체 평균으로 채움\n",
        "                    team_mean = team_train[team_train[\"teamname\"] == row[\"teamname\"]][col].mean()\n",
        "                    team_train.loc[idx, col] = team_mean"
      ]
    },
    {
      "cell_type": "code",
      "execution_count": null,
      "metadata": {
        "colab": {
          "base_uri": "https://localhost:8080/"
        },
        "id": "gxVYqyEk8XmU",
        "outputId": "929137fe-2d3e-4ba6-9f4d-69ea0c037159"
      },
      "outputs": [
        {
          "data": {
            "text/plain": [
              "0"
            ]
          },
          "execution_count": 54,
          "metadata": {},
          "output_type": "execute_result"
        }
      ],
      "source": [
        "team_train.isnull().sum().sum()"
      ]
    },
    {
      "cell_type": "code",
      "execution_count": null,
      "metadata": {
        "id": "BF04Rkd89ABw"
      },
      "outputs": [],
      "source": [
        "missing_columns = team_test.columns[team_test.isnull().sum() > 0]\n",
        "null_samples = team_test[team_test[missing_columns].isnull().any(axis=1)]\n",
        "\n",
        "for idx, row in null_samples.iterrows():\n",
        "    team_history = team_train[\n",
        "        (team_train[\"teamname\"] == row[\"teamname\"])\n",
        "        & (team_train[\"gameid\"] < row[\"gameid\"])\n",
        "    ].sort_values(\"gameid\", ascending=False)\n",
        "\n",
        "    for col in missing_columns:\n",
        "        if pd.isnull(row[col]):\n",
        "            if row[\"teamname\"] in lpl_team:\n",
        "                # LPL 팀인 경우 학습 데이터의 LCK 평균으로 채움\n",
        "                lck_mean = team_train[team_train[\"league\"] == \"LCK\"][col].mean()\n",
        "                team_test.loc[idx, col] = lck_mean\n",
        "            else:\n",
        "                # LPL 팀이 아닌 경우 학습 데이터에서 해당 팀의 이전 5경기 평균으로 채움\n",
        "                prev_5_mean = team_history[col].head(5).mean()\n",
        "                if pd.notnull(prev_5_mean):\n",
        "                    team_test.loc[idx, col] = prev_5_mean\n",
        "                else:\n",
        "                    # 이전 5경기 데이터가 없는 경우 학습 데이터에서 해당 팀의 전체 평균으로 채움\n",
        "                    team_mean = team_train[team_train[\"teamname\"] == row[\"teamname\"]][col].mean()\n",
        "                    team_test.loc[idx, col] = team_mean"
      ]
    },
    {
      "cell_type": "code",
      "execution_count": null,
      "metadata": {
        "colab": {
          "base_uri": "https://localhost:8080/"
        },
        "id": "PBMpSBuz9jOz",
        "outputId": "df032c43-c0e9-4e45-a57c-a14b4e84dce4"
      },
      "outputs": [
        {
          "data": {
            "text/plain": [
              "0"
            ]
          },
          "execution_count": 56,
          "metadata": {},
          "output_type": "execute_result"
        }
      ],
      "source": [
        "team_test.isnull().sum().sum()"
      ]
    },
    {
      "cell_type": "code",
      "execution_count": null,
      "metadata": {
        "colab": {
          "base_uri": "https://localhost:8080/"
        },
        "id": "mz1_wgXOkNUV",
        "outputId": "4c27fb55-ee5d-43d7-ee3d-03812fcf1d36"
      },
      "outputs": [
        {
          "data": {
            "text/plain": [
              "((9913, 111), (2324, 111))"
            ]
          },
          "execution_count": 57,
          "metadata": {},
          "output_type": "execute_result"
        }
      ],
      "source": [
        "team_train.shape, team_test.shape"
      ]
    },
    {
      "cell_type": "markdown",
      "metadata": {
        "id": "LqiMQeTQoJd6"
      },
      "source": [
        "## player"
      ]
    },
    {
      "cell_type": "code",
      "execution_count": null,
      "metadata": {
        "id": "YA8VTE8UWkgf"
      },
      "outputs": [],
      "source": [
        "player_train = player_train_tr.copy()\n",
        "player_test = player_test_tr.copy()"
      ]
    },
    {
      "cell_type": "code",
      "execution_count": null,
      "metadata": {
        "id": "_jI_P2FKXo8t"
      },
      "outputs": [],
      "source": [
        "fill_unknown_cols = [\n",
        "    \"split\",\n",
        "    \"ban1\",\n",
        "    \"ban2\",\n",
        "    \"ban3\",\n",
        "    \"ban4\",\n",
        "    \"ban5\",\n",
        "]\n",
        "\n",
        "player_train[fill_unknown_cols] = player_train[fill_unknown_cols].fillna(\"unknown\")\n",
        "player_test[fill_unknown_cols] = player_test[fill_unknown_cols].fillna(\"unknown\")\n"
      ]
    },
    {
      "cell_type": "code",
      "execution_count": null,
      "metadata": {
        "colab": {
          "base_uri": "https://localhost:8080/"
        },
        "id": "YUOiwPSRCFdp",
        "outputId": "836124e7-ac9c-4205-b9a6-0ecbebfc059a"
      },
      "outputs": [
        {
          "data": {
            "text/plain": [
              "((50000, 87), (11670, 87))"
            ]
          },
          "execution_count": 60,
          "metadata": {},
          "output_type": "execute_result"
        }
      ],
      "source": [
        "player_train.shape, player_test.shape"
      ]
    },
    {
      "cell_type": "code",
      "execution_count": null,
      "metadata": {
        "id": "bxqRcEmUoTOR"
      },
      "outputs": [],
      "source": [
        "missing_columns = player_train.columns[player_train.isnull().sum() > 0]\n",
        "null_samples = player_train[player_train[missing_columns].isnull().any(axis=1)]\n",
        "\n",
        "for idx, row in null_samples.iterrows():\n",
        "    player_history = player_train[\n",
        "        (player_train[\"playername\"] == row[\"playername\"])\n",
        "        & (player_train[\"gameid\"] < row[\"gameid\"])\n",
        "    ].sort_values(\"gameid\", ascending=False)\n",
        "\n",
        "    for col in missing_columns:\n",
        "        if pd.isnull(row[col]):\n",
        "            prev_5_mean = player_history[col].head(5).mean()\n",
        "            if pd.notnull(prev_5_mean):\n",
        "                player_train.loc[idx, col] = prev_5_mean\n",
        "            else:\n",
        "                position_mean = player_train[\n",
        "                    (player_train[\"position\"] == row[\"position\"])\n",
        "                ][col].mean()\n",
        "                player_train.loc[idx, col] = position_mean"
      ]
    },
    {
      "cell_type": "code",
      "execution_count": null,
      "metadata": {
        "colab": {
          "base_uri": "https://localhost:8080/"
        },
        "id": "aqIkg-ODIDB8",
        "outputId": "6496e40a-3397-4b15-f367-4b237fa2f6ce"
      },
      "outputs": [
        {
          "data": {
            "text/plain": [
              "0"
            ]
          },
          "execution_count": 62,
          "metadata": {},
          "output_type": "execute_result"
        }
      ],
      "source": [
        "player_train.isnull().sum().sum()"
      ]
    },
    {
      "cell_type": "code",
      "execution_count": null,
      "metadata": {
        "id": "n1DmgG5GIJ_j"
      },
      "outputs": [],
      "source": [
        "missing_columns = player_test.columns[player_test.isnull().sum() > 0]\n",
        "null_samples =  player_test[player_test[missing_columns].isnull().any(axis=1)]\n",
        "\n",
        "for idx, row in null_samples.iterrows():\n",
        "    player_history = player_train[\n",
        "        (player_train[\"playername\"] == row[\"playername\"])\n",
        "        & (player_train[\"gameid\"] < row[\"gameid\"])\n",
        "    ].sort_values(\"gameid\", ascending=False)\n",
        "\n",
        "    for col in missing_columns:\n",
        "        if pd.isnull(row[col]):\n",
        "            prev_5_mean = player_history[col].head(5).mean()\n",
        "            if pd.notnull(prev_5_mean):\n",
        "                 player_test.loc[idx, col] = prev_5_mean\n",
        "            else:\n",
        "                position_mean = player_train[\n",
        "                    (player_train[\"position\"] == row[\"position\"])\n",
        "                ][col].mean()\n",
        "                player_test.loc[idx, col] = position_mean"
      ]
    },
    {
      "cell_type": "code",
      "execution_count": null,
      "metadata": {
        "colab": {
          "base_uri": "https://localhost:8080/"
        },
        "id": "6w9OpSH7IneL",
        "outputId": "e1421b37-d3e0-44f2-fe5b-31336682cd1f"
      },
      "outputs": [
        {
          "data": {
            "text/plain": [
              "0"
            ]
          },
          "execution_count": 64,
          "metadata": {},
          "output_type": "execute_result"
        }
      ],
      "source": [
        "player_test.isnull().sum().sum()"
      ]
    },
    {
      "cell_type": "code",
      "execution_count": null,
      "metadata": {
        "colab": {
          "base_uri": "https://localhost:8080/"
        },
        "id": "MdICnOjZoLi8",
        "outputId": "7b6b5973-4ba3-4312-d5db-28593cf53fbf"
      },
      "outputs": [
        {
          "data": {
            "text/plain": [
              "((50000, 87), (11670, 87))"
            ]
          },
          "execution_count": 65,
          "metadata": {},
          "output_type": "execute_result"
        }
      ],
      "source": [
        "player_train.shape, player_test.shape"
      ]
    },
    {
      "cell_type": "markdown",
      "metadata": {
        "id": "R75iyEGklYPb"
      },
      "source": [
        "# 특성추가"
      ]
    },
    {
      "cell_type": "markdown",
      "metadata": {
        "id": "fbGAd-PdllzO"
      },
      "source": [
        "## team"
      ]
    },
    {
      "cell_type": "code",
      "execution_count": null,
      "metadata": {
        "id": "3MOVoVkIEfhB"
      },
      "outputs": [],
      "source": [
        "team_train[\"date\"] = pd.to_datetime(team_train[\"date\"])\n",
        "team_test[\"date\"] = pd.to_datetime(team_test[\"date\"])\n",
        "\n",
        "team_train[\"year\"] = team_train[\"date\"].dt.year\n",
        "team_test[\"year\"] = team_test[\"date\"].dt.year"
      ]
    },
    {
      "cell_type": "code",
      "execution_count": null,
      "metadata": {
        "colab": {
          "base_uri": "https://localhost:8080/"
        },
        "id": "xiRAnK0ucocl",
        "outputId": "29b3477a-a698-4539-958e-b5534e94f390"
      },
      "outputs": [
        {
          "data": {
            "text/plain": [
              "((9913, 112), (2324, 112))"
            ]
          },
          "execution_count": 67,
          "metadata": {},
          "output_type": "execute_result"
        }
      ],
      "source": [
        "team_train.shape, team_test.shape"
      ]
    },
    {
      "cell_type": "markdown",
      "metadata": {
        "id": "2-tItIFOln9m"
      },
      "source": [
        "## player"
      ]
    },
    {
      "cell_type": "code",
      "execution_count": null,
      "metadata": {
        "colab": {
          "base_uri": "https://localhost:8080/",
          "height": 423
        },
        "id": "A-Bl1aFgUnan",
        "outputId": "bfbee40e-fc51-4d6c-def2-586181a221f5"
      },
      "outputs": [
        {
          "data": {
            "application/vnd.google.colaboratory.intrinsic+json": {
              "summary": "{\n  \"name\": \"player_train_game_kda\",\n  \"rows\": 50000,\n  \"fields\": [\n    {\n      \"column\": \"gameid\",\n      \"properties\": {\n        \"dtype\": \"category\",\n        \"num_unique_values\": 5043,\n        \"samples\": [\n          \"LOLTMNT04_32863\",\n          \"ESPORTSTMNT05_3090676\",\n          \"ESPORTSTMNT06_2470076\"\n        ],\n        \"semantic_type\": \"\",\n        \"description\": \"\"\n      }\n    },\n    {\n      \"column\": \"playername\",\n      \"properties\": {\n        \"dtype\": \"category\",\n        \"num_unique_values\": 759,\n        \"samples\": [\n          \"LLT\",\n          \"Doinb\",\n          \"nuc\"\n        ],\n        \"semantic_type\": \"\",\n        \"description\": \"\"\n      }\n    },\n    {\n      \"column\": \"champion\",\n      \"properties\": {\n        \"dtype\": \"category\",\n        \"num_unique_values\": 160,\n        \"samples\": [\n          \"Yone\",\n          \"Twitch\",\n          \"Bel'Veth\"\n        ],\n        \"semantic_type\": \"\",\n        \"description\": \"\"\n      }\n    },\n    {\n      \"column\": \"kda\",\n      \"properties\": {\n        \"dtype\": \"number\",\n        \"std\": 4.8805413729051494,\n        \"min\": 0.0,\n        \"max\": 33.0,\n        \"num_unique_values\": 182,\n        \"samples\": [\n          0.8,\n          14.0,\n          8.333333333333334\n        ],\n        \"semantic_type\": \"\",\n        \"description\": \"\"\n      }\n    }\n  ]\n}",
              "type": "dataframe",
              "variable_name": "player_train_game_kda"
            },
            "text/html": [
              "\n",
              "  <div id=\"df-2854f542-6af9-4e7a-82ab-dc93ab9f1480\" class=\"colab-df-container\">\n",
              "    <div>\n",
              "<style scoped>\n",
              "    .dataframe tbody tr th:only-of-type {\n",
              "        vertical-align: middle;\n",
              "    }\n",
              "\n",
              "    .dataframe tbody tr th {\n",
              "        vertical-align: top;\n",
              "    }\n",
              "\n",
              "    .dataframe thead th {\n",
              "        text-align: right;\n",
              "    }\n",
              "</style>\n",
              "<table border=\"1\" class=\"dataframe\">\n",
              "  <thead>\n",
              "    <tr style=\"text-align: right;\">\n",
              "      <th></th>\n",
              "      <th>gameid</th>\n",
              "      <th>playername</th>\n",
              "      <th>champion</th>\n",
              "      <th>kda</th>\n",
              "    </tr>\n",
              "  </thead>\n",
              "  <tbody>\n",
              "    <tr>\n",
              "      <th>0</th>\n",
              "      <td>ESPORTSTMNT01_2700815</td>\n",
              "      <td>Kingen</td>\n",
              "      <td>Graves</td>\n",
              "      <td>0.200000</td>\n",
              "    </tr>\n",
              "    <tr>\n",
              "      <th>1</th>\n",
              "      <td>ESPORTSTMNT01_2700815</td>\n",
              "      <td>Pyosik</td>\n",
              "      <td>Viego</td>\n",
              "      <td>1.000000</td>\n",
              "    </tr>\n",
              "    <tr>\n",
              "      <th>2</th>\n",
              "      <td>ESPORTSTMNT01_2700815</td>\n",
              "      <td>Zeka</td>\n",
              "      <td>Ryze</td>\n",
              "      <td>0.000000</td>\n",
              "    </tr>\n",
              "    <tr>\n",
              "      <th>3</th>\n",
              "      <td>ESPORTSTMNT01_2700815</td>\n",
              "      <td>Deft</td>\n",
              "      <td>Aphelios</td>\n",
              "      <td>2.500000</td>\n",
              "    </tr>\n",
              "    <tr>\n",
              "      <th>4</th>\n",
              "      <td>ESPORTSTMNT01_2700815</td>\n",
              "      <td>BeryL</td>\n",
              "      <td>Sona</td>\n",
              "      <td>2.500000</td>\n",
              "    </tr>\n",
              "    <tr>\n",
              "      <th>...</th>\n",
              "      <td>...</td>\n",
              "      <td>...</td>\n",
              "      <td>...</td>\n",
              "      <td>...</td>\n",
              "    </tr>\n",
              "    <tr>\n",
              "      <th>49995</th>\n",
              "      <td>LOLTMNT01_82652</td>\n",
              "      <td>Azhi</td>\n",
              "      <td>Rumble</td>\n",
              "      <td>15.000000</td>\n",
              "    </tr>\n",
              "    <tr>\n",
              "      <th>49996</th>\n",
              "      <td>LOLTMNT01_82652</td>\n",
              "      <td>JunJia</td>\n",
              "      <td>Vi</td>\n",
              "      <td>4.333333</td>\n",
              "    </tr>\n",
              "    <tr>\n",
              "      <th>49997</th>\n",
              "      <td>LOLTMNT01_82652</td>\n",
              "      <td>Maple</td>\n",
              "      <td>Taliyah</td>\n",
              "      <td>14.000000</td>\n",
              "    </tr>\n",
              "    <tr>\n",
              "      <th>49998</th>\n",
              "      <td>LOLTMNT01_82652</td>\n",
              "      <td>Betty</td>\n",
              "      <td>Zeri</td>\n",
              "      <td>6.000000</td>\n",
              "    </tr>\n",
              "    <tr>\n",
              "      <th>49999</th>\n",
              "      <td>LOLTMNT01_82652</td>\n",
              "      <td>Woody</td>\n",
              "      <td>Alistar</td>\n",
              "      <td>18.000000</td>\n",
              "    </tr>\n",
              "  </tbody>\n",
              "</table>\n",
              "<p>50000 rows × 4 columns</p>\n",
              "</div>\n",
              "    <div class=\"colab-df-buttons\">\n",
              "\n",
              "  <div class=\"colab-df-container\">\n",
              "    <button class=\"colab-df-convert\" onclick=\"convertToInteractive('df-2854f542-6af9-4e7a-82ab-dc93ab9f1480')\"\n",
              "            title=\"Convert this dataframe to an interactive table.\"\n",
              "            style=\"display:none;\">\n",
              "\n",
              "  <svg xmlns=\"http://www.w3.org/2000/svg\" height=\"24px\" viewBox=\"0 -960 960 960\">\n",
              "    <path d=\"M120-120v-720h720v720H120Zm60-500h600v-160H180v160Zm220 220h160v-160H400v160Zm0 220h160v-160H400v160ZM180-400h160v-160H180v160Zm440 0h160v-160H620v160ZM180-180h160v-160H180v160Zm440 0h160v-160H620v160Z\"/>\n",
              "  </svg>\n",
              "    </button>\n",
              "\n",
              "  <style>\n",
              "    .colab-df-container {\n",
              "      display:flex;\n",
              "      gap: 12px;\n",
              "    }\n",
              "\n",
              "    .colab-df-convert {\n",
              "      background-color: #E8F0FE;\n",
              "      border: none;\n",
              "      border-radius: 50%;\n",
              "      cursor: pointer;\n",
              "      display: none;\n",
              "      fill: #1967D2;\n",
              "      height: 32px;\n",
              "      padding: 0 0 0 0;\n",
              "      width: 32px;\n",
              "    }\n",
              "\n",
              "    .colab-df-convert:hover {\n",
              "      background-color: #E2EBFA;\n",
              "      box-shadow: 0px 1px 2px rgba(60, 64, 67, 0.3), 0px 1px 3px 1px rgba(60, 64, 67, 0.15);\n",
              "      fill: #174EA6;\n",
              "    }\n",
              "\n",
              "    .colab-df-buttons div {\n",
              "      margin-bottom: 4px;\n",
              "    }\n",
              "\n",
              "    [theme=dark] .colab-df-convert {\n",
              "      background-color: #3B4455;\n",
              "      fill: #D2E3FC;\n",
              "    }\n",
              "\n",
              "    [theme=dark] .colab-df-convert:hover {\n",
              "      background-color: #434B5C;\n",
              "      box-shadow: 0px 1px 3px 1px rgba(0, 0, 0, 0.15);\n",
              "      filter: drop-shadow(0px 1px 2px rgba(0, 0, 0, 0.3));\n",
              "      fill: #FFFFFF;\n",
              "    }\n",
              "  </style>\n",
              "\n",
              "    <script>\n",
              "      const buttonEl =\n",
              "        document.querySelector('#df-2854f542-6af9-4e7a-82ab-dc93ab9f1480 button.colab-df-convert');\n",
              "      buttonEl.style.display =\n",
              "        google.colab.kernel.accessAllowed ? 'block' : 'none';\n",
              "\n",
              "      async function convertToInteractive(key) {\n",
              "        const element = document.querySelector('#df-2854f542-6af9-4e7a-82ab-dc93ab9f1480');\n",
              "        const dataTable =\n",
              "          await google.colab.kernel.invokeFunction('convertToInteractive',\n",
              "                                                    [key], {});\n",
              "        if (!dataTable) return;\n",
              "\n",
              "        const docLinkHtml = 'Like what you see? Visit the ' +\n",
              "          '<a target=\"_blank\" href=https://colab.research.google.com/notebooks/data_table.ipynb>data table notebook</a>'\n",
              "          + ' to learn more about interactive tables.';\n",
              "        element.innerHTML = '';\n",
              "        dataTable['output_type'] = 'display_data';\n",
              "        await google.colab.output.renderOutput(dataTable, element);\n",
              "        const docLink = document.createElement('div');\n",
              "        docLink.innerHTML = docLinkHtml;\n",
              "        element.appendChild(docLink);\n",
              "      }\n",
              "    </script>\n",
              "  </div>\n",
              "\n",
              "\n",
              "<div id=\"df-1efdd1ab-1618-4a95-830a-8da508cd4c9f\">\n",
              "  <button class=\"colab-df-quickchart\" onclick=\"quickchart('df-1efdd1ab-1618-4a95-830a-8da508cd4c9f')\"\n",
              "            title=\"Suggest charts\"\n",
              "            style=\"display:none;\">\n",
              "\n",
              "<svg xmlns=\"http://www.w3.org/2000/svg\" height=\"24px\"viewBox=\"0 0 24 24\"\n",
              "     width=\"24px\">\n",
              "    <g>\n",
              "        <path d=\"M19 3H5c-1.1 0-2 .9-2 2v14c0 1.1.9 2 2 2h14c1.1 0 2-.9 2-2V5c0-1.1-.9-2-2-2zM9 17H7v-7h2v7zm4 0h-2V7h2v10zm4 0h-2v-4h2v4z\"/>\n",
              "    </g>\n",
              "</svg>\n",
              "  </button>\n",
              "\n",
              "<style>\n",
              "  .colab-df-quickchart {\n",
              "      --bg-color: #E8F0FE;\n",
              "      --fill-color: #1967D2;\n",
              "      --hover-bg-color: #E2EBFA;\n",
              "      --hover-fill-color: #174EA6;\n",
              "      --disabled-fill-color: #AAA;\n",
              "      --disabled-bg-color: #DDD;\n",
              "  }\n",
              "\n",
              "  [theme=dark] .colab-df-quickchart {\n",
              "      --bg-color: #3B4455;\n",
              "      --fill-color: #D2E3FC;\n",
              "      --hover-bg-color: #434B5C;\n",
              "      --hover-fill-color: #FFFFFF;\n",
              "      --disabled-bg-color: #3B4455;\n",
              "      --disabled-fill-color: #666;\n",
              "  }\n",
              "\n",
              "  .colab-df-quickchart {\n",
              "    background-color: var(--bg-color);\n",
              "    border: none;\n",
              "    border-radius: 50%;\n",
              "    cursor: pointer;\n",
              "    display: none;\n",
              "    fill: var(--fill-color);\n",
              "    height: 32px;\n",
              "    padding: 0;\n",
              "    width: 32px;\n",
              "  }\n",
              "\n",
              "  .colab-df-quickchart:hover {\n",
              "    background-color: var(--hover-bg-color);\n",
              "    box-shadow: 0 1px 2px rgba(60, 64, 67, 0.3), 0 1px 3px 1px rgba(60, 64, 67, 0.15);\n",
              "    fill: var(--button-hover-fill-color);\n",
              "  }\n",
              "\n",
              "  .colab-df-quickchart-complete:disabled,\n",
              "  .colab-df-quickchart-complete:disabled:hover {\n",
              "    background-color: var(--disabled-bg-color);\n",
              "    fill: var(--disabled-fill-color);\n",
              "    box-shadow: none;\n",
              "  }\n",
              "\n",
              "  .colab-df-spinner {\n",
              "    border: 2px solid var(--fill-color);\n",
              "    border-color: transparent;\n",
              "    border-bottom-color: var(--fill-color);\n",
              "    animation:\n",
              "      spin 1s steps(1) infinite;\n",
              "  }\n",
              "\n",
              "  @keyframes spin {\n",
              "    0% {\n",
              "      border-color: transparent;\n",
              "      border-bottom-color: var(--fill-color);\n",
              "      border-left-color: var(--fill-color);\n",
              "    }\n",
              "    20% {\n",
              "      border-color: transparent;\n",
              "      border-left-color: var(--fill-color);\n",
              "      border-top-color: var(--fill-color);\n",
              "    }\n",
              "    30% {\n",
              "      border-color: transparent;\n",
              "      border-left-color: var(--fill-color);\n",
              "      border-top-color: var(--fill-color);\n",
              "      border-right-color: var(--fill-color);\n",
              "    }\n",
              "    40% {\n",
              "      border-color: transparent;\n",
              "      border-right-color: var(--fill-color);\n",
              "      border-top-color: var(--fill-color);\n",
              "    }\n",
              "    60% {\n",
              "      border-color: transparent;\n",
              "      border-right-color: var(--fill-color);\n",
              "    }\n",
              "    80% {\n",
              "      border-color: transparent;\n",
              "      border-right-color: var(--fill-color);\n",
              "      border-bottom-color: var(--fill-color);\n",
              "    }\n",
              "    90% {\n",
              "      border-color: transparent;\n",
              "      border-bottom-color: var(--fill-color);\n",
              "    }\n",
              "  }\n",
              "</style>\n",
              "\n",
              "  <script>\n",
              "    async function quickchart(key) {\n",
              "      const quickchartButtonEl =\n",
              "        document.querySelector('#' + key + ' button');\n",
              "      quickchartButtonEl.disabled = true;  // To prevent multiple clicks.\n",
              "      quickchartButtonEl.classList.add('colab-df-spinner');\n",
              "      try {\n",
              "        const charts = await google.colab.kernel.invokeFunction(\n",
              "            'suggestCharts', [key], {});\n",
              "      } catch (error) {\n",
              "        console.error('Error during call to suggestCharts:', error);\n",
              "      }\n",
              "      quickchartButtonEl.classList.remove('colab-df-spinner');\n",
              "      quickchartButtonEl.classList.add('colab-df-quickchart-complete');\n",
              "    }\n",
              "    (() => {\n",
              "      let quickchartButtonEl =\n",
              "        document.querySelector('#df-1efdd1ab-1618-4a95-830a-8da508cd4c9f button');\n",
              "      quickchartButtonEl.style.display =\n",
              "        google.colab.kernel.accessAllowed ? 'block' : 'none';\n",
              "    })();\n",
              "  </script>\n",
              "</div>\n",
              "\n",
              "  <div id=\"id_bc574d93-fb6b-4241-b0ad-a770e5dc7923\">\n",
              "    <style>\n",
              "      .colab-df-generate {\n",
              "        background-color: #E8F0FE;\n",
              "        border: none;\n",
              "        border-radius: 50%;\n",
              "        cursor: pointer;\n",
              "        display: none;\n",
              "        fill: #1967D2;\n",
              "        height: 32px;\n",
              "        padding: 0 0 0 0;\n",
              "        width: 32px;\n",
              "      }\n",
              "\n",
              "      .colab-df-generate:hover {\n",
              "        background-color: #E2EBFA;\n",
              "        box-shadow: 0px 1px 2px rgba(60, 64, 67, 0.3), 0px 1px 3px 1px rgba(60, 64, 67, 0.15);\n",
              "        fill: #174EA6;\n",
              "      }\n",
              "\n",
              "      [theme=dark] .colab-df-generate {\n",
              "        background-color: #3B4455;\n",
              "        fill: #D2E3FC;\n",
              "      }\n",
              "\n",
              "      [theme=dark] .colab-df-generate:hover {\n",
              "        background-color: #434B5C;\n",
              "        box-shadow: 0px 1px 3px 1px rgba(0, 0, 0, 0.15);\n",
              "        filter: drop-shadow(0px 1px 2px rgba(0, 0, 0, 0.3));\n",
              "        fill: #FFFFFF;\n",
              "      }\n",
              "    </style>\n",
              "    <button class=\"colab-df-generate\" onclick=\"generateWithVariable('player_train_game_kda')\"\n",
              "            title=\"Generate code using this dataframe.\"\n",
              "            style=\"display:none;\">\n",
              "\n",
              "  <svg xmlns=\"http://www.w3.org/2000/svg\" height=\"24px\"viewBox=\"0 0 24 24\"\n",
              "       width=\"24px\">\n",
              "    <path d=\"M7,19H8.4L18.45,9,17,7.55,7,17.6ZM5,21V16.75L18.45,3.32a2,2,0,0,1,2.83,0l1.4,1.43a1.91,1.91,0,0,1,.58,1.4,1.91,1.91,0,0,1-.58,1.4L9.25,21ZM18.45,9,17,7.55Zm-12,3A5.31,5.31,0,0,0,4.9,8.1,5.31,5.31,0,0,0,1,6.5,5.31,5.31,0,0,0,4.9,4.9,5.31,5.31,0,0,0,6.5,1,5.31,5.31,0,0,0,8.1,4.9,5.31,5.31,0,0,0,12,6.5,5.46,5.46,0,0,0,6.5,12Z\"/>\n",
              "  </svg>\n",
              "    </button>\n",
              "    <script>\n",
              "      (() => {\n",
              "      const buttonEl =\n",
              "        document.querySelector('#id_bc574d93-fb6b-4241-b0ad-a770e5dc7923 button.colab-df-generate');\n",
              "      buttonEl.style.display =\n",
              "        google.colab.kernel.accessAllowed ? 'block' : 'none';\n",
              "\n",
              "      buttonEl.onclick = () => {\n",
              "        google.colab.notebook.generateWithVariable('player_train_game_kda');\n",
              "      }\n",
              "      })();\n",
              "    </script>\n",
              "  </div>\n",
              "\n",
              "    </div>\n",
              "  </div>\n"
            ],
            "text/plain": [
              "                      gameid playername  champion        kda\n",
              "0      ESPORTSTMNT01_2700815     Kingen    Graves   0.200000\n",
              "1      ESPORTSTMNT01_2700815     Pyosik     Viego   1.000000\n",
              "2      ESPORTSTMNT01_2700815       Zeka      Ryze   0.000000\n",
              "3      ESPORTSTMNT01_2700815       Deft  Aphelios   2.500000\n",
              "4      ESPORTSTMNT01_2700815      BeryL      Sona   2.500000\n",
              "...                      ...        ...       ...        ...\n",
              "49995        LOLTMNT01_82652       Azhi    Rumble  15.000000\n",
              "49996        LOLTMNT01_82652     JunJia        Vi   4.333333\n",
              "49997        LOLTMNT01_82652      Maple   Taliyah  14.000000\n",
              "49998        LOLTMNT01_82652      Betty      Zeri   6.000000\n",
              "49999        LOLTMNT01_82652      Woody   Alistar  18.000000\n",
              "\n",
              "[50000 rows x 4 columns]"
            ]
          },
          "execution_count": 74,
          "metadata": {},
          "output_type": "execute_result"
        }
      ],
      "source": [
        "def calculate_game_kda(df):\n",
        "    # KDA 계산\n",
        "    df['kda'] = (df['kills'] + df['assists']) / df['deaths'].replace(0,1)\n",
        "    df['kda'] = df['kda'].replace(np.inf, 0)  # 무한대 값 처리\n",
        "    return df[['gameid', 'playername', 'champion', 'kda']]\n",
        "\n",
        "player_train_game_kda = calculate_game_kda(player_train)\n",
        "player_train_game_kda"
      ]
    },
    {
      "cell_type": "code",
      "execution_count": null,
      "metadata": {
        "colab": {
          "base_uri": "https://localhost:8080/",
          "height": 423
        },
        "id": "Pgwa7D_qq0h2",
        "outputId": "2ae16e34-2ac2-4245-c13e-0ce257513b77"
      },
      "outputs": [
        {
          "data": {
            "application/vnd.google.colaboratory.intrinsic+json": {
              "summary": "{\n  \"name\": \"player_train_game_kda\",\n  \"rows\": 11670,\n  \"fields\": [\n    {\n      \"column\": \"gameid\",\n      \"properties\": {\n        \"dtype\": \"category\",\n        \"num_unique_values\": 1169,\n        \"samples\": [\n          \"LOLTMNT01_156049\",\n          \"LOLTMNT05_89529\",\n          \"LOLTMNT02_70552\"\n        ],\n        \"semantic_type\": \"\",\n        \"description\": \"\"\n      }\n    },\n    {\n      \"column\": \"playername\",\n      \"properties\": {\n        \"dtype\": \"category\",\n        \"num_unique_values\": 370,\n        \"samples\": [\n          \"Fighto\",\n          \"Deft\",\n          \"Irrelevant\"\n        ],\n        \"semantic_type\": \"\",\n        \"description\": \"\"\n      }\n    },\n    {\n      \"column\": \"champion\",\n      \"properties\": {\n        \"dtype\": \"category\",\n        \"num_unique_values\": 141,\n        \"samples\": [\n          \"Lulu\",\n          \"Mordekaiser\",\n          \"Twisted Fate\"\n        ],\n        \"semantic_type\": \"\",\n        \"description\": \"\"\n      }\n    },\n    {\n      \"column\": \"kda\",\n      \"properties\": {\n        \"dtype\": \"number\",\n        \"std\": 4.93484331514348,\n        \"min\": 0.0,\n        \"max\": 29.0,\n        \"num_unique_values\": 158,\n        \"samples\": [\n          0.375,\n          0.6666666666666666,\n          0.4444444444444444\n        ],\n        \"semantic_type\": \"\",\n        \"description\": \"\"\n      }\n    }\n  ]\n}",
              "type": "dataframe",
              "variable_name": "player_train_game_kda"
            },
            "text/html": [
              "\n",
              "  <div id=\"df-97cd4246-cec6-492f-bdf8-622ee1418e5d\" class=\"colab-df-container\">\n",
              "    <div>\n",
              "<style scoped>\n",
              "    .dataframe tbody tr th:only-of-type {\n",
              "        vertical-align: middle;\n",
              "    }\n",
              "\n",
              "    .dataframe tbody tr th {\n",
              "        vertical-align: top;\n",
              "    }\n",
              "\n",
              "    .dataframe thead th {\n",
              "        text-align: right;\n",
              "    }\n",
              "</style>\n",
              "<table border=\"1\" class=\"dataframe\">\n",
              "  <thead>\n",
              "    <tr style=\"text-align: right;\">\n",
              "      <th></th>\n",
              "      <th>gameid</th>\n",
              "      <th>playername</th>\n",
              "      <th>champion</th>\n",
              "      <th>kda</th>\n",
              "    </tr>\n",
              "  </thead>\n",
              "  <tbody>\n",
              "    <tr>\n",
              "      <th>0</th>\n",
              "      <td>LOLTMNT02_66852</td>\n",
              "      <td>Doran</td>\n",
              "      <td>Aatrox</td>\n",
              "      <td>5.666667</td>\n",
              "    </tr>\n",
              "    <tr>\n",
              "      <th>1</th>\n",
              "      <td>LOLTMNT02_66852</td>\n",
              "      <td>Peanut</td>\n",
              "      <td>Maokai</td>\n",
              "      <td>19.000000</td>\n",
              "    </tr>\n",
              "    <tr>\n",
              "      <th>2</th>\n",
              "      <td>LOLTMNT02_66852</td>\n",
              "      <td>Zeka</td>\n",
              "      <td>Corki</td>\n",
              "      <td>21.000000</td>\n",
              "    </tr>\n",
              "    <tr>\n",
              "      <th>3</th>\n",
              "      <td>LOLTMNT02_66852</td>\n",
              "      <td>Viper</td>\n",
              "      <td>Zeri</td>\n",
              "      <td>9.500000</td>\n",
              "    </tr>\n",
              "    <tr>\n",
              "      <th>4</th>\n",
              "      <td>LOLTMNT02_66852</td>\n",
              "      <td>Delight</td>\n",
              "      <td>Alistar</td>\n",
              "      <td>7.333333</td>\n",
              "    </tr>\n",
              "    <tr>\n",
              "      <th>...</th>\n",
              "      <td>...</td>\n",
              "      <td>...</td>\n",
              "      <td>...</td>\n",
              "      <td>...</td>\n",
              "    </tr>\n",
              "    <tr>\n",
              "      <th>11665</th>\n",
              "      <td>LOLTMNT05_90307</td>\n",
              "      <td>Zeus</td>\n",
              "      <td>Gragas</td>\n",
              "      <td>8.000000</td>\n",
              "    </tr>\n",
              "    <tr>\n",
              "      <th>11666</th>\n",
              "      <td>LOLTMNT05_90307</td>\n",
              "      <td>Oner</td>\n",
              "      <td>Xin Zhao</td>\n",
              "      <td>9.000000</td>\n",
              "    </tr>\n",
              "    <tr>\n",
              "      <th>11667</th>\n",
              "      <td>LOLTMNT05_90307</td>\n",
              "      <td>Faker</td>\n",
              "      <td>Galio</td>\n",
              "      <td>10.000000</td>\n",
              "    </tr>\n",
              "    <tr>\n",
              "      <th>11668</th>\n",
              "      <td>LOLTMNT05_90307</td>\n",
              "      <td>Gumayusi</td>\n",
              "      <td>Xayah</td>\n",
              "      <td>6.000000</td>\n",
              "    </tr>\n",
              "    <tr>\n",
              "      <th>11669</th>\n",
              "      <td>LOLTMNT05_90307</td>\n",
              "      <td>Keria</td>\n",
              "      <td>Poppy</td>\n",
              "      <td>1.500000</td>\n",
              "    </tr>\n",
              "  </tbody>\n",
              "</table>\n",
              "<p>11670 rows × 4 columns</p>\n",
              "</div>\n",
              "    <div class=\"colab-df-buttons\">\n",
              "\n",
              "  <div class=\"colab-df-container\">\n",
              "    <button class=\"colab-df-convert\" onclick=\"convertToInteractive('df-97cd4246-cec6-492f-bdf8-622ee1418e5d')\"\n",
              "            title=\"Convert this dataframe to an interactive table.\"\n",
              "            style=\"display:none;\">\n",
              "\n",
              "  <svg xmlns=\"http://www.w3.org/2000/svg\" height=\"24px\" viewBox=\"0 -960 960 960\">\n",
              "    <path d=\"M120-120v-720h720v720H120Zm60-500h600v-160H180v160Zm220 220h160v-160H400v160Zm0 220h160v-160H400v160ZM180-400h160v-160H180v160Zm440 0h160v-160H620v160ZM180-180h160v-160H180v160Zm440 0h160v-160H620v160Z\"/>\n",
              "  </svg>\n",
              "    </button>\n",
              "\n",
              "  <style>\n",
              "    .colab-df-container {\n",
              "      display:flex;\n",
              "      gap: 12px;\n",
              "    }\n",
              "\n",
              "    .colab-df-convert {\n",
              "      background-color: #E8F0FE;\n",
              "      border: none;\n",
              "      border-radius: 50%;\n",
              "      cursor: pointer;\n",
              "      display: none;\n",
              "      fill: #1967D2;\n",
              "      height: 32px;\n",
              "      padding: 0 0 0 0;\n",
              "      width: 32px;\n",
              "    }\n",
              "\n",
              "    .colab-df-convert:hover {\n",
              "      background-color: #E2EBFA;\n",
              "      box-shadow: 0px 1px 2px rgba(60, 64, 67, 0.3), 0px 1px 3px 1px rgba(60, 64, 67, 0.15);\n",
              "      fill: #174EA6;\n",
              "    }\n",
              "\n",
              "    .colab-df-buttons div {\n",
              "      margin-bottom: 4px;\n",
              "    }\n",
              "\n",
              "    [theme=dark] .colab-df-convert {\n",
              "      background-color: #3B4455;\n",
              "      fill: #D2E3FC;\n",
              "    }\n",
              "\n",
              "    [theme=dark] .colab-df-convert:hover {\n",
              "      background-color: #434B5C;\n",
              "      box-shadow: 0px 1px 3px 1px rgba(0, 0, 0, 0.15);\n",
              "      filter: drop-shadow(0px 1px 2px rgba(0, 0, 0, 0.3));\n",
              "      fill: #FFFFFF;\n",
              "    }\n",
              "  </style>\n",
              "\n",
              "    <script>\n",
              "      const buttonEl =\n",
              "        document.querySelector('#df-97cd4246-cec6-492f-bdf8-622ee1418e5d button.colab-df-convert');\n",
              "      buttonEl.style.display =\n",
              "        google.colab.kernel.accessAllowed ? 'block' : 'none';\n",
              "\n",
              "      async function convertToInteractive(key) {\n",
              "        const element = document.querySelector('#df-97cd4246-cec6-492f-bdf8-622ee1418e5d');\n",
              "        const dataTable =\n",
              "          await google.colab.kernel.invokeFunction('convertToInteractive',\n",
              "                                                    [key], {});\n",
              "        if (!dataTable) return;\n",
              "\n",
              "        const docLinkHtml = 'Like what you see? Visit the ' +\n",
              "          '<a target=\"_blank\" href=https://colab.research.google.com/notebooks/data_table.ipynb>data table notebook</a>'\n",
              "          + ' to learn more about interactive tables.';\n",
              "        element.innerHTML = '';\n",
              "        dataTable['output_type'] = 'display_data';\n",
              "        await google.colab.output.renderOutput(dataTable, element);\n",
              "        const docLink = document.createElement('div');\n",
              "        docLink.innerHTML = docLinkHtml;\n",
              "        element.appendChild(docLink);\n",
              "      }\n",
              "    </script>\n",
              "  </div>\n",
              "\n",
              "\n",
              "<div id=\"df-67d6a68c-d6ed-4e54-aa76-a311813ab022\">\n",
              "  <button class=\"colab-df-quickchart\" onclick=\"quickchart('df-67d6a68c-d6ed-4e54-aa76-a311813ab022')\"\n",
              "            title=\"Suggest charts\"\n",
              "            style=\"display:none;\">\n",
              "\n",
              "<svg xmlns=\"http://www.w3.org/2000/svg\" height=\"24px\"viewBox=\"0 0 24 24\"\n",
              "     width=\"24px\">\n",
              "    <g>\n",
              "        <path d=\"M19 3H5c-1.1 0-2 .9-2 2v14c0 1.1.9 2 2 2h14c1.1 0 2-.9 2-2V5c0-1.1-.9-2-2-2zM9 17H7v-7h2v7zm4 0h-2V7h2v10zm4 0h-2v-4h2v4z\"/>\n",
              "    </g>\n",
              "</svg>\n",
              "  </button>\n",
              "\n",
              "<style>\n",
              "  .colab-df-quickchart {\n",
              "      --bg-color: #E8F0FE;\n",
              "      --fill-color: #1967D2;\n",
              "      --hover-bg-color: #E2EBFA;\n",
              "      --hover-fill-color: #174EA6;\n",
              "      --disabled-fill-color: #AAA;\n",
              "      --disabled-bg-color: #DDD;\n",
              "  }\n",
              "\n",
              "  [theme=dark] .colab-df-quickchart {\n",
              "      --bg-color: #3B4455;\n",
              "      --fill-color: #D2E3FC;\n",
              "      --hover-bg-color: #434B5C;\n",
              "      --hover-fill-color: #FFFFFF;\n",
              "      --disabled-bg-color: #3B4455;\n",
              "      --disabled-fill-color: #666;\n",
              "  }\n",
              "\n",
              "  .colab-df-quickchart {\n",
              "    background-color: var(--bg-color);\n",
              "    border: none;\n",
              "    border-radius: 50%;\n",
              "    cursor: pointer;\n",
              "    display: none;\n",
              "    fill: var(--fill-color);\n",
              "    height: 32px;\n",
              "    padding: 0;\n",
              "    width: 32px;\n",
              "  }\n",
              "\n",
              "  .colab-df-quickchart:hover {\n",
              "    background-color: var(--hover-bg-color);\n",
              "    box-shadow: 0 1px 2px rgba(60, 64, 67, 0.3), 0 1px 3px 1px rgba(60, 64, 67, 0.15);\n",
              "    fill: var(--button-hover-fill-color);\n",
              "  }\n",
              "\n",
              "  .colab-df-quickchart-complete:disabled,\n",
              "  .colab-df-quickchart-complete:disabled:hover {\n",
              "    background-color: var(--disabled-bg-color);\n",
              "    fill: var(--disabled-fill-color);\n",
              "    box-shadow: none;\n",
              "  }\n",
              "\n",
              "  .colab-df-spinner {\n",
              "    border: 2px solid var(--fill-color);\n",
              "    border-color: transparent;\n",
              "    border-bottom-color: var(--fill-color);\n",
              "    animation:\n",
              "      spin 1s steps(1) infinite;\n",
              "  }\n",
              "\n",
              "  @keyframes spin {\n",
              "    0% {\n",
              "      border-color: transparent;\n",
              "      border-bottom-color: var(--fill-color);\n",
              "      border-left-color: var(--fill-color);\n",
              "    }\n",
              "    20% {\n",
              "      border-color: transparent;\n",
              "      border-left-color: var(--fill-color);\n",
              "      border-top-color: var(--fill-color);\n",
              "    }\n",
              "    30% {\n",
              "      border-color: transparent;\n",
              "      border-left-color: var(--fill-color);\n",
              "      border-top-color: var(--fill-color);\n",
              "      border-right-color: var(--fill-color);\n",
              "    }\n",
              "    40% {\n",
              "      border-color: transparent;\n",
              "      border-right-color: var(--fill-color);\n",
              "      border-top-color: var(--fill-color);\n",
              "    }\n",
              "    60% {\n",
              "      border-color: transparent;\n",
              "      border-right-color: var(--fill-color);\n",
              "    }\n",
              "    80% {\n",
              "      border-color: transparent;\n",
              "      border-right-color: var(--fill-color);\n",
              "      border-bottom-color: var(--fill-color);\n",
              "    }\n",
              "    90% {\n",
              "      border-color: transparent;\n",
              "      border-bottom-color: var(--fill-color);\n",
              "    }\n",
              "  }\n",
              "</style>\n",
              "\n",
              "  <script>\n",
              "    async function quickchart(key) {\n",
              "      const quickchartButtonEl =\n",
              "        document.querySelector('#' + key + ' button');\n",
              "      quickchartButtonEl.disabled = true;  // To prevent multiple clicks.\n",
              "      quickchartButtonEl.classList.add('colab-df-spinner');\n",
              "      try {\n",
              "        const charts = await google.colab.kernel.invokeFunction(\n",
              "            'suggestCharts', [key], {});\n",
              "      } catch (error) {\n",
              "        console.error('Error during call to suggestCharts:', error);\n",
              "      }\n",
              "      quickchartButtonEl.classList.remove('colab-df-spinner');\n",
              "      quickchartButtonEl.classList.add('colab-df-quickchart-complete');\n",
              "    }\n",
              "    (() => {\n",
              "      let quickchartButtonEl =\n",
              "        document.querySelector('#df-67d6a68c-d6ed-4e54-aa76-a311813ab022 button');\n",
              "      quickchartButtonEl.style.display =\n",
              "        google.colab.kernel.accessAllowed ? 'block' : 'none';\n",
              "    })();\n",
              "  </script>\n",
              "</div>\n",
              "\n",
              "  <div id=\"id_b07a7320-4225-4c7a-90f8-ff91e266ffb0\">\n",
              "    <style>\n",
              "      .colab-df-generate {\n",
              "        background-color: #E8F0FE;\n",
              "        border: none;\n",
              "        border-radius: 50%;\n",
              "        cursor: pointer;\n",
              "        display: none;\n",
              "        fill: #1967D2;\n",
              "        height: 32px;\n",
              "        padding: 0 0 0 0;\n",
              "        width: 32px;\n",
              "      }\n",
              "\n",
              "      .colab-df-generate:hover {\n",
              "        background-color: #E2EBFA;\n",
              "        box-shadow: 0px 1px 2px rgba(60, 64, 67, 0.3), 0px 1px 3px 1px rgba(60, 64, 67, 0.15);\n",
              "        fill: #174EA6;\n",
              "      }\n",
              "\n",
              "      [theme=dark] .colab-df-generate {\n",
              "        background-color: #3B4455;\n",
              "        fill: #D2E3FC;\n",
              "      }\n",
              "\n",
              "      [theme=dark] .colab-df-generate:hover {\n",
              "        background-color: #434B5C;\n",
              "        box-shadow: 0px 1px 3px 1px rgba(0, 0, 0, 0.15);\n",
              "        filter: drop-shadow(0px 1px 2px rgba(0, 0, 0, 0.3));\n",
              "        fill: #FFFFFF;\n",
              "      }\n",
              "    </style>\n",
              "    <button class=\"colab-df-generate\" onclick=\"generateWithVariable('player_train_game_kda')\"\n",
              "            title=\"Generate code using this dataframe.\"\n",
              "            style=\"display:none;\">\n",
              "\n",
              "  <svg xmlns=\"http://www.w3.org/2000/svg\" height=\"24px\"viewBox=\"0 0 24 24\"\n",
              "       width=\"24px\">\n",
              "    <path d=\"M7,19H8.4L18.45,9,17,7.55,7,17.6ZM5,21V16.75L18.45,3.32a2,2,0,0,1,2.83,0l1.4,1.43a1.91,1.91,0,0,1,.58,1.4,1.91,1.91,0,0,1-.58,1.4L9.25,21ZM18.45,9,17,7.55Zm-12,3A5.31,5.31,0,0,0,4.9,8.1,5.31,5.31,0,0,0,1,6.5,5.31,5.31,0,0,0,4.9,4.9,5.31,5.31,0,0,0,6.5,1,5.31,5.31,0,0,0,8.1,4.9,5.31,5.31,0,0,0,12,6.5,5.46,5.46,0,0,0,6.5,12Z\"/>\n",
              "  </svg>\n",
              "    </button>\n",
              "    <script>\n",
              "      (() => {\n",
              "      const buttonEl =\n",
              "        document.querySelector('#id_b07a7320-4225-4c7a-90f8-ff91e266ffb0 button.colab-df-generate');\n",
              "      buttonEl.style.display =\n",
              "        google.colab.kernel.accessAllowed ? 'block' : 'none';\n",
              "\n",
              "      buttonEl.onclick = () => {\n",
              "        google.colab.notebook.generateWithVariable('player_train_game_kda');\n",
              "      }\n",
              "      })();\n",
              "    </script>\n",
              "  </div>\n",
              "\n",
              "    </div>\n",
              "  </div>\n"
            ],
            "text/plain": [
              "                gameid playername  champion        kda\n",
              "0      LOLTMNT02_66852      Doran    Aatrox   5.666667\n",
              "1      LOLTMNT02_66852     Peanut    Maokai  19.000000\n",
              "2      LOLTMNT02_66852       Zeka     Corki  21.000000\n",
              "3      LOLTMNT02_66852      Viper      Zeri   9.500000\n",
              "4      LOLTMNT02_66852    Delight   Alistar   7.333333\n",
              "...                ...        ...       ...        ...\n",
              "11665  LOLTMNT05_90307       Zeus    Gragas   8.000000\n",
              "11666  LOLTMNT05_90307       Oner  Xin Zhao   9.000000\n",
              "11667  LOLTMNT05_90307      Faker     Galio  10.000000\n",
              "11668  LOLTMNT05_90307   Gumayusi     Xayah   6.000000\n",
              "11669  LOLTMNT05_90307      Keria     Poppy   1.500000\n",
              "\n",
              "[11670 rows x 4 columns]"
            ]
          },
          "execution_count": 75,
          "metadata": {},
          "output_type": "execute_result"
        }
      ],
      "source": [
        "def calculate_game_kda(df):\n",
        "    # KDA 계산\n",
        "    df['kda'] = (df['kills'] + df['assists']) / df['deaths'].replace(0,1)\n",
        "    df['kda'] = df['kda'].replace(np.inf, 0)  # 무한대 값 처리\n",
        "    return df[['gameid', 'playername', 'champion', 'kda']]\n",
        "\n",
        "player_train_game_kda = calculate_game_kda(player_test)\n",
        "player_train_game_kda"
      ]
    },
    {
      "cell_type": "code",
      "execution_count": null,
      "metadata": {
        "colab": {
          "base_uri": "https://localhost:8080/"
        },
        "id": "SSvtWz9mq21N",
        "outputId": "34205357-3ec4-40df-a155-55b2e618472e"
      },
      "outputs": [
        {
          "data": {
            "text/plain": [
              "((50000, 88), (11670, 88))"
            ]
          },
          "execution_count": 76,
          "metadata": {},
          "output_type": "execute_result"
        }
      ],
      "source": [
        "player_train.shape, player_test.shape"
      ]
    },
    {
      "cell_type": "code",
      "execution_count": null,
      "metadata": {
        "id": "V2VWrug-xl2K"
      },
      "outputs": [],
      "source": [
        "player_train[\"date\"] = pd.to_datetime(player_train[\"date\"])\n",
        "player_test[\"date\"] = pd.to_datetime(player_test[\"date\"])\n",
        "\n",
        "player_train[\"year\"] = player_train[\"date\"].dt.year\n",
        "player_test[\"year\"] = player_test[\"date\"].dt.year"
      ]
    },
    {
      "cell_type": "code",
      "execution_count": null,
      "metadata": {
        "colab": {
          "base_uri": "https://localhost:8080/"
        },
        "id": "Y0ojK-NsBu8D",
        "outputId": "395028c6-3a0a-4266-b356-93c9ab247903"
      },
      "outputs": [
        {
          "data": {
            "text/plain": [
              "((50000, 89), (11670, 89))"
            ]
          },
          "execution_count": 79,
          "metadata": {},
          "output_type": "execute_result"
        }
      ],
      "source": [
        "player_train.shape, player_test.shape"
      ]
    },
    {
      "cell_type": "code",
      "execution_count": null,
      "metadata": {
        "colab": {
          "base_uri": "https://localhost:8080/"
        },
        "id": "bu44qtY9z-z3",
        "outputId": "83be3765-9b33-4767-9541-d3a7773539b5"
      },
      "outputs": [
        {
          "data": {
            "text/plain": [
              "((9913, 112), (2324, 112), (50000, 89), (11670, 89))"
            ]
          },
          "execution_count": 80,
          "metadata": {},
          "output_type": "execute_result"
        }
      ],
      "source": [
        "team_train.shape, team_test.shape, player_train.shape, player_test.shape"
      ]
    },
    {
      "cell_type": "markdown",
      "metadata": {
        "id": "8Xe9NTroMgMk"
      },
      "source": [
        "# train+test"
      ]
    },
    {
      "cell_type": "markdown",
      "metadata": {
        "id": "Q3OFbjAtMosB"
      },
      "source": [
        "- 원래는 모델링 방향으로 진행하려하였으나 모델링이 필요하지 않다는 판단하에 train와  test로 나누었던 데이터를 합쳐 EDA 진행"
      ]
    },
    {
      "cell_type": "code",
      "execution_count": null,
      "metadata": {
        "colab": {
          "base_uri": "https://localhost:8080/"
        },
        "id": "of06ZTTx9OPH",
        "outputId": "384faf73-5a80-4feb-c779-6c290ad1ac17"
      },
      "outputs": [
        {
          "data": {
            "text/plain": [
              "(12237, 112)"
            ]
          },
          "execution_count": 81,
          "metadata": {},
          "output_type": "execute_result"
        }
      ],
      "source": [
        "combined_team_df = pd.concat([team_train, team_test], ignore_index=True)\n",
        "\n",
        "combined_team_df.shape"
      ]
    },
    {
      "cell_type": "code",
      "execution_count": null,
      "metadata": {
        "id": "Sq48beQi0sko"
      },
      "outputs": [],
      "source": [
        "combined_team_df.to_csv(f'output/team.csv', index=False)"
      ]
    },
    {
      "cell_type": "code",
      "execution_count": null,
      "metadata": {
        "colab": {
          "base_uri": "https://localhost:8080/"
        },
        "id": "mvNq6PB104z8",
        "outputId": "4c28c3df-ba3a-4028-a527-44fb65087a19"
      },
      "outputs": [
        {
          "data": {
            "text/plain": [
              "(61670, 89)"
            ]
          },
          "execution_count": 83,
          "metadata": {},
          "output_type": "execute_result"
        }
      ],
      "source": [
        "combined_player_df = pd.concat([player_train, player_test], ignore_index=True)\n",
        "\n",
        "combined_player_df.shape"
      ]
    },
    {
      "cell_type": "code",
      "execution_count": null,
      "metadata": {
        "id": "ccwGGt0S1A1e"
      },
      "outputs": [],
      "source": [
        "combined_player_df.to_csv(f'output/player.csv', index=False)"
      ]
    }
  ],
  "metadata": {
    "colab": {
      "provenance": []
    },
    "kernelspec": {
      "display_name": "Python 3",
      "name": "python3"
    },
    "language_info": {
      "codemirror_mode": {
        "name": "ipython",
        "version": 3
      },
      "file_extension": ".py",
      "mimetype": "text/x-python",
      "name": "python",
      "nbconvert_exporter": "python",
      "pygments_lexer": "ipython3",
      "version": "3.10.8"
    }
  },
  "nbformat": 4,
  "nbformat_minor": 0
}
