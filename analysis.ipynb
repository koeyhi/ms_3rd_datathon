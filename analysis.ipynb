{
 "cells": [
  {
   "cell_type": "code",
   "execution_count": 2,
   "metadata": {},
   "outputs": [
    {
     "data": {
      "text/plain": [
       "((266040, 159), (67380, 159))"
      ]
     },
     "execution_count": 2,
     "metadata": {},
     "output_type": "execute_result"
    }
   ],
   "source": [
    "import pandas as pd\n",
    "import glob\n",
    "\n",
    "path = \"LoLesports_data\"\n",
    "\n",
    "all_files = glob.glob(path + \"/*.csv\")\n",
    "\n",
    "df_list = []\n",
    "\n",
    "for file in all_files[-3:]:\n",
    "    temp_df = pd.read_csv(file, low_memory=False)\n",
    "    df_list.append(temp_df)\n",
    "\n",
    "df = pd.concat(df_list, ignore_index=True)\n",
    "df = df[df[\"datacompleteness\"] == \"complete\"]\n",
    "df.drop(columns=[\"datacompleteness\", \"url\"], inplace=True)\n",
    "\n",
    "train = df[(df[\"patch\"] >= 12.01) & (df[\"patch\"] <= 14.05)]\n",
    "test = df[df[\"patch\"] >= 14.06]\n",
    "\n",
    "train.shape, test.shape"
   ]
  },
  {
   "cell_type": "code",
   "execution_count": 4,
   "metadata": {},
   "outputs": [],
   "source": [
    "pre_game_features = [\n",
    "    \"league\",\n",
    "    \"year\",\n",
    "    \"month\",\n",
    "    \"day\",\n",
    "    \"teamid\",\n",
    "    \"opp_teamid\",\n",
    "    \"side\",\n",
    "    \"patch\",\n",
    "    \"ban1\",\n",
    "    \"ban2\",\n",
    "    \"ban3\",\n",
    "    \"ban4\",\n",
    "    \"ban5\",\n",
    "    \"pick1\",\n",
    "    \"pick2\",\n",
    "    \"pick3\",\n",
    "    \"pick4\",\n",
    "    \"pick5\",\n",
    "]"
   ]
  },
  {
   "cell_type": "code",
   "execution_count": 7,
   "metadata": {},
   "outputs": [
    {
     "data": {
      "text/plain": [
       "((44340, 159), (221700, 159), (11230, 159), (56150, 159))"
      ]
     },
     "execution_count": 7,
     "metadata": {},
     "output_type": "execute_result"
    }
   ],
   "source": [
    "teams_train = train[train[\"position\"] == \"team\"].reset_index(drop=True)\n",
    "players_train = train[train[\"position\"] != \"team\"].reset_index(drop=True)\n",
    "\n",
    "teams_test = test[test[\"position\"] == \"team\"].reset_index(drop=True)\n",
    "players_test = test[test[\"position\"] != \"team\"].reset_index(drop=True)\n",
    "\n",
    "teams_train.shape, players_train.shape, teams_test.shape, players_test.shape"
   ]
  }
 ],
 "metadata": {
  "kernelspec": {
   "display_name": "Python 3",
   "language": "python",
   "name": "python3"
  },
  "language_info": {
   "codemirror_mode": {
    "name": "ipython",
    "version": 3
   },
   "file_extension": ".py",
   "mimetype": "text/x-python",
   "name": "python",
   "nbconvert_exporter": "python",
   "pygments_lexer": "ipython3",
   "version": "3.10.8"
  }
 },
 "nbformat": 4,
 "nbformat_minor": 2
}
