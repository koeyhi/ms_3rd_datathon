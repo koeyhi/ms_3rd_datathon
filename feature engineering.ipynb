{
 "cells": [
  {
   "cell_type": "code",
   "execution_count": 88,
   "metadata": {},
   "outputs": [],
   "source": [
    "import pandas as pd\n",
    "import numpy as np\n",
    "\n",
    "DATA_PATH = \"LoLesports_data/\"\n",
    "SEED = 42\n",
    "\n",
    "teams_train = pd.read_csv(f\"{DATA_PATH}teams_train.csv\")\n",
    "teams_test = pd.read_csv(f\"{DATA_PATH}teams_test.csv\")\n",
    "players_train = pd.read_csv(f\"{DATA_PATH}players_train.csv\")\n",
    "players_test = pd.read_csv(f\"{DATA_PATH}players_test.csv\")\n",
    "\n",
    "teams_train_target = pd.read_csv(f\"{DATA_PATH}teams_train_target.csv\")\n",
    "teams_test_target = pd.read_csv(f\"{DATA_PATH}teams_test_target.csv\")\n",
    "players_train_target = pd.read_csv(f\"{DATA_PATH}players_train_target.csv\")\n",
    "players_test_target = pd.read_csv(f\"{DATA_PATH}players_test_target.csv\")"
   ]
  },
  {
   "cell_type": "markdown",
   "metadata": {},
   "source": [
    "# 컬럼 추가"
   ]
  },
  {
   "cell_type": "markdown",
   "metadata": {},
   "source": [
    "## 상대 팀 추가"
   ]
  },
  {
   "cell_type": "code",
   "execution_count": 89,
   "metadata": {},
   "outputs": [],
   "source": [
    "temp_opp_teams = teams_train.groupby(\"gameid\")[\"teamname\"].transform(lambda x: x.iloc[::-1].values).to_frame(\"opp_teamname\")\n",
    "teams_train = pd.concat([teams_train, temp_opp_teams], axis=1)\n",
    "temp_opp_teams = teams_test.groupby(\"gameid\")[\"teamname\"].transform(lambda x: x.iloc[::-1].values).to_frame(\"opp_teamname\")\n",
    "teams_test = pd.concat([teams_test, temp_opp_teams], axis=1)\n",
    "\n",
    "temp_opp_players = players_train.groupby(\"gameid\")[\"teamname\"].transform(lambda x: x.iloc[::-1].values).to_frame(\"opp_teamname\")\n",
    "players_train = pd.concat([players_train, temp_opp_players], axis=1)\n",
    "temp_opp_players = players_test.groupby(\"gameid\")[\"teamname\"].transform(lambda x: x.iloc[::-1].values).to_frame(\"opp_teamname\")\n",
    "players_test = pd.concat([players_test, temp_opp_players], axis=1)"
   ]
  },
  {
   "cell_type": "markdown",
   "metadata": {},
   "source": [
    "## 날짜 추가"
   ]
  },
  {
   "cell_type": "code",
   "execution_count": 90,
   "metadata": {},
   "outputs": [],
   "source": [
    "teams_train[\"date\"] = pd.to_datetime(teams_train[\"date\"])\n",
    "teams_test[\"date\"] = pd.to_datetime(teams_test[\"date\"])\n",
    "\n",
    "players_train[\"date\"] = pd.to_datetime(players_train[\"date\"])\n",
    "players_test[\"date\"] = pd.to_datetime(players_test[\"date\"])\n",
    "\n",
    "teams_train[\"year\"] = teams_train[\"date\"].dt.year\n",
    "teams_train[\"month\"] = teams_train[\"date\"].dt.month\n",
    "teams_train[\"day\"] = teams_train[\"date\"].dt.day\n",
    "\n",
    "players_train[\"year\"] = players_train[\"date\"].dt.year\n",
    "players_train[\"month\"] = players_train[\"date\"].dt.month\n",
    "players_train[\"day\"] = players_train[\"date\"].dt.day\n",
    "\n",
    "teams_test[\"year\"] = teams_test[\"date\"].dt.year\n",
    "teams_test[\"month\"] = teams_test[\"date\"].dt.month\n",
    "teams_test[\"day\"] = teams_test[\"date\"].dt.day\n",
    "\n",
    "players_test[\"year\"] = players_test[\"date\"].dt.year\n",
    "players_test[\"month\"] = players_test[\"date\"].dt.month\n",
    "players_test[\"day\"] = players_test[\"date\"].dt.day"
   ]
  },
  {
   "cell_type": "markdown",
   "metadata": {},
   "source": [
    "## 데이터 타입 변경"
   ]
  },
  {
   "cell_type": "code",
   "execution_count": 91,
   "metadata": {},
   "outputs": [],
   "source": [
    "cols = [\"league\", \"split\", \"teamname\", \"opp_teamname\", \"ban1\", \"ban2\", \"ban3\", \"ban4\", \"ban5\", \"pick1\", \"pick2\", \"pick3\", \"pick4\", \"pick5\"]\n",
    "\n",
    "teams_train[cols] = teams_train[cols].astype(\"category\")\n",
    "teams_test[cols] = teams_test[cols].astype(\"category\")"
   ]
  },
  {
   "cell_type": "code",
   "execution_count": 92,
   "metadata": {},
   "outputs": [
    {
     "data": {
      "text/html": [
       "<div>\n",
       "<style scoped>\n",
       "    .dataframe tbody tr th:only-of-type {\n",
       "        vertical-align: middle;\n",
       "    }\n",
       "\n",
       "    .dataframe tbody tr th {\n",
       "        vertical-align: top;\n",
       "    }\n",
       "\n",
       "    .dataframe thead th {\n",
       "        text-align: right;\n",
       "    }\n",
       "</style>\n",
       "<table border=\"1\" class=\"dataframe\">\n",
       "  <thead>\n",
       "    <tr style=\"text-align: right;\">\n",
       "      <th></th>\n",
       "      <th>gameid</th>\n",
       "      <th>league</th>\n",
       "      <th>split</th>\n",
       "      <th>playoffs</th>\n",
       "      <th>date</th>\n",
       "      <th>game</th>\n",
       "      <th>patch</th>\n",
       "      <th>side</th>\n",
       "      <th>teamname</th>\n",
       "      <th>ban1</th>\n",
       "      <th>...</th>\n",
       "      <th>killsat15</th>\n",
       "      <th>assistsat15</th>\n",
       "      <th>deathsat15</th>\n",
       "      <th>opp_killsat15</th>\n",
       "      <th>opp_assistsat15</th>\n",
       "      <th>opp_deathsat15</th>\n",
       "      <th>opp_teamname</th>\n",
       "      <th>year</th>\n",
       "      <th>month</th>\n",
       "      <th>day</th>\n",
       "    </tr>\n",
       "  </thead>\n",
       "  <tbody>\n",
       "    <tr>\n",
       "      <th>0</th>\n",
       "      <td>ESPORTSTMNT01_2700815</td>\n",
       "      <td>LCK</td>\n",
       "      <td>Spring</td>\n",
       "      <td>0</td>\n",
       "      <td>2022-01-12 06:20:00</td>\n",
       "      <td>1</td>\n",
       "      <td>12.01</td>\n",
       "      <td>Blue</td>\n",
       "      <td>DRX</td>\n",
       "      <td>Diana</td>\n",
       "      <td>...</td>\n",
       "      <td>4.0</td>\n",
       "      <td>7.0</td>\n",
       "      <td>1.0</td>\n",
       "      <td>1.0</td>\n",
       "      <td>1.0</td>\n",
       "      <td>4.0</td>\n",
       "      <td>BNK FEARX</td>\n",
       "      <td>2022</td>\n",
       "      <td>1</td>\n",
       "      <td>12</td>\n",
       "    </tr>\n",
       "    <tr>\n",
       "      <th>1</th>\n",
       "      <td>ESPORTSTMNT01_2700815</td>\n",
       "      <td>LCK</td>\n",
       "      <td>Spring</td>\n",
       "      <td>0</td>\n",
       "      <td>2022-01-12 06:20:00</td>\n",
       "      <td>1</td>\n",
       "      <td>12.01</td>\n",
       "      <td>Red</td>\n",
       "      <td>BNK FEARX</td>\n",
       "      <td>Renekton</td>\n",
       "      <td>...</td>\n",
       "      <td>1.0</td>\n",
       "      <td>1.0</td>\n",
       "      <td>4.0</td>\n",
       "      <td>4.0</td>\n",
       "      <td>7.0</td>\n",
       "      <td>1.0</td>\n",
       "      <td>DRX</td>\n",
       "      <td>2022</td>\n",
       "      <td>1</td>\n",
       "      <td>12</td>\n",
       "    </tr>\n",
       "    <tr>\n",
       "      <th>2</th>\n",
       "      <td>ESPORTSTMNT01_2690695</td>\n",
       "      <td>LCK</td>\n",
       "      <td>Spring</td>\n",
       "      <td>0</td>\n",
       "      <td>2022-01-12 09:02:00</td>\n",
       "      <td>2</td>\n",
       "      <td>12.01</td>\n",
       "      <td>Blue</td>\n",
       "      <td>DRX</td>\n",
       "      <td>Diana</td>\n",
       "      <td>...</td>\n",
       "      <td>2.0</td>\n",
       "      <td>5.0</td>\n",
       "      <td>4.0</td>\n",
       "      <td>4.0</td>\n",
       "      <td>5.0</td>\n",
       "      <td>2.0</td>\n",
       "      <td>BNK FEARX</td>\n",
       "      <td>2022</td>\n",
       "      <td>1</td>\n",
       "      <td>12</td>\n",
       "    </tr>\n",
       "    <tr>\n",
       "      <th>3</th>\n",
       "      <td>ESPORTSTMNT01_2690695</td>\n",
       "      <td>LCK</td>\n",
       "      <td>Spring</td>\n",
       "      <td>0</td>\n",
       "      <td>2022-01-12 09:02:00</td>\n",
       "      <td>2</td>\n",
       "      <td>12.01</td>\n",
       "      <td>Red</td>\n",
       "      <td>BNK FEARX</td>\n",
       "      <td>Renekton</td>\n",
       "      <td>...</td>\n",
       "      <td>4.0</td>\n",
       "      <td>5.0</td>\n",
       "      <td>2.0</td>\n",
       "      <td>2.0</td>\n",
       "      <td>5.0</td>\n",
       "      <td>4.0</td>\n",
       "      <td>DRX</td>\n",
       "      <td>2022</td>\n",
       "      <td>1</td>\n",
       "      <td>12</td>\n",
       "    </tr>\n",
       "    <tr>\n",
       "      <th>4</th>\n",
       "      <td>ESPORTSTMNT01_2690705</td>\n",
       "      <td>LCK</td>\n",
       "      <td>Spring</td>\n",
       "      <td>0</td>\n",
       "      <td>2022-01-12 10:07:00</td>\n",
       "      <td>1</td>\n",
       "      <td>12.01</td>\n",
       "      <td>Blue</td>\n",
       "      <td>T1</td>\n",
       "      <td>Lee Sin</td>\n",
       "      <td>...</td>\n",
       "      <td>3.0</td>\n",
       "      <td>2.0</td>\n",
       "      <td>1.0</td>\n",
       "      <td>1.0</td>\n",
       "      <td>1.0</td>\n",
       "      <td>3.0</td>\n",
       "      <td>Kwangdong Freecs</td>\n",
       "      <td>2022</td>\n",
       "      <td>1</td>\n",
       "      <td>12</td>\n",
       "    </tr>\n",
       "  </tbody>\n",
       "</table>\n",
       "<p>5 rows × 115 columns</p>\n",
       "</div>"
      ],
      "text/plain": [
       "                  gameid league   split  playoffs                date  game  \\\n",
       "0  ESPORTSTMNT01_2700815    LCK  Spring         0 2022-01-12 06:20:00     1   \n",
       "1  ESPORTSTMNT01_2700815    LCK  Spring         0 2022-01-12 06:20:00     1   \n",
       "2  ESPORTSTMNT01_2690695    LCK  Spring         0 2022-01-12 09:02:00     2   \n",
       "3  ESPORTSTMNT01_2690695    LCK  Spring         0 2022-01-12 09:02:00     2   \n",
       "4  ESPORTSTMNT01_2690705    LCK  Spring         0 2022-01-12 10:07:00     1   \n",
       "\n",
       "   patch  side   teamname      ban1  ... killsat15 assistsat15 deathsat15  \\\n",
       "0  12.01  Blue        DRX     Diana  ...       4.0         7.0        1.0   \n",
       "1  12.01   Red  BNK FEARX  Renekton  ...       1.0         1.0        4.0   \n",
       "2  12.01  Blue        DRX     Diana  ...       2.0         5.0        4.0   \n",
       "3  12.01   Red  BNK FEARX  Renekton  ...       4.0         5.0        2.0   \n",
       "4  12.01  Blue         T1   Lee Sin  ...       3.0         2.0        1.0   \n",
       "\n",
       "  opp_killsat15 opp_assistsat15 opp_deathsat15      opp_teamname  year month  \\\n",
       "0           1.0             1.0            4.0         BNK FEARX  2022     1   \n",
       "1           4.0             7.0            1.0               DRX  2022     1   \n",
       "2           4.0             5.0            2.0         BNK FEARX  2022     1   \n",
       "3           2.0             5.0            4.0               DRX  2022     1   \n",
       "4           1.0             1.0            3.0  Kwangdong Freecs  2022     1   \n",
       "\n",
       "   day  \n",
       "0   12  \n",
       "1   12  \n",
       "2   12  \n",
       "3   12  \n",
       "4   12  \n",
       "\n",
       "[5 rows x 115 columns]"
      ]
     },
     "execution_count": 92,
     "metadata": {},
     "output_type": "execute_result"
    }
   ],
   "source": [
    "teams_train.head()"
   ]
  },
  {
   "cell_type": "markdown",
   "metadata": {},
   "source": [
    "# 특성 추가"
   ]
  },
  {
   "cell_type": "markdown",
   "metadata": {},
   "source": [
    "## df에 포함되어 있는 특성을 이용한 토대 작성"
   ]
  },
  {
   "cell_type": "code",
   "execution_count": 93,
   "metadata": {},
   "outputs": [
    {
     "data": {
      "text/plain": [
       "((9913, 19), (2324, 19))"
      ]
     },
     "execution_count": 93,
     "metadata": {},
     "output_type": "execute_result"
    }
   ],
   "source": [
    "pre_game_features = [\n",
    "    \"gameid\",\n",
    "    \"patch\",\n",
    "    \"side\",\n",
    "    \"league\",\n",
    "    \"teamname\",\n",
    "    \"opp_teamname\",\n",
    "    \"ban1\",\n",
    "    \"ban2\",\n",
    "    \"ban3\",\n",
    "    \"ban4\",\n",
    "    \"ban5\",\n",
    "    \"pick1\",\n",
    "    \"pick2\",\n",
    "    \"pick3\",\n",
    "    \"pick4\",\n",
    "    \"pick5\",\n",
    "    \"year\",\n",
    "    \"month\",\n",
    "    \"day\",\n",
    "]\n",
    "\n",
    "train_ft = teams_train[pre_game_features]\n",
    "test_ft = teams_test[pre_game_features]\n",
    "\n",
    "train_ft.shape, test_ft.shape"
   ]
  },
  {
   "cell_type": "markdown",
   "metadata": {},
   "source": [
    "### 팀별 최근 10경기 지표 계산, 상대팀 최근 10경기 지표 계산"
   ]
  },
  {
   "cell_type": "code",
   "execution_count": 94,
   "metadata": {},
   "outputs": [],
   "source": [
    "stats_columns = [\n",
    "    \"result\",\n",
    "    \"gamelength\",\n",
    "    \"kills\",\n",
    "    \"deaths\",\n",
    "    \"assists\",\n",
    "    \"firstblood\",\n",
    "    \"team kpm\",\n",
    "    \"ckpm\",\n",
    "    \"firstdragon\",\n",
    "    \"firstherald\",\n",
    "    \"void_grubs\",\n",
    "    \"firstbaron\",\n",
    "    \"firsttower\",\n",
    "    \"towers\",\n",
    "    \"firstmidtower\",\n",
    "    \"firsttothreetowers\",\n",
    "    \"turretplates\",\n",
    "    \"inhibitors\",\n",
    "    \"damagetochampions\",\n",
    "    \"dpm\",\n",
    "    \"damagetakenperminute\",\n",
    "    \"damagemitigatedperminute\",\n",
    "    \"wardsplaced\",\n",
    "    \"wpm\",\n",
    "    \"wardskilled\",\n",
    "    \"wcpm\",\n",
    "    \"controlwardsbought\",\n",
    "    \"visionscore\",\n",
    "    \"vspm\",\n",
    "]"
   ]
  },
  {
   "cell_type": "code",
   "execution_count": 95,
   "metadata": {},
   "outputs": [
    {
     "data": {
      "text/plain": [
       "((9913, 77), (2324, 77))"
      ]
     },
     "execution_count": 95,
     "metadata": {},
     "output_type": "execute_result"
    }
   ],
   "source": [
    "# 팀별 최근 승률 계산을 위한 데이터 정렬\n",
    "temp_train = teams_train.sort_values(['teamname', 'year', 'month', 'day']).reset_index(drop=True)\n",
    "temp_test = teams_test.sort_values(['teamname', 'year', 'month', 'day']).reset_index(drop=True)\n",
    "\n",
    "# 팀별 최근 10경기 평균 계산\n",
    "for col in stats_columns:\n",
    "    # 승률 계산\n",
    "    recent10_train = temp_train.groupby('teamname', observed=True)[col].transform(\n",
    "        lambda x: x.rolling(window=10, min_periods=1).mean().shift(1)\n",
    "    )\n",
    "    train_ft = train_ft.assign(**{f'recent10_{col}': recent10_train})\n",
    "    \n",
    "    # 테스트 데이터의 지표 계산을 위해 훈련 데이터와 테스트 데이터 결합\n",
    "    combined_data = pd.concat([temp_train, temp_test], ignore_index=True).sort_values(['teamname', 'year', 'month', 'day'])\n",
    "    recent10_combined = combined_data.groupby('teamname', observed=True)[col].transform(\n",
    "        lambda x: x.rolling(window=10, min_periods=1).mean().shift(1)\n",
    "    )\n",
    "    combined_data = combined_data.assign(**{f'recent10_{col}': recent10_combined})\n",
    "\n",
    "    # 테스트 데이터의 지표 업데이트\n",
    "    recent10_test = combined_data.tail(len(temp_test))[f'recent10_{col}'].values\n",
    "    test_ft = test_ft.assign(**{f'recent10_{col}': recent10_test})\n",
    "    \n",
    "    # 상대팀 최근 지표 계산\n",
    "    merged_train = train_ft.merge(\n",
    "        train_ft[['teamname', 'year', 'month', 'day', f'recent10_{col}']], \n",
    "        left_on=['opp_teamname', 'year', 'month', 'day'],\n",
    "        right_on=['teamname', 'year', 'month', 'day'],\n",
    "        suffixes=('', '_opp')\n",
    "    )\n",
    "    train_ft = train_ft.assign(**{f'opp_recent10_{col}': merged_train[f'recent10_{col}_opp']})\n",
    "    \n",
    "    merged_test = test_ft.merge(\n",
    "        combined_data[['teamname', 'year', 'month', 'day', f'recent10_{col}']], \n",
    "        left_on=['opp_teamname', 'year', 'month', 'day'],\n",
    "        right_on=['teamname', 'year', 'month', 'day'],\n",
    "        suffixes=('', '_opp')\n",
    "    )\n",
    "    test_ft = test_ft.assign(**{f'opp_recent10_{col}': merged_test[f'recent10_{col}_opp']})\n",
    "    \n",
    "    # NaN값 처리 (첫 경기인 경우)\n",
    "    default_value = 0.5 if col == 'result' else 0\n",
    "    train_ft = train_ft.assign(**{\n",
    "        f'recent10_{col}': train_ft[f'recent10_{col}'].fillna(default_value),\n",
    "        f'opp_recent10_{col}': train_ft[f'opp_recent10_{col}'].fillna(default_value)\n",
    "    })\n",
    "    test_ft = test_ft.assign(**{\n",
    "        f'recent10_{col}': test_ft[f'recent10_{col}'].fillna(default_value),\n",
    "        f'opp_recent10_{col}': test_ft[f'opp_recent10_{col}'].fillna(default_value)\n",
    "    })\n",
    "    \n",
    "    # 특성 리스트에 새로운 지표 추가\n",
    "    pre_game_features.extend([f'recent10_{col}', f'opp_recent10_{col}'])\n",
    "\n",
    "# 입력 데이터 업데이트\n",
    "train_ft = train_ft[pre_game_features]\n",
    "test_ft = test_ft[pre_game_features]\n",
    "\n",
    "train_ft.shape, test_ft.shape"
   ]
  },
  {
   "cell_type": "code",
   "execution_count": 96,
   "metadata": {},
   "outputs": [
    {
     "data": {
      "text/html": [
       "<div>\n",
       "<style scoped>\n",
       "    .dataframe tbody tr th:only-of-type {\n",
       "        vertical-align: middle;\n",
       "    }\n",
       "\n",
       "    .dataframe tbody tr th {\n",
       "        vertical-align: top;\n",
       "    }\n",
       "\n",
       "    .dataframe thead th {\n",
       "        text-align: right;\n",
       "    }\n",
       "</style>\n",
       "<table border=\"1\" class=\"dataframe\">\n",
       "  <thead>\n",
       "    <tr style=\"text-align: right;\">\n",
       "      <th></th>\n",
       "      <th>gameid</th>\n",
       "      <th>patch</th>\n",
       "      <th>side</th>\n",
       "      <th>league</th>\n",
       "      <th>teamname</th>\n",
       "      <th>opp_teamname</th>\n",
       "      <th>ban1</th>\n",
       "      <th>ban2</th>\n",
       "      <th>ban3</th>\n",
       "      <th>ban4</th>\n",
       "      <th>...</th>\n",
       "      <th>recent10_wardskilled</th>\n",
       "      <th>opp_recent10_wardskilled</th>\n",
       "      <th>recent10_wcpm</th>\n",
       "      <th>opp_recent10_wcpm</th>\n",
       "      <th>recent10_controlwardsbought</th>\n",
       "      <th>opp_recent10_controlwardsbought</th>\n",
       "      <th>recent10_visionscore</th>\n",
       "      <th>opp_recent10_visionscore</th>\n",
       "      <th>recent10_vspm</th>\n",
       "      <th>opp_recent10_vspm</th>\n",
       "    </tr>\n",
       "  </thead>\n",
       "  <tbody>\n",
       "    <tr>\n",
       "      <th>0</th>\n",
       "      <td>ESPORTSTMNT01_2700815</td>\n",
       "      <td>12.01</td>\n",
       "      <td>Blue</td>\n",
       "      <td>LCK</td>\n",
       "      <td>DRX</td>\n",
       "      <td>BNK FEARX</td>\n",
       "      <td>Diana</td>\n",
       "      <td>Caitlyn</td>\n",
       "      <td>Twisted Fate</td>\n",
       "      <td>LeBlanc</td>\n",
       "      <td>...</td>\n",
       "      <td>0.000000</td>\n",
       "      <td>35.000000</td>\n",
       "      <td>0.000000</td>\n",
       "      <td>1.316600</td>\n",
       "      <td>0.00</td>\n",
       "      <td>30.0</td>\n",
       "      <td>0.000000</td>\n",
       "      <td>207.000000</td>\n",
       "      <td>0.000000</td>\n",
       "      <td>7.786800</td>\n",
       "    </tr>\n",
       "    <tr>\n",
       "      <th>1</th>\n",
       "      <td>ESPORTSTMNT01_2700815</td>\n",
       "      <td>12.01</td>\n",
       "      <td>Red</td>\n",
       "      <td>LCK</td>\n",
       "      <td>BNK FEARX</td>\n",
       "      <td>DRX</td>\n",
       "      <td>Renekton</td>\n",
       "      <td>Lee Sin</td>\n",
       "      <td>Leona</td>\n",
       "      <td>Jayce</td>\n",
       "      <td>...</td>\n",
       "      <td>35.000000</td>\n",
       "      <td>45.666667</td>\n",
       "      <td>1.316600</td>\n",
       "      <td>1.464567</td>\n",
       "      <td>30.00</td>\n",
       "      <td>40.0</td>\n",
       "      <td>207.000000</td>\n",
       "      <td>250.333333</td>\n",
       "      <td>7.786800</td>\n",
       "      <td>8.068033</td>\n",
       "    </tr>\n",
       "    <tr>\n",
       "      <th>2</th>\n",
       "      <td>ESPORTSTMNT01_2690695</td>\n",
       "      <td>12.01</td>\n",
       "      <td>Blue</td>\n",
       "      <td>LCK</td>\n",
       "      <td>DRX</td>\n",
       "      <td>BNK FEARX</td>\n",
       "      <td>Diana</td>\n",
       "      <td>Caitlyn</td>\n",
       "      <td>Yuumi</td>\n",
       "      <td>Samira</td>\n",
       "      <td>...</td>\n",
       "      <td>42.000000</td>\n",
       "      <td>0.000000</td>\n",
       "      <td>1.402250</td>\n",
       "      <td>0.000000</td>\n",
       "      <td>38.50</td>\n",
       "      <td>0.0</td>\n",
       "      <td>242.500000</td>\n",
       "      <td>0.000000</td>\n",
       "      <td>8.114050</td>\n",
       "      <td>0.000000</td>\n",
       "    </tr>\n",
       "    <tr>\n",
       "      <th>3</th>\n",
       "      <td>ESPORTSTMNT01_2690695</td>\n",
       "      <td>12.01</td>\n",
       "      <td>Red</td>\n",
       "      <td>LCK</td>\n",
       "      <td>BNK FEARX</td>\n",
       "      <td>DRX</td>\n",
       "      <td>Renekton</td>\n",
       "      <td>Lee Sin</td>\n",
       "      <td>Twisted Fate</td>\n",
       "      <td>Viktor</td>\n",
       "      <td>...</td>\n",
       "      <td>45.666667</td>\n",
       "      <td>42.000000</td>\n",
       "      <td>1.464567</td>\n",
       "      <td>1.402250</td>\n",
       "      <td>40.00</td>\n",
       "      <td>38.5</td>\n",
       "      <td>250.333333</td>\n",
       "      <td>242.500000</td>\n",
       "      <td>8.068033</td>\n",
       "      <td>8.114050</td>\n",
       "    </tr>\n",
       "    <tr>\n",
       "      <th>4</th>\n",
       "      <td>ESPORTSTMNT01_2690705</td>\n",
       "      <td>12.01</td>\n",
       "      <td>Blue</td>\n",
       "      <td>LCK</td>\n",
       "      <td>T1</td>\n",
       "      <td>Kwangdong Freecs</td>\n",
       "      <td>Lee Sin</td>\n",
       "      <td>Ryze</td>\n",
       "      <td>Viktor</td>\n",
       "      <td>LeBlanc</td>\n",
       "      <td>...</td>\n",
       "      <td>49.500000</td>\n",
       "      <td>35.000000</td>\n",
       "      <td>1.612750</td>\n",
       "      <td>1.316600</td>\n",
       "      <td>40.75</td>\n",
       "      <td>30.0</td>\n",
       "      <td>247.000000</td>\n",
       "      <td>207.000000</td>\n",
       "      <td>8.049350</td>\n",
       "      <td>7.786800</td>\n",
       "    </tr>\n",
       "  </tbody>\n",
       "</table>\n",
       "<p>5 rows × 77 columns</p>\n",
       "</div>"
      ],
      "text/plain": [
       "                  gameid  patch  side league   teamname      opp_teamname  \\\n",
       "0  ESPORTSTMNT01_2700815  12.01  Blue    LCK        DRX         BNK FEARX   \n",
       "1  ESPORTSTMNT01_2700815  12.01   Red    LCK  BNK FEARX               DRX   \n",
       "2  ESPORTSTMNT01_2690695  12.01  Blue    LCK        DRX         BNK FEARX   \n",
       "3  ESPORTSTMNT01_2690695  12.01   Red    LCK  BNK FEARX               DRX   \n",
       "4  ESPORTSTMNT01_2690705  12.01  Blue    LCK         T1  Kwangdong Freecs   \n",
       "\n",
       "       ban1     ban2          ban3     ban4  ... recent10_wardskilled  \\\n",
       "0     Diana  Caitlyn  Twisted Fate  LeBlanc  ...             0.000000   \n",
       "1  Renekton  Lee Sin         Leona    Jayce  ...            35.000000   \n",
       "2     Diana  Caitlyn         Yuumi   Samira  ...            42.000000   \n",
       "3  Renekton  Lee Sin  Twisted Fate   Viktor  ...            45.666667   \n",
       "4   Lee Sin     Ryze        Viktor  LeBlanc  ...            49.500000   \n",
       "\n",
       "  opp_recent10_wardskilled recent10_wcpm opp_recent10_wcpm  \\\n",
       "0                35.000000      0.000000          1.316600   \n",
       "1                45.666667      1.316600          1.464567   \n",
       "2                 0.000000      1.402250          0.000000   \n",
       "3                42.000000      1.464567          1.402250   \n",
       "4                35.000000      1.612750          1.316600   \n",
       "\n",
       "  recent10_controlwardsbought opp_recent10_controlwardsbought  \\\n",
       "0                        0.00                            30.0   \n",
       "1                       30.00                            40.0   \n",
       "2                       38.50                             0.0   \n",
       "3                       40.00                            38.5   \n",
       "4                       40.75                            30.0   \n",
       "\n",
       "   recent10_visionscore  opp_recent10_visionscore  recent10_vspm  \\\n",
       "0              0.000000                207.000000       0.000000   \n",
       "1            207.000000                250.333333       7.786800   \n",
       "2            242.500000                  0.000000       8.114050   \n",
       "3            250.333333                242.500000       8.068033   \n",
       "4            247.000000                207.000000       8.049350   \n",
       "\n",
       "   opp_recent10_vspm  \n",
       "0           7.786800  \n",
       "1           8.068033  \n",
       "2           0.000000  \n",
       "3           8.114050  \n",
       "4           7.786800  \n",
       "\n",
       "[5 rows x 77 columns]"
      ]
     },
     "execution_count": 96,
     "metadata": {},
     "output_type": "execute_result"
    }
   ],
   "source": [
    "train_ft.head()"
   ]
  },
  {
   "cell_type": "markdown",
   "metadata": {},
   "source": [
    "### 상대 전적"
   ]
  },
  {
   "cell_type": "code",
   "execution_count": 97,
   "metadata": {},
   "outputs": [
    {
     "data": {
      "text/plain": [
       "((9913, 78), (2324, 78))"
      ]
     },
     "execution_count": 97,
     "metadata": {},
     "output_type": "execute_result"
    }
   ],
   "source": [
    "# 팀별 맞대결 기록을 시간순으로 계산\n",
    "h2h_records = {}\n",
    "\n",
    "# 훈련 데이터와 테스트 데이터 결합 후 시간순 정렬\n",
    "combined_data = pd.concat([teams_train, teams_test], ignore_index=True)\n",
    "combined_data = combined_data.sort_values(['year', 'month', 'day'])\n",
    "\n",
    "# 각 경기마다 이전 맞대결 기록 계산\n",
    "h2h_winrates = []\n",
    "\n",
    "for idx, match in combined_data.iterrows():\n",
    "    team1, team2 = match['teamname'], match['opp_teamname']\n",
    "    year = match['year']\n",
    "    key = (team1, team2, year)\n",
    "    \n",
    "    # 현재 시점까지의 맞대결 기록 저장\n",
    "    if key not in h2h_records:\n",
    "        h2h_records[key] = {'wins': 0, 'total': 0}\n",
    "        h2h_winrates.append(0.5)  # 첫 맞대결인 경우 0.5 반환\n",
    "    else:\n",
    "        record = h2h_records[key]\n",
    "        h2h_winrates.append(record['wins'] / record['total'] if record['total'] > 0 else 0.5)\n",
    "    \n",
    "    # 현재 경기 결과 반영\n",
    "    result = match['result']\n",
    "    h2h_records[key]['total'] += 1\n",
    "    if result == 1:\n",
    "        h2h_records[key]['wins'] += 1\n",
    "        \n",
    "    # 상대팀 관점의 기록도 업데이트\n",
    "    key_reverse = (team2, team1, year)\n",
    "    if key_reverse not in h2h_records:\n",
    "        h2h_records[key_reverse] = {'wins': 0, 'total': 0}\n",
    "    h2h_records[key_reverse]['total'] += 1\n",
    "    if result == 0:\n",
    "        h2h_records[key_reverse]['wins'] += 1\n",
    "\n",
    "# 계산된 승률을 훈련/테스트 데이터에 할당\n",
    "train_ft['h2h_winrate'] = h2h_winrates[:len(teams_train)]\n",
    "test_ft['h2h_winrate'] = h2h_winrates[len(teams_train):]\n",
    "\n",
    "# 특성 리스트에 h2h_winrate 추가\n",
    "pre_game_features.append('h2h_winrate')\n",
    "\n",
    "# 입력 데이터 업데이트\n",
    "train_ft = train_ft[pre_game_features]\n",
    "test_ft = test_ft[pre_game_features]\n",
    "\n",
    "train_ft.shape, test_ft.shape"
   ]
  },
  {
   "cell_type": "markdown",
   "metadata": {},
   "source": [
    "### 각 팀의 리그별 승률"
   ]
  },
  {
   "cell_type": "code",
   "execution_count": 98,
   "metadata": {},
   "outputs": [
    {
     "data": {
      "text/plain": [
       "((9913, 79), (2324, 79))"
      ]
     },
     "execution_count": 98,
     "metadata": {},
     "output_type": "execute_result"
    }
   ],
   "source": [
    "# 팀별 리그 승률 기록을 저장할 딕셔너리\n",
    "league_records = {}\n",
    "league_winrates = []\n",
    "\n",
    "# 날짜순으로 정렬\n",
    "combined_data = pd.concat([teams_train, teams_test], ignore_index=True)\n",
    "combined_data = combined_data.sort_values('date')\n",
    "\n",
    "# 훈련 데이터에서 팀별 리그 승률 계산\n",
    "for idx, match in combined_data.iterrows():\n",
    "    team = match['teamname']\n",
    "    league = match['league']\n",
    "    year = match['year']\n",
    "    key = (team, league, year)\n",
    "    \n",
    "    # 현재 시점까지의 리그 승률 계산\n",
    "    if key not in league_records:\n",
    "        league_records[key] = {'wins': 0, 'total': 0}\n",
    "        league_winrates.append(0.5)  # 첫 경기인 경우 0.5 반환\n",
    "    else:\n",
    "        record = league_records[key]\n",
    "        league_winrates.append(record['wins'] / record['total'] if record['total'] > 0 else 0.5)\n",
    "    \n",
    "    # 현재 경기 결과 반영\n",
    "    result = match['result']\n",
    "    league_records[key]['total'] += 1\n",
    "    if result == 1:\n",
    "        league_records[key]['wins'] += 1\n",
    "\n",
    "# 계산된 승률을 훈련/테스트 데이터에 할당\n",
    "train_ft['league_winrate'] = league_winrates[:len(teams_train)]\n",
    "test_ft['league_winrate'] = league_winrates[len(teams_train):]\n",
    "\n",
    "# 특성 리스트에 league_winrate 추가\n",
    "pre_game_features.append('league_winrate')\n",
    "\n",
    "# 입력 데이터 업데이트\n",
    "train_ft = train_ft[pre_game_features]\n",
    "test_ft = test_ft[pre_game_features]\n",
    "\n",
    "train_ft.shape, test_ft.shape"
   ]
  },
  {
   "cell_type": "markdown",
   "metadata": {},
   "source": [
    "### 각 패치 버전 사이드별 승률"
   ]
  },
  {
   "cell_type": "code",
   "execution_count": 99,
   "metadata": {},
   "outputs": [],
   "source": [
    "# # 패치 버전 사이드별 승률 기록을 저장할 딕셔너리\n",
    "# patch_side_records = {}\n",
    "# patch_side_winrates = []\n",
    "\n",
    "# # 날짜순으로 정렬\n",
    "# combined_data = pd.concat([teams_train, teams_test], ignore_index=True)\n",
    "# combined_data = combined_data.sort_values('date')\n",
    "\n",
    "# # 패치/사이드별 승률 계산\n",
    "# for idx, match in combined_data.iterrows():\n",
    "#     patch = match['patch']\n",
    "#     side = match['side']\n",
    "#     key = (patch, side)\n",
    "    \n",
    "#     # 현재 시점까지의 패치/사이드별 승률 계산\n",
    "#     if key not in patch_side_records:\n",
    "#         patch_side_records[key] = {'wins': 0, 'total': 0}\n",
    "#         patch_side_winrates.append(0.5)  # 첫 경기인 경우 0.5 반환\n",
    "#     else:\n",
    "#         record = patch_side_records[key]\n",
    "#         patch_side_winrates.append(record['wins'] / record['total'] if record['total'] > 0 else 0.5)\n",
    "    \n",
    "#     # 현재 경기 결과 반영\n",
    "#     result = match['result']\n",
    "#     patch_side_records[key]['total'] += 1\n",
    "#     if result == 1:\n",
    "#         patch_side_records[key]['wins'] += 1\n",
    "\n",
    "# # 계산된 승률을 훈련/테스트 데이터에 할당\n",
    "# train_ft['patch_side_winrate'] = patch_side_winrates[:len(teams_train)]\n",
    "# test_ft['patch_side_winrate'] = patch_side_winrates[len(teams_train):]\n",
    "\n",
    "# # 특성 리스트에 patch_side_winrate 추가\n",
    "# pre_game_features.append('patch_side_winrate')\n",
    "\n",
    "# # 입력 데이터 업데이트\n",
    "# train_ft = train_ft[pre_game_features]\n",
    "# test_ft = test_ft[pre_game_features]\n",
    "\n",
    "# train_ft.shape, test_ft.shape"
   ]
  },
  {
   "cell_type": "markdown",
   "metadata": {},
   "source": [
    "### 픽 챔피언 지표"
   ]
  },
  {
   "cell_type": "code",
   "execution_count": 100,
   "metadata": {},
   "outputs": [],
   "source": [
    "# df = teams_train.copy()\n",
    "# df = df.sort_values([\"teamname\", \"date\", \"gameid\"])  # 시계열 정렬\n",
    "\n",
    "# for slot in [\"pick1\", \"pick2\", \"pick3\", \"pick4\", \"pick5\"]:\n",
    "#     # 1) 챔피언 컬럼 만들기\n",
    "#     df_pick = df[[\"gameid\", \"teamname\", \"date\", \"result\", slot]].copy()\n",
    "#     df_pick.rename(columns={slot: \"champion\"}, inplace=True)\n",
    "\n",
    "#     # 2) 챔피언을 category로 바꾸면 메모리 절약에 도움\n",
    "#     df_pick[\"champion\"] = df_pick[\"champion\"].astype(\"category\")\n",
    "\n",
    "#     # 3) groupby + cumsum + shift(1)로 \"직전까지\" 누적\n",
    "#     df_pick[\"pick_ind\"] = 1\n",
    "#     df_pick[\"win_ind\"] = (df_pick[\"result\"] == 1).astype(int)\n",
    "\n",
    "#     df_pick[\"cum_pick_count\"] = (\n",
    "#         df_pick.groupby([\"teamname\", \"champion\"], observed=True)[\"pick_ind\"].cumsum().shift(1)\n",
    "#     )\n",
    "#     df_pick[\"cum_win_count\"] = (\n",
    "#         df_pick.groupby([\"teamname\", \"champion\"], observed=True)[\"win_ind\"].cumsum().shift(1)\n",
    "#     )\n",
    "#     df_pick[\"cum_win_rate\"] = (\n",
    "#         df_pick[\"cum_win_count\"] / df_pick[\"cum_pick_count\"]\n",
    "#     ).fillna(0)\n",
    "\n",
    "#     # 4) 필요한 컬럼만 남겨서, 컬럼 이름으로 바꾸기\n",
    "#     df_pick = df_pick[\n",
    "#         [\"gameid\", \"teamname\", \"date\", \"champion\", \"cum_pick_count\", \"cum_win_rate\"]\n",
    "#     ].copy()\n",
    "\n",
    "#     df_pick.rename(\n",
    "#         columns={\n",
    "#             \"champion\": f\"{slot}_champion\",  # 구분용\n",
    "#             \"cum_pick_count\": f\"{slot}_cum_pick_count\",\n",
    "#             \"cum_win_rate\": f\"{slot}_cum_win_rate\",\n",
    "#         },\n",
    "#         inplace=True,\n",
    "#     )\n",
    "    \n",
    "#     # 5) 원본 df와 merge\n",
    "#     df = pd.merge(\n",
    "#         df,\n",
    "#         df_pick[\n",
    "#             [\n",
    "#                 \"gameid\",\n",
    "#                 \"teamname\",\n",
    "#                 \"date\",\n",
    "#                 f\"{slot}_champion\",\n",
    "#                 f\"{slot}_cum_pick_count\",\n",
    "#                 f\"{slot}_cum_win_rate\",\n",
    "#             ]\n",
    "#         ],\n",
    "#         left_on=[\"gameid\", \"teamname\", \"date\", f\"{slot}\"],  # 조인 키\n",
    "#         right_on=[\"gameid\", \"teamname\", \"date\", f\"{slot}_champion\"],\n",
    "#         how=\"left\",\n",
    "#     )"
   ]
  },
  {
   "cell_type": "markdown",
   "metadata": {},
   "source": [
    "# 인코딩"
   ]
  },
  {
   "cell_type": "code",
   "execution_count": 101,
   "metadata": {},
   "outputs": [],
   "source": [
    "train_ft[\"side\"] = train_ft[\"side\"].map({\"Blue\": 0, \"Red\": 1}) # 진영 인코딩\n",
    "test_ft[\"side\"] = test_ft[\"side\"].map({\"Blue\": 0, \"Red\": 1})"
   ]
  },
  {
   "cell_type": "code",
   "execution_count": 102,
   "metadata": {},
   "outputs": [],
   "source": [
    "from sklearn.preprocessing import LabelEncoder\n",
    "from sklearn.preprocessing import OneHotEncoder\n",
    "\n",
    "cat_train_ft = train_ft.copy()\n",
    "cat_test_ft = test_ft.copy()\n",
    "\n",
    "def preprocess(train_ft, test_ft):\n",
    "    champion_columns_teams = ['ban1', 'ban2', 'ban3', 'ban4', 'ban5', 'pick1', 'pick2', 'pick3', 'pick4', 'pick5'] # 챔피언 레이블인코딩\n",
    "\n",
    "    champions = pd.concat([\n",
    "        train_ft[champion_columns_teams],\n",
    "        test_ft[champion_columns_teams],\n",
    "    ]).stack().unique()\n",
    "\n",
    "    champions_df = pd.DataFrame({'champion': champions})\n",
    "    champions_df = champions_df.dropna().reset_index(drop=True)\n",
    "\n",
    "    le = LabelEncoder()\n",
    "    champions_df['champion_encoded'] = le.fit_transform(champions_df['champion'])\n",
    "\n",
    "    for col in champion_columns_teams:\n",
    "        train_ft[col] = le.transform(train_ft[col])\n",
    "        test_ft[col] = le.transform(test_ft[col])\n",
    "        \n",
    "    encoder = OneHotEncoder() # 리그 원핫인코딩\n",
    "    league_encoded = encoder.fit_transform(train_ft[[\"league\"]]).toarray()\n",
    "    league_cols = [f\"league_{col}\" for col in encoder.categories_[0]]\n",
    "    train_ft = pd.concat(\n",
    "        [train_ft, pd.DataFrame(league_encoded, columns=league_cols)], axis=1\n",
    "    )\n",
    "    train_ft.drop(\"league\", axis=1, inplace=True)\n",
    "\n",
    "    league_encoded = encoder.transform(test_ft[[\"league\"]]).toarray()\n",
    "    test_ft = pd.concat(\n",
    "        [test_ft, pd.DataFrame(league_encoded, columns=league_cols)], axis=1\n",
    "    )\n",
    "    test_ft.drop(\"league\", axis=1, inplace=True)\n",
    "\n",
    "    le_team = LabelEncoder()\n",
    "    all_team_names = pd.concat(\n",
    "        [\n",
    "            train_ft[\"teamname\"],\n",
    "            test_ft[\"teamname\"],\n",
    "            train_ft[\"opp_teamname\"],\n",
    "            test_ft[\"opp_teamname\"],\n",
    "        ]\n",
    "    )\n",
    "    le_team.fit(all_team_names)\n",
    "\n",
    "    train_ft[\"teamname\"] = le_team.transform(train_ft[\"teamname\"])\n",
    "    train_ft[\"opp_teamname\"] = le_team.transform(train_ft[\"opp_teamname\"])\n",
    "\n",
    "    test_ft[\"teamname\"] = le_team.transform(test_ft[\"teamname\"])\n",
    "    test_ft[\"opp_teamname\"] = le_team.transform(test_ft[\"opp_teamname\"])\n",
    "    \n",
    "    return train_ft, test_ft\n",
    "\n",
    "train_ft, test_ft = preprocess(train_ft, test_ft)"
   ]
  },
  {
   "cell_type": "code",
   "execution_count": 103,
   "metadata": {},
   "outputs": [
    {
     "data": {
      "text/plain": [
       "(Index(['gameid'], dtype='object'), Index(['gameid'], dtype='object'))"
      ]
     },
     "execution_count": 103,
     "metadata": {},
     "output_type": "execute_result"
    }
   ],
   "source": [
    "train_ft.select_dtypes(\"object\").columns, test_ft.select_dtypes(\"object\").columns"
   ]
  },
  {
   "cell_type": "markdown",
   "metadata": {},
   "source": [
    "# 스케일링"
   ]
  },
  {
   "cell_type": "code",
   "execution_count": 104,
   "metadata": {},
   "outputs": [],
   "source": [
    "from sklearn.preprocessing import MinMaxScaler\n",
    "\n",
    "scaler = MinMaxScaler()\n",
    "\n",
    "\n",
    "def scale(train_ft, test_ft):\n",
    "    train_ft[train_ft.select_dtypes(\"number\").columns] = scaler.fit_transform(\n",
    "        train_ft[train_ft.select_dtypes(\"number\").columns]\n",
    "    )\n",
    "    test_ft[test_ft.select_dtypes(\"number\").columns] = scaler.transform(\n",
    "        test_ft[test_ft.select_dtypes(\"number\").columns]\n",
    "    )\n",
    "    return train_ft, test_ft\n",
    "\n",
    "\n",
    "train_ft, test_ft = scale(train_ft, test_ft)\n",
    "cat_train_ft, cat_test_ft = scale(cat_train_ft, cat_test_ft)"
   ]
  },
  {
   "cell_type": "markdown",
   "metadata": {},
   "source": [
    "# 모델 학습 및 검증"
   ]
  },
  {
   "cell_type": "markdown",
   "metadata": {},
   "source": [
    "- 하이퍼파라미터 튜닝 클래스"
   ]
  },
  {
   "cell_type": "code",
   "execution_count": 1,
   "metadata": {},
   "outputs": [],
   "source": [
    "import optuna\n",
    "from sklearn.model_selection import TimeSeriesSplit, cross_val_score\n",
    "\n",
    "class HyperparameterTuner:\n",
    "    def __init__(self, model, params, train, target, cat_features=None):\n",
    "        self.model = model\n",
    "        self.params = params\n",
    "        self.train = train\n",
    "        self.target = target\n",
    "        self.cat_features = cat_features\n",
    "        self.cv = TimeSeriesSplit(n_splits=5)\n",
    "        self.study = optuna.create_study(direction=\"maximize\")\n",
    "\n",
    "    def objective(self, trial):\n",
    "        params = {}\n",
    "        \n",
    "        for param_name, param_range in self.params.items():\n",
    "            if param_range[\"type\"] == \"int\":\n",
    "                params[param_name] = trial.suggest_int(\n",
    "                    param_name, param_range[\"min\"], param_range[\"max\"]\n",
    "                )\n",
    "            elif param_range[\"type\"] == \"float\":\n",
    "                params[param_name] = trial.suggest_float(\n",
    "                    param_name, param_range[\"min\"], param_range[\"max\"]\n",
    "                )\n",
    "            elif param_range[\"type\"] == \"categorical\":\n",
    "                params[param_name] = trial.suggest_categorical(\n",
    "                    param_name, param_range[\"values\"]\n",
    "                )\n",
    "        if self.model == CatBoostClassifier:\n",
    "            model = self.model(**params, cat_features=self.cat_features, logging_level=\"Silent\")\n",
    "        else:\n",
    "            model = self.model(**params)\n",
    "\n",
    "        model.fit(self.train, self.target)\n",
    "            \n",
    "        scores = cross_val_score(\n",
    "            model, self.train, self.target, cv=self.cv, scoring=\"accuracy\", n_jobs=-1\n",
    "        ).mean()\n",
    "        return scores\n",
    "\n",
    "    def optimize(self, n_trials):\n",
    "        self.study.optimize(self.objective, n_trials=n_trials)\n",
    "\n",
    "    def best_params(self):\n",
    "        return self.study.best_params\n",
    "\n",
    "    def best_score(self):\n",
    "        return self.study.best_value"
   ]
  },
  {
   "cell_type": "markdown",
   "metadata": {},
   "source": [
    "### 모든 컬럼 형식이 number인 데이터셋"
   ]
  },
  {
   "cell_type": "code",
   "execution_count": 106,
   "metadata": {},
   "outputs": [],
   "source": [
    "pre_game_features.remove(\"league\")\n",
    "\n",
    "cutoff_patch = train_ft[\"patch\"].quantile(0.8)\n",
    "train_games = train_ft[train_ft[\"patch\"] < cutoff_patch][\"gameid\"].unique()\n",
    "valid_games = train_ft[train_ft[\"patch\"] >= cutoff_patch][\"gameid\"].unique()\n",
    "\n",
    "train_x = train_ft[train_ft[\"gameid\"].isin(train_games)][pre_game_features]\n",
    "valid_x = train_ft[train_ft[\"gameid\"].isin(valid_games)][pre_game_features]\n",
    "\n",
    "train_y = teams_train_target[teams_train_target[\"gameid\"].isin(train_games)][\"result\"]\n",
    "valid_y = teams_train_target[teams_train_target[\"gameid\"].isin(valid_games)][\"result\"]\n",
    "\n",
    "train_x.drop(columns=[\"gameid\"], inplace=True)\n",
    "valid_x.drop(columns=[\"gameid\"], inplace=True)"
   ]
  },
  {
   "cell_type": "code",
   "execution_count": 108,
   "metadata": {},
   "outputs": [
    {
     "name": "stdout",
     "output_type": "stream",
     "text": [
      "LogisticRegression : 0.6663587374903772, 0.02506645631585489\n",
      "LGBMClassifier : 0.7153194765204003, 0.0462211848391806\n",
      "RandomForestClassifier : 0.6605080831408776, 0.03514307070211957\n",
      "HistGradientBoostingClassifier : 0.7183987682832949, 0.05259057124928453\n",
      "AdaBoostClassifier : 0.657428791377983, 0.034324090545970666\n",
      "SVC : 0.6558891454965358, 0.024397436759804655\n",
      "XGBClassifier : 0.7085450346420323, 0.03684421170357534\n",
      "CatBoostClassifier : 0.7040800615858352, 0.03792845052087791\n"
     ]
    }
   ],
   "source": [
    "from sklearn.metrics import accuracy_score\n",
    "from sklearn.linear_model import LogisticRegression\n",
    "from lightgbm import LGBMClassifier\n",
    "from sklearn.ensemble import AdaBoostClassifier, HistGradientBoostingClassifier, RandomForestClassifier\n",
    "from sklearn.metrics import classification_report\n",
    "from sklearn.svm import SVC\n",
    "from xgboost import XGBClassifier\n",
    "from catboost import CatBoostClassifier\n",
    "\n",
    "\n",
    "models = [\n",
    "    LogisticRegression(random_state=SEED),\n",
    "    LGBMClassifier(random_state=SEED, n_jobs=-1),\n",
    "    RandomForestClassifier(random_state=SEED, n_jobs=-1),\n",
    "    HistGradientBoostingClassifier(random_state=SEED),\n",
    "    AdaBoostClassifier(random_state=SEED),\n",
    "    SVC(random_state=SEED),\n",
    "    XGBClassifier(random_state=SEED, n_jobs=-1),\n",
    "    CatBoostClassifier(random_state=SEED, verbose=0),\n",
    "]\n",
    "\n",
    "for model in models:\n",
    "    scores = cross_val_score(model, train_x, train_y, cv=TimeSeriesSplit(5), scoring=\"accuracy\", n_jobs=-1)\n",
    "    print(f\"{model.__class__.__name__} : {np.mean(scores)}, {np.std(scores)}\")"
   ]
  },
  {
   "cell_type": "markdown",
   "metadata": {},
   "source": [
    "- LogisticRegression"
   ]
  },
  {
   "cell_type": "code",
   "execution_count": 109,
   "metadata": {},
   "outputs": [
    {
     "name": "stderr",
     "output_type": "stream",
     "text": [
      "[I 2025-01-03 11:21:08,311] A new study created in memory with name: no-name-7cb0ad7c-73cb-4492-b286-00befb513f1d\n",
      "[I 2025-01-03 11:21:08,554] Trial 0 finished with value: 0.6675904541955351 and parameters: {'C': 0.1317460656683848, 'penalty': 'l2', 'solver': 'saga', 'max_iter': 789}. Best is trial 0 with value: 0.6675904541955351.\n",
      "[I 2025-01-03 11:21:11,091] Trial 1 finished with value: 0.6671285604311008 and parameters: {'C': 1.7733593093436546, 'penalty': 'l1', 'solver': 'liblinear', 'max_iter': 1304}. Best is trial 0 with value: 0.6675904541955351.\n",
      "[I 2025-01-03 11:21:11,300] Trial 2 finished with value: 0.6648190916089299 and parameters: {'C': 4.2678585868923875, 'penalty': 'l2', 'solver': 'liblinear', 'max_iter': 1116}. Best is trial 0 with value: 0.6675904541955351.\n",
      "[I 2025-01-03 11:21:12,320] Trial 3 finished with value: 0.6638953040800615 and parameters: {'C': 4.579361530650344, 'penalty': 'l2', 'solver': 'saga', 'max_iter': 1583}. Best is trial 0 with value: 0.6675904541955351.\n",
      "[I 2025-01-03 11:21:14,736] Trial 4 finished with value: 0.6671285604311008 and parameters: {'C': 2.738650569412281, 'penalty': 'l1', 'solver': 'liblinear', 'max_iter': 1964}. Best is trial 0 with value: 0.6675904541955351.\n",
      "[I 2025-01-03 11:21:14,916] Trial 5 finished with value: 0.6660508083140877 and parameters: {'C': 1.8752866296010908, 'penalty': 'l2', 'solver': 'liblinear', 'max_iter': 1818}. Best is trial 0 with value: 0.6675904541955351.\n",
      "[I 2025-01-03 11:21:15,156] Trial 6 finished with value: 0.6634334103156274 and parameters: {'C': 6.793143055885636, 'penalty': 'l2', 'solver': 'liblinear', 'max_iter': 1600}. Best is trial 0 with value: 0.6675904541955351.\n",
      "[I 2025-01-03 11:21:16,807] Trial 7 finished with value: 0.6631254811393379 and parameters: {'C': 8.73533861745023, 'penalty': 'l2', 'solver': 'saga', 'max_iter': 1774}. Best is trial 0 with value: 0.6675904541955351.\n",
      "[I 2025-01-03 11:21:17,362] Trial 8 finished with value: 0.6660508083140877 and parameters: {'C': 2.0485886094322434, 'penalty': 'l2', 'solver': 'saga', 'max_iter': 1263}. Best is trial 0 with value: 0.6675904541955351.\n",
      "[I 2025-01-03 11:21:17,542] Trial 9 finished with value: 0.6702078521939955 and parameters: {'C': 0.1965872682217656, 'penalty': 'l1', 'solver': 'saga', 'max_iter': 1858}. Best is trial 9 with value: 0.6702078521939955.\n",
      "[I 2025-01-03 11:21:18,202] Trial 10 finished with value: 0.6646651270207852 and parameters: {'C': 9.761723100029034, 'penalty': 'l1', 'solver': 'saga', 'max_iter': 115}. Best is trial 9 with value: 0.6702078521939955.\n",
      "[I 2025-01-03 11:21:18,367] Trial 11 finished with value: 0.6682063125481139 and parameters: {'C': 0.03667559767906846, 'penalty': 'l1', 'solver': 'saga', 'max_iter': 637}. Best is trial 9 with value: 0.6702078521939955.\n",
      "[I 2025-01-03 11:21:18,562] Trial 12 finished with value: 0.6703618167821401 and parameters: {'C': 0.16664379750225589, 'penalty': 'l1', 'solver': 'saga', 'max_iter': 663}. Best is trial 12 with value: 0.6703618167821401.\n",
      "[I 2025-01-03 11:21:18,742] Trial 13 finished with value: 0.6682063125481139 and parameters: {'C': 0.09798749975974985, 'penalty': 'l1', 'solver': 'saga', 'max_iter': 505}. Best is trial 12 with value: 0.6703618167821401.\n",
      "[I 2025-01-03 11:21:20,182] Trial 14 finished with value: 0.666512702078522 and parameters: {'C': 3.3525180332703117, 'penalty': 'l1', 'solver': 'saga', 'max_iter': 868}. Best is trial 12 with value: 0.6703618167821401.\n",
      "[I 2025-01-03 11:21:21,714] Trial 15 finished with value: 0.6649730561970746 and parameters: {'C': 7.2632491811177555, 'penalty': 'l1', 'solver': 'saga', 'max_iter': 294}. Best is trial 12 with value: 0.6703618167821401.\n",
      "[I 2025-01-03 11:21:22,314] Trial 16 finished with value: 0.6697459584295611 and parameters: {'C': 0.9745641392494151, 'penalty': 'l1', 'solver': 'saga', 'max_iter': 939}. Best is trial 12 with value: 0.6703618167821401.\n",
      "[I 2025-01-03 11:21:23,754] Trial 17 finished with value: 0.666512702078522 and parameters: {'C': 3.357435741039408, 'penalty': 'l1', 'solver': 'saga', 'max_iter': 506}. Best is trial 12 with value: 0.6703618167821401.\n",
      "[I 2025-01-03 11:21:26,679] Trial 18 finished with value: 0.6646651270207852 and parameters: {'C': 5.943898726567695, 'penalty': 'l1', 'solver': 'saga', 'max_iter': 1449}. Best is trial 12 with value: 0.6703618167821401.\n",
      "[I 2025-01-03 11:21:27,504] Trial 19 finished with value: 0.669284064665127 and parameters: {'C': 1.243272269149301, 'penalty': 'l1', 'solver': 'saga', 'max_iter': 1104}. Best is trial 12 with value: 0.6703618167821401.\n",
      "[I 2025-01-03 11:21:30,174] Trial 20 finished with value: 0.6645111624326405 and parameters: {'C': 5.240038053058014, 'penalty': 'l1', 'solver': 'saga', 'max_iter': 575}. Best is trial 12 with value: 0.6703618167821401.\n",
      "[I 2025-01-03 11:21:30,774] Trial 21 finished with value: 0.6694380292532718 and parameters: {'C': 0.9375669772999264, 'penalty': 'l1', 'solver': 'saga', 'max_iter': 872}. Best is trial 12 with value: 0.6703618167821401.\n",
      "[I 2025-01-03 11:21:31,329] Trial 22 finished with value: 0.669284064665127 and parameters: {'C': 0.9438531758063927, 'penalty': 'l1', 'solver': 'saga', 'max_iter': 955}. Best is trial 12 with value: 0.6703618167821401.\n",
      "[I 2025-01-03 11:21:32,604] Trial 23 finished with value: 0.6666666666666667 and parameters: {'C': 2.5990393153864484, 'penalty': 'l1', 'solver': 'saga', 'max_iter': 347}. Best is trial 12 with value: 0.6703618167821401.\n",
      "[I 2025-01-03 11:21:33,159] Trial 24 finished with value: 0.6691301000769823 and parameters: {'C': 0.8737120401513263, 'penalty': 'l1', 'solver': 'saga', 'max_iter': 713}. Best is trial 12 with value: 0.6703618167821401.\n",
      "[I 2025-01-03 11:21:33,909] Trial 25 finished with value: 0.6695919938414165 and parameters: {'C': 1.1886308095174087, 'penalty': 'l1', 'solver': 'saga', 'max_iter': 1017}. Best is trial 12 with value: 0.6703618167821401.\n",
      "[I 2025-01-03 11:21:35,974] Trial 26 finished with value: 0.6663587374903772 and parameters: {'C': 3.628617994926303, 'penalty': 'l1', 'solver': 'liblinear', 'max_iter': 1220}. Best is trial 12 with value: 0.6703618167821401.\n",
      "[I 2025-01-03 11:21:38,770] Trial 27 finished with value: 0.6685142417244033 and parameters: {'C': 2.3711211077796697, 'penalty': 'l1', 'solver': 'saga', 'max_iter': 1395}. Best is trial 12 with value: 0.6703618167821401.\n",
      "[I 2025-01-03 11:21:38,950] Trial 28 finished with value: 0.668822170900693 and parameters: {'C': 0.039742562416130056, 'penalty': 'l1', 'solver': 'saga', 'max_iter': 355}. Best is trial 12 with value: 0.6703618167821401.\n",
      "[I 2025-01-03 11:21:39,506] Trial 29 finished with value: 0.6688221709006928 and parameters: {'C': 0.8384924758503587, 'penalty': 'l1', 'solver': 'saga', 'max_iter': 787}. Best is trial 12 with value: 0.6703618167821401.\n",
      "[I 2025-01-03 11:21:41,081] Trial 30 finished with value: 0.667590454195535 and parameters: {'C': 1.6068030516153704, 'penalty': 'l1', 'solver': 'saga', 'max_iter': 777}. Best is trial 12 with value: 0.6703618167821401.\n",
      "[I 2025-01-03 11:21:41,501] Trial 31 finished with value: 0.668206312548114 and parameters: {'C': 0.5630390089470412, 'penalty': 'l1', 'solver': 'saga', 'max_iter': 974}. Best is trial 12 with value: 0.6703618167821401.\n",
      "[I 2025-01-03 11:21:42,296] Trial 32 finished with value: 0.669284064665127 and parameters: {'C': 1.238306503434651, 'penalty': 'l1', 'solver': 'saga', 'max_iter': 994}. Best is trial 12 with value: 0.6703618167821401.\n",
      "[I 2025-01-03 11:21:42,746] Trial 33 finished with value: 0.6682063125481139 and parameters: {'C': 0.6249508553934341, 'penalty': 'l1', 'solver': 'saga', 'max_iter': 1148}. Best is trial 12 with value: 0.6703618167821401.\n",
      "[I 2025-01-03 11:21:45,207] Trial 34 finished with value: 0.667590454195535 and parameters: {'C': 1.6966975174305523, 'penalty': 'l1', 'solver': 'liblinear', 'max_iter': 1360}. Best is trial 12 with value: 0.6703618167821401.\n",
      "[I 2025-01-03 11:21:45,957] Trial 35 finished with value: 0.6652809853733641 and parameters: {'C': 2.7195526103879146, 'penalty': 'l2', 'solver': 'saga', 'max_iter': 660}. Best is trial 12 with value: 0.6703618167821401.\n",
      "[I 2025-01-03 11:21:48,028] Trial 36 finished with value: 0.6685142417244034 and parameters: {'C': 1.4368478082030145, 'penalty': 'l1', 'solver': 'liblinear', 'max_iter': 1998}. Best is trial 12 with value: 0.6703618167821401.\n",
      "[I 2025-01-03 11:21:48,313] Trial 37 finished with value: 0.667590454195535 and parameters: {'C': 0.5477288563507348, 'penalty': 'l2', 'solver': 'saga', 'max_iter': 1564}. Best is trial 12 with value: 0.6703618167821401.\n",
      "[I 2025-01-03 11:21:53,600] Trial 38 finished with value: 0.6683602771362586 and parameters: {'C': 2.265673963397014, 'penalty': 'l1', 'solver': 'liblinear', 'max_iter': 1064}. Best is trial 12 with value: 0.6703618167821401.\n",
      "[I 2025-01-03 11:21:54,560] Trial 39 finished with value: 0.6649730561970747 and parameters: {'C': 4.174642861072724, 'penalty': 'l2', 'solver': 'saga', 'max_iter': 1764}. Best is trial 12 with value: 0.6703618167821401.\n",
      "[I 2025-01-03 11:21:56,030] Trial 40 finished with value: 0.6678983833718244 and parameters: {'C': 1.897203912806382, 'penalty': 'l1', 'solver': 'saga', 'max_iter': 1196}. Best is trial 12 with value: 0.6703618167821401.\n",
      "[I 2025-01-03 11:21:56,405] Trial 41 finished with value: 0.6700538876058507 and parameters: {'C': 0.35075567268809316, 'penalty': 'l1', 'solver': 'saga', 'max_iter': 872}. Best is trial 12 with value: 0.6703618167821401.\n",
      "[I 2025-01-03 11:21:56,751] Trial 42 finished with value: 0.6697459584295613 and parameters: {'C': 0.37636674123296476, 'penalty': 'l1', 'solver': 'saga', 'max_iter': 845}. Best is trial 12 with value: 0.6703618167821401.\n",
      "[I 2025-01-03 11:21:57,006] Trial 43 finished with value: 0.669899923017706 and parameters: {'C': 0.4320955588336581, 'penalty': 'l1', 'solver': 'saga', 'max_iter': 894}. Best is trial 12 with value: 0.6703618167821401.\n",
      "[I 2025-01-03 11:21:57,396] Trial 44 finished with value: 0.6689761354888376 and parameters: {'C': 0.47892635321905586, 'penalty': 'l1', 'solver': 'saga', 'max_iter': 865}. Best is trial 12 with value: 0.6703618167821401.\n",
      "[I 2025-01-03 11:21:57,591] Trial 45 finished with value: 0.6705157813702849 and parameters: {'C': 0.20958163208579603, 'penalty': 'l1', 'solver': 'saga', 'max_iter': 742}. Best is trial 45 with value: 0.6705157813702849.\n",
      "[I 2025-01-03 11:21:57,756] Trial 46 finished with value: 0.6677444187836798 and parameters: {'C': 0.17180856576345147, 'penalty': 'l2', 'solver': 'liblinear', 'max_iter': 698}. Best is trial 45 with value: 0.6705157813702849.\n",
      "[I 2025-01-03 11:22:00,111] Trial 47 finished with value: 0.6646651270207852 and parameters: {'C': 7.178457980527262, 'penalty': 'l1', 'solver': 'saga', 'max_iter': 558}. Best is trial 45 with value: 0.6705157813702849.\n",
      "[I 2025-01-03 11:22:02,272] Trial 48 finished with value: 0.6643571978444958 and parameters: {'C': 8.129720366309433, 'penalty': 'l1', 'solver': 'saga', 'max_iter': 451}. Best is trial 45 with value: 0.6705157813702849.\n",
      "[I 2025-01-03 11:22:02,452] Trial 49 finished with value: 0.6678983833718245 and parameters: {'C': 0.046079372240038635, 'penalty': 'l1', 'solver': 'saga', 'max_iter': 725}. Best is trial 45 with value: 0.6705157813702849.\n"
     ]
    },
    {
     "data": {
      "text/plain": [
       "({'C': 0.20958163208579603,\n",
       "  'penalty': 'l1',\n",
       "  'solver': 'saga',\n",
       "  'max_iter': 742},\n",
       " 0.6705157813702849)"
      ]
     },
     "execution_count": 109,
     "metadata": {},
     "output_type": "execute_result"
    }
   ],
   "source": [
    "params = {\n",
    "    \"C\": {\"type\": \"float\", \"min\": 0.01, \"max\": 10},\n",
    "    \"penalty\": {\"type\": \"categorical\", \"values\": [\"l1\", \"l2\"]},\n",
    "    \"solver\": {\"type\": \"categorical\", \"values\": [\"liblinear\", \"saga\"]},\n",
    "    \"max_iter\": {\"type\": \"int\", \"min\": 100, \"max\": 2000},\n",
    "}\n",
    "\n",
    "lr_vt_tuner = HyperparameterTuner(LogisticRegression, params, train_x, train_y)\n",
    "lr_vt_tuner.optimize(100)\n",
    "lr_vt_tuner.best_params(), lr_vt_tuner.best_score()"
   ]
  },
  {
   "cell_type": "code",
   "execution_count": 113,
   "metadata": {},
   "outputs": [
    {
     "name": "stdout",
     "output_type": "stream",
     "text": [
      "              precision    recall  f1-score   support\n",
      "\n",
      "           0       0.71      0.63      0.67      1060\n",
      "           1       0.67      0.75      0.70      1054\n",
      "\n",
      "    accuracy                           0.69      2114\n",
      "   macro avg       0.69      0.69      0.69      2114\n",
      "weighted avg       0.69      0.69      0.69      2114\n",
      "\n"
     ]
    }
   ],
   "source": [
    "params = {\"C\": 0.20958163208579603, \"penalty\": \"l1\", \"solver\": \"saga\", \"max_iter\": 742}\n",
    "\n",
    "lr_final = LogisticRegression(**params)\n",
    "lr_final.fit(train_x, train_y)\n",
    "print(classification_report(valid_y, lr_final.predict(valid_x)))"
   ]
  },
  {
   "cell_type": "markdown",
   "metadata": {},
   "source": [
    "- LightGBM"
   ]
  },
  {
   "cell_type": "code",
   "execution_count": 112,
   "metadata": {},
   "outputs": [
    {
     "name": "stderr",
     "output_type": "stream",
     "text": [
      "[I 2025-01-03 11:22:46,130] A new study created in memory with name: no-name-a3df3240-885b-4e51-972f-9b4f631c8147\n",
      "[I 2025-01-03 11:22:47,404] Trial 0 finished with value: 0.6905311778290992 and parameters: {'n_estimators': 799, 'learning_rate': 0.15506944178105755, 'max_depth': 9, 'num_leaves': 30, 'min_child_samples': 26, 'subsample': 0.9550371912145728, 'colsample_bytree': 0.9042697813908023, 'reg_alpha': 8.848804766079798, 'reg_lambda': 9.089250389417359}. Best is trial 0 with value: 0.6905311778290992.\n",
      "[I 2025-01-03 11:22:48,747] Trial 1 finished with value: 0.7002309468822171 and parameters: {'n_estimators': 194, 'learning_rate': 0.18111781315726672, 'max_depth': 9, 'num_leaves': 136, 'min_child_samples': 34, 'subsample': 0.6601232053947443, 'colsample_bytree': 0.6212458541141999, 'reg_alpha': 0.2455777706845208, 'reg_lambda': 1.1189677590954128}. Best is trial 1 with value: 0.7002309468822171.\n",
      "[I 2025-01-03 11:22:49,681] Trial 2 finished with value: 0.6896073903002309 and parameters: {'n_estimators': 581, 'learning_rate': 0.1124416426293671, 'max_depth': 4, 'num_leaves': 22, 'min_child_samples': 11, 'subsample': 0.5290903977548026, 'colsample_bytree': 0.6313939438018048, 'reg_alpha': 6.881206286037874, 'reg_lambda': 4.939828498313995}. Best is trial 1 with value: 0.7002309468822171.\n",
      "[I 2025-01-03 11:22:50,494] Trial 3 finished with value: 0.6902232486528098 and parameters: {'n_estimators': 255, 'learning_rate': 0.12542843209614254, 'max_depth': 5, 'num_leaves': 27, 'min_child_samples': 34, 'subsample': 0.7189348231481019, 'colsample_bytree': 0.8276986920746544, 'reg_alpha': 3.502041104733642, 'reg_lambda': 1.0423027565376253}. Best is trial 1 with value: 0.7002309468822171.\n",
      "[I 2025-01-03 11:22:51,596] Trial 4 finished with value: 0.692994611239415 and parameters: {'n_estimators': 682, 'learning_rate': 0.180653177915438, 'max_depth': 10, 'num_leaves': 95, 'min_child_samples': 30, 'subsample': 0.700114946686669, 'colsample_bytree': 0.9448247694518634, 'reg_alpha': 6.663756650298355, 'reg_lambda': 5.06903446791368}. Best is trial 1 with value: 0.7002309468822171.\n",
      "[I 2025-01-03 11:22:52,640] Trial 5 finished with value: 0.6871439568899154 and parameters: {'n_estimators': 701, 'learning_rate': 0.29306451193066757, 'max_depth': 10, 'num_leaves': 87, 'min_child_samples': 43, 'subsample': 0.5711612137130169, 'colsample_bytree': 0.6194078602571276, 'reg_alpha': 9.609824766339607, 'reg_lambda': 3.7123708916873}. Best is trial 1 with value: 0.7002309468822171.\n",
      "[I 2025-01-03 11:22:53,376] Trial 6 finished with value: 0.6725173210161663 and parameters: {'n_estimators': 481, 'learning_rate': 0.27214909534278625, 'max_depth': 3, 'num_leaves': 182, 'min_child_samples': 30, 'subsample': 0.9169735920124971, 'colsample_bytree': 0.6144193274005562, 'reg_alpha': 1.244792840801322, 'reg_lambda': 7.148107265135938}. Best is trial 1 with value: 0.7002309468822171.\n",
      "[I 2025-01-03 11:22:54,264] Trial 7 finished with value: 0.6948421862971517 and parameters: {'n_estimators': 443, 'learning_rate': 0.08577943337490697, 'max_depth': 12, 'num_leaves': 77, 'min_child_samples': 32, 'subsample': 0.655670539884019, 'colsample_bytree': 0.5010329217094693, 'reg_alpha': 9.4361393181352, 'reg_lambda': 0.8498075749009792}. Best is trial 1 with value: 0.7002309468822171.\n",
      "[I 2025-01-03 11:22:57,276] Trial 8 finished with value: 0.7036181678214011 and parameters: {'n_estimators': 556, 'learning_rate': 0.07287741599284618, 'max_depth': 9, 'num_leaves': 159, 'min_child_samples': 17, 'subsample': 0.763479058132039, 'colsample_bytree': 0.7775636412855964, 'reg_alpha': 2.3619264344729682, 'reg_lambda': 4.223243277572938}. Best is trial 8 with value: 0.7036181678214011.\n",
      "[I 2025-01-03 11:22:57,956] Trial 9 finished with value: 0.6928406466512702 and parameters: {'n_estimators': 324, 'learning_rate': 0.16730217171079753, 'max_depth': 12, 'num_leaves': 29, 'min_child_samples': 24, 'subsample': 0.5094638737099575, 'colsample_bytree': 0.7697508784241704, 'reg_alpha': 8.614615275495513, 'reg_lambda': 1.5679668889581044}. Best is trial 8 with value: 0.7036181678214011.\n",
      "[I 2025-01-03 11:23:03,940] Trial 10 finished with value: 0.7037721324095457 and parameters: {'n_estimators': 956, 'learning_rate': 0.013771907445196546, 'max_depth': 6, 'num_leaves': 192, 'min_child_samples': 5, 'subsample': 0.853446225613511, 'colsample_bytree': 0.9955321525464725, 'reg_alpha': 3.1864744388178456, 'reg_lambda': 9.947930635726099}. Best is trial 10 with value: 0.7037721324095457.\n",
      "[I 2025-01-03 11:23:10,249] Trial 11 finished with value: 0.6989992301770591 and parameters: {'n_estimators': 999, 'learning_rate': 0.01709505767154318, 'max_depth': 6, 'num_leaves': 191, 'min_child_samples': 6, 'subsample': 0.8356652234679294, 'colsample_bytree': 0.9917763915817817, 'reg_alpha': 3.2793784397441286, 'reg_lambda': 9.572232022014012}. Best is trial 10 with value: 0.7037721324095457.\n",
      "[I 2025-01-03 11:23:17,248] Trial 12 finished with value: 0.7083910700538876 and parameters: {'n_estimators': 954, 'learning_rate': 0.012410764052697865, 'max_depth': 7, 'num_leaves': 163, 'min_child_samples': 15, 'subsample': 0.8179226366957048, 'colsample_bytree': 0.8648369854420845, 'reg_alpha': 2.7215411974490724, 'reg_lambda': 7.172789721774238}. Best is trial 12 with value: 0.7083910700538876.\n",
      "[I 2025-01-03 11:23:23,589] Trial 13 finished with value: 0.7003849114703617 and parameters: {'n_estimators': 996, 'learning_rate': 0.01596086787861659, 'max_depth': 7, 'num_leaves': 147, 'min_child_samples': 15, 'subsample': 0.8457971936271694, 'colsample_bytree': 0.8896487517046361, 'reg_alpha': 4.821789515678986, 'reg_lambda': 7.688041014351224}. Best is trial 12 with value: 0.7083910700538876.\n",
      "[I 2025-01-03 11:23:27,144] Trial 14 finished with value: 0.6966897613548884 and parameters: {'n_estimators': 862, 'learning_rate': 0.051318171818183995, 'max_depth': 7, 'num_leaves': 200, 'min_child_samples': 6, 'subsample': 0.8282991780791019, 'colsample_bytree': 0.987222420087642, 'reg_alpha': 4.91827348740018, 'reg_lambda': 7.277891795515316}. Best is trial 12 with value: 0.7083910700538876.\n",
      "[I 2025-01-03 11:23:28,832] Trial 15 finished with value: 0.6859122401847575 and parameters: {'n_estimators': 881, 'learning_rate': 0.22399469770496258, 'max_depth': 5, 'num_leaves': 165, 'min_child_samples': 18, 'subsample': 0.8926529458627871, 'colsample_bytree': 0.8463189251355697, 'reg_alpha': 2.5360964469847125, 'reg_lambda': 8.431298279190663}. Best is trial 12 with value: 0.7083910700538876.\n",
      "[I 2025-01-03 11:23:32,757] Trial 16 finished with value: 0.7043879907621248 and parameters: {'n_estimators': 744, 'learning_rate': 0.04416116168736615, 'max_depth': 6, 'num_leaves': 123, 'min_child_samples': 11, 'subsample': 0.9948206275245703, 'colsample_bytree': 0.7086987559815905, 'reg_alpha': 1.1896668654278173, 'reg_lambda': 6.3387580957495615}. Best is trial 12 with value: 0.7083910700538876.\n",
      "[I 2025-01-03 11:23:38,420] Trial 17 finished with value: 0.7065434949961509 and parameters: {'n_estimators': 746, 'learning_rate': 0.056231894035866835, 'max_depth': 8, 'num_leaves': 115, 'min_child_samples': 21, 'subsample': 0.9826853134963568, 'colsample_bytree': 0.7193161794982132, 'reg_alpha': 0.22382511402316208, 'reg_lambda': 6.126746979051001}. Best is trial 12 with value: 0.7083910700538876.\n",
      "[I 2025-01-03 11:23:43,257] Trial 18 finished with value: 0.7016166281755196 and parameters: {'n_estimators': 844, 'learning_rate': 0.09237737845583378, 'max_depth': 8, 'num_leaves': 55, 'min_child_samples': 22, 'subsample': 0.9998357232799169, 'colsample_bytree': 0.7017371750817517, 'reg_alpha': 0.10958518557393554, 'reg_lambda': 5.67623659851551}. Best is trial 12 with value: 0.7083910700538876.\n",
      "[I 2025-01-03 11:23:46,296] Trial 19 finished with value: 0.6905311778290992 and parameters: {'n_estimators': 629, 'learning_rate': 0.060111898590278476, 'max_depth': 8, 'num_leaves': 116, 'min_child_samples': 49, 'subsample': 0.7834114450323602, 'colsample_bytree': 0.8208974407211762, 'reg_alpha': 1.3481977313612483, 'reg_lambda': 3.05575116592647}. Best is trial 12 with value: 0.7083910700538876.\n",
      "[I 2025-01-03 11:23:48,072] Trial 20 finished with value: 0.7010007698229408 and parameters: {'n_estimators': 907, 'learning_rate': 0.12095810325504627, 'max_depth': 11, 'num_leaves': 135, 'min_child_samples': 21, 'subsample': 0.9119999663722422, 'colsample_bytree': 0.6844505758363715, 'reg_alpha': 4.175594507370985, 'reg_lambda': 6.445759868735886}. Best is trial 12 with value: 0.7083910700538876.\n",
      "[I 2025-01-03 11:23:51,957] Trial 21 finished with value: 0.7037721324095457 and parameters: {'n_estimators': 763, 'learning_rate': 0.0414784096198458, 'max_depth': 6, 'num_leaves': 116, 'min_child_samples': 12, 'subsample': 0.9952492181050361, 'colsample_bytree': 0.7208916855244388, 'reg_alpha': 1.400203465021383, 'reg_lambda': 6.32662980326159}. Best is trial 12 with value: 0.7083910700538876.\n",
      "[I 2025-01-03 11:23:56,600] Trial 22 finished with value: 0.7048498845265588 and parameters: {'n_estimators': 725, 'learning_rate': 0.03993827594758009, 'max_depth': 7, 'num_leaves': 104, 'min_child_samples': 13, 'subsample': 0.953783437493504, 'colsample_bytree': 0.7680148978246436, 'reg_alpha': 0.7899420438638319, 'reg_lambda': 7.91620775378197}. Best is trial 12 with value: 0.7083910700538876.\n",
      "[I 2025-01-03 11:24:01,454] Trial 23 finished with value: 0.7045419553502695 and parameters: {'n_estimators': 657, 'learning_rate': 0.03803153892389823, 'max_depth': 8, 'num_leaves': 96, 'min_child_samples': 14, 'subsample': 0.937287318206433, 'colsample_bytree': 0.7966872285441451, 'reg_alpha': 2.1087727536631844, 'reg_lambda': 8.385256433163367}. Best is trial 12 with value: 0.7083910700538876.\n",
      "[I 2025-01-03 11:24:06,442] Trial 24 finished with value: 0.6969976905311779 and parameters: {'n_estimators': 797, 'learning_rate': 0.09386104031280046, 'max_depth': 7, 'num_leaves': 73, 'min_child_samples': 19, 'subsample': 0.8804147030772708, 'colsample_bytree': 0.8666012150033248, 'reg_alpha': 0.5357552305293474, 'reg_lambda': 8.467380810332156}. Best is trial 12 with value: 0.7083910700538876.\n",
      "[I 2025-01-03 11:24:08,005] Trial 25 finished with value: 0.698075442648191 and parameters: {'n_estimators': 470, 'learning_rate': 0.07139142526125808, 'max_depth': 5, 'num_leaves': 165, 'min_child_samples': 9, 'subsample': 0.9581121146796482, 'colsample_bytree': 0.7494130164340914, 'reg_alpha': 2.040328075986664, 'reg_lambda': 7.6046746751330305}. Best is trial 12 with value: 0.7083910700538876.\n",
      "[I 2025-01-03 11:24:12,516] Trial 26 finished with value: 0.7099307159353349 and parameters: {'n_estimators': 913, 'learning_rate': 0.030439769691510812, 'max_depth': 7, 'num_leaves': 104, 'min_child_samples': 16, 'subsample': 0.788166298441027, 'colsample_bytree': 0.5473776456760313, 'reg_alpha': 0.7720968266891106, 'reg_lambda': 5.750406366675826}. Best is trial 26 with value: 0.7099307159353349.\n",
      "[I 2025-01-03 11:24:16,630] Trial 27 finished with value: 0.7066974595842955 and parameters: {'n_estimators': 945, 'learning_rate': 0.026648958545628383, 'max_depth': 8, 'num_leaves': 63, 'min_child_samples': 26, 'subsample': 0.7958700482928417, 'colsample_bytree': 0.5248106047815461, 'reg_alpha': 0.053741251185519534, 'reg_lambda': 5.4439174662511025}. Best is trial 26 with value: 0.7099307159353349.\n",
      "[I 2025-01-03 11:24:20,067] Trial 28 finished with value: 0.6973056197074673 and parameters: {'n_estimators': 923, 'learning_rate': 0.012956393181074293, 'max_depth': 10, 'num_leaves': 53, 'min_child_samples': 38, 'subsample': 0.7846669976426027, 'colsample_bytree': 0.522080976317113, 'reg_alpha': 5.901396439615156, 'reg_lambda': 2.8249857819607422}. Best is trial 26 with value: 0.7099307159353349.\n",
      "[I 2025-01-03 11:24:24,441] Trial 29 finished with value: 0.7053117782909931 and parameters: {'n_estimators': 827, 'learning_rate': 0.03178785280136605, 'max_depth': 9, 'num_leaves': 51, 'min_child_samples': 24, 'subsample': 0.809117750343716, 'colsample_bytree': 0.5633951613191212, 'reg_alpha': 1.8501569205525656, 'reg_lambda': 4.945981022319455}. Best is trial 26 with value: 0.7099307159353349.\n",
      "[I 2025-01-03 11:24:26,298] Trial 30 finished with value: 0.6868360277136258 and parameters: {'n_estimators': 949, 'learning_rate': 0.20523326357884236, 'max_depth': 4, 'num_leaves': 42, 'min_child_samples': 28, 'subsample': 0.7245541289280616, 'colsample_bytree': 0.5656922940177513, 'reg_alpha': 4.041915345649663, 'reg_lambda': 5.529930042000971}. Best is trial 26 with value: 0.7099307159353349.\n",
      "[I 2025-01-03 11:24:30,657] Trial 31 finished with value: 0.7000769822940723 and parameters: {'n_estimators': 784, 'learning_rate': 0.06044004198300872, 'max_depth': 8, 'num_leaves': 71, 'min_child_samples': 25, 'subsample': 0.8038182132764141, 'colsample_bytree': 0.554483091724894, 'reg_alpha': 0.1387814676602641, 'reg_lambda': 6.740436740109444}. Best is trial 26 with value: 0.7099307159353349.\n",
      "[I 2025-01-03 11:24:33,633] Trial 32 finished with value: 0.6971516551193225 and parameters: {'n_estimators': 894, 'learning_rate': 0.14574238744643317, 'max_depth': 9, 'num_leaves': 126, 'min_child_samples': 20, 'subsample': 0.6677743671017706, 'colsample_bytree': 0.653304673843953, 'reg_alpha': 0.7870675392519914, 'reg_lambda': 5.854796653989888}. Best is trial 26 with value: 0.7099307159353349.\n",
      "[I 2025-01-03 11:24:39,583] Trial 33 finished with value: 0.7140877598152425 and parameters: {'n_estimators': 949, 'learning_rate': 0.027801340927099728, 'max_depth': 8, 'num_leaves': 148, 'min_child_samples': 16, 'subsample': 0.6135849822881702, 'colsample_bytree': 0.5358840569338051, 'reg_alpha': 0.08332394633468324, 'reg_lambda': 4.351910638838925}. Best is trial 33 with value: 0.7140877598152425.\n",
      "[I 2025-01-03 11:24:43,835] Trial 34 finished with value: 0.7046959199384142 and parameters: {'n_estimators': 958, 'learning_rate': 0.027904059312758953, 'max_depth': 7, 'num_leaves': 145, 'min_child_samples': 16, 'subsample': 0.6052214790637763, 'colsample_bytree': 0.5859978061215045, 'reg_alpha': 2.8578009641110693, 'reg_lambda': 4.251737091202474}. Best is trial 33 with value: 0.7140877598152425.\n",
      "[I 2025-01-03 11:24:47,475] Trial 35 finished with value: 0.7026943802925327 and parameters: {'n_estimators': 999, 'learning_rate': 0.1022773547370393, 'max_depth': 9, 'num_leaves': 174, 'min_child_samples': 9, 'subsample': 0.7411872629913402, 'colsample_bytree': 0.5319856319846467, 'reg_alpha': 0.9503325604077129, 'reg_lambda': 4.05112421839207}. Best is trial 33 with value: 0.7140877598152425.\n",
      "[I 2025-01-03 11:24:51,026] Trial 36 finished with value: 0.6940723633564281 and parameters: {'n_estimators': 835, 'learning_rate': 0.0739932785521778, 'max_depth': 6, 'num_leaves': 151, 'min_child_samples': 27, 'subsample': 0.6749924966982146, 'colsample_bytree': 0.5886834986501875, 'reg_alpha': 1.5973226871733979, 'reg_lambda': 5.247203148014533}. Best is trial 33 with value: 0.7140877598152425.\n",
      "[I 2025-01-03 11:24:52,594] Trial 37 finished with value: 0.7179368745188606 and parameters: {'n_estimators': 127, 'learning_rate': 0.027150124184969225, 'max_depth': 10, 'num_leaves': 133, 'min_child_samples': 9, 'subsample': 0.6209523075264632, 'colsample_bytree': 0.5041544253141395, 'reg_alpha': 0.005963305982194279, 'reg_lambda': 4.654116767877415}. Best is trial 37 with value: 0.7179368745188606.\n",
      "[I 2025-01-03 11:24:54,366] Trial 38 finished with value: 0.7091608929946112 and parameters: {'n_estimators': 120, 'learning_rate': 0.14205314450545414, 'max_depth': 11, 'num_leaves': 136, 'min_child_samples': 8, 'subsample': 0.6122177858444613, 'colsample_bytree': 0.6530222372908856, 'reg_alpha': 0.7410684143044387, 'reg_lambda': 2.494116350112107}. Best is trial 37 with value: 0.7179368745188606.\n",
      "[I 2025-01-03 11:24:55,013] Trial 39 finished with value: 0.6949961508852964 and parameters: {'n_estimators': 124, 'learning_rate': 0.1501253474494611, 'max_depth': 11, 'num_leaves': 133, 'min_child_samples': 8, 'subsample': 0.6088449878469115, 'colsample_bytree': 0.64193541857771, 'reg_alpha': 8.308585647671347, 'reg_lambda': 2.0621714036387817}. Best is trial 37 with value: 0.7179368745188606.\n",
      "[I 2025-01-03 11:24:55,991] Trial 40 finished with value: 0.7060816012317167 and parameters: {'n_estimators': 102, 'learning_rate': 0.2458555784962259, 'max_depth': 11, 'num_leaves': 105, 'min_child_samples': 10, 'subsample': 0.5604437491895798, 'colsample_bytree': 0.504175894920549, 'reg_alpha': 0.6213093342880041, 'reg_lambda': 2.73290184130732}. Best is trial 37 with value: 0.7179368745188606.\n",
      "[I 2025-01-03 11:24:57,583] Trial 41 finished with value: 0.7016166281755196 and parameters: {'n_estimators': 243, 'learning_rate': 0.1993653018900592, 'max_depth': 10, 'num_leaves': 156, 'min_child_samples': 14, 'subsample': 0.6261433568103557, 'colsample_bytree': 0.9414371961386999, 'reg_alpha': 1.7122759071985207, 'reg_lambda': 0.23039695114226433}. Best is trial 37 with value: 0.7179368745188606.\n",
      "[I 2025-01-03 11:25:00,515] Trial 42 finished with value: 0.7091608929946113 and parameters: {'n_estimators': 340, 'learning_rate': 0.1301961025947686, 'max_depth': 11, 'num_leaves': 141, 'min_child_samples': 7, 'subsample': 0.5687247752360178, 'colsample_bytree': 0.5972026927968245, 'reg_alpha': 0.6078370839130101, 'reg_lambda': 3.621520034437455}. Best is trial 37 with value: 0.7179368745188606.\n",
      "[I 2025-01-03 11:25:02,818] Trial 43 finished with value: 0.7108545034642033 and parameters: {'n_estimators': 176, 'learning_rate': 0.13889739455791106, 'max_depth': 12, 'num_leaves': 142, 'min_child_samples': 7, 'subsample': 0.5551776507917859, 'colsample_bytree': 0.601796231648866, 'reg_alpha': 0.6004808173654199, 'reg_lambda': 3.3631282022328772}. Best is trial 37 with value: 0.7179368745188606.\n",
      "[I 2025-01-03 11:25:08,431] Trial 44 finished with value: 0.7079291762894535 and parameters: {'n_estimators': 345, 'learning_rate': 0.13076626497026894, 'max_depth': 12, 'num_leaves': 143, 'min_child_samples': 5, 'subsample': 0.5594228793408225, 'colsample_bytree': 0.5930618982043198, 'reg_alpha': 0.011433832167932981, 'reg_lambda': 3.3325846123349}. Best is trial 37 with value: 0.7179368745188606.\n",
      "[I 2025-01-03 11:25:09,905] Trial 45 finished with value: 0.6976135488837567 and parameters: {'n_estimators': 174, 'learning_rate': 0.17126302404241003, 'max_depth': 12, 'num_leaves': 127, 'min_child_samples': 7, 'subsample': 0.5323158168418508, 'colsample_bytree': 0.5443940888044071, 'reg_alpha': 1.2339371117285722, 'reg_lambda': 4.539057218269499}. Best is trial 37 with value: 0.7179368745188606.\n",
      "[I 2025-01-03 11:25:10,733] Trial 46 finished with value: 0.6885296381832179 and parameters: {'n_estimators': 228, 'learning_rate': 0.10759913071254881, 'max_depth': 10, 'num_leaves': 85, 'min_child_samples': 11, 'subsample': 0.5765838242489878, 'colsample_bytree': 0.6051282534119153, 'reg_alpha': 7.128063734232818, 'reg_lambda': 3.5528812805662984}. Best is trial 37 with value: 0.7179368745188606.\n",
      "[I 2025-01-03 11:25:13,065] Trial 47 finished with value: 0.6983833718244804 and parameters: {'n_estimators': 308, 'learning_rate': 0.160971694022898, 'max_depth': 11, 'num_leaves': 180, 'min_child_samples': 13, 'subsample': 0.5007712660679916, 'colsample_bytree': 0.5021928679643284, 'reg_alpha': 0.5491729104266018, 'reg_lambda': 4.564488909660386}. Best is trial 37 with value: 0.7179368745188606.\n",
      "[I 2025-01-03 11:25:16,090] Trial 48 finished with value: 0.7066974595842955 and parameters: {'n_estimators': 284, 'learning_rate': 0.08220299231725656, 'max_depth': 12, 'num_leaves': 138, 'min_child_samples': 5, 'subsample': 0.6888198955863756, 'colsample_bytree': 0.6276874832428239, 'reg_alpha': 1.0422863873361041, 'reg_lambda': 3.778711337063221}. Best is trial 37 with value: 0.7179368745188606.\n",
      "[I 2025-01-03 11:25:17,700] Trial 49 finished with value: 0.70423402617398 and parameters: {'n_estimators': 393, 'learning_rate': 0.12570145241326722, 'max_depth': 10, 'num_leaves': 153, 'min_child_samples': 16, 'subsample': 0.6479685540124152, 'colsample_bytree': 0.5760044567181472, 'reg_alpha': 2.3290997849954636, 'reg_lambda': 2.172991038831594}. Best is trial 37 with value: 0.7179368745188606.\n"
     ]
    },
    {
     "data": {
      "text/plain": [
       "({'n_estimators': 127,\n",
       "  'learning_rate': 0.027150124184969225,\n",
       "  'max_depth': 10,\n",
       "  'num_leaves': 133,\n",
       "  'min_child_samples': 9,\n",
       "  'subsample': 0.6209523075264632,\n",
       "  'colsample_bytree': 0.5041544253141395,\n",
       "  'reg_alpha': 0.005963305982194279,\n",
       "  'reg_lambda': 4.654116767877415},\n",
       " 0.7179368745188606)"
      ]
     },
     "execution_count": 112,
     "metadata": {},
     "output_type": "execute_result"
    }
   ],
   "source": [
    "params = {\n",
    "    \"n_estimators\": {\"type\": \"int\", \"min\": 100, \"max\": 1000},\n",
    "    \"learning_rate\": {\"type\": \"float\", \"min\": 0.01, \"max\": 0.3},\n",
    "    \"max_depth\": {\"type\": \"int\", \"min\": 3, \"max\": 12},\n",
    "    \"num_leaves\": {\"type\": \"int\", \"min\": 20, \"max\": 200},\n",
    "    \"min_child_samples\": {\"type\": \"int\", \"min\": 5, \"max\": 50},\n",
    "    \"subsample\": {\"type\": \"float\", \"min\": 0.5, \"max\": 1.0},\n",
    "    \"colsample_bytree\": {\"type\": \"float\", \"min\": 0.5, \"max\": 1.0},\n",
    "    \"reg_alpha\": {\"type\": \"float\", \"min\": 0.0, \"max\": 10.0},\n",
    "    \"reg_lambda\": {\"type\": \"float\", \"min\": 0.0, \"max\": 10.0}\n",
    "}\n",
    "\n",
    "lgbm_tuner = HyperparameterTuner(LGBMClassifier, params, train_x, train_y)\n",
    "lgbm_tuner.optimize(100)\n",
    "lgbm_tuner.best_params(), lgbm_tuner.best_score()"
   ]
  },
  {
   "cell_type": "code",
   "execution_count": 115,
   "metadata": {},
   "outputs": [
    {
     "name": "stdout",
     "output_type": "stream",
     "text": [
      "[LightGBM] [Warning] Found whitespace in feature_names, replace with underlines\n",
      "[LightGBM] [Info] Number of positive: 3903, number of negative: 3896\n",
      "[LightGBM] [Info] Auto-choosing row-wise multi-threading, the overhead of testing was 0.001142 seconds.\n",
      "You can set `force_row_wise=true` to remove the overhead.\n",
      "And if memory is not enough, you can set `force_col_wise=true`.\n",
      "[LightGBM] [Info] Total Bins 11886\n",
      "[LightGBM] [Info] Number of data points in the train set: 7799, number of used features: 77\n",
      "[LightGBM] [Info] [binary:BoostFromScore]: pavg=0.500449 -> initscore=0.001795\n",
      "[LightGBM] [Info] Start training from score 0.001795\n",
      "[LightGBM] [Warning] No further splits with positive gain, best gain: -inf\n",
      "              precision    recall  f1-score   support\n",
      "\n",
      "           0       0.77      0.77      0.77      1060\n",
      "           1       0.77      0.76      0.77      1054\n",
      "\n",
      "    accuracy                           0.77      2114\n",
      "   macro avg       0.77      0.77      0.77      2114\n",
      "weighted avg       0.77      0.77      0.77      2114\n",
      "\n"
     ]
    }
   ],
   "source": [
    "params = {\n",
    "    \"n_estimators\": 127,\n",
    "    \"learning_rate\": 0.027150124184969225,\n",
    "    \"max_depth\": 10,\n",
    "    \"num_leaves\": 133,\n",
    "    \"min_child_samples\": 9,\n",
    "    \"subsample\": 0.6209523075264632,\n",
    "    \"colsample_bytree\": 0.5041544253141395,\n",
    "    \"reg_alpha\": 0.005963305982194279,\n",
    "    \"reg_lambda\": 4.654116767877415,\n",
    "}\n",
    "\n",
    "lgbm_final = LGBMClassifier(**params)\n",
    "lgbm_final.fit(train_x, train_y)\n",
    "print(classification_report(valid_y, lgbm_final.predict(valid_x)))"
   ]
  },
  {
   "cell_type": "markdown",
   "metadata": {},
   "source": [
    "- RandomForestClassifier"
   ]
  },
  {
   "cell_type": "code",
   "execution_count": 120,
   "metadata": {},
   "outputs": [
    {
     "name": "stderr",
     "output_type": "stream",
     "text": [
      "[I 2025-01-03 11:37:42,161] A new study created in memory with name: no-name-aa9fd0db-77b5-4822-8f64-255f5eda44f2\n",
      "[I 2025-01-03 11:38:02,172] Trial 0 finished with value: 0.6675904541955351 and parameters: {'n_estimators': 961, 'max_depth': 3, 'min_samples_split': 15, 'min_samples_leaf': 8, 'max_features': 0.4110208338761414, 'bootstrap': True, 'class_weight': 'balanced'}. Best is trial 0 with value: 0.6675904541955351.\n",
      "[I 2025-01-03 11:38:10,305] Trial 1 finished with value: 0.6731331793687453 and parameters: {'n_estimators': 181, 'max_depth': 13, 'min_samples_split': 2, 'min_samples_leaf': 10, 'max_features': 0.1559894145607655, 'bootstrap': False, 'class_weight': 'balanced'}. Best is trial 1 with value: 0.6731331793687453.\n",
      "[I 2025-01-03 11:39:06,026] Trial 2 finished with value: 0.6919168591224019 and parameters: {'n_estimators': 715, 'max_depth': 17, 'min_samples_split': 11, 'min_samples_leaf': 5, 'max_features': 0.4607873149324341, 'bootstrap': True, 'class_weight': 'balanced'}. Best is trial 2 with value: 0.6919168591224019.\n",
      "[I 2025-01-03 11:40:01,177] Trial 3 finished with value: 0.6886836027713626 and parameters: {'n_estimators': 960, 'max_depth': 10, 'min_samples_split': 13, 'min_samples_leaf': 3, 'max_features': 0.3939746208645357, 'bootstrap': True, 'class_weight': 'balanced'}. Best is trial 2 with value: 0.6919168591224019.\n",
      "[I 2025-01-03 11:40:12,251] Trial 4 finished with value: 0.710392609699769 and parameters: {'n_estimators': 106, 'max_depth': 9, 'min_samples_split': 5, 'min_samples_leaf': 2, 'max_features': 0.8618294964712003, 'bootstrap': True, 'class_weight': None}. Best is trial 4 with value: 0.710392609699769.\n",
      "[I 2025-01-03 11:40:48,786] Trial 5 finished with value: 0.6859122401847575 and parameters: {'n_estimators': 643, 'max_depth': 20, 'min_samples_split': 7, 'min_samples_leaf': 3, 'max_features': 0.29806571398073023, 'bootstrap': True, 'class_weight': 'balanced'}. Best is trial 4 with value: 0.710392609699769.\n",
      "[I 2025-01-03 11:42:22,748] Trial 6 finished with value: 0.7130100076982295 and parameters: {'n_estimators': 647, 'max_depth': 10, 'min_samples_split': 13, 'min_samples_leaf': 6, 'max_features': 0.740295902204127, 'bootstrap': False, 'class_weight': None}. Best is trial 6 with value: 0.7130100076982295.\n",
      "[I 2025-01-03 11:43:19,813] Trial 7 finished with value: 0.6897613548883756 and parameters: {'n_estimators': 764, 'max_depth': 16, 'min_samples_split': 10, 'min_samples_leaf': 7, 'max_features': 0.4732718773815463, 'bootstrap': True, 'class_weight': 'balanced'}. Best is trial 6 with value: 0.7130100076982295.\n",
      "[I 2025-01-03 11:43:52,204] Trial 8 finished with value: 0.6899153194765204 and parameters: {'n_estimators': 416, 'max_depth': 18, 'min_samples_split': 17, 'min_samples_leaf': 9, 'max_features': 0.5106058306870396, 'bootstrap': True, 'class_weight': None}. Best is trial 6 with value: 0.7130100076982295.\n",
      "[I 2025-01-03 11:44:25,152] Trial 9 finished with value: 0.6882217090069284 and parameters: {'n_estimators': 464, 'max_depth': 17, 'min_samples_split': 11, 'min_samples_leaf': 6, 'max_features': 0.4289961098422783, 'bootstrap': True, 'class_weight': None}. Best is trial 6 with value: 0.7130100076982295.\n",
      "[I 2025-01-03 11:44:58,804] Trial 10 finished with value: 0.6979214780600462 and parameters: {'n_estimators': 317, 'max_depth': 6, 'min_samples_split': 20, 'min_samples_leaf': 5, 'max_features': 0.76990735794166, 'bootstrap': False, 'class_weight': None}. Best is trial 6 with value: 0.7130100076982295.\n",
      "[I 2025-01-03 11:45:23,946] Trial 11 finished with value: 0.687913779830639 and parameters: {'n_estimators': 136, 'max_depth': 9, 'min_samples_split': 5, 'min_samples_leaf': 1, 'max_features': 0.9996601244626815, 'bootstrap': False, 'class_weight': None}. Best is trial 6 with value: 0.7130100076982295.\n",
      "[I 2025-01-03 11:46:54,966] Trial 12 finished with value: 0.7080831408775982 and parameters: {'n_estimators': 539, 'max_depth': 12, 'min_samples_split': 7, 'min_samples_leaf': 1, 'max_features': 0.7276764627799572, 'bootstrap': False, 'class_weight': None}. Best is trial 6 with value: 0.7130100076982295.\n",
      "[I 2025-01-03 11:47:30,106] Trial 13 finished with value: 0.7048498845265588 and parameters: {'n_estimators': 315, 'max_depth': 7, 'min_samples_split': 4, 'min_samples_leaf': 3, 'max_features': 0.7336140893203863, 'bootstrap': False, 'class_weight': None}. Best is trial 6 with value: 0.7130100076982295.\n",
      "[I 2025-01-03 11:50:10,211] Trial 14 finished with value: 0.6943802925327175 and parameters: {'n_estimators': 783, 'max_depth': 14, 'min_samples_split': 8, 'min_samples_leaf': 4, 'max_features': 0.919381613158687, 'bootstrap': False, 'class_weight': None}. Best is trial 6 with value: 0.7130100076982295.\n",
      "[I 2025-01-03 11:51:16,283] Trial 15 finished with value: 0.7059276366435719 and parameters: {'n_estimators': 607, 'max_depth': 8, 'min_samples_split': 14, 'min_samples_leaf': 7, 'max_features': 0.625501943139817, 'bootstrap': False, 'class_weight': None}. Best is trial 6 with value: 0.7130100076982295.\n",
      "[I 2025-01-03 11:51:33,068] Trial 16 finished with value: 0.7016166281755196 and parameters: {'n_estimators': 260, 'max_depth': 5, 'min_samples_split': 17, 'min_samples_leaf': 6, 'max_features': 0.8749569339281811, 'bootstrap': True, 'class_weight': None}. Best is trial 6 with value: 0.7130100076982295.\n",
      "[I 2025-01-03 11:53:24,049] Trial 17 finished with value: 0.7056197074672824 and parameters: {'n_estimators': 852, 'max_depth': 10, 'min_samples_split': 2, 'min_samples_leaf': 4, 'max_features': 0.6277993904534012, 'bootstrap': False, 'class_weight': None}. Best is trial 6 with value: 0.7130100076982295.\n",
      "[I 2025-01-03 11:54:17,597] Trial 18 finished with value: 0.7096227867590454 and parameters: {'n_estimators': 460, 'max_depth': 11, 'min_samples_split': 10, 'min_samples_leaf': 1, 'max_features': 0.8236256690911434, 'bootstrap': True, 'class_weight': None}. Best is trial 6 with value: 0.7130100076982295.\n",
      "[I 2025-01-03 11:55:47,274] Trial 19 finished with value: 0.7100846805234796 and parameters: {'n_estimators': 558, 'max_depth': 14, 'min_samples_split': 4, 'min_samples_leaf': 2, 'max_features': 0.6609377398450402, 'bootstrap': False, 'class_weight': None}. Best is trial 6 with value: 0.7130100076982295.\n",
      "[I 2025-01-03 11:56:21,421] Trial 20 finished with value: 0.6657428791377983 and parameters: {'n_estimators': 379, 'max_depth': 4, 'min_samples_split': 13, 'min_samples_leaf': 7, 'max_features': 0.9683257712758221, 'bootstrap': False, 'class_weight': None}. Best is trial 6 with value: 0.7130100076982295.\n",
      "[I 2025-01-03 11:57:46,398] Trial 21 finished with value: 0.704849884526559 and parameters: {'n_estimators': 565, 'max_depth': 13, 'min_samples_split': 5, 'min_samples_leaf': 2, 'max_features': 0.6156949415522932, 'bootstrap': False, 'class_weight': None}. Best is trial 6 with value: 0.7130100076982295.\n",
      "[I 2025-01-03 11:59:50,278] Trial 22 finished with value: 0.7130100076982294 and parameters: {'n_estimators': 690, 'max_depth': 15, 'min_samples_split': 4, 'min_samples_leaf': 2, 'max_features': 0.6859813515021084, 'bootstrap': False, 'class_weight': None}. Best is trial 6 with value: 0.7130100076982295.\n",
      "[I 2025-01-03 12:01:34,020] Trial 23 finished with value: 0.7000769822940723 and parameters: {'n_estimators': 711, 'max_depth': 8, 'min_samples_split': 9, 'min_samples_leaf': 4, 'max_features': 0.8351079113502089, 'bootstrap': False, 'class_weight': None}. Best is trial 6 with value: 0.7130100076982295.\n",
      "[I 2025-01-03 12:03:42,271] Trial 24 finished with value: 0.712086220169361 and parameters: {'n_estimators': 656, 'max_depth': 15, 'min_samples_split': 6, 'min_samples_leaf': 2, 'max_features': 0.7708482981786404, 'bootstrap': False, 'class_weight': None}. Best is trial 6 with value: 0.7130100076982295.\n",
      "[I 2025-01-03 12:05:38,563] Trial 25 finished with value: 0.707005388760585 and parameters: {'n_estimators': 850, 'max_depth': 15, 'min_samples_split': 6, 'min_samples_leaf': 5, 'max_features': 0.5552312179245584, 'bootstrap': False, 'class_weight': None}. Best is trial 6 with value: 0.7130100076982295.\n",
      "[I 2025-01-03 12:07:41,534] Trial 26 finished with value: 0.7147036181678214 and parameters: {'n_estimators': 695, 'max_depth': 19, 'min_samples_split': 16, 'min_samples_leaf': 3, 'max_features': 0.7036362449375566, 'bootstrap': False, 'class_weight': None}. Best is trial 26 with value: 0.7147036181678214.\n",
      "[I 2025-01-03 12:10:14,205] Trial 27 finished with value: 0.7142417244033872 and parameters: {'n_estimators': 859, 'max_depth': 20, 'min_samples_split': 17, 'min_samples_leaf': 4, 'max_features': 0.6782279663712755, 'bootstrap': False, 'class_weight': None}. Best is trial 26 with value: 0.7147036181678214.\n",
      "[I 2025-01-03 12:12:39,020] Trial 28 finished with value: 0.707621247113164 and parameters: {'n_estimators': 874, 'max_depth': 20, 'min_samples_split': 20, 'min_samples_leaf': 4, 'max_features': 0.5500002093650965, 'bootstrap': False, 'class_weight': None}. Best is trial 26 with value: 0.7147036181678214.\n",
      "[I 2025-01-03 12:14:28,448] Trial 29 finished with value: 0.6931485758275596 and parameters: {'n_estimators': 997, 'max_depth': 19, 'min_samples_split': 17, 'min_samples_leaf': 6, 'max_features': 0.3294006207803616, 'bootstrap': False, 'class_weight': 'balanced'}. Best is trial 26 with value: 0.7147036181678214.\n",
      "[I 2025-01-03 12:17:27,411] Trial 30 finished with value: 0.7148575827559661 and parameters: {'n_estimators': 908, 'max_depth': 18, 'min_samples_split': 15, 'min_samples_leaf': 8, 'max_features': 0.7000784997428384, 'bootstrap': False, 'class_weight': None}. Best is trial 30 with value: 0.7148575827559661.\n",
      "[I 2025-01-03 12:20:28,157] Trial 31 finished with value: 0.7163972286374134 and parameters: {'n_estimators': 886, 'max_depth': 19, 'min_samples_split': 15, 'min_samples_leaf': 8, 'max_features': 0.7225294482148165, 'bootstrap': False, 'class_weight': None}. Best is trial 31 with value: 0.7163972286374134.\n",
      "[I 2025-01-03 12:23:26,621] Trial 32 finished with value: 0.7170130869899924 and parameters: {'n_estimators': 919, 'max_depth': 19, 'min_samples_split': 16, 'min_samples_leaf': 9, 'max_features': 0.677913266664684, 'bootstrap': False, 'class_weight': None}. Best is trial 32 with value: 0.7170130869899924.\n",
      "[I 2025-01-03 12:26:05,202] Trial 33 finished with value: 0.7074672825250191 and parameters: {'n_estimators': 936, 'max_depth': 19, 'min_samples_split': 15, 'min_samples_leaf': 9, 'max_features': 0.5789449592196013, 'bootstrap': False, 'class_weight': None}. Best is trial 32 with value: 0.7170130869899924.\n",
      "[I 2025-01-03 12:29:18,579] Trial 34 finished with value: 0.7176289453425712 and parameters: {'n_estimators': 911, 'max_depth': 18, 'min_samples_split': 15, 'min_samples_leaf': 10, 'max_features': 0.7840342383554809, 'bootstrap': False, 'class_weight': 'balanced'}. Best is trial 34 with value: 0.7176289453425712.\n",
      "[I 2025-01-03 12:32:28,998] Trial 35 finished with value: 0.7167051578137028 and parameters: {'n_estimators': 928, 'max_depth': 17, 'min_samples_split': 19, 'min_samples_leaf': 10, 'max_features': 0.8053135934781512, 'bootstrap': False, 'class_weight': 'balanced'}. Best is trial 34 with value: 0.7176289453425712.\n",
      "[I 2025-01-03 12:35:13,418] Trial 36 finished with value: 0.700846805234796 and parameters: {'n_estimators': 791, 'max_depth': 17, 'min_samples_split': 19, 'min_samples_leaf': 10, 'max_features': 0.909382454962002, 'bootstrap': False, 'class_weight': 'balanced'}. Best is trial 34 with value: 0.7176289453425712.\n",
      "[I 2025-01-03 12:38:14,179] Trial 37 finished with value: 0.7168591224018476 and parameters: {'n_estimators': 984, 'max_depth': 18, 'min_samples_split': 19, 'min_samples_leaf': 10, 'max_features': 0.787010125261082, 'bootstrap': False, 'class_weight': 'balanced'}. Best is trial 34 with value: 0.7176289453425712.\n",
      "[I 2025-01-03 12:41:17,365] Trial 38 finished with value: 0.717167051578137 and parameters: {'n_estimators': 988, 'max_depth': 18, 'min_samples_split': 19, 'min_samples_leaf': 10, 'max_features': 0.7993924710466455, 'bootstrap': False, 'class_weight': 'balanced'}. Best is trial 34 with value: 0.7176289453425712.\n",
      "[I 2025-01-03 12:41:50,562] Trial 39 finished with value: 0.6691301000769824 and parameters: {'n_estimators': 984, 'max_depth': 16, 'min_samples_split': 18, 'min_samples_leaf': 9, 'max_features': 0.11580639507327528, 'bootstrap': False, 'class_weight': 'balanced'}. Best is trial 34 with value: 0.7176289453425712.\n",
      "[I 2025-01-03 12:44:53,860] Trial 40 finished with value: 0.7183987682832949 and parameters: {'n_estimators': 954, 'max_depth': 18, 'min_samples_split': 19, 'min_samples_leaf': 9, 'max_features': 0.7814902230628112, 'bootstrap': False, 'class_weight': 'balanced'}. Best is trial 40 with value: 0.7183987682832949.\n",
      "[I 2025-01-03 12:48:06,322] Trial 41 finished with value: 0.7177829099307159 and parameters: {'n_estimators': 964, 'max_depth': 18, 'min_samples_split': 19, 'min_samples_leaf': 9, 'max_features': 0.7872757798497656, 'bootstrap': False, 'class_weight': 'balanced'}. Best is trial 40 with value: 0.7183987682832949.\n",
      "[I 2025-01-03 12:51:28,331] Trial 42 finished with value: 0.7140877598152425 and parameters: {'n_estimators': 951, 'max_depth': 16, 'min_samples_split': 18, 'min_samples_leaf': 9, 'max_features': 0.8596503241173412, 'bootstrap': False, 'class_weight': 'balanced'}. Best is trial 40 with value: 0.7183987682832949.\n",
      "[I 2025-01-03 12:54:33,755] Trial 43 finished with value: 0.7053117782909931 and parameters: {'n_estimators': 824, 'max_depth': 18, 'min_samples_split': 18, 'min_samples_leaf': 10, 'max_features': 0.9063339467013912, 'bootstrap': False, 'class_weight': 'balanced'}. Best is trial 40 with value: 0.7183987682832949.\n",
      "[I 2025-01-03 12:56:22,051] Trial 44 finished with value: 0.7097767513471902 and parameters: {'n_estimators': 913, 'max_depth': 18, 'min_samples_split': 20, 'min_samples_leaf': 9, 'max_features': 0.7592708824749015, 'bootstrap': True, 'class_weight': 'balanced'}. Best is trial 40 with value: 0.7183987682832949.\n",
      "[I 2025-01-03 12:59:49,772] Trial 45 finished with value: 0.7143956889915319 and parameters: {'n_estimators': 962, 'max_depth': 20, 'min_samples_split': 12, 'min_samples_leaf': 8, 'max_features': 0.8181511610612119, 'bootstrap': False, 'class_weight': 'balanced'}. Best is trial 40 with value: 0.7183987682832949.\n",
      "[I 2025-01-03 13:02:46,447] Trial 46 finished with value: 0.6948421862971517 and parameters: {'n_estimators': 747, 'max_depth': 16, 'min_samples_split': 16, 'min_samples_leaf': 9, 'max_features': 0.9425278802055301, 'bootstrap': False, 'class_weight': 'balanced'}. Best is trial 40 with value: 0.7183987682832949.\n",
      "[I 2025-01-03 13:05:52,073] Trial 47 finished with value: 0.7137798306389531 and parameters: {'n_estimators': 820, 'max_depth': 17, 'min_samples_split': 16, 'min_samples_leaf': 8, 'max_features': 0.867617083849946, 'bootstrap': False, 'class_weight': 'balanced'}. Best is trial 40 with value: 0.7183987682832949.\n",
      "[I 2025-01-03 13:07:14,747] Trial 48 finished with value: 0.6916089299461124 and parameters: {'n_estimators': 998, 'max_depth': 19, 'min_samples_split': 14, 'min_samples_leaf': 10, 'max_features': 0.5020430008889402, 'bootstrap': True, 'class_weight': 'balanced'}. Best is trial 40 with value: 0.7183987682832949.\n",
      "[I 2025-01-03 13:09:51,450] Trial 49 finished with value: 0.7165511932255582 and parameters: {'n_estimators': 901, 'max_depth': 17, 'min_samples_split': 19, 'min_samples_leaf': 9, 'max_features': 0.659077836261361, 'bootstrap': False, 'class_weight': 'balanced'}. Best is trial 40 with value: 0.7183987682832949.\n"
     ]
    },
    {
     "data": {
      "text/plain": [
       "({'n_estimators': 954,\n",
       "  'max_depth': 18,\n",
       "  'min_samples_split': 19,\n",
       "  'min_samples_leaf': 9,\n",
       "  'max_features': 0.7814902230628112,\n",
       "  'bootstrap': False,\n",
       "  'class_weight': 'balanced'},\n",
       " 0.7183987682832949)"
      ]
     },
     "execution_count": 120,
     "metadata": {},
     "output_type": "execute_result"
    }
   ],
   "source": [
    "params = {\n",
    "    \"n_estimators\": {\"type\": \"int\", \"min\": 100, \"max\": 1000},\n",
    "    \"max_depth\": {\"type\": \"int\", \"min\": 3, \"max\": 20},\n",
    "    \"min_samples_split\": {\"type\": \"int\", \"min\": 2, \"max\": 20},\n",
    "    \"min_samples_leaf\": {\"type\": \"int\", \"min\": 1, \"max\": 10},\n",
    "    \"max_features\": {\"type\": \"float\", \"min\": 0.1, \"max\": 1.0},\n",
    "    \"bootstrap\": {\"type\": \"categorical\", \"values\": [True, False]},\n",
    "    \"class_weight\": {\"type\": \"categorical\", \"values\": [\"balanced\", None]}\n",
    "\n",
    "}\n",
    "\n",
    "rf_tuner = HyperparameterTuner(RandomForestClassifier, params, train_x, train_y)\n",
    "rf_tuner.optimize(30)\n",
    "rf_tuner.best_params(), rf_tuner.best_score()"
   ]
  },
  {
   "cell_type": "code",
   "execution_count": 121,
   "metadata": {},
   "outputs": [
    {
     "name": "stdout",
     "output_type": "stream",
     "text": [
      "              precision    recall  f1-score   support\n",
      "\n",
      "           0       0.79      0.75      0.77      1060\n",
      "           1       0.76      0.80      0.78      1054\n",
      "\n",
      "    accuracy                           0.77      2114\n",
      "   macro avg       0.78      0.77      0.77      2114\n",
      "weighted avg       0.78      0.77      0.77      2114\n",
      "\n"
     ]
    }
   ],
   "source": [
    "params = {\n",
    "    \"n_estimators\": 954,\n",
    "    \"max_depth\": 18,\n",
    "    \"min_samples_split\": 19,\n",
    "    \"min_samples_leaf\": 9,\n",
    "    \"max_features\": 0.7814902230628112,\n",
    "    \"bootstrap\": False,\n",
    "    \"class_weight\": \"balanced\",\n",
    "}\n",
    "\n",
    "rf_final = RandomForestClassifier(**params)\n",
    "rf_final.fit(train_x, train_y)\n",
    "print(classification_report(valid_y, rf_final.predict(valid_x)))"
   ]
  },
  {
   "cell_type": "markdown",
   "metadata": {},
   "source": [
    "- HistGradientBoostingClassifier"
   ]
  },
  {
   "cell_type": "code",
   "execution_count": 116,
   "metadata": {},
   "outputs": [
    {
     "name": "stderr",
     "output_type": "stream",
     "text": [
      "[I 2025-01-03 11:32:33,796] A new study created in memory with name: no-name-30df53a0-5eac-42cd-8f51-959120cdb03a\n",
      "[I 2025-01-03 11:32:36,032] Trial 0 finished with value: 0.6809853733641262 and parameters: {'learning_rate': 0.12368662118982705, 'max_depth': 3, 'max_iter': 220, 'min_samples_leaf': 37, 'l2_regularization': 4.240608087243603, 'max_leaf_nodes': 83}. Best is trial 0 with value: 0.6809853733641262.\n",
      "[I 2025-01-03 11:32:49,997] Trial 1 finished with value: 0.6840646651270208 and parameters: {'learning_rate': 0.1397116003717381, 'max_depth': 10, 'max_iter': 876, 'min_samples_leaf': 39, 'l2_regularization': 6.2779912473372566, 'max_leaf_nodes': 99}. Best is trial 1 with value: 0.6840646651270208.\n",
      "[I 2025-01-03 11:32:53,773] Trial 2 finished with value: 0.6911470361816783 and parameters: {'learning_rate': 0.059094809070617996, 'max_depth': 9, 'max_iter': 305, 'min_samples_leaf': 49, 'l2_regularization': 6.044351502305663, 'max_leaf_nodes': 191}. Best is trial 2 with value: 0.6911470361816783.\n",
      "[I 2025-01-03 11:32:55,782] Trial 3 finished with value: 0.6831408775981525 and parameters: {'learning_rate': 0.22198013697076835, 'max_depth': 3, 'max_iter': 710, 'min_samples_leaf': 40, 'l2_regularization': 1.4613386788158655, 'max_leaf_nodes': 62}. Best is trial 2 with value: 0.6911470361816783.\n",
      "[I 2025-01-03 11:33:09,172] Trial 4 finished with value: 0.6959199384141648 and parameters: {'learning_rate': 0.01798614627019214, 'max_depth': 11, 'max_iter': 746, 'min_samples_leaf': 31, 'l2_regularization': 7.167653352355028, 'max_leaf_nodes': 123}. Best is trial 4 with value: 0.6959199384141648.\n",
      "[I 2025-01-03 11:33:11,392] Trial 5 finished with value: 0.6808314087759815 and parameters: {'learning_rate': 0.14764571664603696, 'max_depth': 3, 'max_iter': 828, 'min_samples_leaf': 25, 'l2_regularization': 8.37201974100019, 'max_leaf_nodes': 124}. Best is trial 4 with value: 0.6959199384141648.\n",
      "[I 2025-01-03 11:33:14,962] Trial 6 finished with value: 0.6911470361816782 and parameters: {'learning_rate': 0.22550071313401493, 'max_depth': 12, 'max_iter': 233, 'min_samples_leaf': 41, 'l2_regularization': 6.966508092810409, 'max_leaf_nodes': 145}. Best is trial 4 with value: 0.6959199384141648.\n",
      "[I 2025-01-03 11:33:19,252] Trial 7 finished with value: 0.6945342571208623 and parameters: {'learning_rate': 0.22755282280261077, 'max_depth': 8, 'max_iter': 341, 'min_samples_leaf': 40, 'l2_regularization': 9.2689676644374, 'max_leaf_nodes': 85}. Best is trial 4 with value: 0.6959199384141648.\n",
      "[I 2025-01-03 11:33:21,837] Trial 8 finished with value: 0.683910700538876 and parameters: {'learning_rate': 0.20680251088264398, 'max_depth': 4, 'max_iter': 662, 'min_samples_leaf': 33, 'l2_regularization': 3.4508743834976405, 'max_leaf_nodes': 99}. Best is trial 4 with value: 0.6959199384141648.\n",
      "[I 2025-01-03 11:33:24,060] Trial 9 finished with value: 0.6956120092378753 and parameters: {'learning_rate': 0.027362514373289126, 'max_depth': 5, 'max_iter': 419, 'min_samples_leaf': 50, 'l2_regularization': 7.331687685186097, 'max_leaf_nodes': 96}. Best is trial 4 with value: 0.6959199384141648.\n",
      "[I 2025-01-03 11:33:29,272] Trial 10 finished with value: 0.7045419553502694 and parameters: {'learning_rate': 0.2963464738840016, 'max_depth': 12, 'max_iter': 535, 'min_samples_leaf': 12, 'l2_regularization': 0.5221262969317317, 'max_leaf_nodes': 25}. Best is trial 10 with value: 0.7045419553502694.\n",
      "[I 2025-01-03 11:33:33,865] Trial 11 finished with value: 0.7105465742879138 and parameters: {'learning_rate': 0.2765193882752522, 'max_depth': 12, 'max_iter': 531, 'min_samples_leaf': 11, 'l2_regularization': 0.2263206634480633, 'max_leaf_nodes': 26}. Best is trial 11 with value: 0.7105465742879138.\n",
      "[I 2025-01-03 11:33:37,303] Trial 12 finished with value: 0.7116243264049269 and parameters: {'learning_rate': 0.2693449778328368, 'max_depth': 12, 'max_iter': 509, 'min_samples_leaf': 8, 'l2_regularization': 0.17871110966869325, 'max_leaf_nodes': 20}. Best is trial 12 with value: 0.7116243264049269.\n",
      "[I 2025-01-03 11:33:42,576] Trial 13 finished with value: 0.7016166281755195 and parameters: {'learning_rate': 0.28859234921180105, 'max_depth': 6, 'max_iter': 520, 'min_samples_leaf': 5, 'l2_regularization': 2.143409896213983, 'max_leaf_nodes': 39}. Best is trial 12 with value: 0.7116243264049269.\n",
      "[I 2025-01-03 11:33:44,166] Trial 14 finished with value: 0.7080831408775982 and parameters: {'learning_rate': 0.2633146937143445, 'max_depth': 10, 'max_iter': 116, 'min_samples_leaf': 18, 'l2_regularization': 0.20045791806420804, 'max_leaf_nodes': 51}. Best is trial 12 with value: 0.7116243264049269.\n",
      "[I 2025-01-03 11:33:48,930] Trial 15 finished with value: 0.7059276366435719 and parameters: {'learning_rate': 0.18317963605224913, 'max_depth': 7, 'max_iter': 613, 'min_samples_leaf': 7, 'l2_regularization': 2.7875431445890926, 'max_leaf_nodes': 20}. Best is trial 12 with value: 0.7116243264049269.\n",
      "[I 2025-01-03 11:34:07,700] Trial 16 finished with value: 0.7056197074672825 and parameters: {'learning_rate': 0.2578895998960082, 'max_depth': 11, 'max_iter': 994, 'min_samples_leaf': 18, 'l2_regularization': 1.118032089076784, 'max_leaf_nodes': 67}. Best is trial 12 with value: 0.7116243264049269.\n",
      "[I 2025-01-03 11:34:13,484] Trial 17 finished with value: 0.712086220169361 and parameters: {'learning_rate': 0.08968421979828972, 'max_depth': 9, 'max_iter': 448, 'min_samples_leaf': 13, 'l2_regularization': 4.59010331533254, 'max_leaf_nodes': 38}. Best is trial 17 with value: 0.712086220169361.\n",
      "[I 2025-01-03 11:34:18,761] Trial 18 finished with value: 0.7016166281755196 and parameters: {'learning_rate': 0.08522053849836322, 'max_depth': 8, 'max_iter': 443, 'min_samples_leaf': 20, 'l2_regularization': 5.009623458348125, 'max_leaf_nodes': 47}. Best is trial 17 with value: 0.712086220169361.\n",
      "[I 2025-01-03 11:34:30,770] Trial 19 finished with value: 0.708083140877598 and parameters: {'learning_rate': 0.10310011883681033, 'max_depth': 10, 'max_iter': 425, 'min_samples_leaf': 13, 'l2_regularization': 3.991267015982967, 'max_leaf_nodes': 165}. Best is trial 17 with value: 0.712086220169361.\n",
      "[I 2025-01-03 11:34:35,668] Trial 20 finished with value: 0.7026943802925327 and parameters: {'learning_rate': 0.18063047241950747, 'max_depth': 9, 'max_iter': 338, 'min_samples_leaf': 24, 'l2_regularization': 5.087809466916076, 'max_leaf_nodes': 69}. Best is trial 17 with value: 0.712086220169361.\n",
      "[I 2025-01-03 11:34:42,917] Trial 21 finished with value: 0.7082371054657428 and parameters: {'learning_rate': 0.2603537583639763, 'max_depth': 12, 'max_iter': 585, 'min_samples_leaf': 12, 'l2_regularization': 1.8337696161491979, 'max_leaf_nodes': 36}. Best is trial 17 with value: 0.712086220169361.\n",
      "[I 2025-01-03 11:34:46,278] Trial 22 finished with value: 0.7151655119322556 and parameters: {'learning_rate': 0.06397386257227913, 'max_depth': 11, 'max_iter': 487, 'min_samples_leaf': 9, 'l2_regularization': 2.603037676077693, 'max_leaf_nodes': 21}. Best is trial 22 with value: 0.7151655119322556.\n",
      "[I 2025-01-03 11:34:54,140] Trial 23 finished with value: 0.7187066974595842 and parameters: {'learning_rate': 0.0670194292191833, 'max_depth': 11, 'max_iter': 468, 'min_samples_leaf': 8, 'l2_regularization': 2.8871320093740507, 'max_leaf_nodes': 56}. Best is trial 23 with value: 0.7187066974595842.\n",
      "[I 2025-01-03 11:34:59,925] Trial 24 finished with value: 0.7122401847575057 and parameters: {'learning_rate': 0.05674741217040303, 'max_depth': 9, 'max_iter': 444, 'min_samples_leaf': 15, 'l2_regularization': 2.7394940002162227, 'max_leaf_nodes': 50}. Best is trial 23 with value: 0.7187066974595842.\n",
      "[I 2025-01-03 11:35:05,643] Trial 25 finished with value: 0.7153194765204003 and parameters: {'learning_rate': 0.05764591533081276, 'max_depth': 11, 'max_iter': 373, 'min_samples_leaf': 16, 'l2_regularization': 2.839568800503012, 'max_leaf_nodes': 55}. Best is trial 23 with value: 0.7187066974595842.\n",
      "[I 2025-01-03 11:35:11,197] Trial 26 finished with value: 0.7173210161662819 and parameters: {'learning_rate': 0.049946629202706226, 'max_depth': 11, 'max_iter': 225, 'min_samples_leaf': 8, 'l2_regularization': 3.2777106943981833, 'max_leaf_nodes': 77}. Best is trial 23 with value: 0.7187066974595842.\n",
      "[I 2025-01-03 11:35:14,668] Trial 27 finished with value: 0.7202463433410315 and parameters: {'learning_rate': 0.03781693654791825, 'max_depth': 11, 'max_iter': 122, 'min_samples_leaf': 5, 'l2_regularization': 3.548604481603319, 'max_leaf_nodes': 78}. Best is trial 27 with value: 0.7202463433410315.\n",
      "[I 2025-01-03 11:35:19,538] Trial 28 finished with value: 0.7191685912240183 and parameters: {'learning_rate': 0.03555395419780024, 'max_depth': 10, 'max_iter': 178, 'min_samples_leaf': 5, 'l2_regularization': 3.5978451841895804, 'max_leaf_nodes': 78}. Best is trial 27 with value: 0.7202463433410315.\n",
      "[I 2025-01-03 11:35:23,110] Trial 29 finished with value: 0.7148575827559661 and parameters: {'learning_rate': 0.11698457214272528, 'max_depth': 10, 'max_iter': 123, 'min_samples_leaf': 5, 'l2_regularization': 3.879646050440641, 'max_leaf_nodes': 86}. Best is trial 27 with value: 0.7202463433410315.\n",
      "[I 2025-01-03 11:35:25,152] Trial 30 finished with value: 0.7079291762894535 and parameters: {'learning_rate': 0.0353055456584965, 'max_depth': 7, 'max_iter': 172, 'min_samples_leaf': 20, 'l2_regularization': 3.6887264113852485, 'max_leaf_nodes': 114}. Best is trial 27 with value: 0.7202463433410315.\n",
      "[I 2025-01-03 11:35:30,735] Trial 31 finished with value: 0.7224018475750578 and parameters: {'learning_rate': 0.041656727030600846, 'max_depth': 11, 'max_iter': 244, 'min_samples_leaf': 9, 'l2_regularization': 3.181186245412145, 'max_leaf_nodes': 74}. Best is trial 31 with value: 0.7224018475750578.\n",
      "[I 2025-01-03 11:35:37,557] Trial 32 finished with value: 0.7176289453425713 and parameters: {'learning_rate': 0.037626938979399685, 'max_depth': 10, 'max_iter': 283, 'min_samples_leaf': 5, 'l2_regularization': 4.556094709390777, 'max_leaf_nodes': 78}. Best is trial 31 with value: 0.7224018475750578.\n",
      "[I 2025-01-03 11:35:42,278] Trial 33 finished with value: 0.7119322555812164 and parameters: {'learning_rate': 0.015320799610871114, 'max_depth': 10, 'max_iter': 179, 'min_samples_leaf': 10, 'l2_regularization': 5.545818476222523, 'max_leaf_nodes': 92}. Best is trial 31 with value: 0.7224018475750578.\n",
      "[I 2025-01-03 11:35:47,977] Trial 34 finished with value: 0.7167051578137029 and parameters: {'learning_rate': 0.0785328420837706, 'max_depth': 11, 'max_iter': 269, 'min_samples_leaf': 7, 'l2_regularization': 2.108036418698773, 'max_leaf_nodes': 64}. Best is trial 31 with value: 0.7224018475750578.\n",
      "[I 2025-01-03 11:35:53,373] Trial 35 finished with value: 0.7163972286374134 and parameters: {'learning_rate': 0.07326548568272809, 'max_depth': 11, 'max_iter': 162, 'min_samples_leaf': 5, 'l2_regularization': 4.341510002329992, 'max_leaf_nodes': 107}. Best is trial 31 with value: 0.7224018475750578.\n",
      "[I 2025-01-03 11:35:55,188] Trial 36 finished with value: 0.7216320246343341 and parameters: {'learning_rate': 0.12731499535649815, 'max_depth': 9, 'max_iter': 104, 'min_samples_leaf': 9, 'l2_regularization': 1.0268630985926244, 'max_leaf_nodes': 75}. Best is trial 31 with value: 0.7224018475750578.\n",
      "[I 2025-01-03 11:35:57,139] Trial 37 finished with value: 0.6885296381832179 and parameters: {'learning_rate': 0.13418154062156482, 'max_depth': 9, 'max_iter': 199, 'min_samples_leaf': 45, 'l2_regularization': 1.3216928889493214, 'max_leaf_nodes': 73}. Best is trial 31 with value: 0.7224018475750578.\n",
      "[I 2025-01-03 11:35:59,017] Trial 38 finished with value: 0.7157813702848345 and parameters: {'learning_rate': 0.12063386167977667, 'max_depth': 8, 'max_iter': 106, 'min_samples_leaf': 15, 'l2_regularization': 5.841151961216415, 'max_leaf_nodes': 133}. Best is trial 31 with value: 0.7224018475750578.\n",
      "[I 2025-01-03 11:36:00,473] Trial 39 finished with value: 0.6993071593533486 and parameters: {'learning_rate': 0.16874553109755658, 'max_depth': 9, 'max_iter': 103, 'min_samples_leaf': 28, 'l2_regularization': 0.9566126633808438, 'max_leaf_nodes': 109}. Best is trial 31 with value: 0.7224018475750578.\n",
      "[I 2025-01-03 11:36:04,628] Trial 40 finished with value: 0.7117782909930715 and parameters: {'learning_rate': 0.011756699852798126, 'max_depth': 10, 'max_iter': 240, 'min_samples_leaf': 23, 'l2_regularization': 3.314767466136871, 'max_leaf_nodes': 88}. Best is trial 31 with value: 0.7224018475750578.\n",
      "[I 2025-01-03 11:36:07,457] Trial 41 finished with value: 0.7213240954580447 and parameters: {'learning_rate': 0.04358198885961749, 'max_depth': 11, 'max_iter': 158, 'min_samples_leaf': 10, 'l2_regularization': 1.8554699053866268, 'max_leaf_nodes': 59}. Best is trial 31 with value: 0.7224018475750578.\n",
      "[I 2025-01-03 11:36:10,130] Trial 42 finished with value: 0.7237875288683602 and parameters: {'learning_rate': 0.03905314199331496, 'max_depth': 12, 'max_iter': 153, 'min_samples_leaf': 10, 'l2_regularization': 1.826834982487865, 'max_leaf_nodes': 61}. Best is trial 42 with value: 0.7237875288683602.\n",
      "[I 2025-01-03 11:36:12,833] Trial 43 finished with value: 0.725635103926097 and parameters: {'learning_rate': 0.04632583641399217, 'max_depth': 12, 'max_iter': 144, 'min_samples_leaf': 10, 'l2_regularization': 1.7504806237449977, 'max_leaf_nodes': 64}. Best is trial 43 with value: 0.725635103926097.\n",
      "[I 2025-01-03 11:36:17,261] Trial 44 finished with value: 0.7207082371054658 and parameters: {'learning_rate': 0.09972634867440472, 'max_depth': 12, 'max_iter': 248, 'min_samples_leaf': 10, 'l2_regularization': 1.726888788485759, 'max_leaf_nodes': 62}. Best is trial 43 with value: 0.725635103926097.\n",
      "[I 2025-01-03 11:36:21,003] Trial 45 finished with value: 0.6988452655889146 and parameters: {'learning_rate': 0.04821646696603584, 'max_depth': 12, 'max_iter': 319, 'min_samples_leaf': 36, 'l2_regularization': 0.8093364485470969, 'max_leaf_nodes': 59}. Best is trial 43 with value: 0.725635103926097.\n",
      "[I 2025-01-03 11:36:23,120] Trial 46 finished with value: 0.7200923787528868 and parameters: {'learning_rate': 0.024205220193986396, 'max_depth': 12, 'max_iter': 152, 'min_samples_leaf': 14, 'l2_regularization': 2.163955073939717, 'max_leaf_nodes': 43}. Best is trial 43 with value: 0.725635103926097.\n",
      "[I 2025-01-03 11:36:30,912] Trial 47 finished with value: 0.7173210161662817 and parameters: {'learning_rate': 0.10369025078600988, 'max_depth': 12, 'max_iter': 281, 'min_samples_leaf': 17, 'l2_regularization': 0.7001194777399908, 'max_leaf_nodes': 198}. Best is trial 43 with value: 0.725635103926097.\n",
      "[I 2025-01-03 11:36:34,851] Trial 48 finished with value: 0.7191685912240184 and parameters: {'learning_rate': 0.15713204307083775, 'max_depth': 12, 'max_iter': 375, 'min_samples_leaf': 11, 'l2_regularization': 1.4782394078922911, 'max_leaf_nodes': 31}. Best is trial 43 with value: 0.725635103926097.\n",
      "[I 2025-01-03 11:36:36,110] Trial 49 finished with value: 0.7116243264049269 and parameters: {'learning_rate': 0.04885357407111162, 'max_depth': 5, 'max_iter': 202, 'min_samples_leaf': 11, 'l2_regularization': 2.2927903982976625, 'max_leaf_nodes': 100}. Best is trial 43 with value: 0.725635103926097.\n"
     ]
    },
    {
     "data": {
      "text/plain": [
       "({'learning_rate': 0.04632583641399217,\n",
       "  'max_depth': 12,\n",
       "  'max_iter': 144,\n",
       "  'min_samples_leaf': 10,\n",
       "  'l2_regularization': 1.7504806237449977,\n",
       "  'max_leaf_nodes': 64},\n",
       " 0.725635103926097)"
      ]
     },
     "execution_count": 116,
     "metadata": {},
     "output_type": "execute_result"
    }
   ],
   "source": [
    "params = {\n",
    "    \"learning_rate\": {\"type\": \"float\", \"min\": 0.01, \"max\": 0.3},\n",
    "    \"max_depth\": {\"type\": \"int\", \"min\": 3, \"max\": 12},\n",
    "    \"max_iter\": {\"type\": \"int\", \"min\": 100, \"max\": 1000},\n",
    "    \"min_samples_leaf\": {\"type\": \"int\", \"min\": 5, \"max\": 50},\n",
    "    \"l2_regularization\": {\"type\": \"float\", \"min\": 0.0, \"max\": 10.0},\n",
    "    \"max_leaf_nodes\": {\"type\": \"int\", \"min\": 20, \"max\": 200}\n",
    "}\n",
    "\n",
    "hgbc_tuner = HyperparameterTuner(HistGradientBoostingClassifier, params, train_x, train_y)\n",
    "hgbc_tuner.optimize(100)\n",
    "hgbc_tuner.best_params(), hgbc_tuner.best_score()"
   ]
  },
  {
   "cell_type": "code",
   "execution_count": 118,
   "metadata": {},
   "outputs": [
    {
     "name": "stdout",
     "output_type": "stream",
     "text": [
      "              precision    recall  f1-score   support\n",
      "\n",
      "           0       0.79      0.77      0.78      1060\n",
      "           1       0.78      0.79      0.78      1054\n",
      "\n",
      "    accuracy                           0.78      2114\n",
      "   macro avg       0.78      0.78      0.78      2114\n",
      "weighted avg       0.78      0.78      0.78      2114\n",
      "\n"
     ]
    }
   ],
   "source": [
    "params = {\n",
    "    \"learning_rate\": 0.04632583641399217,\n",
    "    \"max_depth\": 12,\n",
    "    \"max_iter\": 144,\n",
    "    \"min_samples_leaf\": 10,\n",
    "    \"l2_regularization\": 1.7504806237449977,\n",
    "    \"max_leaf_nodes\": 64,\n",
    "}\n",
    "\n",
    "hgbc_final = HistGradientBoostingClassifier(**params)\n",
    "hgbc_final.fit(train_x, train_y)\n",
    "print(classification_report(valid_y, hgbc_final.predict(valid_x)))"
   ]
  },
  {
   "cell_type": "markdown",
   "metadata": {},
   "source": [
    "- AdaBoostClassifier"
   ]
  },
  {
   "cell_type": "code",
   "execution_count": 123,
   "metadata": {},
   "outputs": [
    {
     "name": "stderr",
     "output_type": "stream",
     "text": [
      "[I 2025-01-03 13:43:03,433] A new study created in memory with name: no-name-59e4f87b-eb48-4d4f-b3b7-581a7b60b773\n",
      "[I 2025-01-03 13:43:14,236] Trial 0 finished with value: 0.6646651270207852 and parameters: {'n_estimators': 315, 'learning_rate': 0.09521259910377598, 'algorithm': 'SAMME.R'}. Best is trial 0 with value: 0.6646651270207852.\n",
      "[I 2025-01-03 13:43:23,603] Trial 1 finished with value: 0.6682063125481139 and parameters: {'n_estimators': 294, 'learning_rate': 0.16987854601287597, 'algorithm': 'SAMME.R'}. Best is trial 1 with value: 0.6682063125481139.\n",
      "[I 2025-01-03 13:43:36,991] Trial 2 finished with value: 0.6618937644341801 and parameters: {'n_estimators': 464, 'learning_rate': 0.2223483620516855, 'algorithm': 'SAMME.R'}. Best is trial 1 with value: 0.6682063125481139.\n",
      "[I 2025-01-03 13:43:46,775] Trial 3 finished with value: 0.666974595842956 and parameters: {'n_estimators': 342, 'learning_rate': 0.2988368021210699, 'algorithm': 'SAMME.R'}. Best is trial 1 with value: 0.6682063125481139.\n",
      "[I 2025-01-03 13:43:56,020] Trial 4 finished with value: 0.6631254811393379 and parameters: {'n_estimators': 332, 'learning_rate': 0.1648488158681623, 'algorithm': 'SAMME'}. Best is trial 1 with value: 0.6682063125481139.\n",
      "[I 2025-01-03 13:44:08,744] Trial 5 finished with value: 0.6646651270207852 and parameters: {'n_estimators': 456, 'learning_rate': 0.024208108164051036, 'algorithm': 'SAMME'}. Best is trial 1 with value: 0.6682063125481139.\n",
      "[I 2025-01-03 13:44:10,592] Trial 6 finished with value: 0.6543494996150885 and parameters: {'n_estimators': 63, 'learning_rate': 0.03255280361972853, 'algorithm': 'SAMME'}. Best is trial 1 with value: 0.6682063125481139.\n",
      "[I 2025-01-03 13:44:20,515] Trial 7 finished with value: 0.6640492686682062 and parameters: {'n_estimators': 342, 'learning_rate': 0.08168557625095785, 'algorithm': 'SAMME'}. Best is trial 1 with value: 0.6682063125481139.\n",
      "[I 2025-01-03 13:44:32,642] Trial 8 finished with value: 0.6631254811393379 and parameters: {'n_estimators': 372, 'learning_rate': 0.17425938501123647, 'algorithm': 'SAMME'}. Best is trial 1 with value: 0.6682063125481139.\n",
      "[I 2025-01-03 13:44:36,100] Trial 9 finished with value: 0.6543494996150885 and parameters: {'n_estimators': 109, 'learning_rate': 0.014107337209695703, 'algorithm': 'SAMME'}. Best is trial 1 with value: 0.6682063125481139.\n",
      "[I 2025-01-03 13:44:42,326] Trial 10 finished with value: 0.6671285604311008 and parameters: {'n_estimators': 192, 'learning_rate': 0.24211848263459915, 'algorithm': 'SAMME.R'}. Best is trial 1 with value: 0.6682063125481139.\n",
      "[I 2025-01-03 13:44:48,196] Trial 11 finished with value: 0.6662047729022325 and parameters: {'n_estimators': 196, 'learning_rate': 0.2537392705090593, 'algorithm': 'SAMME.R'}. Best is trial 1 with value: 0.6682063125481139.\n",
      "[I 2025-01-03 13:44:54,827] Trial 12 finished with value: 0.6655889145496536 and parameters: {'n_estimators': 216, 'learning_rate': 0.2144430886970765, 'algorithm': 'SAMME.R'}. Best is trial 1 with value: 0.6682063125481139.\n",
      "[I 2025-01-03 13:45:01,685] Trial 13 finished with value: 0.664203233256351 and parameters: {'n_estimators': 210, 'learning_rate': 0.1253724255654022, 'algorithm': 'SAMME.R'}. Best is trial 1 with value: 0.6682063125481139.\n",
      "[I 2025-01-03 13:45:10,294] Trial 14 finished with value: 0.6671285604311008 and parameters: {'n_estimators': 264, 'learning_rate': 0.20452571004292375, 'algorithm': 'SAMME.R'}. Best is trial 1 with value: 0.6682063125481139.\n",
      "[I 2025-01-03 13:45:14,815] Trial 15 finished with value: 0.6671285604311008 and parameters: {'n_estimators': 147, 'learning_rate': 0.2673180488564959, 'algorithm': 'SAMME.R'}. Best is trial 1 with value: 0.6682063125481139.\n",
      "[I 2025-01-03 13:45:22,886] Trial 16 finished with value: 0.6671285604311008 and parameters: {'n_estimators': 256, 'learning_rate': 0.13865900518689592, 'algorithm': 'SAMME.R'}. Best is trial 1 with value: 0.6682063125481139.\n",
      "[I 2025-01-03 13:45:37,588] Trial 17 finished with value: 0.6651270207852195 and parameters: {'n_estimators': 414, 'learning_rate': 0.19052725674181734, 'algorithm': 'SAMME.R'}. Best is trial 1 with value: 0.6682063125481139.\n",
      "[I 2025-01-03 13:45:43,369] Trial 18 finished with value: 0.6663587374903772 and parameters: {'n_estimators': 150, 'learning_rate': 0.24209606715031312, 'algorithm': 'SAMME.R'}. Best is trial 1 with value: 0.6682063125481139.\n",
      "[I 2025-01-03 13:45:53,381] Trial 19 finished with value: 0.6638953040800617 and parameters: {'n_estimators': 287, 'learning_rate': 0.2874568629781399, 'algorithm': 'SAMME.R'}. Best is trial 1 with value: 0.6682063125481139.\n",
      "[I 2025-01-03 13:45:55,195] Trial 20 finished with value: 0.6660508083140878 and parameters: {'n_estimators': 50, 'learning_rate': 0.10580245463209569, 'algorithm': 'SAMME.R'}. Best is trial 1 with value: 0.6682063125481139.\n",
      "[I 2025-01-03 13:46:03,762] Trial 21 finished with value: 0.6658968437259432 and parameters: {'n_estimators': 252, 'learning_rate': 0.19866126944556714, 'algorithm': 'SAMME.R'}. Best is trial 1 with value: 0.6682063125481139.\n",
      "[I 2025-01-03 13:46:13,381] Trial 22 finished with value: 0.6634334103156274 and parameters: {'n_estimators': 281, 'learning_rate': 0.2283015174580616, 'algorithm': 'SAMME.R'}. Best is trial 1 with value: 0.6682063125481139.\n",
      "[I 2025-01-03 13:46:21,102] Trial 23 finished with value: 0.6657428791377982 and parameters: {'n_estimators': 227, 'learning_rate': 0.18909433535324216, 'algorithm': 'SAMME.R'}. Best is trial 1 with value: 0.6682063125481139.\n",
      "[I 2025-01-03 13:46:26,803] Trial 24 finished with value: 0.6638953040800615 and parameters: {'n_estimators': 165, 'learning_rate': 0.15390634556203142, 'algorithm': 'SAMME.R'}. Best is trial 1 with value: 0.6682063125481139.\n",
      "[I 2025-01-03 13:46:41,294] Trial 25 finished with value: 0.6668206312548115 and parameters: {'n_estimators': 393, 'learning_rate': 0.26498378796664634, 'algorithm': 'SAMME.R'}. Best is trial 1 with value: 0.6682063125481139.\n",
      "[I 2025-01-03 13:46:52,501] Trial 26 finished with value: 0.6662047729022325 and parameters: {'n_estimators': 296, 'learning_rate': 0.21045433672693425, 'algorithm': 'SAMME.R'}. Best is trial 1 with value: 0.6682063125481139.\n",
      "[I 2025-01-03 13:47:00,206] Trial 27 finished with value: 0.665896843725943 and parameters: {'n_estimators': 177, 'learning_rate': 0.23361917533374332, 'algorithm': 'SAMME.R'}. Best is trial 1 with value: 0.6682063125481139.\n",
      "[I 2025-01-03 13:47:05,163] Trial 28 finished with value: 0.6635873749037722 and parameters: {'n_estimators': 115, 'learning_rate': 0.17633972556360578, 'algorithm': 'SAMME.R'}. Best is trial 1 with value: 0.6682063125481139.\n",
      "[I 2025-01-03 13:47:15,176] Trial 29 finished with value: 0.6651270207852193 and parameters: {'n_estimators': 240, 'learning_rate': 0.0766520088918685, 'algorithm': 'SAMME.R'}. Best is trial 1 with value: 0.6682063125481139.\n",
      "[I 2025-01-03 13:47:28,280] Trial 30 finished with value: 0.6655889145496536 and parameters: {'n_estimators': 314, 'learning_rate': 0.1507770619596404, 'algorithm': 'SAMME.R'}. Best is trial 1 with value: 0.6682063125481139.\n",
      "[I 2025-01-03 13:47:32,661] Trial 31 finished with value: 0.6655889145496536 and parameters: {'n_estimators': 101, 'learning_rate': 0.27389743261106875, 'algorithm': 'SAMME.R'}. Best is trial 1 with value: 0.6682063125481139.\n",
      "[I 2025-01-03 13:47:39,031] Trial 32 finished with value: 0.6666666666666666 and parameters: {'n_estimators': 152, 'learning_rate': 0.25145058195274766, 'algorithm': 'SAMME.R'}. Best is trial 1 with value: 0.6682063125481139.\n",
      "[I 2025-01-03 13:47:50,253] Trial 33 finished with value: 0.6643571978444959 and parameters: {'n_estimators': 266, 'learning_rate': 0.26894763814110423, 'algorithm': 'SAMME.R'}. Best is trial 1 with value: 0.6682063125481139.\n",
      "[I 2025-01-03 13:47:57,925] Trial 34 finished with value: 0.6646651270207853 and parameters: {'n_estimators': 185, 'learning_rate': 0.21156055650671346, 'algorithm': 'SAMME.R'}. Best is trial 1 with value: 0.6682063125481139.\n",
      "[I 2025-01-03 13:48:04,017] Trial 35 finished with value: 0.6671285604311008 and parameters: {'n_estimators': 143, 'learning_rate': 0.2928706735644946, 'algorithm': 'SAMME.R'}. Best is trial 1 with value: 0.6682063125481139.\n",
      "[I 2025-01-03 13:48:09,551] Trial 36 finished with value: 0.6622016936104697 and parameters: {'n_estimators': 132, 'learning_rate': 0.24059199226524292, 'algorithm': 'SAMME'}. Best is trial 1 with value: 0.6682063125481139.\n",
      "[I 2025-01-03 13:48:13,456] Trial 37 finished with value: 0.6632794457274828 and parameters: {'n_estimators': 89, 'learning_rate': 0.2213685701599286, 'algorithm': 'SAMME.R'}. Best is trial 1 with value: 0.6682063125481139.\n",
      "[I 2025-01-03 13:48:26,755] Trial 38 finished with value: 0.6631254811393379 and parameters: {'n_estimators': 310, 'learning_rate': 0.280588328318916, 'algorithm': 'SAMME'}. Best is trial 1 with value: 0.6682063125481139.\n",
      "[I 2025-01-03 13:48:42,162] Trial 39 finished with value: 0.6638953040800617 and parameters: {'n_estimators': 365, 'learning_rate': 0.17683590811900016, 'algorithm': 'SAMME.R'}. Best is trial 1 with value: 0.6682063125481139.\n",
      "[I 2025-01-03 13:48:49,493] Trial 40 finished with value: 0.6609699769053117 and parameters: {'n_estimators': 197, 'learning_rate': 0.19784736367999833, 'algorithm': 'SAMME'}. Best is trial 1 with value: 0.6682063125481139.\n",
      "[I 2025-01-03 13:48:58,374] Trial 41 finished with value: 0.6652809853733641 and parameters: {'n_estimators': 261, 'learning_rate': 0.14596559910021817, 'algorithm': 'SAMME.R'}. Best is trial 1 with value: 0.6682063125481139.\n",
      "[I 2025-01-03 13:49:06,202] Trial 42 finished with value: 0.6651270207852193 and parameters: {'n_estimators': 233, 'learning_rate': 0.12941299923767166, 'algorithm': 'SAMME.R'}. Best is trial 1 with value: 0.6682063125481139.\n",
      "[I 2025-01-03 13:49:18,013] Trial 43 finished with value: 0.6655889145496536 and parameters: {'n_estimators': 331, 'learning_rate': 0.13391002637697993, 'algorithm': 'SAMME.R'}. Best is trial 1 with value: 0.6682063125481139.\n",
      "[I 2025-01-03 13:49:25,608] Trial 44 finished with value: 0.6648190916089299 and parameters: {'n_estimators': 213, 'learning_rate': 0.10905735992775781, 'algorithm': 'SAMME.R'}. Best is trial 1 with value: 0.6682063125481139.\n",
      "[I 2025-01-03 13:49:34,443] Trial 45 finished with value: 0.6660508083140877 and parameters: {'n_estimators': 248, 'learning_rate': 0.16358083504850285, 'algorithm': 'SAMME.R'}. Best is trial 1 with value: 0.6682063125481139.\n",
      "[I 2025-01-03 13:49:51,354] Trial 46 finished with value: 0.6629715165511932 and parameters: {'n_estimators': 495, 'learning_rate': 0.2477943738962114, 'algorithm': 'SAMME'}. Best is trial 1 with value: 0.6682063125481139.\n",
      "[I 2025-01-03 13:50:04,032] Trial 47 finished with value: 0.6651270207852193 and parameters: {'n_estimators': 362, 'learning_rate': 0.06442334293613805, 'algorithm': 'SAMME.R'}. Best is trial 1 with value: 0.6682063125481139.\n",
      "[I 2025-01-03 13:50:14,665] Trial 48 finished with value: 0.660816012317167 and parameters: {'n_estimators': 303, 'learning_rate': 0.2596568903829273, 'algorithm': 'SAMME.R'}. Best is trial 1 with value: 0.6682063125481139.\n",
      "[I 2025-01-03 13:50:26,352] Trial 49 finished with value: 0.6632794457274827 and parameters: {'n_estimators': 334, 'learning_rate': 0.16745465613263139, 'algorithm': 'SAMME.R'}. Best is trial 1 with value: 0.6682063125481139.\n"
     ]
    },
    {
     "data": {
      "text/plain": [
       "({'n_estimators': 294,\n",
       "  'learning_rate': 0.16987854601287597,\n",
       "  'algorithm': 'SAMME.R'},\n",
       " 0.6682063125481139)"
      ]
     },
     "execution_count": 123,
     "metadata": {},
     "output_type": "execute_result"
    }
   ],
   "source": [
    "params = {\n",
    "    \"n_estimators\": {\"type\": \"int\", \"min\": 50, \"max\": 500},\n",
    "    \"learning_rate\": {\"type\": \"float\", \"min\": 0.01, \"max\": 0.3},\n",
    "    \"algorithm\": {\"type\": \"categorical\", \"values\": [\"SAMME\", \"SAMME.R\"]}\n",
    "}\n",
    "\n",
    "ada_tuner = HyperparameterTuner(AdaBoostClassifier, params, train_x, train_y)\n",
    "ada_tuner.optimize(100)\n",
    "ada_tuner.best_params(), ada_tuner.best_score()"
   ]
  },
  {
   "cell_type": "code",
   "execution_count": 124,
   "metadata": {},
   "outputs": [
    {
     "name": "stderr",
     "output_type": "stream",
     "text": [
      "c:\\Users\\kwon3\\AppData\\Local\\Programs\\Python\\Python310\\lib\\site-packages\\sklearn\\ensemble\\_weight_boosting.py:527: FutureWarning: The SAMME.R algorithm (the default) is deprecated and will be removed in 1.6. Use the SAMME algorithm to circumvent this warning.\n",
      "  warnings.warn(\n"
     ]
    },
    {
     "name": "stdout",
     "output_type": "stream",
     "text": [
      "              precision    recall  f1-score   support\n",
      "\n",
      "           0       0.73      0.73      0.73      1060\n",
      "           1       0.73      0.73      0.73      1054\n",
      "\n",
      "    accuracy                           0.73      2114\n",
      "   macro avg       0.73      0.73      0.73      2114\n",
      "weighted avg       0.73      0.73      0.73      2114\n",
      "\n"
     ]
    }
   ],
   "source": [
    "params = {\n",
    "    \"n_estimators\": 294,\n",
    "    \"learning_rate\": 0.16987854601287597,\n",
    "    \"algorithm\": \"SAMME.R\",\n",
    "}\n",
    "\n",
    "ada_final = AdaBoostClassifier(**params)\n",
    "ada_final.fit(train_x, train_y)\n",
    "print(classification_report(valid_y, ada_final.predict(valid_x)))"
   ]
  },
  {
   "cell_type": "markdown",
   "metadata": {},
   "source": [
    "- SVC"
   ]
  },
  {
   "cell_type": "code",
   "execution_count": 125,
   "metadata": {},
   "outputs": [
    {
     "name": "stderr",
     "output_type": "stream",
     "text": [
      "[I 2025-01-03 14:01:33,458] A new study created in memory with name: no-name-3a7c467e-46b5-43c0-a28e-376824470956\n",
      "[I 2025-01-03 14:01:37,405] Trial 0 finished with value: 0.6649730561970747 and parameters: {'C': 6.532589110334154, 'kernel': 'linear', 'degree': 2, 'gamma': 0.08568064806975698, 'coef0': 5.066959629204042, 'class_weight': 'balanced'}. Best is trial 0 with value: 0.6649730561970747.\n",
      "[I 2025-01-03 14:01:40,225] Trial 1 finished with value: 0.6666666666666667 and parameters: {'C': 2.5763117814979686, 'kernel': 'linear', 'degree': 3, 'gamma': 0.5439807994516113, 'coef0': 4.848738274760509, 'class_weight': 'balanced'}. Best is trial 1 with value: 0.6666666666666667.\n",
      "[I 2025-01-03 14:01:42,807] Trial 2 finished with value: 0.6649730561970747 and parameters: {'C': 6.25169603235249, 'kernel': 'linear', 'degree': 4, 'gamma': 0.15863844468827148, 'coef0': 2.9647610950302505, 'class_weight': 'balanced'}. Best is trial 1 with value: 0.6666666666666667.\n",
      "[I 2025-01-03 14:01:44,399] Trial 3 finished with value: 0.6669745958429563 and parameters: {'C': 0.46284518439570943, 'kernel': 'linear', 'degree': 5, 'gamma': 0.207010909691931, 'coef0': 4.110410156666907, 'class_weight': None}. Best is trial 3 with value: 0.6669745958429563.\n",
      "[I 2025-01-03 14:01:46,831] Trial 4 finished with value: 0.6412625096227867 and parameters: {'C': 1.3378818360446467, 'kernel': 'rbf', 'degree': 5, 'gamma': 0.53402180907443, 'coef0': 5.212567606052627, 'class_weight': 'balanced'}. Best is trial 3 with value: 0.6669745958429563.\n",
      "[I 2025-01-03 14:02:08,038] Trial 5 finished with value: 0.6060046189376443 and parameters: {'C': 2.5736424226173136, 'kernel': 'poly', 'degree': 2, 'gamma': 0.8531974140973287, 'coef0': 8.836624887135354, 'class_weight': None}. Best is trial 3 with value: 0.6669745958429563.\n",
      "[I 2025-01-03 14:02:10,861] Trial 6 finished with value: 0.6629715165511931 and parameters: {'C': 9.183128382140403, 'kernel': 'linear', 'degree': 2, 'gamma': 0.9031462670758457, 'coef0': 4.106470870188373, 'class_weight': 'balanced'}. Best is trial 3 with value: 0.6669745958429563.\n",
      "[I 2025-01-03 14:02:13,053] Trial 7 finished with value: 0.6505003849114703 and parameters: {'C': 2.4437084002785365, 'kernel': 'rbf', 'degree': 5, 'gamma': 0.12274276977482437, 'coef0': 6.242726362837153, 'class_weight': None}. Best is trial 3 with value: 0.6669745958429563.\n",
      "[I 2025-01-03 14:02:37,548] Trial 8 finished with value: 0.5799846035411855 and parameters: {'C': 1.2713374696968407, 'kernel': 'poly', 'degree': 3, 'gamma': 0.4072555158411222, 'coef0': 0.3789775135367568, 'class_weight': 'balanced'}. Best is trial 3 with value: 0.6669745958429563.\n",
      "[I 2025-01-03 14:02:40,628] Trial 9 finished with value: 0.6250962278675904 and parameters: {'C': 4.369833569606021, 'kernel': 'rbf', 'degree': 3, 'gamma': 0.4725006757630986, 'coef0': 1.156183850332515, 'class_weight': 'balanced'}. Best is trial 3 with value: 0.6669745958429563.\n",
      "[I 2025-01-03 14:02:43,788] Trial 10 finished with value: 0.4999230177059276 and parameters: {'C': 9.742644240476018, 'kernel': 'sigmoid', 'degree': 4, 'gamma': 0.2958810888236556, 'coef0': 7.525799610250429, 'class_weight': None}. Best is trial 3 with value: 0.6669745958429563.\n",
      "[I 2025-01-03 14:02:45,305] Trial 11 finished with value: 0.6691301000769823 and parameters: {'C': 0.21950805677161292, 'kernel': 'linear', 'degree': 4, 'gamma': 0.671045772731431, 'coef0': 2.7929809033044726, 'class_weight': None}. Best is trial 11 with value: 0.6691301000769823.\n",
      "[I 2025-01-03 14:02:46,866] Trial 12 finished with value: 0.6671285604311008 and parameters: {'C': 0.3385493850800785, 'kernel': 'linear', 'degree': 5, 'gamma': 0.7045974618442189, 'coef0': 2.507186384084818, 'class_weight': None}. Best is trial 11 with value: 0.6691301000769823.\n",
      "[I 2025-01-03 14:02:49,656] Trial 13 finished with value: 0.4999230177059276 and parameters: {'C': 0.2672719593574395, 'kernel': 'sigmoid', 'degree': 4, 'gamma': 0.7132735711280597, 'coef0': 2.194898725360079, 'class_weight': None}. Best is trial 11 with value: 0.6691301000769823.\n",
      "[I 2025-01-03 14:02:51,846] Trial 14 finished with value: 0.6669745958429563 and parameters: {'C': 4.160286320600283, 'kernel': 'linear', 'degree': 5, 'gamma': 0.6919184745003131, 'coef0': 2.4084216227847453, 'class_weight': None}. Best is trial 11 with value: 0.6691301000769823.\n",
      "[I 2025-01-03 14:02:53,274] Trial 15 finished with value: 0.6657428791377984 and parameters: {'C': 0.048217611556292866, 'kernel': 'linear', 'degree': 4, 'gamma': 0.6960867971926542, 'coef0': 1.0719604673205585, 'class_weight': None}. Best is trial 11 with value: 0.6691301000769823.\n",
      "[I 2025-01-03 14:02:55,410] Trial 16 finished with value: 0.6674364896073903 and parameters: {'C': 3.4040539956334914, 'kernel': 'linear', 'degree': 5, 'gamma': 0.8273802354833122, 'coef0': 3.2891921950048437, 'class_weight': None}. Best is trial 11 with value: 0.6691301000769823.\n",
      "[I 2025-01-03 14:03:30,667] Trial 17 finished with value: 0.5779830638953041 and parameters: {'C': 5.651490146986192, 'kernel': 'poly', 'degree': 4, 'gamma': 0.9520499764006418, 'coef0': 3.490620595062768, 'class_weight': None}. Best is trial 11 with value: 0.6691301000769823.\n",
      "[I 2025-01-03 14:03:32,543] Trial 18 finished with value: 0.4999230177059276 and parameters: {'C': 8.269625064951938, 'kernel': 'sigmoid', 'degree': 5, 'gamma': 0.8368888483522634, 'coef0': 6.372552989182321, 'class_weight': None}. Best is trial 11 with value: 0.6691301000769823.\n",
      "[I 2025-01-03 14:03:34,613] Trial 19 finished with value: 0.6669745958429563 and parameters: {'C': 3.8027240879352058, 'kernel': 'linear', 'degree': 4, 'gamma': 0.989768077516938, 'coef0': 1.6603431921530443, 'class_weight': None}. Best is trial 11 with value: 0.6691301000769823.\n",
      "[I 2025-01-03 14:03:36,578] Trial 20 finished with value: 0.6677444187836798 and parameters: {'C': 3.2414869087764897, 'kernel': 'linear', 'degree': 3, 'gamma': 0.7813508655673099, 'coef0': 0.20780025757423193, 'class_weight': None}. Best is trial 11 with value: 0.6691301000769823.\n",
      "[I 2025-01-03 14:03:38,513] Trial 21 finished with value: 0.6672825250192455 and parameters: {'C': 3.0994719338813006, 'kernel': 'linear', 'degree': 3, 'gamma': 0.7856424994666035, 'coef0': 0.04480012351998042, 'class_weight': None}. Best is trial 11 with value: 0.6691301000769823.\n",
      "[I 2025-01-03 14:03:40,164] Trial 22 finished with value: 0.6678983833718244 and parameters: {'C': 1.4000857418031816, 'kernel': 'linear', 'degree': 3, 'gamma': 0.6109135396989861, 'coef0': 3.2466185828241545, 'class_weight': None}. Best is trial 11 with value: 0.6691301000769823.\n",
      "[I 2025-01-03 14:03:41,964] Trial 23 finished with value: 0.668206312548114 and parameters: {'C': 1.6546600119965165, 'kernel': 'linear', 'degree': 3, 'gamma': 0.5930736352755681, 'coef0': 1.2082315624328477, 'class_weight': None}. Best is trial 11 with value: 0.6691301000769823.\n",
      "[I 2025-01-03 14:03:43,689] Trial 24 finished with value: 0.6680523479599692 and parameters: {'C': 1.5562959804800447, 'kernel': 'linear', 'degree': 3, 'gamma': 0.634532871508814, 'coef0': 1.6665789842173915, 'class_weight': None}. Best is trial 11 with value: 0.6691301000769823.\n",
      "[I 2025-01-03 14:03:45,489] Trial 25 finished with value: 0.6683602771362588 and parameters: {'C': 1.8713601042096208, 'kernel': 'linear', 'degree': 3, 'gamma': 0.6084367794628415, 'coef0': 1.399385772366573, 'class_weight': None}. Best is trial 11 with value: 0.6691301000769823.\n",
      "[I 2025-01-03 14:03:49,314] Trial 26 finished with value: 0.6289453425712086 and parameters: {'C': 1.901214240203993, 'kernel': 'poly', 'degree': 2, 'gamma': 0.4165212306174542, 'coef0': 1.052061206553243, 'class_weight': None}. Best is trial 11 with value: 0.6691301000769823.\n",
      "[I 2025-01-03 14:03:51,762] Trial 27 finished with value: 0.6672825250192456 and parameters: {'C': 4.875293900268725, 'kernel': 'rbf', 'degree': 3, 'gamma': 0.0005877576732267187, 'coef0': 1.8108256832280758, 'class_weight': None}. Best is trial 11 with value: 0.6691301000769823.\n",
      "[I 2025-01-03 14:03:54,538] Trial 28 finished with value: 0.4999230177059276 and parameters: {'C': 0.8213881901596115, 'kernel': 'sigmoid', 'degree': 4, 'gamma': 0.3577974218458968, 'coef0': 0.6055749520563292, 'class_weight': None}. Best is trial 11 with value: 0.6691301000769823.\n",
      "[I 2025-01-03 14:03:57,043] Trial 29 finished with value: 0.6638953040800615 and parameters: {'C': 7.52317179326352, 'kernel': 'linear', 'degree': 2, 'gamma': 0.6044384847508993, 'coef0': 4.475970557544835, 'class_weight': None}. Best is trial 11 with value: 0.6691301000769823.\n",
      "[I 2025-01-03 14:03:58,848] Trial 30 finished with value: 0.6680523479599693 and parameters: {'C': 2.0925740908263784, 'kernel': 'linear', 'degree': 3, 'gamma': 0.48455616180545596, 'coef0': 5.609497917101186, 'class_weight': None}. Best is trial 11 with value: 0.6691301000769823.\n",
      "[I 2025-01-03 14:04:00,664] Trial 31 finished with value: 0.6677444187836798 and parameters: {'C': 2.207211478553392, 'kernel': 'linear', 'degree': 3, 'gamma': 0.4798689752543037, 'coef0': 5.668559088670175, 'class_weight': None}. Best is trial 11 with value: 0.6691301000769823.\n",
      "[I 2025-01-03 14:04:02,225] Trial 32 finished with value: 0.6677444187836798 and parameters: {'C': 0.8662774300048016, 'kernel': 'linear', 'degree': 3, 'gamma': 0.5669074214569424, 'coef0': 7.302874362397885, 'class_weight': None}. Best is trial 11 with value: 0.6691301000769823.\n",
      "[I 2025-01-03 14:04:03,980] Trial 33 finished with value: 0.6677444187836796 and parameters: {'C': 1.9407737300643417, 'kernel': 'linear', 'degree': 2, 'gamma': 0.6522665486127843, 'coef0': 9.59740657786338, 'class_weight': None}. Best is trial 11 with value: 0.6691301000769823.\n",
      "[I 2025-01-03 14:04:05,871] Trial 34 finished with value: 0.665896843725943 and parameters: {'C': 2.8836122966293796, 'kernel': 'linear', 'degree': 4, 'gamma': 0.5304141043028603, 'coef0': 2.6917526986981026, 'class_weight': 'balanced'}. Best is trial 11 with value: 0.6691301000769823.\n",
      "[I 2025-01-03 14:04:07,370] Trial 35 finished with value: 0.6672825250192455 and parameters: {'C': 0.9148200968980439, 'kernel': 'linear', 'degree': 3, 'gamma': 0.3159759411517892, 'coef0': 3.7916395932748648, 'class_weight': None}. Best is trial 11 with value: 0.6691301000769823.\n",
      "[I 2025-01-03 14:04:09,185] Trial 36 finished with value: 0.6678983833718245 and parameters: {'C': 2.0044599938859804, 'kernel': 'linear', 'degree': 3, 'gamma': 0.45746069728689104, 'coef0': 5.024943105914255, 'class_weight': 'balanced'}. Best is trial 11 with value: 0.6691301000769823.\n",
      "[I 2025-01-03 14:04:11,601] Trial 37 finished with value: 0.6655889145496535 and parameters: {'C': 6.290119717540439, 'kernel': 'linear', 'degree': 4, 'gamma': 0.5830703209379698, 'coef0': 1.9516677258843163, 'class_weight': None}. Best is trial 11 with value: 0.6691301000769823.\n",
      "[I 2025-01-03 14:04:14,015] Trial 38 finished with value: 0.650192455735181 and parameters: {'C': 0.7966264553229047, 'kernel': 'rbf', 'degree': 2, 'gamma': 0.764650042641161, 'coef0': 5.524875758449766, 'class_weight': None}. Best is trial 11 with value: 0.6691301000769823.\n",
      "[I 2025-01-03 14:06:05,317] Trial 39 finished with value: 0.558891454965358 and parameters: {'C': 2.6896541593588794, 'kernel': 'poly', 'degree': 3, 'gamma': 0.5291478754669671, 'coef0': 4.4841620665180955, 'class_weight': 'balanced'}. Best is trial 11 with value: 0.6691301000769823.\n",
      "[I 2025-01-03 14:06:07,119] Trial 40 finished with value: 0.6674364896073903 and parameters: {'C': 1.2766623673627207, 'kernel': 'linear', 'degree': 3, 'gamma': 0.2578967274056457, 'coef0': 6.82950858044874, 'class_weight': None}. Best is trial 11 with value: 0.6691301000769823.\n",
      "[I 2025-01-03 14:06:08,936] Trial 41 finished with value: 0.6683602771362588 and parameters: {'C': 1.6030553431348942, 'kernel': 'linear', 'degree': 3, 'gamma': 0.641989423424893, 'coef0': 0.7792705618970516, 'class_weight': None}. Best is trial 11 with value: 0.6691301000769823.\n",
      "[I 2025-01-03 14:06:10,646] Trial 42 finished with value: 0.6680523479599692 and parameters: {'C': 1.7512843720660642, 'kernel': 'linear', 'degree': 3, 'gamma': 0.6499809142413443, 'coef0': 0.617039492913273, 'class_weight': None}. Best is trial 11 with value: 0.6691301000769823.\n",
      "[I 2025-01-03 14:06:12,446] Trial 43 finished with value: 0.6678983833718244 and parameters: {'C': 2.3855334841400944, 'kernel': 'linear', 'degree': 3, 'gamma': 0.428293200582141, 'coef0': 1.2329486322326755, 'class_weight': None}. Best is trial 11 with value: 0.6691301000769823.\n",
      "[I 2025-01-03 14:06:13,871] Trial 44 finished with value: 0.6668206312548114 and parameters: {'C': 0.5089931824770089, 'kernel': 'linear', 'degree': 4, 'gamma': 0.5222596866393249, 'coef0': 2.8155443415096038, 'class_weight': None}. Best is trial 11 with value: 0.6691301000769823.\n",
      "[I 2025-01-03 14:06:16,272] Trial 45 finished with value: 0.6438799076212471 and parameters: {'C': 1.161877033555439, 'kernel': 'rbf', 'degree': 3, 'gamma': 0.5715010251382542, 'coef0': 1.4256833889925309, 'class_weight': 'balanced'}. Best is trial 11 with value: 0.6691301000769823.\n",
      "[I 2025-01-03 14:06:18,299] Trial 46 finished with value: 0.6672825250192457 and parameters: {'C': 3.719004855598079, 'kernel': 'linear', 'degree': 2, 'gamma': 0.7224983914954594, 'coef0': 8.057616854056949, 'class_weight': None}. Best is trial 11 with value: 0.6691301000769823.\n",
      "[I 2025-01-03 14:06:21,059] Trial 47 finished with value: 0.4999230177059276 and parameters: {'C': 0.020067875681260894, 'kernel': 'sigmoid', 'degree': 3, 'gamma': 0.6630535612304016, 'coef0': 0.5725568799744267, 'class_weight': None}. Best is trial 11 with value: 0.6691301000769823.\n",
      "[I 2025-01-03 14:06:22,529] Trial 48 finished with value: 0.6668206312548113 and parameters: {'C': 0.5380871212577487, 'kernel': 'linear', 'degree': 4, 'gamma': 0.3797968613572588, 'coef0': 2.1071430703787217, 'class_weight': None}. Best is trial 11 with value: 0.6691301000769823.\n",
      "[I 2025-01-03 14:07:39,253] Trial 49 finished with value: 0.56905311778291 and parameters: {'C': 2.727622472283105, 'kernel': 'poly', 'degree': 3, 'gamma': 0.7460398540936336, 'coef0': 0.8113467362669571, 'class_weight': None}. Best is trial 11 with value: 0.6691301000769823.\n"
     ]
    },
    {
     "data": {
      "text/plain": [
       "({'C': 0.21950805677161292,\n",
       "  'kernel': 'linear',\n",
       "  'degree': 4,\n",
       "  'gamma': 0.671045772731431,\n",
       "  'coef0': 2.7929809033044726,\n",
       "  'class_weight': None},\n",
       " 0.6691301000769823)"
      ]
     },
     "execution_count": 125,
     "metadata": {},
     "output_type": "execute_result"
    }
   ],
   "source": [
    "params = {\n",
    "    \"C\": {\"type\": \"float\", \"min\": 0.01, \"max\": 10.0},\n",
    "    \"kernel\": {\"type\": \"categorical\", \"values\": [\"linear\", \"rbf\", \"poly\", \"sigmoid\"]},\n",
    "    \"degree\": {\"type\": \"int\", \"min\": 2, \"max\": 5},\n",
    "    \"gamma\": {\"type\": \"float\", \"min\": 0.0001, \"max\": 1.0},\n",
    "    \"coef0\": {\"type\": \"float\", \"min\": 0.0, \"max\": 10.0},\n",
    "    \"class_weight\": {\"type\": \"categorical\", \"values\": [\"balanced\", None]}\n",
    "}\n",
    "\n",
    "svc_tuner = HyperparameterTuner(SVC, params, train_x, train_y)\n",
    "svc_tuner.optimize(100)\n",
    "svc_tuner.best_params(), svc_tuner.best_score()"
   ]
  },
  {
   "cell_type": "code",
   "execution_count": 126,
   "metadata": {},
   "outputs": [
    {
     "name": "stdout",
     "output_type": "stream",
     "text": [
      "              precision    recall  f1-score   support\n",
      "\n",
      "           0       0.70      0.63      0.67      1060\n",
      "           1       0.66      0.73      0.70      1054\n",
      "\n",
      "    accuracy                           0.68      2114\n",
      "   macro avg       0.68      0.68      0.68      2114\n",
      "weighted avg       0.68      0.68      0.68      2114\n",
      "\n"
     ]
    }
   ],
   "source": [
    "params = {\n",
    "    \"C\": 0.21950805677161292,\n",
    "    \"kernel\": \"linear\",\n",
    "    \"degree\": 4,\n",
    "    \"gamma\": 0.671045772731431,\n",
    "    \"coef0\": 2.7929809033044726,\n",
    "    \"class_weight\": None,\n",
    "}\n",
    "\n",
    "svc_final = SVC(**params)\n",
    "svc_final.fit(train_x, train_y)\n",
    "print(classification_report(valid_y, svc_final.predict(valid_x)))"
   ]
  },
  {
   "cell_type": "markdown",
   "metadata": {},
   "source": [
    "- XGBClassifier"
   ]
  },
  {
   "cell_type": "code",
   "execution_count": 127,
   "metadata": {},
   "outputs": [
    {
     "name": "stderr",
     "output_type": "stream",
     "text": [
      "[I 2025-01-03 14:24:05,297] A new study created in memory with name: no-name-c7343ce9-9d60-432d-bf74-d6b24b289c65\n",
      "[I 2025-01-03 14:24:09,827] Trial 0 finished with value: 0.6722093918398769 and parameters: {'n_estimators': 864, 'learning_rate': 0.27269470276804514, 'max_depth': 7, 'min_child_weight': 5, 'gamma': 0.18642157516717917, 'subsample': 0.7376494291115261, 'colsample_bytree': 0.5493868828747395, 'reg_alpha': 8.39945750969194, 'reg_lambda': 7.425763781716733}. Best is trial 0 with value: 0.6722093918398769.\n",
      "[I 2025-01-03 14:24:13,302] Trial 1 finished with value: 0.6706697459584297 and parameters: {'n_estimators': 761, 'learning_rate': 0.1401981779848854, 'max_depth': 3, 'min_child_weight': 7, 'gamma': 0.8460686867542303, 'subsample': 0.7451601048902019, 'colsample_bytree': 0.9113247709735712, 'reg_alpha': 4.226467577293892, 'reg_lambda': 8.972982128196888}. Best is trial 0 with value: 0.6722093918398769.\n",
      "[I 2025-01-03 14:24:17,218] Trial 2 finished with value: 0.6859122401847575 and parameters: {'n_estimators': 838, 'learning_rate': 0.12607295883884065, 'max_depth': 8, 'min_child_weight': 6, 'gamma': 0.31822152575214846, 'subsample': 0.788880272926195, 'colsample_bytree': 0.8057055423140524, 'reg_alpha': 7.041638039236352, 'reg_lambda': 3.6189891218768633}. Best is trial 2 with value: 0.6859122401847575.\n",
      "[I 2025-01-03 14:24:19,852] Trial 3 finished with value: 0.669284064665127 and parameters: {'n_estimators': 447, 'learning_rate': 0.269929466116384, 'max_depth': 12, 'min_child_weight': 6, 'gamma': 0.2795547878962884, 'subsample': 0.6201720776677738, 'colsample_bytree': 0.8195577925954483, 'reg_alpha': 3.5276959571589273, 'reg_lambda': 0.1792745112382397}. Best is trial 2 with value: 0.6859122401847575.\n",
      "[I 2025-01-03 14:24:21,605] Trial 4 finished with value: 0.6759045419553502 and parameters: {'n_estimators': 400, 'learning_rate': 0.27866869969235153, 'max_depth': 10, 'min_child_weight': 2, 'gamma': 0.9540072277556728, 'subsample': 0.6639733736721098, 'colsample_bytree': 0.6303839935385043, 'reg_alpha': 4.953675960251756, 'reg_lambda': 0.4732795963175334}. Best is trial 2 with value: 0.6859122401847575.\n",
      "[I 2025-01-03 14:24:39,936] Trial 5 finished with value: 0.7160892994611239 and parameters: {'n_estimators': 812, 'learning_rate': 0.01469468906762127, 'max_depth': 10, 'min_child_weight': 4, 'gamma': 0.20792677970748075, 'subsample': 0.978147107998426, 'colsample_bytree': 0.8953367470554292, 'reg_alpha': 0.22480243854729956, 'reg_lambda': 3.7108522773680535}. Best is trial 5 with value: 0.7160892994611239.\n",
      "[I 2025-01-03 14:24:45,035] Trial 6 finished with value: 0.6866820631254811 and parameters: {'n_estimators': 862, 'learning_rate': 0.06192400064665291, 'max_depth': 12, 'min_child_weight': 4, 'gamma': 0.38374940317629413, 'subsample': 0.6273768611395066, 'colsample_bytree': 0.6172295366080381, 'reg_alpha': 7.102282389578436, 'reg_lambda': 2.8134853957838164}. Best is trial 5 with value: 0.7160892994611239.\n",
      "[I 2025-01-03 14:24:48,237] Trial 7 finished with value: 0.6722093918398768 and parameters: {'n_estimators': 428, 'learning_rate': 0.19542794971022676, 'max_depth': 9, 'min_child_weight': 1, 'gamma': 0.01468020146346749, 'subsample': 0.6406929271566995, 'colsample_bytree': 0.7202172301360913, 'reg_alpha': 8.992941059382739, 'reg_lambda': 4.982377301658948}. Best is trial 5 with value: 0.7160892994611239.\n",
      "[I 2025-01-03 14:24:49,948] Trial 8 finished with value: 0.6735950731331793 and parameters: {'n_estimators': 514, 'learning_rate': 0.24715509545723496, 'max_depth': 9, 'min_child_weight': 7, 'gamma': 0.8960238753670776, 'subsample': 0.6556848334006766, 'colsample_bytree': 0.693864138250506, 'reg_alpha': 4.460366388886457, 'reg_lambda': 3.4388368193830203}. Best is trial 5 with value: 0.7160892994611239.\n",
      "[I 2025-01-03 14:24:52,490] Trial 9 finished with value: 0.6766743648960738 and parameters: {'n_estimators': 640, 'learning_rate': 0.20617590784895123, 'max_depth': 5, 'min_child_weight': 5, 'gamma': 0.2528765506919707, 'subsample': 0.8516043138620334, 'colsample_bytree': 0.8522583937088641, 'reg_alpha': 2.048512896886715, 'reg_lambda': 4.75416872417212}. Best is trial 5 with value: 0.7160892994611239.\n",
      "[I 2025-01-03 14:24:54,054] Trial 10 finished with value: 0.7090069284064666 and parameters: {'n_estimators': 112, 'learning_rate': 0.019608776997210524, 'max_depth': 6, 'min_child_weight': 3, 'gamma': 0.7203466512953773, 'subsample': 0.992824271141023, 'colsample_bytree': 0.9939085688795347, 'reg_alpha': 0.13869941416526288, 'reg_lambda': 7.53615828364571}. Best is trial 5 with value: 0.7160892994611239.\n",
      "[I 2025-01-03 14:24:55,527] Trial 11 finished with value: 0.6994611239414935 and parameters: {'n_estimators': 105, 'learning_rate': 0.012597780278761631, 'max_depth': 6, 'min_child_weight': 3, 'gamma': 0.6330197265435256, 'subsample': 0.9947296850109667, 'colsample_bytree': 0.9951556237906259, 'reg_alpha': 0.23151322932113524, 'reg_lambda': 6.584639368366185}. Best is trial 5 with value: 0.7160892994611239.\n",
      "[I 2025-01-03 14:24:56,283] Trial 12 finished with value: 0.6997690531177828 and parameters: {'n_estimators': 104, 'learning_rate': 0.017283461810026046, 'max_depth': 4, 'min_child_weight': 3, 'gamma': 0.6168408366124076, 'subsample': 0.9967760730723111, 'colsample_bytree': 0.9736474178808278, 'reg_alpha': 0.11304382281950359, 'reg_lambda': 9.739599336560293}. Best is trial 5 with value: 0.7160892994611239.\n",
      "[I 2025-01-03 14:25:00,503] Trial 13 finished with value: 0.7080831408775982 and parameters: {'n_estimators': 290, 'learning_rate': 0.08416801507586497, 'max_depth': 10, 'min_child_weight': 3, 'gamma': 0.712707067049739, 'subsample': 0.906303042913307, 'colsample_bytree': 0.9133478189906549, 'reg_alpha': 1.8462075512790221, 'reg_lambda': 6.924870043689494}. Best is trial 5 with value: 0.7160892994611239.\n",
      "[I 2025-01-03 14:25:05,772] Trial 14 finished with value: 0.6759045419553503 and parameters: {'n_estimators': 668, 'learning_rate': 0.0668077511942022, 'max_depth': 6, 'min_child_weight': 4, 'gamma': 0.4687204011705217, 'subsample': 0.5148522029442455, 'colsample_bytree': 0.9088268531647103, 'reg_alpha': 1.8911468845921726, 'reg_lambda': 1.8436071711556}. Best is trial 5 with value: 0.7160892994611239.\n",
      "[I 2025-01-03 14:25:26,625] Trial 15 finished with value: 0.7068514241724404 and parameters: {'n_estimators': 987, 'learning_rate': 0.04388730417760856, 'max_depth': 11, 'min_child_weight': 1, 'gamma': 0.09149104787965832, 'subsample': 0.9184897659926898, 'colsample_bytree': 0.9591389531083807, 'reg_alpha': 1.0856844565706028, 'reg_lambda': 8.145356896924325}. Best is trial 5 with value: 0.7160892994611239.\n",
      "[I 2025-01-03 14:25:28,797] Trial 16 finished with value: 0.7097767513471902 and parameters: {'n_estimators': 256, 'learning_rate': 0.09594803012279407, 'max_depth': 7, 'min_child_weight': 2, 'gamma': 0.7469744325580372, 'subsample': 0.9123131489352976, 'colsample_bytree': 0.8724731925661546, 'reg_alpha': 2.855487818134525, 'reg_lambda': 6.11324304662771}. Best is trial 5 with value: 0.7160892994611239.\n",
      "[I 2025-01-03 14:25:31,325] Trial 17 finished with value: 0.7016166281755196 and parameters: {'n_estimators': 264, 'learning_rate': 0.10790991087351534, 'max_depth': 8, 'min_child_weight': 2, 'gamma': 0.5194073775012785, 'subsample': 0.9146060493779206, 'colsample_bytree': 0.7710935031698924, 'reg_alpha': 3.0884750559448135, 'reg_lambda': 5.676670555393656}. Best is trial 5 with value: 0.7160892994611239.\n",
      "[I 2025-01-03 14:25:34,112] Trial 18 finished with value: 0.697459584295612 and parameters: {'n_estimators': 609, 'learning_rate': 0.1653458791458735, 'max_depth': 10, 'min_child_weight': 2, 'gamma': 0.45819240732449923, 'subsample': 0.8482074908518331, 'colsample_bytree': 0.8534198511757485, 'reg_alpha': 6.102012305965151, 'reg_lambda': 5.8148046779027}. Best is trial 5 with value: 0.7160892994611239.\n",
      "[I 2025-01-03 14:25:37,332] Trial 19 finished with value: 0.6945342571208621 and parameters: {'n_estimators': 995, 'learning_rate': 0.10952651824016, 'max_depth': 7, 'min_child_weight': 5, 'gamma': 0.7862846788143153, 'subsample': 0.8520339563417203, 'colsample_bytree': 0.8697322551031723, 'reg_alpha': 2.9491993301262482, 'reg_lambda': 4.125267401469933}. Best is trial 5 with value: 0.7160892994611239.\n",
      "[I 2025-01-03 14:25:41,449] Trial 20 finished with value: 0.7045419553502695 and parameters: {'n_estimators': 274, 'learning_rate': 0.09227455844238514, 'max_depth': 9, 'min_child_weight': 4, 'gamma': 0.15699375309118002, 'subsample': 0.9397600048905155, 'colsample_bytree': 0.7938374870766663, 'reg_alpha': 1.1414634844692355, 'reg_lambda': 2.148095754170382}. Best is trial 5 with value: 0.7160892994611239.\n",
      "[I 2025-01-03 14:25:43,626] Trial 21 finished with value: 0.7125481139337952 and parameters: {'n_estimators': 203, 'learning_rate': 0.041824595934481276, 'max_depth': 6, 'min_child_weight': 3, 'gamma': 0.701698744007949, 'subsample': 0.9606176949060179, 'colsample_bytree': 0.9437073851909654, 'reg_alpha': 0.04641284024513859, 'reg_lambda': 8.013952352117048}. Best is trial 5 with value: 0.7160892994611239.\n",
      "[I 2025-01-03 14:25:45,099] Trial 22 finished with value: 0.7103926096997691 and parameters: {'n_estimators': 190, 'learning_rate': 0.043438426320359866, 'max_depth': 5, 'min_child_weight': 2, 'gamma': 0.5910722012914795, 'subsample': 0.9523773821052932, 'colsample_bytree': 0.9281369758064116, 'reg_alpha': 1.0862919148173136, 'reg_lambda': 8.488835953618326}. Best is trial 5 with value: 0.7160892994611239.\n",
      "[I 2025-01-03 14:25:46,094] Trial 23 finished with value: 0.7039260969976906 and parameters: {'n_estimators': 195, 'learning_rate': 0.044857763504963795, 'max_depth': 4, 'min_child_weight': 4, 'gamma': 0.5834351353874678, 'subsample': 0.9641344874137963, 'colsample_bytree': 0.9397961522984316, 'reg_alpha': 1.0287994453365263, 'reg_lambda': 8.76368399938319}. Best is trial 5 with value: 0.7160892994611239.\n",
      "[I 2025-01-03 14:25:48,625] Trial 24 finished with value: 0.702540415704388 and parameters: {'n_estimators': 347, 'learning_rate': 0.04351610439266167, 'max_depth': 5, 'min_child_weight': 1, 'gamma': 0.3853553160008653, 'subsample': 0.8769555465181655, 'colsample_bytree': 0.9039958953110272, 'reg_alpha': 0.9953784979188451, 'reg_lambda': 9.130617705072181}. Best is trial 5 with value: 0.7160892994611239.\n",
      "[I 2025-01-03 14:25:50,176] Trial 25 finished with value: 0.697459584295612 and parameters: {'n_estimators': 201, 'learning_rate': 0.06765264595385284, 'max_depth': 5, 'min_child_weight': 3, 'gamma': 0.5390242601875348, 'subsample': 0.7935605929165471, 'colsample_bytree': 0.9445224337219946, 'reg_alpha': 2.1563426888514035, 'reg_lambda': 9.908017327967835}. Best is trial 5 with value: 0.7160892994611239.\n",
      "[I 2025-01-03 14:25:51,576] Trial 26 finished with value: 0.6989992301770593 and parameters: {'n_estimators': 499, 'learning_rate': 0.03325061852555892, 'max_depth': 3, 'min_child_weight': 2, 'gamma': 0.6565410017899116, 'subsample': 0.953112741676683, 'colsample_bytree': 0.7459851115138328, 'reg_alpha': 0.9179160853565858, 'reg_lambda': 8.175383204874535}. Best is trial 5 with value: 0.7160892994611239.\n",
      "[I 2025-01-03 14:25:54,417] Trial 27 finished with value: 0.682217090069284 and parameters: {'n_estimators': 737, 'learning_rate': 0.07269902262445598, 'max_depth': 4, 'min_child_weight': 4, 'gamma': 0.8179969154037106, 'subsample': 0.8094086617240175, 'colsample_bytree': 0.9370549753840951, 'reg_alpha': 0.11141189948819352, 'reg_lambda': 8.044036382071821}. Best is trial 5 with value: 0.7160892994611239.\n",
      "[I 2025-01-03 14:25:57,730] Trial 28 finished with value: 0.71270207852194 and parameters: {'n_estimators': 352, 'learning_rate': 0.0349073192186476, 'max_depth': 6, 'min_child_weight': 3, 'gamma': 0.39789070119172576, 'subsample': 0.956825448240255, 'colsample_bytree': 0.8443721453602476, 'reg_alpha': 1.6490281693167248, 'reg_lambda': 4.4688659288174755}. Best is trial 5 with value: 0.7160892994611239.\n",
      "[I 2025-01-03 14:26:01,919] Trial 29 finished with value: 0.7030023094688221 and parameters: {'n_estimators': 335, 'learning_rate': 0.013416201953052206, 'max_depth': 7, 'min_child_weight': 5, 'gamma': 0.19599194554137625, 'subsample': 0.6965523030841447, 'colsample_bytree': 0.8429887371740139, 'reg_alpha': 3.789919712089815, 'reg_lambda': 4.425017952433414}. Best is trial 5 with value: 0.7160892994611239.\n",
      "[I 2025-01-03 14:26:04,550] Trial 30 finished with value: 0.6979214780600461 and parameters: {'n_estimators': 564, 'learning_rate': 0.16553711195951176, 'max_depth': 8, 'min_child_weight': 3, 'gamma': 0.4117539481210909, 'subsample': 0.8791542720138228, 'colsample_bytree': 0.8876508642701488, 'reg_alpha': 2.4440534855070504, 'reg_lambda': 1.7625600918332403}. Best is trial 5 with value: 0.7160892994611239.\n",
      "[I 2025-01-03 14:26:06,502] Trial 31 finished with value: 0.7100846805234796 and parameters: {'n_estimators': 187, 'learning_rate': 0.03582358902288256, 'max_depth': 6, 'min_child_weight': 3, 'gamma': 0.5621715443150496, 'subsample': 0.9588592255191508, 'colsample_bytree': 0.8230733986382501, 'reg_alpha': 1.5544540672504663, 'reg_lambda': 5.455186082074434}. Best is trial 5 with value: 0.7160892994611239.\n",
      "[I 2025-01-03 14:26:07,839] Trial 32 finished with value: 0.7068514241724403 and parameters: {'n_estimators': 176, 'learning_rate': 0.05432485087658247, 'max_depth': 5, 'min_child_weight': 2, 'gamma': 0.3103557926852932, 'subsample': 0.9633219590675395, 'colsample_bytree': 0.9258878709450072, 'reg_alpha': 0.6078301656056705, 'reg_lambda': 6.95708934976885}. Best is trial 5 with value: 0.7160892994611239.\n",
      "[I 2025-01-03 14:26:11,079] Trial 33 finished with value: 0.7073133179368746 and parameters: {'n_estimators': 360, 'learning_rate': 0.028984329484920166, 'max_depth': 6, 'min_child_weight': 4, 'gamma': 0.6808964925631241, 'subsample': 0.8863200148428527, 'colsample_bytree': 0.8870129943839098, 'reg_alpha': 1.5733679802704468, 'reg_lambda': 3.755811914586521}. Best is trial 5 with value: 0.7160892994611239.\n",
      "[I 2025-01-03 14:26:13,124] Trial 34 finished with value: 0.6886836027713626 and parameters: {'n_estimators': 805, 'learning_rate': 0.13669531270942933, 'max_depth': 3, 'min_child_weight': 3, 'gamma': 0.19335451521438138, 'subsample': 0.9470018179455442, 'colsample_bytree': 0.9648554033293989, 'reg_alpha': 6.06084792256956, 'reg_lambda': 2.640206584221051}. Best is trial 5 with value: 0.7160892994611239.\n",
      "[I 2025-01-03 14:26:17,604] Trial 35 finished with value: 0.6846805234795997 and parameters: {'n_estimators': 936, 'learning_rate': 0.07957664968181573, 'max_depth': 5, 'min_child_weight': 6, 'gamma': 0.09992326894300353, 'subsample': 0.8231694144818078, 'colsample_bytree': 0.7791090720690835, 'reg_alpha': 0.5933335764579641, 'reg_lambda': 3.1328764486928486}. Best is trial 5 with value: 0.7160892994611239.\n",
      "[I 2025-01-03 14:26:22,431] Trial 36 finished with value: 0.7026943802925327 and parameters: {'n_estimators': 233, 'learning_rate': 0.05406655489578381, 'max_depth': 8, 'min_child_weight': 2, 'gamma': 0.43424310466377175, 'subsample': 0.7491932866843122, 'colsample_bytree': 0.8207623968230401, 'reg_alpha': 1.4181507956154187, 'reg_lambda': 1.2443377567527523}. Best is trial 5 with value: 0.7160892994611239.\n",
      "[I 2025-01-03 14:26:25,727] Trial 37 finished with value: 0.7051578137028484 and parameters: {'n_estimators': 719, 'learning_rate': 0.11509340312670273, 'max_depth': 11, 'min_child_weight': 4, 'gamma': 0.35423604065888525, 'subsample': 0.9793696396401896, 'colsample_bytree': 0.5698440478042642, 'reg_alpha': 2.5590491359277667, 'reg_lambda': 5.210619974325543}. Best is trial 5 with value: 0.7160892994611239.\n",
      "[I 2025-01-03 14:26:29,379] Trial 38 finished with value: 0.6866820631254811 and parameters: {'n_estimators': 448, 'learning_rate': 0.03157827031442796, 'max_depth': 7, 'min_child_weight': 1, 'gamma': 0.8778881428799372, 'subsample': 0.7121287656886364, 'colsample_bytree': 0.8989145364886687, 'reg_alpha': 9.771227927969349, 'reg_lambda': 8.995060499527312}. Best is trial 5 with value: 0.7160892994611239.\n",
      "[I 2025-01-03 14:26:30,099] Trial 39 finished with value: 0.6989992301770593 and parameters: {'n_estimators': 147, 'learning_rate': 0.06019378617895585, 'max_depth': 4, 'min_child_weight': 5, 'gamma': 0.9859584948380541, 'subsample': 0.9315400315775286, 'colsample_bytree': 0.6867131991457917, 'reg_alpha': 3.68780418853796, 'reg_lambda': 4.232958034231509}. Best is trial 5 with value: 0.7160892994611239.\n",
      "[I 2025-01-03 14:26:32,990] Trial 40 finished with value: 0.6723633564280215 and parameters: {'n_estimators': 305, 'learning_rate': 0.2309518040671834, 'max_depth': 9, 'min_child_weight': 2, 'gamma': 0.4858084985339475, 'subsample': 0.5893737750892927, 'colsample_bytree': 0.8454648000623994, 'reg_alpha': 0.4862727793923311, 'reg_lambda': 7.496967602012447}. Best is trial 5 with value: 0.7160892994611239.\n",
      "[I 2025-01-03 14:26:35,136] Trial 41 finished with value: 0.710392609699769 and parameters: {'n_estimators': 220, 'learning_rate': 0.033675275723869, 'max_depth': 6, 'min_child_weight': 3, 'gamma': 0.5801107874639515, 'subsample': 0.9690532143151532, 'colsample_bytree': 0.8202224963041422, 'reg_alpha': 0.6783760359713815, 'reg_lambda': 5.4307489807586755}. Best is trial 5 with value: 0.7160892994611239.\n",
      "[I 2025-01-03 14:26:38,705] Trial 42 finished with value: 0.709314857582756 and parameters: {'n_estimators': 394, 'learning_rate': 0.027114858673402097, 'max_depth': 6, 'min_child_weight': 3, 'gamma': 0.5770783734324302, 'subsample': 0.9682373123266321, 'colsample_bytree': 0.811362752992616, 'reg_alpha': 0.6214746479499236, 'reg_lambda': 6.300850723662035}. Best is trial 5 with value: 0.7160892994611239.\n",
      "[I 2025-01-03 14:26:39,425] Trial 43 finished with value: 0.6922247882986914 and parameters: {'n_estimators': 160, 'learning_rate': 0.29862039047739186, 'max_depth': 6, 'min_child_weight': 4, 'gamma': 0.6207137587662888, 'subsample': 0.9345327592202405, 'colsample_bytree': 0.8757993258349416, 'reg_alpha': 8.206551765211596, 'reg_lambda': 4.809636063730212}. Best is trial 5 with value: 0.7160892994611239.\n",
      "[I 2025-01-03 14:26:41,716] Trial 44 finished with value: 0.7188606620477291 and parameters: {'n_estimators': 320, 'learning_rate': 0.010763101596170385, 'max_depth': 5, 'min_child_weight': 3, 'gamma': 0.23681972583222627, 'subsample': 0.8952122711164143, 'colsample_bytree': 0.9720894849351379, 'reg_alpha': 0.08700173219794452, 'reg_lambda': 3.713620299621038}. Best is trial 44 with value: 0.7188606620477291.\n",
      "[I 2025-01-03 14:26:44,882] Trial 45 finished with value: 0.7117782909930715 and parameters: {'n_estimators': 484, 'learning_rate': 0.017467256050425893, 'max_depth': 5, 'min_child_weight': 3, 'gamma': 0.2862235635548642, 'subsample': 0.8921142179647759, 'colsample_bytree': 0.9810755274543568, 'reg_alpha': 0.1658318343134576, 'reg_lambda': 3.61346941516511}. Best is trial 44 with value: 0.7188606620477291.\n",
      "[I 2025-01-03 14:26:48,222] Trial 46 finished with value: 0.717167051578137 and parameters: {'n_estimators': 472, 'learning_rate': 0.010808060617365538, 'max_depth': 5, 'min_child_weight': 4, 'gamma': 0.26573237386426224, 'subsample': 0.900606920447601, 'colsample_bytree': 0.9806794346103299, 'reg_alpha': 0.09185836974608008, 'reg_lambda': 3.583175437509269}. Best is trial 44 with value: 0.7188606620477291.\n",
      "[I 2025-01-03 14:26:50,733] Trial 47 finished with value: 0.6983833718244804 and parameters: {'n_estimators': 554, 'learning_rate': 0.012925618075334334, 'max_depth': 4, 'min_child_weight': 4, 'gamma': 0.25225745163928276, 'subsample': 0.7687609712046576, 'colsample_bytree': 0.9972798043548141, 'reg_alpha': 0.11970215481882834, 'reg_lambda': 2.9951835258758366}. Best is trial 44 with value: 0.7188606620477291.\n",
      "[I 2025-01-03 14:27:02,245] Trial 48 finished with value: 0.711008468052348 and parameters: {'n_estimators': 400, 'learning_rate': 0.011929781891144787, 'max_depth': 12, 'min_child_weight': 5, 'gamma': 0.23447356106028527, 'subsample': 0.9897554460917992, 'colsample_bytree': 0.9571483810791308, 'reg_alpha': 1.5103434590308007, 'reg_lambda': 3.968814650953271}. Best is trial 44 with value: 0.7188606620477291.\n",
      "[I 2025-01-03 14:27:10,227] Trial 49 finished with value: 0.6956120092378753 and parameters: {'n_estimators': 451, 'learning_rate': 0.05273351841282034, 'max_depth': 11, 'min_child_weight': 6, 'gamma': 0.0009190843070714383, 'subsample': 0.8390839076610012, 'colsample_bytree': 0.9727061566900036, 'reg_alpha': 2.131153512101511, 'reg_lambda': 4.576170153460436}. Best is trial 44 with value: 0.7188606620477291.\n"
     ]
    },
    {
     "data": {
      "text/plain": [
       "({'n_estimators': 320,\n",
       "  'learning_rate': 0.010763101596170385,\n",
       "  'max_depth': 5,\n",
       "  'min_child_weight': 3,\n",
       "  'gamma': 0.23681972583222627,\n",
       "  'subsample': 0.8952122711164143,\n",
       "  'colsample_bytree': 0.9720894849351379,\n",
       "  'reg_alpha': 0.08700173219794452,\n",
       "  'reg_lambda': 3.713620299621038},\n",
       " 0.7188606620477291)"
      ]
     },
     "execution_count": 127,
     "metadata": {},
     "output_type": "execute_result"
    }
   ],
   "source": [
    "params = {\n",
    "    \"n_estimators\": {\"type\": \"int\", \"min\": 100, \"max\": 1000},\n",
    "    \"learning_rate\": {\"type\": \"float\", \"min\": 0.01, \"max\": 0.3},\n",
    "    \"max_depth\": {\"type\": \"int\", \"min\": 3, \"max\": 12},\n",
    "    \"min_child_weight\": {\"type\": \"int\", \"min\": 1, \"max\": 7},\n",
    "    \"gamma\": {\"type\": \"float\", \"min\": 0, \"max\": 1},\n",
    "    \"subsample\": {\"type\": \"float\", \"min\": 0.5, \"max\": 1.0},\n",
    "    \"colsample_bytree\": {\"type\": \"float\", \"min\": 0.5, \"max\": 1.0},\n",
    "    \"reg_alpha\": {\"type\": \"float\", \"min\": 0.001, \"max\": 10},\n",
    "    \"reg_lambda\": {\"type\": \"float\", \"min\": 0.001, \"max\": 10}\n",
    "}\n",
    "\n",
    "sgb_tuner = HyperparameterTuner(XGBClassifier, params, train_x, train_y)\n",
    "sgb_tuner.optimize(100)\n",
    "sgb_tuner.best_params(), sgb_tuner.best_score()"
   ]
  },
  {
   "cell_type": "code",
   "execution_count": 128,
   "metadata": {},
   "outputs": [
    {
     "name": "stdout",
     "output_type": "stream",
     "text": [
      "              precision    recall  f1-score   support\n",
      "\n",
      "           0       0.80      0.75      0.77      1060\n",
      "           1       0.76      0.81      0.79      1054\n",
      "\n",
      "    accuracy                           0.78      2114\n",
      "   macro avg       0.78      0.78      0.78      2114\n",
      "weighted avg       0.78      0.78      0.78      2114\n",
      "\n"
     ]
    }
   ],
   "source": [
    "params = {\n",
    "    \"n_estimators\": 320,\n",
    "    \"learning_rate\": 0.010763101596170385,\n",
    "    \"max_depth\": 5,\n",
    "    \"min_child_weight\": 3,\n",
    "    \"gamma\": 0.23681972583222627,\n",
    "    \"subsample\": 0.8952122711164143,\n",
    "    \"colsample_bytree\": 0.9720894849351379,\n",
    "    \"reg_alpha\": 0.08700173219794452,\n",
    "    \"reg_lambda\": 3.713620299621038,\n",
    "}\n",
    "\n",
    "xgb_final = XGBClassifier(**params)\n",
    "xgb_final.fit(train_x, train_y)\n",
    "print(classification_report(valid_y, xgb_final.predict(valid_x)))"
   ]
  },
  {
   "cell_type": "markdown",
   "metadata": {},
   "source": [
    "### category 형식 컬럼이 포함된 데이터셋"
   ]
  },
  {
   "cell_type": "code",
   "execution_count": 149,
   "metadata": {},
   "outputs": [],
   "source": [
    "cutoff_patch = cat_train_ft[\"patch\"].quantile(0.8)\n",
    "train_games = cat_train_ft[cat_train_ft[\"patch\"] < cutoff_patch][\"gameid\"].unique()\n",
    "valid_games = cat_train_ft[cat_train_ft[\"patch\"] >= cutoff_patch][\"gameid\"].unique()\n",
    "\n",
    "train_x = cat_train_ft[cat_train_ft[\"gameid\"].isin(train_games)][pre_game_features]\n",
    "valid_x = cat_train_ft[cat_train_ft[\"gameid\"].isin(valid_games)][pre_game_features]\n",
    "\n",
    "train_y = teams_train_target[teams_train_target[\"gameid\"].isin(train_games)][\"result\"]\n",
    "valid_y = teams_train_target[teams_train_target[\"gameid\"].isin(valid_games)][\"result\"]\n",
    "\n",
    "train_x.drop(columns=[\"gameid\"], inplace=True)\n",
    "valid_x.drop(columns=[\"gameid\"], inplace=True)"
   ]
  },
  {
   "cell_type": "code",
   "execution_count": 163,
   "metadata": {},
   "outputs": [
    {
     "name": "stderr",
     "output_type": "stream",
     "text": [
      "[I 2025-01-03 15:44:30,116] A new study created in memory with name: no-name-c378ea2a-ca86-4b8a-bfa2-0f857afce8c0\n"
     ]
    },
    {
     "name": "stdout",
     "output_type": "stream",
     "text": [
      "0:\tlearn: 0.6374294\ttotal: 51.1ms\tremaining: 27.1s\n",
      "100:\tlearn: 0.3569930\ttotal: 4.8s\tremaining: 20.5s\n",
      "200:\tlearn: 0.2552956\ttotal: 9.61s\tremaining: 15.8s\n",
      "300:\tlearn: 0.1876246\ttotal: 14.3s\tremaining: 11s\n",
      "400:\tlearn: 0.1412416\ttotal: 19.1s\tremaining: 6.24s\n",
      "500:\tlearn: 0.1024402\ttotal: 23.6s\tremaining: 1.46s\n",
      "531:\tlearn: 0.0940048\ttotal: 25.1s\tremaining: 0us\n"
     ]
    },
    {
     "name": "stderr",
     "output_type": "stream",
     "text": [
      "[I 2025-01-03 15:45:42,209] Trial 0 finished with value: 0.7074672825250192 and parameters: {'iterations': 532, 'learning_rate': 0.19705948309949128, 'depth': 6, 'l2_leaf_reg': 1.9050358710564357, 'min_child_samples': 9, 'max_bin': 368, 'verbose': 100}. Best is trial 0 with value: 0.7074672825250192.\n"
     ]
    },
    {
     "name": "stdout",
     "output_type": "stream",
     "text": [
      "0:\tlearn: 0.6303164\ttotal: 19ms\tremaining: 1.91s\n",
      "100:\tlearn: 0.4190848\ttotal: 2.21s\tremaining: 21.9ms\n",
      "101:\tlearn: 0.4185996\ttotal: 2.23s\tremaining: 0us\n"
     ]
    },
    {
     "name": "stderr",
     "output_type": "stream",
     "text": [
      "[I 2025-01-03 15:45:49,842] Trial 1 finished with value: 0.6937644341801386 and parameters: {'iterations': 102, 'learning_rate': 0.27022076694035896, 'depth': 4, 'l2_leaf_reg': 7.219723835628724, 'min_child_samples': 39, 'max_bin': 253, 'verbose': 100}. Best is trial 0 with value: 0.7074672825250192.\n"
     ]
    },
    {
     "name": "stdout",
     "output_type": "stream",
     "text": [
      "0:\tlearn: 0.6324082\ttotal: 67.5ms\tremaining: 11.4s\n",
      "100:\tlearn: 0.3016073\ttotal: 6.4s\tremaining: 4.37s\n",
      "169:\tlearn: 0.2144795\ttotal: 10.1s\tremaining: 0us\n"
     ]
    },
    {
     "name": "stderr",
     "output_type": "stream",
     "text": [
      "[I 2025-01-03 15:46:16,964] Trial 2 finished with value: 0.6914549653579677 and parameters: {'iterations': 170, 'learning_rate': 0.24287069200264594, 'depth': 7, 'l2_leaf_reg': 6.260674205590322, 'min_child_samples': 15, 'max_bin': 283, 'verbose': 100}. Best is trial 0 with value: 0.7074672825250192.\n"
     ]
    },
    {
     "name": "stdout",
     "output_type": "stream",
     "text": [
      "0:\tlearn: 0.6325562\ttotal: 99.3ms\tremaining: 1m 37s\n",
      "100:\tlearn: 0.1745089\ttotal: 12.1s\tremaining: 1m 45s\n",
      "200:\tlearn: 0.0653528\ttotal: 24.2s\tremaining: 1m 33s\n",
      "300:\tlearn: 0.0330846\ttotal: 36.1s\tremaining: 1m 21s\n",
      "400:\tlearn: 0.0194808\ttotal: 48.1s\tremaining: 1m 9s\n",
      "500:\tlearn: 0.0121733\ttotal: 1m\tremaining: 57.6s\n",
      "600:\tlearn: 0.0086606\ttotal: 1m 12s\tremaining: 45.5s\n",
      "700:\tlearn: 0.0070331\ttotal: 1m 23s\tremaining: 33.4s\n",
      "800:\tlearn: 0.0061521\ttotal: 1m 35s\tremaining: 21.4s\n",
      "900:\tlearn: 0.0058394\ttotal: 1m 47s\tremaining: 9.44s\n",
      "979:\tlearn: 0.0056860\ttotal: 1m 57s\tremaining: 0us\n"
     ]
    },
    {
     "name": "stderr",
     "output_type": "stream",
     "text": [
      "[I 2025-01-03 15:53:18,008] Trial 3 finished with value: 0.7059276366435718 and parameters: {'iterations': 980, 'learning_rate': 0.17840866857502644, 'depth': 9, 'l2_leaf_reg': 2.070873832591479, 'min_child_samples': 16, 'max_bin': 310, 'verbose': 100}. Best is trial 0 with value: 0.7074672825250192.\n"
     ]
    },
    {
     "name": "stdout",
     "output_type": "stream",
     "text": [
      "0:\tlearn: 0.6412436\ttotal: 219ms\tremaining: 32.3s\n",
      "100:\tlearn: 0.1863690\ttotal: 20.7s\tremaining: 9.62s\n",
      "147:\tlearn: 0.1282674\ttotal: 30.3s\tremaining: 0us\n"
     ]
    },
    {
     "name": "stderr",
     "output_type": "stream",
     "text": [
      "[I 2025-01-03 15:55:34,034] Trial 4 finished with value: 0.7005388760585066 and parameters: {'iterations': 148, 'learning_rate': 0.17269418750522209, 'depth': 10, 'l2_leaf_reg': 8.463194862893374, 'min_child_samples': 45, 'max_bin': 307, 'verbose': 100}. Best is trial 0 with value: 0.7074672825250192.\n"
     ]
    },
    {
     "name": "stdout",
     "output_type": "stream",
     "text": [
      "0:\tlearn: 0.6806225\ttotal: 24.1ms\tremaining: 8.06s\n",
      "100:\tlearn: 0.5193382\ttotal: 2.48s\tremaining: 5.77s\n",
      "200:\tlearn: 0.5018733\ttotal: 5.09s\tremaining: 3.42s\n",
      "300:\tlearn: 0.4762388\ttotal: 7.66s\tremaining: 890ms\n",
      "335:\tlearn: 0.4704335\ttotal: 8.58s\tremaining: 0us\n"
     ]
    },
    {
     "name": "stderr",
     "output_type": "stream",
     "text": [
      "[I 2025-01-03 15:55:58,399] Trial 5 finished with value: 0.6905311778290992 and parameters: {'iterations': 336, 'learning_rate': 0.03932799608481116, 'depth': 4, 'l2_leaf_reg': 5.9603260909487314, 'min_child_samples': 12, 'max_bin': 396, 'verbose': 100}. Best is trial 0 with value: 0.7074672825250192.\n"
     ]
    },
    {
     "name": "stdout",
     "output_type": "stream",
     "text": [
      "0:\tlearn: 0.6182551\ttotal: 48ms\tremaining: 30.8s\n",
      "100:\tlearn: 0.2666718\ttotal: 5.3s\tremaining: 28.4s\n",
      "200:\tlearn: 0.1474657\ttotal: 10.4s\tremaining: 22.9s\n",
      "300:\tlearn: 0.0906665\ttotal: 15.8s\tremaining: 17.9s\n",
      "400:\tlearn: 0.0594602\ttotal: 20.9s\tremaining: 12.6s\n",
      "500:\tlearn: 0.0429891\ttotal: 26.2s\tremaining: 7.39s\n",
      "600:\tlearn: 0.0314004\ttotal: 31.3s\tremaining: 2.14s\n",
      "641:\tlearn: 0.0282352\ttotal: 33.5s\tremaining: 0us\n"
     ]
    },
    {
     "name": "stderr",
     "output_type": "stream",
     "text": [
      "[I 2025-01-03 15:57:40,201] Trial 6 finished with value: 0.6982294072363356 and parameters: {'iterations': 642, 'learning_rate': 0.285620927229721, 'depth': 7, 'l2_leaf_reg': 7.174644551796759, 'min_child_samples': 15, 'max_bin': 248, 'verbose': 100}. Best is trial 0 with value: 0.7074672825250192.\n"
     ]
    },
    {
     "name": "stdout",
     "output_type": "stream",
     "text": [
      "0:\tlearn: 0.6223546\ttotal: 225ms\tremaining: 1m 32s\n",
      "100:\tlearn: 0.1408273\ttotal: 23.5s\tremaining: 1m 12s\n",
      "200:\tlearn: 0.0563243\ttotal: 46.9s\tremaining: 49.4s\n",
      "300:\tlearn: 0.0305627\ttotal: 1m 10s\tremaining: 26.1s\n",
      "400:\tlearn: 0.0194663\ttotal: 1m 33s\tremaining: 2.8s\n",
      "412:\tlearn: 0.0186581\ttotal: 1m 36s\tremaining: 0us\n"
     ]
    },
    {
     "name": "stderr",
     "output_type": "stream",
     "text": [
      "[I 2025-01-03 16:05:04,036] Trial 7 finished with value: 0.7091608929946112 and parameters: {'iterations': 413, 'learning_rate': 0.24110432469185597, 'depth': 10, 'l2_leaf_reg': 8.905869555950142, 'min_child_samples': 12, 'max_bin': 342, 'verbose': 100}. Best is trial 7 with value: 0.7091608929946112.\n"
     ]
    },
    {
     "name": "stdout",
     "output_type": "stream",
     "text": [
      "0:\tlearn: 0.6290736\ttotal: 38.3ms\tremaining: 26.2s\n",
      "100:\tlearn: 0.3870281\ttotal: 3.51s\tremaining: 20.3s\n",
      "200:\tlearn: 0.3099301\ttotal: 6.99s\tremaining: 16.9s\n",
      "300:\tlearn: 0.2498665\ttotal: 10.5s\tremaining: 13.4s\n",
      "400:\tlearn: 0.2056581\ttotal: 13.9s\tremaining: 9.89s\n",
      "500:\tlearn: 0.1693519\ttotal: 17.3s\tremaining: 6.39s\n",
      "600:\tlearn: 0.1410764\ttotal: 20.8s\tremaining: 2.95s\n",
      "685:\tlearn: 0.1223399\ttotal: 23.7s\tremaining: 0us\n"
     ]
    },
    {
     "name": "stderr",
     "output_type": "stream",
     "text": [
      "[I 2025-01-03 16:06:08,209] Trial 8 finished with value: 0.7045419553502695 and parameters: {'iterations': 686, 'learning_rate': 0.238069474227145, 'depth': 5, 'l2_leaf_reg': 7.085006345765506, 'min_child_samples': 44, 'max_bin': 385, 'verbose': 100}. Best is trial 7 with value: 0.7091608929946112.\n"
     ]
    },
    {
     "name": "stdout",
     "output_type": "stream",
     "text": [
      "0:\tlearn: 0.6157708\ttotal: 87.8ms\tremaining: 1m 4s\n",
      "100:\tlearn: 0.1329291\ttotal: 10.8s\tremaining: 1m 7s\n",
      "200:\tlearn: 0.0472713\ttotal: 21.3s\tremaining: 56.5s\n",
      "300:\tlearn: 0.0233726\ttotal: 32.2s\tremaining: 46.2s\n",
      "400:\tlearn: 0.0148160\ttotal: 42.8s\tremaining: 35.5s\n",
      "500:\tlearn: 0.0104299\ttotal: 53.6s\tremaining: 24.8s\n",
      "600:\tlearn: 0.0089842\ttotal: 1m 5s\tremaining: 14.3s\n",
      "700:\tlearn: 0.0073068\ttotal: 1m 16s\tremaining: 3.48s\n",
      "732:\tlearn: 0.0070447\ttotal: 1m 19s\tremaining: 0us\n"
     ]
    },
    {
     "name": "stderr",
     "output_type": "stream",
     "text": [
      "[I 2025-01-03 16:10:56,802] Trial 9 finished with value: 0.7000769822940723 and parameters: {'iterations': 733, 'learning_rate': 0.2788678570491084, 'depth': 9, 'l2_leaf_reg': 4.320073285660059, 'min_child_samples': 47, 'max_bin': 293, 'verbose': 100}. Best is trial 7 with value: 0.7091608929946112.\n"
     ]
    },
    {
     "name": "stdout",
     "output_type": "stream",
     "text": [
      "0:\tlearn: 0.6623025\ttotal: 241ms\tremaining: 1m 38s\n",
      "100:\tlearn: 0.3025695\ttotal: 24.6s\tremaining: 1m 15s\n",
      "200:\tlearn: 0.1836016\ttotal: 48.7s\tremaining: 50.4s\n",
      "300:\tlearn: 0.1216023\ttotal: 1m 12s\tremaining: 26.1s\n",
      "400:\tlearn: 0.0845886\ttotal: 1m 37s\tremaining: 1.94s\n",
      "408:\tlearn: 0.0822063\ttotal: 1m 39s\tremaining: 0us\n"
     ]
    },
    {
     "name": "stderr",
     "output_type": "stream",
     "text": [
      "[I 2025-01-03 16:18:16,298] Trial 10 finished with value: 0.7063895304080062 and parameters: {'iterations': 409, 'learning_rate': 0.09592566512777742, 'depth': 10, 'l2_leaf_reg': 9.661897534694884, 'min_child_samples': 27, 'max_bin': 345, 'verbose': 100}. Best is trial 7 with value: 0.7091608929946112.\n"
     ]
    },
    {
     "name": "stdout",
     "output_type": "stream",
     "text": [
      "0:\tlearn: 0.6357177\ttotal: 40.7ms\tremaining: 17s\n",
      "100:\tlearn: 0.3477181\ttotal: 4.04s\tremaining: 12.8s\n",
      "200:\tlearn: 0.2286040\ttotal: 8.19s\tremaining: 8.92s\n",
      "300:\tlearn: 0.1650494\ttotal: 12.3s\tremaining: 4.86s\n",
      "400:\tlearn: 0.1196664\ttotal: 16.5s\tremaining: 780ms\n",
      "419:\tlearn: 0.1138337\ttotal: 17.3s\tremaining: 0us\n"
     ]
    },
    {
     "name": "stderr",
     "output_type": "stream",
     "text": [
      "[I 2025-01-03 16:19:05,881] Trial 11 finished with value: 0.6973056197074673 and parameters: {'iterations': 420, 'learning_rate': 0.20355392612036263, 'depth': 6, 'l2_leaf_reg': 1.1860637327442305, 'min_child_samples': 7, 'max_bin': 354, 'verbose': 100}. Best is trial 7 with value: 0.7091608929946112.\n"
     ]
    },
    {
     "name": "stdout",
     "output_type": "stream",
     "text": [
      "0:\tlearn: 0.6500330\ttotal: 72.3ms\tremaining: 38.4s\n",
      "100:\tlearn: 0.3187424\ttotal: 7.28s\tremaining: 31.1s\n",
      "200:\tlearn: 0.1913364\ttotal: 14.5s\tremaining: 23.8s\n",
      "300:\tlearn: 0.1226936\ttotal: 21.7s\tremaining: 16.7s\n",
      "400:\tlearn: 0.0869535\ttotal: 29s\tremaining: 9.47s\n",
      "500:\tlearn: 0.0620226\ttotal: 36.3s\tremaining: 2.25s\n",
      "531:\tlearn: 0.0561604\ttotal: 38.6s\tremaining: 0us\n"
     ]
    },
    {
     "name": "stderr",
     "output_type": "stream",
     "text": [
      "[I 2025-01-03 16:21:29,254] Trial 12 finished with value: 0.7063895304080062 and parameters: {'iterations': 532, 'learning_rate': 0.13358150047409056, 'depth': 8, 'l2_leaf_reg': 3.830510951032201, 'min_child_samples': 23, 'max_bin': 354, 'verbose': 100}. Best is trial 7 with value: 0.7091608929946112.\n"
     ]
    },
    {
     "name": "stdout",
     "output_type": "stream",
     "text": [
      "0:\tlearn: 0.6325525\ttotal: 34.9ms\tremaining: 10.1s\n",
      "100:\tlearn: 0.3571426\ttotal: 4.15s\tremaining: 7.76s\n",
      "200:\tlearn: 0.2520771\ttotal: 8.36s\tremaining: 3.7s\n",
      "289:\tlearn: 0.1872483\ttotal: 11.9s\tremaining: 0us\n"
     ]
    },
    {
     "name": "stderr",
     "output_type": "stream",
     "text": [
      "[I 2025-01-03 16:22:03,969] Trial 13 finished with value: 0.703156274056967 and parameters: {'iterations': 290, 'learning_rate': 0.21037405858984537, 'depth': 6, 'l2_leaf_reg': 3.7800787762653334, 'min_child_samples': 6, 'max_bin': 333, 'verbose': 100}. Best is trial 7 with value: 0.7091608929946112.\n"
     ]
    },
    {
     "name": "stdout",
     "output_type": "stream",
     "text": [
      "0:\tlearn: 0.6550289\ttotal: 40.4ms\tremaining: 23s\n",
      "100:\tlearn: 0.4095568\ttotal: 4.14s\tremaining: 19.2s\n",
      "200:\tlearn: 0.3286316\ttotal: 8.19s\tremaining: 15s\n",
      "300:\tlearn: 0.2623437\ttotal: 12.4s\tremaining: 11.1s\n",
      "400:\tlearn: 0.2148885\ttotal: 16.6s\tremaining: 6.99s\n",
      "500:\tlearn: 0.1761135\ttotal: 20.6s\tremaining: 2.84s\n",
      "569:\tlearn: 0.1530227\ttotal: 23.5s\tremaining: 0us\n"
     ]
    },
    {
     "name": "stderr",
     "output_type": "stream",
     "text": [
      "[I 2025-01-03 16:23:12,700] Trial 14 finished with value: 0.702540415704388 and parameters: {'iterations': 570, 'learning_rate': 0.12612878319915896, 'depth': 6, 'l2_leaf_reg': 2.5939550421339153, 'min_child_samples': 22, 'max_bin': 376, 'verbose': 100}. Best is trial 7 with value: 0.7091608929946112.\n"
     ]
    },
    {
     "name": "stdout",
     "output_type": "stream",
     "text": [
      "0:\tlearn: 0.6306407\ttotal: 58.8ms\tremaining: 49.2s\n",
      "100:\tlearn: 0.2583610\ttotal: 6.63s\tremaining: 48.4s\n",
      "200:\tlearn: 0.1418571\ttotal: 13.2s\tremaining: 41.7s\n",
      "300:\tlearn: 0.0862918\ttotal: 19.8s\tremaining: 35.3s\n",
      "400:\tlearn: 0.0573152\ttotal: 26.4s\tremaining: 28.8s\n",
      "500:\tlearn: 0.0417058\ttotal: 33s\tremaining: 22.2s\n",
      "600:\tlearn: 0.0323531\ttotal: 39.6s\tremaining: 15.6s\n",
      "700:\tlearn: 0.0255992\ttotal: 46.3s\tremaining: 9.05s\n",
      "800:\tlearn: 0.0208407\ttotal: 52.9s\tremaining: 2.44s\n",
      "837:\tlearn: 0.0194196\ttotal: 55.4s\tremaining: 0us\n"
     ]
    },
    {
     "name": "stderr",
     "output_type": "stream",
     "text": [
      "[I 2025-01-03 16:26:06,219] Trial 15 finished with value: 0.7053117782909931 and parameters: {'iterations': 838, 'learning_rate': 0.22566323990936496, 'depth': 8, 'l2_leaf_reg': 9.564085176740052, 'min_child_samples': 35, 'max_bin': 210, 'verbose': 100}. Best is trial 7 with value: 0.7091608929946112.\n"
     ]
    },
    {
     "name": "stdout",
     "output_type": "stream",
     "text": [
      "0:\tlearn: 0.6660875\ttotal: 34.3ms\tremaining: 17.2s\n",
      "100:\tlearn: 0.4773678\ttotal: 3.21s\tremaining: 12.8s\n",
      "200:\tlearn: 0.4159541\ttotal: 6.38s\tremaining: 9.59s\n",
      "300:\tlearn: 0.3800139\ttotal: 9.63s\tremaining: 6.46s\n",
      "400:\tlearn: 0.3447609\ttotal: 12.9s\tremaining: 3.27s\n",
      "500:\tlearn: 0.3173355\ttotal: 16s\tremaining: 64.1ms\n",
      "502:\tlearn: 0.3167111\ttotal: 16.1s\tremaining: 0us\n"
     ]
    },
    {
     "name": "stderr",
     "output_type": "stream",
     "text": [
      "[I 2025-01-03 16:26:50,465] Trial 16 finished with value: 0.6951501154734412 and parameters: {'iterations': 503, 'learning_rate': 0.08761347426905818, 'depth': 5, 'l2_leaf_reg': 4.801463447072912, 'min_child_samples': 5, 'max_bin': 326, 'verbose': 100}. Best is trial 7 with value: 0.7091608929946112.\n"
     ]
    },
    {
     "name": "stdout",
     "output_type": "stream",
     "text": [
      "0:\tlearn: 0.6403358\ttotal: 60.7ms\tremaining: 15.9s\n",
      "100:\tlearn: 0.2883980\ttotal: 7.74s\tremaining: 12.3s\n",
      "200:\tlearn: 0.1703837\ttotal: 15.4s\tremaining: 4.67s\n",
      "261:\tlearn: 0.1257618\ttotal: 19.9s\tremaining: 0us\n"
     ]
    },
    {
     "name": "stderr",
     "output_type": "stream",
     "text": [
      "[I 2025-01-03 16:27:55,085] Trial 17 finished with value: 0.6960739030023095 and parameters: {'iterations': 262, 'learning_rate': 0.18208115089646232, 'depth': 8, 'l2_leaf_reg': 8.149283259220265, 'min_child_samples': 21, 'max_bin': 369, 'verbose': 100}. Best is trial 7 with value: 0.7091608929946112.\n"
     ]
    },
    {
     "name": "stdout",
     "output_type": "stream",
     "text": [
      "0:\tlearn: 0.6131817\ttotal: 98.8ms\tremaining: 43s\n",
      "100:\tlearn: 0.1055968\ttotal: 12.1s\tremaining: 40.1s\n",
      "200:\tlearn: 0.0317893\ttotal: 24.1s\tremaining: 28.2s\n",
      "300:\tlearn: 0.0149272\ttotal: 36.1s\tremaining: 16.2s\n",
      "400:\tlearn: 0.0085875\ttotal: 48.2s\tremaining: 4.21s\n",
      "435:\tlearn: 0.0074640\ttotal: 52.4s\tremaining: 0us\n"
     ]
    },
    {
     "name": "stderr",
     "output_type": "stream",
     "text": [
      "[I 2025-01-03 16:31:12,153] Trial 18 finished with value: 0.6948421862971517 and parameters: {'iterations': 436, 'learning_rate': 0.29909074049051626, 'depth': 9, 'l2_leaf_reg': 2.694238373580623, 'min_child_samples': 12, 'max_bin': 400, 'verbose': 100}. Best is trial 7 with value: 0.7091608929946112.\n"
     ]
    },
    {
     "name": "stdout",
     "output_type": "stream",
     "text": [
      "0:\tlearn: 0.6267258\ttotal: 27.4ms\tremaining: 16.3s\n",
      "100:\tlearn: 0.3609035\ttotal: 3.3s\tremaining: 16.2s\n",
      "200:\tlearn: 0.2729347\ttotal: 6.44s\tremaining: 12.7s\n",
      "300:\tlearn: 0.2056813\ttotal: 9.88s\tremaining: 9.72s\n",
      "400:\tlearn: 0.1610289\ttotal: 13.6s\tremaining: 6.63s\n",
      "500:\tlearn: 0.1301024\ttotal: 16.9s\tremaining: 3.24s\n",
      "596:\tlearn: 0.1038996\ttotal: 21s\tremaining: 0us\n"
     ]
    },
    {
     "name": "stderr",
     "output_type": "stream",
     "text": [
      "[I 2025-01-03 16:32:06,096] Trial 19 finished with value: 0.7042340261739801 and parameters: {'iterations': 597, 'learning_rate': 0.2529322125660319, 'depth': 5, 'l2_leaf_reg': 1.0297359277154092, 'min_child_samples': 33, 'max_bin': 273, 'verbose': 100}. Best is trial 7 with value: 0.7091608929946112.\n"
     ]
    },
    {
     "data": {
      "text/plain": [
       "({'iterations': 413,\n",
       "  'learning_rate': 0.24110432469185597,\n",
       "  'depth': 10,\n",
       "  'l2_leaf_reg': 8.905869555950142,\n",
       "  'min_child_samples': 12,\n",
       "  'max_bin': 342,\n",
       "  'verbose': 100},\n",
       " 0.7091608929946112)"
      ]
     },
     "execution_count": 163,
     "metadata": {},
     "output_type": "execute_result"
    }
   ],
   "source": [
    "cat_features = train_x.select_dtypes(\"category\").columns.tolist()\n",
    "\n",
    "params = {\n",
    "    \"iterations\": {\"type\": \"int\", \"min\": 100, \"max\": 1000},\n",
    "    \"learning_rate\": {\"type\": \"float\", \"min\": 0.01, \"max\": 0.3},\n",
    "    \"depth\": {\"type\": \"int\", \"min\": 4, \"max\": 10},\n",
    "    \"l2_leaf_reg\": {\"type\": \"float\", \"min\": 1, \"max\": 10},\n",
    "    \"min_child_samples\": {\"type\": \"int\", \"min\": 5, \"max\": 50},\n",
    "    \"max_bin\": {\"type\": \"int\", \"min\": 200, \"max\": 400},\n",
    "    \"verbose\": {\"type\": \"int\", \"min\": 100, \"max\": 100}\n",
    "}\n",
    "\n",
    "cat_tuner = HyperparameterTuner(CatBoostClassifier, params, train_x, train_y, cat_features)\n",
    "cat_tuner.optimize(20)\n",
    "cat_tuner.best_params(), cat_tuner.best_score()"
   ]
  },
  {
   "cell_type": "code",
   "execution_count": 166,
   "metadata": {},
   "outputs": [
    {
     "name": "stdout",
     "output_type": "stream",
     "text": [
      "0:\tlearn: 0.6223546\ttotal: 232ms\tremaining: 1m 35s\n",
      "100:\tlearn: 0.1408273\ttotal: 23.8s\tremaining: 1m 13s\n",
      "200:\tlearn: 0.0563243\ttotal: 47.5s\tremaining: 50.1s\n",
      "300:\tlearn: 0.0305627\ttotal: 1m 11s\tremaining: 26.6s\n",
      "400:\tlearn: 0.0194663\ttotal: 1m 36s\tremaining: 2.88s\n",
      "412:\tlearn: 0.0186581\ttotal: 1m 39s\tremaining: 0us\n",
      "              precision    recall  f1-score   support\n",
      "\n",
      "           0       0.77      0.79      0.78      1060\n",
      "           1       0.78      0.77      0.78      1054\n",
      "\n",
      "    accuracy                           0.78      2114\n",
      "   macro avg       0.78      0.78      0.78      2114\n",
      "weighted avg       0.78      0.78      0.78      2114\n",
      "\n"
     ]
    }
   ],
   "source": [
    "params = {\n",
    "    \"iterations\": 413,\n",
    "    \"learning_rate\": 0.24110432469185597,\n",
    "    \"depth\": 10,\n",
    "    \"l2_leaf_reg\": 8.905869555950142,\n",
    "    \"min_child_samples\": 12,\n",
    "    \"max_bin\": 342,\n",
    "    \"verbose\": 100,\n",
    "}\n",
    "\n",
    "cat_final = CatBoostClassifier(**params, cat_features=cat_features, logging_level=\"Silent\")\n",
    "cat_final.fit(train_x, train_y)\n",
    "print(classification_report(valid_y, cat_final.predict(valid_x)))"
   ]
  }
 ],
 "metadata": {
  "kernelspec": {
   "display_name": "Python 3",
   "language": "python",
   "name": "python3"
  },
  "language_info": {
   "codemirror_mode": {
    "name": "ipython",
    "version": 3
   },
   "file_extension": ".py",
   "mimetype": "text/x-python",
   "name": "python",
   "nbconvert_exporter": "python",
   "pygments_lexer": "ipython3",
   "version": "3.10.8"
  }
 },
 "nbformat": 4,
 "nbformat_minor": 2
}
