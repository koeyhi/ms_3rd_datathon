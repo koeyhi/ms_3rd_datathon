{
 "cells": [
  {
   "cell_type": "code",
   "execution_count": 62,
   "metadata": {},
   "outputs": [],
   "source": [
    "import pandas as pd\n",
    "import numpy as np\n",
    "\n",
    "DATA_PATH = \"LoLesports_data/\"\n",
    "SEED = 42\n",
    "\n",
    "teams_train = pd.read_csv(f\"{DATA_PATH}teams_train.csv\")\n",
    "teams_test = pd.read_csv(f\"{DATA_PATH}teams_test.csv\")\n",
    "players_train = pd.read_csv(f\"{DATA_PATH}players_train.csv\")\n",
    "players_test = pd.read_csv(f\"{DATA_PATH}players_test.csv\")\n",
    "\n",
    "teams_train_target = pd.read_csv(f\"{DATA_PATH}teams_train_target.csv\")\n",
    "teams_test_target = pd.read_csv(f\"{DATA_PATH}teams_test_target.csv\")\n",
    "players_train_target = pd.read_csv(f\"{DATA_PATH}players_train_target.csv\")\n",
    "players_test_target = pd.read_csv(f\"{DATA_PATH}players_test_target.csv\")"
   ]
  },
  {
   "cell_type": "markdown",
   "metadata": {},
   "source": [
    "# 컬럼 추가"
   ]
  },
  {
   "cell_type": "markdown",
   "metadata": {},
   "source": [
    "## 상대 팀 추가"
   ]
  },
  {
   "cell_type": "code",
   "execution_count": 63,
   "metadata": {},
   "outputs": [],
   "source": [
    "temp_opp_teams = teams_train.groupby(\"gameid\")[\"teamname\"].transform(lambda x: x.iloc[::-1].values).to_frame(\"opp_teamname\")\n",
    "teams_train = pd.concat([teams_train, temp_opp_teams], axis=1)\n",
    "temp_opp_teams = teams_test.groupby(\"gameid\")[\"teamname\"].transform(lambda x: x.iloc[::-1].values).to_frame(\"opp_teamname\")\n",
    "teams_test = pd.concat([teams_test, temp_opp_teams], axis=1)\n",
    "\n",
    "temp_opp_players = players_train.groupby(\"gameid\")[\"teamname\"].transform(lambda x: x.iloc[::-1].values).to_frame(\"opp_teamname\")\n",
    "players_train = pd.concat([players_train, temp_opp_players], axis=1)\n",
    "temp_opp_players = players_test.groupby(\"gameid\")[\"teamname\"].transform(lambda x: x.iloc[::-1].values).to_frame(\"opp_teamname\")\n",
    "players_test = pd.concat([players_test, temp_opp_players], axis=1)"
   ]
  },
  {
   "cell_type": "markdown",
   "metadata": {},
   "source": [
    "## 날짜 추가"
   ]
  },
  {
   "cell_type": "code",
   "execution_count": 64,
   "metadata": {},
   "outputs": [],
   "source": [
    "teams_train[\"date\"] = pd.to_datetime(teams_train[\"date\"])\n",
    "teams_test[\"date\"] = pd.to_datetime(teams_test[\"date\"])\n",
    "\n",
    "players_train[\"date\"] = pd.to_datetime(players_train[\"date\"])\n",
    "players_test[\"date\"] = pd.to_datetime(players_test[\"date\"])\n",
    "\n",
    "teams_train[\"year\"] = teams_train[\"date\"].dt.year\n",
    "teams_train[\"month\"] = teams_train[\"date\"].dt.month\n",
    "teams_train[\"day\"] = teams_train[\"date\"].dt.day\n",
    "\n",
    "players_train[\"year\"] = players_train[\"date\"].dt.year\n",
    "players_train[\"month\"] = players_train[\"date\"].dt.month\n",
    "players_train[\"day\"] = players_train[\"date\"].dt.day\n",
    "\n",
    "teams_test[\"year\"] = teams_test[\"date\"].dt.year\n",
    "teams_test[\"month\"] = teams_test[\"date\"].dt.month\n",
    "teams_test[\"day\"] = teams_test[\"date\"].dt.day\n",
    "\n",
    "players_test[\"year\"] = players_test[\"date\"].dt.year\n",
    "players_test[\"month\"] = players_test[\"date\"].dt.month\n",
    "players_test[\"day\"] = players_test[\"date\"].dt.day"
   ]
  },
  {
   "cell_type": "markdown",
   "metadata": {},
   "source": [
    "## 데이터 타입 변경"
   ]
  },
  {
   "cell_type": "code",
   "execution_count": 65,
   "metadata": {},
   "outputs": [],
   "source": [
    "cols = [\"league\", \"split\", \"teamname\", \"opp_teamname\", \"ban1\", \"ban2\", \"ban3\", \"ban4\", \"ban5\", \"pick1\", \"pick2\", \"pick3\", \"pick4\", \"pick5\"]\n",
    "\n",
    "teams_train[cols] = teams_train[cols].astype(\"category\")\n",
    "teams_test[cols] = teams_test[cols].astype(\"category\")"
   ]
  },
  {
   "cell_type": "code",
   "execution_count": 66,
   "metadata": {},
   "outputs": [
    {
     "data": {
      "text/html": [
       "<div>\n",
       "<style scoped>\n",
       "    .dataframe tbody tr th:only-of-type {\n",
       "        vertical-align: middle;\n",
       "    }\n",
       "\n",
       "    .dataframe tbody tr th {\n",
       "        vertical-align: top;\n",
       "    }\n",
       "\n",
       "    .dataframe thead th {\n",
       "        text-align: right;\n",
       "    }\n",
       "</style>\n",
       "<table border=\"1\" class=\"dataframe\">\n",
       "  <thead>\n",
       "    <tr style=\"text-align: right;\">\n",
       "      <th></th>\n",
       "      <th>gameid</th>\n",
       "      <th>league</th>\n",
       "      <th>split</th>\n",
       "      <th>playoffs</th>\n",
       "      <th>date</th>\n",
       "      <th>game</th>\n",
       "      <th>patch</th>\n",
       "      <th>side</th>\n",
       "      <th>teamname</th>\n",
       "      <th>ban1</th>\n",
       "      <th>...</th>\n",
       "      <th>killsat15</th>\n",
       "      <th>assistsat15</th>\n",
       "      <th>deathsat15</th>\n",
       "      <th>opp_killsat15</th>\n",
       "      <th>opp_assistsat15</th>\n",
       "      <th>opp_deathsat15</th>\n",
       "      <th>opp_teamname</th>\n",
       "      <th>year</th>\n",
       "      <th>month</th>\n",
       "      <th>day</th>\n",
       "    </tr>\n",
       "  </thead>\n",
       "  <tbody>\n",
       "    <tr>\n",
       "      <th>0</th>\n",
       "      <td>ESPORTSTMNT01_2700815</td>\n",
       "      <td>LCK</td>\n",
       "      <td>Spring</td>\n",
       "      <td>0</td>\n",
       "      <td>2022-01-12 06:20:00</td>\n",
       "      <td>1</td>\n",
       "      <td>12.01</td>\n",
       "      <td>Blue</td>\n",
       "      <td>DRX</td>\n",
       "      <td>Diana</td>\n",
       "      <td>...</td>\n",
       "      <td>4.0</td>\n",
       "      <td>7.0</td>\n",
       "      <td>1.0</td>\n",
       "      <td>1.0</td>\n",
       "      <td>1.0</td>\n",
       "      <td>4.0</td>\n",
       "      <td>BNK FEARX</td>\n",
       "      <td>2022</td>\n",
       "      <td>1</td>\n",
       "      <td>12</td>\n",
       "    </tr>\n",
       "    <tr>\n",
       "      <th>1</th>\n",
       "      <td>ESPORTSTMNT01_2700815</td>\n",
       "      <td>LCK</td>\n",
       "      <td>Spring</td>\n",
       "      <td>0</td>\n",
       "      <td>2022-01-12 06:20:00</td>\n",
       "      <td>1</td>\n",
       "      <td>12.01</td>\n",
       "      <td>Red</td>\n",
       "      <td>BNK FEARX</td>\n",
       "      <td>Renekton</td>\n",
       "      <td>...</td>\n",
       "      <td>1.0</td>\n",
       "      <td>1.0</td>\n",
       "      <td>4.0</td>\n",
       "      <td>4.0</td>\n",
       "      <td>7.0</td>\n",
       "      <td>1.0</td>\n",
       "      <td>DRX</td>\n",
       "      <td>2022</td>\n",
       "      <td>1</td>\n",
       "      <td>12</td>\n",
       "    </tr>\n",
       "    <tr>\n",
       "      <th>2</th>\n",
       "      <td>ESPORTSTMNT01_2690695</td>\n",
       "      <td>LCK</td>\n",
       "      <td>Spring</td>\n",
       "      <td>0</td>\n",
       "      <td>2022-01-12 09:02:00</td>\n",
       "      <td>2</td>\n",
       "      <td>12.01</td>\n",
       "      <td>Blue</td>\n",
       "      <td>DRX</td>\n",
       "      <td>Diana</td>\n",
       "      <td>...</td>\n",
       "      <td>2.0</td>\n",
       "      <td>5.0</td>\n",
       "      <td>4.0</td>\n",
       "      <td>4.0</td>\n",
       "      <td>5.0</td>\n",
       "      <td>2.0</td>\n",
       "      <td>BNK FEARX</td>\n",
       "      <td>2022</td>\n",
       "      <td>1</td>\n",
       "      <td>12</td>\n",
       "    </tr>\n",
       "    <tr>\n",
       "      <th>3</th>\n",
       "      <td>ESPORTSTMNT01_2690695</td>\n",
       "      <td>LCK</td>\n",
       "      <td>Spring</td>\n",
       "      <td>0</td>\n",
       "      <td>2022-01-12 09:02:00</td>\n",
       "      <td>2</td>\n",
       "      <td>12.01</td>\n",
       "      <td>Red</td>\n",
       "      <td>BNK FEARX</td>\n",
       "      <td>Renekton</td>\n",
       "      <td>...</td>\n",
       "      <td>4.0</td>\n",
       "      <td>5.0</td>\n",
       "      <td>2.0</td>\n",
       "      <td>2.0</td>\n",
       "      <td>5.0</td>\n",
       "      <td>4.0</td>\n",
       "      <td>DRX</td>\n",
       "      <td>2022</td>\n",
       "      <td>1</td>\n",
       "      <td>12</td>\n",
       "    </tr>\n",
       "    <tr>\n",
       "      <th>4</th>\n",
       "      <td>ESPORTSTMNT01_2690705</td>\n",
       "      <td>LCK</td>\n",
       "      <td>Spring</td>\n",
       "      <td>0</td>\n",
       "      <td>2022-01-12 10:07:00</td>\n",
       "      <td>1</td>\n",
       "      <td>12.01</td>\n",
       "      <td>Blue</td>\n",
       "      <td>T1</td>\n",
       "      <td>Lee Sin</td>\n",
       "      <td>...</td>\n",
       "      <td>3.0</td>\n",
       "      <td>2.0</td>\n",
       "      <td>1.0</td>\n",
       "      <td>1.0</td>\n",
       "      <td>1.0</td>\n",
       "      <td>3.0</td>\n",
       "      <td>Kwangdong Freecs</td>\n",
       "      <td>2022</td>\n",
       "      <td>1</td>\n",
       "      <td>12</td>\n",
       "    </tr>\n",
       "  </tbody>\n",
       "</table>\n",
       "<p>5 rows × 115 columns</p>\n",
       "</div>"
      ],
      "text/plain": [
       "                  gameid league   split  playoffs                date  game  \\\n",
       "0  ESPORTSTMNT01_2700815    LCK  Spring         0 2022-01-12 06:20:00     1   \n",
       "1  ESPORTSTMNT01_2700815    LCK  Spring         0 2022-01-12 06:20:00     1   \n",
       "2  ESPORTSTMNT01_2690695    LCK  Spring         0 2022-01-12 09:02:00     2   \n",
       "3  ESPORTSTMNT01_2690695    LCK  Spring         0 2022-01-12 09:02:00     2   \n",
       "4  ESPORTSTMNT01_2690705    LCK  Spring         0 2022-01-12 10:07:00     1   \n",
       "\n",
       "   patch  side   teamname      ban1  ... killsat15 assistsat15 deathsat15  \\\n",
       "0  12.01  Blue        DRX     Diana  ...       4.0         7.0        1.0   \n",
       "1  12.01   Red  BNK FEARX  Renekton  ...       1.0         1.0        4.0   \n",
       "2  12.01  Blue        DRX     Diana  ...       2.0         5.0        4.0   \n",
       "3  12.01   Red  BNK FEARX  Renekton  ...       4.0         5.0        2.0   \n",
       "4  12.01  Blue         T1   Lee Sin  ...       3.0         2.0        1.0   \n",
       "\n",
       "  opp_killsat15 opp_assistsat15 opp_deathsat15      opp_teamname  year month  \\\n",
       "0           1.0             1.0            4.0         BNK FEARX  2022     1   \n",
       "1           4.0             7.0            1.0               DRX  2022     1   \n",
       "2           4.0             5.0            2.0         BNK FEARX  2022     1   \n",
       "3           2.0             5.0            4.0               DRX  2022     1   \n",
       "4           1.0             1.0            3.0  Kwangdong Freecs  2022     1   \n",
       "\n",
       "   day  \n",
       "0   12  \n",
       "1   12  \n",
       "2   12  \n",
       "3   12  \n",
       "4   12  \n",
       "\n",
       "[5 rows x 115 columns]"
      ]
     },
     "execution_count": 66,
     "metadata": {},
     "output_type": "execute_result"
    }
   ],
   "source": [
    "teams_train.head()"
   ]
  },
  {
   "cell_type": "markdown",
   "metadata": {},
   "source": [
    "# 특성 추가"
   ]
  },
  {
   "cell_type": "markdown",
   "metadata": {},
   "source": [
    "## df에 포함되어 있는 특성을 이용한 토대 작성"
   ]
  },
  {
   "cell_type": "code",
   "execution_count": 67,
   "metadata": {},
   "outputs": [
    {
     "data": {
      "text/plain": [
       "((9913, 19), (2324, 19))"
      ]
     },
     "execution_count": 67,
     "metadata": {},
     "output_type": "execute_result"
    }
   ],
   "source": [
    "pre_game_features = [\n",
    "    \"gameid\",\n",
    "    \"patch\",\n",
    "    \"side\",\n",
    "    \"league\",\n",
    "    \"teamname\",\n",
    "    \"opp_teamname\",\n",
    "    \"ban1\",\n",
    "    \"ban2\",\n",
    "    \"ban3\",\n",
    "    \"ban4\",\n",
    "    \"ban5\",\n",
    "    \"pick1\",\n",
    "    \"pick2\",\n",
    "    \"pick3\",\n",
    "    \"pick4\",\n",
    "    \"pick5\",\n",
    "    \"year\",\n",
    "    \"month\",\n",
    "    \"day\",\n",
    "]\n",
    "\n",
    "train_ft = teams_train[pre_game_features]\n",
    "test_ft = teams_test[pre_game_features]\n",
    "\n",
    "train_ft.shape, test_ft.shape"
   ]
  },
  {
   "cell_type": "markdown",
   "metadata": {},
   "source": [
    "### 팀별 최근 10경기 지표 계산, 상대팀 최근 10경기 지표 계산"
   ]
  },
  {
   "cell_type": "code",
   "execution_count": 68,
   "metadata": {},
   "outputs": [],
   "source": [
    "stats_columns = [\n",
    "    \"result\",\n",
    "    \"gamelength\",\n",
    "    \"kills\",\n",
    "    \"deaths\",\n",
    "    \"assists\",\n",
    "    \"firstblood\",\n",
    "    \"team kpm\",\n",
    "    \"ckpm\",\n",
    "    \"firstdragon\",\n",
    "    \"firstherald\",\n",
    "    \"void_grubs\",\n",
    "    \"firstbaron\",\n",
    "    \"firsttower\",\n",
    "    \"towers\",\n",
    "    \"firstmidtower\",\n",
    "    \"firsttothreetowers\",\n",
    "    \"turretplates\",\n",
    "    \"inhibitors\",\n",
    "    \"damagetochampions\",\n",
    "    \"dpm\",\n",
    "    \"damagetakenperminute\",\n",
    "    \"damagemitigatedperminute\",\n",
    "    \"wardsplaced\",\n",
    "    \"wpm\",\n",
    "    \"wardskilled\",\n",
    "    \"wcpm\",\n",
    "    \"controlwardsbought\",\n",
    "    \"visionscore\",\n",
    "    \"vspm\",\n",
    "]"
   ]
  },
  {
   "cell_type": "code",
   "execution_count": 69,
   "metadata": {},
   "outputs": [
    {
     "data": {
      "text/plain": [
       "((9913, 77), (2324, 77))"
      ]
     },
     "execution_count": 69,
     "metadata": {},
     "output_type": "execute_result"
    }
   ],
   "source": [
    "# 팀별 최근 승률 계산을 위한 데이터 정렬\n",
    "temp_train = teams_train.sort_values(['teamname', 'year', 'month', 'day']).reset_index(drop=True)\n",
    "temp_test = teams_test.sort_values(['teamname', 'year', 'month', 'day']).reset_index(drop=True)\n",
    "\n",
    "# 팀별 최근 10경기 평균 계산\n",
    "for col in stats_columns:\n",
    "    # 승률 계산\n",
    "    recent10_train = temp_train.groupby('teamname', observed=True)[col].transform(\n",
    "        lambda x: x.rolling(window=10, min_periods=1).mean().shift(1)\n",
    "    )\n",
    "    train_ft = train_ft.assign(**{f'recent10_{col}': recent10_train})\n",
    "    \n",
    "    # 테스트 데이터의 지표 계산을 위해 훈련 데이터와 테스트 데이터 결합\n",
    "    combined_data = pd.concat([temp_train, temp_test], ignore_index=True).sort_values(['teamname', 'year', 'month', 'day'])\n",
    "    recent10_combined = combined_data.groupby('teamname', observed=True)[col].transform(\n",
    "        lambda x: x.rolling(window=10, min_periods=1).mean().shift(1)\n",
    "    )\n",
    "    combined_data = combined_data.assign(**{f'recent10_{col}': recent10_combined})\n",
    "\n",
    "    # 테스트 데이터의 지표 업데이트\n",
    "    recent10_test = combined_data.tail(len(temp_test))[f'recent10_{col}'].values\n",
    "    test_ft = test_ft.assign(**{f'recent10_{col}': recent10_test})\n",
    "    \n",
    "    # 상대팀 최근 지표 계산\n",
    "    merged_train = train_ft.merge(\n",
    "        train_ft[['teamname', 'year', 'month', 'day', f'recent10_{col}']], \n",
    "        left_on=['opp_teamname', 'year', 'month', 'day'],\n",
    "        right_on=['teamname', 'year', 'month', 'day'],\n",
    "        suffixes=('', '_opp')\n",
    "    )\n",
    "    train_ft = train_ft.assign(**{f'opp_recent10_{col}': merged_train[f'recent10_{col}_opp']})\n",
    "    \n",
    "    merged_test = test_ft.merge(\n",
    "        combined_data[['teamname', 'year', 'month', 'day', f'recent10_{col}']], \n",
    "        left_on=['opp_teamname', 'year', 'month', 'day'],\n",
    "        right_on=['teamname', 'year', 'month', 'day'],\n",
    "        suffixes=('', '_opp')\n",
    "    )\n",
    "    test_ft = test_ft.assign(**{f'opp_recent10_{col}': merged_test[f'recent10_{col}_opp']})\n",
    "    \n",
    "    # NaN값 처리 (첫 경기인 경우)\n",
    "    default_value = 0.5 if col == 'result' else 0\n",
    "    train_ft = train_ft.assign(**{\n",
    "        f'recent10_{col}': train_ft[f'recent10_{col}'].fillna(default_value),\n",
    "        f'opp_recent10_{col}': train_ft[f'opp_recent10_{col}'].fillna(default_value)\n",
    "    })\n",
    "    test_ft = test_ft.assign(**{\n",
    "        f'recent10_{col}': test_ft[f'recent10_{col}'].fillna(default_value),\n",
    "        f'opp_recent10_{col}': test_ft[f'opp_recent10_{col}'].fillna(default_value)\n",
    "    })\n",
    "    \n",
    "    # 특성 리스트에 새로운 지표 추가\n",
    "    pre_game_features.extend([f'recent10_{col}', f'opp_recent10_{col}'])\n",
    "\n",
    "# 입력 데이터 업데이트\n",
    "train_ft = train_ft[pre_game_features]\n",
    "test_ft = test_ft[pre_game_features]\n",
    "\n",
    "train_ft.shape, test_ft.shape"
   ]
  },
  {
   "cell_type": "code",
   "execution_count": 70,
   "metadata": {},
   "outputs": [
    {
     "data": {
      "text/html": [
       "<div>\n",
       "<style scoped>\n",
       "    .dataframe tbody tr th:only-of-type {\n",
       "        vertical-align: middle;\n",
       "    }\n",
       "\n",
       "    .dataframe tbody tr th {\n",
       "        vertical-align: top;\n",
       "    }\n",
       "\n",
       "    .dataframe thead th {\n",
       "        text-align: right;\n",
       "    }\n",
       "</style>\n",
       "<table border=\"1\" class=\"dataframe\">\n",
       "  <thead>\n",
       "    <tr style=\"text-align: right;\">\n",
       "      <th></th>\n",
       "      <th>gameid</th>\n",
       "      <th>patch</th>\n",
       "      <th>side</th>\n",
       "      <th>league</th>\n",
       "      <th>teamname</th>\n",
       "      <th>opp_teamname</th>\n",
       "      <th>ban1</th>\n",
       "      <th>ban2</th>\n",
       "      <th>ban3</th>\n",
       "      <th>ban4</th>\n",
       "      <th>...</th>\n",
       "      <th>recent10_wardskilled</th>\n",
       "      <th>opp_recent10_wardskilled</th>\n",
       "      <th>recent10_wcpm</th>\n",
       "      <th>opp_recent10_wcpm</th>\n",
       "      <th>recent10_controlwardsbought</th>\n",
       "      <th>opp_recent10_controlwardsbought</th>\n",
       "      <th>recent10_visionscore</th>\n",
       "      <th>opp_recent10_visionscore</th>\n",
       "      <th>recent10_vspm</th>\n",
       "      <th>opp_recent10_vspm</th>\n",
       "    </tr>\n",
       "  </thead>\n",
       "  <tbody>\n",
       "    <tr>\n",
       "      <th>0</th>\n",
       "      <td>ESPORTSTMNT01_2700815</td>\n",
       "      <td>12.01</td>\n",
       "      <td>Blue</td>\n",
       "      <td>LCK</td>\n",
       "      <td>DRX</td>\n",
       "      <td>BNK FEARX</td>\n",
       "      <td>Diana</td>\n",
       "      <td>Caitlyn</td>\n",
       "      <td>Twisted Fate</td>\n",
       "      <td>LeBlanc</td>\n",
       "      <td>...</td>\n",
       "      <td>0.000000</td>\n",
       "      <td>35.000000</td>\n",
       "      <td>0.000000</td>\n",
       "      <td>1.316600</td>\n",
       "      <td>0.00</td>\n",
       "      <td>30.0</td>\n",
       "      <td>0.000000</td>\n",
       "      <td>207.000000</td>\n",
       "      <td>0.000000</td>\n",
       "      <td>7.786800</td>\n",
       "    </tr>\n",
       "    <tr>\n",
       "      <th>1</th>\n",
       "      <td>ESPORTSTMNT01_2700815</td>\n",
       "      <td>12.01</td>\n",
       "      <td>Red</td>\n",
       "      <td>LCK</td>\n",
       "      <td>BNK FEARX</td>\n",
       "      <td>DRX</td>\n",
       "      <td>Renekton</td>\n",
       "      <td>Lee Sin</td>\n",
       "      <td>Leona</td>\n",
       "      <td>Jayce</td>\n",
       "      <td>...</td>\n",
       "      <td>35.000000</td>\n",
       "      <td>45.666667</td>\n",
       "      <td>1.316600</td>\n",
       "      <td>1.464567</td>\n",
       "      <td>30.00</td>\n",
       "      <td>40.0</td>\n",
       "      <td>207.000000</td>\n",
       "      <td>250.333333</td>\n",
       "      <td>7.786800</td>\n",
       "      <td>8.068033</td>\n",
       "    </tr>\n",
       "    <tr>\n",
       "      <th>2</th>\n",
       "      <td>ESPORTSTMNT01_2690695</td>\n",
       "      <td>12.01</td>\n",
       "      <td>Blue</td>\n",
       "      <td>LCK</td>\n",
       "      <td>DRX</td>\n",
       "      <td>BNK FEARX</td>\n",
       "      <td>Diana</td>\n",
       "      <td>Caitlyn</td>\n",
       "      <td>Yuumi</td>\n",
       "      <td>Samira</td>\n",
       "      <td>...</td>\n",
       "      <td>42.000000</td>\n",
       "      <td>0.000000</td>\n",
       "      <td>1.402250</td>\n",
       "      <td>0.000000</td>\n",
       "      <td>38.50</td>\n",
       "      <td>0.0</td>\n",
       "      <td>242.500000</td>\n",
       "      <td>0.000000</td>\n",
       "      <td>8.114050</td>\n",
       "      <td>0.000000</td>\n",
       "    </tr>\n",
       "    <tr>\n",
       "      <th>3</th>\n",
       "      <td>ESPORTSTMNT01_2690695</td>\n",
       "      <td>12.01</td>\n",
       "      <td>Red</td>\n",
       "      <td>LCK</td>\n",
       "      <td>BNK FEARX</td>\n",
       "      <td>DRX</td>\n",
       "      <td>Renekton</td>\n",
       "      <td>Lee Sin</td>\n",
       "      <td>Twisted Fate</td>\n",
       "      <td>Viktor</td>\n",
       "      <td>...</td>\n",
       "      <td>45.666667</td>\n",
       "      <td>42.000000</td>\n",
       "      <td>1.464567</td>\n",
       "      <td>1.402250</td>\n",
       "      <td>40.00</td>\n",
       "      <td>38.5</td>\n",
       "      <td>250.333333</td>\n",
       "      <td>242.500000</td>\n",
       "      <td>8.068033</td>\n",
       "      <td>8.114050</td>\n",
       "    </tr>\n",
       "    <tr>\n",
       "      <th>4</th>\n",
       "      <td>ESPORTSTMNT01_2690705</td>\n",
       "      <td>12.01</td>\n",
       "      <td>Blue</td>\n",
       "      <td>LCK</td>\n",
       "      <td>T1</td>\n",
       "      <td>Kwangdong Freecs</td>\n",
       "      <td>Lee Sin</td>\n",
       "      <td>Ryze</td>\n",
       "      <td>Viktor</td>\n",
       "      <td>LeBlanc</td>\n",
       "      <td>...</td>\n",
       "      <td>49.500000</td>\n",
       "      <td>35.000000</td>\n",
       "      <td>1.612750</td>\n",
       "      <td>1.316600</td>\n",
       "      <td>40.75</td>\n",
       "      <td>30.0</td>\n",
       "      <td>247.000000</td>\n",
       "      <td>207.000000</td>\n",
       "      <td>8.049350</td>\n",
       "      <td>7.786800</td>\n",
       "    </tr>\n",
       "  </tbody>\n",
       "</table>\n",
       "<p>5 rows × 77 columns</p>\n",
       "</div>"
      ],
      "text/plain": [
       "                  gameid  patch  side league   teamname      opp_teamname  \\\n",
       "0  ESPORTSTMNT01_2700815  12.01  Blue    LCK        DRX         BNK FEARX   \n",
       "1  ESPORTSTMNT01_2700815  12.01   Red    LCK  BNK FEARX               DRX   \n",
       "2  ESPORTSTMNT01_2690695  12.01  Blue    LCK        DRX         BNK FEARX   \n",
       "3  ESPORTSTMNT01_2690695  12.01   Red    LCK  BNK FEARX               DRX   \n",
       "4  ESPORTSTMNT01_2690705  12.01  Blue    LCK         T1  Kwangdong Freecs   \n",
       "\n",
       "       ban1     ban2          ban3     ban4  ... recent10_wardskilled  \\\n",
       "0     Diana  Caitlyn  Twisted Fate  LeBlanc  ...             0.000000   \n",
       "1  Renekton  Lee Sin         Leona    Jayce  ...            35.000000   \n",
       "2     Diana  Caitlyn         Yuumi   Samira  ...            42.000000   \n",
       "3  Renekton  Lee Sin  Twisted Fate   Viktor  ...            45.666667   \n",
       "4   Lee Sin     Ryze        Viktor  LeBlanc  ...            49.500000   \n",
       "\n",
       "  opp_recent10_wardskilled recent10_wcpm opp_recent10_wcpm  \\\n",
       "0                35.000000      0.000000          1.316600   \n",
       "1                45.666667      1.316600          1.464567   \n",
       "2                 0.000000      1.402250          0.000000   \n",
       "3                42.000000      1.464567          1.402250   \n",
       "4                35.000000      1.612750          1.316600   \n",
       "\n",
       "  recent10_controlwardsbought opp_recent10_controlwardsbought  \\\n",
       "0                        0.00                            30.0   \n",
       "1                       30.00                            40.0   \n",
       "2                       38.50                             0.0   \n",
       "3                       40.00                            38.5   \n",
       "4                       40.75                            30.0   \n",
       "\n",
       "   recent10_visionscore  opp_recent10_visionscore  recent10_vspm  \\\n",
       "0              0.000000                207.000000       0.000000   \n",
       "1            207.000000                250.333333       7.786800   \n",
       "2            242.500000                  0.000000       8.114050   \n",
       "3            250.333333                242.500000       8.068033   \n",
       "4            247.000000                207.000000       8.049350   \n",
       "\n",
       "   opp_recent10_vspm  \n",
       "0           7.786800  \n",
       "1           8.068033  \n",
       "2           0.000000  \n",
       "3           8.114050  \n",
       "4           7.786800  \n",
       "\n",
       "[5 rows x 77 columns]"
      ]
     },
     "execution_count": 70,
     "metadata": {},
     "output_type": "execute_result"
    }
   ],
   "source": [
    "train_ft.head()"
   ]
  },
  {
   "cell_type": "markdown",
   "metadata": {},
   "source": [
    "### 상대 전적"
   ]
  },
  {
   "cell_type": "code",
   "execution_count": 71,
   "metadata": {},
   "outputs": [
    {
     "data": {
      "text/plain": [
       "((9913, 78), (2324, 78))"
      ]
     },
     "execution_count": 71,
     "metadata": {},
     "output_type": "execute_result"
    }
   ],
   "source": [
    "# 팀별 맞대결 기록을 시간순으로 계산\n",
    "h2h_records = {}\n",
    "\n",
    "# 훈련 데이터와 테스트 데이터 결합 후 시간순 정렬\n",
    "combined_data = pd.concat([teams_train, teams_test], ignore_index=True)\n",
    "combined_data = combined_data.sort_values(['year', 'month', 'day'])\n",
    "\n",
    "# 각 경기마다 이전 맞대결 기록 계산\n",
    "h2h_winrates = []\n",
    "\n",
    "for idx, match in combined_data.iterrows():\n",
    "    team1, team2 = match['teamname'], match['opp_teamname']\n",
    "    year = match['year']\n",
    "    key = (team1, team2, year)\n",
    "    \n",
    "    # 현재 시점까지의 맞대결 기록 저장\n",
    "    if key not in h2h_records:\n",
    "        h2h_records[key] = {'wins': 0, 'total': 0}\n",
    "        h2h_winrates.append(0.5)  # 첫 맞대결인 경우 0.5 반환\n",
    "    else:\n",
    "        record = h2h_records[key]\n",
    "        h2h_winrates.append(record['wins'] / record['total'] if record['total'] > 0 else 0.5)\n",
    "    \n",
    "    # 현재 경기 결과 반영\n",
    "    result = match['result']\n",
    "    h2h_records[key]['total'] += 1\n",
    "    if result == 1:\n",
    "        h2h_records[key]['wins'] += 1\n",
    "        \n",
    "    # 상대팀 관점의 기록도 업데이트\n",
    "    key_reverse = (team2, team1, year)\n",
    "    if key_reverse not in h2h_records:\n",
    "        h2h_records[key_reverse] = {'wins': 0, 'total': 0}\n",
    "    h2h_records[key_reverse]['total'] += 1\n",
    "    if result == 0:\n",
    "        h2h_records[key_reverse]['wins'] += 1\n",
    "\n",
    "# 계산된 승률을 훈련/테스트 데이터에 할당\n",
    "train_ft['h2h_winrate'] = h2h_winrates[:len(teams_train)]\n",
    "test_ft['h2h_winrate'] = h2h_winrates[len(teams_train):]\n",
    "\n",
    "# 특성 리스트에 h2h_winrate 추가\n",
    "pre_game_features.append('h2h_winrate')\n",
    "\n",
    "# 입력 데이터 업데이트\n",
    "train_ft = train_ft[pre_game_features]\n",
    "test_ft = test_ft[pre_game_features]\n",
    "\n",
    "train_ft.shape, test_ft.shape"
   ]
  },
  {
   "cell_type": "markdown",
   "metadata": {},
   "source": [
    "### 각 팀의 리그별 승률"
   ]
  },
  {
   "cell_type": "code",
   "execution_count": 72,
   "metadata": {},
   "outputs": [
    {
     "data": {
      "text/plain": [
       "((9913, 79), (2324, 79))"
      ]
     },
     "execution_count": 72,
     "metadata": {},
     "output_type": "execute_result"
    }
   ],
   "source": [
    "# 팀별 리그 승률 기록을 저장할 딕셔너리\n",
    "league_records = {}\n",
    "league_winrates = []\n",
    "\n",
    "# 날짜순으로 정렬\n",
    "combined_data = pd.concat([teams_train, teams_test], ignore_index=True)\n",
    "combined_data = combined_data.sort_values('date')\n",
    "\n",
    "# 훈련 데이터에서 팀별 리그 승률 계산\n",
    "for idx, match in combined_data.iterrows():\n",
    "    team = match['teamname']\n",
    "    league = match['league']\n",
    "    year = match['year']\n",
    "    key = (team, league, year)\n",
    "    \n",
    "    # 현재 시점까지의 리그 승률 계산\n",
    "    if key not in league_records:\n",
    "        league_records[key] = {'wins': 0, 'total': 0}\n",
    "        league_winrates.append(0.5)  # 첫 경기인 경우 0.5 반환\n",
    "    else:\n",
    "        record = league_records[key]\n",
    "        league_winrates.append(record['wins'] / record['total'] if record['total'] > 0 else 0.5)\n",
    "    \n",
    "    # 현재 경기 결과 반영\n",
    "    result = match['result']\n",
    "    league_records[key]['total'] += 1\n",
    "    if result == 1:\n",
    "        league_records[key]['wins'] += 1\n",
    "\n",
    "# 계산된 승률을 훈련/테스트 데이터에 할당\n",
    "train_ft['league_winrate'] = league_winrates[:len(teams_train)]\n",
    "test_ft['league_winrate'] = league_winrates[len(teams_train):]\n",
    "\n",
    "# 특성 리스트에 league_winrate 추가\n",
    "pre_game_features.append('league_winrate')\n",
    "\n",
    "# 입력 데이터 업데이트\n",
    "train_ft = train_ft[pre_game_features]\n",
    "test_ft = test_ft[pre_game_features]\n",
    "\n",
    "train_ft.shape, test_ft.shape"
   ]
  },
  {
   "cell_type": "markdown",
   "metadata": {},
   "source": [
    "### 각 패치 버전 사이드별 승률"
   ]
  },
  {
   "cell_type": "code",
   "execution_count": 73,
   "metadata": {},
   "outputs": [],
   "source": [
    "# # 패치 버전 사이드별 승률 기록을 저장할 딕셔너리\n",
    "# patch_side_records = {}\n",
    "# patch_side_winrates = []\n",
    "\n",
    "# # 날짜순으로 정렬\n",
    "# combined_data = pd.concat([teams_train, teams_test], ignore_index=True)\n",
    "# combined_data = combined_data.sort_values('date')\n",
    "\n",
    "# # 패치/사이드별 승률 계산\n",
    "# for idx, match in combined_data.iterrows():\n",
    "#     patch = match['patch']\n",
    "#     side = match['side']\n",
    "#     key = (patch, side)\n",
    "    \n",
    "#     # 현재 시점까지의 패치/사이드별 승률 계산\n",
    "#     if key not in patch_side_records:\n",
    "#         patch_side_records[key] = {'wins': 0, 'total': 0}\n",
    "#         patch_side_winrates.append(0.5)  # 첫 경기인 경우 0.5 반환\n",
    "#     else:\n",
    "#         record = patch_side_records[key]\n",
    "#         patch_side_winrates.append(record['wins'] / record['total'] if record['total'] > 0 else 0.5)\n",
    "    \n",
    "#     # 현재 경기 결과 반영\n",
    "#     result = match['result']\n",
    "#     patch_side_records[key]['total'] += 1\n",
    "#     if result == 1:\n",
    "#         patch_side_records[key]['wins'] += 1\n",
    "\n",
    "# # 계산된 승률을 훈련/테스트 데이터에 할당\n",
    "# train_ft['patch_side_winrate'] = patch_side_winrates[:len(teams_train)]\n",
    "# test_ft['patch_side_winrate'] = patch_side_winrates[len(teams_train):]\n",
    "\n",
    "# # 특성 리스트에 patch_side_winrate 추가\n",
    "# pre_game_features.append('patch_side_winrate')\n",
    "\n",
    "# # 입력 데이터 업데이트\n",
    "# train_ft = train_ft[pre_game_features]\n",
    "# test_ft = test_ft[pre_game_features]\n",
    "\n",
    "# train_ft.shape, test_ft.shape"
   ]
  },
  {
   "cell_type": "markdown",
   "metadata": {},
   "source": [
    "### 픽 챔피언 지표"
   ]
  },
  {
   "cell_type": "code",
   "execution_count": 74,
   "metadata": {},
   "outputs": [],
   "source": [
    "# df = teams_train.copy()\n",
    "# df = df.sort_values([\"teamname\", \"date\", \"gameid\"])  # 시계열 정렬\n",
    "\n",
    "# for slot in [\"pick1\", \"pick2\", \"pick3\", \"pick4\", \"pick5\"]:\n",
    "#     # 1) 챔피언 컬럼 만들기\n",
    "#     df_pick = df[[\"gameid\", \"teamname\", \"date\", \"result\", slot]].copy()\n",
    "#     df_pick.rename(columns={slot: \"champion\"}, inplace=True)\n",
    "\n",
    "#     # 2) 챔피언을 category로 바꾸면 메모리 절약에 도움\n",
    "#     df_pick[\"champion\"] = df_pick[\"champion\"].astype(\"category\")\n",
    "\n",
    "#     # 3) groupby + cumsum + shift(1)로 \"직전까지\" 누적\n",
    "#     df_pick[\"pick_ind\"] = 1\n",
    "#     df_pick[\"win_ind\"] = (df_pick[\"result\"] == 1).astype(int)\n",
    "\n",
    "#     df_pick[\"cum_pick_count\"] = (\n",
    "#         df_pick.groupby([\"teamname\", \"champion\"], observed=True)[\"pick_ind\"].cumsum().shift(1)\n",
    "#     )\n",
    "#     df_pick[\"cum_win_count\"] = (\n",
    "#         df_pick.groupby([\"teamname\", \"champion\"], observed=True)[\"win_ind\"].cumsum().shift(1)\n",
    "#     )\n",
    "#     df_pick[\"cum_win_rate\"] = (\n",
    "#         df_pick[\"cum_win_count\"] / df_pick[\"cum_pick_count\"]\n",
    "#     ).fillna(0)\n",
    "\n",
    "#     # 4) 필요한 컬럼만 남겨서, 컬럼 이름으로 바꾸기\n",
    "#     df_pick = df_pick[\n",
    "#         [\"gameid\", \"teamname\", \"date\", \"champion\", \"cum_pick_count\", \"cum_win_rate\"]\n",
    "#     ].copy()\n",
    "\n",
    "#     df_pick.rename(\n",
    "#         columns={\n",
    "#             \"champion\": f\"{slot}_champion\",  # 구분용\n",
    "#             \"cum_pick_count\": f\"{slot}_cum_pick_count\",\n",
    "#             \"cum_win_rate\": f\"{slot}_cum_win_rate\",\n",
    "#         },\n",
    "#         inplace=True,\n",
    "#     )\n",
    "    \n",
    "#     # 5) 원본 df와 merge\n",
    "#     df = pd.merge(\n",
    "#         df,\n",
    "#         df_pick[\n",
    "#             [\n",
    "#                 \"gameid\",\n",
    "#                 \"teamname\",\n",
    "#                 \"date\",\n",
    "#                 f\"{slot}_champion\",\n",
    "#                 f\"{slot}_cum_pick_count\",\n",
    "#                 f\"{slot}_cum_win_rate\",\n",
    "#             ]\n",
    "#         ],\n",
    "#         left_on=[\"gameid\", \"teamname\", \"date\", f\"{slot}\"],  # 조인 키\n",
    "#         right_on=[\"gameid\", \"teamname\", \"date\", f\"{slot}_champion\"],\n",
    "#         how=\"left\",\n",
    "#     )"
   ]
  },
  {
   "cell_type": "markdown",
   "metadata": {},
   "source": [
    "# 인코딩"
   ]
  },
  {
   "cell_type": "code",
   "execution_count": 75,
   "metadata": {},
   "outputs": [],
   "source": [
    "train_ft[\"side\"] = train_ft[\"side\"].map({\"Blue\": 0, \"Red\": 1}) # 진영 인코딩\n",
    "test_ft[\"side\"] = test_ft[\"side\"].map({\"Blue\": 0, \"Red\": 1})"
   ]
  },
  {
   "cell_type": "code",
   "execution_count": 76,
   "metadata": {},
   "outputs": [],
   "source": [
    "from sklearn.preprocessing import LabelEncoder\n",
    "from sklearn.preprocessing import OneHotEncoder\n",
    "\n",
    "cat_train_ft = train_ft.copy()\n",
    "cat_test_ft = test_ft.copy()\n",
    "\n",
    "def preprocess(train_ft, test_ft):\n",
    "    champion_columns_teams = ['ban1', 'ban2', 'ban3', 'ban4', 'ban5', 'pick1', 'pick2', 'pick3', 'pick4', 'pick5'] # 챔피언 레이블인코딩\n",
    "\n",
    "    champions = pd.concat([\n",
    "        train_ft[champion_columns_teams],\n",
    "        test_ft[champion_columns_teams],\n",
    "    ]).stack().unique()\n",
    "\n",
    "    champions_df = pd.DataFrame({'champion': champions})\n",
    "    champions_df = champions_df.dropna().reset_index(drop=True)\n",
    "\n",
    "    le = LabelEncoder()\n",
    "    champions_df['champion_encoded'] = le.fit_transform(champions_df['champion'])\n",
    "\n",
    "    for col in champion_columns_teams:\n",
    "        train_ft[col] = le.transform(train_ft[col])\n",
    "        test_ft[col] = le.transform(test_ft[col])\n",
    "        \n",
    "    encoder = OneHotEncoder() # 리그 원핫인코딩\n",
    "    league_encoded = encoder.fit_transform(train_ft[[\"league\"]]).toarray()\n",
    "    league_cols = [f\"league_{col}\" for col in encoder.categories_[0]]\n",
    "    train_ft = pd.concat(\n",
    "        [train_ft, pd.DataFrame(league_encoded, columns=league_cols)], axis=1\n",
    "    )\n",
    "    train_ft.drop(\"league\", axis=1, inplace=True)\n",
    "\n",
    "    league_encoded = encoder.transform(test_ft[[\"league\"]]).toarray()\n",
    "    test_ft = pd.concat(\n",
    "        [test_ft, pd.DataFrame(league_encoded, columns=league_cols)], axis=1\n",
    "    )\n",
    "    test_ft.drop(\"league\", axis=1, inplace=True)\n",
    "\n",
    "    le_team = LabelEncoder()\n",
    "    all_team_names = pd.concat(\n",
    "        [\n",
    "            train_ft[\"teamname\"],\n",
    "            test_ft[\"teamname\"],\n",
    "            train_ft[\"opp_teamname\"],\n",
    "            test_ft[\"opp_teamname\"],\n",
    "        ]\n",
    "    )\n",
    "    le_team.fit(all_team_names)\n",
    "\n",
    "    train_ft[\"teamname\"] = le_team.transform(train_ft[\"teamname\"])\n",
    "    train_ft[\"opp_teamname\"] = le_team.transform(train_ft[\"opp_teamname\"])\n",
    "\n",
    "    test_ft[\"teamname\"] = le_team.transform(test_ft[\"teamname\"])\n",
    "    test_ft[\"opp_teamname\"] = le_team.transform(test_ft[\"opp_teamname\"])\n",
    "    \n",
    "    return train_ft, test_ft\n",
    "\n",
    "train_ft, test_ft = preprocess(train_ft, test_ft)"
   ]
  },
  {
   "cell_type": "code",
   "execution_count": 77,
   "metadata": {},
   "outputs": [
    {
     "data": {
      "text/plain": [
       "(Index(['gameid'], dtype='object'), Index(['gameid'], dtype='object'))"
      ]
     },
     "execution_count": 77,
     "metadata": {},
     "output_type": "execute_result"
    }
   ],
   "source": [
    "train_ft.select_dtypes(\"object\").columns, test_ft.select_dtypes(\"object\").columns"
   ]
  },
  {
   "cell_type": "markdown",
   "metadata": {},
   "source": [
    "# 스케일링"
   ]
  },
  {
   "cell_type": "code",
   "execution_count": 78,
   "metadata": {},
   "outputs": [],
   "source": [
    "from sklearn.preprocessing import MinMaxScaler\n",
    "\n",
    "scaler = MinMaxScaler()\n",
    "\n",
    "\n",
    "def scale(train_ft, test_ft):\n",
    "    train_ft[train_ft.select_dtypes(\"number\").columns] = scaler.fit_transform(\n",
    "        train_ft[train_ft.select_dtypes(\"number\").columns]\n",
    "    )\n",
    "    test_ft[test_ft.select_dtypes(\"number\").columns] = scaler.transform(\n",
    "        test_ft[test_ft.select_dtypes(\"number\").columns]\n",
    "    )\n",
    "    return train_ft, test_ft\n",
    "\n",
    "\n",
    "train_ft, test_ft = scale(train_ft, test_ft)\n",
    "cat_train_ft, cat_test_ft = scale(cat_train_ft, cat_test_ft)"
   ]
  },
  {
   "cell_type": "markdown",
   "metadata": {},
   "source": [
    "# 모델 학습 및 검증"
   ]
  },
  {
   "cell_type": "markdown",
   "metadata": {},
   "source": [
    "- 하이퍼파라미터 튜닝 클래스"
   ]
  },
  {
   "cell_type": "code",
   "execution_count": 79,
   "metadata": {},
   "outputs": [],
   "source": [
    "import optuna\n",
    "from sklearn.model_selection import TimeSeriesSplit, cross_val_score\n",
    "\n",
    "class HyperparameterTuner:\n",
    "    def __init__(self, model, params, train, target, cat_features=None):\n",
    "        self.model = model\n",
    "        self.params = params\n",
    "        self.train = train\n",
    "        self.target = target\n",
    "        self.cat_features = cat_features\n",
    "        self.cv = TimeSeriesSplit(n_splits=5)\n",
    "        self.study = optuna.create_study(direction=\"maximize\")\n",
    "\n",
    "    def objective(self, trial):\n",
    "        params = {}\n",
    "        \n",
    "        for param_name, param_range in self.params.items():\n",
    "            if param_range[\"type\"] == \"int\":\n",
    "                params[param_name] = trial.suggest_int(\n",
    "                    param_name, param_range[\"min\"], param_range[\"max\"]\n",
    "                )\n",
    "            elif param_range[\"type\"] == \"float\":\n",
    "                params[param_name] = trial.suggest_float(\n",
    "                    param_name, param_range[\"min\"], param_range[\"max\"]\n",
    "                )\n",
    "            elif param_range[\"type\"] == \"categorical\":\n",
    "                params[param_name] = trial.suggest_categorical(\n",
    "                    param_name, param_range[\"values\"]\n",
    "                )\n",
    "        if self.model == CatBoostClassifier:\n",
    "            model = self.model(**params, cat_features=self.cat_features)\n",
    "        else:\n",
    "            model = self.model(**params)\n",
    "\n",
    "        model.fit(self.train, self.target)\n",
    "            \n",
    "        scores = cross_val_score(\n",
    "            model, self.train, self.target, cv=self.cv, scoring=\"accuracy\", n_jobs=-1\n",
    "        ).mean()\n",
    "        return scores\n",
    "\n",
    "    def optimize(self, n_trials):\n",
    "        self.study.optimize(self.objective, n_trials=n_trials)\n",
    "\n",
    "    def best_params(self):\n",
    "        return self.study.best_params\n",
    "\n",
    "    def best_score(self):\n",
    "        return self.study.best_value"
   ]
  },
  {
   "cell_type": "markdown",
   "metadata": {},
   "source": [
    "### 모든 컬럼 형식이 number인 데이터셋"
   ]
  },
  {
   "cell_type": "code",
   "execution_count": 80,
   "metadata": {},
   "outputs": [],
   "source": [
    "pre_game_features.remove(\"league\")\n",
    "\n",
    "cutoff_patch = train_ft[\"patch\"].quantile(0.8)\n",
    "train_games = train_ft[train_ft[\"patch\"] < cutoff_patch][\"gameid\"].unique()\n",
    "valid_games = train_ft[train_ft[\"patch\"] >= cutoff_patch][\"gameid\"].unique()\n",
    "\n",
    "train_x = train_ft[train_ft[\"gameid\"].isin(train_games)][pre_game_features]\n",
    "valid_x = train_ft[train_ft[\"gameid\"].isin(valid_games)][pre_game_features]\n",
    "\n",
    "train_y = teams_train_target[teams_train_target[\"gameid\"].isin(train_games)][\"result\"]\n",
    "valid_y = teams_train_target[teams_train_target[\"gameid\"].isin(valid_games)][\"result\"]\n",
    "\n",
    "train_x.drop(columns=[\"gameid\"], inplace=True)\n",
    "valid_x.drop(columns=[\"gameid\"], inplace=True)"
   ]
  },
  {
   "cell_type": "code",
   "execution_count": 20,
   "metadata": {},
   "outputs": [
    {
     "name": "stdout",
     "output_type": "stream",
     "text": [
      "LogisticRegression : 0.6663587374903772, 0.02506645631585489\n",
      "LGBMClassifier : 0.7153194765204003, 0.0462211848391806\n",
      "RandomForestClassifier : 0.6605080831408776, 0.03514307070211957\n",
      "HistGradientBoostingClassifier : 0.7183987682832949, 0.05259057124928453\n",
      "AdaBoostClassifier : 0.657428791377983, 0.034324090545970666\n",
      "SVC : 0.6558891454965358, 0.024397436759804655\n",
      "XGBClassifier : 0.7085450346420323, 0.03684421170357534\n",
      "CatBoostClassifier : 0.7040800615858352, 0.03792845052087791\n"
     ]
    }
   ],
   "source": [
    "from sklearn.metrics import accuracy_score\n",
    "from sklearn.linear_model import LogisticRegression\n",
    "from lightgbm import LGBMClassifier\n",
    "from sklearn.ensemble import AdaBoostClassifier, HistGradientBoostingClassifier, RandomForestClassifier\n",
    "from sklearn.metrics import classification_report\n",
    "from sklearn.svm import SVC\n",
    "from xgboost import XGBClassifier\n",
    "from catboost import CatBoostClassifier\n",
    "\n",
    "\n",
    "models = [\n",
    "    LogisticRegression(random_state=SEED),\n",
    "    LGBMClassifier(random_state=SEED, n_jobs=-1),\n",
    "    RandomForestClassifier(random_state=SEED, n_jobs=-1),\n",
    "    HistGradientBoostingClassifier(random_state=SEED),\n",
    "    AdaBoostClassifier(random_state=SEED),\n",
    "    SVC(random_state=SEED),\n",
    "    XGBClassifier(random_state=SEED, n_jobs=-1),\n",
    "    CatBoostClassifier(random_state=SEED, verbose=0),\n",
    "]\n",
    "\n",
    "for model in models:\n",
    "    scores = cross_val_score(model, train_x, train_y, cv=TimeSeriesSplit(5), scoring=\"accuracy\", n_jobs=-1)\n",
    "    print(f\"{model.__class__.__name__} : {np.mean(scores)}, {np.std(scores)}\")"
   ]
  },
  {
   "cell_type": "markdown",
   "metadata": {},
   "source": [
    "- LogisticRegression"
   ]
  },
  {
   "cell_type": "code",
   "execution_count": 21,
   "metadata": {},
   "outputs": [
    {
     "name": "stderr",
     "output_type": "stream",
     "text": [
      "[I 2025-01-06 09:03:44,782] A new study created in memory with name: no-name-e237ba82-80ac-40fb-a5d9-364d36cfa360\n",
      "c:\\Users\\kwon3\\AppData\\Local\\Programs\\Python\\Python310\\lib\\site-packages\\sklearn\\linear_model\\_sag.py:349: ConvergenceWarning: The max_iter was reached which means the coef_ did not converge\n",
      "  warnings.warn(\n",
      "[I 2025-01-06 09:03:47,543] Trial 0 finished with value: 0.6652809853733641 and parameters: {'C': 6.643460211427657, 'penalty': 'l1', 'solver': 'saga', 'max_iter': 272}. Best is trial 0 with value: 0.6652809853733641.\n",
      "[I 2025-01-06 09:04:00,504] Trial 1 finished with value: 0.6648190916089299 and parameters: {'C': 6.140850379802095, 'penalty': 'l1', 'solver': 'liblinear', 'max_iter': 1117}. Best is trial 0 with value: 0.6652809853733641.\n",
      "[I 2025-01-06 09:04:03,594] Trial 2 finished with value: 0.6657428791377983 and parameters: {'C': 3.881754436771767, 'penalty': 'l1', 'solver': 'liblinear', 'max_iter': 590}. Best is trial 2 with value: 0.6657428791377983.\n",
      "[I 2025-01-06 09:04:06,219] Trial 3 finished with value: 0.6629715165511932 and parameters: {'C': 6.828068755388412, 'penalty': 'l2', 'solver': 'saga', 'max_iter': 786}. Best is trial 2 with value: 0.6657428791377983.\n",
      "[I 2025-01-06 09:04:06,609] Trial 4 finished with value: 0.6640492686682063 and parameters: {'C': 9.920278432865556, 'penalty': 'l2', 'solver': 'liblinear', 'max_iter': 270}. Best is trial 2 with value: 0.6657428791377983.\n",
      "[I 2025-01-06 09:04:09,595] Trial 5 finished with value: 0.6629715165511932 and parameters: {'C': 8.056767587599422, 'penalty': 'l2', 'solver': 'saga', 'max_iter': 1164}. Best is trial 2 with value: 0.6657428791377983.\n",
      "[I 2025-01-06 09:04:23,667] Trial 6 finished with value: 0.6646651270207852 and parameters: {'C': 8.373758466558014, 'penalty': 'l1', 'solver': 'liblinear', 'max_iter': 1094}. Best is trial 2 with value: 0.6657428791377983.\n",
      "[I 2025-01-06 09:04:27,223] Trial 7 finished with value: 0.6654349499615089 and parameters: {'C': 4.100285370068719, 'penalty': 'l1', 'solver': 'liblinear', 'max_iter': 1900}. Best is trial 2 with value: 0.6657428791377983.\n",
      "c:\\Users\\kwon3\\AppData\\Local\\Programs\\Python\\Python310\\lib\\site-packages\\sklearn\\linear_model\\_sag.py:349: ConvergenceWarning: The max_iter was reached which means the coef_ did not converge\n",
      "  warnings.warn(\n",
      "[I 2025-01-06 09:04:28,678] Trial 8 finished with value: 0.6642032332563511 and parameters: {'C': 9.934540037343142, 'penalty': 'l1', 'solver': 'saga', 'max_iter': 133}. Best is trial 2 with value: 0.6657428791377983.\n",
      "[I 2025-01-06 09:04:32,433] Trial 9 finished with value: 0.6651270207852193 and parameters: {'C': 4.570091328207827, 'penalty': 'l1', 'solver': 'saga', 'max_iter': 1373}. Best is trial 2 with value: 0.6657428791377983.\n",
      "[I 2025-01-06 09:04:32,688] Trial 10 finished with value: 0.6657428791377983 and parameters: {'C': 1.4639526913485352, 'penalty': 'l2', 'solver': 'liblinear', 'max_iter': 619}. Best is trial 2 with value: 0.6657428791377983.\n",
      "[I 2025-01-06 09:04:32,959] Trial 11 finished with value: 0.6655889145496536 and parameters: {'C': 1.251765985784354, 'penalty': 'l2', 'solver': 'liblinear', 'max_iter': 668}. Best is trial 2 with value: 0.6657428791377983.\n",
      "[I 2025-01-06 09:04:33,260] Trial 12 finished with value: 0.6657428791377983 and parameters: {'C': 1.4255577150979797, 'penalty': 'l2', 'solver': 'liblinear', 'max_iter': 638}. Best is trial 2 with value: 0.6657428791377983.\n",
      "[I 2025-01-06 09:04:33,560] Trial 13 finished with value: 0.665896843725943 and parameters: {'C': 3.068784803730005, 'penalty': 'l2', 'solver': 'liblinear', 'max_iter': 523}. Best is trial 13 with value: 0.665896843725943.\n",
      "[I 2025-01-06 09:04:37,450] Trial 14 finished with value: 0.6674364896073903 and parameters: {'C': 3.1576598106251614, 'penalty': 'l1', 'solver': 'liblinear', 'max_iter': 454}. Best is trial 14 with value: 0.6674364896073903.\n",
      "[I 2025-01-06 09:04:37,750] Trial 15 finished with value: 0.6657428791377983 and parameters: {'C': 2.7951627079551495, 'penalty': 'l2', 'solver': 'liblinear', 'max_iter': 339}. Best is trial 14 with value: 0.6674364896073903.\n",
      "[I 2025-01-06 09:04:38,215] Trial 16 finished with value: 0.6694380292532717 and parameters: {'C': 0.2017472165355021, 'penalty': 'l1', 'solver': 'liblinear', 'max_iter': 856}. Best is trial 16 with value: 0.6694380292532717.\n",
      "[I 2025-01-06 09:04:38,365] Trial 17 finished with value: 0.6526558891454965 and parameters: {'C': 0.011253595181160508, 'penalty': 'l1', 'solver': 'liblinear', 'max_iter': 930}. Best is trial 16 with value: 0.6694380292532717.\n",
      "[I 2025-01-06 09:04:38,711] Trial 18 finished with value: 0.669284064665127 and parameters: {'C': 0.11383755337722556, 'penalty': 'l1', 'solver': 'liblinear', 'max_iter': 1467}. Best is trial 16 with value: 0.6694380292532717.\n",
      "[I 2025-01-06 09:04:38,920] Trial 19 finished with value: 0.6671285604311009 and parameters: {'C': 0.052901061632750684, 'penalty': 'l1', 'solver': 'liblinear', 'max_iter': 1532}. Best is trial 16 with value: 0.6694380292532717.\n",
      "[I 2025-01-06 09:04:44,246] Trial 20 finished with value: 0.6677444187836797 and parameters: {'C': 2.0177020931398193, 'penalty': 'l1', 'solver': 'liblinear', 'max_iter': 1694}. Best is trial 16 with value: 0.6694380292532717.\n",
      "[I 2025-01-06 09:04:45,956] Trial 21 finished with value: 0.6691301000769823 and parameters: {'C': 0.9272305641993013, 'penalty': 'l1', 'solver': 'liblinear', 'max_iter': 1812}. Best is trial 16 with value: 0.6694380292532717.\n",
      "[I 2025-01-06 09:04:47,306] Trial 22 finished with value: 0.6688221709006928 and parameters: {'C': 0.8030036246798367, 'penalty': 'l1', 'solver': 'liblinear', 'max_iter': 1980}. Best is trial 16 with value: 0.6694380292532717.\n",
      "[I 2025-01-06 09:04:55,962] Trial 23 finished with value: 0.6682063125481139 and parameters: {'C': 2.221166420940964, 'penalty': 'l1', 'solver': 'liblinear', 'max_iter': 1396}. Best is trial 16 with value: 0.6694380292532717.\n",
      "[I 2025-01-06 09:04:56,922] Trial 24 finished with value: 0.6702078521939955 and parameters: {'C': 0.5583001354738086, 'penalty': 'l1', 'solver': 'liblinear', 'max_iter': 1754}. Best is trial 24 with value: 0.6702078521939955.\n",
      "[I 2025-01-06 09:04:57,087] Trial 25 finished with value: 0.6603541185527328 and parameters: {'C': 0.02186182693807373, 'penalty': 'l1', 'solver': 'liblinear', 'max_iter': 1629}. Best is trial 24 with value: 0.6702078521939955.\n",
      "[I 2025-01-06 09:04:57,702] Trial 26 finished with value: 0.6691301000769824 and parameters: {'C': 0.6542559216558083, 'penalty': 'l1', 'solver': 'saga', 'max_iter': 1300}. Best is trial 24 with value: 0.6702078521939955.\n",
      "[I 2025-01-06 09:05:05,700] Trial 27 finished with value: 0.667590454195535 and parameters: {'C': 2.1391484152330085, 'penalty': 'l1', 'solver': 'liblinear', 'max_iter': 829}. Best is trial 24 with value: 0.6702078521939955.\n",
      "[I 2025-01-06 09:05:06,659] Trial 28 finished with value: 0.6694380292532718 and parameters: {'C': 0.6204185740338064, 'penalty': 'l1', 'solver': 'liblinear', 'max_iter': 1511}. Best is trial 24 with value: 0.6702078521939955.\n",
      "[I 2025-01-06 09:05:12,359] Trial 29 finished with value: 0.6648190916089299 and parameters: {'C': 5.691140422339389, 'penalty': 'l1', 'solver': 'saga', 'max_iter': 1238}. Best is trial 24 with value: 0.6702078521939955.\n",
      "[I 2025-01-06 09:05:18,014] Trial 30 finished with value: 0.6671285604311008 and parameters: {'C': 1.786490472412999, 'penalty': 'l1', 'solver': 'liblinear', 'max_iter': 971}. Best is trial 24 with value: 0.6702078521939955.\n",
      "[I 2025-01-06 09:05:19,052] Trial 31 finished with value: 0.6695919938414165 and parameters: {'C': 0.5904977854792893, 'penalty': 'l1', 'solver': 'liblinear', 'max_iter': 1494}. Best is trial 24 with value: 0.6702078521939955.\n",
      "[I 2025-01-06 09:05:20,042] Trial 32 finished with value: 0.6694380292532718 and parameters: {'C': 0.6168714631744077, 'penalty': 'l1', 'solver': 'liblinear', 'max_iter': 1738}. Best is trial 24 with value: 0.6702078521939955.\n",
      "[I 2025-01-06 09:05:25,247] Trial 33 finished with value: 0.6672825250192456 and parameters: {'C': 2.52075126713001, 'penalty': 'l1', 'solver': 'liblinear', 'max_iter': 1734}. Best is trial 24 with value: 0.6702078521939955.\n",
      "[I 2025-01-06 09:05:27,122] Trial 34 finished with value: 0.669899923017706 and parameters: {'C': 1.0662467111902663, 'penalty': 'l1', 'solver': 'liblinear', 'max_iter': 1590}. Best is trial 24 with value: 0.6702078521939955.\n",
      "[I 2025-01-06 09:05:29,825] Trial 35 finished with value: 0.6698999230177058 and parameters: {'C': 1.2303653194205753, 'penalty': 'l1', 'solver': 'liblinear', 'max_iter': 1566}. Best is trial 24 with value: 0.6702078521939955.\n",
      "[I 2025-01-06 09:05:33,275] Trial 36 finished with value: 0.6655889145496536 and parameters: {'C': 3.931404262134138, 'penalty': 'l1', 'solver': 'liblinear', 'max_iter': 1613}. Best is trial 24 with value: 0.6702078521939955.\n",
      "[I 2025-01-06 09:05:34,700] Trial 37 finished with value: 0.6682063125481139 and parameters: {'C': 1.3649309487921553, 'penalty': 'l1', 'solver': 'saga', 'max_iter': 1846}. Best is trial 24 with value: 0.6702078521939955.\n",
      "[I 2025-01-06 09:05:38,420] Trial 38 finished with value: 0.6668206312548113 and parameters: {'C': 3.468811080761464, 'penalty': 'l1', 'solver': 'liblinear', 'max_iter': 1240}. Best is trial 24 with value: 0.6702078521939955.\n",
      "[I 2025-01-06 09:05:52,478] Trial 39 finished with value: 0.6646651270207852 and parameters: {'C': 6.9186856513602315, 'penalty': 'l1', 'solver': 'liblinear', 'max_iter': 1967}. Best is trial 24 with value: 0.6702078521939955.\n",
      "[I 2025-01-06 09:05:55,106] Trial 40 finished with value: 0.6683602771362586 and parameters: {'C': 1.8838701043562263, 'penalty': 'l1', 'solver': 'saga', 'max_iter': 1600}. Best is trial 24 with value: 0.6702078521939955.\n",
      "[I 2025-01-06 09:05:56,953] Trial 41 finished with value: 0.6697459584295613 and parameters: {'C': 0.9688697049951497, 'penalty': 'l1', 'solver': 'liblinear', 'max_iter': 1492}. Best is trial 24 with value: 0.6702078521939955.\n",
      "[I 2025-01-06 09:06:00,105] Trial 42 finished with value: 0.6689761354888375 and parameters: {'C': 1.3685245812406155, 'penalty': 'l1', 'solver': 'liblinear', 'max_iter': 1452}. Best is trial 24 with value: 0.6702078521939955.\n",
      "[I 2025-01-06 09:06:01,877] Trial 43 finished with value: 0.6700538876058506 and parameters: {'C': 1.0344523736496174, 'penalty': 'l1', 'solver': 'liblinear', 'max_iter': 1347}. Best is trial 24 with value: 0.6702078521939955.\n",
      "[I 2025-01-06 09:06:03,692] Trial 44 finished with value: 0.6705157813702848 and parameters: {'C': 1.1070513139135627, 'penalty': 'l1', 'solver': 'liblinear', 'max_iter': 1404}. Best is trial 44 with value: 0.6705157813702848.\n",
      "[I 2025-01-06 09:06:03,993] Trial 45 finished with value: 0.6660508083140877 and parameters: {'C': 2.3924373195696185, 'penalty': 'l2', 'solver': 'liblinear', 'max_iter': 1357}. Best is trial 44 with value: 0.6705157813702848.\n",
      "[I 2025-01-06 09:06:12,096] Trial 46 finished with value: 0.6652809853733641 and parameters: {'C': 4.846766440987446, 'penalty': 'l1', 'solver': 'liblinear', 'max_iter': 1178}. Best is trial 44 with value: 0.6705157813702848.\n",
      "[I 2025-01-06 09:06:26,827] Trial 47 finished with value: 0.6654349499615089 and parameters: {'C': 9.307525070255071, 'penalty': 'l1', 'solver': 'liblinear', 'max_iter': 1099}. Best is trial 44 with value: 0.6705157813702848.\n",
      "[I 2025-01-06 09:06:29,033] Trial 48 finished with value: 0.6677444187836797 and parameters: {'C': 1.6283794886462244, 'penalty': 'l1', 'solver': 'saga', 'max_iter': 1838}. Best is trial 44 with value: 0.6705157813702848.\n",
      "[I 2025-01-06 09:06:29,273] Trial 49 finished with value: 0.6655889145496536 and parameters: {'C': 1.1004356034612846, 'penalty': 'l2', 'solver': 'liblinear', 'max_iter': 1655}. Best is trial 44 with value: 0.6705157813702848.\n",
      "[I 2025-01-06 09:06:32,411] Trial 50 finished with value: 0.6668206312548114 and parameters: {'C': 3.5297361024227207, 'penalty': 'l1', 'solver': 'liblinear', 'max_iter': 1567}. Best is trial 44 with value: 0.6705157813702848.\n",
      "[I 2025-01-06 09:06:33,927] Trial 51 finished with value: 0.6691301000769823 and parameters: {'C': 0.9194489030211042, 'penalty': 'l1', 'solver': 'liblinear', 'max_iter': 1323}. Best is trial 44 with value: 0.6705157813702848.\n",
      "[I 2025-01-06 09:06:37,421] Trial 52 finished with value: 0.6682063125481139 and parameters: {'C': 1.5602730321095575, 'penalty': 'l1', 'solver': 'liblinear', 'max_iter': 1399}. Best is trial 44 with value: 0.6705157813702848.\n",
      "[I 2025-01-06 09:06:38,261] Trial 53 finished with value: 0.6709776751347191 and parameters: {'C': 0.5285172190081168, 'penalty': 'l1', 'solver': 'liblinear', 'max_iter': 1720}. Best is trial 53 with value: 0.6709776751347191.\n",
      "[I 2025-01-06 09:06:43,211] Trial 54 finished with value: 0.6672825250192456 and parameters: {'C': 2.5384018489525717, 'penalty': 'l1', 'solver': 'liblinear', 'max_iter': 1752}. Best is trial 53 with value: 0.6709776751347191.\n",
      "[I 2025-01-06 09:06:43,421] Trial 55 finished with value: 0.6671285604311009 and parameters: {'C': 0.3330413844390451, 'penalty': 'l2', 'solver': 'liblinear', 'max_iter': 1765}. Best is trial 53 with value: 0.6709776751347191.\n",
      "[I 2025-01-06 09:06:44,111] Trial 56 finished with value: 0.6709776751347191 and parameters: {'C': 0.4033049485717608, 'penalty': 'l1', 'solver': 'liblinear', 'max_iter': 1877}. Best is trial 53 with value: 0.6709776751347191.\n",
      "[I 2025-01-06 09:06:44,816] Trial 57 finished with value: 0.6703618167821401 and parameters: {'C': 0.43367522138753023, 'penalty': 'l1', 'solver': 'liblinear', 'max_iter': 1852}. Best is trial 53 with value: 0.6709776751347191.\n",
      "[I 2025-01-06 09:06:45,506] Trial 58 finished with value: 0.6705157813702849 and parameters: {'C': 0.4236413751070774, 'penalty': 'l1', 'solver': 'liblinear', 'max_iter': 1836}. Best is trial 53 with value: 0.6709776751347191.\n",
      "[I 2025-01-06 09:06:46,151] Trial 59 finished with value: 0.6712856043110085 and parameters: {'C': 0.38414964961856957, 'penalty': 'l1', 'solver': 'liblinear', 'max_iter': 1903}. Best is trial 59 with value: 0.6712856043110085.\n",
      "[I 2025-01-06 09:06:46,376] Trial 60 finished with value: 0.6674364896073903 and parameters: {'C': 0.32687605160641797, 'penalty': 'l2', 'solver': 'liblinear', 'max_iter': 1928}. Best is trial 59 with value: 0.6712856043110085.\n",
      "[I 2025-01-06 09:06:47,081] Trial 61 finished with value: 0.6705157813702849 and parameters: {'C': 0.42750714193345046, 'penalty': 'l1', 'solver': 'liblinear', 'max_iter': 1905}. Best is trial 59 with value: 0.6712856043110085.\n",
      "[I 2025-01-06 09:06:47,756] Trial 62 finished with value: 0.6711316397228637 and parameters: {'C': 0.37686580173671114, 'penalty': 'l1', 'solver': 'liblinear', 'max_iter': 1917}. Best is trial 59 with value: 0.6712856043110085.\n",
      "[I 2025-01-06 09:06:48,281] Trial 63 finished with value: 0.6708237105465743 and parameters: {'C': 0.32147444070218145, 'penalty': 'l1', 'solver': 'liblinear', 'max_iter': 1917}. Best is trial 59 with value: 0.6712856043110085.\n",
      "[I 2025-01-06 09:06:48,806] Trial 64 finished with value: 0.6708237105465743 and parameters: {'C': 0.2785500738938499, 'penalty': 'l1', 'solver': 'liblinear', 'max_iter': 1925}. Best is trial 59 with value: 0.6712856043110085.\n",
      "[I 2025-01-06 09:06:49,076] Trial 65 finished with value: 0.6680523479599693 and parameters: {'C': 0.07939507796619061, 'penalty': 'l1', 'solver': 'liblinear', 'max_iter': 1995}. Best is trial 59 with value: 0.6712856043110085.\n",
      "[I 2025-01-06 09:06:50,291] Trial 66 finished with value: 0.6677444187836798 and parameters: {'C': 0.7712643763275988, 'penalty': 'l1', 'solver': 'liblinear', 'max_iter': 1911}. Best is trial 59 with value: 0.6712856043110085.\n",
      "[I 2025-01-06 09:06:50,771] Trial 67 finished with value: 0.6695919938414165 and parameters: {'C': 0.2986518258356653, 'penalty': 'l1', 'solver': 'saga', 'max_iter': 1807}. Best is trial 59 with value: 0.6712856043110085.\n",
      "[I 2025-01-06 09:07:04,901] Trial 68 finished with value: 0.6646651270207853 and parameters: {'C': 7.6517169817972155, 'penalty': 'l1', 'solver': 'liblinear', 'max_iter': 1665}. Best is trial 59 with value: 0.6712856043110085.\n",
      "[I 2025-01-06 09:07:09,968] Trial 69 finished with value: 0.6678983833718244 and parameters: {'C': 1.8472956261370874, 'penalty': 'l1', 'solver': 'liblinear', 'max_iter': 1876}. Best is trial 59 with value: 0.6712856043110085.\n",
      "[I 2025-01-06 09:07:11,153] Trial 70 finished with value: 0.6675904541955351 and parameters: {'C': 0.7595695673748586, 'penalty': 'l1', 'solver': 'liblinear', 'max_iter': 1959}. Best is trial 59 with value: 0.6712856043110085.\n",
      "[I 2025-01-06 09:07:11,783] Trial 71 finished with value: 0.6709776751347191 and parameters: {'C': 0.3752581379769841, 'penalty': 'l1', 'solver': 'liblinear', 'max_iter': 1898}. Best is trial 59 with value: 0.6712856043110085.\n",
      "[I 2025-01-06 09:07:11,948] Trial 72 finished with value: 0.666512702078522 and parameters: {'C': 0.027664710350216004, 'penalty': 'l1', 'solver': 'liblinear', 'max_iter': 1807}. Best is trial 59 with value: 0.6712856043110085.\n",
      "[I 2025-01-06 09:07:12,623] Trial 73 finished with value: 0.6708237105465743 and parameters: {'C': 0.40738980367621286, 'penalty': 'l1', 'solver': 'liblinear', 'max_iter': 1706}. Best is trial 59 with value: 0.6712856043110085.\n",
      "[I 2025-01-06 09:07:13,838] Trial 74 finished with value: 0.6680523479599693 and parameters: {'C': 0.7816737228604382, 'penalty': 'l1', 'solver': 'liblinear', 'max_iter': 1928}. Best is trial 59 with value: 0.6712856043110085.\n",
      "[I 2025-01-06 09:07:26,125] Trial 75 finished with value: 0.6652809853733641 and parameters: {'C': 5.479740273851361, 'penalty': 'l1', 'solver': 'liblinear', 'max_iter': 1679}. Best is trial 59 with value: 0.6712856043110085.\n",
      "[I 2025-01-06 09:07:28,855] Trial 76 finished with value: 0.6686682063125481 and parameters: {'C': 1.5246998130218254, 'penalty': 'l1', 'solver': 'liblinear', 'max_iter': 1787}. Best is trial 59 with value: 0.6712856043110085.\n",
      "[I 2025-01-06 09:07:29,515] Trial 77 finished with value: 0.6712856043110085 and parameters: {'C': 0.2828333909051356, 'penalty': 'l1', 'solver': 'liblinear', 'max_iter': 1710}. Best is trial 59 with value: 0.6712856043110085.\n",
      "[I 2025-01-06 09:07:30,731] Trial 78 finished with value: 0.6688221709006928 and parameters: {'C': 1.3126922519739108, 'penalty': 'l1', 'solver': 'saga', 'max_iter': 1995}. Best is trial 59 with value: 0.6712856043110085.\n",
      "[I 2025-01-06 09:07:30,896] Trial 79 finished with value: 0.6677444187836798 and parameters: {'C': 0.17128648503632582, 'penalty': 'l2', 'solver': 'liblinear', 'max_iter': 1883}. Best is trial 59 with value: 0.6712856043110085.\n",
      "[I 2025-01-06 09:07:31,916] Trial 80 finished with value: 0.6686682063125481 and parameters: {'C': 0.6672110789995909, 'penalty': 'l1', 'solver': 'liblinear', 'max_iter': 1923}. Best is trial 59 with value: 0.6712856043110085.\n",
      "[I 2025-01-06 09:07:32,651] Trial 81 finished with value: 0.6700538876058507 and parameters: {'C': 0.4724643426672729, 'penalty': 'l1', 'solver': 'liblinear', 'max_iter': 1708}. Best is trial 59 with value: 0.6712856043110085.\n",
      "[I 2025-01-06 09:07:33,146] Trial 82 finished with value: 0.6698999230177061 and parameters: {'C': 0.2156326289456154, 'penalty': 'l1', 'solver': 'liblinear', 'max_iter': 1707}. Best is trial 59 with value: 0.6712856043110085.\n",
      "[I 2025-01-06 09:07:34,121] Trial 83 finished with value: 0.669284064665127 and parameters: {'C': 0.6020186917805841, 'penalty': 'l1', 'solver': 'liblinear', 'max_iter': 1784}. Best is trial 59 with value: 0.6712856043110085.\n",
      "[I 2025-01-06 09:07:35,561] Trial 84 finished with value: 0.669284064665127 and parameters: {'C': 0.9005492118998941, 'penalty': 'l1', 'solver': 'liblinear', 'max_iter': 1875}. Best is trial 59 with value: 0.6712856043110085.\n",
      "[I 2025-01-06 09:07:37,875] Trial 85 finished with value: 0.6695919938414164 and parameters: {'C': 1.1976805234309078, 'penalty': 'l1', 'solver': 'liblinear', 'max_iter': 1965}. Best is trial 59 with value: 0.6712856043110085.\n",
      "[I 2025-01-06 09:07:38,340] Trial 86 finished with value: 0.6694380292532717 and parameters: {'C': 0.20228222207235858, 'penalty': 'l1', 'solver': 'liblinear', 'max_iter': 1742}. Best is trial 59 with value: 0.6712856043110085.\n",
      "[I 2025-01-06 09:07:38,520] Trial 87 finished with value: 0.6683602771362587 and parameters: {'C': 0.03572726767394874, 'penalty': 'l1', 'solver': 'liblinear', 'max_iter': 1836}. Best is trial 59 with value: 0.6712856043110085.\n",
      "[I 2025-01-06 09:07:40,005] Trial 88 finished with value: 0.6695919938414165 and parameters: {'C': 0.8794090499360476, 'penalty': 'l1', 'solver': 'liblinear', 'max_iter': 1944}. Best is trial 59 with value: 0.6712856043110085.\n",
      "[I 2025-01-06 09:07:40,785] Trial 89 finished with value: 0.6700538876058507 and parameters: {'C': 0.5007960326761846, 'penalty': 'l1', 'solver': 'liblinear', 'max_iter': 119}. Best is trial 59 with value: 0.6712856043110085.\n",
      "[I 2025-01-06 09:07:46,081] Trial 90 finished with value: 0.667590454195535 and parameters: {'C': 1.7020502754422888, 'penalty': 'l1', 'solver': 'liblinear', 'max_iter': 192}. Best is trial 59 with value: 0.6712856043110085.\n",
      "[I 2025-01-06 09:07:46,817] Trial 91 finished with value: 0.6709776751347191 and parameters: {'C': 0.403546538678053, 'penalty': 'l1', 'solver': 'liblinear', 'max_iter': 1823}. Best is trial 59 with value: 0.6712856043110085.\n",
      "[I 2025-01-06 09:07:48,857] Trial 92 finished with value: 0.6705157813702848 and parameters: {'C': 1.0962014087292777, 'penalty': 'l1', 'solver': 'liblinear', 'max_iter': 1880}. Best is trial 59 with value: 0.6712856043110085.\n",
      "[I 2025-01-06 09:07:54,409] Trial 93 finished with value: 0.6654349499615089 and parameters: {'C': 4.361369376663167, 'penalty': 'l1', 'solver': 'liblinear', 'max_iter': 732}. Best is trial 59 with value: 0.6712856043110085.\n",
      "[I 2025-01-06 09:07:55,384] Trial 94 finished with value: 0.669284064665127 and parameters: {'C': 0.6041266462378965, 'penalty': 'l1', 'solver': 'liblinear', 'max_iter': 1633}. Best is trial 59 with value: 0.6712856043110085.\n",
      "[I 2025-01-06 09:07:55,984] Trial 95 finished with value: 0.6708237105465743 and parameters: {'C': 0.2790726985754094, 'penalty': 'l1', 'solver': 'liblinear', 'max_iter': 1797}. Best is trial 59 with value: 0.6712856043110085.\n",
      "[I 2025-01-06 09:07:57,349] Trial 96 finished with value: 0.6686682063125481 and parameters: {'C': 1.3282662367939364, 'penalty': 'l1', 'solver': 'saga', 'max_iter': 1726}. Best is trial 59 with value: 0.6712856043110085.\n",
      "[I 2025-01-06 09:07:58,654] Trial 97 finished with value: 0.6685142417244034 and parameters: {'C': 0.7968903793134062, 'penalty': 'l1', 'solver': 'liblinear', 'max_iter': 2000}. Best is trial 59 with value: 0.6712856043110085.\n",
      "[I 2025-01-06 09:07:58,864] Trial 98 finished with value: 0.6669745958429562 and parameters: {'C': 0.42733118675343196, 'penalty': 'l2', 'solver': 'liblinear', 'max_iter': 1849}. Best is trial 59 with value: 0.6712856043110085.\n",
      "[I 2025-01-06 09:08:06,635] Trial 99 finished with value: 0.6677444187836797 and parameters: {'C': 2.01078127469102, 'penalty': 'l1', 'solver': 'liblinear', 'max_iter': 1767}. Best is trial 59 with value: 0.6712856043110085.\n"
     ]
    },
    {
     "data": {
      "text/plain": [
       "({'C': 0.38414964961856957,\n",
       "  'penalty': 'l1',\n",
       "  'solver': 'liblinear',\n",
       "  'max_iter': 1903},\n",
       " 0.6712856043110085)"
      ]
     },
     "execution_count": 21,
     "metadata": {},
     "output_type": "execute_result"
    }
   ],
   "source": [
    "params = {\n",
    "    \"C\": {\"type\": \"float\", \"min\": 0.01, \"max\": 10},\n",
    "    \"penalty\": {\"type\": \"categorical\", \"values\": [\"l1\", \"l2\"]},\n",
    "    \"solver\": {\"type\": \"categorical\", \"values\": [\"liblinear\", \"saga\"]},\n",
    "    \"max_iter\": {\"type\": \"int\", \"min\": 100, \"max\": 2000},\n",
    "}\n",
    "\n",
    "lr_vt_tuner = HyperparameterTuner(LogisticRegression, params, train_x, train_y)\n",
    "lr_vt_tuner.optimize(100)\n",
    "lr_vt_tuner.best_params(), lr_vt_tuner.best_score()"
   ]
  },
  {
   "cell_type": "code",
   "execution_count": 81,
   "metadata": {},
   "outputs": [
    {
     "name": "stdout",
     "output_type": "stream",
     "text": [
      "              precision    recall  f1-score   support\n",
      "\n",
      "           0       0.71      0.64      0.67      1060\n",
      "           1       0.67      0.73      0.70      1054\n",
      "\n",
      "    accuracy                           0.69      2114\n",
      "   macro avg       0.69      0.69      0.69      2114\n",
      "weighted avg       0.69      0.69      0.69      2114\n",
      "\n"
     ]
    }
   ],
   "source": [
    "params = {\n",
    "    \"C\": 0.38414964961856957,\n",
    "    \"penalty\": \"l1\",\n",
    "    \"solver\": \"liblinear\",\n",
    "    \"max_iter\": 1903\n",
    "}\n",
    "\n",
    "lr_final = LogisticRegression(**params)\n",
    "\n",
    "lr_final.fit(train_x, train_y)\n",
    "\n",
    "print(classification_report(valid_y, lr_final.predict(valid_x)))"
   ]
  },
  {
   "cell_type": "markdown",
   "metadata": {},
   "source": [
    "- LightGBM"
   ]
  },
  {
   "cell_type": "code",
   "execution_count": 26,
   "metadata": {},
   "outputs": [
    {
     "name": "stderr",
     "output_type": "stream",
     "text": [
      "[I 2025-01-06 09:13:24,946] A new study created in memory with name: no-name-4538e975-e6ef-4329-9c9f-ff954bc3300e\n",
      "[I 2025-01-06 09:13:27,932] Trial 0 finished with value: 0.71270207852194 and parameters: {'n_estimators': 124, 'learning_rate': 0.06128646373517623, 'max_depth': 10, 'num_leaves': 100, 'min_child_samples': 14, 'subsample': 0.6868482855444905, 'colsample_bytree': 0.4816794745028867, 'reg_alpha': 0.03707125995062092, 'reg_lambda': 5.44872827687802, 'verbose': -1}. Best is trial 0 with value: 0.71270207852194.\n",
      "[I 2025-01-06 09:13:34,384] Trial 1 finished with value: 0.7111624326404927 and parameters: {'n_estimators': 270, 'learning_rate': 0.0717770467477121, 'max_depth': 10, 'num_leaves': 147, 'min_child_samples': 6, 'subsample': 0.5818768464960494, 'colsample_bytree': 0.5956788537851827, 'reg_alpha': 0.060704551936466726, 'reg_lambda': 5.965449113651904, 'verbose': -1}. Best is trial 0 with value: 0.71270207852194.\n",
      "[I 2025-01-06 09:13:38,080] Trial 2 finished with value: 0.7200923787528868 and parameters: {'n_estimators': 180, 'learning_rate': 0.026363521629088567, 'max_depth': 12, 'num_leaves': 137, 'min_child_samples': 9, 'subsample': 0.5872826155029252, 'colsample_bytree': 0.5240572107631314, 'reg_alpha': 0.048778340964156786, 'reg_lambda': 5.560198283432895, 'verbose': -1}. Best is trial 2 with value: 0.7200923787528868.\n",
      "[I 2025-01-06 09:13:39,568] Trial 3 finished with value: 0.7119322555812163 and parameters: {'n_estimators': 124, 'learning_rate': 0.02865786377361962, 'max_depth': 8, 'num_leaves': 144, 'min_child_samples': 5, 'subsample': 0.5053471853343877, 'colsample_bytree': 0.4759849559375605, 'reg_alpha': 0.08903721415825708, 'reg_lambda': 4.339068708610895, 'verbose': -1}. Best is trial 2 with value: 0.7200923787528868.\n",
      "[I 2025-01-06 09:13:43,171] Trial 4 finished with value: 0.7123941493456505 and parameters: {'n_estimators': 255, 'learning_rate': 0.06697734008925202, 'max_depth': 12, 'num_leaves': 142, 'min_child_samples': 14, 'subsample': 0.6149831206334564, 'colsample_bytree': 0.5609991498107566, 'reg_alpha': 0.08546150844195545, 'reg_lambda': 5.377399698935919, 'verbose': -1}. Best is trial 2 with value: 0.7200923787528868.\n",
      "[I 2025-01-06 09:13:44,782] Trial 5 finished with value: 0.7143956889915319 and parameters: {'n_estimators': 112, 'learning_rate': 0.047108867967822765, 'max_depth': 9, 'num_leaves': 137, 'min_child_samples': 7, 'subsample': 0.5548808483795871, 'colsample_bytree': 0.5552376405292669, 'reg_alpha': 0.05563586941268485, 'reg_lambda': 4.825269957371656, 'verbose': -1}. Best is trial 2 with value: 0.7200923787528868.\n",
      "[I 2025-01-06 09:13:46,511] Trial 6 finished with value: 0.7125481139337952 and parameters: {'n_estimators': 120, 'learning_rate': 0.02596955610537486, 'max_depth': 12, 'num_leaves': 126, 'min_child_samples': 13, 'subsample': 0.6492180616822313, 'colsample_bytree': 0.509710415190714, 'reg_alpha': 0.013751472911883746, 'reg_lambda': 4.86439022375753, 'verbose': -1}. Best is trial 2 with value: 0.7200923787528868.\n",
      "[I 2025-01-06 09:13:49,563] Trial 7 finished with value: 0.71270207852194 and parameters: {'n_estimators': 285, 'learning_rate': 0.03934705294086474, 'max_depth': 8, 'num_leaves': 129, 'min_child_samples': 5, 'subsample': 0.6356203923194811, 'colsample_bytree': 0.44288545743041435, 'reg_alpha': 0.06978768122140064, 'reg_lambda': 4.4633859439305725, 'verbose': -1}. Best is trial 2 with value: 0.7200923787528868.\n",
      "[I 2025-01-06 09:13:52,817] Trial 8 finished with value: 0.7143956889915319 and parameters: {'n_estimators': 253, 'learning_rate': 0.05840923285166609, 'max_depth': 10, 'num_leaves': 127, 'min_child_samples': 14, 'subsample': 0.5598681207987041, 'colsample_bytree': 0.5783968727540404, 'reg_alpha': 0.07105053837040508, 'reg_lambda': 4.574311558699245, 'verbose': -1}. Best is trial 2 with value: 0.7200923787528868.\n",
      "[I 2025-01-06 09:13:54,982] Trial 9 finished with value: 0.7200923787528868 and parameters: {'n_estimators': 156, 'learning_rate': 0.04638808840478457, 'max_depth': 10, 'num_leaves': 124, 'min_child_samples': 13, 'subsample': 0.5615525406604074, 'colsample_bytree': 0.5880618243006008, 'reg_alpha': 0.04332068739306656, 'reg_lambda': 3.2124226252890846, 'verbose': -1}. Best is trial 2 with value: 0.7200923787528868.\n",
      "[I 2025-01-06 09:13:57,327] Trial 10 finished with value: 0.718860662047729 and parameters: {'n_estimators': 199, 'learning_rate': 0.01023564819246046, 'max_depth': 12, 'num_leaves': 103, 'min_child_samples': 9, 'subsample': 0.5029692690607627, 'colsample_bytree': 0.4038765380595129, 'reg_alpha': 0.019745572386604567, 'reg_lambda': 3.5714308448284693, 'verbose': -1}. Best is trial 2 with value: 0.7200923787528868.\n",
      "[I 2025-01-06 09:13:59,672] Trial 11 finished with value: 0.7065434949961509 and parameters: {'n_estimators': 178, 'learning_rate': 0.09513474995718847, 'max_depth': 11, 'num_leaves': 113, 'min_child_samples': 11, 'subsample': 0.5506175191691314, 'colsample_bytree': 0.522352810726155, 'reg_alpha': 0.04083312953680773, 'reg_lambda': 3.0519279271530593, 'verbose': -1}. Best is trial 2 with value: 0.7200923787528868.\n",
      "[I 2025-01-06 09:14:01,897] Trial 12 finished with value: 0.7174749807544265 and parameters: {'n_estimators': 163, 'learning_rate': 0.023081831089799644, 'max_depth': 11, 'num_leaves': 118, 'min_child_samples': 11, 'subsample': 0.5923458555362178, 'colsample_bytree': 0.5344839416763196, 'reg_alpha': 0.033728719463540606, 'reg_lambda': 3.9006471910154024, 'verbose': -1}. Best is trial 2 with value: 0.7200923787528868.\n",
      "[I 2025-01-06 09:14:04,255] Trial 13 finished with value: 0.718398768283295 and parameters: {'n_estimators': 155, 'learning_rate': 0.038185103023816475, 'max_depth': 11, 'num_leaves': 135, 'min_child_samples': 9, 'subsample': 0.5307415649595949, 'colsample_bytree': 0.5429076211842113, 'reg_alpha': 0.04944916408514301, 'reg_lambda': 3.0599312764308233, 'verbose': -1}. Best is trial 2 with value: 0.7200923787528868.\n",
      "[I 2025-01-06 09:14:06,673] Trial 14 finished with value: 0.716089299461124 and parameters: {'n_estimators': 216, 'learning_rate': 0.013530612484750711, 'max_depth': 9, 'num_leaves': 116, 'min_child_samples': 12, 'subsample': 0.6047819189356441, 'colsample_bytree': 0.5973259271820969, 'reg_alpha': 0.003864926332050121, 'reg_lambda': 3.793432741943489, 'verbose': -1}. Best is trial 2 with value: 0.7200923787528868.\n",
      "[I 2025-01-06 09:14:09,062] Trial 15 finished with value: 0.711008468052348 and parameters: {'n_estimators': 215, 'learning_rate': 0.07984361139429101, 'max_depth': 9, 'num_leaves': 134, 'min_child_samples': 8, 'subsample': 0.5761560016579262, 'colsample_bytree': 0.4910964303147948, 'reg_alpha': 0.027901708335674114, 'reg_lambda': 5.854825407917024, 'verbose': -1}. Best is trial 2 with value: 0.7200923787528868.\n",
      "[I 2025-01-06 09:14:11,185] Trial 16 finished with value: 0.7123941493456505 and parameters: {'n_estimators': 148, 'learning_rate': 0.04601907098778805, 'max_depth': 11, 'num_leaves': 150, 'min_child_samples': 10, 'subsample': 0.6278799093483367, 'colsample_bytree': 0.45352836693227055, 'reg_alpha': 0.04813088278967251, 'reg_lambda': 5.43566099812213, 'verbose': -1}. Best is trial 2 with value: 0.7200923787528868.\n",
      "[I 2025-01-06 09:14:13,624] Trial 17 finished with value: 0.7213240954580448 and parameters: {'n_estimators': 198, 'learning_rate': 0.03295668494242733, 'max_depth': 9, 'num_leaves': 121, 'min_child_samples': 15, 'subsample': 0.6648544654355906, 'colsample_bytree': 0.571707748837173, 'reg_alpha': 0.06520252050677497, 'reg_lambda': 3.527438281333975, 'verbose': -1}. Best is trial 17 with value: 0.7213240954580448.\n",
      "[I 2025-01-06 09:14:18,978] Trial 18 finished with value: 0.7197844495765974 and parameters: {'n_estimators': 193, 'learning_rate': 0.03110378688052589, 'max_depth': 9, 'num_leaves': 109, 'min_child_samples': 8, 'subsample': 0.6990974725137657, 'colsample_bytree': 0.5689376632095784, 'reg_alpha': 0.07719995374538617, 'reg_lambda': 4.087384086640051, 'verbose': -1}. Best is trial 17 with value: 0.7213240954580448.\n",
      "[I 2025-01-06 09:14:21,626] Trial 19 finished with value: 0.7214780600461894 and parameters: {'n_estimators': 230, 'learning_rate': 0.020374711987326738, 'max_depth': 8, 'num_leaves': 121, 'min_child_samples': 15, 'subsample': 0.6679055705521865, 'colsample_bytree': 0.5200304079181504, 'reg_alpha': 0.06373892931067779, 'reg_lambda': 5.05180757937417, 'verbose': -1}. Best is trial 19 with value: 0.7214780600461894.\n",
      "[I 2025-01-06 09:14:24,487] Trial 20 finished with value: 0.7165511932255582 and parameters: {'n_estimators': 228, 'learning_rate': 0.017573425499103762, 'max_depth': 8, 'num_leaves': 121, 'min_child_samples': 15, 'subsample': 0.6686984558272, 'colsample_bytree': 0.5076964065518026, 'reg_alpha': 0.09631947668678723, 'reg_lambda': 4.9654316074316025, 'verbose': -1}. Best is trial 19 with value: 0.7214780600461894.\n",
      "[I 2025-01-06 09:14:26,850] Trial 21 finished with value: 0.7168591224018477 and parameters: {'n_estimators': 242, 'learning_rate': 0.03433518313071779, 'max_depth': 8, 'num_leaves': 130, 'min_child_samples': 15, 'subsample': 0.6499899493094358, 'colsample_bytree': 0.5259825958292818, 'reg_alpha': 0.06297970980209908, 'reg_lambda': 5.126749905102538, 'verbose': -1}. Best is trial 19 with value: 0.7214780600461894.\n",
      "[I 2025-01-06 09:14:29,012] Trial 22 finished with value: 0.7143956889915319 and parameters: {'n_estimators': 185, 'learning_rate': 0.021262750816192194, 'max_depth': 9, 'num_leaves': 121, 'min_child_samples': 12, 'subsample': 0.6705774231881854, 'colsample_bytree': 0.5441339367299786, 'reg_alpha': 0.05787255696860698, 'reg_lambda': 5.686517941689065, 'verbose': -1}. Best is trial 19 with value: 0.7214780600461894.\n",
      "[I 2025-01-06 09:14:30,919] Trial 23 finished with value: 0.7110084680523479 and parameters: {'n_estimators': 212, 'learning_rate': 0.019297209332224716, 'max_depth': 8, 'num_leaves': 113, 'min_child_samples': 15, 'subsample': 0.6737482255836897, 'colsample_bytree': 0.5153131220898117, 'reg_alpha': 0.07709971171173531, 'reg_lambda': 5.247651312079739, 'verbose': -1}. Best is trial 19 with value: 0.7214780600461894.\n",
      "[I 2025-01-06 09:14:33,504] Trial 24 finished with value: 0.7156274056966898 and parameters: {'n_estimators': 176, 'learning_rate': 0.0410163522815703, 'max_depth': 9, 'num_leaves': 140, 'min_child_samples': 10, 'subsample': 0.6523134545978021, 'colsample_bytree': 0.5508219817901001, 'reg_alpha': 0.06381353897902069, 'reg_lambda': 5.570581478825931, 'verbose': -1}. Best is trial 19 with value: 0.7214780600461894.\n",
      "[I 2025-01-06 09:14:35,500] Trial 25 finished with value: 0.7145496535796767 and parameters: {'n_estimators': 235, 'learning_rate': 0.051917044173112804, 'max_depth': 8, 'num_leaves': 131, 'min_child_samples': 13, 'subsample': 0.6213756561865184, 'colsample_bytree': 0.4985202788815445, 'reg_alpha': 0.05294002742240565, 'reg_lambda': 3.5279650073285342, 'verbose': -1}. Best is trial 19 with value: 0.7214780600461894.\n",
      "[I 2025-01-06 09:14:38,761] Trial 26 finished with value: 0.7179368745188606 and parameters: {'n_estimators': 296, 'learning_rate': 0.028482269627467548, 'max_depth': 10, 'num_leaves': 108, 'min_child_samples': 11, 'subsample': 0.6023357823505152, 'colsample_bytree': 0.4618309965513461, 'reg_alpha': 0.06919460050587582, 'reg_lambda': 5.059462228424258, 'verbose': -1}. Best is trial 19 with value: 0.7214780600461894.\n",
      "[I 2025-01-06 09:14:40,731] Trial 27 finished with value: 0.7153194765204003 and parameters: {'n_estimators': 142, 'learning_rate': 0.01530345992894577, 'max_depth': 9, 'num_leaves': 122, 'min_child_samples': 9, 'subsample': 0.6984695640170401, 'colsample_bytree': 0.5757251973141866, 'reg_alpha': 0.08170213333746694, 'reg_lambda': 4.756627668137152, 'verbose': -1}. Best is trial 19 with value: 0.7214780600461894.\n",
      "[I 2025-01-06 09:14:42,865] Trial 28 finished with value: 0.7174749807544265 and parameters: {'n_estimators': 205, 'learning_rate': 0.03469211698632024, 'max_depth': 8, 'num_leaves': 117, 'min_child_samples': 12, 'subsample': 0.632845276577761, 'colsample_bytree': 0.5380644777380976, 'reg_alpha': 0.04601056971757409, 'reg_lambda': 5.736374916903296, 'verbose': -1}. Best is trial 19 with value: 0.7214780600461894.\n",
      "[I 2025-01-06 09:14:45,936] Trial 29 finished with value: 0.7163972286374133 and parameters: {'n_estimators': 227, 'learning_rate': 0.022747711009561352, 'max_depth': 12, 'num_leaves': 133, 'min_child_samples': 14, 'subsample': 0.6869206953386868, 'colsample_bytree': 0.4719896348051446, 'reg_alpha': 0.03633942632446949, 'reg_lambda': 5.3006838296127485, 'verbose': -1}. Best is trial 19 with value: 0.7214780600461894.\n",
      "[I 2025-01-06 09:14:47,829] Trial 30 finished with value: 0.714395688991532 and parameters: {'n_estimators': 182, 'learning_rate': 0.010718330399912598, 'max_depth': 9, 'num_leaves': 139, 'min_child_samples': 15, 'subsample': 0.6612771736544296, 'colsample_bytree': 0.5275346676311252, 'reg_alpha': 0.030777279842021325, 'reg_lambda': 4.189197429727558, 'verbose': -1}. Best is trial 19 with value: 0.7214780600461894.\n",
      "[I 2025-01-06 09:14:49,916] Trial 31 finished with value: 0.7182448036951501 and parameters: {'n_estimators': 166, 'learning_rate': 0.04760360276493257, 'max_depth': 10, 'num_leaves': 123, 'min_child_samples': 13, 'subsample': 0.5708510075111325, 'colsample_bytree': 0.5824638664490112, 'reg_alpha': 0.041297317847597215, 'reg_lambda': 3.2954022369614626, 'verbose': -1}. Best is trial 19 with value: 0.7214780600461894.\n",
      "[I 2025-01-06 09:14:51,581] Trial 32 finished with value: 0.7165511932255582 and parameters: {'n_estimators': 132, 'learning_rate': 0.041954256470394996, 'max_depth': 10, 'num_leaves': 124, 'min_child_samples': 14, 'subsample': 0.5869593352772803, 'colsample_bytree': 0.5903631213079429, 'reg_alpha': 0.043634687312306866, 'reg_lambda': 3.3188566967880075, 'verbose': -1}. Best is trial 19 with value: 0.7214780600461894.\n",
      "[I 2025-01-06 09:14:52,950] Trial 33 finished with value: 0.71270207852194 and parameters: {'n_estimators': 103, 'learning_rate': 0.05385025836571671, 'max_depth': 10, 'num_leaves': 127, 'min_child_samples': 13, 'subsample': 0.5234786744599494, 'colsample_bytree': 0.5633117326663329, 'reg_alpha': 0.06139276145517215, 'reg_lambda': 3.2940744925459136, 'verbose': -1}. Best is trial 19 with value: 0.7214780600461894.\n",
      "[I 2025-01-06 09:14:55,082] Trial 34 finished with value: 0.7197844495765974 and parameters: {'n_estimators': 167, 'learning_rate': 0.032168026523090185, 'max_depth': 11, 'num_leaves': 119, 'min_child_samples': 15, 'subsample': 0.5381565363832894, 'colsample_bytree': 0.562624165428199, 'reg_alpha': 0.05101481887397806, 'reg_lambda': 3.6127450414615505, 'verbose': -1}. Best is trial 19 with value: 0.7214780600461894.\n",
      "[I 2025-01-06 09:14:58,103] Trial 35 finished with value: 0.7159353348729793 and parameters: {'n_estimators': 195, 'learning_rate': 0.06171431744614463, 'max_depth': 10, 'num_leaves': 145, 'min_child_samples': 7, 'subsample': 0.5681480103243981, 'colsample_bytree': 0.599723134140293, 'reg_alpha': 0.024833443487549102, 'reg_lambda': 4.626870786685193, 'verbose': -1}. Best is trial 19 with value: 0.7214780600461894.\n",
      "[I 2025-01-06 09:15:00,538] Trial 36 finished with value: 0.7136258660508084 and parameters: {'n_estimators': 260, 'learning_rate': 0.02789289349062458, 'max_depth': 9, 'num_leaves': 125, 'min_child_samples': 14, 'subsample': 0.5960971768716002, 'colsample_bytree': 0.4893735977412261, 'reg_alpha': 0.05744368304100332, 'reg_lambda': 5.9774590736791025, 'verbose': -1}. Best is trial 19 with value: 0.7214780600461894.\n",
      "[I 2025-01-06 09:15:02,535] Trial 37 finished with value: 0.7102386451116243 and parameters: {'n_estimators': 145, 'learning_rate': 0.07087052855508705, 'max_depth': 11, 'num_leaves': 115, 'min_child_samples': 10, 'subsample': 0.6389826849661685, 'colsample_bytree': 0.5857151735817715, 'reg_alpha': 0.06684406588372434, 'reg_lambda': 4.291999684437397, 'verbose': -1}. Best is trial 19 with value: 0.7214780600461894.\n",
      "[I 2025-01-06 09:15:04,427] Trial 38 finished with value: 0.7159353348729792 and parameters: {'n_estimators': 136, 'learning_rate': 0.025686834579022877, 'max_depth': 12, 'num_leaves': 128, 'min_child_samples': 13, 'subsample': 0.6111603900957279, 'colsample_bytree': 0.5561598669422324, 'reg_alpha': 0.05550456355458415, 'reg_lambda': 5.606203107808234, 'verbose': -1}. Best is trial 19 with value: 0.7214780600461894.\n",
      "[I 2025-01-06 09:15:06,698] Trial 39 finished with value: 0.7143956889915319 and parameters: {'n_estimators': 206, 'learning_rate': 0.04805110534710093, 'max_depth': 10, 'num_leaves': 110, 'min_child_samples': 14, 'subsample': 0.6807380880351224, 'colsample_bytree': 0.5730113397150122, 'reg_alpha': 0.07475584856290095, 'reg_lambda': 3.9676663537519548, 'verbose': -1}. Best is trial 19 with value: 0.7214780600461894.\n",
      "[I 2025-01-06 09:15:08,473] Trial 40 finished with value: 0.717782909930716 and parameters: {'n_estimators': 244, 'learning_rate': 0.037852660957944546, 'max_depth': 8, 'num_leaves': 120, 'min_child_samples': 15, 'subsample': 0.5502771575353145, 'colsample_bytree': 0.4152789122795665, 'reg_alpha': 0.03908967554505688, 'reg_lambda': 3.71743524078241, 'verbose': -1}. Best is trial 19 with value: 0.7214780600461894.\n",
      "[I 2025-01-06 09:15:10,784] Trial 41 finished with value: 0.7219399538106235 and parameters: {'n_estimators': 195, 'learning_rate': 0.03266605319051178, 'max_depth': 9, 'num_leaves': 101, 'min_child_samples': 8, 'subsample': 0.6990793350636398, 'colsample_bytree': 0.5688820287824802, 'reg_alpha': 0.0833003917932714, 'reg_lambda': 3.4378392646953144, 'verbose': -1}. Best is trial 41 with value: 0.7219399538106235.\n",
      "[I 2025-01-06 09:15:13,095] Trial 42 finished with value: 0.7191685912240185 and parameters: {'n_estimators': 191, 'learning_rate': 0.03345466836746732, 'max_depth': 9, 'num_leaves': 100, 'min_child_samples': 7, 'subsample': 0.68816221454948, 'colsample_bytree': 0.5497607944581075, 'reg_alpha': 0.09315668539072824, 'reg_lambda': 3.471876025114173, 'verbose': -1}. Best is trial 41 with value: 0.7219399538106235.\n",
      "[I 2025-01-06 09:15:14,972] Trial 43 finished with value: 0.7179368745188607 and parameters: {'n_estimators': 172, 'learning_rate': 0.044186177291506215, 'max_depth': 8, 'num_leaves': 105, 'min_child_samples': 8, 'subsample': 0.5808187041421538, 'colsample_bytree': 0.5866149448264402, 'reg_alpha': 0.0816606370770406, 'reg_lambda': 3.1634841914305514, 'verbose': -1}. Best is trial 41 with value: 0.7219399538106235.\n",
      "[I 2025-01-06 09:15:18,156] Trial 44 finished with value: 0.7202463433410315 and parameters: {'n_estimators': 274, 'learning_rate': 0.024747786285685518, 'max_depth': 9, 'num_leaves': 113, 'min_child_samples': 9, 'subsample': 0.6571878981979291, 'colsample_bytree': 0.5670990249231864, 'reg_alpha': 0.09023635666274608, 'reg_lambda': 3.3589789311999056, 'verbose': -1}. Best is trial 41 with value: 0.7219399538106235.\n",
      "[I 2025-01-06 09:15:21,159] Trial 45 finished with value: 0.7200923787528869 and parameters: {'n_estimators': 288, 'learning_rate': 0.02522989902387368, 'max_depth': 9, 'num_leaves': 105, 'min_child_samples': 9, 'subsample': 0.6605037873503253, 'colsample_bytree': 0.5174819305423188, 'reg_alpha': 0.08835017017475771, 'reg_lambda': 4.41024151694169, 'verbose': -1}. Best is trial 41 with value: 0.7219399538106235.\n",
      "[I 2025-01-06 09:15:24,196] Trial 46 finished with value: 0.7213240954580447 and parameters: {'n_estimators': 274, 'learning_rate': 0.024165820350711645, 'max_depth': 9, 'num_leaves': 105, 'min_child_samples': 6, 'subsample': 0.6615353584883199, 'colsample_bytree': 0.5128259323036986, 'reg_alpha': 0.08829990202322348, 'reg_lambda': 4.473575025561615, 'verbose': -1}. Best is trial 41 with value: 0.7219399538106235.\n",
      "[I 2025-01-06 09:15:27,187] Trial 47 finished with value: 0.719476520400308 and parameters: {'n_estimators': 269, 'learning_rate': 0.01684309609991567, 'max_depth': 9, 'num_leaves': 103, 'min_child_samples': 6, 'subsample': 0.644768713058781, 'colsample_bytree': 0.5005043158260526, 'reg_alpha': 0.09771724556478745, 'reg_lambda': 3.432471623639151, 'verbose': -1}. Best is trial 41 with value: 0.7219399538106235.\n",
      "[I 2025-01-06 09:15:30,387] Trial 48 finished with value: 0.7210161662817552 and parameters: {'n_estimators': 275, 'learning_rate': 0.021247714004417575, 'max_depth': 9, 'num_leaves': 100, 'min_child_samples': 5, 'subsample': 0.658428739344183, 'colsample_bytree': 0.533732512249688, 'reg_alpha': 0.09142460323289321, 'reg_lambda': 3.7100795721319524, 'verbose': -1}. Best is trial 41 with value: 0.7219399538106235.\n",
      "[I 2025-01-06 09:15:33,312] Trial 49 finished with value: 0.7136258660508084 and parameters: {'n_estimators': 276, 'learning_rate': 0.01347937312183305, 'max_depth': 8, 'num_leaves': 102, 'min_child_samples': 5, 'subsample': 0.6770753558608934, 'colsample_bytree': 0.5380089326244257, 'reg_alpha': 0.08434202555768053, 'reg_lambda': 3.782420924286681, 'verbose': -1}. Best is trial 41 with value: 0.7219399538106235.\n",
      "[I 2025-01-06 09:15:36,224] Trial 50 finished with value: 0.718860662047729 and parameters: {'n_estimators': 263, 'learning_rate': 0.02061563621051553, 'max_depth': 9, 'num_leaves': 100, 'min_child_samples': 6, 'subsample': 0.6918966676404305, 'colsample_bytree': 0.5121196932969585, 'reg_alpha': 0.07212911661430367, 'reg_lambda': 3.964303169910472, 'verbose': -1}. Best is trial 41 with value: 0.7219399538106235.\n",
      "[I 2025-01-06 09:15:39,607] Trial 51 finished with value: 0.7185527328714395 and parameters: {'n_estimators': 277, 'learning_rate': 0.030449446859965285, 'max_depth': 9, 'num_leaves': 107, 'min_child_samples': 6, 'subsample': 0.6587731164931532, 'colsample_bytree': 0.5299201107567265, 'reg_alpha': 0.09177875262659567, 'reg_lambda': 3.6943385323999363, 'verbose': -1}. Best is trial 41 with value: 0.7219399538106235.\n",
      "[I 2025-01-06 09:15:43,391] Trial 52 finished with value: 0.7211701308698999 and parameters: {'n_estimators': 292, 'learning_rate': 0.02385551962557831, 'max_depth': 9, 'num_leaves': 111, 'min_child_samples': 5, 'subsample': 0.663586841787531, 'colsample_bytree': 0.5701737971185331, 'reg_alpha': 0.08922382153792753, 'reg_lambda': 3.3815718939407446, 'verbose': -1}. Best is trial 41 with value: 0.7219399538106235.\n",
      "[I 2025-01-06 09:15:47,326] Trial 53 finished with value: 0.7150115473441108 and parameters: {'n_estimators': 300, 'learning_rate': 0.03615006079784637, 'max_depth': 9, 'num_leaves': 104, 'min_child_samples': 5, 'subsample': 0.6670026285020179, 'colsample_bytree': 0.5472854299456559, 'reg_alpha': 0.08646167229747098, 'reg_lambda': 3.0994732993947762, 'verbose': -1}. Best is trial 41 with value: 0.7219399538106235.\n",
      "[I 2025-01-06 09:15:50,778] Trial 54 finished with value: 0.7182448036951502 and parameters: {'n_estimators': 289, 'learning_rate': 0.017957513296775987, 'max_depth': 8, 'num_leaves': 110, 'min_child_samples': 5, 'subsample': 0.6805655028846703, 'colsample_bytree': 0.5571716077679325, 'reg_alpha': 0.09926895493676671, 'reg_lambda': 3.639317987065056, 'verbose': -1}. Best is trial 41 with value: 0.7219399538106235.\n",
      "[I 2025-01-06 09:15:53,500] Trial 55 finished with value: 0.7165511932255582 and parameters: {'n_estimators': 222, 'learning_rate': 0.0291053903617612, 'max_depth': 9, 'num_leaves': 106, 'min_child_samples': 7, 'subsample': 0.6428168839628441, 'colsample_bytree': 0.5045008349396759, 'reg_alpha': 0.08257371177906789, 'reg_lambda': 4.162806528891475, 'verbose': -1}. Best is trial 41 with value: 0.7219399538106235.\n",
      "[I 2025-01-06 09:15:57,225] Trial 56 finished with value: 0.7116243264049269 and parameters: {'n_estimators': 286, 'learning_rate': 0.09922960534106023, 'max_depth': 10, 'num_leaves': 101, 'min_child_samples': 6, 'subsample': 0.6665508854805855, 'colsample_bytree': 0.5185030036435365, 'reg_alpha': 0.07821189952269109, 'reg_lambda': 4.68629702120252, 'verbose': -1}. Best is trial 41 with value: 0.7219399538106235.\n",
      "[I 2025-01-06 09:16:00,256] Trial 57 finished with value: 0.7154734411085449 and parameters: {'n_estimators': 247, 'learning_rate': 0.022475080833008684, 'max_depth': 9, 'num_leaves': 111, 'min_child_samples': 5, 'subsample': 0.6526500746490704, 'colsample_bytree': 0.4828140336144198, 'reg_alpha': 0.09389729680164974, 'reg_lambda': 3.807792935679026, 'verbose': -1}. Best is trial 41 with value: 0.7219399538106235.\n",
      "[I 2025-01-06 09:16:03,070] Trial 58 finished with value: 0.7119322555812164 and parameters: {'n_estimators': 253, 'learning_rate': 0.08163203383617346, 'max_depth': 8, 'num_leaves': 102, 'min_child_samples': 7, 'subsample': 0.6251601408030122, 'colsample_bytree': 0.5759326076268475, 'reg_alpha': 0.08807141604557073, 'reg_lambda': 4.865776442693462, 'verbose': -1}. Best is trial 41 with value: 0.7219399538106235.\n",
      "[I 2025-01-06 09:16:06,653] Trial 59 finished with value: 0.7193225558121631 and parameters: {'n_estimators': 263, 'learning_rate': 0.013749168240198405, 'max_depth': 9, 'num_leaves': 107, 'min_child_samples': 6, 'subsample': 0.6788000045322249, 'colsample_bytree': 0.542230222360957, 'reg_alpha': 0.08023067622069123, 'reg_lambda': 3.422251911223317, 'verbose': -1}. Best is trial 41 with value: 0.7219399538106235.\n",
      "[I 2025-01-06 09:16:10,278] Trial 60 finished with value: 0.7136258660508082 and parameters: {'n_estimators': 294, 'learning_rate': 0.010059563563566498, 'max_depth': 8, 'num_leaves': 115, 'min_child_samples': 5, 'subsample': 0.6322864568260895, 'colsample_bytree': 0.5316244777454644, 'reg_alpha': 0.06637335593066482, 'reg_lambda': 3.198245241616954, 'verbose': -1}. Best is trial 41 with value: 0.7219399538106235.\n",
      "[I 2025-01-06 09:16:13,568] Trial 61 finished with value: 0.7190146266358737 and parameters: {'n_estimators': 279, 'learning_rate': 0.025617808569554618, 'max_depth': 9, 'num_leaves': 113, 'min_child_samples': 8, 'subsample': 0.6573249238862737, 'colsample_bytree': 0.5673844957683499, 'reg_alpha': 0.08966626822343829, 'reg_lambda': 3.368712255233052, 'verbose': -1}. Best is trial 41 with value: 0.7219399538106235.\n",
      "[I 2025-01-06 09:16:16,722] Trial 62 finished with value: 0.7210161662817551 and parameters: {'n_estimators': 274, 'learning_rate': 0.024649701113819665, 'max_depth': 9, 'num_leaves': 104, 'min_child_samples': 8, 'subsample': 0.693771134523469, 'colsample_bytree': 0.5690746129695009, 'reg_alpha': 0.09133045133349338, 'reg_lambda': 3.547463125271818, 'verbose': -1}. Best is trial 41 with value: 0.7219399538106235.\n",
      "[I 2025-01-06 09:16:20,044] Trial 63 finished with value: 0.7190146266358738 and parameters: {'n_estimators': 268, 'learning_rate': 0.019356604859833145, 'max_depth': 9, 'num_leaves': 104, 'min_child_samples': 6, 'subsample': 0.6945172143077005, 'colsample_bytree': 0.5794799959381842, 'reg_alpha': 0.09450541665414872, 'reg_lambda': 3.5376821450789695, 'verbose': -1}. Best is trial 41 with value: 0.7219399538106235.\n",
      "[I 2025-01-06 09:16:23,364] Trial 64 finished with value: 0.7211701308698999 and parameters: {'n_estimators': 282, 'learning_rate': 0.031117084357097247, 'max_depth': 9, 'num_leaves': 108, 'min_child_samples': 8, 'subsample': 0.6872994831165719, 'colsample_bytree': 0.5925553716456996, 'reg_alpha': 0.07464812988688255, 'reg_lambda': 3.8742294684893874, 'verbose': -1}. Best is trial 41 with value: 0.7219399538106235.\n",
      "[I 2025-01-06 09:16:27,311] Trial 65 finished with value: 0.7196304849884526 and parameters: {'n_estimators': 282, 'learning_rate': 0.030517587817131403, 'max_depth': 10, 'num_leaves': 108, 'min_child_samples': 5, 'subsample': 0.6848003036319307, 'colsample_bytree': 0.5964351444023003, 'reg_alpha': 0.07590121203992944, 'reg_lambda': 4.509967776923441, 'verbose': -1}. Best is trial 41 with value: 0.7219399538106235.\n",
      "[I 2025-01-06 09:16:29,758] Trial 66 finished with value: 0.719476520400308 and parameters: {'n_estimators': 233, 'learning_rate': 0.03754340841366407, 'max_depth': 9, 'num_leaves': 112, 'min_child_samples': 10, 'subsample': 0.6744719468732618, 'colsample_bytree': 0.5224991937521579, 'reg_alpha': 0.08423874722502814, 'reg_lambda': 3.933719362901403, 'verbose': -1}. Best is trial 41 with value: 0.7219399538106235.\n",
      "[I 2025-01-06 09:16:33,346] Trial 67 finished with value: 0.7208622016936104 and parameters: {'n_estimators': 293, 'learning_rate': 0.021961305411512592, 'max_depth': 9, 'num_leaves': 102, 'min_child_samples': 7, 'subsample': 0.665992547878044, 'colsample_bytree': 0.5896632574146136, 'reg_alpha': 0.07271083083972905, 'reg_lambda': 3.0093196461920875, 'verbose': -1}. Best is trial 41 with value: 0.7219399538106235.\n",
      "[I 2025-01-06 09:16:36,245] Trial 68 finished with value: 0.7159353348729793 and parameters: {'n_estimators': 204, 'learning_rate': 0.04058565041136582, 'max_depth': 10, 'num_leaves': 109, 'min_child_samples': 6, 'subsample': 0.6851354258638341, 'colsample_bytree': 0.5602606403079734, 'reg_alpha': 0.06652199333195816, 'reg_lambda': 3.8490021032238237, 'verbose': -1}. Best is trial 41 with value: 0.7219399538106235.\n",
      "[I 2025-01-06 09:16:38,257] Trial 69 finished with value: 0.7191685912240183 and parameters: {'n_estimators': 212, 'learning_rate': 0.027804714499367854, 'max_depth': 8, 'num_leaves': 106, 'min_child_samples': 11, 'subsample': 0.672175765576107, 'colsample_bytree': 0.5917867719371364, 'reg_alpha': 0.06932558996296541, 'reg_lambda': 4.040854747584891, 'verbose': -1}. Best is trial 41 with value: 0.7219399538106235.\n",
      "[I 2025-01-06 09:16:40,586] Trial 70 finished with value: 0.7170130869899923 and parameters: {'n_estimators': 189, 'learning_rate': 0.03264975183747174, 'max_depth': 9, 'num_leaves': 116, 'min_child_samples': 5, 'subsample': 0.6996977299080099, 'colsample_bytree': 0.4972096175846059, 'reg_alpha': 0.0782788308937163, 'reg_lambda': 4.311202615502001, 'verbose': -1}. Best is trial 41 with value: 0.7219399538106235.\n",
      "[I 2025-01-06 09:16:43,905] Trial 71 finished with value: 0.7183987682832949 and parameters: {'n_estimators': 271, 'learning_rate': 0.015706963678792974, 'max_depth': 9, 'num_leaves': 104, 'min_child_samples': 8, 'subsample': 0.6945116440867016, 'colsample_bytree': 0.5811452721205772, 'reg_alpha': 0.08610221421291503, 'reg_lambda': 3.5689796543351378, 'verbose': -1}. Best is trial 41 with value: 0.7219399538106235.\n",
      "[I 2025-01-06 09:16:46,921] Trial 72 finished with value: 0.7216320246343341 and parameters: {'n_estimators': 260, 'learning_rate': 0.02376783923218734, 'max_depth': 9, 'num_leaves': 100, 'min_child_samples': 8, 'subsample': 0.6919509992987101, 'colsample_bytree': 0.5691486726191715, 'reg_alpha': 0.09088016069764977, 'reg_lambda': 3.7058619806950412, 'verbose': -1}. Best is trial 41 with value: 0.7219399538106235.\n",
      "[I 2025-01-06 09:16:49,727] Trial 73 finished with value: 0.7219399538106235 and parameters: {'n_estimators': 259, 'learning_rate': 0.019258581221962057, 'max_depth': 9, 'num_leaves': 100, 'min_child_samples': 9, 'subsample': 0.6473326066310626, 'colsample_bytree': 0.5530531803117941, 'reg_alpha': 0.07443310204410378, 'reg_lambda': 3.7010339532877423, 'verbose': -1}. Best is trial 41 with value: 0.7219399538106235.\n",
      "[I 2025-01-06 09:16:52,383] Trial 74 finished with value: 0.7199384141647421 and parameters: {'n_estimators': 238, 'learning_rate': 0.018983499980065294, 'max_depth': 9, 'num_leaves': 102, 'min_child_samples': 9, 'subsample': 0.6464702318878676, 'colsample_bytree': 0.5524995522436513, 'reg_alpha': 0.0749574404601638, 'reg_lambda': 3.656983578615335, 'verbose': -1}. Best is trial 41 with value: 0.7219399538106235.\n",
      "[I 2025-01-06 09:16:55,418] Trial 75 finished with value: 0.7176289453425713 and parameters: {'n_estimators': 254, 'learning_rate': 0.034782274495996884, 'max_depth': 9, 'num_leaves': 101, 'min_child_samples': 8, 'subsample': 0.6895327221946174, 'colsample_bytree': 0.5707396213960677, 'reg_alpha': 0.060151234611950585, 'reg_lambda': 5.1817790640392865, 'verbose': -1}. Best is trial 41 with value: 0.7219399538106235.\n",
      "[I 2025-01-06 09:16:58,538] Trial 76 finished with value: 0.7194765204003079 and parameters: {'n_estimators': 249, 'learning_rate': 0.027315762557837145, 'max_depth': 10, 'num_leaves': 118, 'min_child_samples': 9, 'subsample': 0.6822972078435923, 'colsample_bytree': 0.5614373800016189, 'reg_alpha': 0.06405087294363924, 'reg_lambda': 3.472803401209017, 'verbose': -1}. Best is trial 41 with value: 0.7219399538106235.\n",
      "[I 2025-01-06 09:17:01,212] Trial 77 finished with value: 0.7167051578137029 and parameters: {'n_estimators': 260, 'learning_rate': 0.012391146649026966, 'max_depth': 8, 'num_leaves': 107, 'min_child_samples': 8, 'subsample': 0.6737677648328417, 'colsample_bytree': 0.5748417828259154, 'reg_alpha': 0.07989406860346764, 'reg_lambda': 3.229418974857823, 'verbose': -1}. Best is trial 41 with value: 0.7219399538106235.\n",
      "[I 2025-01-06 09:17:03,659] Trial 78 finished with value: 0.7191685912240184 and parameters: {'n_estimators': 198, 'learning_rate': 0.02414554718310353, 'max_depth': 9, 'num_leaves': 122, 'min_child_samples': 10, 'subsample': 0.6647718804212503, 'colsample_bytree': 0.5832655158820353, 'reg_alpha': 0.07182820060247916, 'reg_lambda': 3.879816371039671, 'verbose': -1}. Best is trial 41 with value: 0.7219399538106235.\n",
      "[I 2025-01-06 09:17:06,362] Trial 79 finished with value: 0.7190146266358737 and parameters: {'n_estimators': 224, 'learning_rate': 0.030471207640717486, 'max_depth': 10, 'num_leaves': 103, 'min_child_samples': 9, 'subsample': 0.6546349237760719, 'colsample_bytree': 0.5558603594316756, 'reg_alpha': 0.08329546361865359, 'reg_lambda': 4.0567678795643065, 'verbose': -1}. Best is trial 41 with value: 0.7219399538106235.\n",
      "[I 2025-01-06 09:17:09,663] Trial 80 finished with value: 0.7156274056966898 and parameters: {'n_estimators': 282, 'learning_rate': 0.016254628666935854, 'max_depth': 9, 'num_leaves': 100, 'min_child_samples': 7, 'subsample': 0.6698311018547003, 'colsample_bytree': 0.5932380493671154, 'reg_alpha': 0.008718824012842047, 'reg_lambda': 5.440856849868654, 'verbose': -1}. Best is trial 41 with value: 0.7219399538106235.\n",
      "[I 2025-01-06 09:17:12,142] Trial 81 finished with value: 0.7173210161662819 and parameters: {'n_estimators': 266, 'learning_rate': 0.02253561466615235, 'max_depth': 9, 'num_leaves': 100, 'min_child_samples': 15, 'subsample': 0.6396237145504425, 'colsample_bytree': 0.5357287179487205, 'reg_alpha': 0.0969437171250423, 'reg_lambda': 3.7316589949837433, 'verbose': -1}. Best is trial 41 with value: 0.7219399538106235.\n",
      "[I 2025-01-06 09:17:15,496] Trial 82 finished with value: 0.7167051578137029 and parameters: {'n_estimators': 258, 'learning_rate': 0.0200919643701024, 'max_depth': 9, 'num_leaves': 105, 'min_child_samples': 7, 'subsample': 0.6492868177950514, 'colsample_bytree': 0.545859064756173, 'reg_alpha': 0.08664623877121144, 'reg_lambda': 3.753570235624168, 'verbose': -1}. Best is trial 41 with value: 0.7219399538106235.\n",
      "[I 2025-01-06 09:17:19,499] Trial 83 finished with value: 0.7185527328714396 and parameters: {'n_estimators': 291, 'learning_rate': 0.027979223817555125, 'max_depth': 9, 'num_leaves': 102, 'min_child_samples': 8, 'subsample': 0.6622130382217657, 'colsample_bytree': 0.564890872446586, 'reg_alpha': 0.09536203770746733, 'reg_lambda': 4.983948358817255, 'verbose': -1}. Best is trial 41 with value: 0.7219399538106235.\n",
      "[I 2025-01-06 09:17:23,078] Trial 84 finished with value: 0.7227097767513473 and parameters: {'n_estimators': 283, 'learning_rate': 0.021163540966103712, 'max_depth': 9, 'num_leaves': 101, 'min_child_samples': 9, 'subsample': 0.67566664347677, 'colsample_bytree': 0.5252007069295895, 'reg_alpha': 0.07358681894415077, 'reg_lambda': 3.610385255094417, 'verbose': -1}. Best is trial 84 with value: 0.7227097767513473.\n",
      "[I 2025-01-06 09:17:26,575] Trial 85 finished with value: 0.7204003079291763 and parameters: {'n_estimators': 300, 'learning_rate': 0.01797053522608784, 'max_depth': 9, 'num_leaves': 106, 'min_child_samples': 9, 'subsample': 0.6777948540888724, 'colsample_bytree': 0.5092019442047826, 'reg_alpha': 0.07324859461221969, 'reg_lambda': 3.605249152511781, 'verbose': -1}. Best is trial 84 with value: 0.7227097767513473.\n",
      "[I 2025-01-06 09:17:29,172] Trial 86 finished with value: 0.7162432640492687 and parameters: {'n_estimators': 282, 'learning_rate': 0.04330973155125482, 'max_depth': 8, 'num_leaves': 109, 'min_child_samples': 8, 'subsample': 0.688113896680827, 'colsample_bytree': 0.5245575245053614, 'reg_alpha': 0.07064051061112375, 'reg_lambda': 3.4739736716991705, 'verbose': -1}. Best is trial 84 with value: 0.7227097767513473.\n",
      "[I 2025-01-06 09:17:32,059] Trial 87 finished with value: 0.719476520400308 and parameters: {'n_estimators': 239, 'learning_rate': 0.02601164836803928, 'max_depth': 9, 'num_leaves': 125, 'min_child_samples': 10, 'subsample': 0.6833553011048373, 'colsample_bytree': 0.5723562399538978, 'reg_alpha': 0.07886455185063657, 'reg_lambda': 3.3884180677236126, 'verbose': -1}. Best is trial 84 with value: 0.7227097767513473.\n",
      "[I 2025-01-06 09:17:35,217] Trial 88 finished with value: 0.7214780600461894 and parameters: {'n_estimators': 285, 'learning_rate': 0.02329516370703322, 'max_depth': 9, 'num_leaves': 101, 'min_child_samples': 9, 'subsample': 0.6998575480886994, 'colsample_bytree': 0.5408030547994883, 'reg_alpha': 0.06799928039385529, 'reg_lambda': 3.2596572380153854, 'verbose': -1}. Best is trial 84 with value: 0.7227097767513473.\n",
      "[I 2025-01-06 09:17:37,365] Trial 89 finished with value: 0.7190146266358737 and parameters: {'n_estimators': 183, 'learning_rate': 0.012269812100499773, 'max_depth': 9, 'num_leaves': 101, 'min_child_samples': 9, 'subsample': 0.6990413334581734, 'colsample_bytree': 0.5410894403951845, 'reg_alpha': 0.06794146978795132, 'reg_lambda': 3.2678892321736703, 'verbose': -1}. Best is trial 84 with value: 0.7227097767513473.\n",
      "[I 2025-01-06 09:17:39,578] Trial 90 finished with value: 0.7154734411085449 and parameters: {'n_estimators': 219, 'learning_rate': 0.014916151334102984, 'max_depth': 8, 'num_leaves': 103, 'min_child_samples': 10, 'subsample': 0.6930106410241116, 'colsample_bytree': 0.5501119191574406, 'reg_alpha': 0.061080225485082365, 'reg_lambda': 3.106705104829532, 'verbose': -1}. Best is trial 84 with value: 0.7227097767513473.\n",
      "[I 2025-01-06 09:17:42,656] Trial 91 finished with value: 0.7271747498075443 and parameters: {'n_estimators': 285, 'learning_rate': 0.023007542937157222, 'max_depth': 9, 'num_leaves': 101, 'min_child_samples': 9, 'subsample': 0.6754653255644233, 'colsample_bytree': 0.5153479009794544, 'reg_alpha': 0.07512515626736012, 'reg_lambda': 3.3370499751525755, 'verbose': -1}. Best is trial 91 with value: 0.7271747498075443.\n",
      "[I 2025-01-06 09:17:45,749] Trial 92 finished with value: 0.7204003079291763 and parameters: {'n_estimators': 287, 'learning_rate': 0.0231460248373946, 'max_depth': 9, 'num_leaves': 101, 'min_child_samples': 9, 'subsample': 0.67059137878728, 'colsample_bytree': 0.515359062962998, 'reg_alpha': 0.05421304417852286, 'reg_lambda': 3.3299051838430094, 'verbose': -1}. Best is trial 91 with value: 0.7271747498075443.\n",
      "[I 2025-01-06 09:17:49,297] Trial 93 finished with value: 0.7208622016936104 and parameters: {'n_estimators': 297, 'learning_rate': 0.02075620036829349, 'max_depth': 9, 'num_leaves': 103, 'min_child_samples': 10, 'subsample': 0.6754625370441004, 'colsample_bytree': 0.5303371741708628, 'reg_alpha': 0.0641896695679128, 'reg_lambda': 3.243016946805691, 'verbose': -1}. Best is trial 91 with value: 0.7271747498075443.\n",
      "[I 2025-01-06 09:17:52,286] Trial 94 finished with value: 0.7207082371054658 and parameters: {'n_estimators': 271, 'learning_rate': 0.017107124474407008, 'max_depth': 9, 'num_leaves': 120, 'min_child_samples': 11, 'subsample': 0.662999655608083, 'colsample_bytree': 0.5205478931283164, 'reg_alpha': 0.05902684041185032, 'reg_lambda': 3.47310559247776, 'verbose': -1}. Best is trial 91 with value: 0.7271747498075443.\n",
      "[I 2025-01-06 09:17:54,600] Trial 95 finished with value: 0.7185527328714396 and parameters: {'n_estimators': 202, 'learning_rate': 0.06135988347584592, 'max_depth': 9, 'num_leaves': 100, 'min_child_samples': 9, 'subsample': 0.6795867565941413, 'colsample_bytree': 0.506149145234714, 'reg_alpha': 0.07598167533126045, 'reg_lambda': 3.6565796814685485, 'verbose': -1}. Best is trial 91 with value: 0.7271747498075443.\n",
      "[I 2025-01-06 09:17:57,337] Trial 96 finished with value: 0.7240954580446497 and parameters: {'n_estimators': 250, 'learning_rate': 0.02363600446794587, 'max_depth': 9, 'num_leaves': 105, 'min_child_samples': 9, 'subsample': 0.6965876406349121, 'colsample_bytree': 0.5149035693827723, 'reg_alpha': 0.08063992085742219, 'reg_lambda': 3.395627257495433, 'verbose': -1}. Best is trial 91 with value: 0.7271747498075443.\n",
      "[I 2025-01-06 09:18:00,235] Trial 97 finished with value: 0.7196304849884527 and parameters: {'n_estimators': 251, 'learning_rate': 0.029129301727986306, 'max_depth': 9, 'num_leaves': 105, 'min_child_samples': 9, 'subsample': 0.6961287912696505, 'colsample_bytree': 0.4918055890625272, 'reg_alpha': 0.08212797295728647, 'reg_lambda': 3.1688374850734427, 'verbose': -1}. Best is trial 91 with value: 0.7271747498075443.\n",
      "[I 2025-01-06 09:18:03,029] Trial 98 finished with value: 0.7171670515781371 and parameters: {'n_estimators': 210, 'learning_rate': 0.026604058699475103, 'max_depth': 10, 'num_leaves': 101, 'min_child_samples': 10, 'subsample': 0.6910349250871712, 'colsample_bytree': 0.5141291685429448, 'reg_alpha': 0.06923269509985355, 'reg_lambda': 3.505587318278304, 'verbose': -1}. Best is trial 91 with value: 0.7271747498075443.\n",
      "[I 2025-01-06 09:18:05,973] Trial 99 finished with value: 0.7208622016936105 and parameters: {'n_estimators': 257, 'learning_rate': 0.018585086095438737, 'max_depth': 9, 'num_leaves': 104, 'min_child_samples': 9, 'subsample': 0.6899213059274475, 'colsample_bytree': 0.524432678456159, 'reg_alpha': 0.06478611701380495, 'reg_lambda': 5.344920102074477, 'verbose': -1}. Best is trial 91 with value: 0.7271747498075443.\n"
     ]
    },
    {
     "data": {
      "text/plain": [
       "({'n_estimators': 285,\n",
       "  'learning_rate': 0.023007542937157222,\n",
       "  'max_depth': 9,\n",
       "  'num_leaves': 101,\n",
       "  'min_child_samples': 9,\n",
       "  'subsample': 0.6754653255644233,\n",
       "  'colsample_bytree': 0.5153479009794544,\n",
       "  'reg_alpha': 0.07512515626736012,\n",
       "  'reg_lambda': 3.3370499751525755,\n",
       "  'verbose': -1},\n",
       " 0.7271747498075443)"
      ]
     },
     "execution_count": 27,
     "metadata": {},
     "output_type": "execute_result"
    }
   ],
   "source": [
    "params = {\n",
    "    \"n_estimators\": {\"type\": \"int\", \"min\": 100, \"max\": 300},\n",
    "    \"learning_rate\": {\"type\": \"float\", \"min\": 0.01, \"max\": 0.1}, \n",
    "    \"max_depth\": {\"type\": \"int\", \"min\": 8, \"max\": 12},\n",
    "    \"num_leaves\": {\"type\": \"int\", \"min\": 100, \"max\": 150},\n",
    "    \"min_child_samples\": {\"type\": \"int\", \"min\": 5, \"max\": 15},\n",
    "    \"subsample\": {\"type\": \"float\", \"min\": 0.5, \"max\": 0.7},\n",
    "    \"colsample_bytree\": {\"type\": \"float\", \"min\": 0.4, \"max\": 0.6},\n",
    "    \"reg_alpha\": {\"type\": \"float\", \"min\": 0.001, \"max\": 0.1},\n",
    "    \"reg_lambda\": {\"type\": \"float\", \"min\": 3.0, \"max\": 6.0},\n",
    "    \"verbose\": {\"type\": \"int\", \"min\": -1, \"max\": -1}\n",
    "}\n",
    "\n",
    "lgbm_tuner = HyperparameterTuner(LGBMClassifier, params, train_x, train_y)\n",
    "lgbm_tuner.optimize(100)\n",
    "lgbm_tuner.best_params(), lgbm_tuner.best_score()"
   ]
  },
  {
   "cell_type": "code",
   "execution_count": 82,
   "metadata": {},
   "outputs": [
    {
     "name": "stdout",
     "output_type": "stream",
     "text": [
      "              precision    recall  f1-score   support\n",
      "\n",
      "           0       0.79      0.78      0.78      1060\n",
      "           1       0.78      0.79      0.79      1054\n",
      "\n",
      "    accuracy                           0.78      2114\n",
      "   macro avg       0.78      0.78      0.78      2114\n",
      "weighted avg       0.78      0.78      0.78      2114\n",
      "\n"
     ]
    }
   ],
   "source": [
    "params = {\n",
    "    \"n_estimators\": 285,\n",
    "    \"learning_rate\": 0.023007542937157222,\n",
    "    \"max_depth\": 9,\n",
    "    \"num_leaves\": 101,\n",
    "    \"min_child_samples\": 9,\n",
    "    \"subsample\": 0.6754653255644233,\n",
    "    \"colsample_bytree\": 0.5153479009794544,\n",
    "    \"reg_alpha\": 0.07512515626736012,\n",
    "    \"reg_lambda\": 3.3370499751525755,\n",
    "    \"verbose\": -1,\n",
    "}\n",
    "\n",
    "\n",
    "lgbm_final = LGBMClassifier(**params)\n",
    "lgbm_final.fit(train_x, train_y)\n",
    "print(classification_report(valid_y, lgbm_final.predict(valid_x)))"
   ]
  },
  {
   "cell_type": "markdown",
   "metadata": {},
   "source": [
    "- RandomForestClassifier"
   ]
  },
  {
   "cell_type": "code",
   "execution_count": 30,
   "metadata": {},
   "outputs": [
    {
     "name": "stderr",
     "output_type": "stream",
     "text": [
      "[I 2025-01-06 09:19:14,051] A new study created in memory with name: no-name-7901a959-7c34-431f-a921-ddbe01a95791\n",
      "[I 2025-01-06 09:25:25,819] Trial 0 finished with value: 0.7145496535796767 and parameters: {'n_estimators': 979, 'max_depth': 16, 'min_samples_split': 16, 'min_samples_leaf': 7, 'max_features': 0.7250125705210512, 'bootstrap': False, 'class_weight': 'balanced'}. Best is trial 0 with value: 0.7145496535796767.\n",
      "[I 2025-01-06 09:31:12,397] Trial 1 finished with value: 0.7168591224018476 and parameters: {'n_estimators': 956, 'max_depth': 16, 'min_samples_split': 19, 'min_samples_leaf': 8, 'max_features': 0.7046712723377266, 'bootstrap': False, 'class_weight': 'balanced'}. Best is trial 1 with value: 0.7168591224018476.\n",
      "[I 2025-01-06 09:37:41,073] Trial 2 finished with value: 0.7179368745188606 and parameters: {'n_estimators': 949, 'max_depth': 19, 'min_samples_split': 22, 'min_samples_leaf': 10, 'max_features': 0.8097480916988163, 'bootstrap': False, 'class_weight': 'balanced'}. Best is trial 2 with value: 0.7179368745188606.\n",
      "[I 2025-01-06 09:44:18,749] Trial 3 finished with value: 0.7173210161662817 and parameters: {'n_estimators': 1098, 'max_depth': 15, 'min_samples_split': 18, 'min_samples_leaf': 10, 'max_features': 0.7320767765132162, 'bootstrap': False, 'class_weight': 'balanced'}. Best is trial 2 with value: 0.7179368745188606.\n",
      "[I 2025-01-06 09:50:52,706] Trial 4 finished with value: 0.7185527328714396 and parameters: {'n_estimators': 916, 'max_depth': 21, 'min_samples_split': 23, 'min_samples_leaf': 9, 'max_features': 0.8438292517251353, 'bootstrap': False, 'class_weight': 'balanced'}. Best is trial 4 with value: 0.7185527328714396.\n",
      "[I 2025-01-06 09:56:21,914] Trial 5 finished with value: 0.7176289453425712 and parameters: {'n_estimators': 930, 'max_depth': 16, 'min_samples_split': 17, 'min_samples_leaf': 9, 'max_features': 0.7006991401654284, 'bootstrap': False, 'class_weight': 'balanced'}. Best is trial 4 with value: 0.7185527328714396.\n",
      "[I 2025-01-06 10:02:56,411] Trial 6 finished with value: 0.7162432640492687 and parameters: {'n_estimators': 1070, 'max_depth': 18, 'min_samples_split': 22, 'min_samples_leaf': 11, 'max_features': 0.7305539551044294, 'bootstrap': False, 'class_weight': 'balanced'}. Best is trial 4 with value: 0.7185527328714396.\n",
      "[I 2025-01-06 10:08:39,602] Trial 7 finished with value: 0.7148575827559662 and parameters: {'n_estimators': 848, 'max_depth': 18, 'min_samples_split': 16, 'min_samples_leaf': 8, 'max_features': 0.773975479719286, 'bootstrap': False, 'class_weight': 'balanced'}. Best is trial 4 with value: 0.7185527328714396.\n",
      "[I 2025-01-06 10:15:12,932] Trial 8 finished with value: 0.7183987682832947 and parameters: {'n_estimators': 1007, 'max_depth': 15, 'min_samples_split': 15, 'min_samples_leaf': 8, 'max_features': 0.7759322452746669, 'bootstrap': False, 'class_weight': 'balanced'}. Best is trial 4 with value: 0.7185527328714396.\n",
      "[I 2025-01-06 10:21:40,582] Trial 9 finished with value: 0.7179368745188607 and parameters: {'n_estimators': 981, 'max_depth': 16, 'min_samples_split': 15, 'min_samples_leaf': 11, 'max_features': 0.7953596876257415, 'bootstrap': False, 'class_weight': 'balanced'}. Best is trial 4 with value: 0.7185527328714396.\n",
      "[I 2025-01-06 10:27:31,551] Trial 10 finished with value: 0.7156274056966897 and parameters: {'n_estimators': 805, 'max_depth': 21, 'min_samples_split': 23, 'min_samples_leaf': 9, 'max_features': 0.8488106779034146, 'bootstrap': False, 'class_weight': 'balanced'}. Best is trial 4 with value: 0.7185527328714396.\n",
      "[I 2025-01-06 10:35:10,330] Trial 11 finished with value: 0.7108545034642033 and parameters: {'n_estimators': 1032, 'max_depth': 21, 'min_samples_split': 20, 'min_samples_leaf': 8, 'max_features': 0.8449425979664666, 'bootstrap': False, 'class_weight': 'balanced'}. Best is trial 4 with value: 0.7185527328714396.\n",
      "[I 2025-01-06 10:41:02,904] Trial 12 finished with value: 0.7176289453425713 and parameters: {'n_estimators': 882, 'max_depth': 19, 'min_samples_split': 20, 'min_samples_leaf': 7, 'max_features': 0.7587703901374233, 'bootstrap': False, 'class_weight': 'balanced'}. Best is trial 4 with value: 0.7185527328714396.\n",
      "[I 2025-01-06 10:48:11,279] Trial 13 finished with value: 0.7179368745188607 and parameters: {'n_estimators': 1018, 'max_depth': 19, 'min_samples_split': 20, 'min_samples_leaf': 9, 'max_features': 0.819168616972185, 'bootstrap': False, 'class_weight': 'balanced'}. Best is trial 4 with value: 0.7185527328714396.\n",
      "[I 2025-01-06 10:54:10,586] Trial 14 finished with value: 0.7180908391070053 and parameters: {'n_estimators': 910, 'max_depth': 20, 'min_samples_split': 23, 'min_samples_leaf': 8, 'max_features': 0.7605710426235139, 'bootstrap': False, 'class_weight': 'balanced'}. Best is trial 4 with value: 0.7185527328714396.\n",
      "[I 2025-01-06 11:01:05,627] Trial 15 finished with value: 0.7160892994611239 and parameters: {'n_estimators': 1019, 'max_depth': 17, 'min_samples_split': 18, 'min_samples_leaf': 10, 'max_features': 0.8180704747991913, 'bootstrap': False, 'class_weight': 'balanced'}. Best is trial 4 with value: 0.7185527328714396.\n",
      "[I 2025-01-06 11:07:04,986] Trial 16 finished with value: 0.7156274056966897 and parameters: {'n_estimators': 881, 'max_depth': 15, 'min_samples_split': 15, 'min_samples_leaf': 7, 'max_features': 0.7921427546451958, 'bootstrap': False, 'class_weight': 'balanced'}. Best is trial 4 with value: 0.7185527328714396.\n",
      "[I 2025-01-06 11:14:22,501] Trial 17 finished with value: 0.7168591224018476 and parameters: {'n_estimators': 995, 'max_depth': 20, 'min_samples_split': 21, 'min_samples_leaf': 8, 'max_features': 0.8312747931335207, 'bootstrap': False, 'class_weight': 'balanced'}. Best is trial 4 with value: 0.7185527328714396.\n",
      "[I 2025-01-06 11:21:25,619] Trial 18 finished with value: 0.7180908391070053 and parameters: {'n_estimators': 1044, 'max_depth': 17, 'min_samples_split': 18, 'min_samples_leaf': 9, 'max_features': 0.7832250118368073, 'bootstrap': False, 'class_weight': 'balanced'}. Best is trial 4 with value: 0.7185527328714396.\n",
      "[I 2025-01-06 11:27:24,262] Trial 19 finished with value: 0.717782909930716 and parameters: {'n_estimators': 905, 'max_depth': 20, 'min_samples_split': 17, 'min_samples_leaf': 10, 'max_features': 0.7548177976905643, 'bootstrap': False, 'class_weight': 'balanced'}. Best is trial 4 with value: 0.7185527328714396.\n"
     ]
    },
    {
     "data": {
      "text/plain": [
       "({'n_estimators': 916,\n",
       "  'max_depth': 21,\n",
       "  'min_samples_split': 23,\n",
       "  'min_samples_leaf': 9,\n",
       "  'max_features': 0.8438292517251353,\n",
       "  'bootstrap': False,\n",
       "  'class_weight': 'balanced'},\n",
       " 0.7185527328714396)"
      ]
     },
     "execution_count": 30,
     "metadata": {},
     "output_type": "execute_result"
    }
   ],
   "source": [
    "params = {\n",
    "    \"n_estimators\": {\"type\": \"int\", \"min\": 800, \"max\": 1100},\n",
    "    \"max_depth\": {\"type\": \"int\", \"min\": 15, \"max\": 21},\n",
    "    \"min_samples_split\": {\"type\": \"int\", \"min\": 15, \"max\": 23},\n",
    "    \"min_samples_leaf\": {\"type\": \"int\", \"min\": 7, \"max\": 11},\n",
    "    \"max_features\": {\"type\": \"float\", \"min\": 0.7, \"max\": 0.85},\n",
    "    \"bootstrap\": {\"type\": \"categorical\", \"values\": [False]},\n",
    "    \"class_weight\": {\"type\": \"categorical\", \"values\": [\"balanced\"]}\n",
    "}\n",
    "\n",
    "rf_tuner = HyperparameterTuner(RandomForestClassifier, params, train_x, train_y)\n",
    "rf_tuner.optimize(20)\n",
    "rf_tuner.best_params(), rf_tuner.best_score()"
   ]
  },
  {
   "cell_type": "code",
   "execution_count": 83,
   "metadata": {},
   "outputs": [
    {
     "name": "stdout",
     "output_type": "stream",
     "text": [
      "              precision    recall  f1-score   support\n",
      "\n",
      "           0       0.79      0.73      0.76      1060\n",
      "           1       0.75      0.80      0.77      1054\n",
      "\n",
      "    accuracy                           0.77      2114\n",
      "   macro avg       0.77      0.77      0.77      2114\n",
      "weighted avg       0.77      0.77      0.77      2114\n",
      "\n"
     ]
    }
   ],
   "source": [
    "params = {\n",
    "    \"n_estimators\": 954,\n",
    "    \"max_depth\": 18,\n",
    "    \"min_samples_split\": 19,\n",
    "    \"min_samples_leaf\": 9,\n",
    "    \"max_features\": 0.7814902230628112,\n",
    "    \"bootstrap\": False,\n",
    "    \"class_weight\": \"balanced\",\n",
    "}\n",
    "\n",
    "rf_final = RandomForestClassifier(**params)\n",
    "rf_final.fit(train_x, train_y)\n",
    "print(classification_report(valid_y, rf_final.predict(valid_x)))"
   ]
  },
  {
   "cell_type": "markdown",
   "metadata": {},
   "source": [
    "- HistGradientBoostingClassifier"
   ]
  },
  {
   "cell_type": "code",
   "execution_count": 33,
   "metadata": {},
   "outputs": [
    {
     "name": "stderr",
     "output_type": "stream",
     "text": [
      "[I 2025-01-06 11:36:00,248] A new study created in memory with name: no-name-f6e06582-f708-4791-a7d8-d939124450dc\n",
      "[I 2025-01-06 11:36:05,648] Trial 0 finished with value: 0.7185527328714396 and parameters: {'learning_rate': 0.029579622837584058, 'max_depth': 8, 'max_iter': 140, 'min_samples_leaf': 14, 'l2_regularization': 0.7809723320460857, 'max_leaf_nodes': 90}. Best is trial 0 with value: 0.7185527328714396.\n",
      "[I 2025-01-06 11:36:16,034] Trial 1 finished with value: 0.7245573518090839 and parameters: {'learning_rate': 0.04415991087472192, 'max_depth': 13, 'max_iter': 234, 'min_samples_leaf': 7, 'l2_regularization': 2.4451110859810057, 'max_leaf_nodes': 69}. Best is trial 1 with value: 0.7245573518090839.\n",
      "[I 2025-01-06 11:36:20,902] Trial 2 finished with value: 0.7240954580446497 and parameters: {'learning_rate': 0.03691044053932341, 'max_depth': 10, 'max_iter': 118, 'min_samples_leaf': 5, 'l2_regularization': 0.8683846605628738, 'max_leaf_nodes': 68}. Best is trial 1 with value: 0.7245573518090839.\n",
      "[I 2025-01-06 11:36:26,970] Trial 3 finished with value: 0.7220939183987684 and parameters: {'learning_rate': 0.04873154796191133, 'max_depth': 15, 'max_iter': 204, 'min_samples_leaf': 13, 'l2_regularization': 2.846543017412204, 'max_leaf_nodes': 63}. Best is trial 1 with value: 0.7245573518090839.\n",
      "[I 2025-01-06 11:36:33,917] Trial 4 finished with value: 0.720554272517321 and parameters: {'learning_rate': 0.02373112888023612, 'max_depth': 11, 'max_iter': 233, 'min_samples_leaf': 15, 'l2_regularization': 1.984111220187652, 'max_leaf_nodes': 83}. Best is trial 1 with value: 0.7245573518090839.\n",
      "[I 2025-01-06 11:36:37,223] Trial 5 finished with value: 0.7204003079291763 and parameters: {'learning_rate': 0.09404977747442933, 'max_depth': 13, 'max_iter': 159, 'min_samples_leaf': 10, 'l2_regularization': 1.8964326505662035, 'max_leaf_nodes': 43}. Best is trial 1 with value: 0.7245573518090839.\n",
      "[I 2025-01-06 11:36:40,515] Trial 6 finished with value: 0.7202463433410314 and parameters: {'learning_rate': 0.022002416826980502, 'max_depth': 9, 'max_iter': 179, 'min_samples_leaf': 13, 'l2_regularization': 1.7235928307824193, 'max_leaf_nodes': 43}. Best is trial 1 with value: 0.7245573518090839.\n",
      "[I 2025-01-06 11:36:44,732] Trial 7 finished with value: 0.7162432640492687 and parameters: {'learning_rate': 0.0953077389651652, 'max_depth': 11, 'max_iter': 133, 'min_samples_leaf': 12, 'l2_regularization': 2.6448570798840616, 'max_leaf_nodes': 84}. Best is trial 1 with value: 0.7245573518090839.\n",
      "[I 2025-01-06 11:36:52,465] Trial 8 finished with value: 0.7160892994611239 and parameters: {'learning_rate': 0.011657847517520688, 'max_depth': 10, 'max_iter': 267, 'min_samples_leaf': 13, 'l2_regularization': 1.529411967989141, 'max_leaf_nodes': 74}. Best is trial 1 with value: 0.7245573518090839.\n",
      "[I 2025-01-06 11:36:59,333] Trial 9 finished with value: 0.7200923787528868 and parameters: {'learning_rate': 0.016114858027716013, 'max_depth': 8, 'max_iter': 247, 'min_samples_leaf': 9, 'l2_regularization': 1.8337404868060911, 'max_leaf_nodes': 84}. Best is trial 1 with value: 0.7245573518090839.\n",
      "[I 2025-01-06 11:37:06,978] Trial 10 finished with value: 0.7190146266358737 and parameters: {'learning_rate': 0.07037170351253122, 'max_depth': 13, 'max_iter': 281, 'min_samples_leaf': 6, 'l2_regularization': 2.425700573718001, 'max_leaf_nodes': 57}. Best is trial 1 with value: 0.7245573518090839.\n",
      "[I 2025-01-06 11:37:10,552] Trial 11 finished with value: 0.7240954580446497 and parameters: {'learning_rate': 0.042686526527454395, 'max_depth': 13, 'max_iter': 107, 'min_samples_leaf': 5, 'l2_regularization': 0.7462748046761597, 'max_leaf_nodes': 69}. Best is trial 1 with value: 0.7245573518090839.\n",
      "[I 2025-01-06 11:37:15,921] Trial 12 finished with value: 0.7264049268668206 and parameters: {'learning_rate': 0.06628922321524222, 'max_depth': 15, 'max_iter': 202, 'min_samples_leaf': 7, 'l2_regularization': 1.2429284573290427, 'max_leaf_nodes': 56}. Best is trial 12 with value: 0.7264049268668206.\n",
      "[I 2025-01-06 11:37:20,735] Trial 13 finished with value: 0.7247113163972285 and parameters: {'learning_rate': 0.06351490551910631, 'max_depth': 15, 'max_iter': 211, 'min_samples_leaf': 8, 'l2_regularization': 1.321026750363547, 'max_leaf_nodes': 51}. Best is trial 12 with value: 0.7264049268668206.\n",
      "[I 2025-01-06 11:37:25,373] Trial 14 finished with value: 0.7208622016936104 and parameters: {'learning_rate': 0.0660592000939601, 'max_depth': 15, 'max_iter': 198, 'min_samples_leaf': 8, 'l2_regularization': 1.2487488422490296, 'max_leaf_nodes': 53}. Best is trial 12 with value: 0.7264049268668206.\n",
      "[I 2025-01-06 11:37:30,733] Trial 15 finished with value: 0.7260969976905312 and parameters: {'learning_rate': 0.06334275228392297, 'max_depth': 14, 'max_iter': 208, 'min_samples_leaf': 8, 'l2_regularization': 1.1938246390271205, 'max_leaf_nodes': 51}. Best is trial 12 with value: 0.7264049268668206.\n",
      "[I 2025-01-06 11:37:35,163] Trial 16 finished with value: 0.7259430331023864 and parameters: {'learning_rate': 0.08026949462553704, 'max_depth': 14, 'max_iter': 174, 'min_samples_leaf': 11, 'l2_regularization': 1.1057662259584284, 'max_leaf_nodes': 58}. Best is trial 12 with value: 0.7264049268668206.\n",
      "[I 2025-01-06 11:37:39,397] Trial 17 finished with value: 0.7293302540415705 and parameters: {'learning_rate': 0.08032602182745999, 'max_depth': 14, 'max_iter': 211, 'min_samples_leaf': 7, 'l2_regularization': 0.5242567345724982, 'max_leaf_nodes': 47}. Best is trial 17 with value: 0.7293302540415705.\n",
      "[I 2025-01-06 11:37:43,838] Trial 18 finished with value: 0.7187066974595844 and parameters: {'learning_rate': 0.08253300687356814, 'max_depth': 14, 'max_iter': 248, 'min_samples_leaf': 6, 'l2_regularization': 0.9555758198014377, 'max_leaf_nodes': 40}. Best is trial 17 with value: 0.7293302540415705.\n",
      "[I 2025-01-06 11:37:47,413] Trial 19 finished with value: 0.7276366435719785 and parameters: {'learning_rate': 0.07977035562427967, 'max_depth': 12, 'max_iter': 183, 'min_samples_leaf': 10, 'l2_regularization': 0.5718414479865964, 'max_leaf_nodes': 48}. Best is trial 17 with value: 0.7293302540415705.\n",
      "[I 2025-01-06 11:37:52,832] Trial 20 finished with value: 0.7213240954580447 and parameters: {'learning_rate': 0.08628261197910564, 'max_depth': 12, 'max_iter': 296, 'min_samples_leaf': 10, 'l2_regularization': 0.597856862075707, 'max_leaf_nodes': 47}. Best is trial 17 with value: 0.7293302540415705.\n",
      "[I 2025-01-06 11:37:56,987] Trial 21 finished with value: 0.727944572748268 and parameters: {'learning_rate': 0.07529734187227596, 'max_depth': 12, 'max_iter': 182, 'min_samples_leaf': 7, 'l2_regularization': 0.5029075409603287, 'max_leaf_nodes': 57}. Best is trial 17 with value: 0.7293302540415705.\n",
      "[I 2025-01-06 11:38:00,470] Trial 22 finished with value: 0.7305619707467282 and parameters: {'learning_rate': 0.07793890784034921, 'max_depth': 12, 'max_iter': 179, 'min_samples_leaf': 9, 'l2_regularization': 0.5009732796738887, 'max_leaf_nodes': 47}. Best is trial 22 with value: 0.7305619707467282.\n",
      "[I 2025-01-06 11:38:04,980] Trial 23 finished with value: 0.7296381832178599 and parameters: {'learning_rate': 0.07432997352124139, 'max_depth': 12, 'max_iter': 157, 'min_samples_leaf': 7, 'l2_regularization': 0.5795270306782394, 'max_leaf_nodes': 61}. Best is trial 22 with value: 0.7305619707467282.\n",
      "[I 2025-01-06 11:38:08,913] Trial 24 finished with value: 0.7267128560431101 and parameters: {'learning_rate': 0.09026014986108852, 'max_depth': 11, 'max_iter': 154, 'min_samples_leaf': 9, 'l2_regularization': 0.9447457713082867, 'max_leaf_nodes': 63}. Best is trial 22 with value: 0.7305619707467282.\n",
      "[I 2025-01-06 11:38:12,112] Trial 25 finished with value: 0.7280985373364126 and parameters: {'learning_rate': 0.054132717868380156, 'max_depth': 10, 'max_iter': 158, 'min_samples_leaf': 6, 'l2_regularization': 0.6890992616195641, 'max_leaf_nodes': 47}. Best is trial 22 with value: 0.7305619707467282.\n",
      "[I 2025-01-06 11:38:18,582] Trial 26 finished with value: 0.721632024634334 and parameters: {'learning_rate': 0.07288405803985465, 'max_depth': 12, 'max_iter': 223, 'min_samples_leaf': 9, 'l2_regularization': 1.0266124191262809, 'max_leaf_nodes': 75}. Best is trial 22 with value: 0.7305619707467282.\n",
      "[I 2025-01-06 11:38:21,013] Trial 27 finished with value: 0.7253271747498075 and parameters: {'learning_rate': 0.08770046503740489, 'max_depth': 14, 'max_iter': 131, 'min_samples_leaf': 8, 'l2_regularization': 1.4391970121241313, 'max_leaf_nodes': 41}. Best is trial 22 with value: 0.7305619707467282.\n",
      "[I 2025-01-06 11:38:25,721] Trial 28 finished with value: 0.7276366435719784 and parameters: {'learning_rate': 0.09894171165246363, 'max_depth': 13, 'max_iter': 167, 'min_samples_leaf': 7, 'l2_regularization': 0.7630280016968976, 'max_leaf_nodes': 62}. Best is trial 22 with value: 0.7305619707467282.\n",
      "[I 2025-01-06 11:38:28,346] Trial 29 finished with value: 0.729022324865281 and parameters: {'learning_rate': 0.05967797130760251, 'max_depth': 11, 'max_iter': 142, 'min_samples_leaf': 11, 'l2_regularization': 0.8062517048282203, 'max_leaf_nodes': 45}. Best is trial 22 with value: 0.7305619707467282.\n",
      "[I 2025-01-06 11:38:31,726] Trial 30 finished with value: 0.7288683602771362 and parameters: {'learning_rate': 0.05582676118757425, 'max_depth': 9, 'max_iter': 146, 'min_samples_leaf': 6, 'l2_regularization': 0.5196487263107026, 'max_leaf_nodes': 53}. Best is trial 22 with value: 0.7305619707467282.\n",
      "[I 2025-01-06 11:38:34,307] Trial 31 finished with value: 0.7256351039260971 and parameters: {'learning_rate': 0.05966332180527688, 'max_depth': 11, 'max_iter': 140, 'min_samples_leaf': 11, 'l2_regularization': 0.7938119699322943, 'max_leaf_nodes': 46}. Best is trial 22 with value: 0.7305619707467282.\n",
      "[I 2025-01-06 11:38:36,571] Trial 32 finished with value: 0.722247882986913 and parameters: {'learning_rate': 0.074725859173278, 'max_depth': 12, 'max_iter': 121, 'min_samples_leaf': 11, 'l2_regularization': 0.6793049738732905, 'max_leaf_nodes': 45}. Best is trial 22 with value: 0.7305619707467282.\n",
      "[I 2025-01-06 11:38:40,458] Trial 33 finished with value: 0.7234795996920709 and parameters: {'learning_rate': 0.06943283389190272, 'max_depth': 11, 'max_iter': 190, 'min_samples_leaf': 9, 'l2_regularization': 0.8685662546701669, 'max_leaf_nodes': 49}. Best is trial 22 with value: 0.7305619707467282.\n",
      "[I 2025-01-06 11:38:44,635] Trial 34 finished with value: 0.7247113163972287 and parameters: {'learning_rate': 0.0788279035892787, 'max_depth': 10, 'max_iter': 165, 'min_samples_leaf': 5, 'l2_regularization': 0.66406465196972, 'max_leaf_nodes': 60}. Best is trial 22 with value: 0.7305619707467282.\n",
      "[I 2025-01-06 11:38:49,423] Trial 35 finished with value: 0.7276366435719785 and parameters: {'learning_rate': 0.04748637906380658, 'max_depth': 13, 'max_iter': 217, 'min_samples_leaf': 12, 'l2_regularization': 1.0613410666165213, 'max_leaf_nodes': 54}. Best is trial 22 with value: 0.7305619707467282.\n",
      "[I 2025-01-06 11:38:52,521] Trial 36 finished with value: 0.7251732101616628 and parameters: {'learning_rate': 0.03552144121239869, 'max_depth': 12, 'max_iter': 102, 'min_samples_leaf': 7, 'l2_regularization': 2.184640397888572, 'max_leaf_nodes': 66}. Best is trial 22 with value: 0.7305619707467282.\n",
      "[I 2025-01-06 11:38:55,149] Trial 37 finished with value: 0.7217859892224788 and parameters: {'learning_rate': 0.05883987109981825, 'max_depth': 10, 'max_iter': 150, 'min_samples_leaf': 15, 'l2_regularization': 0.8656573140671622, 'max_leaf_nodes': 43}. Best is trial 22 with value: 0.7305619707467282.\n",
      "[I 2025-01-06 11:39:00,537] Trial 38 finished with value: 0.716551193225558 and parameters: {'learning_rate': 0.08360299013250917, 'max_depth': 11, 'max_iter': 192, 'min_samples_leaf': 12, 'l2_regularization': 2.968208288966805, 'max_leaf_nodes': 75}. Best is trial 22 with value: 0.7305619707467282.\n",
      "[I 2025-01-06 11:39:03,692] Trial 39 finished with value: 0.722247882986913 and parameters: {'learning_rate': 0.09197346537708637, 'max_depth': 9, 'max_iter': 125, 'min_samples_leaf': 14, 'l2_regularization': 0.5208961358686206, 'max_leaf_nodes': 89}. Best is trial 22 with value: 0.7305619707467282.\n",
      "[I 2025-01-06 11:39:07,268] Trial 40 finished with value: 0.7244033872209391 and parameters: {'learning_rate': 0.07639532642235539, 'max_depth': 11, 'max_iter': 171, 'min_samples_leaf': 10, 'l2_regularization': 0.8285402050545976, 'max_leaf_nodes': 50}. Best is trial 22 with value: 0.7305619707467282.\n",
      "[I 2025-01-06 11:39:10,381] Trial 41 finished with value: 0.729022324865281 and parameters: {'learning_rate': 0.053305701947167924, 'max_depth': 9, 'max_iter': 144, 'min_samples_leaf': 6, 'l2_regularization': 0.5863809132374578, 'max_leaf_nodes': 53}. Best is trial 22 with value: 0.7305619707467282.\n",
      "[I 2025-01-06 11:39:13,178] Trial 42 finished with value: 0.7285604311008468 and parameters: {'learning_rate': 0.050600539549219656, 'max_depth': 9, 'max_iter': 141, 'min_samples_leaf': 5, 'l2_regularization': 0.6477103676580707, 'max_leaf_nodes': 44}. Best is trial 22 with value: 0.7305619707467282.\n",
      "[I 2025-01-06 11:39:15,799] Trial 43 finished with value: 0.7311778290993072 and parameters: {'learning_rate': 0.044934158178514275, 'max_depth': 8, 'max_iter': 111, 'min_samples_leaf': 6, 'l2_regularization': 0.6362513321722203, 'max_leaf_nodes': 54}. Best is trial 43 with value: 0.7311778290993072.\n",
      "[I 2025-01-06 11:39:18,404] Trial 44 finished with value: 0.7251732101616628 and parameters: {'learning_rate': 0.04330182920001285, 'max_depth': 8, 'max_iter': 109, 'min_samples_leaf': 7, 'l2_regularization': 0.9168308656244846, 'max_leaf_nodes': 59}. Best is trial 43 with value: 0.7311778290993072.\n",
      "[I 2025-01-06 11:39:21,083] Trial 45 finished with value: 0.7236335642802155 and parameters: {'learning_rate': 0.024879213602814743, 'max_depth': 8, 'max_iter': 117, 'min_samples_leaf': 8, 'l2_regularization': 1.625996708705438, 'max_leaf_nodes': 55}. Best is trial 43 with value: 0.7311778290993072.\n",
      "[I 2025-01-06 11:39:25,784] Trial 46 finished with value: 0.7310238645111624 and parameters: {'learning_rate': 0.03638583980206061, 'max_depth': 13, 'max_iter': 236, 'min_samples_leaf': 6, 'l2_regularization': 0.7514386503301489, 'max_leaf_nodes': 42}. Best is trial 43 with value: 0.7311778290993072.\n",
      "[I 2025-01-06 11:39:30,075] Trial 47 finished with value: 0.7288683602771362 and parameters: {'learning_rate': 0.037621237505312786, 'max_depth': 13, 'max_iter': 241, 'min_samples_leaf': 6, 'l2_regularization': 0.712979615213865, 'max_leaf_nodes': 41}. Best is trial 43 with value: 0.7311778290993072.\n",
      "[I 2025-01-06 11:39:37,828] Trial 48 finished with value: 0.7200923787528868 and parameters: {'learning_rate': 0.029212264161804117, 'max_depth': 14, 'max_iter': 228, 'min_samples_leaf': 5, 'l2_regularization': 2.013012254431284, 'max_leaf_nodes': 72}. Best is trial 43 with value: 0.7311778290993072.\n",
      "[I 2025-01-06 11:39:45,654] Trial 49 finished with value: 0.7271747498075444 and parameters: {'learning_rate': 0.03771965230927373, 'max_depth': 13, 'max_iter': 265, 'min_samples_leaf': 7, 'l2_regularization': 1.1047259382968402, 'max_leaf_nodes': 66}. Best is trial 43 with value: 0.7311778290993072.\n",
      "[I 2025-01-06 11:39:50,702] Trial 50 finished with value: 0.7230177059276367 and parameters: {'learning_rate': 0.03249852155544644, 'max_depth': 14, 'max_iter': 215, 'min_samples_leaf': 8, 'l2_regularization': 1.38987648213277, 'max_leaf_nodes': 50}. Best is trial 43 with value: 0.7311778290993072.\n",
      "[I 2025-01-06 11:39:53,513] Trial 51 finished with value: 0.7276366435719785 and parameters: {'learning_rate': 0.06671407177323876, 'max_depth': 12, 'max_iter': 130, 'min_samples_leaf': 6, 'l2_regularization': 0.7777350622142726, 'max_leaf_nodes': 45}. Best is trial 43 with value: 0.7311778290993072.\n",
      "[I 2025-01-06 11:39:58,305] Trial 52 finished with value: 0.7301000769822942 and parameters: {'learning_rate': 0.048683903004393854, 'max_depth': 13, 'max_iter': 260, 'min_samples_leaf': 7, 'l2_regularization': 0.608658453077869, 'max_leaf_nodes': 41}. Best is trial 43 with value: 0.7311778290993072.\n",
      "[I 2025-01-06 11:40:02,868] Trial 53 finished with value: 0.7304080061585834 and parameters: {'learning_rate': 0.047325966706184566, 'max_depth': 13, 'max_iter': 249, 'min_samples_leaf': 7, 'l2_regularization': 0.5008720215136955, 'max_leaf_nodes': 42}. Best is trial 43 with value: 0.7311778290993072.\n",
      "[I 2025-01-06 11:40:07,890] Trial 54 finished with value: 0.731793687451886 and parameters: {'learning_rate': 0.047783929658577605, 'max_depth': 13, 'max_iter': 256, 'min_samples_leaf': 6, 'l2_regularization': 0.6407776695709743, 'max_leaf_nodes': 42}. Best is trial 54 with value: 0.731793687451886.\n",
      "[I 2025-01-06 11:40:13,164] Trial 55 finished with value: 0.72963818321786 and parameters: {'learning_rate': 0.04089494388836452, 'max_depth': 13, 'max_iter': 257, 'min_samples_leaf': 5, 'l2_regularization': 0.632676553318956, 'max_leaf_nodes': 42}. Best is trial 54 with value: 0.731793687451886.\n",
      "[I 2025-01-06 11:40:18,797] Trial 56 finished with value: 0.7311778290993071 and parameters: {'learning_rate': 0.046554254324494476, 'max_depth': 13, 'max_iter': 276, 'min_samples_leaf': 6, 'l2_regularization': 0.9896755077957535, 'max_leaf_nodes': 43}. Best is trial 54 with value: 0.731793687451886.\n",
      "[I 2025-01-06 11:40:24,175] Trial 57 finished with value: 0.7224018475750577 and parameters: {'learning_rate': 0.04400032147497397, 'max_depth': 13, 'max_iter': 279, 'min_samples_leaf': 6, 'l2_regularization': 0.9977037128130082, 'max_leaf_nodes': 43}. Best is trial 54 with value: 0.731793687451886.\n",
      "[I 2025-01-06 11:40:29,511] Trial 58 finished with value: 0.7285604311008468 and parameters: {'learning_rate': 0.0407588734134914, 'max_depth': 13, 'max_iter': 278, 'min_samples_leaf': 5, 'l2_regularization': 0.7023388429681489, 'max_leaf_nodes': 40}. Best is trial 54 with value: 0.731793687451886.\n",
      "[I 2025-01-06 11:40:34,982] Trial 59 finished with value: 0.7231716705157814 and parameters: {'learning_rate': 0.028856016906521863, 'max_depth': 14, 'max_iter': 238, 'min_samples_leaf': 6, 'l2_regularization': 1.2057990646440038, 'max_leaf_nodes': 48}. Best is trial 54 with value: 0.731793687451886.\n",
      "[I 2025-01-06 11:40:40,996] Trial 60 finished with value: 0.720554272517321 and parameters: {'learning_rate': 0.0461208377801922, 'max_depth': 12, 'max_iter': 288, 'min_samples_leaf': 5, 'l2_regularization': 2.6464136333810404, 'max_leaf_nodes': 43}. Best is trial 54 with value: 0.731793687451886.\n",
      "[I 2025-01-06 11:40:45,814] Trial 61 finished with value: 0.7299461123941494 and parameters: {'learning_rate': 0.05079338161286363, 'max_depth': 13, 'max_iter': 260, 'min_samples_leaf': 7, 'l2_regularization': 0.5030484054549453, 'max_leaf_nodes': 41}. Best is trial 54 with value: 0.731793687451886.\n",
      "[I 2025-01-06 11:40:50,327] Trial 62 finished with value: 0.7291762894534257 and parameters: {'learning_rate': 0.04728855387028224, 'max_depth': 13, 'max_iter': 253, 'min_samples_leaf': 6, 'l2_regularization': 0.6060692167636657, 'max_leaf_nodes': 40}. Best is trial 54 with value: 0.731793687451886.\n",
      "[I 2025-01-06 11:40:55,608] Trial 63 finished with value: 0.7277906081601232 and parameters: {'learning_rate': 0.05046686136217181, 'max_depth': 14, 'max_iter': 271, 'min_samples_leaf': 8, 'l2_regularization': 0.8928597844860329, 'max_leaf_nodes': 44}. Best is trial 54 with value: 0.731793687451886.\n",
      "[I 2025-01-06 11:41:00,768] Trial 64 finished with value: 0.726866820631255 and parameters: {'learning_rate': 0.03323286845771086, 'max_depth': 12, 'max_iter': 250, 'min_samples_leaf': 6, 'l2_regularization': 0.757649827553011, 'max_leaf_nodes': 46}. Best is trial 54 with value: 0.731793687451886.\n",
      "[I 2025-01-06 11:41:05,466] Trial 65 finished with value: 0.7311778290993072 and parameters: {'learning_rate': 0.05591764986472691, 'max_depth': 13, 'max_iter': 271, 'min_samples_leaf': 7, 'l2_regularization': 0.5978926390477203, 'max_leaf_nodes': 42}. Best is trial 54 with value: 0.731793687451886.\n",
      "[I 2025-01-06 11:41:11,442] Trial 66 finished with value: 0.7262509622786759 and parameters: {'learning_rate': 0.05642266319959324, 'max_depth': 13, 'max_iter': 289, 'min_samples_leaf': 9, 'l2_regularization': 0.7338463634140491, 'max_leaf_nodes': 51}. Best is trial 54 with value: 0.731793687451886.\n",
      "[I 2025-01-06 11:41:17,425] Trial 67 finished with value: 0.724557351809084 and parameters: {'learning_rate': 0.040972711175910226, 'max_depth': 14, 'max_iter': 272, 'min_samples_leaf': 7, 'l2_regularization': 0.9921677945908136, 'max_leaf_nodes': 47}. Best is trial 54 with value: 0.731793687451886.\n",
      "[I 2025-01-06 11:41:22,289] Trial 68 finished with value: 0.7291762894534257 and parameters: {'learning_rate': 0.0185641112809636, 'max_depth': 12, 'max_iter': 243, 'min_samples_leaf': 8, 'l2_regularization': 0.5683735945785726, 'max_leaf_nodes': 42}. Best is trial 54 with value: 0.731793687451886.\n",
      "[I 2025-01-06 11:41:26,946] Trial 69 finished with value: 0.7250192455735182 and parameters: {'learning_rate': 0.04489477871434763, 'max_depth': 13, 'max_iter': 235, 'min_samples_leaf': 5, 'l2_regularization': 0.8380950133000113, 'max_leaf_nodes': 45}. Best is trial 54 with value: 0.731793687451886.\n",
      "[I 2025-01-06 11:41:31,747] Trial 70 finished with value: 0.7262509622786759 and parameters: {'learning_rate': 0.05332465643272151, 'max_depth': 15, 'max_iter': 227, 'min_samples_leaf': 6, 'l2_regularization': 1.135763947983421, 'max_leaf_nodes': 49}. Best is trial 54 with value: 0.731793687451886.\n",
      "[I 2025-01-06 11:41:36,368] Trial 71 finished with value: 0.7304080061585835 and parameters: {'learning_rate': 0.04890930796807774, 'max_depth': 13, 'max_iter': 265, 'min_samples_leaf': 7, 'l2_regularization': 0.6377595248587542, 'max_leaf_nodes': 42}. Best is trial 54 with value: 0.731793687451886.\n",
      "[I 2025-01-06 11:41:41,694] Trial 72 finished with value: 0.727944572748268 and parameters: {'learning_rate': 0.03777796254926917, 'max_depth': 13, 'max_iter': 300, 'min_samples_leaf': 7, 'l2_regularization': 0.6602496102143156, 'max_leaf_nodes': 43}. Best is trial 54 with value: 0.731793687451886.\n",
      "[I 2025-01-06 11:41:46,272] Trial 73 finished with value: 0.7270207852193995 and parameters: {'learning_rate': 0.062154148858101006, 'max_depth': 13, 'max_iter': 265, 'min_samples_leaf': 6, 'l2_regularization': 0.7242108696907965, 'max_leaf_nodes': 40}. Best is trial 54 with value: 0.731793687451886.\n",
      "[I 2025-01-06 11:41:51,178] Trial 74 finished with value: 0.7280985373364126 and parameters: {'learning_rate': 0.03989332334615005, 'max_depth': 13, 'max_iter': 284, 'min_samples_leaf': 8, 'l2_regularization': 0.5567807804137328, 'max_leaf_nodes': 44}. Best is trial 54 with value: 0.731793687451886.\n",
      "[I 2025-01-06 11:41:56,177] Trial 75 finished with value: 0.727328714395689 and parameters: {'learning_rate': 0.05740971560685567, 'max_depth': 14, 'max_iter': 273, 'min_samples_leaf': 9, 'l2_regularization': 0.8230429822246227, 'max_leaf_nodes': 46}. Best is trial 54 with value: 0.731793687451886.\n",
      "[I 2025-01-06 11:42:00,662] Trial 76 finished with value: 0.7288683602771363 and parameters: {'learning_rate': 0.034052046723418945, 'max_depth': 12, 'max_iter': 254, 'min_samples_leaf': 7, 'l2_regularization': 0.5078214473397384, 'max_leaf_nodes': 43}. Best is trial 54 with value: 0.731793687451886.\n",
      "[I 2025-01-06 11:42:05,585] Trial 77 finished with value: 0.7279445727482681 and parameters: {'learning_rate': 0.05227228169811102, 'max_depth': 12, 'max_iter': 244, 'min_samples_leaf': 6, 'l2_regularization': 0.9245925496092058, 'max_leaf_nodes': 48}. Best is trial 54 with value: 0.731793687451886.\n",
      "[I 2025-01-06 11:42:10,628] Trial 78 finished with value: 0.7248652809853734 and parameters: {'learning_rate': 0.04585655555905831, 'max_depth': 13, 'max_iter': 293, 'min_samples_leaf': 7, 'l2_regularization': 0.6082254333677828, 'max_leaf_nodes': 42}. Best is trial 54 with value: 0.731793687451886.\n",
      "[I 2025-01-06 11:42:19,186] Trial 79 finished with value: 0.7268668206312547 and parameters: {'learning_rate': 0.04190232911597639, 'max_depth': 14, 'max_iter': 267, 'min_samples_leaf': 6, 'l2_regularization': 0.6673143783224533, 'max_leaf_nodes': 81}. Best is trial 54 with value: 0.731793687451886.\n",
      "[I 2025-01-06 11:42:24,078] Trial 80 finished with value: 0.7294842186297152 and parameters: {'learning_rate': 0.048887480996300615, 'max_depth': 12, 'max_iter': 249, 'min_samples_leaf': 5, 'l2_regularization': 0.7348332408924777, 'max_leaf_nodes': 46}. Best is trial 54 with value: 0.731793687451886.\n",
      "[I 2025-01-06 11:42:28,805] Trial 81 finished with value: 0.7288683602771362 and parameters: {'learning_rate': 0.04893904985471488, 'max_depth': 13, 'max_iter': 274, 'min_samples_leaf': 7, 'l2_regularization': 0.6041108271393745, 'max_leaf_nodes': 41}. Best is trial 54 with value: 0.731793687451886.\n",
      "[I 2025-01-06 11:42:33,190] Trial 82 finished with value: 0.7313317936874519 and parameters: {'learning_rate': 0.043909191622235055, 'max_depth': 13, 'max_iter': 262, 'min_samples_leaf': 7, 'l2_regularization': 0.555897055252523, 'max_leaf_nodes': 40}. Best is trial 54 with value: 0.731793687451886.\n",
      "[I 2025-01-06 11:42:37,542] Trial 83 finished with value: 0.7296381832178599 and parameters: {'learning_rate': 0.04300627818687809, 'max_depth': 13, 'max_iter': 264, 'min_samples_leaf': 7, 'l2_regularization': 0.5030215362314581, 'max_leaf_nodes': 40}. Best is trial 54 with value: 0.731793687451886.\n",
      "[I 2025-01-06 11:42:42,165] Trial 84 finished with value: 0.7276366435719785 and parameters: {'learning_rate': 0.05468067126658506, 'max_depth': 13, 'max_iter': 260, 'min_samples_leaf': 8, 'l2_regularization': 0.7891032500693411, 'max_leaf_nodes': 44}. Best is trial 54 with value: 0.731793687451886.\n",
      "[I 2025-01-06 11:42:47,152] Trial 85 finished with value: 0.731793687451886 and parameters: {'learning_rate': 0.03135140518714021, 'max_depth': 14, 'max_iter': 255, 'min_samples_leaf': 6, 'l2_regularization': 0.5777890183868246, 'max_leaf_nodes': 42}. Best is trial 54 with value: 0.731793687451886.\n",
      "[I 2025-01-06 11:42:52,757] Trial 86 finished with value: 0.728406466512702 and parameters: {'learning_rate': 0.03177068536260705, 'max_depth': 15, 'max_iter': 281, 'min_samples_leaf': 6, 'l2_regularization': 0.6477294153983204, 'max_leaf_nodes': 45}. Best is trial 54 with value: 0.731793687451886.\n",
      "[I 2025-01-06 11:42:58,192] Trial 87 finished with value: 0.7301000769822941 and parameters: {'learning_rate': 0.036131176940124715, 'max_depth': 14, 'max_iter': 269, 'min_samples_leaf': 6, 'l2_regularization': 0.5606681663362794, 'max_leaf_nodes': 47}. Best is trial 54 with value: 0.731793687451886.\n",
      "[I 2025-01-06 11:43:02,757] Trial 88 finished with value: 0.7250192455735182 and parameters: {'learning_rate': 0.027842569298817996, 'max_depth': 14, 'max_iter': 257, 'min_samples_leaf': 10, 'l2_regularization': 0.8662593506684582, 'max_leaf_nodes': 42}. Best is trial 54 with value: 0.731793687451886.\n",
      "[I 2025-01-06 11:43:07,393] Trial 89 finished with value: 0.7264049268668207 and parameters: {'learning_rate': 0.025574956200635587, 'max_depth': 14, 'max_iter': 200, 'min_samples_leaf': 6, 'l2_regularization': 0.6923614139447881, 'max_leaf_nodes': 52}. Best is trial 54 with value: 0.731793687451886.\n",
      "[I 2025-01-06 11:43:12,813] Trial 90 finished with value: 0.7319476520400308 and parameters: {'learning_rate': 0.022119818280047138, 'max_depth': 12, 'max_iter': 276, 'min_samples_leaf': 5, 'l2_regularization': 0.9584267642328501, 'max_leaf_nodes': 44}. Best is trial 90 with value: 0.7319476520400308.\n",
      "[I 2025-01-06 11:43:17,752] Trial 91 finished with value: 0.7267128560431101 and parameters: {'learning_rate': 0.03094595396515306, 'max_depth': 11, 'max_iter': 283, 'min_samples_leaf': 5, 'l2_regularization': 0.7906644075139101, 'max_leaf_nodes': 40}. Best is trial 90 with value: 0.7319476520400308.\n",
      "[I 2025-01-06 11:43:23,127] Trial 92 finished with value: 0.7311778290993072 and parameters: {'learning_rate': 0.022762159341939835, 'max_depth': 12, 'max_iter': 277, 'min_samples_leaf': 5, 'l2_regularization': 0.9594042741986906, 'max_leaf_nodes': 44}. Best is trial 90 with value: 0.7319476520400308.\n",
      "[I 2025-01-06 11:43:28,502] Trial 93 finished with value: 0.7299461123941493 and parameters: {'learning_rate': 0.019214332205615622, 'max_depth': 12, 'max_iter': 276, 'min_samples_leaf': 5, 'l2_regularization': 1.0505352435702933, 'max_leaf_nodes': 44}. Best is trial 90 with value: 0.7319476520400308.\n",
      "[I 2025-01-06 11:43:34,519] Trial 94 finished with value: 0.7310238645111624 and parameters: {'learning_rate': 0.02337165285542247, 'max_depth': 12, 'max_iter': 286, 'min_samples_leaf': 5, 'l2_regularization': 0.9874045447762843, 'max_leaf_nodes': 49}. Best is trial 90 with value: 0.7319476520400308.\n",
      "[I 2025-01-06 11:43:40,659] Trial 95 finished with value: 0.7282525019245574 and parameters: {'learning_rate': 0.011319258564092487, 'max_depth': 11, 'max_iter': 291, 'min_samples_leaf': 5, 'l2_regularization': 0.9696147821670877, 'max_leaf_nodes': 48}. Best is trial 90 with value: 0.7319476520400308.\n",
      "[I 2025-01-06 11:43:46,797] Trial 96 finished with value: 0.7285604311008468 and parameters: {'learning_rate': 0.022294028270942474, 'max_depth': 12, 'max_iter': 286, 'min_samples_leaf': 5, 'l2_regularization': 1.0896960199648098, 'max_leaf_nodes': 49}. Best is trial 90 with value: 0.7319476520400308.\n",
      "[I 2025-01-06 11:43:52,827] Trial 97 finished with value: 0.7259430331023864 and parameters: {'learning_rate': 0.018675252196577966, 'max_depth': 12, 'max_iter': 299, 'min_samples_leaf': 5, 'l2_regularization': 1.2943513361958177, 'max_leaf_nodes': 45}. Best is trial 90 with value: 0.7319476520400308.\n",
      "[I 2025-01-06 11:43:58,696] Trial 98 finished with value: 0.724557351809084 and parameters: {'learning_rate': 0.01519714052645235, 'max_depth': 10, 'max_iter': 276, 'min_samples_leaf': 5, 'l2_regularization': 1.1775500194577362, 'max_leaf_nodes': 50}. Best is trial 90 with value: 0.7319476520400308.\n",
      "[I 2025-01-06 11:44:04,464] Trial 99 finished with value: 0.727328714395689 and parameters: {'learning_rate': 0.026103317322442216, 'max_depth': 12, 'max_iter': 296, 'min_samples_leaf': 6, 'l2_regularization': 0.9276535511867539, 'max_leaf_nodes': 46}. Best is trial 90 with value: 0.7319476520400308.\n"
     ]
    },
    {
     "data": {
      "text/plain": [
       "({'learning_rate': 0.022119818280047138,\n",
       "  'max_depth': 12,\n",
       "  'max_iter': 276,\n",
       "  'min_samples_leaf': 5,\n",
       "  'l2_regularization': 0.9584267642328501,\n",
       "  'max_leaf_nodes': 44},\n",
       " 0.7319476520400308)"
      ]
     },
     "execution_count": 33,
     "metadata": {},
     "output_type": "execute_result"
    }
   ],
   "source": [
    "params = {\n",
    "    \"learning_rate\": {\"type\": \"float\", \"min\": 0.01, \"max\": 0.1},\n",
    "    \"max_depth\": {\"type\": \"int\", \"min\": 8, \"max\": 15},\n",
    "    \"max_iter\": {\"type\": \"int\", \"min\": 100, \"max\": 300},\n",
    "    \"min_samples_leaf\": {\"type\": \"int\", \"min\": 5, \"max\": 15},\n",
    "    \"l2_regularization\": {\"type\": \"float\", \"min\": 0.5, \"max\": 3.0},\n",
    "    \"max_leaf_nodes\": {\"type\": \"int\", \"min\": 40, \"max\": 90}\n",
    "}\n",
    "\n",
    "hgbc_tuner = HyperparameterTuner(HistGradientBoostingClassifier, params, train_x, train_y)\n",
    "hgbc_tuner.optimize(100)\n",
    "hgbc_tuner.best_params(), hgbc_tuner.best_score()"
   ]
  },
  {
   "cell_type": "code",
   "execution_count": 84,
   "metadata": {},
   "outputs": [
    {
     "name": "stdout",
     "output_type": "stream",
     "text": [
      "              precision    recall  f1-score   support\n",
      "\n",
      "           0       0.79      0.78      0.78      1060\n",
      "           1       0.78      0.79      0.78      1054\n",
      "\n",
      "    accuracy                           0.78      2114\n",
      "   macro avg       0.78      0.78      0.78      2114\n",
      "weighted avg       0.78      0.78      0.78      2114\n",
      "\n"
     ]
    }
   ],
   "source": [
    "params = {\n",
    "    \"learning_rate\": 0.022119818280047138,\n",
    "    \"max_depth\": 12,\n",
    "    \"max_iter\": 276,\n",
    "    \"min_samples_leaf\": 5,\n",
    "    \"l2_regularization\": 0.9584267642328501,\n",
    "    \"max_leaf_nodes\": 44,\n",
    "}\n",
    "\n",
    "\n",
    "hgbc_final = HistGradientBoostingClassifier(**params)\n",
    "hgbc_final.fit(train_x, train_y)\n",
    "print(classification_report(valid_y, hgbc_final.predict(valid_x)))"
   ]
  },
  {
   "cell_type": "markdown",
   "metadata": {},
   "source": [
    "- AdaBoostClassifier"
   ]
  },
  {
   "cell_type": "code",
   "execution_count": 43,
   "metadata": {},
   "outputs": [
    {
     "name": "stderr",
     "output_type": "stream",
     "text": [
      "[I 2025-01-06 11:51:35,903] A new study created in memory with name: no-name-04530b18-a2b6-4a62-bc1a-f671f8e9dac6\n",
      "[I 2025-01-06 11:51:52,744] Trial 0 finished with value: 0.6637413394919169 and parameters: {'n_estimators': 281, 'learning_rate': 0.23125292711941464, 'algorithm': 'SAMME.R'}. Best is trial 0 with value: 0.6637413394919169.\n",
      "[I 2025-01-06 11:52:15,998] Trial 1 finished with value: 0.664203233256351 and parameters: {'n_estimators': 387, 'learning_rate': 0.17861974588076562, 'algorithm': 'SAMME.R'}. Best is trial 1 with value: 0.664203233256351.\n",
      "[I 2025-01-06 11:52:28,463] Trial 2 finished with value: 0.6657428791377983 and parameters: {'n_estimators': 210, 'learning_rate': 0.2047971292472742, 'algorithm': 'SAMME.R'}. Best is trial 2 with value: 0.6657428791377983.\n",
      "[I 2025-01-06 11:52:52,123] Trial 3 finished with value: 0.6634334103156274 and parameters: {'n_estimators': 394, 'learning_rate': 0.23358916737312685, 'algorithm': 'SAMME.R'}. Best is trial 2 with value: 0.6657428791377983.\n",
      "[I 2025-01-06 11:53:10,349] Trial 4 finished with value: 0.6660508083140877 and parameters: {'n_estimators': 299, 'learning_rate': 0.12910245070814164, 'algorithm': 'SAMME.R'}. Best is trial 4 with value: 0.6660508083140877.\n",
      "[I 2025-01-06 11:53:33,970] Trial 5 finished with value: 0.6657428791377983 and parameters: {'n_estimators': 387, 'learning_rate': 0.15248267497673862, 'algorithm': 'SAMME.R'}. Best is trial 4 with value: 0.6660508083140877.\n",
      "[I 2025-01-06 11:53:52,099] Trial 6 finished with value: 0.6646651270207852 and parameters: {'n_estimators': 297, 'learning_rate': 0.24614244177660316, 'algorithm': 'SAMME.R'}. Best is trial 4 with value: 0.6660508083140877.\n",
      "[I 2025-01-06 11:54:10,476] Trial 7 finished with value: 0.665896843725943 and parameters: {'n_estimators': 306, 'learning_rate': 0.20149714052938236, 'algorithm': 'SAMME.R'}. Best is trial 4 with value: 0.6660508083140877.\n",
      "[I 2025-01-06 11:54:23,223] Trial 8 finished with value: 0.6654349499615089 and parameters: {'n_estimators': 206, 'learning_rate': 0.15427968217381838, 'algorithm': 'SAMME.R'}. Best is trial 4 with value: 0.6660508083140877.\n",
      "[I 2025-01-06 11:54:37,315] Trial 9 finished with value: 0.6649730561970746 and parameters: {'n_estimators': 234, 'learning_rate': 0.23124854261204356, 'algorithm': 'SAMME.R'}. Best is trial 4 with value: 0.6660508083140877.\n",
      "[I 2025-01-06 11:54:58,275] Trial 10 finished with value: 0.6666666666666666 and parameters: {'n_estimators': 343, 'learning_rate': 0.10510606467171982, 'algorithm': 'SAMME.R'}. Best is trial 10 with value: 0.6666666666666666.\n",
      "[I 2025-01-06 11:55:18,759] Trial 11 finished with value: 0.6655889145496536 and parameters: {'n_estimators': 336, 'learning_rate': 0.10535916255049319, 'algorithm': 'SAMME.R'}. Best is trial 10 with value: 0.6666666666666666.\n",
      "[I 2025-01-06 11:55:39,541] Trial 12 finished with value: 0.6682063125481139 and parameters: {'n_estimators': 342, 'learning_rate': 0.10163176997141722, 'algorithm': 'SAMME.R'}. Best is trial 12 with value: 0.6682063125481139.\n",
      "[I 2025-01-06 11:56:01,377] Trial 13 finished with value: 0.6655889145496536 and parameters: {'n_estimators': 352, 'learning_rate': 0.1007585792933199, 'algorithm': 'SAMME.R'}. Best is trial 12 with value: 0.6682063125481139.\n",
      "[I 2025-01-06 11:56:22,198] Trial 14 finished with value: 0.6657428791377982 and parameters: {'n_estimators': 348, 'learning_rate': 0.12505603390495673, 'algorithm': 'SAMME.R'}. Best is trial 12 with value: 0.6682063125481139.\n",
      "[I 2025-01-06 11:56:42,090] Trial 15 finished with value: 0.6663587374903772 and parameters: {'n_estimators': 331, 'learning_rate': 0.12406274504638357, 'algorithm': 'SAMME.R'}. Best is trial 12 with value: 0.6682063125481139.\n",
      "[I 2025-01-06 11:56:57,451] Trial 16 finished with value: 0.6655889145496536 and parameters: {'n_estimators': 256, 'learning_rate': 0.1435252968260679, 'algorithm': 'SAMME.R'}. Best is trial 12 with value: 0.6682063125481139.\n",
      "[I 2025-01-06 11:57:19,697] Trial 17 finished with value: 0.6635873749037721 and parameters: {'n_estimators': 374, 'learning_rate': 0.17468499997324663, 'algorithm': 'SAMME.R'}. Best is trial 12 with value: 0.6682063125481139.\n",
      "[I 2025-01-06 11:57:38,838] Trial 18 finished with value: 0.6675904541955351 and parameters: {'n_estimators': 321, 'learning_rate': 0.11361424939414763, 'algorithm': 'SAMME.R'}. Best is trial 12 with value: 0.6682063125481139.\n",
      "[I 2025-01-06 11:57:58,584] Trial 19 finished with value: 0.6666666666666667 and parameters: {'n_estimators': 317, 'learning_rate': 0.1162267562973583, 'algorithm': 'SAMME.R'}. Best is trial 12 with value: 0.6682063125481139.\n",
      "[I 2025-01-06 11:58:15,974] Trial 20 finished with value: 0.6666666666666667 and parameters: {'n_estimators': 268, 'learning_rate': 0.13770964328550678, 'algorithm': 'SAMME.R'}. Best is trial 12 with value: 0.6682063125481139.\n",
      "[I 2025-01-06 11:58:35,476] Trial 21 finished with value: 0.6655889145496536 and parameters: {'n_estimators': 315, 'learning_rate': 0.11705402811467715, 'algorithm': 'SAMME.R'}. Best is trial 12 with value: 0.6682063125481139.\n",
      "[I 2025-01-06 11:58:57,380] Trial 22 finished with value: 0.6682063125481139 and parameters: {'n_estimators': 365, 'learning_rate': 0.11419716739603292, 'algorithm': 'SAMME.R'}. Best is trial 12 with value: 0.6682063125481139.\n",
      "[I 2025-01-06 11:59:19,578] Trial 23 finished with value: 0.6674364896073903 and parameters: {'n_estimators': 363, 'learning_rate': 0.11222406721198096, 'algorithm': 'SAMME.R'}. Best is trial 12 with value: 0.6682063125481139.\n",
      "[I 2025-01-06 11:59:42,287] Trial 24 finished with value: 0.6654349499615089 and parameters: {'n_estimators': 374, 'learning_rate': 0.13262275358645698, 'algorithm': 'SAMME.R'}. Best is trial 12 with value: 0.6682063125481139.\n",
      "[I 2025-01-06 12:00:01,518] Trial 25 finished with value: 0.6638953040800615 and parameters: {'n_estimators': 326, 'learning_rate': 0.16786279170923515, 'algorithm': 'SAMME.R'}. Best is trial 12 with value: 0.6682063125481139.\n",
      "[I 2025-01-06 12:00:23,436] Trial 26 finished with value: 0.6652809853733641 and parameters: {'n_estimators': 363, 'learning_rate': 0.10024640114761484, 'algorithm': 'SAMME.R'}. Best is trial 12 with value: 0.6682063125481139.\n",
      "[I 2025-01-06 12:00:40,327] Trial 27 finished with value: 0.6680523479599693 and parameters: {'n_estimators': 283, 'learning_rate': 0.14773258542164294, 'algorithm': 'SAMME.R'}. Best is trial 12 with value: 0.6682063125481139.\n",
      "[I 2025-01-06 12:00:57,372] Trial 28 finished with value: 0.6649730561970747 and parameters: {'n_estimators': 281, 'learning_rate': 0.1494714972387056, 'algorithm': 'SAMME.R'}. Best is trial 12 with value: 0.6682063125481139.\n",
      "[I 2025-01-06 12:01:14,593] Trial 29 finished with value: 0.664203233256351 and parameters: {'n_estimators': 282, 'learning_rate': 0.16092597066805753, 'algorithm': 'SAMME.R'}. Best is trial 12 with value: 0.6682063125481139.\n",
      "[I 2025-01-06 12:01:30,078] Trial 30 finished with value: 0.6646651270207851 and parameters: {'n_estimators': 254, 'learning_rate': 0.18713694077660328, 'algorithm': 'SAMME.R'}. Best is trial 12 with value: 0.6682063125481139.\n",
      "[I 2025-01-06 12:01:49,219] Trial 31 finished with value: 0.665896843725943 and parameters: {'n_estimators': 320, 'learning_rate': 0.11534085563379644, 'algorithm': 'SAMME.R'}. Best is trial 12 with value: 0.6682063125481139.\n",
      "[I 2025-01-06 12:02:10,690] Trial 32 finished with value: 0.6689761354888376 and parameters: {'n_estimators': 358, 'learning_rate': 0.13883883597100793, 'algorithm': 'SAMME.R'}. Best is trial 32 with value: 0.6689761354888376.\n",
      "[I 2025-01-06 12:02:32,266] Trial 33 finished with value: 0.6672825250192455 and parameters: {'n_estimators': 360, 'learning_rate': 0.14370584155464733, 'algorithm': 'SAMME.R'}. Best is trial 32 with value: 0.6689761354888376.\n",
      "[I 2025-01-06 12:02:54,783] Trial 34 finished with value: 0.6668206312548114 and parameters: {'n_estimators': 378, 'learning_rate': 0.13589977880249446, 'algorithm': 'SAMME.R'}. Best is trial 32 with value: 0.6689761354888376.\n",
      "[I 2025-01-06 12:03:18,472] Trial 35 finished with value: 0.666974595842956 and parameters: {'n_estimators': 393, 'learning_rate': 0.12382541674053264, 'algorithm': 'SAMME.R'}. Best is trial 32 with value: 0.6689761354888376.\n",
      "[I 2025-01-06 12:03:38,918] Trial 36 finished with value: 0.66481909160893 and parameters: {'n_estimators': 344, 'learning_rate': 0.1613728814641269, 'algorithm': 'SAMME.R'}. Best is trial 32 with value: 0.6689761354888376.\n",
      "[I 2025-01-06 12:03:56,533] Trial 37 finished with value: 0.6655889145496536 and parameters: {'n_estimators': 293, 'learning_rate': 0.14415955416630408, 'algorithm': 'SAMME.R'}. Best is trial 32 with value: 0.6689761354888376.\n",
      "[I 2025-01-06 12:04:20,422] Trial 38 finished with value: 0.6632794457274828 and parameters: {'n_estimators': 398, 'learning_rate': 0.12957419076214743, 'algorithm': 'SAMME.R'}. Best is trial 32 with value: 0.6689761354888376.\n",
      "[I 2025-01-06 12:04:43,405] Trial 39 finished with value: 0.6635873749037721 and parameters: {'n_estimators': 382, 'learning_rate': 0.18132399691912193, 'algorithm': 'SAMME.R'}. Best is trial 32 with value: 0.6689761354888376.\n",
      "[I 2025-01-06 12:05:04,928] Trial 40 finished with value: 0.6682063125481139 and parameters: {'n_estimators': 356, 'learning_rate': 0.10826014410145181, 'algorithm': 'SAMME.R'}. Best is trial 32 with value: 0.6689761354888376.\n",
      "[I 2025-01-06 12:05:26,453] Trial 41 finished with value: 0.6663587374903772 and parameters: {'n_estimators': 357, 'learning_rate': 0.10686629346858811, 'algorithm': 'SAMME.R'}. Best is trial 32 with value: 0.6689761354888376.\n",
      "[I 2025-01-06 12:05:48,701] Trial 42 finished with value: 0.6663587374903772 and parameters: {'n_estimators': 369, 'learning_rate': 0.12462543473869729, 'algorithm': 'SAMME.R'}. Best is trial 32 with value: 0.6689761354888376.\n",
      "[I 2025-01-06 12:06:09,186] Trial 43 finished with value: 0.6657428791377983 and parameters: {'n_estimators': 334, 'learning_rate': 0.10984474843980703, 'algorithm': 'SAMME.R'}. Best is trial 32 with value: 0.6689761354888376.\n",
      "[I 2025-01-06 12:06:27,668] Trial 44 finished with value: 0.6672825250192456 and parameters: {'n_estimators': 305, 'learning_rate': 0.12036336497260383, 'algorithm': 'SAMME.R'}. Best is trial 32 with value: 0.6689761354888376.\n",
      "[I 2025-01-06 12:06:49,525] Trial 45 finished with value: 0.6666666666666666 and parameters: {'n_estimators': 341, 'learning_rate': 0.13853955636264623, 'algorithm': 'SAMME.R'}. Best is trial 32 with value: 0.6689761354888376.\n",
      "[I 2025-01-06 12:07:13,095] Trial 46 finished with value: 0.664203233256351 and parameters: {'n_estimators': 387, 'learning_rate': 0.2010749788594136, 'algorithm': 'SAMME.R'}. Best is trial 32 with value: 0.6689761354888376.\n",
      "[I 2025-01-06 12:07:26,480] Trial 47 finished with value: 0.6669745958429562 and parameters: {'n_estimators': 217, 'learning_rate': 0.15596282278232937, 'algorithm': 'SAMME.R'}. Best is trial 32 with value: 0.6689761354888376.\n",
      "[I 2025-01-06 12:07:47,465] Trial 48 finished with value: 0.6671285604311008 and parameters: {'n_estimators': 352, 'learning_rate': 0.10461099766387316, 'algorithm': 'SAMME.R'}. Best is trial 32 with value: 0.6689761354888376.\n",
      "[I 2025-01-06 12:08:05,230] Trial 49 finished with value: 0.6669745958429562 and parameters: {'n_estimators': 291, 'learning_rate': 0.1327083518719736, 'algorithm': 'SAMME.R'}. Best is trial 32 with value: 0.6689761354888376.\n"
     ]
    },
    {
     "data": {
      "text/plain": [
       "({'n_estimators': 358,\n",
       "  'learning_rate': 0.13883883597100793,\n",
       "  'algorithm': 'SAMME.R'},\n",
       " 0.6689761354888376)"
      ]
     },
     "execution_count": 43,
     "metadata": {},
     "output_type": "execute_result"
    }
   ],
   "source": [
    "params = {\n",
    "    \"n_estimators\": {\"type\": \"int\", \"min\": 200, \"max\": 400},\n",
    "    \"learning_rate\": {\"type\": \"float\", \"min\": 0.1, \"max\": 0.25},\n",
    "    \"algorithm\": {\"type\": \"categorical\", \"values\": [\"SAMME.R\"]}\n",
    "}\n",
    "\n",
    "ada_tuner = HyperparameterTuner(AdaBoostClassifier, params, train_x, train_y)\n",
    "ada_tuner.optimize(50)\n",
    "ada_tuner.best_params(), ada_tuner.best_score()"
   ]
  },
  {
   "cell_type": "code",
   "execution_count": 85,
   "metadata": {},
   "outputs": [
    {
     "name": "stdout",
     "output_type": "stream",
     "text": [
      "              precision    recall  f1-score   support\n",
      "\n",
      "           0       0.73      0.73      0.73      1060\n",
      "           1       0.73      0.73      0.73      1054\n",
      "\n",
      "    accuracy                           0.73      2114\n",
      "   macro avg       0.73      0.73      0.73      2114\n",
      "weighted avg       0.73      0.73      0.73      2114\n",
      "\n"
     ]
    }
   ],
   "source": [
    "params = {\n",
    "    \"n_estimators\": 358,\n",
    "    \"learning_rate\": 0.13883883597100793,\n",
    "    \"algorithm\": \"SAMME.R\",\n",
    "}\n",
    "\n",
    "\n",
    "ada_final = AdaBoostClassifier(**params)\n",
    "\n",
    "ada_final.fit(train_x, train_y)\n",
    "\n",
    "print(classification_report(valid_y, ada_final.predict(valid_x)))"
   ]
  },
  {
   "cell_type": "markdown",
   "metadata": {},
   "source": [
    "- SVC"
   ]
  },
  {
   "cell_type": "code",
   "execution_count": 34,
   "metadata": {},
   "outputs": [
    {
     "name": "stderr",
     "output_type": "stream",
     "text": [
      "[I 2025-01-06 11:44:04,484] A new study created in memory with name: no-name-a6851268-65e3-46b3-8026-6dec84b6d2f8\n",
      "[I 2025-01-06 11:44:07,734] Trial 0 finished with value: 0.6671285604311008 and parameters: {'C': 0.499829361009379, 'kernel': 'linear', 'degree': 3, 'gamma': 0.4018076799113799, 'coef0': 2.3136904919586767, 'class_weight': None}. Best is trial 0 with value: 0.6671285604311008.\n",
      "[I 2025-01-06 11:44:10,974] Trial 1 finished with value: 0.6669745958429563 and parameters: {'C': 0.47284336871581756, 'kernel': 'linear', 'degree': 3, 'gamma': 0.4393975121556339, 'coef0': 1.5284075248939768, 'class_weight': None}. Best is trial 0 with value: 0.6671285604311008.\n",
      "[I 2025-01-06 11:44:14,156] Trial 2 finished with value: 0.6666666666666666 and parameters: {'C': 0.4376632826177409, 'kernel': 'linear', 'degree': 5, 'gamma': 0.4710733792061468, 'coef0': 3.4146985142197117, 'class_weight': None}. Best is trial 0 with value: 0.6671285604311008.\n",
      "[I 2025-01-06 11:44:17,067] Trial 3 finished with value: 0.6685142417244034 and parameters: {'C': 0.15102087827809774, 'kernel': 'linear', 'degree': 3, 'gamma': 0.5345810142339167, 'coef0': 2.330225045800465, 'class_weight': None}. Best is trial 3 with value: 0.6685142417244034.\n",
      "[I 2025-01-06 11:44:20,173] Trial 4 finished with value: 0.6674364896073903 and parameters: {'C': 0.40066084039629213, 'kernel': 'linear', 'degree': 3, 'gamma': 0.7993501405091067, 'coef0': 2.7007179401606, 'class_weight': None}. Best is trial 3 with value: 0.6685142417244034.\n",
      "[I 2025-01-06 11:44:23,368] Trial 5 finished with value: 0.6671285604311009 and parameters: {'C': 0.41946643014368523, 'kernel': 'linear', 'degree': 3, 'gamma': 0.40544042423609816, 'coef0': 3.5181438949339676, 'class_weight': None}. Best is trial 3 with value: 0.6685142417244034.\n",
      "[I 2025-01-06 11:44:26,427] Trial 6 finished with value: 0.6671285604311008 and parameters: {'C': 0.35130514666113954, 'kernel': 'linear', 'degree': 4, 'gamma': 0.7181500746944888, 'coef0': 3.7886911042035196, 'class_weight': None}. Best is trial 3 with value: 0.6685142417244034.\n",
      "[I 2025-01-06 11:44:29,517] Trial 7 finished with value: 0.6674364896073903 and parameters: {'C': 0.3622941888453247, 'kernel': 'linear', 'degree': 4, 'gamma': 0.5614355413725822, 'coef0': 3.6761240396123456, 'class_weight': None}. Best is trial 3 with value: 0.6685142417244034.\n",
      "[I 2025-01-06 11:44:32,412] Trial 8 finished with value: 0.6694380292532717 and parameters: {'C': 0.23696753857109762, 'kernel': 'linear', 'degree': 4, 'gamma': 0.6567189906119028, 'coef0': 3.763765739594739, 'class_weight': None}. Best is trial 8 with value: 0.6694380292532717.\n",
      "[I 2025-01-06 11:44:35,487] Trial 9 finished with value: 0.6669745958429563 and parameters: {'C': 0.46676903169071504, 'kernel': 'linear', 'degree': 3, 'gamma': 0.8393611797589572, 'coef0': 3.256372910302151, 'class_weight': None}. Best is trial 8 with value: 0.6694380292532717.\n",
      "[I 2025-01-06 11:44:38,733] Trial 10 finished with value: 0.669284064665127 and parameters: {'C': 0.2182179468094716, 'kernel': 'linear', 'degree': 5, 'gamma': 0.6471585796094356, 'coef0': 3.028821128366111, 'class_weight': None}. Best is trial 8 with value: 0.6694380292532717.\n",
      "[I 2025-01-06 11:44:42,163] Trial 11 finished with value: 0.6694380292532717 and parameters: {'C': 0.2310838672361882, 'kernel': 'linear', 'degree': 5, 'gamma': 0.6562725017033952, 'coef0': 2.9757484389307054, 'class_weight': None}. Best is trial 8 with value: 0.6694380292532717.\n",
      "[I 2025-01-06 11:44:45,119] Trial 12 finished with value: 0.6686682063125481 and parameters: {'C': 0.2515844637733904, 'kernel': 'linear', 'degree': 5, 'gamma': 0.6714774919842762, 'coef0': 3.9451705165759026, 'class_weight': None}. Best is trial 8 with value: 0.6694380292532717.\n",
      "[I 2025-01-06 11:44:47,987] Trial 13 finished with value: 0.6702078521939955 and parameters: {'C': 0.1314098090063353, 'kernel': 'linear', 'degree': 4, 'gamma': 0.7291851817813264, 'coef0': 2.8006445212250153, 'class_weight': None}. Best is trial 13 with value: 0.6702078521939955.\n",
      "[I 2025-01-06 11:44:50,881] Trial 14 finished with value: 0.6691301000769824 and parameters: {'C': 0.115368488536219, 'kernel': 'linear', 'degree': 4, 'gamma': 0.7632004815706027, 'coef0': 1.5794666544175695, 'class_weight': None}. Best is trial 13 with value: 0.6702078521939955.\n",
      "[I 2025-01-06 11:44:53,837] Trial 15 finished with value: 0.6691301000769823 and parameters: {'C': 0.172508832837291, 'kernel': 'linear', 'degree': 4, 'gamma': 0.6098937368277453, 'coef0': 2.315767222168536, 'class_weight': None}. Best is trial 13 with value: 0.6702078521939955.\n",
      "[I 2025-01-06 11:44:56,777] Trial 16 finished with value: 0.6678983833718245 and parameters: {'C': 0.3045770038163987, 'kernel': 'linear', 'degree': 4, 'gamma': 0.8619864239720285, 'coef0': 1.9134970560753097, 'class_weight': None}. Best is trial 13 with value: 0.6702078521939955.\n",
      "[I 2025-01-06 11:44:59,824] Trial 17 finished with value: 0.6695919938414165 and parameters: {'C': 0.10082113371664377, 'kernel': 'linear', 'degree': 4, 'gamma': 0.7502352303120187, 'coef0': 2.658981899077232, 'class_weight': None}. Best is trial 13 with value: 0.6702078521939955.\n",
      "[I 2025-01-06 11:45:02,932] Trial 18 finished with value: 0.6689761354888376 and parameters: {'C': 0.10870297077200171, 'kernel': 'linear', 'degree': 4, 'gamma': 0.7376306862933236, 'coef0': 2.568294164285875, 'class_weight': None}. Best is trial 13 with value: 0.6702078521939955.\n",
      "[I 2025-01-06 11:45:05,812] Trial 19 finished with value: 0.669284064665127 and parameters: {'C': 0.17441095272932428, 'kernel': 'linear', 'degree': 5, 'gamma': 0.8988532519155608, 'coef0': 2.9736186060480834, 'class_weight': None}. Best is trial 13 with value: 0.6702078521939955.\n",
      "[I 2025-01-06 11:45:08,634] Trial 20 finished with value: 0.669284064665127 and parameters: {'C': 0.14226192669332077, 'kernel': 'linear', 'degree': 4, 'gamma': 0.7974588998956964, 'coef0': 2.0084173866310295, 'class_weight': None}. Best is trial 13 with value: 0.6702078521939955.\n",
      "[I 2025-01-06 11:45:11,576] Trial 21 finished with value: 0.6694380292532717 and parameters: {'C': 0.20273797402847876, 'kernel': 'linear', 'degree': 4, 'gamma': 0.7096296015351968, 'coef0': 2.5863673601849206, 'class_weight': None}. Best is trial 13 with value: 0.6702078521939955.\n",
      "[I 2025-01-06 11:45:14,622] Trial 22 finished with value: 0.6672825250192456 and parameters: {'C': 0.2748238838068598, 'kernel': 'linear', 'degree': 4, 'gamma': 0.590383946129918, 'coef0': 3.202582111320967, 'class_weight': None}. Best is trial 13 with value: 0.6702078521939955.\n",
      "[I 2025-01-06 11:45:18,097] Trial 23 finished with value: 0.6691301000769824 and parameters: {'C': 0.11351251803042765, 'kernel': 'linear', 'degree': 4, 'gamma': 0.7747685563770259, 'coef0': 2.838401086933812, 'class_weight': None}. Best is trial 13 with value: 0.6702078521939955.\n",
      "[I 2025-01-06 11:45:21,189] Trial 24 finished with value: 0.6698999230177061 and parameters: {'C': 0.19103032807273487, 'kernel': 'linear', 'degree': 4, 'gamma': 0.6768103665337178, 'coef0': 2.0836873295812617, 'class_weight': None}. Best is trial 13 with value: 0.6702078521939955.\n",
      "[I 2025-01-06 11:45:24,144] Trial 25 finished with value: 0.6700538876058507 and parameters: {'C': 0.18716454351699346, 'kernel': 'linear', 'degree': 4, 'gamma': 0.6984418758188449, 'coef0': 2.0462210643758545, 'class_weight': None}. Best is trial 13 with value: 0.6702078521939955.\n",
      "[I 2025-01-06 11:45:27,055] Trial 26 finished with value: 0.669284064665127 and parameters: {'C': 0.17081044922024424, 'kernel': 'linear', 'degree': 4, 'gamma': 0.6973158426912809, 'coef0': 1.7668141032983538, 'class_weight': None}. Best is trial 13 with value: 0.6702078521939955.\n",
      "[I 2025-01-06 11:45:30,100] Trial 27 finished with value: 0.6678983833718245 and parameters: {'C': 0.3038269785015529, 'kernel': 'linear', 'degree': 5, 'gamma': 0.6174356528267264, 'coef0': 2.2156676678118004, 'class_weight': None}. Best is trial 13 with value: 0.6702078521939955.\n",
      "[I 2025-01-06 11:45:33,055] Trial 28 finished with value: 0.6698999230177058 and parameters: {'C': 0.19031417281038596, 'kernel': 'linear', 'degree': 4, 'gamma': 0.6831507564394255, 'coef0': 2.093534719097736, 'class_weight': None}. Best is trial 13 with value: 0.6702078521939955.\n",
      "[I 2025-01-06 11:45:35,940] Trial 29 finished with value: 0.6686682063125481 and parameters: {'C': 0.14468534772476274, 'kernel': 'linear', 'degree': 3, 'gamma': 0.5515734344981834, 'coef0': 1.7299732528536902, 'class_weight': None}. Best is trial 13 with value: 0.6702078521939955.\n",
      "[I 2025-01-06 11:45:38,940] Trial 30 finished with value: 0.6678983833718244 and parameters: {'C': 0.2659136109394934, 'kernel': 'linear', 'degree': 4, 'gamma': 0.5005932993077881, 'coef0': 2.428842742430882, 'class_weight': None}. Best is trial 13 with value: 0.6702078521939955.\n",
      "[I 2025-01-06 11:45:42,205] Trial 31 finished with value: 0.6697459584295611 and parameters: {'C': 0.19845221726647921, 'kernel': 'linear', 'degree': 4, 'gamma': 0.6844141823774904, 'coef0': 2.1436115285453936, 'class_weight': None}. Best is trial 13 with value: 0.6702078521939955.\n",
      "[I 2025-01-06 11:45:45,175] Trial 32 finished with value: 0.6695919938414164 and parameters: {'C': 0.19701411203260855, 'kernel': 'linear', 'degree': 4, 'gamma': 0.6305560805036233, 'coef0': 2.019297178200161, 'class_weight': None}. Best is trial 13 with value: 0.6702078521939955.\n",
      "[I 2025-01-06 11:45:48,070] Trial 33 finished with value: 0.6691301000769823 and parameters: {'C': 0.14383147893392512, 'kernel': 'linear', 'degree': 4, 'gamma': 0.714173642749672, 'coef0': 1.8158774589704358, 'class_weight': None}. Best is trial 13 with value: 0.6702078521939955.\n",
      "[I 2025-01-06 11:45:51,135] Trial 34 finished with value: 0.669284064665127 and parameters: {'C': 0.16983630123559784, 'kernel': 'linear', 'degree': 3, 'gamma': 0.7350616242260901, 'coef0': 2.4963022892364886, 'class_weight': None}. Best is trial 13 with value: 0.6702078521939955.\n",
      "[I 2025-01-06 11:45:54,075] Trial 35 finished with value: 0.6697459584295612 and parameters: {'C': 0.21238837877974726, 'kernel': 'linear', 'degree': 4, 'gamma': 0.6839080120998053, 'coef0': 2.122329671094262, 'class_weight': None}. Best is trial 13 with value: 0.6702078521939955.\n",
      "[I 2025-01-06 11:45:56,940] Trial 36 finished with value: 0.6702078521939955 and parameters: {'C': 0.12721615978176642, 'kernel': 'linear', 'degree': 3, 'gamma': 0.7949852989847002, 'coef0': 1.548510851866452, 'class_weight': None}. Best is trial 13 with value: 0.6702078521939955.\n",
      "[I 2025-01-06 11:45:59,745] Trial 37 finished with value: 0.6703618167821401 and parameters: {'C': 0.12692416419951835, 'kernel': 'linear', 'degree': 3, 'gamma': 0.8200192803011079, 'coef0': 1.5701420991326147, 'class_weight': None}. Best is trial 37 with value: 0.6703618167821401.\n",
      "[I 2025-01-06 11:46:02,640] Trial 38 finished with value: 0.6703618167821401 and parameters: {'C': 0.1286760178980854, 'kernel': 'linear', 'degree': 3, 'gamma': 0.8280956235114875, 'coef0': 1.5340499770789842, 'class_weight': None}. Best is trial 37 with value: 0.6703618167821401.\n",
      "[I 2025-01-06 11:46:05,462] Trial 39 finished with value: 0.6706697459584297 and parameters: {'C': 0.12947471032485133, 'kernel': 'linear', 'degree': 3, 'gamma': 0.8257983403675284, 'coef0': 1.5244055890464454, 'class_weight': None}. Best is trial 39 with value: 0.6706697459584297.\n",
      "[I 2025-01-06 11:46:08,541] Trial 40 finished with value: 0.6703618167821401 and parameters: {'C': 0.13002385920764978, 'kernel': 'linear', 'degree': 3, 'gamma': 0.8399939081703933, 'coef0': 1.628099214789216, 'class_weight': None}. Best is trial 39 with value: 0.6706697459584297.\n",
      "[I 2025-01-06 11:46:12,188] Trial 41 finished with value: 0.6702078521939955 and parameters: {'C': 0.13201908526558007, 'kernel': 'linear', 'degree': 3, 'gamma': 0.8321781159728835, 'coef0': 1.6922952425212607, 'class_weight': None}. Best is trial 39 with value: 0.6706697459584297.\n",
      "[I 2025-01-06 11:46:15,143] Trial 42 finished with value: 0.6686682063125481 and parameters: {'C': 0.15503852315253666, 'kernel': 'linear', 'degree': 3, 'gamma': 0.8343503394927092, 'coef0': 1.6209689476871822, 'class_weight': None}. Best is trial 39 with value: 0.6706697459584297.\n",
      "[I 2025-01-06 11:46:18,100] Trial 43 finished with value: 0.6695919938414165 and parameters: {'C': 0.12170028972752082, 'kernel': 'linear', 'degree': 3, 'gamma': 0.8774076138129475, 'coef0': 1.5105274149062948, 'class_weight': None}. Best is trial 39 with value: 0.6706697459584297.\n",
      "[I 2025-01-06 11:46:21,042] Trial 44 finished with value: 0.6695919938414165 and parameters: {'C': 0.10317887492330005, 'kernel': 'linear', 'degree': 3, 'gamma': 0.8210959701253684, 'coef0': 1.8546441153916895, 'class_weight': None}. Best is trial 39 with value: 0.6706697459584297.\n",
      "[I 2025-01-06 11:46:24,135] Trial 45 finished with value: 0.6688221709006928 and parameters: {'C': 0.1552783526204131, 'kernel': 'linear', 'degree': 3, 'gamma': 0.8725588281691758, 'coef0': 1.6800657008229791, 'class_weight': None}. Best is trial 39 with value: 0.6706697459584297.\n",
      "[I 2025-01-06 11:46:27,469] Trial 46 finished with value: 0.6669745958429562 and parameters: {'C': 0.3338004116654799, 'kernel': 'linear', 'degree': 3, 'gamma': 0.7796794408741402, 'coef0': 1.5006825332218128, 'class_weight': None}. Best is trial 39 with value: 0.6706697459584297.\n",
      "[I 2025-01-06 11:46:30,485] Trial 47 finished with value: 0.6703618167821401 and parameters: {'C': 0.13176141311279332, 'kernel': 'linear', 'degree': 3, 'gamma': 0.8138188781026325, 'coef0': 1.9409383532667224, 'class_weight': None}. Best is trial 39 with value: 0.6706697459584297.\n",
      "[I 2025-01-06 11:46:33,689] Trial 48 finished with value: 0.6688221709006928 and parameters: {'C': 0.16131697648377227, 'kernel': 'linear', 'degree': 3, 'gamma': 0.8141984811801609, 'coef0': 1.936018408927539, 'class_weight': None}. Best is trial 39 with value: 0.6706697459584297.\n",
      "[I 2025-01-06 11:46:36,675] Trial 49 finished with value: 0.6691301000769823 and parameters: {'C': 0.23141625423062134, 'kernel': 'linear', 'degree': 3, 'gamma': 0.8524436226130143, 'coef0': 1.6390898011612407, 'class_weight': None}. Best is trial 39 with value: 0.6706697459584297.\n",
      "[I 2025-01-06 11:46:39,510] Trial 50 finished with value: 0.6700538876058507 and parameters: {'C': 0.1321437325649708, 'kernel': 'linear', 'degree': 3, 'gamma': 0.8943030026471255, 'coef0': 1.809654133714873, 'class_weight': None}. Best is trial 39 with value: 0.6706697459584297.\n",
      "[I 2025-01-06 11:46:42,346] Trial 51 finished with value: 0.6702078521939955 and parameters: {'C': 0.12653221205448495, 'kernel': 'linear', 'degree': 3, 'gamma': 0.8151265164919892, 'coef0': 1.6239172941726339, 'class_weight': None}. Best is trial 39 with value: 0.6706697459584297.\n",
      "[I 2025-01-06 11:46:45,392] Trial 52 finished with value: 0.6674364896073903 and parameters: {'C': 0.37954918954996575, 'kernel': 'linear', 'degree': 3, 'gamma': 0.851568512363162, 'coef0': 2.80028892594364, 'class_weight': None}. Best is trial 39 with value: 0.6706697459584297.\n",
      "[I 2025-01-06 11:46:48,452] Trial 53 finished with value: 0.6669745958429562 and parameters: {'C': 0.4924850982496636, 'kernel': 'linear', 'degree': 3, 'gamma': 0.7636666935391292, 'coef0': 1.915858861303557, 'class_weight': None}. Best is trial 39 with value: 0.6706697459584297.\n",
      "[I 2025-01-06 11:46:51,333] Trial 54 finished with value: 0.6697459584295612 and parameters: {'C': 0.1399108969914017, 'kernel': 'linear', 'degree': 3, 'gamma': 0.7934914586110859, 'coef0': 1.7265247435739721, 'class_weight': None}. Best is trial 39 with value: 0.6706697459584297.\n",
      "[I 2025-01-06 11:46:54,305] Trial 55 finished with value: 0.6695919938414165 and parameters: {'C': 0.10327658067026063, 'kernel': 'linear', 'degree': 3, 'gamma': 0.742446722049269, 'coef0': 1.6144180671589732, 'class_weight': None}. Best is trial 39 with value: 0.6706697459584297.\n",
      "[I 2025-01-06 11:46:57,413] Trial 56 finished with value: 0.6694380292532718 and parameters: {'C': 0.1176549808233741, 'kernel': 'linear', 'degree': 3, 'gamma': 0.8465743265694607, 'coef0': 1.8594563037560792, 'class_weight': None}. Best is trial 39 with value: 0.6706697459584297.\n",
      "[I 2025-01-06 11:47:00,323] Trial 57 finished with value: 0.6689761354888375 and parameters: {'C': 0.1628936367454179, 'kernel': 'linear', 'degree': 3, 'gamma': 0.8724827803489847, 'coef0': 3.422432962435598, 'class_weight': None}. Best is trial 39 with value: 0.6706697459584297.\n",
      "[I 2025-01-06 11:47:03,233] Trial 58 finished with value: 0.6694380292532717 and parameters: {'C': 0.17557827375616186, 'kernel': 'linear', 'degree': 3, 'gamma': 0.8113818882615685, 'coef0': 1.5047899203940744, 'class_weight': None}. Best is trial 39 with value: 0.6706697459584297.\n",
      "[I 2025-01-06 11:47:06,730] Trial 59 finished with value: 0.6672825250192457 and parameters: {'C': 0.42010338988573026, 'kernel': 'linear', 'degree': 3, 'gamma': 0.7820136714971521, 'coef0': 2.2287296438397464, 'class_weight': None}. Best is trial 39 with value: 0.6706697459584297.\n",
      "[I 2025-01-06 11:47:09,594] Trial 60 finished with value: 0.6685142417244034 and parameters: {'C': 0.14890832704558962, 'kernel': 'linear', 'degree': 3, 'gamma': 0.7579121859561464, 'coef0': 3.1368553560888617, 'class_weight': None}. Best is trial 39 with value: 0.6706697459584297.\n",
      "[I 2025-01-06 11:47:12,459] Trial 61 finished with value: 0.6703618167821401 and parameters: {'C': 0.127666705719766, 'kernel': 'linear', 'degree': 3, 'gamma': 0.799929579525189, 'coef0': 1.537967676253807, 'class_weight': None}. Best is trial 39 with value: 0.6706697459584297.\n",
      "[I 2025-01-06 11:47:15,294] Trial 62 finished with value: 0.6691301000769824 and parameters: {'C': 0.11885923194161194, 'kernel': 'linear', 'degree': 3, 'gamma': 0.8296242805152748, 'coef0': 1.7524845796894495, 'class_weight': None}. Best is trial 39 with value: 0.6706697459584297.\n",
      "[I 2025-01-06 11:47:18,146] Trial 63 finished with value: 0.6698999230177058 and parameters: {'C': 0.13363360648792094, 'kernel': 'linear', 'degree': 3, 'gamma': 0.8052740376342253, 'coef0': 1.5891343205114838, 'class_weight': None}. Best is trial 39 with value: 0.6706697459584297.\n",
      "[I 2025-01-06 11:47:21,042] Trial 64 finished with value: 0.6689761354888376 and parameters: {'C': 0.11155143019225824, 'kernel': 'linear', 'degree': 5, 'gamma': 0.781474640627408, 'coef0': 1.6671124468035186, 'class_weight': None}. Best is trial 39 with value: 0.6706697459584297.\n",
      "[I 2025-01-06 11:47:23,998] Trial 65 finished with value: 0.6689761354888375 and parameters: {'C': 0.17872948420182394, 'kernel': 'linear', 'degree': 3, 'gamma': 0.8638621409155637, 'coef0': 2.868043665517907, 'class_weight': None}. Best is trial 39 with value: 0.6706697459584297.\n",
      "[I 2025-01-06 11:47:26,877] Trial 66 finished with value: 0.6685142417244034 and parameters: {'C': 0.1518031734083668, 'kernel': 'linear', 'degree': 3, 'gamma': 0.8336797519743853, 'coef0': 1.561552604977331, 'class_weight': None}. Best is trial 39 with value: 0.6706697459584297.\n",
      "[I 2025-01-06 11:47:29,772] Trial 67 finished with value: 0.6695919938414165 and parameters: {'C': 0.13737251655953825, 'kernel': 'linear', 'degree': 3, 'gamma': 0.7262679347382108, 'coef0': 1.9742408952973427, 'class_weight': None}. Best is trial 39 with value: 0.6706697459584297.\n",
      "[I 2025-01-06 11:47:32,742] Trial 68 finished with value: 0.6697459584295612 and parameters: {'C': 0.2127383400635165, 'kernel': 'linear', 'degree': 3, 'gamma': 0.7666222979201842, 'coef0': 1.7985632894901604, 'class_weight': None}. Best is trial 39 with value: 0.6706697459584297.\n",
      "[I 2025-01-06 11:47:35,638] Trial 69 finished with value: 0.6694380292532718 and parameters: {'C': 0.1026080498051633, 'kernel': 'linear', 'degree': 3, 'gamma': 0.8816093002113459, 'coef0': 1.7131391321742573, 'class_weight': None}. Best is trial 39 with value: 0.6706697459584297.\n",
      "[I 2025-01-06 11:47:38,623] Trial 70 finished with value: 0.6694380292532717 and parameters: {'C': 0.18444608385099076, 'kernel': 'linear', 'degree': 3, 'gamma': 0.8579953044178041, 'coef0': 2.4147677705813564, 'class_weight': None}. Best is trial 39 with value: 0.6706697459584297.\n",
      "[I 2025-01-06 11:47:41,443] Trial 71 finished with value: 0.6703618167821401 and parameters: {'C': 0.1254827595144873, 'kernel': 'linear', 'degree': 3, 'gamma': 0.8009651719381904, 'coef0': 1.561686937511777, 'class_weight': None}. Best is trial 39 with value: 0.6706697459584297.\n",
      "[I 2025-01-06 11:47:44,400] Trial 72 finished with value: 0.6689761354888375 and parameters: {'C': 0.12124331540810904, 'kernel': 'linear', 'degree': 3, 'gamma': 0.7936099799456469, 'coef0': 1.577346480068804, 'class_weight': None}. Best is trial 39 with value: 0.6706697459584297.\n",
      "[I 2025-01-06 11:47:47,356] Trial 73 finished with value: 0.669284064665127 and parameters: {'C': 0.143126208246433, 'kernel': 'linear', 'degree': 3, 'gamma': 0.8218321936048621, 'coef0': 2.695782302756288, 'class_weight': None}. Best is trial 39 with value: 0.6706697459584297.\n",
      "[I 2025-01-06 11:47:50,286] Trial 74 finished with value: 0.6685142417244034 and parameters: {'C': 0.15917695870040188, 'kernel': 'linear', 'degree': 3, 'gamma': 0.8007809536322285, 'coef0': 1.6963320058007292, 'class_weight': None}. Best is trial 39 with value: 0.6706697459584297.\n",
      "[I 2025-01-06 11:47:53,287] Trial 75 finished with value: 0.6689761354888376 and parameters: {'C': 0.11315831113565197, 'kernel': 'linear', 'degree': 3, 'gamma': 0.8445448651086213, 'coef0': 2.9282480723828908, 'class_weight': None}. Best is trial 39 with value: 0.6706697459584297.\n",
      "[I 2025-01-06 11:47:56,257] Trial 76 finished with value: 0.6706697459584297 and parameters: {'C': 0.1284528852301317, 'kernel': 'linear', 'degree': 3, 'gamma': 0.45141808004832795, 'coef0': 1.8811316753905853, 'class_weight': None}. Best is trial 39 with value: 0.6706697459584297.\n",
      "[I 2025-01-06 11:47:59,626] Trial 77 finished with value: 0.6703618167821401 and parameters: {'C': 0.12622765268120914, 'kernel': 'linear', 'degree': 3, 'gamma': 0.485729960144606, 'coef0': 1.7792332403746811, 'class_weight': None}. Best is trial 39 with value: 0.6706697459584297.\n",
      "[I 2025-01-06 11:48:02,851] Trial 78 finished with value: 0.669284064665127 and parameters: {'C': 0.16740079410176723, 'kernel': 'linear', 'degree': 3, 'gamma': 0.42537887496152427, 'coef0': 1.884474592981514, 'class_weight': None}. Best is trial 39 with value: 0.6706697459584297.\n",
      "[I 2025-01-06 11:48:05,867] Trial 79 finished with value: 0.6688221709006928 and parameters: {'C': 0.1451874191456153, 'kernel': 'linear', 'degree': 3, 'gamma': 0.5823274985586278, 'coef0': 1.59298074663569, 'class_weight': None}. Best is trial 39 with value: 0.6706697459584297.\n",
      "[I 2025-01-06 11:48:08,913] Trial 80 finished with value: 0.669284064665127 and parameters: {'C': 0.1110945873911976, 'kernel': 'linear', 'degree': 3, 'gamma': 0.5371750234977805, 'coef0': 1.5038076861726033, 'class_weight': None}. Best is trial 39 with value: 0.6706697459584297.\n",
      "[I 2025-01-06 11:48:11,960] Trial 81 finished with value: 0.6705157813702849 and parameters: {'C': 0.1275028062029768, 'kernel': 'linear', 'degree': 3, 'gamma': 0.4832813549080945, 'coef0': 1.773364495422471, 'class_weight': None}. Best is trial 39 with value: 0.6706697459584297.\n",
      "[I 2025-01-06 11:48:14,979] Trial 82 finished with value: 0.6702078521939955 and parameters: {'C': 0.13173907633767865, 'kernel': 'linear', 'degree': 3, 'gamma': 0.4529332447821694, 'coef0': 1.6634372517874332, 'class_weight': None}. Best is trial 39 with value: 0.6706697459584297.\n",
      "[I 2025-01-06 11:48:17,859] Trial 83 finished with value: 0.6685142417244034 and parameters: {'C': 0.15136120538802078, 'kernel': 'linear', 'degree': 3, 'gamma': 0.42432394109840793, 'coef0': 1.854215739240646, 'class_weight': None}. Best is trial 39 with value: 0.6706697459584297.\n",
      "[I 2025-01-06 11:48:20,800] Trial 84 finished with value: 0.6694380292532718 and parameters: {'C': 0.10092363713846676, 'kernel': 'linear', 'degree': 3, 'gamma': 0.5064482309260492, 'coef0': 1.9824177343821365, 'class_weight': None}. Best is trial 39 with value: 0.6706697459584297.\n",
      "[I 2025-01-06 11:48:23,771] Trial 85 finished with value: 0.6695919938414165 and parameters: {'C': 0.13683217270445763, 'kernel': 'linear', 'degree': 3, 'gamma': 0.4097568510604925, 'coef0': 1.7640541494449913, 'class_weight': None}. Best is trial 39 with value: 0.6706697459584297.\n",
      "[I 2025-01-06 11:48:26,682] Trial 86 finished with value: 0.6691301000769823 and parameters: {'C': 0.1213095984603, 'kernel': 'linear', 'degree': 3, 'gamma': 0.45718561692789716, 'coef0': 1.5690141586061108, 'class_weight': None}. Best is trial 39 with value: 0.6706697459584297.\n",
      "[I 2025-01-06 11:48:29,727] Trial 87 finished with value: 0.6674364896073903 and parameters: {'C': 0.31843576734385637, 'kernel': 'linear', 'degree': 3, 'gamma': 0.47300110901737086, 'coef0': 1.6526673040706634, 'class_weight': None}. Best is trial 39 with value: 0.6706697459584297.\n",
      "[I 2025-01-06 11:48:32,637] Trial 88 finished with value: 0.6688221709006928 and parameters: {'C': 0.15958545225761614, 'kernel': 'linear', 'degree': 3, 'gamma': 0.8915301441906667, 'coef0': 1.7231195511481951, 'class_weight': None}. Best is trial 39 with value: 0.6706697459584297.\n",
      "[I 2025-01-06 11:48:35,532] Trial 89 finished with value: 0.6672825250192456 and parameters: {'C': 0.2801080771136162, 'kernel': 'linear', 'degree': 3, 'gamma': 0.5111300496819193, 'coef0': 1.8342848674007168, 'class_weight': None}. Best is trial 39 with value: 0.6706697459584297.\n",
      "[I 2025-01-06 11:48:38,397] Trial 90 finished with value: 0.668822170900693 and parameters: {'C': 0.11606536489156453, 'kernel': 'linear', 'degree': 3, 'gamma': 0.8396095427229677, 'coef0': 1.9374336516630455, 'class_weight': None}. Best is trial 39 with value: 0.6706697459584297.\n",
      "[I 2025-01-06 11:48:41,217] Trial 91 finished with value: 0.6695919938414165 and parameters: {'C': 0.12182350767589195, 'kernel': 'linear', 'degree': 3, 'gamma': 0.4797645135335308, 'coef0': 1.7661268091365412, 'class_weight': None}. Best is trial 39 with value: 0.6706697459584297.\n",
      "[I 2025-01-06 11:48:44,082] Trial 92 finished with value: 0.6703618167821401 and parameters: {'C': 0.12933369075760334, 'kernel': 'linear', 'degree': 3, 'gamma': 0.455272603779064, 'coef0': 1.5409191391061137, 'class_weight': None}. Best is trial 39 with value: 0.6706697459584297.\n",
      "[I 2025-01-06 11:48:47,144] Trial 93 finished with value: 0.6691301000769823 and parameters: {'C': 0.1425724064052761, 'kernel': 'linear', 'degree': 3, 'gamma': 0.4887629604934903, 'coef0': 1.613168035119676, 'class_weight': None}. Best is trial 39 with value: 0.6706697459584297.\n",
      "[I 2025-01-06 11:48:50,331] Trial 94 finished with value: 0.6705157813702849 and parameters: {'C': 0.12613723479114236, 'kernel': 'linear', 'degree': 3, 'gamma': 0.5181102655922437, 'coef0': 1.7785750576339898, 'class_weight': None}. Best is trial 39 with value: 0.6706697459584297.\n",
      "[I 2025-01-06 11:48:53,346] Trial 95 finished with value: 0.669284064665127 and parameters: {'C': 0.10680843187688052, 'kernel': 'linear', 'degree': 3, 'gamma': 0.44247711895085406, 'coef0': 1.6646658760301936, 'class_weight': None}. Best is trial 39 with value: 0.6706697459584297.\n",
      "[I 2025-01-06 11:48:56,272] Trial 96 finished with value: 0.6686682063125481 and parameters: {'C': 0.14928694244802967, 'kernel': 'linear', 'degree': 3, 'gamma': 0.8209459329247536, 'coef0': 2.057746358271339, 'class_weight': None}. Best is trial 39 with value: 0.6706697459584297.\n",
      "[I 2025-01-06 11:48:59,212] Trial 97 finished with value: 0.669899923017706 and parameters: {'C': 0.13348455775651155, 'kernel': 'linear', 'degree': 3, 'gamma': 0.804551612891289, 'coef0': 1.5467569624006843, 'class_weight': None}. Best is trial 39 with value: 0.6706697459584297.\n",
      "[I 2025-01-06 11:49:02,258] Trial 98 finished with value: 0.669284064665127 and parameters: {'C': 0.24657269985914715, 'kernel': 'linear', 'degree': 3, 'gamma': 0.5229260132145884, 'coef0': 1.903632248595992, 'class_weight': None}. Best is trial 39 with value: 0.6706697459584297.\n",
      "[I 2025-01-06 11:49:05,214] Trial 99 finished with value: 0.669284064665127 and parameters: {'C': 0.16928919893536726, 'kernel': 'linear', 'degree': 3, 'gamma': 0.75058712781031, 'coef0': 2.2210631364407702, 'class_weight': None}. Best is trial 39 with value: 0.6706697459584297.\n"
     ]
    },
    {
     "data": {
      "text/plain": [
       "({'C': 0.12947471032485133,\n",
       "  'kernel': 'linear',\n",
       "  'degree': 3,\n",
       "  'gamma': 0.8257983403675284,\n",
       "  'coef0': 1.5244055890464454,\n",
       "  'class_weight': None},\n",
       " 0.6706697459584297)"
      ]
     },
     "execution_count": 34,
     "metadata": {},
     "output_type": "execute_result"
    }
   ],
   "source": [
    "params = {\n",
    "    \"C\": {\"type\": \"float\", \"min\": 0.1, \"max\": 0.5},\n",
    "    \"kernel\": {\"type\": \"categorical\", \"values\": [\"linear\"]},\n",
    "    \"degree\": {\"type\": \"int\", \"min\": 3, \"max\": 5},\n",
    "    \"gamma\": {\"type\": \"float\", \"min\": 0.4, \"max\": 0.9},\n",
    "    \"coef0\": {\"type\": \"float\", \"min\": 1.5, \"max\": 4.0},\n",
    "    \"class_weight\": {\"type\": \"categorical\", \"values\": [None]}\n",
    "}\n",
    "\n",
    "svc_tuner = HyperparameterTuner(SVC, params, train_x, train_y)\n",
    "svc_tuner.optimize(100)\n",
    "svc_tuner.best_params(), svc_tuner.best_score()"
   ]
  },
  {
   "cell_type": "code",
   "execution_count": 86,
   "metadata": {},
   "outputs": [
    {
     "name": "stdout",
     "output_type": "stream",
     "text": [
      "              precision    recall  f1-score   support\n",
      "\n",
      "           0       0.70      0.63      0.67      1060\n",
      "           1       0.66      0.73      0.70      1054\n",
      "\n",
      "    accuracy                           0.68      2114\n",
      "   macro avg       0.68      0.68      0.68      2114\n",
      "weighted avg       0.68      0.68      0.68      2114\n",
      "\n"
     ]
    }
   ],
   "source": [
    "params = {\n",
    "    \"C\": 0.21950805677161292,\n",
    "    \"kernel\": \"linear\",\n",
    "    \"degree\": 4,\n",
    "    \"gamma\": 0.671045772731431,\n",
    "    \"coef0\": 2.7929809033044726,\n",
    "    \"class_weight\": None,\n",
    "}\n",
    "\n",
    "svc_final = SVC(**params)\n",
    "svc_final.fit(train_x, train_y)\n",
    "print(classification_report(valid_y, svc_final.predict(valid_x)))"
   ]
  },
  {
   "cell_type": "markdown",
   "metadata": {},
   "source": [
    "- XGBClassifier"
   ]
  },
  {
   "cell_type": "code",
   "execution_count": 45,
   "metadata": {},
   "outputs": [
    {
     "name": "stderr",
     "output_type": "stream",
     "text": [
      "[I 2025-01-06 12:08:49,354] A new study created in memory with name: no-name-2deee604-b8d5-4b0a-a410-f0ecd7ce02bd\n",
      "[I 2025-01-06 12:08:51,833] Trial 0 finished with value: 0.7076212471131639 and parameters: {'n_estimators': 324, 'learning_rate': 0.010826269332899338, 'max_depth': 4, 'min_child_weight': 4, 'gamma': 0.3871661046616971, 'subsample': 0.9718697674578612, 'colsample_bytree': 0.9733765919564145, 'reg_alpha': 0.08537238436857866, 'reg_lambda': 3.971684506833455}. Best is trial 0 with value: 0.7076212471131639.\n",
      "[I 2025-01-06 12:08:54,181] Trial 1 finished with value: 0.7117782909930715 and parameters: {'n_estimators': 323, 'learning_rate': 0.01657846609337131, 'max_depth': 4, 'min_child_weight': 3, 'gamma': 0.22606362871510355, 'subsample': 0.9342534147669997, 'colsample_bytree': 0.9590436538877334, 'reg_alpha': 0.13672586757923827, 'reg_lambda': 3.4710133684189834}. Best is trial 1 with value: 0.7117782909930715.\n",
      "[I 2025-01-06 12:08:57,380] Trial 2 finished with value: 0.7190146266358738 and parameters: {'n_estimators': 332, 'learning_rate': 0.013001185834073128, 'max_depth': 5, 'min_child_weight': 3, 'gamma': 0.29360972972695215, 'subsample': 0.9137671460264358, 'colsample_bytree': 0.9783959400157803, 'reg_alpha': 0.11554330267261345, 'reg_lambda': 3.6201037829344163}. Best is trial 2 with value: 0.7190146266358738.\n",
      "[I 2025-01-06 12:08:59,647] Trial 3 finished with value: 0.7040800615858354 and parameters: {'n_estimators': 377, 'learning_rate': 0.0078111553716774225, 'max_depth': 4, 'min_child_weight': 4, 'gamma': 0.2395756333244491, 'subsample': 0.8978122412617184, 'colsample_bytree': 0.9688430521263555, 'reg_alpha': 0.18805723800281882, 'reg_lambda': 4.113843658148232}. Best is trial 2 with value: 0.7190146266358738.\n",
      "[I 2025-01-06 12:09:03,699] Trial 4 finished with value: 0.7133179368745189 and parameters: {'n_estimators': 334, 'learning_rate': 0.017935419721286355, 'max_depth': 6, 'min_child_weight': 3, 'gamma': 0.2750857368966505, 'subsample': 0.8124755417939276, 'colsample_bytree': 0.9454745822318733, 'reg_alpha': 0.09196609455706567, 'reg_lambda': 4.205997484267464}. Best is trial 2 with value: 0.7190146266358738.\n",
      "[I 2025-01-06 12:09:07,633] Trial 5 finished with value: 0.7157813702848344 and parameters: {'n_estimators': 303, 'learning_rate': 0.009613897491697977, 'max_depth': 6, 'min_child_weight': 4, 'gamma': 0.33928627212940266, 'subsample': 0.9041365669903535, 'colsample_bytree': 0.948844145702104, 'reg_alpha': 0.1657569608031994, 'reg_lambda': 4.41672855657402}. Best is trial 2 with value: 0.7190146266358738.\n",
      "[I 2025-01-06 12:09:09,465] Trial 6 finished with value: 0.7108545034642033 and parameters: {'n_estimators': 315, 'learning_rate': 0.01840393035690999, 'max_depth': 4, 'min_child_weight': 4, 'gamma': 0.1252121349905416, 'subsample': 0.9340265137708876, 'colsample_bytree': 0.9215119730716095, 'reg_alpha': 0.09255452308370918, 'reg_lambda': 3.2547449366548924}. Best is trial 2 with value: 0.7190146266358738.\n",
      "[I 2025-01-06 12:09:12,682] Trial 7 finished with value: 0.7153194765204003 and parameters: {'n_estimators': 367, 'learning_rate': 0.010435347157595264, 'max_depth': 5, 'min_child_weight': 2, 'gamma': 0.23960716255815603, 'subsample': 0.8273964834841537, 'colsample_bytree': 0.9821766777900905, 'reg_alpha': 0.16857218428633036, 'reg_lambda': 4.111170089592152}. Best is trial 2 with value: 0.7190146266358738.\n",
      "[I 2025-01-06 12:09:16,922] Trial 8 finished with value: 0.7107005388760584 and parameters: {'n_estimators': 375, 'learning_rate': 0.015125704646319224, 'max_depth': 6, 'min_child_weight': 4, 'gamma': 0.1959092065664791, 'subsample': 0.8276691831176486, 'colsample_bytree': 0.9334202529828454, 'reg_alpha': 0.0909413878578478, 'reg_lambda': 4.476621073489354}. Best is trial 2 with value: 0.7190146266358738.\n",
      "[I 2025-01-06 12:09:21,651] Trial 9 finished with value: 0.7154734411085452 and parameters: {'n_estimators': 342, 'learning_rate': 0.00610050251494765, 'max_depth': 6, 'min_child_weight': 2, 'gamma': 0.2512173363351904, 'subsample': 0.9717572180548505, 'colsample_bytree': 0.99170130705261, 'reg_alpha': 0.11498239316889464, 'reg_lambda': 3.8093565641520657}. Best is trial 2 with value: 0.7190146266358738.\n",
      "[I 2025-01-06 12:09:24,779] Trial 10 finished with value: 0.7154734411085449 and parameters: {'n_estimators': 357, 'learning_rate': 0.014186400924962235, 'max_depth': 5, 'min_child_weight': 3, 'gamma': 0.3192175917989098, 'subsample': 0.8719601899659873, 'colsample_bytree': 0.9965552999401683, 'reg_alpha': 0.057015451692309024, 'reg_lambda': 3.0501186074711817}. Best is trial 2 with value: 0.7190146266358738.\n",
      "[I 2025-01-06 12:09:27,394] Trial 11 finished with value: 0.7156274056966898 and parameters: {'n_estimators': 304, 'learning_rate': 0.011284315665056529, 'max_depth': 5, 'min_child_weight': 3, 'gamma': 0.3491301526884968, 'subsample': 0.8729569205944154, 'colsample_bytree': 0.9057550431889954, 'reg_alpha': 0.14781186392669188, 'reg_lambda': 3.5702242574555147}. Best is trial 2 with value: 0.7190146266358738.\n",
      "[I 2025-01-06 12:09:31,491] Trial 12 finished with value: 0.7170130869899923 and parameters: {'n_estimators': 300, 'learning_rate': 0.012850311088005502, 'max_depth': 6, 'min_child_weight': 2, 'gamma': 0.314489879378438, 'subsample': 0.9193435126999506, 'colsample_bytree': 0.9479588981880476, 'reg_alpha': 0.1953710489400473, 'reg_lambda': 4.4594132214515305}. Best is trial 2 with value: 0.7190146266358738.\n",
      "[I 2025-01-06 12:09:34,646] Trial 13 finished with value: 0.7179368745188607 and parameters: {'n_estimators': 350, 'learning_rate': 0.012850642326318324, 'max_depth': 5, 'min_child_weight': 2, 'gamma': 0.2993558427821173, 'subsample': 0.933681791062709, 'colsample_bytree': 0.9620897593827498, 'reg_alpha': 0.1941661001229292, 'reg_lambda': 3.7230385499098904}. Best is trial 2 with value: 0.7190146266358738.\n",
      "[I 2025-01-06 12:09:37,757] Trial 14 finished with value: 0.7174749807544265 and parameters: {'n_estimators': 352, 'learning_rate': 0.013646976509161954, 'max_depth': 5, 'min_child_weight': 2, 'gamma': 0.28717033451142115, 'subsample': 0.9973956901415643, 'colsample_bytree': 0.9668957306941783, 'reg_alpha': 0.12043347390866345, 'reg_lambda': 3.633613048477998}. Best is trial 2 with value: 0.7190146266358738.\n",
      "[I 2025-01-06 12:09:41,090] Trial 15 finished with value: 0.719476520400308 and parameters: {'n_estimators': 387, 'learning_rate': 0.01595021903211714, 'max_depth': 5, 'min_child_weight': 2, 'gamma': 0.17790374681619398, 'subsample': 0.9527347492471467, 'colsample_bytree': 0.9815687257587825, 'reg_alpha': 0.14665100639576134, 'reg_lambda': 3.8300203186141113}. Best is trial 15 with value: 0.719476520400308.\n",
      "[I 2025-01-06 12:09:44,520] Trial 16 finished with value: 0.7173210161662817 and parameters: {'n_estimators': 398, 'learning_rate': 0.016363139591956066, 'max_depth': 5, 'min_child_weight': 3, 'gamma': 0.16380799497764453, 'subsample': 0.9599637314366317, 'colsample_bytree': 0.9801851488093907, 'reg_alpha': 0.14959708758718274, 'reg_lambda': 3.4272463627631247}. Best is trial 15 with value: 0.719476520400308.\n",
      "[I 2025-01-06 12:09:47,980] Trial 17 finished with value: 0.7125481139337951 and parameters: {'n_estimators': 392, 'learning_rate': 0.015845930559532224, 'max_depth': 5, 'min_child_weight': 2, 'gamma': 0.10335325815020491, 'subsample': 0.8743206328130462, 'colsample_bytree': 0.9874676809374369, 'reg_alpha': 0.10695019168451735, 'reg_lambda': 3.855556105421743}. Best is trial 15 with value: 0.719476520400308.\n",
      "[I 2025-01-06 12:09:51,364] Trial 18 finished with value: 0.710392609699769 and parameters: {'n_estimators': 385, 'learning_rate': 0.01996972956305868, 'max_depth': 5, 'min_child_weight': 3, 'gamma': 0.17876445815553627, 'subsample': 0.9960936067936356, 'colsample_bytree': 0.9971605042347605, 'reg_alpha': 0.13428176129117084, 'reg_lambda': 3.9383207755186014}. Best is trial 15 with value: 0.719476520400308.\n",
      "[I 2025-01-06 12:09:53,571] Trial 19 finished with value: 0.7085450346420323 and parameters: {'n_estimators': 363, 'learning_rate': 0.008746370300659277, 'max_depth': 4, 'min_child_weight': 3, 'gamma': 0.1449556669576887, 'subsample': 0.9508147182677749, 'colsample_bytree': 0.9762771840633776, 'reg_alpha': 0.06298628570841368, 'reg_lambda': 3.4060251600618887}. Best is trial 15 with value: 0.719476520400308.\n",
      "[I 2025-01-06 12:09:56,472] Trial 20 finished with value: 0.7176289453425712 and parameters: {'n_estimators': 339, 'learning_rate': 0.014700106720072718, 'max_depth': 5, 'min_child_weight': 2, 'gamma': 0.21302821544530878, 'subsample': 0.8908670366640938, 'colsample_bytree': 0.9334096918383483, 'reg_alpha': 0.16803054333986836, 'reg_lambda': 3.1557498967965496}. Best is trial 15 with value: 0.719476520400308.\n",
      "[I 2025-01-06 12:09:59,521] Trial 21 finished with value: 0.720554272517321 and parameters: {'n_estimators': 346, 'learning_rate': 0.013051098559765145, 'max_depth': 5, 'min_child_weight': 2, 'gamma': 0.2752654350700968, 'subsample': 0.9255945895718997, 'colsample_bytree': 0.9598603426125436, 'reg_alpha': 0.18411915825950448, 'reg_lambda': 3.7056220158921005}. Best is trial 21 with value: 0.720554272517321.\n",
      "[I 2025-01-06 12:10:02,572] Trial 22 finished with value: 0.7191685912240184 and parameters: {'n_estimators': 332, 'learning_rate': 0.012011496157683852, 'max_depth': 5, 'min_child_weight': 2, 'gamma': 0.2625678002054877, 'subsample': 0.917555024824139, 'colsample_bytree': 0.9578520978255558, 'reg_alpha': 0.17521778188740103, 'reg_lambda': 3.6772613387566833}. Best is trial 21 with value: 0.720554272517321.\n",
      "[I 2025-01-06 12:10:05,714] Trial 23 finished with value: 0.7180908391070053 and parameters: {'n_estimators': 346, 'learning_rate': 0.011688237538240274, 'max_depth': 5, 'min_child_weight': 2, 'gamma': 0.2636343338017678, 'subsample': 0.9538224384690429, 'colsample_bytree': 0.9607453527006903, 'reg_alpha': 0.17300841342819168, 'reg_lambda': 3.710848701984424}. Best is trial 21 with value: 0.720554272517321.\n",
      "[I 2025-01-06 12:10:08,630] Trial 24 finished with value: 0.7165511932255582 and parameters: {'n_estimators': 325, 'learning_rate': 0.01714308683363481, 'max_depth': 5, 'min_child_weight': 2, 'gamma': 0.20591808389853222, 'subsample': 0.9226048488576826, 'colsample_bytree': 0.9553814547828025, 'reg_alpha': 0.1807435996365712, 'reg_lambda': 3.9750159146090844}. Best is trial 21 with value: 0.720554272517321.\n",
      "[I 2025-01-06 12:10:10,746] Trial 25 finished with value: 0.7113163972286374 and parameters: {'n_estimators': 358, 'learning_rate': 0.0120270919594848, 'max_depth': 4, 'min_child_weight': 2, 'gamma': 0.18211973603456477, 'subsample': 0.9449012927919506, 'colsample_bytree': 0.9401806912230134, 'reg_alpha': 0.157427729605548, 'reg_lambda': 3.837140044441314}. Best is trial 21 with value: 0.720554272517321.\n",
      "[I 2025-01-06 12:10:14,921] Trial 26 finished with value: 0.7177829099307159 and parameters: {'n_estimators': 312, 'learning_rate': 0.014670153606571753, 'max_depth': 6, 'min_child_weight': 2, 'gamma': 0.26483373261386384, 'subsample': 0.9726911808524759, 'colsample_bytree': 0.969584902740696, 'reg_alpha': 0.1811146466364466, 'reg_lambda': 3.319293316817289}. Best is trial 21 with value: 0.720554272517321.\n",
      "[I 2025-01-06 12:10:18,440] Trial 27 finished with value: 0.7159353348729793 and parameters: {'n_estimators': 372, 'learning_rate': 0.007894906701719901, 'max_depth': 5, 'min_child_weight': 2, 'gamma': 0.22276677860133054, 'subsample': 0.8848533527269582, 'colsample_bytree': 0.9563595818638074, 'reg_alpha': 0.15688103480208784, 'reg_lambda': 3.5411268162459213}. Best is trial 21 with value: 0.720554272517321.\n",
      "[I 2025-01-06 12:10:22,161] Trial 28 finished with value: 0.7131639722863741 and parameters: {'n_estimators': 383, 'learning_rate': 0.009957893716165303, 'max_depth': 5, 'min_child_weight': 2, 'gamma': 0.3610160218485967, 'subsample': 0.8523349048858616, 'colsample_bytree': 0.9878889631277055, 'reg_alpha': 0.13696898215376346, 'reg_lambda': 3.715001314609237}. Best is trial 21 with value: 0.720554272517321.\n",
      "[I 2025-01-06 12:10:24,194] Trial 29 finished with value: 0.7134719014626636 and parameters: {'n_estimators': 326, 'learning_rate': 0.015586940847405808, 'max_depth': 4, 'min_child_weight': 2, 'gamma': 0.39312732477632895, 'subsample': 0.9751547765000429, 'colsample_bytree': 0.9252963789046071, 'reg_alpha': 0.17939581832576992, 'reg_lambda': 3.960457513253247}. Best is trial 21 with value: 0.720554272517321.\n",
      "[I 2025-01-06 12:10:27,552] Trial 30 finished with value: 0.7180908391070054 and parameters: {'n_estimators': 332, 'learning_rate': 0.013917454563752268, 'max_depth': 5, 'min_child_weight': 2, 'gamma': 0.1523588150948411, 'subsample': 0.907024963473535, 'colsample_bytree': 0.9694590980598372, 'reg_alpha': 0.19987444850386016, 'reg_lambda': 4.318334974424335}. Best is trial 21 with value: 0.720554272517321.\n",
      "[I 2025-01-06 12:10:30,606] Trial 31 finished with value: 0.7179368745188607 and parameters: {'n_estimators': 333, 'learning_rate': 0.0129943259818685, 'max_depth': 5, 'min_child_weight': 3, 'gamma': 0.2962221060685381, 'subsample': 0.9153354801318375, 'colsample_bytree': 0.974895362780534, 'reg_alpha': 0.13045771685716856, 'reg_lambda': 3.6194142372543534}. Best is trial 21 with value: 0.720554272517321.\n",
      "[I 2025-01-06 12:10:33,632] Trial 32 finished with value: 0.7183987682832949 and parameters: {'n_estimators': 319, 'learning_rate': 0.010971734977421486, 'max_depth': 5, 'min_child_weight': 3, 'gamma': 0.3139049489277215, 'subsample': 0.9310814231600751, 'colsample_bytree': 0.9836044849878661, 'reg_alpha': 0.14623393045577443, 'reg_lambda': 3.508376455951314}. Best is trial 21 with value: 0.720554272517321.\n",
      "[I 2025-01-06 12:10:36,651] Trial 33 finished with value: 0.7179368745188608 and parameters: {'n_estimators': 342, 'learning_rate': 0.012376510606212575, 'max_depth': 5, 'min_child_weight': 3, 'gamma': 0.2777888253544969, 'subsample': 0.9430828439424858, 'colsample_bytree': 0.9642261218965402, 'reg_alpha': 0.15905372588649117, 'reg_lambda': 3.6618726489424063}. Best is trial 21 with value: 0.720554272517321.\n",
      "[I 2025-01-06 12:10:38,696] Trial 34 finished with value: 0.7083910700538876 and parameters: {'n_estimators': 329, 'learning_rate': 0.013644669446908137, 'max_depth': 4, 'min_child_weight': 2, 'gamma': 0.2447225200173771, 'subsample': 0.9073824569528225, 'colsample_bytree': 0.9753807621935608, 'reg_alpha': 0.11008504327419956, 'reg_lambda': 4.052334005307806}. Best is trial 21 with value: 0.720554272517321.\n",
      "[I 2025-01-06 12:10:41,611] Trial 35 finished with value: 0.7136258660508082 and parameters: {'n_estimators': 341, 'learning_rate': 0.018010417705402456, 'max_depth': 5, 'min_child_weight': 4, 'gamma': 0.3306914174022343, 'subsample': 0.9217846707130571, 'colsample_bytree': 0.9722023080163406, 'reg_alpha': 0.10219670854478748, 'reg_lambda': 3.7897050478659247}. Best is trial 21 with value: 0.720554272517321.\n",
      "[I 2025-01-06 12:10:45,817] Trial 36 finished with value: 0.7148575827559661 and parameters: {'n_estimators': 335, 'learning_rate': 0.017214402712896766, 'max_depth': 6, 'min_child_weight': 3, 'gamma': 0.2610872787250703, 'subsample': 0.8986310111298725, 'colsample_bytree': 0.9547514524661636, 'reg_alpha': 0.18785241936790248, 'reg_lambda': 3.8739896000075373}. Best is trial 21 with value: 0.720554272517321.\n",
      "[I 2025-01-06 12:10:48,071] Trial 37 finished with value: 0.709930715935335 and parameters: {'n_estimators': 321, 'learning_rate': 0.00907565897750293, 'max_depth': 4, 'min_child_weight': 2, 'gamma': 0.22485034022344047, 'subsample': 0.9627245372178966, 'colsample_bytree': 0.942031216018984, 'reg_alpha': 0.12443526573569923, 'reg_lambda': 3.3495572785596863}. Best is trial 21 with value: 0.720554272517321.\n",
      "[I 2025-01-06 12:10:51,262] Trial 38 finished with value: 0.7176289453425712 and parameters: {'n_estimators': 355, 'learning_rate': 0.019165192876205637, 'max_depth': 5, 'min_child_weight': 2, 'gamma': 0.28507673069557005, 'subsample': 0.9838827232238334, 'colsample_bytree': 0.9520995766236919, 'reg_alpha': 0.0789858434713607, 'reg_lambda': 3.5807407293740687}. Best is trial 21 with value: 0.720554272517321.\n",
      "[I 2025-01-06 12:10:54,451] Trial 39 finished with value: 0.7083910700538876 and parameters: {'n_estimators': 347, 'learning_rate': 0.005016698794498382, 'max_depth': 5, 'min_child_weight': 4, 'gamma': 0.3656338291599005, 'subsample': 0.9414333205184676, 'colsample_bytree': 0.980417150677826, 'reg_alpha': 0.14464040260204836, 'reg_lambda': 4.248709856695541}. Best is trial 21 with value: 0.720554272517321.\n",
      "[I 2025-01-06 12:10:58,357] Trial 40 finished with value: 0.7148575827559661 and parameters: {'n_estimators': 310, 'learning_rate': 0.010481178872721068, 'max_depth': 6, 'min_child_weight': 4, 'gamma': 0.23848291630889723, 'subsample': 0.8595355392149845, 'colsample_bytree': 0.9914081372821796, 'reg_alpha': 0.18707110338965824, 'reg_lambda': 3.472643549809032}. Best is trial 21 with value: 0.720554272517321.\n",
      "[I 2025-01-06 12:11:01,224] Trial 41 finished with value: 0.7165511932255582 and parameters: {'n_estimators': 317, 'learning_rate': 0.010684164537543582, 'max_depth': 5, 'min_child_weight': 3, 'gamma': 0.3058334696000255, 'subsample': 0.9276706596339793, 'colsample_bytree': 0.9840247821796858, 'reg_alpha': 0.14212840227091156, 'reg_lambda': 3.507492912328162}. Best is trial 21 with value: 0.720554272517321.\n",
      "[I 2025-01-06 12:11:04,112] Trial 42 finished with value: 0.7187066974595843 and parameters: {'n_estimators': 322, 'learning_rate': 0.01122149532627412, 'max_depth': 5, 'min_child_weight': 3, 'gamma': 0.315305541743384, 'subsample': 0.9125797028948558, 'colsample_bytree': 0.9999960227524426, 'reg_alpha': 0.1634722306110653, 'reg_lambda': 3.7586089016996453}. Best is trial 21 with value: 0.720554272517321.\n",
      "[I 2025-01-06 12:11:07,120] Trial 43 finished with value: 0.7213240954580447 and parameters: {'n_estimators': 337, 'learning_rate': 0.011361148978640885, 'max_depth': 5, 'min_child_weight': 3, 'gamma': 0.33867423761986626, 'subsample': 0.9122063775410096, 'colsample_bytree': 0.9936899174879701, 'reg_alpha': 0.17304791866762087, 'reg_lambda': 3.661771970812557}. Best is trial 43 with value: 0.7213240954580447.\n",
      "[I 2025-01-06 12:11:10,050] Trial 44 finished with value: 0.7153194765204003 and parameters: {'n_estimators': 337, 'learning_rate': 0.011780657291629498, 'max_depth': 5, 'min_child_weight': 3, 'gamma': 0.3319583253391104, 'subsample': 0.8895622950301615, 'colsample_bytree': 0.9915907872573666, 'reg_alpha': 0.17983093949203366, 'reg_lambda': 3.670420207783377}. Best is trial 43 with value: 0.7213240954580447.\n",
      "[I 2025-01-06 12:11:12,967] Trial 45 finished with value: 0.7185527328714396 and parameters: {'n_estimators': 329, 'learning_rate': 0.012937056577112003, 'max_depth': 5, 'min_child_weight': 3, 'gamma': 0.35554164952878986, 'subsample': 0.8963523373710655, 'colsample_bytree': 0.963961277554342, 'reg_alpha': 0.17139095475764435, 'reg_lambda': 3.7725025370772465}. Best is trial 43 with value: 0.7213240954580447.\n",
      "[I 2025-01-06 12:11:16,052] Trial 46 finished with value: 0.7139337952270978 and parameters: {'n_estimators': 346, 'learning_rate': 0.009846244764346448, 'max_depth': 5, 'min_child_weight': 2, 'gamma': 0.27554382188595544, 'subsample': 0.9365657443366502, 'colsample_bytree': 0.901104797816305, 'reg_alpha': 0.11854560123847357, 'reg_lambda': 4.040924745490617}. Best is trial 43 with value: 0.7213240954580447.\n",
      "[I 2025-01-06 12:11:18,971] Trial 47 finished with value: 0.7208622016936105 and parameters: {'n_estimators': 329, 'learning_rate': 0.0133767384403897, 'max_depth': 5, 'min_child_weight': 3, 'gamma': 0.25459449976914644, 'subsample': 0.9134901489416197, 'colsample_bytree': 0.9793569088252625, 'reg_alpha': 0.1528140347557643, 'reg_lambda': 3.5975310883223375}. Best is trial 43 with value: 0.7213240954580447.\n",
      "[I 2025-01-06 12:11:21,917] Trial 48 finished with value: 0.717782909930716 and parameters: {'n_estimators': 329, 'learning_rate': 0.013514878249481842, 'max_depth': 5, 'min_child_weight': 3, 'gamma': 0.2557732473569805, 'subsample': 0.9262599613669271, 'colsample_bytree': 0.987014214225039, 'reg_alpha': 0.15286752407374501, 'reg_lambda': 3.9006137416137814}. Best is trial 43 with value: 0.7213240954580447.\n",
      "[I 2025-01-06 12:11:25,101] Trial 49 finished with value: 0.7139337952270978 and parameters: {'n_estimators': 362, 'learning_rate': 0.014768446145656176, 'max_depth': 5, 'min_child_weight': 2, 'gamma': 0.23960102568960862, 'subsample': 0.8817743015225046, 'colsample_bytree': 0.9788704394966505, 'reg_alpha': 0.17514239045996455, 'reg_lambda': 3.6010416617753984}. Best is trial 43 with value: 0.7213240954580447.\n",
      "[I 2025-01-06 12:11:29,782] Trial 50 finished with value: 0.718398768283295 and parameters: {'n_estimators': 353, 'learning_rate': 0.012329826249223123, 'max_depth': 6, 'min_child_weight': 2, 'gamma': 0.19567742530630522, 'subsample': 0.9092054439301108, 'colsample_bytree': 0.996337918810712, 'reg_alpha': 0.16514781787304156, 'reg_lambda': 3.6932287167020004}. Best is trial 43 with value: 0.7213240954580447.\n",
      "[I 2025-01-06 12:11:32,727] Trial 51 finished with value: 0.7162432640492686 and parameters: {'n_estimators': 338, 'learning_rate': 0.014248056515306697, 'max_depth': 5, 'min_child_weight': 3, 'gamma': 0.3827226170816281, 'subsample': 0.9032922149276619, 'colsample_bytree': 0.9708718365767399, 'reg_alpha': 0.12894973655868958, 'reg_lambda': 3.8096068443834885}. Best is trial 43 with value: 0.7213240954580447.\n",
      "[I 2025-01-06 12:11:35,871] Trial 52 finished with value: 0.7110084680523479 and parameters: {'n_estimators': 343, 'learning_rate': 0.015621577554020523, 'max_depth': 5, 'min_child_weight': 3, 'gamma': 0.29751837523276936, 'subsample': 0.8027709103071472, 'colsample_bytree': 0.9590901365398303, 'reg_alpha': 0.13895256827016927, 'reg_lambda': 3.6369033401565867}. Best is trial 43 with value: 0.7213240954580447.\n",
      "[I 2025-01-06 12:11:38,906] Trial 53 finished with value: 0.7179368745188607 and parameters: {'n_estimators': 333, 'learning_rate': 0.011397876681332877, 'max_depth': 5, 'min_child_weight': 3, 'gamma': 0.2724773597286757, 'subsample': 0.9365619206387622, 'colsample_bytree': 0.9939787720441561, 'reg_alpha': 0.19193924667506004, 'reg_lambda': 3.4153345605841583}. Best is trial 43 with value: 0.7213240954580447.\n",
      "[I 2025-01-06 12:11:41,837] Trial 54 finished with value: 0.7180908391070054 and parameters: {'n_estimators': 349, 'learning_rate': 0.013029342749715834, 'max_depth': 5, 'min_child_weight': 3, 'gamma': 0.2915188443475905, 'subsample': 0.9160333595410584, 'colsample_bytree': 0.9468042999544227, 'reg_alpha': 0.16219503020740725, 'reg_lambda': 3.561025209487653}. Best is trial 43 with value: 0.7213240954580447.\n",
      "[I 2025-01-06 12:11:44,632] Trial 55 finished with value: 0.7153194765204003 and parameters: {'n_estimators': 328, 'learning_rate': 0.01657306965403818, 'max_depth': 5, 'min_child_weight': 4, 'gamma': 0.3421735903941412, 'subsample': 0.9212156845977332, 'colsample_bytree': 0.9777327119462189, 'reg_alpha': 0.15320162773788346, 'reg_lambda': 3.7451917041348373}. Best is trial 43 with value: 0.7213240954580447.\n",
      "[I 2025-01-06 12:11:48,085] Trial 56 finished with value: 0.7176289453425712 and parameters: {'n_estimators': 400, 'learning_rate': 0.012112233751776402, 'max_depth': 5, 'min_child_weight': 3, 'gamma': 0.11097131786997172, 'subsample': 0.9522749569134669, 'colsample_bytree': 0.9664811421655063, 'reg_alpha': 0.1699850179597978, 'reg_lambda': 3.909556773847767}. Best is trial 43 with value: 0.7213240954580447.\n",
      "[I 2025-01-06 12:11:51,155] Trial 57 finished with value: 0.7219399538106235 and parameters: {'n_estimators': 337, 'learning_rate': 0.015272630148352066, 'max_depth': 5, 'min_child_weight': 2, 'gamma': 0.24988522273215766, 'subsample': 0.9639840429354903, 'colsample_bytree': 0.985608479043216, 'reg_alpha': 0.1856156681311941, 'reg_lambda': 3.4637470458659014}. Best is trial 57 with value: 0.7219399538106235.\n",
      "[I 2025-01-06 12:11:54,133] Trial 58 finished with value: 0.7211701308698999 and parameters: {'n_estimators': 337, 'learning_rate': 0.017180077964045876, 'max_depth': 5, 'min_child_weight': 2, 'gamma': 0.1328857327055356, 'subsample': 0.9647268025341984, 'colsample_bytree': 0.9890322601715346, 'reg_alpha': 0.18559864502352583, 'reg_lambda': 3.4604303762339685}. Best is trial 57 with value: 0.7219399538106235.\n",
      "[I 2025-01-06 12:11:57,226] Trial 59 finished with value: 0.7190146266358737 and parameters: {'n_estimators': 344, 'learning_rate': 0.01740523217666744, 'max_depth': 5, 'min_child_weight': 2, 'gamma': 0.1328438490676594, 'subsample': 0.9622568296429258, 'colsample_bytree': 0.9884231351194229, 'reg_alpha': 0.18471625661824914, 'reg_lambda': 3.3230887957530717}. Best is trial 57 with value: 0.7219399538106235.\n",
      "[I 2025-01-06 12:12:00,446] Trial 60 finished with value: 0.7180908391070054 and parameters: {'n_estimators': 359, 'learning_rate': 0.015363732766175716, 'max_depth': 5, 'min_child_weight': 2, 'gamma': 0.16618135126805328, 'subsample': 0.9850873178251106, 'colsample_bytree': 0.9858162403525624, 'reg_alpha': 0.1917042892576764, 'reg_lambda': 3.2168986386482703}. Best is trial 57 with value: 0.7219399538106235.\n",
      "[I 2025-01-06 12:12:03,435] Trial 61 finished with value: 0.7190146266358737 and parameters: {'n_estimators': 337, 'learning_rate': 0.016100612555072256, 'max_depth': 5, 'min_child_weight': 2, 'gamma': 0.23146954942720177, 'subsample': 0.9671953535319802, 'colsample_bytree': 0.9816277449314686, 'reg_alpha': 0.17613007318113022, 'reg_lambda': 3.4756354759164694}. Best is trial 57 with value: 0.7219399538106235.\n",
      "[I 2025-01-06 12:12:06,500] Trial 62 finished with value: 0.7170130869899923 and parameters: {'n_estimators': 339, 'learning_rate': 0.018491428875745123, 'max_depth': 5, 'min_child_weight': 2, 'gamma': 0.1196092190220313, 'subsample': 0.9795019931455041, 'colsample_bytree': 0.9903860769770767, 'reg_alpha': 0.18505518951386135, 'reg_lambda': 3.3699947220097872}. Best is trial 57 with value: 0.7219399538106235.\n",
      "[I 2025-01-06 12:12:09,403] Trial 63 finished with value: 0.7197844495765974 and parameters: {'n_estimators': 324, 'learning_rate': 0.015097278645834086, 'max_depth': 5, 'min_child_weight': 2, 'gamma': 0.20583299807856328, 'subsample': 0.9473318484284629, 'colsample_bytree': 0.993474915616921, 'reg_alpha': 0.19954122637497984, 'reg_lambda': 3.5272411355564945}. Best is trial 57 with value: 0.7219399538106235.\n",
      "[I 2025-01-06 12:12:12,380] Trial 64 finished with value: 0.7176289453425712 and parameters: {'n_estimators': 325, 'learning_rate': 0.014873327832406146, 'max_depth': 5, 'min_child_weight': 2, 'gamma': 0.18829673484047008, 'subsample': 0.9474052978519888, 'colsample_bytree': 0.9983090832050605, 'reg_alpha': 0.19867580168514257, 'reg_lambda': 3.526070575810664}. Best is trial 57 with value: 0.7219399538106235.\n",
      "[I 2025-01-06 12:12:16,016] Trial 65 finished with value: 0.7163972286374134 and parameters: {'n_estimators': 390, 'learning_rate': 0.01683008631610071, 'max_depth': 5, 'min_child_weight': 2, 'gamma': 0.21153392996648065, 'subsample': 0.9517587647760635, 'colsample_bytree': 0.9931586392477401, 'reg_alpha': 0.19504909816790736, 'reg_lambda': 3.4313974604875748}. Best is trial 57 with value: 0.7219399538106235.\n",
      "[I 2025-01-06 12:12:19,402] Trial 66 finished with value: 0.7196304849884527 and parameters: {'n_estimators': 313, 'learning_rate': 0.0142949618774837, 'max_depth': 5, 'min_child_weight': 2, 'gamma': 0.14072688315946802, 'subsample': 0.9666877350845203, 'colsample_bytree': 0.9951975531988897, 'reg_alpha': 0.19129571096096093, 'reg_lambda': 3.2491524009165857}. Best is trial 57 with value: 0.7219399538106235.\n",
      "[I 2025-01-06 12:12:22,560] Trial 67 finished with value: 0.7197844495765974 and parameters: {'n_estimators': 305, 'learning_rate': 0.014294188801202005, 'max_depth': 5, 'min_child_weight': 2, 'gamma': 0.13179834004377441, 'subsample': 0.9565519023173565, 'colsample_bytree': 0.9955876126398627, 'reg_alpha': 0.19168078912585096, 'reg_lambda': 3.252772621192817}. Best is trial 57 with value: 0.7219399538106235.\n",
      "[I 2025-01-06 12:12:25,669] Trial 68 finished with value: 0.7185527328714396 and parameters: {'n_estimators': 303, 'learning_rate': 0.01362277079349015, 'max_depth': 5, 'min_child_weight': 2, 'gamma': 0.15894320042255178, 'subsample': 0.9590847522850717, 'colsample_bytree': 0.9898988171919292, 'reg_alpha': 0.18308903152425857, 'reg_lambda': 3.044929099860036}. Best is trial 57 with value: 0.7219399538106235.\n",
      "[I 2025-01-06 12:12:28,900] Trial 69 finished with value: 0.7185527328714396 and parameters: {'n_estimators': 317, 'learning_rate': 0.01621880973560732, 'max_depth': 5, 'min_child_weight': 2, 'gamma': 0.17320550773130608, 'subsample': 0.9578394185874451, 'colsample_bytree': 0.9998661768059612, 'reg_alpha': 0.1981793792754302, 'reg_lambda': 3.204398748553679}. Best is trial 57 with value: 0.7219399538106235.\n",
      "[I 2025-01-06 12:12:31,693] Trial 70 finished with value: 0.7202463433410315 and parameters: {'n_estimators': 309, 'learning_rate': 0.015100098426697654, 'max_depth': 5, 'min_child_weight': 2, 'gamma': 0.12555052327856406, 'subsample': 0.9932736212293318, 'colsample_bytree': 0.9842545176918633, 'reg_alpha': 0.17797843940666064, 'reg_lambda': 3.1639241596133587}. Best is trial 57 with value: 0.7219399538106235.\n",
      "[I 2025-01-06 12:12:34,715] Trial 71 finished with value: 0.7207082371054658 and parameters: {'n_estimators': 309, 'learning_rate': 0.015061890627752603, 'max_depth': 5, 'min_child_weight': 2, 'gamma': 0.13278524496256325, 'subsample': 0.9983375776715857, 'colsample_bytree': 0.9853434261717527, 'reg_alpha': 0.17702877536902034, 'reg_lambda': 3.162016018189101}. Best is trial 57 with value: 0.7219399538106235.\n",
      "[I 2025-01-06 12:12:37,525] Trial 72 finished with value: 0.7199384141647421 and parameters: {'n_estimators': 309, 'learning_rate': 0.015198344222430299, 'max_depth': 5, 'min_child_weight': 2, 'gamma': 0.10110790552914617, 'subsample': 0.9960085947661487, 'colsample_bytree': 0.9844702273460265, 'reg_alpha': 0.17625166380143212, 'reg_lambda': 3.14738979012227}. Best is trial 57 with value: 0.7219399538106235.\n",
      "[I 2025-01-06 12:12:40,398] Trial 73 finished with value: 0.7200923787528868 and parameters: {'n_estimators': 309, 'learning_rate': 0.013414254888085272, 'max_depth': 5, 'min_child_weight': 2, 'gamma': 0.11298555578177091, 'subsample': 0.9995618933117144, 'colsample_bytree': 0.9845658328316678, 'reg_alpha': 0.17731748296602678, 'reg_lambda': 3.1017959068961845}. Best is trial 57 with value: 0.7219399538106235.\n",
      "[I 2025-01-06 12:12:43,270] Trial 74 finished with value: 0.720554272517321 and parameters: {'n_estimators': 300, 'learning_rate': 0.013344350864763557, 'max_depth': 5, 'min_child_weight': 2, 'gamma': 0.12350303994569278, 'subsample': 0.9918504475299658, 'colsample_bytree': 0.973503439651996, 'reg_alpha': 0.16759135059332747, 'reg_lambda': 3.0955926478163374}. Best is trial 57 with value: 0.7219399538106235.\n",
      "[I 2025-01-06 12:12:46,084] Trial 75 finished with value: 0.7208622016936105 and parameters: {'n_estimators': 300, 'learning_rate': 0.012755244618336613, 'max_depth': 5, 'min_child_weight': 2, 'gamma': 0.14532003316744035, 'subsample': 0.9902059866890165, 'colsample_bytree': 0.9737664759563122, 'reg_alpha': 0.1702368773450668, 'reg_lambda': 3.0134127592341224}. Best is trial 57 with value: 0.7219399538106235.\n",
      "[I 2025-01-06 12:12:49,048] Trial 76 finished with value: 0.7200923787528868 and parameters: {'n_estimators': 300, 'learning_rate': 0.012595914443415457, 'max_depth': 5, 'min_child_weight': 2, 'gamma': 0.14157882038032205, 'subsample': 0.987162723077318, 'colsample_bytree': 0.9734468019218233, 'reg_alpha': 0.16737190906327495, 'reg_lambda': 3.0011497899693826}. Best is trial 57 with value: 0.7219399538106235.\n",
      "[I 2025-01-06 12:12:51,985] Trial 77 finished with value: 0.7207082371054657 and parameters: {'n_estimators': 306, 'learning_rate': 0.013216717724399717, 'max_depth': 5, 'min_child_weight': 2, 'gamma': 0.14903409011232582, 'subsample': 0.992234611117821, 'colsample_bytree': 0.9775244764910691, 'reg_alpha': 0.16026105660317175, 'reg_lambda': 3.084041692855091}. Best is trial 57 with value: 0.7219399538106235.\n",
      "[I 2025-01-06 12:12:54,950] Trial 78 finished with value: 0.7190146266358737 and parameters: {'n_estimators': 307, 'learning_rate': 0.01398986379783835, 'max_depth': 5, 'min_child_weight': 2, 'gamma': 0.15932132312834016, 'subsample': 0.9790226392387515, 'colsample_bytree': 0.977104095384347, 'reg_alpha': 0.1603941213987564, 'reg_lambda': 3.02898405583786}. Best is trial 57 with value: 0.7219399538106235.\n",
      "[I 2025-01-06 12:12:57,067] Trial 79 finished with value: 0.7114703618167821 and parameters: {'n_estimators': 303, 'learning_rate': 0.011673394539522522, 'max_depth': 4, 'min_child_weight': 2, 'gamma': 0.15249163935646884, 'subsample': 0.9890295763487288, 'colsample_bytree': 0.9807521148105118, 'reg_alpha': 0.1530540982453408, 'reg_lambda': 3.0589886219951143}. Best is trial 57 with value: 0.7219399538106235.\n",
      "[I 2025-01-06 12:13:00,965] Trial 80 finished with value: 0.7193225558121632 and parameters: {'n_estimators': 312, 'learning_rate': 0.012677379955815736, 'max_depth': 5, 'min_child_weight': 2, 'gamma': 0.14838350541761877, 'subsample': 0.9754630156138181, 'colsample_bytree': 0.9883083151654048, 'reg_alpha': 0.1723306688758481, 'reg_lambda': 3.0855604310453746}. Best is trial 57 with value: 0.7219399538106235.\n",
      "[I 2025-01-06 12:13:04,226] Trial 81 finished with value: 0.718860662047729 and parameters: {'n_estimators': 300, 'learning_rate': 0.013357786123892344, 'max_depth': 5, 'min_child_weight': 2, 'gamma': 0.13445975373162886, 'subsample': 0.9920155627840078, 'colsample_bytree': 0.9682754567087533, 'reg_alpha': 0.16647881780749935, 'reg_lambda': 3.122451968091289}. Best is trial 57 with value: 0.7219399538106235.\n",
      "[I 2025-01-06 12:13:07,410] Trial 82 finished with value: 0.7193225558121632 and parameters: {'n_estimators': 303, 'learning_rate': 0.013253433070897842, 'max_depth': 5, 'min_child_weight': 2, 'gamma': 0.12464212468112607, 'subsample': 0.9824727027266118, 'colsample_bytree': 0.9738148609503977, 'reg_alpha': 0.1821900392378951, 'reg_lambda': 3.292033319978593}. Best is trial 57 with value: 0.7219399538106235.\n",
      "[I 2025-01-06 12:13:10,261] Trial 83 finished with value: 0.719476520400308 and parameters: {'n_estimators': 315, 'learning_rate': 0.013844933899868054, 'max_depth': 5, 'min_child_weight': 2, 'gamma': 0.14118158346236545, 'subsample': 0.9708823170373523, 'colsample_bytree': 0.9780023044766267, 'reg_alpha': 0.15666843146160941, 'reg_lambda': 3.167605813848745}. Best is trial 57 with value: 0.7219399538106235.\n",
      "[I 2025-01-06 12:13:13,451] Trial 84 finished with value: 0.7188606620477291 and parameters: {'n_estimators': 350, 'learning_rate': 0.01449500817481353, 'max_depth': 5, 'min_child_weight': 2, 'gamma': 0.11107216392423289, 'subsample': 0.9902281851369271, 'colsample_bytree': 0.9757385884557019, 'reg_alpha': 0.17131634769322093, 'reg_lambda': 3.0099609843718427}. Best is trial 57 with value: 0.7219399538106235.\n",
      "[I 2025-01-06 12:13:16,399] Trial 85 finished with value: 0.7176289453425713 and parameters: {'n_estimators': 306, 'learning_rate': 0.012350517532539218, 'max_depth': 5, 'min_child_weight': 2, 'gamma': 0.12111153270729158, 'subsample': 0.9983459982290058, 'colsample_bytree': 0.981839714938838, 'reg_alpha': 0.18793241922205783, 'reg_lambda': 3.1939525518463014}. Best is trial 57 with value: 0.7219399538106235.\n",
      "[I 2025-01-06 12:13:19,216] Trial 86 finished with value: 0.7197844495765973 and parameters: {'n_estimators': 301, 'learning_rate': 0.013087110480241889, 'max_depth': 5, 'min_child_weight': 2, 'gamma': 0.1704844583518677, 'subsample': 0.9793316854229003, 'colsample_bytree': 0.9723162314547127, 'reg_alpha': 0.16865014429102507, 'reg_lambda': 3.106691719423486}. Best is trial 57 with value: 0.7219399538106235.\n",
      "[I 2025-01-06 12:13:22,219] Trial 87 finished with value: 0.718860662047729 and parameters: {'n_estimators': 341, 'learning_rate': 0.01769686482939963, 'max_depth': 5, 'min_child_weight': 2, 'gamma': 0.24775928932921845, 'subsample': 0.9686541735720139, 'colsample_bytree': 0.9655086168250474, 'reg_alpha': 0.1632728317180331, 'reg_lambda': 3.072965482890639}. Best is trial 57 with value: 0.7219399538106235.\n",
      "[I 2025-01-06 12:13:25,447] Trial 88 finished with value: 0.7185527328714395 and parameters: {'n_estimators': 336, 'learning_rate': 0.01099998524980083, 'max_depth': 5, 'min_child_weight': 2, 'gamma': 0.30658232577695244, 'subsample': 0.9920902521959127, 'colsample_bytree': 0.9623283962414759, 'reg_alpha': 0.17999608590128263, 'reg_lambda': 3.638474592702917}. Best is trial 57 with value: 0.7219399538106235.\n",
      "[I 2025-01-06 12:13:28,471] Trial 89 finished with value: 0.7180908391070054 and parameters: {'n_estimators': 307, 'learning_rate': 0.011857960503994536, 'max_depth': 5, 'min_child_weight': 2, 'gamma': 0.1530525349271789, 'subsample': 0.9754153960138869, 'colsample_bytree': 0.9873981902198508, 'reg_alpha': 0.14966716012406509, 'reg_lambda': 3.5962043109256405}. Best is trial 57 with value: 0.7219399538106235.\n",
      "[I 2025-01-06 12:13:31,998] Trial 90 finished with value: 0.7162432640492687 and parameters: {'n_estimators': 347, 'learning_rate': 0.01146763787765208, 'max_depth': 5, 'min_child_weight': 3, 'gamma': 0.2539394855089329, 'subsample': 0.9836261911136353, 'colsample_bytree': 0.9520625724591654, 'reg_alpha': 0.172407212435308, 'reg_lambda': 3.287595636139309}. Best is trial 57 with value: 0.7219399538106235.\n",
      "[I 2025-01-06 12:13:34,910] Trial 91 finished with value: 0.7190146266358738 and parameters: {'n_estimators': 310, 'learning_rate': 0.015837523724179892, 'max_depth': 5, 'min_child_weight': 2, 'gamma': 0.12946219740445641, 'subsample': 0.9928786062073105, 'colsample_bytree': 0.9832715015120174, 'reg_alpha': 0.17674385662899714, 'reg_lambda': 3.1710274790818844}. Best is trial 57 with value: 0.7219399538106235.\n",
      "[I 2025-01-06 12:13:38,092] Trial 92 finished with value: 0.7200923787528869 and parameters: {'n_estimators': 320, 'learning_rate': 0.012806936129825442, 'max_depth': 5, 'min_child_weight': 2, 'gamma': 0.116342239995474, 'subsample': 0.9954612917919633, 'colsample_bytree': 0.9796837944862683, 'reg_alpha': 0.18558555597116852, 'reg_lambda': 3.1250822584233773}. Best is trial 57 with value: 0.7219399538106235.\n",
      "[I 2025-01-06 12:13:40,923] Trial 93 finished with value: 0.7185527328714396 and parameters: {'n_estimators': 314, 'learning_rate': 0.014054562647483311, 'max_depth': 5, 'min_child_weight': 2, 'gamma': 0.3758917336876988, 'subsample': 0.9997951226360586, 'colsample_bytree': 0.9702089900883609, 'reg_alpha': 0.1789855676554062, 'reg_lambda': 3.365974790936343}. Best is trial 57 with value: 0.7219399538106235.\n",
      "[I 2025-01-06 12:13:43,869] Trial 94 finished with value: 0.719476520400308 and parameters: {'n_estimators': 331, 'learning_rate': 0.014626820779754622, 'max_depth': 5, 'min_child_weight': 2, 'gamma': 0.10640805042647195, 'subsample': 0.9875761098164242, 'colsample_bytree': 0.9858474847590649, 'reg_alpha': 0.17421566729545568, 'reg_lambda': 3.7193117486196954}. Best is trial 57 with value: 0.7219399538106235.\n",
      "[I 2025-01-06 12:13:46,738] Trial 95 finished with value: 0.7208622016936104 and parameters: {'n_estimators': 318, 'learning_rate': 0.016710084191878714, 'max_depth': 5, 'min_child_weight': 2, 'gamma': 0.1261518453401908, 'subsample': 0.9269336939567868, 'colsample_bytree': 0.989814745025281, 'reg_alpha': 0.1595256148477602, 'reg_lambda': 3.225400738579173}. Best is trial 57 with value: 0.7219399538106235.\n",
      "[I 2025-01-06 12:13:49,745] Trial 96 finished with value: 0.7130100076982294 and parameters: {'n_estimators': 318, 'learning_rate': 0.018318287000049917, 'max_depth': 5, 'min_child_weight': 2, 'gamma': 0.3241922921570889, 'subsample': 0.9299806623270762, 'colsample_bytree': 0.9917997921698755, 'reg_alpha': 0.16023788473680856, 'reg_lambda': 3.453450265967355}. Best is trial 57 with value: 0.7219399538106235.\n",
      "[I 2025-01-06 12:13:52,586] Trial 97 finished with value: 0.7183987682832949 and parameters: {'n_estimators': 327, 'learning_rate': 0.01684164156155702, 'max_depth': 5, 'min_child_weight': 4, 'gamma': 0.13500412598061415, 'subsample': 0.9247440060832618, 'colsample_bytree': 0.9902626301501619, 'reg_alpha': 0.15762826425911006, 'reg_lambda': 3.2131860111452895}. Best is trial 57 with value: 0.7219399538106235.\n",
      "[I 2025-01-06 12:13:55,657] Trial 98 finished with value: 0.7183987682832949 and parameters: {'n_estimators': 334, 'learning_rate': 0.016478990279767458, 'max_depth': 5, 'min_child_weight': 2, 'gamma': 0.2831018563589132, 'subsample': 0.91244909869051, 'colsample_bytree': 0.9171166828398842, 'reg_alpha': 0.16438649154061696, 'reg_lambda': 3.6597475439673266}. Best is trial 57 with value: 0.7219399538106235.\n",
      "[I 2025-01-06 12:13:58,848] Trial 99 finished with value: 0.7191685912240185 and parameters: {'n_estimators': 331, 'learning_rate': 0.019071072856333984, 'max_depth': 5, 'min_child_weight': 2, 'gamma': 0.146491467893067, 'subsample': 0.8938332075102107, 'colsample_bytree': 0.9790825548812995, 'reg_alpha': 0.1683647376005777, 'reg_lambda': 3.5608559775772957}. Best is trial 57 with value: 0.7219399538106235.\n"
     ]
    },
    {
     "data": {
      "text/plain": [
       "({'n_estimators': 337,\n",
       "  'learning_rate': 0.015272630148352066,\n",
       "  'max_depth': 5,\n",
       "  'min_child_weight': 2,\n",
       "  'gamma': 0.24988522273215766,\n",
       "  'subsample': 0.9639840429354903,\n",
       "  'colsample_bytree': 0.985608479043216,\n",
       "  'reg_alpha': 0.1856156681311941,\n",
       "  'reg_lambda': 3.4637470458659014},\n",
       " 0.7219399538106235)"
      ]
     },
     "execution_count": 45,
     "metadata": {},
     "output_type": "execute_result"
    }
   ],
   "source": [
    "params = {\n",
    "    \"n_estimators\": {\"type\": \"int\", \"min\": 300, \"max\": 400},\n",
    "    \"learning_rate\": {\"type\": \"float\", \"min\": 0.005, \"max\": 0.02},\n",
    "    \"max_depth\": {\"type\": \"int\", \"min\": 4, \"max\": 6},\n",
    "    \"min_child_weight\": {\"type\": \"int\", \"min\": 2, \"max\": 4},\n",
    "    \"gamma\": {\"type\": \"float\", \"min\": 0.1, \"max\": 0.4},\n",
    "    \"subsample\": {\"type\": \"float\", \"min\": 0.8, \"max\": 1.0},\n",
    "    \"colsample_bytree\": {\"type\": \"float\", \"min\": 0.9, \"max\": 1.0},\n",
    "    \"reg_alpha\": {\"type\": \"float\", \"min\": 0.05, \"max\": 0.2},\n",
    "    \"reg_lambda\": {\"type\": \"float\", \"min\": 3.0, \"max\": 4.5}\n",
    "}\n",
    "\n",
    "sgb_tuner = HyperparameterTuner(XGBClassifier, params, train_x, train_y)\n",
    "sgb_tuner.optimize(100)\n",
    "sgb_tuner.best_params(), sgb_tuner.best_score()"
   ]
  },
  {
   "cell_type": "code",
   "execution_count": 87,
   "metadata": {},
   "outputs": [
    {
     "name": "stdout",
     "output_type": "stream",
     "text": [
      "              precision    recall  f1-score   support\n",
      "\n",
      "           0       0.80      0.76      0.78      1060\n",
      "           1       0.77      0.80      0.79      1054\n",
      "\n",
      "    accuracy                           0.78      2114\n",
      "   macro avg       0.78      0.78      0.78      2114\n",
      "weighted avg       0.78      0.78      0.78      2114\n",
      "\n"
     ]
    }
   ],
   "source": [
    "params = {\n",
    "    \"n_estimators\": 337,\n",
    "    \"learning_rate\": 0.015272630148352066,\n",
    "    \"max_depth\": 5,\n",
    "    \"min_child_weight\": 2,\n",
    "    \"gamma\": 0.24988522273215766,\n",
    "    \"subsample\": 0.9639840429354903,\n",
    "    \"colsample_bytree\": 0.985608479043216,\n",
    "    \"reg_alpha\": 0.1856156681311941,\n",
    "    \"reg_lambda\": 3.4637470458659014,\n",
    "}\n",
    "\n",
    "\n",
    "xgb_final = XGBClassifier(**params)\n",
    "\n",
    "xgb_final.fit(train_x, train_y)\n",
    "\n",
    "print(classification_report(valid_y, xgb_final.predict(valid_x)))"
   ]
  },
  {
   "cell_type": "markdown",
   "metadata": {},
   "source": [
    "### category 형식 컬럼이 포함된 데이터셋"
   ]
  },
  {
   "cell_type": "code",
   "execution_count": 88,
   "metadata": {},
   "outputs": [],
   "source": [
    "cutoff_patch = cat_train_ft[\"patch\"].quantile(0.8)\n",
    "train_games = cat_train_ft[cat_train_ft[\"patch\"] < cutoff_patch][\"gameid\"].unique()\n",
    "valid_games = cat_train_ft[cat_train_ft[\"patch\"] >= cutoff_patch][\"gameid\"].unique()\n",
    "\n",
    "cat_train_x = cat_train_ft[cat_train_ft[\"gameid\"].isin(train_games)][pre_game_features]\n",
    "cat_valid_x = cat_train_ft[cat_train_ft[\"gameid\"].isin(valid_games)][pre_game_features]\n",
    "\n",
    "cat_train_y = teams_train_target[teams_train_target[\"gameid\"].isin(train_games)][\"result\"]\n",
    "cat_valid_y = teams_train_target[teams_train_target[\"gameid\"].isin(valid_games)][\"result\"]\n",
    "\n",
    "cat_train_x.drop(columns=[\"gameid\"], inplace=True)\n",
    "cat_valid_x.drop(columns=[\"gameid\"], inplace=True)"
   ]
  },
  {
   "cell_type": "code",
   "execution_count": 53,
   "metadata": {},
   "outputs": [
    {
     "name": "stderr",
     "output_type": "stream",
     "text": [
      "[I 2025-01-06 12:28:59,908] A new study created in memory with name: no-name-9eb9fa3a-fdaa-4d84-a3e7-ef1324362fe0\n"
     ]
    },
    {
     "name": "stdout",
     "output_type": "stream",
     "text": [
      "0:\tlearn: 0.6074296\ttotal: 535ms\tremaining: 3m 55s\n",
      "100:\tlearn: 0.0669953\ttotal: 50.6s\tremaining: 2m 49s\n",
      "200:\tlearn: 0.0245080\ttotal: 1m 40s\tremaining: 1m 59s\n",
      "300:\tlearn: 0.0137688\ttotal: 2m 31s\tremaining: 1m 9s\n",
      "400:\tlearn: 0.0093784\ttotal: 3m 21s\tremaining: 19.6s\n",
      "439:\tlearn: 0.0085326\ttotal: 3m 41s\tremaining: 0us\n"
     ]
    },
    {
     "name": "stderr",
     "output_type": "stream",
     "text": [
      "[I 2025-01-06 12:47:40,564] Trial 0 finished with value: 0.7057736720554273 and parameters: {'iterations': 440, 'learning_rate': 0.2995173570725813, 'depth': 11, 'l2_leaf_reg': 8.29765347797401, 'min_child_samples': 9, 'max_bin': 399, 'verbose': 100}. Best is trial 0 with value: 0.7057736720554273.\n"
     ]
    },
    {
     "name": "stdout",
     "output_type": "stream",
     "text": [
      "0:\tlearn: 0.6251412\ttotal: 62.1ms\tremaining: 32s\n",
      "100:\tlearn: 0.2489966\ttotal: 6.64s\tremaining: 27.3s\n",
      "200:\tlearn: 0.1356704\ttotal: 13.1s\tremaining: 20.6s\n",
      "300:\tlearn: 0.0816938\ttotal: 19.7s\tremaining: 14.1s\n",
      "400:\tlearn: 0.0563121\ttotal: 26.5s\tremaining: 7.59s\n",
      "500:\tlearn: 0.0387528\ttotal: 33.3s\tremaining: 997ms\n",
      "515:\tlearn: 0.0367757\ttotal: 34.3s\tremaining: 0us\n"
     ]
    },
    {
     "name": "stderr",
     "output_type": "stream",
     "text": [
      "[I 2025-01-06 12:49:35,028] Trial 1 finished with value: 0.7006928406466513 and parameters: {'iterations': 516, 'learning_rate': 0.24269263413622716, 'depth': 8, 'l2_leaf_reg': 9.667157134801382, 'min_child_samples': 13, 'max_bin': 311, 'verbose': 100}. Best is trial 0 with value: 0.7057736720554273.\n"
     ]
    },
    {
     "name": "stdout",
     "output_type": "stream",
     "text": [
      "0:\tlearn: 0.6375491\ttotal: 855ms\tremaining: 7m 2s\n",
      "100:\tlearn: 0.0988372\ttotal: 1m 25s\tremaining: 5m 31s\n",
      "200:\tlearn: 0.0409335\ttotal: 2m 47s\tremaining: 4m 4s\n",
      "300:\tlearn: 0.0231435\ttotal: 4m 8s\tremaining: 2m 40s\n",
      "400:\tlearn: 0.0157337\ttotal: 5m 31s\tremaining: 1m 17s\n",
      "494:\tlearn: 0.0123490\ttotal: 6m 47s\tremaining: 0us\n"
     ]
    },
    {
     "name": "stderr",
     "output_type": "stream",
     "text": [
      "[I 2025-01-06 13:25:59,574] Trial 2 finished with value: 0.7050038491147037 and parameters: {'iterations': 495, 'learning_rate': 0.17631833072293768, 'depth': 12, 'l2_leaf_reg': 7.800219785937266, 'min_child_samples': 8, 'max_bin': 335, 'verbose': 100}. Best is trial 0 with value: 0.7057736720554273.\n"
     ]
    },
    {
     "name": "stdout",
     "output_type": "stream",
     "text": [
      "0:\tlearn: 0.6445191\ttotal: 112ms\tremaining: 55.1s\n",
      "100:\tlearn: 0.2630373\ttotal: 9.8s\tremaining: 38.1s\n",
      "200:\tlearn: 0.1394091\ttotal: 19.8s\tremaining: 28.9s\n",
      "300:\tlearn: 0.0789794\ttotal: 29.8s\tremaining: 19.1s\n",
      "400:\tlearn: 0.0520605\ttotal: 40.6s\tremaining: 9.41s\n",
      "493:\tlearn: 0.0374867\ttotal: 50s\tremaining: 0us\n"
     ]
    },
    {
     "name": "stderr",
     "output_type": "stream",
     "text": [
      "[I 2025-01-06 13:29:05,384] Trial 3 finished with value: 0.7071593533487298 and parameters: {'iterations': 494, 'learning_rate': 0.15114252780839607, 'depth': 9, 'l2_leaf_reg': 6.342611166296036, 'min_child_samples': 9, 'max_bin': 387, 'verbose': 100}. Best is trial 3 with value: 0.7071593533487298.\n"
     ]
    },
    {
     "name": "stdout",
     "output_type": "stream",
     "text": [
      "0:\tlearn: 0.6195973\ttotal: 55.5ms\tremaining: 18.4s\n",
      "100:\tlearn: 0.2205912\ttotal: 5.92s\tremaining: 13.6s\n",
      "200:\tlearn: 0.1083739\ttotal: 11.9s\tremaining: 7.83s\n",
      "300:\tlearn: 0.0594196\ttotal: 18s\tremaining: 1.91s\n",
      "332:\tlearn: 0.0501121\ttotal: 19.9s\tremaining: 0us\n"
     ]
    },
    {
     "name": "stderr",
     "output_type": "stream",
     "text": [
      "[I 2025-01-06 13:30:11,337] Trial 4 finished with value: 0.6956120092378753 and parameters: {'iterations': 333, 'learning_rate': 0.26317157730217705, 'depth': 8, 'l2_leaf_reg': 6.869464220820704, 'min_child_samples': 11, 'max_bin': 305, 'verbose': 100}. Best is trial 3 with value: 0.7071593533487298.\n"
     ]
    },
    {
     "name": "stdout",
     "output_type": "stream",
     "text": [
      "0:\tlearn: 0.6450497\ttotal: 57.7ms\tremaining: 22.2s\n",
      "100:\tlearn: 0.3084938\ttotal: 6.28s\tremaining: 17.7s\n",
      "200:\tlearn: 0.1987116\ttotal: 12.6s\tremaining: 11.6s\n",
      "300:\tlearn: 0.1328884\ttotal: 19.1s\tremaining: 5.39s\n",
      "385:\tlearn: 0.0990253\ttotal: 24.5s\tremaining: 0us\n"
     ]
    },
    {
     "name": "stderr",
     "output_type": "stream",
     "text": [
      "[I 2025-01-06 13:31:34,151] Trial 5 finished with value: 0.6976135488837567 and parameters: {'iterations': 386, 'learning_rate': 0.16629592110384378, 'depth': 8, 'l2_leaf_reg': 9.417213311906277, 'min_child_samples': 10, 'max_bin': 379, 'verbose': 100}. Best is trial 3 with value: 0.7071593533487298.\n"
     ]
    },
    {
     "name": "stdout",
     "output_type": "stream",
     "text": [
      "0:\tlearn: 0.6078840\ttotal: 192ms\tremaining: 58.3s\n",
      "100:\tlearn: 0.0910850\ttotal: 18.8s\tremaining: 37.8s\n",
      "200:\tlearn: 0.0360261\ttotal: 37.4s\tremaining: 19.1s\n",
      "300:\tlearn: 0.0201726\ttotal: 56s\tremaining: 558ms\n",
      "303:\tlearn: 0.0197543\ttotal: 56.5s\tremaining: 0us\n"
     ]
    },
    {
     "name": "stderr",
     "output_type": "stream",
     "text": [
      "[I 2025-01-06 13:35:41,503] Trial 6 finished with value: 0.6933025404157045 and parameters: {'iterations': 304, 'learning_rate': 0.29731438090606754, 'depth': 10, 'l2_leaf_reg': 6.661586768917676, 'min_child_samples': 13, 'max_bin': 313, 'verbose': 100}. Best is trial 3 with value: 0.7071593533487298.\n"
     ]
    },
    {
     "name": "stdout",
     "output_type": "stream",
     "text": [
      "0:\tlearn: 0.6437308\ttotal: 183ms\tremaining: 1m 33s\n",
      "100:\tlearn: 0.1921732\ttotal: 18.4s\tremaining: 1m 15s\n",
      "200:\tlearn: 0.0879986\ttotal: 36.7s\tremaining: 57.2s\n",
      "300:\tlearn: 0.0481771\ttotal: 55.5s\tremaining: 39.2s\n",
      "400:\tlearn: 0.0304668\ttotal: 1m 14s\tremaining: 21s\n",
      "500:\tlearn: 0.0216971\ttotal: 1m 32s\tremaining: 2.4s\n",
      "513:\tlearn: 0.0207202\ttotal: 1m 34s\tremaining: 0us\n"
     ]
    },
    {
     "name": "stderr",
     "output_type": "stream",
     "text": [
      "[I 2025-01-06 13:42:32,709] Trial 7 finished with value: 0.7113163972286374 and parameters: {'iterations': 514, 'learning_rate': 0.15194132703849916, 'depth': 10, 'l2_leaf_reg': 6.081800959954002, 'min_child_samples': 12, 'max_bin': 307, 'verbose': 100}. Best is trial 7 with value: 0.7113163972286374.\n"
     ]
    },
    {
     "name": "stdout",
     "output_type": "stream",
     "text": [
      "0:\tlearn: 0.6344402\ttotal: 384ms\tremaining: 3m 4s\n",
      "100:\tlearn: 0.1172712\ttotal: 38.1s\tremaining: 2m 23s\n",
      "200:\tlearn: 0.0463840\ttotal: 1m 14s\tremaining: 1m 44s\n",
      "300:\tlearn: 0.0247235\ttotal: 1m 51s\tremaining: 1m 6s\n",
      "400:\tlearn: 0.0164205\ttotal: 2m 28s\tremaining: 29.3s\n",
      "479:\tlearn: 0.0127568\ttotal: 2m 57s\tremaining: 0us\n"
     ]
    },
    {
     "name": "stderr",
     "output_type": "stream",
     "text": [
      "[I 2025-01-06 13:57:17,419] Trial 8 finished with value: 0.7073133179368746 and parameters: {'iterations': 480, 'learning_rate': 0.18549316743532782, 'depth': 11, 'l2_leaf_reg': 7.107426006673945, 'min_child_samples': 8, 'max_bin': 300, 'verbose': 100}. Best is trial 7 with value: 0.7113163972286374.\n"
     ]
    },
    {
     "name": "stdout",
     "output_type": "stream",
     "text": [
      "0:\tlearn: 0.6459398\ttotal: 419ms\tremaining: 3m 6s\n",
      "100:\tlearn: 0.1628868\ttotal: 39.8s\tremaining: 2m 16s\n",
      "200:\tlearn: 0.0769975\ttotal: 1m 19s\tremaining: 1m 36s\n",
      "300:\tlearn: 0.0435044\ttotal: 1m 58s\tremaining: 57.4s\n",
      "400:\tlearn: 0.0285141\ttotal: 2m 37s\tremaining: 18.1s\n",
      "446:\tlearn: 0.0243526\ttotal: 2m 55s\tremaining: 0us\n"
     ]
    },
    {
     "name": "stderr",
     "output_type": "stream",
     "text": [
      "[I 2025-01-06 14:12:50,167] Trial 9 finished with value: 0.7113163972286374 and parameters: {'iterations': 447, 'learning_rate': 0.15577343345243624, 'depth': 11, 'l2_leaf_reg': 9.728561488960356, 'min_child_samples': 12, 'max_bin': 331, 'verbose': 100}. Best is trial 7 with value: 0.7113163972286374.\n"
     ]
    },
    {
     "name": "stdout",
     "output_type": "stream",
     "text": [
      "0:\tlearn: 0.6263850\ttotal: 246ms\tremaining: 2m 25s\n",
      "100:\tlearn: 0.1445097\ttotal: 23.7s\tremaining: 1m 55s\n",
      "200:\tlearn: 0.0524969\ttotal: 46.5s\tremaining: 1m 31s\n",
      "300:\tlearn: 0.0278023\ttotal: 1m 9s\tremaining: 1m 8s\n",
      "400:\tlearn: 0.0169182\ttotal: 1m 33s\tremaining: 45.4s\n",
      "500:\tlearn: 0.0124629\ttotal: 1m 57s\tremaining: 22s\n",
      "594:\tlearn: 0.0098932\ttotal: 2m 17s\tremaining: 0us\n"
     ]
    },
    {
     "name": "stderr",
     "output_type": "stream",
     "text": [
      "[I 2025-01-06 14:22:58,922] Trial 10 finished with value: 0.7006928406466513 and parameters: {'iterations': 595, 'learning_rate': 0.21159514835411367, 'depth': 10, 'l2_leaf_reg': 6.0081858346024735, 'min_child_samples': 16, 'max_bin': 362, 'verbose': 100}. Best is trial 7 with value: 0.7113163972286374.\n"
     ]
    },
    {
     "name": "stdout",
     "output_type": "stream",
     "text": [
      "0:\tlearn: 0.6331129\ttotal: 484ms\tremaining: 4m 35s\n",
      "100:\tlearn: 0.1166960\ttotal: 42.2s\tremaining: 3m 16s\n",
      "200:\tlearn: 0.0475680\ttotal: 1m 24s\tremaining: 2m 34s\n",
      "300:\tlearn: 0.0284066\ttotal: 2m 5s\tremaining: 1m 52s\n",
      "400:\tlearn: 0.0187678\ttotal: 2m 47s\tremaining: 1m 10s\n",
      "500:\tlearn: 0.0145606\ttotal: 3m 29s\tremaining: 28.8s\n",
      "569:\tlearn: 0.0122629\ttotal: 3m 57s\tremaining: 0us\n"
     ]
    },
    {
     "name": "stderr",
     "output_type": "stream",
     "text": [
      "[I 2025-01-06 14:42:56,515] Trial 11 finished with value: 0.7065434949961509 and parameters: {'iterations': 570, 'learning_rate': 0.19798304111731785, 'depth': 11, 'l2_leaf_reg': 8.774959894410248, 'min_child_samples': 12, 'max_bin': 332, 'verbose': 100}. Best is trial 7 with value: 0.7113163972286374.\n"
     ]
    },
    {
     "name": "stdout",
     "output_type": "stream",
     "text": [
      "0:\tlearn: 0.6434850\ttotal: 874ms\tremaining: 6m 7s\n",
      "100:\tlearn: 0.1114412\ttotal: 1m 27s\tremaining: 4m 38s\n",
      "200:\tlearn: 0.0451776\ttotal: 2m 54s\tremaining: 3m 11s\n",
      "300:\tlearn: 0.0266051\ttotal: 4m 21s\tremaining: 1m 44s\n",
      "400:\tlearn: 0.0180204\ttotal: 5m 51s\tremaining: 17.6s\n",
      "420:\tlearn: 0.0167847\ttotal: 6m 9s\tremaining: 0us\n"
     ]
    },
    {
     "name": "stderr",
     "output_type": "stream",
     "text": [
      "[I 2025-01-06 15:15:07,976] Trial 12 finished with value: 0.7063895304080061 and parameters: {'iterations': 421, 'learning_rate': 0.1529115724953487, 'depth': 12, 'l2_leaf_reg': 7.593648998629042, 'min_child_samples': 15, 'max_bin': 329, 'verbose': 100}. Best is trial 7 with value: 0.7113163972286374.\n"
     ]
    },
    {
     "name": "stdout",
     "output_type": "stream",
     "text": [
      "0:\tlearn: 0.6268868\ttotal: 102ms\tremaining: 55.3s\n",
      "100:\tlearn: 0.1986649\ttotal: 9.69s\tremaining: 42.7s\n",
      "200:\tlearn: 0.0953336\ttotal: 19.4s\tremaining: 33.3s\n",
      "300:\tlearn: 0.0538561\ttotal: 29.1s\tremaining: 23.7s\n",
      "400:\tlearn: 0.0352747\ttotal: 38.9s\tremaining: 14.1s\n",
      "500:\tlearn: 0.0244434\ttotal: 48.5s\tremaining: 4.36s\n",
      "545:\tlearn: 0.0214681\ttotal: 52.9s\tremaining: 0us\n"
     ]
    },
    {
     "name": "stderr",
     "output_type": "stream",
     "text": [
      "[I 2025-01-06 15:18:32,072] Trial 13 finished with value: 0.7020785219399539 and parameters: {'iterations': 546, 'learning_rate': 0.22529017582418726, 'depth': 9, 'l2_leaf_reg': 8.904508583226104, 'min_child_samples': 14, 'max_bin': 351, 'verbose': 100}. Best is trial 7 with value: 0.7113163972286374.\n"
     ]
    },
    {
     "name": "stdout",
     "output_type": "stream",
     "text": [
      "0:\tlearn: 0.6363957\ttotal: 206ms\tremaining: 1m 18s\n",
      "100:\tlearn: 0.1761823\ttotal: 20.6s\tremaining: 57.6s\n",
      "200:\tlearn: 0.0813387\ttotal: 40.5s\tremaining: 36.7s\n",
      "300:\tlearn: 0.0478536\ttotal: 1m\tremaining: 16.5s\n",
      "382:\tlearn: 0.0349683\ttotal: 1m 16s\tremaining: 0us\n"
     ]
    },
    {
     "name": "stderr",
     "output_type": "stream",
     "text": [
      "[I 2025-01-06 15:24:16,555] Trial 14 finished with value: 0.7042340261739801 and parameters: {'iterations': 383, 'learning_rate': 0.19160462740122866, 'depth': 10, 'l2_leaf_reg': 9.892070750656751, 'min_child_samples': 11, 'max_bin': 321, 'verbose': 100}. Best is trial 7 with value: 0.7113163972286374.\n"
     ]
    },
    {
     "name": "stdout",
     "output_type": "stream",
     "text": [
      "0:\tlearn: 0.6401056\ttotal: 458ms\tremaining: 3m 26s\n",
      "100:\tlearn: 0.1380259\ttotal: 44s\tremaining: 2m 33s\n",
      "200:\tlearn: 0.0559322\ttotal: 1m 27s\tremaining: 1m 49s\n",
      "300:\tlearn: 0.0307073\ttotal: 2m 11s\tremaining: 1m 6s\n",
      "400:\tlearn: 0.0205095\ttotal: 2m 55s\tremaining: 22.7s\n",
      "452:\tlearn: 0.0172874\ttotal: 3m 17s\tremaining: 0us\n"
     ]
    },
    {
     "name": "stderr",
     "output_type": "stream",
     "text": [
      "[I 2025-01-06 15:40:48,868] Trial 15 finished with value: 0.71270207852194 and parameters: {'iterations': 453, 'learning_rate': 0.17079423012043105, 'depth': 11, 'l2_leaf_reg': 8.338621256706169, 'min_child_samples': 12, 'max_bin': 345, 'verbose': 100}. Best is trial 15 with value: 0.71270207852194.\n"
     ]
    },
    {
     "name": "stdout",
     "output_type": "stream",
     "text": [
      "0:\tlearn: 0.6397852\ttotal: 90.5ms\tremaining: 48.8s\n",
      "100:\tlearn: 0.2392075\ttotal: 9.92s\tremaining: 43.1s\n",
      "200:\tlearn: 0.1301606\ttotal: 19.8s\tremaining: 33.4s\n",
      "300:\tlearn: 0.0789576\ttotal: 29.8s\tremaining: 23.6s\n",
      "400:\tlearn: 0.0525590\ttotal: 39.7s\tremaining: 13.8s\n",
      "500:\tlearn: 0.0374058\ttotal: 49.7s\tremaining: 3.87s\n",
      "539:\tlearn: 0.0328481\ttotal: 53.5s\tremaining: 0us\n"
     ]
    },
    {
     "name": "stderr",
     "output_type": "stream",
     "text": [
      "[I 2025-01-06 15:44:08,229] Trial 16 finished with value: 0.7096227867590454 and parameters: {'iterations': 540, 'learning_rate': 0.1729325477916729, 'depth': 9, 'l2_leaf_reg': 8.287728988111189, 'min_child_samples': 14, 'max_bin': 352, 'verbose': 100}. Best is trial 15 with value: 0.71270207852194.\n"
     ]
    },
    {
     "name": "stdout",
     "output_type": "stream",
     "text": [
      "0:\tlearn: 0.6272988\ttotal: 950ms\tremaining: 6m 11s\n",
      "100:\tlearn: 0.0722866\ttotal: 1m 35s\tremaining: 4m 34s\n",
      "200:\tlearn: 0.0283104\ttotal: 3m 9s\tremaining: 2m 59s\n",
      "300:\tlearn: 0.0160611\ttotal: 4m 43s\tremaining: 1m 25s\n",
      "391:\tlearn: 0.0112594\ttotal: 6m 9s\tremaining: 0us\n"
     ]
    },
    {
     "name": "stderr",
     "output_type": "stream",
     "text": [
      "[I 2025-01-06 16:17:08,133] Trial 17 finished with value: 0.7083910700538876 and parameters: {'iterations': 392, 'learning_rate': 0.20962486328878244, 'depth': 12, 'l2_leaf_reg': 7.356122938041867, 'min_child_samples': 11, 'max_bin': 361, 'verbose': 100}. Best is trial 15 with value: 0.71270207852194.\n"
     ]
    },
    {
     "name": "stdout",
     "output_type": "stream",
     "text": [
      "0:\tlearn: 0.6208118\ttotal: 443ms\tremaining: 3m 28s\n",
      "100:\tlearn: 0.0872171\ttotal: 46.6s\tremaining: 2m 50s\n",
      "200:\tlearn: 0.0358523\ttotal: 1m 34s\tremaining: 2m 7s\n",
      "300:\tlearn: 0.0196501\ttotal: 2m 21s\tremaining: 1m 19s\n",
      "400:\tlearn: 0.0134136\ttotal: 3m 9s\tremaining: 33s\n",
      "470:\tlearn: 0.0107969\ttotal: 3m 41s\tremaining: 0us\n"
     ]
    },
    {
     "name": "stderr",
     "output_type": "stream",
     "text": [
      "[I 2025-01-06 16:35:02,023] Trial 18 finished with value: 0.7091608929946113 and parameters: {'iterations': 471, 'learning_rate': 0.24863305180878753, 'depth': 11, 'l2_leaf_reg': 8.901025719443721, 'min_child_samples': 13, 'max_bin': 342, 'verbose': 100}. Best is trial 15 with value: 0.71270207852194.\n"
     ]
    },
    {
     "name": "stdout",
     "output_type": "stream",
     "text": [
      "0:\tlearn: 0.6433236\ttotal: 228ms\tremaining: 1m 59s\n",
      "100:\tlearn: 0.1817468\ttotal: 23.5s\tremaining: 1m 38s\n",
      "200:\tlearn: 0.0854421\ttotal: 46.7s\tremaining: 1m 15s\n",
      "300:\tlearn: 0.0496636\ttotal: 1m 10s\tremaining: 52.3s\n",
      "400:\tlearn: 0.0316539\ttotal: 1m 33s\tremaining: 28.8s\n",
      "500:\tlearn: 0.0236715\ttotal: 1m 56s\tremaining: 5.56s\n",
      "524:\tlearn: 0.0223075\ttotal: 2m 1s\tremaining: 0us\n"
     ]
    },
    {
     "name": "stderr",
     "output_type": "stream",
     "text": [
      "[I 2025-01-06 16:44:23,919] Trial 19 finished with value: 0.7065434949961509 and parameters: {'iterations': 525, 'learning_rate': 0.16848194324615595, 'depth': 10, 'l2_leaf_reg': 8.145432123276661, 'min_child_samples': 10, 'max_bin': 372, 'verbose': 100}. Best is trial 15 with value: 0.71270207852194.\n"
     ]
    },
    {
     "data": {
      "text/plain": [
       "({'iterations': 453,\n",
       "  'learning_rate': 0.17079423012043105,\n",
       "  'depth': 11,\n",
       "  'l2_leaf_reg': 8.338621256706169,\n",
       "  'min_child_samples': 12,\n",
       "  'max_bin': 345,\n",
       "  'verbose': 100},\n",
       " 0.71270207852194)"
      ]
     },
     "execution_count": 53,
     "metadata": {},
     "output_type": "execute_result"
    }
   ],
   "source": [
    "cat_features = train_x.select_dtypes(\"category\").columns.tolist()\n",
    "\n",
    "params = {\n",
    "    \"iterations\": {\"type\": \"int\", \"min\": 300, \"max\": 600},\n",
    "    \"learning_rate\": {\"type\": \"float\", \"min\": 0.15, \"max\": 0.3},\n",
    "    \"depth\": {\"type\": \"int\", \"min\": 8, \"max\": 12},\n",
    "    \"l2_leaf_reg\": {\"type\": \"float\", \"min\": 6.0, \"max\": 10.0},\n",
    "    \"min_child_samples\": {\"type\": \"int\", \"min\": 8, \"max\": 16},\n",
    "    \"max_bin\": {\"type\": \"int\", \"min\": 300, \"max\": 400},\n",
    "    \"verbose\": {\"type\": \"int\", \"min\": 100, \"max\": 100}\n",
    "}\n",
    "\n",
    "cat_tuner = HyperparameterTuner(CatBoostClassifier, params, cat_train_x, cat_train_y, cat_features)\n",
    "cat_tuner.optimize(20)\n",
    "cat_tuner.best_params(), cat_tuner.best_score()"
   ]
  },
  {
   "cell_type": "code",
   "execution_count": 89,
   "metadata": {},
   "outputs": [
    {
     "name": "stdout",
     "output_type": "stream",
     "text": [
      "0:\tlearn: 0.6223546\ttotal: 208ms\tremaining: 1m 25s\n",
      "100:\tlearn: 0.1408273\ttotal: 20.8s\tremaining: 1m 4s\n",
      "200:\tlearn: 0.0563243\ttotal: 41.6s\tremaining: 43.9s\n",
      "300:\tlearn: 0.0305627\ttotal: 1m 2s\tremaining: 23.1s\n",
      "400:\tlearn: 0.0194663\ttotal: 1m 22s\tremaining: 2.48s\n",
      "412:\tlearn: 0.0186581\ttotal: 1m 25s\tremaining: 0us\n",
      "              precision    recall  f1-score   support\n",
      "\n",
      "           0       0.77      0.79      0.78      1060\n",
      "           1       0.78      0.77      0.78      1054\n",
      "\n",
      "    accuracy                           0.78      2114\n",
      "   macro avg       0.78      0.78      0.78      2114\n",
      "weighted avg       0.78      0.78      0.78      2114\n",
      "\n"
     ]
    }
   ],
   "source": [
    "params = {\n",
    "    \"iterations\": 413,\n",
    "    \"learning_rate\": 0.24110432469185597,\n",
    "    \"depth\": 10,\n",
    "    \"l2_leaf_reg\": 8.905869555950142,\n",
    "    \"min_child_samples\": 12,\n",
    "    \"max_bin\": 342,\n",
    "    \"verbose\": 100,\n",
    "}\n",
    "\n",
    "cat_final = CatBoostClassifier(**params, cat_features=cat_features)\n",
    "cat_final.fit(cat_train_x, cat_train_y)\n",
    "print(classification_report(cat_valid_y, cat_final.predict(cat_valid_x)))"
   ]
  },
  {
   "cell_type": "markdown",
   "metadata": {},
   "source": [
    "# 앙상블"
   ]
  },
  {
   "cell_type": "code",
   "execution_count": 91,
   "metadata": {},
   "outputs": [
    {
     "name": "stdout",
     "output_type": "stream",
     "text": [
      "              precision    recall  f1-score   support\n",
      "\n",
      "           0       0.78      0.79      0.79      1060\n",
      "           1       0.78      0.78      0.78      1054\n",
      "\n",
      "    accuracy                           0.78      2114\n",
      "   macro avg       0.78      0.78      0.78      2114\n",
      "weighted avg       0.78      0.78      0.78      2114\n",
      "\n"
     ]
    }
   ],
   "source": [
    "from sklearn.ensemble import StackingClassifier\n",
    "\n",
    "estimators = [\n",
    "    # (\"lr\", lr_final),\n",
    "    (\"lgbm\", lgbm_final),\n",
    "    (\"rf\", rf_final),\n",
    "    (\"hgbc\", hgbc_final),\n",
    "    # (\"ada\", ada_final),\n",
    "    # (\"svc\", svc_final),\n",
    "    (\"xgb\", xgb_final),\n",
    "]\n",
    "\n",
    "final_estimator = LogisticRegression(random_state=SEED)\n",
    "stacking_clf = StackingClassifier(estimators, final_estimator)\n",
    "stacking_clf.fit(train_x, train_y)\n",
    "print(classification_report(valid_y, stacking_clf.predict(valid_x)))"
   ]
  },
  {
   "cell_type": "code",
   "execution_count": 92,
   "metadata": {},
   "outputs": [
    {
     "name": "stdout",
     "output_type": "stream",
     "text": [
      "              precision    recall  f1-score   support\n",
      "\n",
      "           0       0.79      0.79      0.79      1060\n",
      "           1       0.79      0.79      0.79      1054\n",
      "\n",
      "    accuracy                           0.79      2114\n",
      "   macro avg       0.79      0.79      0.79      2114\n",
      "weighted avg       0.79      0.79      0.79      2114\n",
      "\n"
     ]
    }
   ],
   "source": [
    "stacking_proba = stacking_clf.predict_proba(valid_x)\n",
    "cat_proba = cat_final.predict_proba(cat_valid_x)\n",
    "\n",
    "final_proba = 0.5 * stacking_proba + 0.5 * cat_proba\n",
    "\n",
    "final_pred = (final_proba[:, 1] >= 0.5).astype(int)\n",
    "print(classification_report(valid_y, final_pred))"
   ]
  }
 ],
 "metadata": {
  "kernelspec": {
   "display_name": "Python 3",
   "language": "python",
   "name": "python3"
  },
  "language_info": {
   "codemirror_mode": {
    "name": "ipython",
    "version": 3
   },
   "file_extension": ".py",
   "mimetype": "text/x-python",
   "name": "python",
   "nbconvert_exporter": "python",
   "pygments_lexer": "ipython3",
   "version": "3.10.8"
  }
 },
 "nbformat": 4,
 "nbformat_minor": 2
}
