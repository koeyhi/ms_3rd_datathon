{
 "cells": [
  {
   "cell_type": "code",
   "execution_count": 2,
   "metadata": {},
   "outputs": [
    {
     "data": {
      "text/html": [
       "<div>\n",
       "<style scoped>\n",
       "    .dataframe tbody tr th:only-of-type {\n",
       "        vertical-align: middle;\n",
       "    }\n",
       "\n",
       "    .dataframe tbody tr th {\n",
       "        vertical-align: top;\n",
       "    }\n",
       "\n",
       "    .dataframe thead th {\n",
       "        text-align: right;\n",
       "    }\n",
       "</style>\n",
       "<table border=\"1\" class=\"dataframe\">\n",
       "  <thead>\n",
       "    <tr style=\"text-align: right;\">\n",
       "      <th></th>\n",
       "      <th>gameid</th>\n",
       "      <th>teamname</th>\n",
       "      <th>win_pred</th>\n",
       "    </tr>\n",
       "  </thead>\n",
       "  <tbody>\n",
       "    <tr>\n",
       "      <th>0</th>\n",
       "      <td>ESPORTSTMNT02_3226664</td>\n",
       "      <td>Fluxo</td>\n",
       "      <td>0.701802</td>\n",
       "    </tr>\n",
       "    <tr>\n",
       "      <th>1</th>\n",
       "      <td>ESPORTSTMNT02_3226664</td>\n",
       "      <td>Vivo Keyd Stars</td>\n",
       "      <td>0.813880</td>\n",
       "    </tr>\n",
       "    <tr>\n",
       "      <th>2</th>\n",
       "      <td>ESPORTSTMNT02_3225650</td>\n",
       "      <td>Vivo Keyd Stars</td>\n",
       "      <td>0.374596</td>\n",
       "    </tr>\n",
       "    <tr>\n",
       "      <th>3</th>\n",
       "      <td>ESPORTSTMNT02_3225650</td>\n",
       "      <td>Fluxo</td>\n",
       "      <td>0.810145</td>\n",
       "    </tr>\n",
       "    <tr>\n",
       "      <th>4</th>\n",
       "      <td>ESPORTSTMNT02_3226687</td>\n",
       "      <td>Vivo Keyd Stars</td>\n",
       "      <td>0.395691</td>\n",
       "    </tr>\n",
       "  </tbody>\n",
       "</table>\n",
       "</div>"
      ],
      "text/plain": [
       "                  gameid         teamname  win_pred\n",
       "0  ESPORTSTMNT02_3226664            Fluxo  0.701802\n",
       "1  ESPORTSTMNT02_3226664  Vivo Keyd Stars  0.813880\n",
       "2  ESPORTSTMNT02_3225650  Vivo Keyd Stars  0.374596\n",
       "3  ESPORTSTMNT02_3225650            Fluxo  0.810145\n",
       "4  ESPORTSTMNT02_3226687  Vivo Keyd Stars  0.395691"
      ]
     },
     "execution_count": 2,
     "metadata": {},
     "output_type": "execute_result"
    }
   ],
   "source": [
    "import pandas as pd\n",
    "\n",
    "pred_valid = pd.read_csv('output/ensemble_pred_valid.csv')\n",
    "pred_valid.head()\n"
   ]
  },
  {
   "cell_type": "code",
   "execution_count": 3,
   "metadata": {},
   "outputs": [
    {
     "data": {
      "text/html": [
       "<div>\n",
       "<style scoped>\n",
       "    .dataframe tbody tr th:only-of-type {\n",
       "        vertical-align: middle;\n",
       "    }\n",
       "\n",
       "    .dataframe tbody tr th {\n",
       "        vertical-align: top;\n",
       "    }\n",
       "\n",
       "    .dataframe thead th {\n",
       "        text-align: right;\n",
       "    }\n",
       "</style>\n",
       "<table border=\"1\" class=\"dataframe\">\n",
       "  <thead>\n",
       "    <tr style=\"text-align: right;\">\n",
       "      <th></th>\n",
       "      <th>gameid</th>\n",
       "      <th>teamname</th>\n",
       "      <th>win_pred</th>\n",
       "    </tr>\n",
       "  </thead>\n",
       "  <tbody>\n",
       "    <tr>\n",
       "      <th>0</th>\n",
       "      <td>LOLTMNT02_66852</td>\n",
       "      <td>Hanwha Life Esports</td>\n",
       "      <td>0.674337</td>\n",
       "    </tr>\n",
       "    <tr>\n",
       "      <th>1</th>\n",
       "      <td>LOLTMNT02_66852</td>\n",
       "      <td>Kwangdong Freecs</td>\n",
       "      <td>0.129516</td>\n",
       "    </tr>\n",
       "    <tr>\n",
       "      <th>2</th>\n",
       "      <td>LOLTMNT02_67822</td>\n",
       "      <td>Hanwha Life Esports</td>\n",
       "      <td>0.552266</td>\n",
       "    </tr>\n",
       "    <tr>\n",
       "      <th>3</th>\n",
       "      <td>LOLTMNT02_67822</td>\n",
       "      <td>Kwangdong Freecs</td>\n",
       "      <td>0.480522</td>\n",
       "    </tr>\n",
       "    <tr>\n",
       "      <th>4</th>\n",
       "      <td>LOLTMNT02_67823</td>\n",
       "      <td>Hanwha Life Esports</td>\n",
       "      <td>0.661443</td>\n",
       "    </tr>\n",
       "  </tbody>\n",
       "</table>\n",
       "</div>"
      ],
      "text/plain": [
       "            gameid             teamname  win_pred\n",
       "0  LOLTMNT02_66852  Hanwha Life Esports  0.674337\n",
       "1  LOLTMNT02_66852     Kwangdong Freecs  0.129516\n",
       "2  LOLTMNT02_67822  Hanwha Life Esports  0.552266\n",
       "3  LOLTMNT02_67822     Kwangdong Freecs  0.480522\n",
       "4  LOLTMNT02_67823  Hanwha Life Esports  0.661443"
      ]
     },
     "execution_count": 3,
     "metadata": {},
     "output_type": "execute_result"
    }
   ],
   "source": [
    "pred_test = pd.read_csv('output/ensemble_pred_test.csv')\n",
    "pred_test.head()"
   ]
  }
 ],
 "metadata": {
  "kernelspec": {
   "display_name": "Python 3",
   "language": "python",
   "name": "python3"
  },
  "language_info": {
   "codemirror_mode": {
    "name": "ipython",
    "version": 3
   },
   "file_extension": ".py",
   "mimetype": "text/x-python",
   "name": "python",
   "nbconvert_exporter": "python",
   "pygments_lexer": "ipython3",
   "version": "3.10.8"
  }
 },
 "nbformat": 4,
 "nbformat_minor": 2
}
