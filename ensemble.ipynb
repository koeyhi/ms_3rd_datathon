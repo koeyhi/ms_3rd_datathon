{
 "cells": [
  {
   "cell_type": "code",
   "execution_count": 56,
   "metadata": {},
   "outputs": [
    {
     "data": {
      "text/html": [
       "<div>\n",
       "<style scoped>\n",
       "    .dataframe tbody tr th:only-of-type {\n",
       "        vertical-align: middle;\n",
       "    }\n",
       "\n",
       "    .dataframe tbody tr th {\n",
       "        vertical-align: top;\n",
       "    }\n",
       "\n",
       "    .dataframe thead th {\n",
       "        text-align: right;\n",
       "    }\n",
       "</style>\n",
       "<table border=\"1\" class=\"dataframe\">\n",
       "  <thead>\n",
       "    <tr style=\"text-align: right;\">\n",
       "      <th></th>\n",
       "      <th>gameid</th>\n",
       "      <th>teamname</th>\n",
       "      <th>win_pred</th>\n",
       "    </tr>\n",
       "  </thead>\n",
       "  <tbody>\n",
       "    <tr>\n",
       "      <th>0</th>\n",
       "      <td>ESPORTSTMNT02_3226664</td>\n",
       "      <td>Fluxo</td>\n",
       "      <td>0.701802</td>\n",
       "    </tr>\n",
       "    <tr>\n",
       "      <th>1</th>\n",
       "      <td>ESPORTSTMNT02_3226664</td>\n",
       "      <td>Vivo Keyd Stars</td>\n",
       "      <td>0.813880</td>\n",
       "    </tr>\n",
       "    <tr>\n",
       "      <th>2</th>\n",
       "      <td>ESPORTSTMNT02_3225650</td>\n",
       "      <td>Vivo Keyd Stars</td>\n",
       "      <td>0.374596</td>\n",
       "    </tr>\n",
       "    <tr>\n",
       "      <th>3</th>\n",
       "      <td>ESPORTSTMNT02_3225650</td>\n",
       "      <td>Fluxo</td>\n",
       "      <td>0.810145</td>\n",
       "    </tr>\n",
       "    <tr>\n",
       "      <th>4</th>\n",
       "      <td>ESPORTSTMNT02_3226687</td>\n",
       "      <td>Vivo Keyd Stars</td>\n",
       "      <td>0.395691</td>\n",
       "    </tr>\n",
       "  </tbody>\n",
       "</table>\n",
       "</div>"
      ],
      "text/plain": [
       "                  gameid         teamname  win_pred\n",
       "0  ESPORTSTMNT02_3226664            Fluxo  0.701802\n",
       "1  ESPORTSTMNT02_3226664  Vivo Keyd Stars  0.813880\n",
       "2  ESPORTSTMNT02_3225650  Vivo Keyd Stars  0.374596\n",
       "3  ESPORTSTMNT02_3225650            Fluxo  0.810145\n",
       "4  ESPORTSTMNT02_3226687  Vivo Keyd Stars  0.395691"
      ]
     },
     "execution_count": 56,
     "metadata": {},
     "output_type": "execute_result"
    }
   ],
   "source": [
    "import pandas as pd\n",
    "import numpy as np\n",
    "\n",
    "jh_pred_valid = pd.read_csv('output/jh_pred_valid.csv')\n",
    "jh_pred_valid.head()"
   ]
  },
  {
   "cell_type": "code",
   "execution_count": 57,
   "metadata": {},
   "outputs": [
    {
     "data": {
      "text/html": [
       "<div>\n",
       "<style scoped>\n",
       "    .dataframe tbody tr th:only-of-type {\n",
       "        vertical-align: middle;\n",
       "    }\n",
       "\n",
       "    .dataframe tbody tr th {\n",
       "        vertical-align: top;\n",
       "    }\n",
       "\n",
       "    .dataframe thead th {\n",
       "        text-align: right;\n",
       "    }\n",
       "</style>\n",
       "<table border=\"1\" class=\"dataframe\">\n",
       "  <thead>\n",
       "    <tr style=\"text-align: right;\">\n",
       "      <th></th>\n",
       "      <th>gameid</th>\n",
       "      <th>teamname</th>\n",
       "      <th>win_pred</th>\n",
       "    </tr>\n",
       "  </thead>\n",
       "  <tbody>\n",
       "    <tr>\n",
       "      <th>0</th>\n",
       "      <td>ESPORTSTMNT02_3226664</td>\n",
       "      <td>Fluxo</td>\n",
       "      <td>0.833599</td>\n",
       "    </tr>\n",
       "    <tr>\n",
       "      <th>1</th>\n",
       "      <td>ESPORTSTMNT02_3226664</td>\n",
       "      <td>Vivo Keyd Stars</td>\n",
       "      <td>0.947176</td>\n",
       "    </tr>\n",
       "    <tr>\n",
       "      <th>2</th>\n",
       "      <td>ESPORTSTMNT02_3225650</td>\n",
       "      <td>Vivo Keyd Stars</td>\n",
       "      <td>0.401589</td>\n",
       "    </tr>\n",
       "    <tr>\n",
       "      <th>3</th>\n",
       "      <td>ESPORTSTMNT02_3225650</td>\n",
       "      <td>Fluxo</td>\n",
       "      <td>0.832188</td>\n",
       "    </tr>\n",
       "    <tr>\n",
       "      <th>4</th>\n",
       "      <td>ESPORTSTMNT02_3226687</td>\n",
       "      <td>Vivo Keyd Stars</td>\n",
       "      <td>0.448997</td>\n",
       "    </tr>\n",
       "  </tbody>\n",
       "</table>\n",
       "</div>"
      ],
      "text/plain": [
       "                  gameid         teamname  win_pred\n",
       "0  ESPORTSTMNT02_3226664            Fluxo  0.833599\n",
       "1  ESPORTSTMNT02_3226664  Vivo Keyd Stars  0.947176\n",
       "2  ESPORTSTMNT02_3225650  Vivo Keyd Stars  0.401589\n",
       "3  ESPORTSTMNT02_3225650            Fluxo  0.832188\n",
       "4  ESPORTSTMNT02_3226687  Vivo Keyd Stars  0.448997"
      ]
     },
     "execution_count": 57,
     "metadata": {},
     "output_type": "execute_result"
    }
   ],
   "source": [
    "hj_pred_valid = pd.read_csv('output/hj_pred_valid.csv')\n",
    "hj_pred_valid.head()"
   ]
  },
  {
   "cell_type": "code",
   "execution_count": 58,
   "metadata": {},
   "outputs": [
    {
     "data": {
      "text/html": [
       "<div>\n",
       "<style scoped>\n",
       "    .dataframe tbody tr th:only-of-type {\n",
       "        vertical-align: middle;\n",
       "    }\n",
       "\n",
       "    .dataframe tbody tr th {\n",
       "        vertical-align: top;\n",
       "    }\n",
       "\n",
       "    .dataframe thead th {\n",
       "        text-align: right;\n",
       "    }\n",
       "</style>\n",
       "<table border=\"1\" class=\"dataframe\">\n",
       "  <thead>\n",
       "    <tr style=\"text-align: right;\">\n",
       "      <th></th>\n",
       "      <th>gameid</th>\n",
       "      <th>teamname</th>\n",
       "      <th>win_pred</th>\n",
       "    </tr>\n",
       "  </thead>\n",
       "  <tbody>\n",
       "    <tr>\n",
       "      <th>0</th>\n",
       "      <td>LOLTMNT02_66852</td>\n",
       "      <td>Hanwha Life Esports</td>\n",
       "      <td>0.674337</td>\n",
       "    </tr>\n",
       "    <tr>\n",
       "      <th>1</th>\n",
       "      <td>LOLTMNT02_66852</td>\n",
       "      <td>Kwangdong Freecs</td>\n",
       "      <td>0.129516</td>\n",
       "    </tr>\n",
       "    <tr>\n",
       "      <th>2</th>\n",
       "      <td>LOLTMNT02_67822</td>\n",
       "      <td>Hanwha Life Esports</td>\n",
       "      <td>0.552266</td>\n",
       "    </tr>\n",
       "    <tr>\n",
       "      <th>3</th>\n",
       "      <td>LOLTMNT02_67822</td>\n",
       "      <td>Kwangdong Freecs</td>\n",
       "      <td>0.480522</td>\n",
       "    </tr>\n",
       "    <tr>\n",
       "      <th>4</th>\n",
       "      <td>LOLTMNT02_67823</td>\n",
       "      <td>Hanwha Life Esports</td>\n",
       "      <td>0.661443</td>\n",
       "    </tr>\n",
       "  </tbody>\n",
       "</table>\n",
       "</div>"
      ],
      "text/plain": [
       "            gameid             teamname  win_pred\n",
       "0  LOLTMNT02_66852  Hanwha Life Esports  0.674337\n",
       "1  LOLTMNT02_66852     Kwangdong Freecs  0.129516\n",
       "2  LOLTMNT02_67822  Hanwha Life Esports  0.552266\n",
       "3  LOLTMNT02_67822     Kwangdong Freecs  0.480522\n",
       "4  LOLTMNT02_67823  Hanwha Life Esports  0.661443"
      ]
     },
     "execution_count": 58,
     "metadata": {},
     "output_type": "execute_result"
    }
   ],
   "source": [
    "jh_pred_test = pd.read_csv('output/jh_pred_test.csv')\n",
    "jh_pred_test.head()"
   ]
  },
  {
   "cell_type": "code",
   "execution_count": 59,
   "metadata": {},
   "outputs": [
    {
     "data": {
      "text/html": [
       "<div>\n",
       "<style scoped>\n",
       "    .dataframe tbody tr th:only-of-type {\n",
       "        vertical-align: middle;\n",
       "    }\n",
       "\n",
       "    .dataframe tbody tr th {\n",
       "        vertical-align: top;\n",
       "    }\n",
       "\n",
       "    .dataframe thead th {\n",
       "        text-align: right;\n",
       "    }\n",
       "</style>\n",
       "<table border=\"1\" class=\"dataframe\">\n",
       "  <thead>\n",
       "    <tr style=\"text-align: right;\">\n",
       "      <th></th>\n",
       "      <th>gameid</th>\n",
       "      <th>teamname</th>\n",
       "      <th>win_pred</th>\n",
       "    </tr>\n",
       "  </thead>\n",
       "  <tbody>\n",
       "    <tr>\n",
       "      <th>0</th>\n",
       "      <td>LOLTMNT02_66852</td>\n",
       "      <td>Hanwha Life Esports</td>\n",
       "      <td>0.552607</td>\n",
       "    </tr>\n",
       "    <tr>\n",
       "      <th>1</th>\n",
       "      <td>LOLTMNT02_66852</td>\n",
       "      <td>Kwangdong Freecs</td>\n",
       "      <td>0.104942</td>\n",
       "    </tr>\n",
       "    <tr>\n",
       "      <th>2</th>\n",
       "      <td>LOLTMNT02_67822</td>\n",
       "      <td>Hanwha Life Esports</td>\n",
       "      <td>0.549287</td>\n",
       "    </tr>\n",
       "    <tr>\n",
       "      <th>3</th>\n",
       "      <td>LOLTMNT02_67822</td>\n",
       "      <td>Kwangdong Freecs</td>\n",
       "      <td>0.812900</td>\n",
       "    </tr>\n",
       "    <tr>\n",
       "      <th>4</th>\n",
       "      <td>LOLTMNT02_67823</td>\n",
       "      <td>Hanwha Life Esports</td>\n",
       "      <td>0.567584</td>\n",
       "    </tr>\n",
       "  </tbody>\n",
       "</table>\n",
       "</div>"
      ],
      "text/plain": [
       "            gameid             teamname  win_pred\n",
       "0  LOLTMNT02_66852  Hanwha Life Esports  0.552607\n",
       "1  LOLTMNT02_66852     Kwangdong Freecs  0.104942\n",
       "2  LOLTMNT02_67822  Hanwha Life Esports  0.549287\n",
       "3  LOLTMNT02_67822     Kwangdong Freecs  0.812900\n",
       "4  LOLTMNT02_67823  Hanwha Life Esports  0.567584"
      ]
     },
     "execution_count": 59,
     "metadata": {},
     "output_type": "execute_result"
    }
   ],
   "source": [
    "hj_pred_test = pd.read_csv('output/hj_pred_test.csv')\n",
    "hj_pred_test.head()"
   ]
  },
  {
   "cell_type": "code",
   "execution_count": 60,
   "metadata": {},
   "outputs": [
    {
     "data": {
      "text/plain": [
       "(2114, 2114, 2324, 2324)"
      ]
     },
     "execution_count": 60,
     "metadata": {},
     "output_type": "execute_result"
    }
   ],
   "source": [
    "len(jh_pred_valid), len(hj_pred_valid), len(jh_pred_test), len(hj_pred_test)"
   ]
  },
  {
   "cell_type": "code",
   "execution_count": 61,
   "metadata": {},
   "outputs": [
    {
     "data": {
      "text/plain": [
       "(9913, 2324, 2114)"
      ]
     },
     "execution_count": 61,
     "metadata": {},
     "output_type": "execute_result"
    }
   ],
   "source": [
    "train_target = pd.read_csv(\"LoLesports_data/teams_train_target.csv\")\n",
    "test_target = pd.read_csv(\"LoLesports_data/teams_test_target.csv\")\n",
    "valid_target = pd.read_csv(\"output/valid_target.csv\")\n",
    "\n",
    "len(train_target), len(test_target), len(valid_target)"
   ]
  },
  {
   "cell_type": "code",
   "execution_count": 62,
   "metadata": {},
   "outputs": [
    {
     "data": {
      "text/plain": [
       "array([0.76770048, 0.88052793, 0.38809258, ..., 0.49727474, 0.44661698,\n",
       "       0.93445602])"
      ]
     },
     "execution_count": 62,
     "metadata": {},
     "output_type": "execute_result"
    }
   ],
   "source": [
    "from sklearn.metrics import accuracy_score, roc_auc_score\n",
    "\n",
    "pred_valid = np.mean([jh_pred_valid[\"win_pred\"], hj_pred_valid[\"win_pred\"]], axis=0)\n",
    "pred_valid"
   ]
  },
  {
   "cell_type": "code",
   "execution_count": 63,
   "metadata": {},
   "outputs": [
    {
     "data": {
      "text/plain": [
       "(0.7956480605487228, 0.8947253947227096)"
      ]
     },
     "execution_count": 63,
     "metadata": {},
     "output_type": "execute_result"
    }
   ],
   "source": [
    "target_valid = valid_target[\"result\"].to_numpy()\n",
    "accuracy_score(target_valid, (pred_valid > 0.5).astype(int)), roc_auc_score(target_valid, pred_valid)"
   ]
  },
  {
   "cell_type": "code",
   "execution_count": 64,
   "metadata": {},
   "outputs": [
    {
     "data": {
      "text/plain": [
       "array([0.61347229, 0.11722886, 0.55077656, ..., 0.44158264, 0.51715923,\n",
       "       0.54029419])"
      ]
     },
     "execution_count": 64,
     "metadata": {},
     "output_type": "execute_result"
    }
   ],
   "source": [
    "pred_test = np.mean([jh_pred_test[\"win_pred\"], hj_pred_test[\"win_pred\"]], axis=0)\n",
    "pred_test"
   ]
  },
  {
   "cell_type": "code",
   "execution_count": 65,
   "metadata": {},
   "outputs": [
    {
     "data": {
      "text/plain": [
       "(0.76592082616179, 0.8583059307974878)"
      ]
     },
     "execution_count": 65,
     "metadata": {},
     "output_type": "execute_result"
    }
   ],
   "source": [
    "target_test = test_target[\"result\"].to_numpy()\n",
    "accuracy_score(target_test, (pred_test > 0.5).astype(int)), roc_auc_score(target_test, pred_test)"
   ]
  }
 ],
 "metadata": {
  "kernelspec": {
   "display_name": "Python 3",
   "language": "python",
   "name": "python3"
  },
  "language_info": {
   "codemirror_mode": {
    "name": "ipython",
    "version": 3
   },
   "file_extension": ".py",
   "mimetype": "text/x-python",
   "name": "python",
   "nbconvert_exporter": "python",
   "pygments_lexer": "ipython3",
   "version": "3.10.8"
  }
 },
 "nbformat": 4,
 "nbformat_minor": 2
}
