{
 "cells": [
  {
   "cell_type": "code",
   "execution_count": 28,
   "metadata": {},
   "outputs": [
    {
     "data": {
      "text/plain": [
       "((266040, 158), (67380, 158))"
      ]
     },
     "execution_count": 28,
     "metadata": {},
     "output_type": "execute_result"
    }
   ],
   "source": [
    "import pandas as pd\n",
    "import glob\n",
    "\n",
    "path = \"LoLesports_data\"\n",
    "\n",
    "all_files = glob.glob(path + \"/*.csv\")\n",
    "\n",
    "df_list = []\n",
    "\n",
    "for file in all_files[-3:]:\n",
    "    temp_df = pd.read_csv(file, low_memory=False)\n",
    "    df_list.append(temp_df)\n",
    "\n",
    "df = pd.concat(df_list, ignore_index=True)\n",
    "df = df[df[\"datacompleteness\"] == \"complete\"]\n",
    "df.drop(columns=[\"datacompleteness\", \"url\", \"year\"], inplace=True)\n",
    "\n",
    "train = df[(df[\"patch\"] >= 12.01) & (df[\"patch\"] <= 14.05)]\n",
    "test = df[df[\"patch\"] >= 14.06]\n",
    "\n",
    "train.shape, test.shape"
   ]
  },
  {
   "cell_type": "code",
   "execution_count": 29,
   "metadata": {},
   "outputs": [
    {
     "data": {
      "text/plain": [
       "(44340, 156)"
      ]
     },
     "execution_count": 29,
     "metadata": {},
     "output_type": "execute_result"
    }
   ],
   "source": [
    "teams = train[train[\"position\"] == \"team\"].copy()\n",
    "teams.drop(columns=[\"champion\", \"position\"], inplace=True)\n",
    "teams.shape"
   ]
  },
  {
   "cell_type": "code",
   "execution_count": 32,
   "metadata": {},
   "outputs": [
    {
     "data": {
      "text/html": [
       "<div>\n",
       "<style scoped>\n",
       "    .dataframe tbody tr th:only-of-type {\n",
       "        vertical-align: middle;\n",
       "    }\n",
       "\n",
       "    .dataframe tbody tr th {\n",
       "        vertical-align: top;\n",
       "    }\n",
       "\n",
       "    .dataframe thead th {\n",
       "        text-align: right;\n",
       "    }\n",
       "</style>\n",
       "<table border=\"1\" class=\"dataframe\">\n",
       "  <thead>\n",
       "    <tr style=\"text-align: right;\">\n",
       "      <th></th>\n",
       "      <th>patch</th>\n",
       "      <th>league</th>\n",
       "      <th>side</th>\n",
       "      <th>result</th>\n",
       "      <th>total_games</th>\n",
       "      <th>win_rate</th>\n",
       "    </tr>\n",
       "  </thead>\n",
       "  <tbody>\n",
       "    <tr>\n",
       "      <th>0</th>\n",
       "      <td>12.01</td>\n",
       "      <td>CBLOL</td>\n",
       "      <td>Blue</td>\n",
       "      <td>6</td>\n",
       "      <td>10.0</td>\n",
       "      <td>0.600000</td>\n",
       "    </tr>\n",
       "    <tr>\n",
       "      <th>1</th>\n",
       "      <td>12.01</td>\n",
       "      <td>CBLOL</td>\n",
       "      <td>Red</td>\n",
       "      <td>4</td>\n",
       "      <td>10.0</td>\n",
       "      <td>0.400000</td>\n",
       "    </tr>\n",
       "    <tr>\n",
       "      <th>2</th>\n",
       "      <td>12.01</td>\n",
       "      <td>CBLOLA</td>\n",
       "      <td>Blue</td>\n",
       "      <td>6</td>\n",
       "      <td>10.0</td>\n",
       "      <td>0.600000</td>\n",
       "    </tr>\n",
       "    <tr>\n",
       "      <th>3</th>\n",
       "      <td>12.01</td>\n",
       "      <td>CBLOLA</td>\n",
       "      <td>Red</td>\n",
       "      <td>4</td>\n",
       "      <td>10.0</td>\n",
       "      <td>0.400000</td>\n",
       "    </tr>\n",
       "    <tr>\n",
       "      <th>4</th>\n",
       "      <td>12.01</td>\n",
       "      <td>DDH</td>\n",
       "      <td>Blue</td>\n",
       "      <td>10</td>\n",
       "      <td>24.0</td>\n",
       "      <td>0.416667</td>\n",
       "    </tr>\n",
       "    <tr>\n",
       "      <th>...</th>\n",
       "      <td>...</td>\n",
       "      <td>...</td>\n",
       "      <td>...</td>\n",
       "      <td>...</td>\n",
       "      <td>...</td>\n",
       "      <td>...</td>\n",
       "    </tr>\n",
       "    <tr>\n",
       "      <th>1657</th>\n",
       "      <td>14.05</td>\n",
       "      <td>PRM</td>\n",
       "      <td>Red</td>\n",
       "      <td>11</td>\n",
       "      <td>26.0</td>\n",
       "      <td>0.423077</td>\n",
       "    </tr>\n",
       "    <tr>\n",
       "      <th>1658</th>\n",
       "      <td>14.05</td>\n",
       "      <td>TCL</td>\n",
       "      <td>Blue</td>\n",
       "      <td>13</td>\n",
       "      <td>25.0</td>\n",
       "      <td>0.520000</td>\n",
       "    </tr>\n",
       "    <tr>\n",
       "      <th>1659</th>\n",
       "      <td>14.05</td>\n",
       "      <td>TCL</td>\n",
       "      <td>Red</td>\n",
       "      <td>12</td>\n",
       "      <td>25.0</td>\n",
       "      <td>0.480000</td>\n",
       "    </tr>\n",
       "    <tr>\n",
       "      <th>1660</th>\n",
       "      <td>14.05</td>\n",
       "      <td>VCS</td>\n",
       "      <td>Blue</td>\n",
       "      <td>13</td>\n",
       "      <td>23.0</td>\n",
       "      <td>0.565217</td>\n",
       "    </tr>\n",
       "    <tr>\n",
       "      <th>1661</th>\n",
       "      <td>14.05</td>\n",
       "      <td>VCS</td>\n",
       "      <td>Red</td>\n",
       "      <td>10</td>\n",
       "      <td>23.0</td>\n",
       "      <td>0.434783</td>\n",
       "    </tr>\n",
       "  </tbody>\n",
       "</table>\n",
       "<p>1662 rows × 6 columns</p>\n",
       "</div>"
      ],
      "text/plain": [
       "      patch  league  side  result  total_games  win_rate\n",
       "0     12.01   CBLOL  Blue       6         10.0  0.600000\n",
       "1     12.01   CBLOL   Red       4         10.0  0.400000\n",
       "2     12.01  CBLOLA  Blue       6         10.0  0.600000\n",
       "3     12.01  CBLOLA   Red       4         10.0  0.400000\n",
       "4     12.01     DDH  Blue      10         24.0  0.416667\n",
       "...     ...     ...   ...     ...          ...       ...\n",
       "1657  14.05     PRM   Red      11         26.0  0.423077\n",
       "1658  14.05     TCL  Blue      13         25.0  0.520000\n",
       "1659  14.05     TCL   Red      12         25.0  0.480000\n",
       "1660  14.05     VCS  Blue      13         23.0  0.565217\n",
       "1661  14.05     VCS   Red      10         23.0  0.434783\n",
       "\n",
       "[1662 rows x 6 columns]"
      ]
     },
     "execution_count": 32,
     "metadata": {},
     "output_type": "execute_result"
    }
   ],
   "source": [
    "side_wins = teams.groupby([\"patch\", \"league\", \"side\"])[\"result\"].sum().reset_index()\n",
    "\n",
    "total_games = (teams.groupby([\"patch\", \"league\"])[\"result\"].count() / 2).reset_index()\n",
    "total_games.columns = [\"patch\", \"league\", \"total_games\"]\n",
    "\n",
    "side_stats = pd.merge(side_wins, total_games, on=[\"patch\", \"league\"])\n",
    "side_stats[\"win_rate\"] = side_stats[\"result\"] / side_stats[\"total_games\"]\n",
    "\n",
    "side_stats"
   ]
  },
  {
   "cell_type": "code",
   "execution_count": 33,
   "metadata": {},
   "outputs": [],
   "source": [
    "side_stats.to_csv(\"output/side_stats.csv\", index=False)"
   ]
  }
 ],
 "metadata": {
  "kernelspec": {
   "display_name": "Python 3",
   "language": "python",
   "name": "python3"
  },
  "language_info": {
   "codemirror_mode": {
    "name": "ipython",
    "version": 3
   },
   "file_extension": ".py",
   "mimetype": "text/x-python",
   "name": "python",
   "nbconvert_exporter": "python",
   "pygments_lexer": "ipython3",
   "version": "3.10.8"
  }
 },
 "nbformat": 4,
 "nbformat_minor": 2
}
