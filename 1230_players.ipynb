{
  "nbformat": 4,
  "nbformat_minor": 0,
  "metadata": {
    "colab": {
      "provenance": []
    },
    "kernelspec": {
      "name": "python3",
      "display_name": "Python 3"
    },
    "language_info": {
      "name": "python"
    }
  },
  "cells": [
    {
      "cell_type": "code",
      "execution_count": 2,
      "metadata": {
        "colab": {
          "base_uri": "https://localhost:8080/"
        },
        "id": "fQwWQR7TUDRe",
        "outputId": "0f909790-1186-4e67-9ec7-36ff05188d91"
      },
      "outputs": [
        {
          "output_type": "stream",
          "name": "stdout",
          "text": [
            "Mounted at /content/drive\n"
          ]
        }
      ],
      "source": [
        "from google.colab import drive\n",
        "drive.mount('/content/drive')\n",
        "\n",
        "DATA_PATH = \"/content/drive/MyDrive/datathon/data/\"\n",
        "\n",
        "SEED = 42"
      ]
    },
    {
      "cell_type": "code",
      "source": [
        "import pandas as pd\n",
        "import numpy as np\n",
        "import torch\n",
        "from tqdm.auto import tqdm\n",
        "import random\n",
        "import os\n",
        "\n",
        "def reset_seeds(seed):\n",
        "    random.seed(seed)\n",
        "    os.environ['PYTHONHASHSEED'] = str(seed)\n",
        "    np.random.seed(seed)\n",
        "    torch.manual_seed(seed)\n",
        "    torch.cuda.manual_seed(seed)\n",
        "    torch.backends.cudnn.deterministic = True"
      ],
      "metadata": {
        "id": "pid4AauKUJxo"
      },
      "execution_count": 3,
      "outputs": []
    },
    {
      "cell_type": "code",
      "source": [
        "train_tr = pd.read_csv(f\"{DATA_PATH}players_train(analyze).csv\") # 학습용 승부예측 데이터\n",
        "#train_target = pd.read_csv(f\"{DATA_PATH}train_target_1226.csv\") # 학습용 정답 데이터\n",
        "test_tr = pd.read_csv(f\"{DATA_PATH}players_test(analyze).csv\") # 테스트용 승부예측 데이터\n",
        "#test_target = pd.read_csv(f\"{DATA_PATH}test_target_1226.csv\") # 테스트용 정답 데이터"
      ],
      "metadata": {
        "id": "It8mfItjUy0Z"
      },
      "execution_count": 4,
      "outputs": []
    },
    {
      "cell_type": "code",
      "source": [
        "train_tr.shape, test_tr.shape"
      ],
      "metadata": {
        "colab": {
          "base_uri": "https://localhost:8080/"
        },
        "id": "-l6SIDQE-xMB",
        "outputId": "2c67a1da-e2b9-400f-d182-d6d4c5cd5031"
      },
      "execution_count": 6,
      "outputs": [
        {
          "output_type": "execute_result",
          "data": {
            "text/plain": [
              "((50000, 87), (11670, 87))"
            ]
          },
          "metadata": {},
          "execution_count": 6
        }
      ]
    },
    {
      "cell_type": "markdown",
      "source": [
        "# 전처리"
      ],
      "metadata": {
        "id": "AbadyPu4VELk"
      }
    },
    {
      "cell_type": "code",
      "source": [
        "train_ft = train_tr.copy()\n",
        "test_ft = test_tr.copy()"
      ],
      "metadata": {
        "id": "YA8VTE8UWkgf"
      },
      "execution_count": 8,
      "outputs": []
    },
    {
      "cell_type": "code",
      "source": [
        "train_ft.columns"
      ],
      "metadata": {
        "colab": {
          "base_uri": "https://localhost:8080/"
        },
        "id": "2eDAnE3vBKg_",
        "outputId": "848d4550-391c-4dc7-ca22-8e6537610fc0"
      },
      "execution_count": 9,
      "outputs": [
        {
          "output_type": "execute_result",
          "data": {
            "text/plain": [
              "Index(['gameid', 'league', 'split', 'playoffs', 'date', 'game', 'patch',\n",
              "       'side', 'position', 'playername', 'teamname', 'champion', 'ban1',\n",
              "       'ban2', 'ban3', 'ban4', 'ban5', 'gamelength', 'result', 'kills',\n",
              "       'deaths', 'assists', 'doublekills', 'triplekills', 'quadrakills',\n",
              "       'pentakills', 'firstblood', 'firstbloodkill', 'firstbloodassist',\n",
              "       'firstbloodvictim', 'team kpm', 'ckpm', 'barons', 'opp_barons',\n",
              "       'inhibitors', 'opp_inhibitors', 'damagetochampions', 'dpm',\n",
              "       'damageshare', 'damagetakenperminute', 'damagemitigatedperminute',\n",
              "       'wardsplaced', 'wpm', 'wardskilled', 'wcpm', 'controlwardsbought',\n",
              "       'visionscore', 'vspm', 'totalgold', 'earnedgold', 'earned gpm',\n",
              "       'earnedgoldshare', 'goldspent', 'total cs', 'minionkills',\n",
              "       'monsterkills', 'cspm', 'goldat10', 'xpat10', 'csat10', 'opp_goldat10',\n",
              "       'opp_xpat10', 'opp_csat10', 'golddiffat10', 'xpdiffat10', 'csdiffat10',\n",
              "       'killsat10', 'assistsat10', 'deathsat10', 'opp_killsat10',\n",
              "       'opp_assistsat10', 'opp_deathsat10', 'goldat15', 'xpat15', 'csat15',\n",
              "       'opp_goldat15', 'opp_xpat15', 'opp_csat15', 'golddiffat15',\n",
              "       'xpdiffat15', 'csdiffat15', 'killsat15', 'assistsat15', 'deathsat15',\n",
              "       'opp_killsat15', 'opp_assistsat15', 'opp_deathsat15'],\n",
              "      dtype='object')"
            ]
          },
          "metadata": {},
          "execution_count": 9
        }
      ]
    },
    {
      "cell_type": "markdown",
      "source": [
        "- player"
      ],
      "metadata": {
        "id": "32rqCTwJZfv1"
      }
    },
    {
      "cell_type": "code",
      "source": [
        "fill_unknown_cols = [\n",
        "    \"split\",\n",
        "    \"ban1\",\n",
        "    \"ban2\",\n",
        "    \"ban3\",\n",
        "    \"ban4\",\n",
        "    \"ban5\",\n",
        "]\n",
        "\n",
        "train_ft[fill_unknown_cols] = train_ft[fill_unknown_cols].fillna(\"unknown\")\n",
        "test_ft[fill_unknown_cols] = test_ft[fill_unknown_cols].fillna(\"unknown\")\n"
      ],
      "metadata": {
        "id": "_jI_P2FKXo8t"
      },
      "execution_count": 10,
      "outputs": []
    },
    {
      "cell_type": "code",
      "source": [
        "train_ft.shape, test_ft.shape"
      ],
      "metadata": {
        "colab": {
          "base_uri": "https://localhost:8080/"
        },
        "id": "YUOiwPSRCFdp",
        "outputId": "17cf6bfd-bd5d-4264-e8ec-e78009b0cad6"
      },
      "execution_count": 12,
      "outputs": [
        {
          "output_type": "execute_result",
          "data": {
            "text/plain": [
              "((50000, 87), (11670, 87))"
            ]
          },
          "metadata": {},
          "execution_count": 12
        }
      ]
    },
    {
      "cell_type": "code",
      "source": [
        "missing_columns = train_ft.columns[train_ft.isnull().sum() > 0]\n",
        "null_samples = train_ft[train_ft[missing_columns].isnull().any(axis=1)]\n",
        "\n",
        "for idx, row in null_samples.iterrows():\n",
        "    player_history = train_ft[\n",
        "        (train_ft[\"playername\"] == row[\"playername\"])\n",
        "        & (train_ft[\"gameid\"] < row[\"gameid\"])\n",
        "    ].sort_values(\"gameid\", ascending=False)\n",
        "\n",
        "    for col in missing_columns:\n",
        "        if pd.isnull(row[col]):\n",
        "            prev_5_mean = player_history[col].head(5).mean()\n",
        "            if pd.notnull(prev_5_mean):\n",
        "                train_ft.loc[idx, col] = prev_5_mean\n",
        "            else:\n",
        "                position_mean = train_ft[\n",
        "                    (train_ft[\"position\"] == row[\"position\"])\n",
        "                ][col].mean()\n",
        "                train_ft.loc[idx, col] = position_mean"
      ],
      "metadata": {
        "id": "mz1_wgXOkNUV"
      },
      "execution_count": 13,
      "outputs": []
    },
    {
      "cell_type": "code",
      "source": [
        "train_ft.isna().sum().sum()"
      ],
      "metadata": {
        "colab": {
          "base_uri": "https://localhost:8080/"
        },
        "id": "aqIkg-ODIDB8",
        "outputId": "700a753f-caea-425e-fb9a-62d616c0a0d8"
      },
      "execution_count": 14,
      "outputs": [
        {
          "output_type": "execute_result",
          "data": {
            "text/plain": [
              "0"
            ]
          },
          "metadata": {},
          "execution_count": 14
        }
      ]
    },
    {
      "cell_type": "code",
      "source": [
        "missing_columns = test_ft.columns[test_ft.isnull().sum() > 0]\n",
        "null_samples =  test_ft[ test_ft[missing_columns].isnull().any(axis=1)]\n",
        "\n",
        "for idx, row in null_samples.iterrows():\n",
        "    player_history = train_ft[\n",
        "        (train_ft[\"playername\"] == row[\"playername\"])\n",
        "        & (train_ft[\"gameid\"] < row[\"gameid\"])\n",
        "    ].sort_values(\"gameid\", ascending=False)\n",
        "\n",
        "    for col in missing_columns:\n",
        "        if pd.isnull(row[col]):\n",
        "            prev_5_mean = player_history[col].head(5).mean()\n",
        "            if pd.notnull(prev_5_mean):\n",
        "                 test_ft.loc[idx, col] = prev_5_mean\n",
        "            else:\n",
        "                position_mean = train_ft[\n",
        "                    (train_ft[\"position\"] == row[\"position\"])\n",
        "                ][col].mean()\n",
        "                test_ft.loc[idx, col] = position_mean"
      ],
      "metadata": {
        "id": "n1DmgG5GIJ_j"
      },
      "execution_count": 16,
      "outputs": []
    },
    {
      "cell_type": "code",
      "source": [
        "test_ft.isna().sum().sum()"
      ],
      "metadata": {
        "colab": {
          "base_uri": "https://localhost:8080/"
        },
        "id": "6w9OpSH7IneL",
        "outputId": "5e0d5023-bc07-478a-8749-3395953fac1c"
      },
      "execution_count": 17,
      "outputs": [
        {
          "output_type": "execute_result",
          "data": {
            "text/plain": [
              "0"
            ]
          },
          "metadata": {},
          "execution_count": 17
        }
      ]
    },
    {
      "cell_type": "markdown",
      "source": [
        "# feature"
      ],
      "metadata": {
        "id": "mZLtkX3_ZZ56"
      }
    },
    {
      "cell_type": "code",
      "source": [
        "# 선수들의 챔피언별 kda\n",
        "# kda 계산\n",
        "def calculate_kda(row):\n",
        "    if row['deaths'] == 0: #데스가 0이면 1로 계산\n",
        "        return (row['kills'] + row['assists']) / 1\n",
        "    else:\n",
        "        return (row['kills'] + row['assists']) / row['deaths']\n",
        "\n",
        "# KDA 계산 및 정렬\n",
        "train_ft['kda'] = train_ft.apply(calculate_kda, axis=1)\n",
        "kda_sorted = train_ft.sort_values('kda', ascending=False)\n",
        "\n",
        "# 결과 출력 (선수, 챔피언, KDA)\n",
        "print(kda_sorted[['playername', 'champion', 'kda']])"
      ],
      "metadata": {
        "colab": {
          "base_uri": "https://localhost:8080/"
        },
        "id": "jxLqzhmiKnLo",
        "outputId": "18ed0050-38a2-4e9c-f6be-0afbe2007997"
      },
      "execution_count": 21,
      "outputs": [
        {
          "output_type": "stream",
          "name": "stdout",
          "text": [
            "      playername  champion   kda\n",
            "48264       Orca      Hwei  33.0\n",
            "48261        665  Xin Zhao  30.0\n",
            "2304     Kaiwing     Yuumi  29.0\n",
            "17389      scuro     Yuumi  28.0\n",
            "46166    Disamis      Rell  28.0\n",
            "...          ...       ...   ...\n",
            "3862     Keaiduo    Viktor   0.0\n",
            "7520      Hasmed      Ornn   0.0\n",
            "43255    Odoamne      Gwen   0.0\n",
            "3860        Huni      Gwen   0.0\n",
            "18460       Dove    Aatrox   0.0\n",
            "\n",
            "[50000 rows x 3 columns]\n"
          ]
        }
      ]
    },
    {
      "cell_type": "code",
      "source": [
        "# 선수별 KDA 평균 계산\n",
        "player_kda_mean = train_ft.groupby('playername')['kda'].mean()\n",
        "\n",
        "player_kda_mean"
      ],
      "metadata": {
        "colab": {
          "base_uri": "https://localhost:8080/",
          "height": 489
        },
        "id": "CYxagW7idMyf",
        "outputId": "4405145c-c5f4-49ba-f3d5-a2255a40547a"
      },
      "execution_count": 25,
      "outputs": [
        {
          "output_type": "execute_result",
          "data": {
            "text/plain": [
              "playername\n",
              "1116        6.874500\n",
              "113         4.121457\n",
              "1Jiang      4.743561\n",
              "1ssue       3.504762\n",
              "2T          3.108931\n",
              "              ...   \n",
              "xiaotu      1.766387\n",
              "xyno        1.616071\n",
              "yjy         2.204630\n",
              "zay         5.840799\n",
              "zorenous    0.937500\n",
              "Name: kda, Length: 759, dtype: float64"
            ],
            "text/html": [
              "<div>\n",
              "<style scoped>\n",
              "    .dataframe tbody tr th:only-of-type {\n",
              "        vertical-align: middle;\n",
              "    }\n",
              "\n",
              "    .dataframe tbody tr th {\n",
              "        vertical-align: top;\n",
              "    }\n",
              "\n",
              "    .dataframe thead th {\n",
              "        text-align: right;\n",
              "    }\n",
              "</style>\n",
              "<table border=\"1\" class=\"dataframe\">\n",
              "  <thead>\n",
              "    <tr style=\"text-align: right;\">\n",
              "      <th></th>\n",
              "      <th>kda</th>\n",
              "    </tr>\n",
              "    <tr>\n",
              "      <th>playername</th>\n",
              "      <th></th>\n",
              "    </tr>\n",
              "  </thead>\n",
              "  <tbody>\n",
              "    <tr>\n",
              "      <th>1116</th>\n",
              "      <td>6.874500</td>\n",
              "    </tr>\n",
              "    <tr>\n",
              "      <th>113</th>\n",
              "      <td>4.121457</td>\n",
              "    </tr>\n",
              "    <tr>\n",
              "      <th>1Jiang</th>\n",
              "      <td>4.743561</td>\n",
              "    </tr>\n",
              "    <tr>\n",
              "      <th>1ssue</th>\n",
              "      <td>3.504762</td>\n",
              "    </tr>\n",
              "    <tr>\n",
              "      <th>2T</th>\n",
              "      <td>3.108931</td>\n",
              "    </tr>\n",
              "    <tr>\n",
              "      <th>...</th>\n",
              "      <td>...</td>\n",
              "    </tr>\n",
              "    <tr>\n",
              "      <th>xiaotu</th>\n",
              "      <td>1.766387</td>\n",
              "    </tr>\n",
              "    <tr>\n",
              "      <th>xyno</th>\n",
              "      <td>1.616071</td>\n",
              "    </tr>\n",
              "    <tr>\n",
              "      <th>yjy</th>\n",
              "      <td>2.204630</td>\n",
              "    </tr>\n",
              "    <tr>\n",
              "      <th>zay</th>\n",
              "      <td>5.840799</td>\n",
              "    </tr>\n",
              "    <tr>\n",
              "      <th>zorenous</th>\n",
              "      <td>0.937500</td>\n",
              "    </tr>\n",
              "  </tbody>\n",
              "</table>\n",
              "<p>759 rows × 1 columns</p>\n",
              "</div><br><label><b>dtype:</b> float64</label>"
            ]
          },
          "metadata": {},
          "execution_count": 25
        }
      ]
    },
    {
      "cell_type": "code",
      "source": [
        "#이건 그냥 kda관련 데이터보다 해본거 피처x\n",
        "def get_champion_kda(df, player_name):\n",
        "    player_df = df[df['playername'] == player_name]\n",
        "    champion_kda = player_df.groupby('champion')['kda'].mean()\n",
        "    return champion_kda\n",
        "\n",
        "player_champion_kda = get_champion_kda(train_ft, 'Zeus')\n",
        "player_champion_kda"
      ],
      "metadata": {
        "colab": {
          "base_uri": "https://localhost:8080/",
          "height": 1000
        },
        "id": "cqBsqnOYgtvn",
        "outputId": "a6b1c63a-dcc2-4835-dcf1-0b552e59ed12"
      },
      "execution_count": 53,
      "outputs": [
        {
          "output_type": "execute_result",
          "data": {
            "text/plain": [
              "champion\n",
              "Aatrox           5.054630\n",
              "Akali           14.000000\n",
              "Camille          3.502083\n",
              "Fiora            6.357143\n",
              "Gangplank        5.380952\n",
              "Gnar             5.022917\n",
              "Gragas           5.996212\n",
              "Graves           0.857143\n",
              "Gwen             4.608974\n",
              "Irelia           4.625000\n",
              "Jax              2.869792\n",
              "Jayce            4.857400\n",
              "K'Sante          4.250833\n",
              "Karma           10.000000\n",
              "Kennen           3.738776\n",
              "Lucian           1.375000\n",
              "Malphite         5.125000\n",
              "Maokai          13.000000\n",
              "Mordekaiser      0.200000\n",
              "Ornn             4.651190\n",
              "Poppy           10.000000\n",
              "Renekton         2.409722\n",
              "Rumble           6.218750\n",
              "Sejuani          6.200000\n",
              "Sion             5.560606\n",
              "Sylas            3.333333\n",
              "Tristana         1.500000\n",
              "Tryndamere       5.333333\n",
              "Twisted Fate     5.666667\n",
              "Udyr             4.500000\n",
              "Yasuo            5.500000\n",
              "Yone             5.448718\n",
              "Zac              3.700000\n",
              "Name: kda, dtype: float64"
            ],
            "text/html": [
              "<div>\n",
              "<style scoped>\n",
              "    .dataframe tbody tr th:only-of-type {\n",
              "        vertical-align: middle;\n",
              "    }\n",
              "\n",
              "    .dataframe tbody tr th {\n",
              "        vertical-align: top;\n",
              "    }\n",
              "\n",
              "    .dataframe thead th {\n",
              "        text-align: right;\n",
              "    }\n",
              "</style>\n",
              "<table border=\"1\" class=\"dataframe\">\n",
              "  <thead>\n",
              "    <tr style=\"text-align: right;\">\n",
              "      <th></th>\n",
              "      <th>kda</th>\n",
              "    </tr>\n",
              "    <tr>\n",
              "      <th>champion</th>\n",
              "      <th></th>\n",
              "    </tr>\n",
              "  </thead>\n",
              "  <tbody>\n",
              "    <tr>\n",
              "      <th>Aatrox</th>\n",
              "      <td>5.054630</td>\n",
              "    </tr>\n",
              "    <tr>\n",
              "      <th>Akali</th>\n",
              "      <td>14.000000</td>\n",
              "    </tr>\n",
              "    <tr>\n",
              "      <th>Camille</th>\n",
              "      <td>3.502083</td>\n",
              "    </tr>\n",
              "    <tr>\n",
              "      <th>Fiora</th>\n",
              "      <td>6.357143</td>\n",
              "    </tr>\n",
              "    <tr>\n",
              "      <th>Gangplank</th>\n",
              "      <td>5.380952</td>\n",
              "    </tr>\n",
              "    <tr>\n",
              "      <th>Gnar</th>\n",
              "      <td>5.022917</td>\n",
              "    </tr>\n",
              "    <tr>\n",
              "      <th>Gragas</th>\n",
              "      <td>5.996212</td>\n",
              "    </tr>\n",
              "    <tr>\n",
              "      <th>Graves</th>\n",
              "      <td>0.857143</td>\n",
              "    </tr>\n",
              "    <tr>\n",
              "      <th>Gwen</th>\n",
              "      <td>4.608974</td>\n",
              "    </tr>\n",
              "    <tr>\n",
              "      <th>Irelia</th>\n",
              "      <td>4.625000</td>\n",
              "    </tr>\n",
              "    <tr>\n",
              "      <th>Jax</th>\n",
              "      <td>2.869792</td>\n",
              "    </tr>\n",
              "    <tr>\n",
              "      <th>Jayce</th>\n",
              "      <td>4.857400</td>\n",
              "    </tr>\n",
              "    <tr>\n",
              "      <th>K'Sante</th>\n",
              "      <td>4.250833</td>\n",
              "    </tr>\n",
              "    <tr>\n",
              "      <th>Karma</th>\n",
              "      <td>10.000000</td>\n",
              "    </tr>\n",
              "    <tr>\n",
              "      <th>Kennen</th>\n",
              "      <td>3.738776</td>\n",
              "    </tr>\n",
              "    <tr>\n",
              "      <th>Lucian</th>\n",
              "      <td>1.375000</td>\n",
              "    </tr>\n",
              "    <tr>\n",
              "      <th>Malphite</th>\n",
              "      <td>5.125000</td>\n",
              "    </tr>\n",
              "    <tr>\n",
              "      <th>Maokai</th>\n",
              "      <td>13.000000</td>\n",
              "    </tr>\n",
              "    <tr>\n",
              "      <th>Mordekaiser</th>\n",
              "      <td>0.200000</td>\n",
              "    </tr>\n",
              "    <tr>\n",
              "      <th>Ornn</th>\n",
              "      <td>4.651190</td>\n",
              "    </tr>\n",
              "    <tr>\n",
              "      <th>Poppy</th>\n",
              "      <td>10.000000</td>\n",
              "    </tr>\n",
              "    <tr>\n",
              "      <th>Renekton</th>\n",
              "      <td>2.409722</td>\n",
              "    </tr>\n",
              "    <tr>\n",
              "      <th>Rumble</th>\n",
              "      <td>6.218750</td>\n",
              "    </tr>\n",
              "    <tr>\n",
              "      <th>Sejuani</th>\n",
              "      <td>6.200000</td>\n",
              "    </tr>\n",
              "    <tr>\n",
              "      <th>Sion</th>\n",
              "      <td>5.560606</td>\n",
              "    </tr>\n",
              "    <tr>\n",
              "      <th>Sylas</th>\n",
              "      <td>3.333333</td>\n",
              "    </tr>\n",
              "    <tr>\n",
              "      <th>Tristana</th>\n",
              "      <td>1.500000</td>\n",
              "    </tr>\n",
              "    <tr>\n",
              "      <th>Tryndamere</th>\n",
              "      <td>5.333333</td>\n",
              "    </tr>\n",
              "    <tr>\n",
              "      <th>Twisted Fate</th>\n",
              "      <td>5.666667</td>\n",
              "    </tr>\n",
              "    <tr>\n",
              "      <th>Udyr</th>\n",
              "      <td>4.500000</td>\n",
              "    </tr>\n",
              "    <tr>\n",
              "      <th>Yasuo</th>\n",
              "      <td>5.500000</td>\n",
              "    </tr>\n",
              "    <tr>\n",
              "      <th>Yone</th>\n",
              "      <td>5.448718</td>\n",
              "    </tr>\n",
              "    <tr>\n",
              "      <th>Zac</th>\n",
              "      <td>3.700000</td>\n",
              "    </tr>\n",
              "  </tbody>\n",
              "</table>\n",
              "</div><br><label><b>dtype:</b> float64</label>"
            ]
          },
          "metadata": {},
          "execution_count": 53
        }
      ]
    },
    {
      "cell_type": "code",
      "source": [
        "def calculate_win_rate_by_kda(df):\n",
        "    # Group by player and calculate average KDA and win rate\n",
        "    player_stats = df.groupby('playername').agg({'kda': 'mean', 'result': 'mean'})\n",
        "    player_stats = player_stats.rename(columns={'result': 'win_rate'})\n",
        "    return player_stats\n",
        "\n",
        "player_win_rates = calculate_win_rate_by_kda(train_ft)\n",
        "player_win_rates"
      ],
      "metadata": {
        "colab": {
          "base_uri": "https://localhost:8080/",
          "height": 455
        },
        "id": "sYzZw8vHkgpZ",
        "outputId": "8781136d-45de-4b6d-a604-ffeac843e8b5"
      },
      "execution_count": 56,
      "outputs": [
        {
          "output_type": "execute_result",
          "data": {
            "text/plain": [
              "                 kda  win_rate\n",
              "playername                    \n",
              "1116        6.874500  0.600000\n",
              "113         4.121457  0.404762\n",
              "1Jiang      4.743561  0.590909\n",
              "1ssue       3.504762  0.285714\n",
              "2T          3.108931  0.352273\n",
              "...              ...       ...\n",
              "xiaotu      1.766387  0.102564\n",
              "xyno        1.616071  0.125000\n",
              "yjy         2.204630  0.166667\n",
              "zay         5.840799  0.468750\n",
              "zorenous    0.937500  0.000000\n",
              "\n",
              "[759 rows x 2 columns]"
            ],
            "text/html": [
              "\n",
              "  <div id=\"df-58a41ef7-b64d-4619-82e7-e41c546176f2\" class=\"colab-df-container\">\n",
              "    <div>\n",
              "<style scoped>\n",
              "    .dataframe tbody tr th:only-of-type {\n",
              "        vertical-align: middle;\n",
              "    }\n",
              "\n",
              "    .dataframe tbody tr th {\n",
              "        vertical-align: top;\n",
              "    }\n",
              "\n",
              "    .dataframe thead th {\n",
              "        text-align: right;\n",
              "    }\n",
              "</style>\n",
              "<table border=\"1\" class=\"dataframe\">\n",
              "  <thead>\n",
              "    <tr style=\"text-align: right;\">\n",
              "      <th></th>\n",
              "      <th>kda</th>\n",
              "      <th>win_rate</th>\n",
              "    </tr>\n",
              "    <tr>\n",
              "      <th>playername</th>\n",
              "      <th></th>\n",
              "      <th></th>\n",
              "    </tr>\n",
              "  </thead>\n",
              "  <tbody>\n",
              "    <tr>\n",
              "      <th>1116</th>\n",
              "      <td>6.874500</td>\n",
              "      <td>0.600000</td>\n",
              "    </tr>\n",
              "    <tr>\n",
              "      <th>113</th>\n",
              "      <td>4.121457</td>\n",
              "      <td>0.404762</td>\n",
              "    </tr>\n",
              "    <tr>\n",
              "      <th>1Jiang</th>\n",
              "      <td>4.743561</td>\n",
              "      <td>0.590909</td>\n",
              "    </tr>\n",
              "    <tr>\n",
              "      <th>1ssue</th>\n",
              "      <td>3.504762</td>\n",
              "      <td>0.285714</td>\n",
              "    </tr>\n",
              "    <tr>\n",
              "      <th>2T</th>\n",
              "      <td>3.108931</td>\n",
              "      <td>0.352273</td>\n",
              "    </tr>\n",
              "    <tr>\n",
              "      <th>...</th>\n",
              "      <td>...</td>\n",
              "      <td>...</td>\n",
              "    </tr>\n",
              "    <tr>\n",
              "      <th>xiaotu</th>\n",
              "      <td>1.766387</td>\n",
              "      <td>0.102564</td>\n",
              "    </tr>\n",
              "    <tr>\n",
              "      <th>xyno</th>\n",
              "      <td>1.616071</td>\n",
              "      <td>0.125000</td>\n",
              "    </tr>\n",
              "    <tr>\n",
              "      <th>yjy</th>\n",
              "      <td>2.204630</td>\n",
              "      <td>0.166667</td>\n",
              "    </tr>\n",
              "    <tr>\n",
              "      <th>zay</th>\n",
              "      <td>5.840799</td>\n",
              "      <td>0.468750</td>\n",
              "    </tr>\n",
              "    <tr>\n",
              "      <th>zorenous</th>\n",
              "      <td>0.937500</td>\n",
              "      <td>0.000000</td>\n",
              "    </tr>\n",
              "  </tbody>\n",
              "</table>\n",
              "<p>759 rows × 2 columns</p>\n",
              "</div>\n",
              "    <div class=\"colab-df-buttons\">\n",
              "\n",
              "  <div class=\"colab-df-container\">\n",
              "    <button class=\"colab-df-convert\" onclick=\"convertToInteractive('df-58a41ef7-b64d-4619-82e7-e41c546176f2')\"\n",
              "            title=\"Convert this dataframe to an interactive table.\"\n",
              "            style=\"display:none;\">\n",
              "\n",
              "  <svg xmlns=\"http://www.w3.org/2000/svg\" height=\"24px\" viewBox=\"0 -960 960 960\">\n",
              "    <path d=\"M120-120v-720h720v720H120Zm60-500h600v-160H180v160Zm220 220h160v-160H400v160Zm0 220h160v-160H400v160ZM180-400h160v-160H180v160Zm440 0h160v-160H620v160ZM180-180h160v-160H180v160Zm440 0h160v-160H620v160Z\"/>\n",
              "  </svg>\n",
              "    </button>\n",
              "\n",
              "  <style>\n",
              "    .colab-df-container {\n",
              "      display:flex;\n",
              "      gap: 12px;\n",
              "    }\n",
              "\n",
              "    .colab-df-convert {\n",
              "      background-color: #E8F0FE;\n",
              "      border: none;\n",
              "      border-radius: 50%;\n",
              "      cursor: pointer;\n",
              "      display: none;\n",
              "      fill: #1967D2;\n",
              "      height: 32px;\n",
              "      padding: 0 0 0 0;\n",
              "      width: 32px;\n",
              "    }\n",
              "\n",
              "    .colab-df-convert:hover {\n",
              "      background-color: #E2EBFA;\n",
              "      box-shadow: 0px 1px 2px rgba(60, 64, 67, 0.3), 0px 1px 3px 1px rgba(60, 64, 67, 0.15);\n",
              "      fill: #174EA6;\n",
              "    }\n",
              "\n",
              "    .colab-df-buttons div {\n",
              "      margin-bottom: 4px;\n",
              "    }\n",
              "\n",
              "    [theme=dark] .colab-df-convert {\n",
              "      background-color: #3B4455;\n",
              "      fill: #D2E3FC;\n",
              "    }\n",
              "\n",
              "    [theme=dark] .colab-df-convert:hover {\n",
              "      background-color: #434B5C;\n",
              "      box-shadow: 0px 1px 3px 1px rgba(0, 0, 0, 0.15);\n",
              "      filter: drop-shadow(0px 1px 2px rgba(0, 0, 0, 0.3));\n",
              "      fill: #FFFFFF;\n",
              "    }\n",
              "  </style>\n",
              "\n",
              "    <script>\n",
              "      const buttonEl =\n",
              "        document.querySelector('#df-58a41ef7-b64d-4619-82e7-e41c546176f2 button.colab-df-convert');\n",
              "      buttonEl.style.display =\n",
              "        google.colab.kernel.accessAllowed ? 'block' : 'none';\n",
              "\n",
              "      async function convertToInteractive(key) {\n",
              "        const element = document.querySelector('#df-58a41ef7-b64d-4619-82e7-e41c546176f2');\n",
              "        const dataTable =\n",
              "          await google.colab.kernel.invokeFunction('convertToInteractive',\n",
              "                                                    [key], {});\n",
              "        if (!dataTable) return;\n",
              "\n",
              "        const docLinkHtml = 'Like what you see? Visit the ' +\n",
              "          '<a target=\"_blank\" href=https://colab.research.google.com/notebooks/data_table.ipynb>data table notebook</a>'\n",
              "          + ' to learn more about interactive tables.';\n",
              "        element.innerHTML = '';\n",
              "        dataTable['output_type'] = 'display_data';\n",
              "        await google.colab.output.renderOutput(dataTable, element);\n",
              "        const docLink = document.createElement('div');\n",
              "        docLink.innerHTML = docLinkHtml;\n",
              "        element.appendChild(docLink);\n",
              "      }\n",
              "    </script>\n",
              "  </div>\n",
              "\n",
              "\n",
              "<div id=\"df-7cf11288-c6cb-427c-98d4-8a70a04d76c9\">\n",
              "  <button class=\"colab-df-quickchart\" onclick=\"quickchart('df-7cf11288-c6cb-427c-98d4-8a70a04d76c9')\"\n",
              "            title=\"Suggest charts\"\n",
              "            style=\"display:none;\">\n",
              "\n",
              "<svg xmlns=\"http://www.w3.org/2000/svg\" height=\"24px\"viewBox=\"0 0 24 24\"\n",
              "     width=\"24px\">\n",
              "    <g>\n",
              "        <path d=\"M19 3H5c-1.1 0-2 .9-2 2v14c0 1.1.9 2 2 2h14c1.1 0 2-.9 2-2V5c0-1.1-.9-2-2-2zM9 17H7v-7h2v7zm4 0h-2V7h2v10zm4 0h-2v-4h2v4z\"/>\n",
              "    </g>\n",
              "</svg>\n",
              "  </button>\n",
              "\n",
              "<style>\n",
              "  .colab-df-quickchart {\n",
              "      --bg-color: #E8F0FE;\n",
              "      --fill-color: #1967D2;\n",
              "      --hover-bg-color: #E2EBFA;\n",
              "      --hover-fill-color: #174EA6;\n",
              "      --disabled-fill-color: #AAA;\n",
              "      --disabled-bg-color: #DDD;\n",
              "  }\n",
              "\n",
              "  [theme=dark] .colab-df-quickchart {\n",
              "      --bg-color: #3B4455;\n",
              "      --fill-color: #D2E3FC;\n",
              "      --hover-bg-color: #434B5C;\n",
              "      --hover-fill-color: #FFFFFF;\n",
              "      --disabled-bg-color: #3B4455;\n",
              "      --disabled-fill-color: #666;\n",
              "  }\n",
              "\n",
              "  .colab-df-quickchart {\n",
              "    background-color: var(--bg-color);\n",
              "    border: none;\n",
              "    border-radius: 50%;\n",
              "    cursor: pointer;\n",
              "    display: none;\n",
              "    fill: var(--fill-color);\n",
              "    height: 32px;\n",
              "    padding: 0;\n",
              "    width: 32px;\n",
              "  }\n",
              "\n",
              "  .colab-df-quickchart:hover {\n",
              "    background-color: var(--hover-bg-color);\n",
              "    box-shadow: 0 1px 2px rgba(60, 64, 67, 0.3), 0 1px 3px 1px rgba(60, 64, 67, 0.15);\n",
              "    fill: var(--button-hover-fill-color);\n",
              "  }\n",
              "\n",
              "  .colab-df-quickchart-complete:disabled,\n",
              "  .colab-df-quickchart-complete:disabled:hover {\n",
              "    background-color: var(--disabled-bg-color);\n",
              "    fill: var(--disabled-fill-color);\n",
              "    box-shadow: none;\n",
              "  }\n",
              "\n",
              "  .colab-df-spinner {\n",
              "    border: 2px solid var(--fill-color);\n",
              "    border-color: transparent;\n",
              "    border-bottom-color: var(--fill-color);\n",
              "    animation:\n",
              "      spin 1s steps(1) infinite;\n",
              "  }\n",
              "\n",
              "  @keyframes spin {\n",
              "    0% {\n",
              "      border-color: transparent;\n",
              "      border-bottom-color: var(--fill-color);\n",
              "      border-left-color: var(--fill-color);\n",
              "    }\n",
              "    20% {\n",
              "      border-color: transparent;\n",
              "      border-left-color: var(--fill-color);\n",
              "      border-top-color: var(--fill-color);\n",
              "    }\n",
              "    30% {\n",
              "      border-color: transparent;\n",
              "      border-left-color: var(--fill-color);\n",
              "      border-top-color: var(--fill-color);\n",
              "      border-right-color: var(--fill-color);\n",
              "    }\n",
              "    40% {\n",
              "      border-color: transparent;\n",
              "      border-right-color: var(--fill-color);\n",
              "      border-top-color: var(--fill-color);\n",
              "    }\n",
              "    60% {\n",
              "      border-color: transparent;\n",
              "      border-right-color: var(--fill-color);\n",
              "    }\n",
              "    80% {\n",
              "      border-color: transparent;\n",
              "      border-right-color: var(--fill-color);\n",
              "      border-bottom-color: var(--fill-color);\n",
              "    }\n",
              "    90% {\n",
              "      border-color: transparent;\n",
              "      border-bottom-color: var(--fill-color);\n",
              "    }\n",
              "  }\n",
              "</style>\n",
              "\n",
              "  <script>\n",
              "    async function quickchart(key) {\n",
              "      const quickchartButtonEl =\n",
              "        document.querySelector('#' + key + ' button');\n",
              "      quickchartButtonEl.disabled = true;  // To prevent multiple clicks.\n",
              "      quickchartButtonEl.classList.add('colab-df-spinner');\n",
              "      try {\n",
              "        const charts = await google.colab.kernel.invokeFunction(\n",
              "            'suggestCharts', [key], {});\n",
              "      } catch (error) {\n",
              "        console.error('Error during call to suggestCharts:', error);\n",
              "      }\n",
              "      quickchartButtonEl.classList.remove('colab-df-spinner');\n",
              "      quickchartButtonEl.classList.add('colab-df-quickchart-complete');\n",
              "    }\n",
              "    (() => {\n",
              "      let quickchartButtonEl =\n",
              "        document.querySelector('#df-7cf11288-c6cb-427c-98d4-8a70a04d76c9 button');\n",
              "      quickchartButtonEl.style.display =\n",
              "        google.colab.kernel.accessAllowed ? 'block' : 'none';\n",
              "    })();\n",
              "  </script>\n",
              "</div>\n",
              "\n",
              "  <div id=\"id_2743f04a-cb6c-4feb-9c7f-ad136c970f80\">\n",
              "    <style>\n",
              "      .colab-df-generate {\n",
              "        background-color: #E8F0FE;\n",
              "        border: none;\n",
              "        border-radius: 50%;\n",
              "        cursor: pointer;\n",
              "        display: none;\n",
              "        fill: #1967D2;\n",
              "        height: 32px;\n",
              "        padding: 0 0 0 0;\n",
              "        width: 32px;\n",
              "      }\n",
              "\n",
              "      .colab-df-generate:hover {\n",
              "        background-color: #E2EBFA;\n",
              "        box-shadow: 0px 1px 2px rgba(60, 64, 67, 0.3), 0px 1px 3px 1px rgba(60, 64, 67, 0.15);\n",
              "        fill: #174EA6;\n",
              "      }\n",
              "\n",
              "      [theme=dark] .colab-df-generate {\n",
              "        background-color: #3B4455;\n",
              "        fill: #D2E3FC;\n",
              "      }\n",
              "\n",
              "      [theme=dark] .colab-df-generate:hover {\n",
              "        background-color: #434B5C;\n",
              "        box-shadow: 0px 1px 3px 1px rgba(0, 0, 0, 0.15);\n",
              "        filter: drop-shadow(0px 1px 2px rgba(0, 0, 0, 0.3));\n",
              "        fill: #FFFFFF;\n",
              "      }\n",
              "    </style>\n",
              "    <button class=\"colab-df-generate\" onclick=\"generateWithVariable('player_win_rates')\"\n",
              "            title=\"Generate code using this dataframe.\"\n",
              "            style=\"display:none;\">\n",
              "\n",
              "  <svg xmlns=\"http://www.w3.org/2000/svg\" height=\"24px\"viewBox=\"0 0 24 24\"\n",
              "       width=\"24px\">\n",
              "    <path d=\"M7,19H8.4L18.45,9,17,7.55,7,17.6ZM5,21V16.75L18.45,3.32a2,2,0,0,1,2.83,0l1.4,1.43a1.91,1.91,0,0,1,.58,1.4,1.91,1.91,0,0,1-.58,1.4L9.25,21ZM18.45,9,17,7.55Zm-12,3A5.31,5.31,0,0,0,4.9,8.1,5.31,5.31,0,0,0,1,6.5,5.31,5.31,0,0,0,4.9,4.9,5.31,5.31,0,0,0,6.5,1,5.31,5.31,0,0,0,8.1,4.9,5.31,5.31,0,0,0,12,6.5,5.46,5.46,0,0,0,6.5,12Z\"/>\n",
              "  </svg>\n",
              "    </button>\n",
              "    <script>\n",
              "      (() => {\n",
              "      const buttonEl =\n",
              "        document.querySelector('#id_2743f04a-cb6c-4feb-9c7f-ad136c970f80 button.colab-df-generate');\n",
              "      buttonEl.style.display =\n",
              "        google.colab.kernel.accessAllowed ? 'block' : 'none';\n",
              "\n",
              "      buttonEl.onclick = () => {\n",
              "        google.colab.notebook.generateWithVariable('player_win_rates');\n",
              "      }\n",
              "      })();\n",
              "    </script>\n",
              "  </div>\n",
              "\n",
              "    </div>\n",
              "  </div>\n"
            ],
            "application/vnd.google.colaboratory.intrinsic+json": {
              "type": "dataframe",
              "variable_name": "player_win_rates",
              "summary": "{\n  \"name\": \"player_win_rates\",\n  \"rows\": 759,\n  \"fields\": [\n    {\n      \"column\": \"playername\",\n      \"properties\": {\n        \"dtype\": \"string\",\n        \"num_unique_values\": 759,\n        \"samples\": [\n          \"Long\",\n          \"Rby\",\n          \"Cabochard\"\n        ],\n        \"semantic_type\": \"\",\n        \"description\": \"\"\n      }\n    },\n    {\n      \"column\": \"kda\",\n      \"properties\": {\n        \"dtype\": \"number\",\n        \"std\": 1.7759107421941753,\n        \"min\": 0.0,\n        \"max\": 9.75,\n        \"num_unique_values\": 749,\n        \"samples\": [\n          3.8854808590102707,\n          4.29123112659698,\n          5.140168970814132\n        ],\n        \"semantic_type\": \"\",\n        \"description\": \"\"\n      }\n    },\n    {\n      \"column\": \"win_rate\",\n      \"properties\": {\n        \"dtype\": \"number\",\n        \"std\": 0.2070042734357631,\n        \"min\": 0.0,\n        \"max\": 1.0,\n        \"num_unique_values\": 408,\n        \"samples\": [\n          0.35714285714285715,\n          0.7280701754385965,\n          0.4578313253012048\n        ],\n        \"semantic_type\": \"\",\n        \"description\": \"\"\n      }\n    }\n  ]\n}"
            }
          },
          "metadata": {},
          "execution_count": 56
        }
      ]
    },
    {
      "cell_type": "code",
      "source": [],
      "metadata": {
        "id": "N7lZkZyip466"
      },
      "execution_count": null,
      "outputs": []
    }
  ]
}