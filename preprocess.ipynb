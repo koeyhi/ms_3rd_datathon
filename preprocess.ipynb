{
 "cells": [
  {
   "cell_type": "code",
   "execution_count": 29,
   "metadata": {},
   "outputs": [
    {
     "name": "stdout",
     "output_type": "stream",
     "text": [
      "                  gameid league  year   split  playoffs                 date  \\\n",
      "0  ESPORTSTMNT01_2690210   LCKC  2022  Spring         0  2022-01-10 07:44:08   \n",
      "1  ESPORTSTMNT01_2690210   LCKC  2022  Spring         0  2022-01-10 07:44:08   \n",
      "2  ESPORTSTMNT01_2690210   LCKC  2022  Spring         0  2022-01-10 07:44:08   \n",
      "3  ESPORTSTMNT01_2690210   LCKC  2022  Spring         0  2022-01-10 07:44:08   \n",
      "4  ESPORTSTMNT01_2690210   LCKC  2022  Spring         0  2022-01-10 07:44:08   \n",
      "\n",
      "   game  patch  participantid  side  ... opp_csat25 golddiffat25 xpdiffat25  \\\n",
      "0     1  12.01              1  Blue  ...        NaN          NaN        NaN   \n",
      "1     1  12.01              2  Blue  ...        NaN          NaN        NaN   \n",
      "2     1  12.01              3  Blue  ...        NaN          NaN        NaN   \n",
      "3     1  12.01              4  Blue  ...        NaN          NaN        NaN   \n",
      "4     1  12.01              5  Blue  ...        NaN          NaN        NaN   \n",
      "\n",
      "  csdiffat25 killsat25 assistsat25 deathsat25 opp_killsat25 opp_assistsat25  \\\n",
      "0        NaN       NaN         NaN        NaN           NaN             NaN   \n",
      "1        NaN       NaN         NaN        NaN           NaN             NaN   \n",
      "2        NaN       NaN         NaN        NaN           NaN             NaN   \n",
      "3        NaN       NaN         NaN        NaN           NaN             NaN   \n",
      "4        NaN       NaN         NaN        NaN           NaN             NaN   \n",
      "\n",
      "  opp_deathsat25  \n",
      "0            NaN  \n",
      "1            NaN  \n",
      "2            NaN  \n",
      "3            NaN  \n",
      "4            NaN  \n",
      "\n",
      "[5 rows x 159 columns]\n",
      "333420\n"
     ]
    }
   ],
   "source": [
    "import pandas as pd\n",
    "import glob\n",
    "\n",
    "path = \"LoLesports_data\"\n",
    "\n",
    "all_files = glob.glob(path + \"/*.csv\")\n",
    "\n",
    "df_list = []\n",
    "\n",
    "for file in all_files[-3:]:\n",
    "    temp_df = pd.read_csv(file, low_memory=False)\n",
    "    df_list.append(temp_df)\n",
    "\n",
    "df = pd.concat(df_list, ignore_index=True)\n",
    "df = df[df[\"datacompleteness\"] == \"complete\"]\n",
    "df.drop(columns=[\"datacompleteness\", \"url\"], inplace=True)\n",
    "\n",
    "print(df.head())\n",
    "print(len(df))"
   ]
  },
  {
   "cell_type": "code",
   "execution_count": 30,
   "metadata": {},
   "outputs": [
    {
     "name": "stdout",
     "output_type": "stream",
     "text": [
      "<class 'pandas.core.frame.DataFrame'>\n",
      "Index: 333420 entries, 0 to 392447\n",
      "Columns: 159 entries, gameid to opp_deathsat25\n",
      "dtypes: float64(126), int64(12), object(21)\n",
      "memory usage: 407.0+ MB\n"
     ]
    }
   ],
   "source": [
    "df.info()"
   ]
  },
  {
   "cell_type": "markdown",
   "metadata": {},
   "source": [
    "- 팀, 선수 데이터 분리"
   ]
  },
  {
   "cell_type": "code",
   "execution_count": 31,
   "metadata": {},
   "outputs": [
    {
     "data": {
      "text/plain": [
       "((55570, 159), (277850, 159))"
      ]
     },
     "execution_count": 31,
     "metadata": {},
     "output_type": "execute_result"
    }
   ],
   "source": [
    "teams = df[df[\"position\"] == \"team\"].reset_index(drop=True)\n",
    "players = df[df[\"position\"] != \"team\"].reset_index(drop=True)\n",
    "\n",
    "teams.shape, players.shape"
   ]
  },
  {
   "cell_type": "markdown",
   "metadata": {},
   "source": [
    "- 팀 데이터 결측치 처리"
   ]
  },
  {
   "cell_type": "code",
   "execution_count": 5,
   "metadata": {},
   "outputs": [],
   "source": [
    "drop_teams_cols = [\n",
    "    \"playername\",\n",
    "    \"playerid\",\n",
    "    \"position\",\n",
    "    \"champion\",\n",
    "    \"firstbloodkill\",\n",
    "    \"firstbloodassist\",\n",
    "    \"firstbloodvictim\",\n",
    "    \"damageshare\",\n",
    "    \"dragons (type unknown)\",\n",
    "    \"earnedgoldshare\",\n",
    "    \"total cs\",\n",
    "    \"goldat20\",\n",
    "    \"xpat20\",\n",
    "    \"csat20\",\n",
    "    \"opp_goldat20\",\n",
    "    \"opp_xpat20\",\n",
    "    \"opp_csat20\",\n",
    "    \"golddiffat20\",\n",
    "    \"xpdiffat20\",\n",
    "    \"csdiffat20\",\n",
    "    \"killsat20\",\n",
    "    \"assistsat20\",\n",
    "    \"deathsat20\",\n",
    "    \"opp_killsat20\",\n",
    "    \"opp_assistsat20\",\n",
    "    \"opp_deathsat20\",\n",
    "    \"goldat25\",\n",
    "    \"xpat25\",\n",
    "    \"csat25\",\n",
    "    \"opp_goldat25\",\n",
    "    \"opp_xpat25\",\n",
    "    \"opp_csat25\",\n",
    "    \"golddiffat25\",\n",
    "    \"xpdiffat25\",\n",
    "    \"csdiffat25\",\n",
    "    \"killsat25\",\n",
    "    \"assistsat25\",\n",
    "    \"deathsat25\",\n",
    "    \"opp_killsat25\",\n",
    "    \"opp_assistsat25\",\n",
    "    \"opp_deathsat25\",\n",
    "    \"monsterkillsownjungle\",\n",
    "    \"monsterkillsenemyjungle\",\n",
    "]\n",
    "\n",
    "fill_zero_cols = [\n",
    "    \"game\",\n",
    "    \"elementaldrakes\",\n",
    "    \"opp_elementaldrakes\",\n",
    "    \"chemtechs\",\n",
    "    \"hextechs\",\n",
    "    \"void_grubs\",\n",
    "    \"opp_void_grubs\",\n",
    "    \"turretplates\",\n",
    "    \"opp_turretplates\",\n",
    "    \"quadrakills\",\n",
    "    \"pentakills\",\n",
    "    \"heralds\",\n",
    "    \"opp_heralds\",\n",
    "    \"firstblood\",\n",
    "    \"firstdragon\",\n",
    "    \"dragons\",\n",
    "    \"opp_dragons\",\n",
    "    \"infernals\",\n",
    "    \"mountains\",\n",
    "    \"clouds\",\n",
    "    \"oceans\",\n",
    "    \"elders\",\n",
    "    \"opp_elders\",\n",
    "    \"firstherald\",\n",
    "    \"firstbaron\",\n",
    "    \"barons\",\n",
    "    \"opp_barons\",\n",
    "    \"firsttower\",\n",
    "    \"firstmidtower\",\n",
    "    \"inhibitors\",\n",
    "    \"opp_inhibitors\",\n",
    "]\n",
    "\n",
    "fill_unknown_cols = [\n",
    "    \"gameid\",\n",
    "    \"teamname\",\n",
    "    \"teamid\",\n",
    "    \"ban1\",\n",
    "    \"ban2\",\n",
    "    \"ban3\",\n",
    "    \"ban4\",\n",
    "    \"ban5\",\n",
    "    \"pick1\",\n",
    "    \"pick2\",\n",
    "    \"pick3\",\n",
    "    \"pick4\",\n",
    "    \"pick5\",\n",
    "    \"split\",\n",
    "]\n",
    "\n",
    "tmp = teams.drop(columns=drop_teams_cols)\n",
    "tmp[fill_zero_cols] = tmp[fill_zero_cols].fillna(0)\n",
    "tmp[fill_unknown_cols] = tmp[fill_unknown_cols].fillna(\"unknown\")"
   ]
  },
  {
   "cell_type": "code",
   "execution_count": 6,
   "metadata": {},
   "outputs": [],
   "source": [
    "missing_columns = tmp.columns[tmp.isnull().sum() > 0]\n",
    "means = teams.groupby(\"teamid\")[missing_columns].mean()\n",
    "\n",
    "for col in missing_columns:\n",
    "    total_mean = teams[col].mean()\n",
    "    \n",
    "    tmp[col] = tmp.apply(\n",
    "        lambda row: (\n",
    "            means.loc[row['teamid'], col] \n",
    "            if row['teamid'] in means.index and not pd.isnull(means.loc[row['teamid'], col])\n",
    "            else total_mean\n",
    "        ) if pd.isnull(row[col]) else row[col],\n",
    "        axis=1\n",
    "    )"
   ]
  },
  {
   "cell_type": "code",
   "execution_count": 7,
   "metadata": {},
   "outputs": [
    {
     "data": {
      "text/plain": [
       "0"
      ]
     },
     "execution_count": 7,
     "metadata": {},
     "output_type": "execute_result"
    }
   ],
   "source": [
    "tmp.isnull().sum().sum()"
   ]
  },
  {
   "cell_type": "code",
   "execution_count": 8,
   "metadata": {},
   "outputs": [
    {
     "data": {
      "text/plain": [
       "(55570, 117)"
      ]
     },
     "execution_count": 8,
     "metadata": {},
     "output_type": "execute_result"
    }
   ],
   "source": [
    "teams = tmp\n",
    "teams.shape"
   ]
  },
  {
   "cell_type": "markdown",
   "metadata": {},
   "source": [
    "- 선수 데이터 결측치 처리"
   ]
  },
  {
   "cell_type": "code",
   "execution_count": 9,
   "metadata": {},
   "outputs": [
    {
     "data": {
      "text/plain": [
       "(277850, 159)"
      ]
     },
     "execution_count": 9,
     "metadata": {},
     "output_type": "execute_result"
    }
   ],
   "source": [
    "players.shape"
   ]
  },
  {
   "cell_type": "code",
   "execution_count": 10,
   "metadata": {},
   "outputs": [],
   "source": [
    "drop_players_cols = [\n",
    "    \"pick1\",\n",
    "    \"pick2\",\n",
    "    \"pick3\",\n",
    "    \"pick4\",\n",
    "    \"pick5\",\n",
    "    \"firstdragon\",\n",
    "    \"dragons\",\n",
    "    \"opp_dragons\",\n",
    "    \"dragons (type unknown)\",\n",
    "    \"elementaldrakes\",\n",
    "    \"opp_elementaldrakes\",\n",
    "    \"infernals\",\n",
    "    \"mountains\",\n",
    "    \"clouds\",\n",
    "    \"oceans\",\n",
    "    \"chemtechs\",\n",
    "    \"hextechs\",\n",
    "    \"elders\",\n",
    "    \"opp_elders\",\n",
    "    \"firstherald\",\n",
    "    \"heralds\",\n",
    "    \"opp_heralds\",\n",
    "    \"void_grubs\",\n",
    "    \"opp_void_grubs\",\n",
    "    \"firstbaron\",\n",
    "    \"firsttower\",\n",
    "    \"towers\",\n",
    "    \"opp_towers\",\n",
    "    \"firstmidtower\",\n",
    "    \"firsttothreetowers\",\n",
    "    \"turretplates\",\n",
    "    \"opp_turretplates\",\n",
    "    \"gspd\",\n",
    "    \"gpr\",\n",
    "    \"goldat20\",\n",
    "    \"xpat20\",\n",
    "    \"csat20\",\n",
    "    \"opp_goldat20\",\n",
    "    \"opp_xpat20\",\n",
    "    \"opp_csat20\",\n",
    "    \"golddiffat20\",\n",
    "    \"xpdiffat20\",\n",
    "    \"csdiffat20\",\n",
    "    \"killsat20\",\n",
    "    \"assistsat20\",\n",
    "    \"deathsat20\",\n",
    "    \"opp_killsat20\",\n",
    "    \"opp_assistsat20\",\n",
    "    \"opp_deathsat20\",\n",
    "    \"goldat25\",\n",
    "    \"xpat25\",\n",
    "    \"csat25\",\n",
    "    \"opp_goldat25\",\n",
    "    \"opp_xpat25\",\n",
    "    \"opp_csat25\",\n",
    "    \"golddiffat25\",\n",
    "    \"xpdiffat25\",\n",
    "    \"csdiffat25\",\n",
    "    \"killsat25\",\n",
    "    \"assistsat25\",\n",
    "    \"deathsat25\",\n",
    "    \"opp_killsat25\",\n",
    "    \"opp_assistsat25\",\n",
    "    \"opp_deathsat25\",\n",
    "    \"monsterkillsownjungle\",\n",
    "    \"monsterkillsenemyjungle\",\n",
    "]\n",
    "\n",
    "fill_zero_cols = [\n",
    "    \"game\",\n",
    "    \"barons\",\n",
    "    \"opp_barons\",\n",
    "    \"quadrakills\",\n",
    "    \"pentakills\",\n",
    "    \"firstblood\",\n",
    "    \"firstbloodkill\",\n",
    "    \"firstbloodassist\",\n",
    "    \"firstbloodvictim\",\n",
    "    \"inhibitors\",\n",
    "    \"opp_inhibitors\",\n",
    "]\n",
    "\n",
    "fill_unknown_cols = [\n",
    "    \"split\",\n",
    "    \"ban1\",\n",
    "    \"ban2\",\n",
    "    \"ban3\",\n",
    "    \"ban4\",\n",
    "    \"ban5\",\n",
    "    \"gameid\",\n",
    "    \"playername\",\n",
    "    \"playerid\",\n",
    "    \"teamname\",\n",
    "    \"teamid\",\n",
    "]\n",
    "\n",
    "tmp = players.drop(columns=drop_players_cols)\n",
    "tmp[fill_zero_cols] = tmp[fill_zero_cols].fillna(0)\n",
    "tmp[fill_unknown_cols] = tmp[fill_unknown_cols].fillna(\"unknown\")"
   ]
  },
  {
   "cell_type": "code",
   "execution_count": 11,
   "metadata": {},
   "outputs": [],
   "source": [
    "missing_columns = tmp.columns[tmp.isnull().sum() > 0]\n",
    "means = players.groupby(\"playerid\")[missing_columns].mean()\n",
    "\n",
    "for col in missing_columns:\n",
    "    total_mean = players[col].mean()\n",
    "    \n",
    "    tmp[col] = tmp.apply(\n",
    "        lambda row: (\n",
    "            means.loc[row['playerid'], col]\n",
    "            if row['playerid'] in means.index and not pd.isnull(means.loc[row['playerid'], col])\n",
    "            else total_mean\n",
    "        ) if pd.isnull(row[col]) else row[col],\n",
    "        axis=1\n",
    "    )"
   ]
  },
  {
   "cell_type": "code",
   "execution_count": 12,
   "metadata": {},
   "outputs": [
    {
     "data": {
      "text/plain": [
       "0"
      ]
     },
     "execution_count": 12,
     "metadata": {},
     "output_type": "execute_result"
    }
   ],
   "source": [
    "tmp.isna().sum().sum()"
   ]
  },
  {
   "cell_type": "code",
   "execution_count": 13,
   "metadata": {},
   "outputs": [
    {
     "data": {
      "text/plain": [
       "(277850, 94)"
      ]
     },
     "execution_count": 13,
     "metadata": {},
     "output_type": "execute_result"
    }
   ],
   "source": [
    "players = tmp\n",
    "players.shape"
   ]
  },
  {
   "cell_type": "markdown",
   "metadata": {},
   "source": [
    "- 상대 팀 추가"
   ]
  },
  {
   "cell_type": "code",
   "execution_count": 14,
   "metadata": {},
   "outputs": [],
   "source": [
    "temp_opp_teams = teams.groupby(\"gameid\")[\"teamid\"].transform(lambda x: x.iloc[::-1].values).to_frame(\"opp_teamid\")\n",
    "teams = pd.concat([teams, temp_opp_teams], axis=1)\n",
    "\n",
    "temp_opp_players = players.groupby(\"gameid\")[\"teamid\"].transform(lambda x: x.iloc[::-1].values).to_frame(\"opp_teamid\")\n",
    "players = pd.concat([players, temp_opp_players], axis=1)"
   ]
  },
  {
   "cell_type": "markdown",
   "metadata": {},
   "source": [
    "- 날짜 추가"
   ]
  },
  {
   "cell_type": "code",
   "execution_count": 15,
   "metadata": {},
   "outputs": [],
   "source": [
    "teams[\"date\"] = pd.to_datetime(teams[\"date\"])\n",
    "players[\"date\"] = pd.to_datetime(players[\"date\"])\n",
    "\n",
    "teams[\"year\"] = teams[\"date\"].dt.year\n",
    "teams[\"month\"] = teams[\"date\"].dt.month\n",
    "teams[\"day\"] = teams[\"date\"].dt.day\n",
    "\n",
    "players[\"year\"] = players[\"date\"].dt.year\n",
    "players[\"month\"] = players[\"date\"].dt.month\n",
    "players[\"day\"] = players[\"date\"].dt.day\n",
    "\n",
    "teams.drop(columns=[\"date\"], inplace=True)\n",
    "players.drop(columns=[\"date\"], inplace=True)"
   ]
  },
  {
   "cell_type": "markdown",
   "metadata": {},
   "source": [
    "- 데이터 타입 변경"
   ]
  },
  {
   "cell_type": "code",
   "execution_count": 16,
   "metadata": {},
   "outputs": [],
   "source": [
    "teams[\"league\"] = teams[\"league\"].astype(\"category\")\n",
    "teams[\"split\"] = teams[\"split\"].astype(\"category\")\n",
    "teams[\"teamid\"] = teams[\"teamid\"].astype(\"category\")\n",
    "teams[\"opp_teamid\"] = teams[\"opp_teamid\"].astype(\"category\")\n",
    "\n",
    "players[\"league\"] = players[\"league\"].astype(\"category\")\n",
    "players[\"split\"] = players[\"split\"].astype(\"category\")\n",
    "players[\"teamid\"] = players[\"teamid\"].astype(\"category\")\n",
    "players[\"playerid\"] = players[\"playerid\"].astype(\"category\")\n",
    "players[\"opp_teamid\"] = players[\"opp_teamid\"].astype(\"category\")"
   ]
  },
  {
   "cell_type": "markdown",
   "metadata": {},
   "source": [
    "- 인코딩"
   ]
  },
  {
   "cell_type": "code",
   "execution_count": 17,
   "metadata": {},
   "outputs": [],
   "source": [
    "teams[\"side\"] = teams[\"side\"].map({\"Blue\": 0, \"Red\": 1})\n",
    "players[\"side\"] = players[\"side\"].map({\"Blue\": 0, \"Red\": 1})"
   ]
  },
  {
   "cell_type": "code",
   "execution_count": 18,
   "metadata": {},
   "outputs": [],
   "source": [
    "from sklearn.preprocessing import LabelEncoder\n",
    "\n",
    "champion_columns_players = ['champion', 'ban1', 'ban2', 'ban3', 'ban4', 'ban5']\n",
    "champion_columns_teams = ['ban1', 'ban2', 'ban3', 'ban4', 'ban5', 'pick1', 'pick2', 'pick3', 'pick4', 'pick5']\n",
    "\n",
    "champions = pd.concat([\n",
    "    players[champion_columns_players],\n",
    "    teams[champion_columns_teams]\n",
    "]).stack().unique()\n",
    "\n",
    "champions_df = pd.DataFrame({'champion': champions})\n",
    "champions_df = champions_df.dropna().reset_index(drop=True)\n",
    "\n",
    "le = LabelEncoder()\n",
    "champions_df['champion_encoded'] = le.fit_transform(champions_df['champion'])\n",
    "\n",
    "for col in champion_columns_players:\n",
    "    players[col] = le.transform(players[col])\n",
    "\n",
    "for col in champion_columns_teams:\n",
    "    teams[col] = le.transform(teams[col])"
   ]
  },
  {
   "cell_type": "code",
   "execution_count": 19,
   "metadata": {},
   "outputs": [],
   "source": [
    "from sklearn.preprocessing import OneHotEncoder\n",
    "\n",
    "ohe = OneHotEncoder(handle_unknown='ignore')\n",
    "players[ohe.get_feature_names_out()] = ohe.fit_transform(players[[\"position\"]]).toarray()\n",
    "\n",
    "players.drop(columns=[\"position\"], inplace=True)"
   ]
  },
  {
   "cell_type": "code",
   "execution_count": 20,
   "metadata": {},
   "outputs": [
    {
     "data": {
      "text/plain": [
       "(Index(['gameid', 'teamname'], dtype='object'),\n",
       " Index(['gameid', 'playername', 'teamname'], dtype='object'))"
      ]
     },
     "execution_count": 20,
     "metadata": {},
     "output_type": "execute_result"
    }
   ],
   "source": [
    "teams.select_dtypes(\"object\").columns, players.select_dtypes(\"object\").columns"
   ]
  },
  {
   "cell_type": "markdown",
   "metadata": {},
   "source": [
    "- 스케일링"
   ]
  },
  {
   "cell_type": "code",
   "execution_count": 21,
   "metadata": {},
   "outputs": [],
   "source": [
    "from sklearn.preprocessing import StandardScaler\n",
    "\n",
    "scaler = StandardScaler()\n",
    "players[players.select_dtypes(\"number\").columns] = scaler.fit_transform(players[players.select_dtypes(\"number\").columns])\n",
    "teams[teams.select_dtypes(\"number\").columns] = scaler.fit_transform(teams[teams.select_dtypes(\"number\").columns])"
   ]
  },
  {
   "cell_type": "markdown",
   "metadata": {},
   "source": [
    "- 모델 학습 및 검증"
   ]
  },
  {
   "cell_type": "code",
   "execution_count": 22,
   "metadata": {},
   "outputs": [],
   "source": [
    "pre_game_features = [\n",
    "    \"patch\",\n",
    "    \"side\",\n",
    "    \"league\",\n",
    "    \"teamid\",\n",
    "    \"opp_teamid\",\n",
    "    \"ban1\",\n",
    "    \"ban2\",\n",
    "    \"ban3\",\n",
    "    \"ban4\",\n",
    "    \"ban5\",\n",
    "    \"pick1\",\n",
    "    \"pick2\",\n",
    "    \"pick3\",\n",
    "    \"pick4\",\n",
    "    \"pick5\",\n",
    "    \"year\",\n",
    "    \"month\",\n",
    "    \"day\",\n",
    "]"
   ]
  },
  {
   "cell_type": "code",
   "execution_count": 23,
   "metadata": {},
   "outputs": [
    {
     "name": "stdout",
     "output_type": "stream",
     "text": [
      "0:\tlearn: 0.6901166\ttotal: 163ms\tremaining: 2m 42s\n",
      "100:\tlearn: 0.6390868\ttotal: 3.11s\tremaining: 27.7s\n",
      "200:\tlearn: 0.6338890\ttotal: 6.16s\tremaining: 24.5s\n",
      "300:\tlearn: 0.6299096\ttotal: 9.38s\tremaining: 21.8s\n",
      "400:\tlearn: 0.6266467\ttotal: 12.7s\tremaining: 19s\n",
      "500:\tlearn: 0.6235290\ttotal: 15.9s\tremaining: 15.9s\n",
      "600:\tlearn: 0.6206275\ttotal: 19.2s\tremaining: 12.8s\n",
      "700:\tlearn: 0.6175034\ttotal: 22.5s\tremaining: 9.61s\n",
      "800:\tlearn: 0.6146241\ttotal: 25.8s\tremaining: 6.42s\n",
      "900:\tlearn: 0.6118743\ttotal: 29.2s\tremaining: 3.21s\n",
      "999:\tlearn: 0.6091532\ttotal: 32.4s\tremaining: 0us\n",
      "\n",
      "훈련 정확도: 0.7239963915200722\n",
      "검증 정확도: 0.5933214603739982\n",
      "\n",
      "검증 세트 상세 성능:\n",
      "              precision    recall  f1-score   support\n",
      "\n",
      "           0       0.59      0.60      0.59      5615\n",
      "           1       0.59      0.59      0.59      5615\n",
      "\n",
      "    accuracy                           0.59     11230\n",
      "   macro avg       0.59      0.59      0.59     11230\n",
      "weighted avg       0.59      0.59      0.59     11230\n",
      "\n"
     ]
    }
   ],
   "source": [
    "import numpy as np\n",
    "from catboost import CatBoostClassifier\n",
    "from sklearn.metrics import accuracy_score, classification_report\n",
    "\n",
    "teams['result'] = (teams['result'] > 0).astype(int)\n",
    "\n",
    "cutoff_patch = teams[\"patch\"].quantile(0.8)\n",
    "train_games = teams[teams[\"patch\"] < cutoff_patch][\"gameid\"].unique()\n",
    "valid_games = teams[teams[\"patch\"] >= cutoff_patch][\"gameid\"].unique()\n",
    "\n",
    "train_x = teams[teams[\"gameid\"].isin(train_games)][pre_game_features]\n",
    "valid_x = teams[teams[\"gameid\"].isin(valid_games)][pre_game_features]\n",
    "\n",
    "train_y = teams[teams[\"gameid\"].isin(train_games)][\"result\"]\n",
    "valid_y = teams[teams[\"gameid\"].isin(valid_games)][\"result\"]\n",
    "\n",
    "cat_features = list(train_x.select_dtypes(\"category\").columns)\n",
    "catboost = CatBoostClassifier(\n",
    "    iterations=1000,\n",
    "    learning_rate=0.05,\n",
    "    depth=4,\n",
    "    l2_leaf_reg=3,\n",
    "    cat_features=cat_features,\n",
    "    verbose=100\n",
    ")\n",
    "catboost.fit(train_x, train_y)\n",
    "\n",
    "pred_train = catboost.predict(train_x)\n",
    "pred_valid = catboost.predict(valid_x)\n",
    "\n",
    "print(\"\\n훈련 정확도:\", accuracy_score(train_y, pred_train))\n",
    "print(\"검증 정확도:\", accuracy_score(valid_y, pred_valid))\n",
    "\n",
    "print(\"\\n검증 세트 상세 성능:\")\n",
    "print(classification_report(valid_y, pred_valid))"
   ]
  },
  {
   "cell_type": "code",
   "execution_count": 24,
   "metadata": {},
   "outputs": [
    {
     "data": {
      "image/png": "[encoded data removed]",
      "text/plain": [
       "<Figure size 800x870 with 2 Axes>"
      ]
     },
     "metadata": {},
     "output_type": "display_data"
    }
   ],
   "source": [
    "import shap\n",
    "\n",
    "explainer = shap.TreeExplainer(catboost)\n",
    "shap_values = explainer.shap_values(valid_x)\n",
    "\n",
    "shap.summary_plot(shap_values, valid_x)"
   ]
  }
 ],
 "metadata": {
  "kernelspec": {
   "display_name": "Python 3",
   "language": "python",
   "name": "python3"
  },
  "language_info": {
   "codemirror_mode": {
    "name": "ipython",
    "version": 3
   },
   "file_extension": ".py",
   "mimetype": "text/x-python",
   "name": "python",
   "nbconvert_exporter": "python",
   "pygments_lexer": "ipython3",
   "version": "3.10.8"
  }
 },
 "nbformat": 4,
 "nbformat_minor": 2
}
