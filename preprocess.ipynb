{
 "cells": [
  {
   "cell_type": "code",
   "execution_count": 1,
   "metadata": {},
   "outputs": [
    {
     "data": {
      "text/plain": [
       "((60000, 156), (14004, 156))"
      ]
     },
     "execution_count": 1,
     "metadata": {},
     "output_type": "execute_result"
    }
   ],
   "source": [
    "import pandas as pd\n",
    "\n",
    "DATA_PATH = \"LoLesports_data/\"\n",
    "\n",
    "df = pd.read_csv(f\"{DATA_PATH}base_data_forreal.csv\", low_memory=False)\n",
    "\n",
    "train = df[(df[\"patch\"] >= 12.01) & (df[\"patch\"] <= 14.05)]\n",
    "test = df[df[\"patch\"] >= 14.06]\n",
    "\n",
    "train.shape, test.shape"
   ]
  },
  {
   "cell_type": "markdown",
   "metadata": {},
   "source": [
    "# 팀, 선수 데이터 분리"
   ]
  },
  {
   "cell_type": "code",
   "execution_count": 2,
   "metadata": {},
   "outputs": [
    {
     "data": {
      "text/plain": [
       "((10000, 156), (50000, 156), (2334, 156), (11670, 156))"
      ]
     },
     "execution_count": 2,
     "metadata": {},
     "output_type": "execute_result"
    }
   ],
   "source": [
    "teams_train = train[train[\"position\"] == \"team\"].reset_index(drop=True)\n",
    "players_train = train[train[\"position\"] != \"team\"].reset_index(drop=True)\n",
    "\n",
    "teams_test = test[test[\"position\"] == \"team\"].reset_index(drop=True)\n",
    "players_test = test[test[\"position\"] != \"team\"].reset_index(drop=True)\n",
    "\n",
    "teams_train.shape, players_train.shape, teams_test.shape, players_test.shape"
   ]
  },
  {
   "cell_type": "code",
   "execution_count": 3,
   "metadata": {},
   "outputs": [
    {
     "data": {
      "text/html": [
       "<div>\n",
       "<style scoped>\n",
       "    .dataframe tbody tr th:only-of-type {\n",
       "        vertical-align: middle;\n",
       "    }\n",
       "\n",
       "    .dataframe tbody tr th {\n",
       "        vertical-align: top;\n",
       "    }\n",
       "\n",
       "    .dataframe thead th {\n",
       "        text-align: right;\n",
       "    }\n",
       "</style>\n",
       "<table border=\"1\" class=\"dataframe\">\n",
       "  <thead>\n",
       "    <tr style=\"text-align: right;\">\n",
       "      <th></th>\n",
       "      <th>gameid</th>\n",
       "      <th>league</th>\n",
       "      <th>split</th>\n",
       "      <th>playoffs</th>\n",
       "      <th>date</th>\n",
       "      <th>game</th>\n",
       "      <th>patch</th>\n",
       "      <th>participantid</th>\n",
       "      <th>side</th>\n",
       "      <th>position</th>\n",
       "      <th>...</th>\n",
       "      <th>opp_csat25</th>\n",
       "      <th>golddiffat25</th>\n",
       "      <th>xpdiffat25</th>\n",
       "      <th>csdiffat25</th>\n",
       "      <th>killsat25</th>\n",
       "      <th>assistsat25</th>\n",
       "      <th>deathsat25</th>\n",
       "      <th>opp_killsat25</th>\n",
       "      <th>opp_assistsat25</th>\n",
       "      <th>opp_deathsat25</th>\n",
       "    </tr>\n",
       "  </thead>\n",
       "  <tbody>\n",
       "    <tr>\n",
       "      <th>0</th>\n",
       "      <td>ESPORTSTMNT01_2700815</td>\n",
       "      <td>LCK</td>\n",
       "      <td>Spring</td>\n",
       "      <td>0</td>\n",
       "      <td>2022-01-12 6:20</td>\n",
       "      <td>1</td>\n",
       "      <td>12.01</td>\n",
       "      <td>100</td>\n",
       "      <td>Blue</td>\n",
       "      <td>team</td>\n",
       "      <td>...</td>\n",
       "      <td>NaN</td>\n",
       "      <td>NaN</td>\n",
       "      <td>NaN</td>\n",
       "      <td>NaN</td>\n",
       "      <td>NaN</td>\n",
       "      <td>NaN</td>\n",
       "      <td>NaN</td>\n",
       "      <td>NaN</td>\n",
       "      <td>NaN</td>\n",
       "      <td>NaN</td>\n",
       "    </tr>\n",
       "    <tr>\n",
       "      <th>1</th>\n",
       "      <td>ESPORTSTMNT01_2700815</td>\n",
       "      <td>LCK</td>\n",
       "      <td>Spring</td>\n",
       "      <td>0</td>\n",
       "      <td>2022-01-12 6:20</td>\n",
       "      <td>1</td>\n",
       "      <td>12.01</td>\n",
       "      <td>200</td>\n",
       "      <td>Red</td>\n",
       "      <td>team</td>\n",
       "      <td>...</td>\n",
       "      <td>NaN</td>\n",
       "      <td>NaN</td>\n",
       "      <td>NaN</td>\n",
       "      <td>NaN</td>\n",
       "      <td>NaN</td>\n",
       "      <td>NaN</td>\n",
       "      <td>NaN</td>\n",
       "      <td>NaN</td>\n",
       "      <td>NaN</td>\n",
       "      <td>NaN</td>\n",
       "    </tr>\n",
       "    <tr>\n",
       "      <th>2</th>\n",
       "      <td>ESPORTSTMNT01_2690695</td>\n",
       "      <td>LCK</td>\n",
       "      <td>Spring</td>\n",
       "      <td>0</td>\n",
       "      <td>2022-01-12 9:02</td>\n",
       "      <td>2</td>\n",
       "      <td>12.01</td>\n",
       "      <td>100</td>\n",
       "      <td>Blue</td>\n",
       "      <td>team</td>\n",
       "      <td>...</td>\n",
       "      <td>NaN</td>\n",
       "      <td>NaN</td>\n",
       "      <td>NaN</td>\n",
       "      <td>NaN</td>\n",
       "      <td>NaN</td>\n",
       "      <td>NaN</td>\n",
       "      <td>NaN</td>\n",
       "      <td>NaN</td>\n",
       "      <td>NaN</td>\n",
       "      <td>NaN</td>\n",
       "    </tr>\n",
       "    <tr>\n",
       "      <th>3</th>\n",
       "      <td>ESPORTSTMNT01_2690695</td>\n",
       "      <td>LCK</td>\n",
       "      <td>Spring</td>\n",
       "      <td>0</td>\n",
       "      <td>2022-01-12 9:02</td>\n",
       "      <td>2</td>\n",
       "      <td>12.01</td>\n",
       "      <td>200</td>\n",
       "      <td>Red</td>\n",
       "      <td>team</td>\n",
       "      <td>...</td>\n",
       "      <td>NaN</td>\n",
       "      <td>NaN</td>\n",
       "      <td>NaN</td>\n",
       "      <td>NaN</td>\n",
       "      <td>NaN</td>\n",
       "      <td>NaN</td>\n",
       "      <td>NaN</td>\n",
       "      <td>NaN</td>\n",
       "      <td>NaN</td>\n",
       "      <td>NaN</td>\n",
       "    </tr>\n",
       "    <tr>\n",
       "      <th>4</th>\n",
       "      <td>ESPORTSTMNT01_2690705</td>\n",
       "      <td>LCK</td>\n",
       "      <td>Spring</td>\n",
       "      <td>0</td>\n",
       "      <td>2022-01-12 10:07</td>\n",
       "      <td>1</td>\n",
       "      <td>12.01</td>\n",
       "      <td>100</td>\n",
       "      <td>Blue</td>\n",
       "      <td>team</td>\n",
       "      <td>...</td>\n",
       "      <td>NaN</td>\n",
       "      <td>NaN</td>\n",
       "      <td>NaN</td>\n",
       "      <td>NaN</td>\n",
       "      <td>NaN</td>\n",
       "      <td>NaN</td>\n",
       "      <td>NaN</td>\n",
       "      <td>NaN</td>\n",
       "      <td>NaN</td>\n",
       "      <td>NaN</td>\n",
       "    </tr>\n",
       "  </tbody>\n",
       "</table>\n",
       "<p>5 rows × 156 columns</p>\n",
       "</div>"
      ],
      "text/plain": [
       "                  gameid league   split  playoffs              date  game  \\\n",
       "0  ESPORTSTMNT01_2700815    LCK  Spring         0   2022-01-12 6:20     1   \n",
       "1  ESPORTSTMNT01_2700815    LCK  Spring         0   2022-01-12 6:20     1   \n",
       "2  ESPORTSTMNT01_2690695    LCK  Spring         0   2022-01-12 9:02     2   \n",
       "3  ESPORTSTMNT01_2690695    LCK  Spring         0   2022-01-12 9:02     2   \n",
       "4  ESPORTSTMNT01_2690705    LCK  Spring         0  2022-01-12 10:07     1   \n",
       "\n",
       "   patch  participantid  side position  ... opp_csat25 golddiffat25  \\\n",
       "0  12.01            100  Blue     team  ...        NaN          NaN   \n",
       "1  12.01            200   Red     team  ...        NaN          NaN   \n",
       "2  12.01            100  Blue     team  ...        NaN          NaN   \n",
       "3  12.01            200   Red     team  ...        NaN          NaN   \n",
       "4  12.01            100  Blue     team  ...        NaN          NaN   \n",
       "\n",
       "  xpdiffat25 csdiffat25 killsat25 assistsat25 deathsat25 opp_killsat25  \\\n",
       "0        NaN        NaN       NaN         NaN        NaN           NaN   \n",
       "1        NaN        NaN       NaN         NaN        NaN           NaN   \n",
       "2        NaN        NaN       NaN         NaN        NaN           NaN   \n",
       "3        NaN        NaN       NaN         NaN        NaN           NaN   \n",
       "4        NaN        NaN       NaN         NaN        NaN           NaN   \n",
       "\n",
       "  opp_assistsat25 opp_deathsat25  \n",
       "0             NaN            NaN  \n",
       "1             NaN            NaN  \n",
       "2             NaN            NaN  \n",
       "3             NaN            NaN  \n",
       "4             NaN            NaN  \n",
       "\n",
       "[5 rows x 156 columns]"
      ]
     },
     "execution_count": 3,
     "metadata": {},
     "output_type": "execute_result"
    }
   ],
   "source": [
    "teams_train.head()"
   ]
  },
  {
   "cell_type": "markdown",
   "metadata": {},
   "source": [
    "# 결측치 처리"
   ]
  },
  {
   "cell_type": "markdown",
   "metadata": {},
   "source": [
    "## 팀 데이터 결측치 처리"
   ]
  },
  {
   "cell_type": "code",
   "execution_count": 4,
   "metadata": {},
   "outputs": [],
   "source": [
    "drop_teams_cols = [\n",
    "    \"participantid\",\n",
    "    \"playername\",\n",
    "    \"champion\",\n",
    "    \"position\",\n",
    "    \"teamkills\",\n",
    "    \"teamdeaths\",\n",
    "    \"firstbloodkill\",\n",
    "    \"firstbloodassist\",\n",
    "    \"firstbloodvictim\",\n",
    "    \"dragons (type unknown)\",\n",
    "    \"damageshare\",\n",
    "    \"earnedgoldshare\",\n",
    "    \"total cs\",\n",
    "    \"monsterkillsownjungle\",\n",
    "    \"monsterkillsenemyjungle\",\n",
    "    \"goldat20\",\n",
    "    \"xpat20\",\n",
    "    \"csat20\",\n",
    "    \"opp_goldat20\",\n",
    "    \"opp_xpat20\",\n",
    "    \"opp_csat20\",\n",
    "    \"golddiffat20\",\n",
    "    \"xpdiffat20\",\n",
    "    \"csdiffat20\",\n",
    "    \"killsat20\",\n",
    "    \"assistsat20\",\n",
    "    \"deathsat20\",\n",
    "    \"opp_killsat20\",\n",
    "    \"opp_assistsat20\",\n",
    "    \"opp_deathsat20\",\n",
    "    \"goldat25\",\n",
    "    \"xpat25\",\n",
    "    \"csat25\",\n",
    "    \"opp_goldat25\",\n",
    "    \"opp_xpat25\",\n",
    "    \"opp_csat25\",\n",
    "    \"golddiffat25\",\n",
    "    \"xpdiffat25\",\n",
    "    \"csdiffat25\",\n",
    "    \"killsat25\",\n",
    "    \"assistsat25\",\n",
    "    \"deathsat25\",\n",
    "    \"opp_killsat25\",\n",
    "    \"opp_assistsat25\",\n",
    "    \"opp_deathsat25\"\n",
    "]\n",
    "\n",
    "fill_zero_cols = [\n",
    "    \"void_grubs\",\n",
    "    \"opp_void_grubs\",\n",
    "]\n",
    "\n",
    "fill_unknown_cols = [\n",
    "    \"split\",\n",
    "    \"ban1\",\n",
    "    \"ban2\",\n",
    "    \"ban3\",\n",
    "    \"ban4\",\n",
    "    \"ban5\",\n",
    "]\n",
    "\n",
    "teams_train.drop(columns=drop_teams_cols, inplace=True)\n",
    "teams_test.drop(columns=drop_teams_cols, inplace=True)\n",
    "\n",
    "teams_train[fill_zero_cols] = teams_train[fill_zero_cols].fillna(0)\n",
    "teams_test[fill_zero_cols] = teams_test[fill_zero_cols].fillna(0)\n",
    "\n",
    "teams_train[fill_unknown_cols] = teams_train[fill_unknown_cols].fillna(\"unknown\")\n",
    "teams_test[fill_unknown_cols] = teams_test[fill_unknown_cols].fillna(\"unknown\")\n",
    "\n",
    "teams_train.dropna(subset=['pick1'], inplace=True)\n",
    "teams_test.dropna(subset=['pick1'], inplace=True)"
   ]
  },
  {
   "cell_type": "code",
   "execution_count": 5,
   "metadata": {},
   "outputs": [],
   "source": [
    "lpl_team = [\n",
    "    \"Anyone's Legend\",\n",
    "    \"Bilibili Gaming\",\n",
    "    \"EDward Gaming\",\n",
    "    \"FunPlus Phoenix\",\n",
    "    \"Invictus Gaming\",\n",
    "    \"JD Gaming\",\n",
    "    \"LGD Gaming\",\n",
    "    \"LNG Esports\",\n",
    "    \"Oh My God\",\n",
    "    \"Rare Atom\",\n",
    "    \"Royal Never Give Up\",\n",
    "    \"Team WE\",\n",
    "    \"Top Esports\",\n",
    "    \"ThunderTalk Gaming\",\n",
    "    \"Ultra Prime\",\n",
    "    \"Weibo Gaming\",\n",
    "    \"Ninjas in Pyjamas\"\n",
    "]\n",
    "\n",
    "missing_columns = teams_train.columns[teams_train.isnull().sum() > 0]\n",
    "null_samples = teams_train[teams_train[missing_columns].isnull().any(axis=1)]\n",
    "\n",
    "for idx, row in null_samples.iterrows():\n",
    "    team_history = teams_train[\n",
    "        (teams_train[\"teamname\"] == row[\"teamname\"])\n",
    "        & (teams_train[\"gameid\"] < row[\"gameid\"])\n",
    "    ].sort_values(\"gameid\", ascending=False)\n",
    "\n",
    "    for col in missing_columns:\n",
    "        if pd.isnull(row[col]):\n",
    "            if row[\"teamname\"] in lpl_team:\n",
    "                # LPL 팀인 경우 LCK 평균으로 채움\n",
    "                lck_mean = teams_train[teams_train[\"league\"] == \"LCK\"][col].mean()\n",
    "                teams_train.loc[idx, col] = lck_mean\n",
    "            else:\n",
    "                # LPL 팀이 아닌 경우 해당 팀의 이전 5경기 평균으로 채움\n",
    "                prev_5_mean = team_history[col].head(5).mean()\n",
    "                if pd.notnull(prev_5_mean):\n",
    "                    teams_train.loc[idx, col] = prev_5_mean\n",
    "                else:\n",
    "                    # 이전 5경기 데이터가 없는 경우 해당 팀의 전체 평균으로 채움\n",
    "                    team_mean = teams_train[teams_train[\"teamname\"] == row[\"teamname\"]][col].mean()\n",
    "                    teams_train.loc[idx, col] = team_mean"
   ]
  },
  {
   "cell_type": "code",
   "execution_count": 6,
   "metadata": {},
   "outputs": [
    {
     "data": {
      "text/plain": [
       "(9913, 111)"
      ]
     },
     "execution_count": 6,
     "metadata": {},
     "output_type": "execute_result"
    }
   ],
   "source": [
    "teams_train.shape"
   ]
  },
  {
   "cell_type": "code",
   "execution_count": 7,
   "metadata": {},
   "outputs": [
    {
     "data": {
      "text/plain": [
       "0"
      ]
     },
     "execution_count": 7,
     "metadata": {},
     "output_type": "execute_result"
    }
   ],
   "source": [
    "teams_train.isnull().sum().sum()"
   ]
  },
  {
   "cell_type": "code",
   "execution_count": 8,
   "metadata": {},
   "outputs": [],
   "source": [
    "missing_columns = teams_test.columns[teams_test.isnull().sum() > 0]\n",
    "null_samples = teams_test[teams_test[missing_columns].isnull().any(axis=1)]\n",
    "\n",
    "for idx, row in null_samples.iterrows():\n",
    "    team_history = teams_train[\n",
    "        (teams_train[\"teamname\"] == row[\"teamname\"])\n",
    "        & (teams_train[\"gameid\"] < row[\"gameid\"])\n",
    "    ].sort_values(\"gameid\", ascending=False)\n",
    "\n",
    "    for col in missing_columns:\n",
    "        if pd.isnull(row[col]):\n",
    "            if row[\"teamname\"] in lpl_team:\n",
    "                # LPL 팀인 경우 학습 데이터의 LCK 평균으로 채움\n",
    "                lck_mean = teams_train[teams_train[\"league\"] == \"LCK\"][col].mean()\n",
    "                teams_test.loc[idx, col] = lck_mean\n",
    "            else:\n",
    "                # LPL 팀이 아닌 경우 학습 데이터에서 해당 팀의 이전 5경기 평균으로 채움\n",
    "                prev_5_mean = team_history[col].head(5).mean()\n",
    "                if pd.notnull(prev_5_mean):\n",
    "                    teams_test.loc[idx, col] = prev_5_mean\n",
    "                else:\n",
    "                    # 이전 5경기 데이터가 없는 경우 학습 데이터에서 해당 팀의 전체 평균으로 채움\n",
    "                    team_mean = teams_train[teams_train[\"teamname\"] == row[\"teamname\"]][col].mean()\n",
    "                    teams_test.loc[idx, col] = team_mean"
   ]
  },
  {
   "cell_type": "code",
   "execution_count": 9,
   "metadata": {},
   "outputs": [
    {
     "data": {
      "text/plain": [
       "0"
      ]
     },
     "execution_count": 9,
     "metadata": {},
     "output_type": "execute_result"
    }
   ],
   "source": [
    "teams_test.isnull().sum().sum()"
   ]
  },
  {
   "cell_type": "markdown",
   "metadata": {},
   "source": [
    "## 선수 데이터 결측치 처리"
   ]
  },
  {
   "cell_type": "code",
   "execution_count": 10,
   "metadata": {},
   "outputs": [],
   "source": [
    "drop_players_cols = [\n",
    "    \"participantid\",\n",
    "    \"pick1\",\n",
    "    \"pick2\",\n",
    "    \"pick3\",\n",
    "    \"pick4\",\n",
    "    \"pick5\",\n",
    "    \"teamkills\",\n",
    "    \"teamdeaths\",\n",
    "    \"firstdragon\",\n",
    "    \"dragons\",\n",
    "    \"opp_dragons\",\n",
    "    \"elementaldrakes\",\n",
    "    \"opp_elementaldrakes\",\n",
    "    \"infernals\",\n",
    "    \"mountains\",\n",
    "    \"clouds\",\n",
    "    \"oceans\",\n",
    "    \"chemtechs\",\n",
    "    \"hextechs\",\n",
    "    \"dragons (type unknown)\",\n",
    "    \"elders\",\n",
    "    \"opp_elders\",\n",
    "    \"firstherald\",\n",
    "    \"heralds\",\n",
    "    \"opp_heralds\",\n",
    "    \"void_grubs\",\n",
    "    \"opp_void_grubs\",\n",
    "    \"firstbaron\",\n",
    "    \"firsttower\",\n",
    "    \"towers\",\n",
    "    \"opp_towers\",\n",
    "    \"firstmidtower\",\n",
    "    \"firsttothreetowers\",\n",
    "    \"turretplates\",\n",
    "    \"opp_turretplates\",\n",
    "    \"gspd\",\n",
    "    \"gpr\",\n",
    "    \"monsterkillsownjungle\",\n",
    "    \"monsterkillsenemyjungle\",\n",
    "    \"goldat20\",\n",
    "    \"xpat20\",\n",
    "    \"csat20\",\n",
    "    \"opp_goldat20\",\n",
    "    \"opp_xpat20\",\n",
    "    \"opp_csat20\",\n",
    "    \"golddiffat20\",\n",
    "    \"xpdiffat20\",\n",
    "    \"csdiffat20\",\n",
    "    \"killsat20\",\n",
    "    \"assistsat20\",\n",
    "    \"deathsat20\",\n",
    "    \"opp_killsat20\",\n",
    "    \"opp_assistsat20\",\n",
    "    \"opp_deathsat20\",\n",
    "    \"goldat25\",\n",
    "    \"xpat25\",\n",
    "    \"csat25\",\n",
    "    \"opp_goldat25\",\n",
    "    \"opp_xpat25\",\n",
    "    \"opp_csat25\",\n",
    "    \"golddiffat25\",\n",
    "    \"xpdiffat25\",\n",
    "    \"csdiffat25\",\n",
    "    \"killsat25\",\n",
    "    \"assistsat25\",\n",
    "    \"deathsat25\",\n",
    "    \"opp_killsat25\",\n",
    "    \"opp_assistsat25\",\n",
    "    \"opp_deathsat25\"\n",
    "]\n",
    "\n",
    "fill_unknown_cols = [\n",
    "    \"split\",\n",
    "    \"ban1\",\n",
    "    \"ban2\",\n",
    "    \"ban3\",\n",
    "    \"ban4\",\n",
    "    \"ban5\",\n",
    "]\n",
    "\n",
    "players_train.drop(columns=drop_players_cols, inplace=True)\n",
    "players_test.drop(columns=drop_players_cols, inplace=True)\n",
    "\n",
    "players_train[fill_unknown_cols] = players_train[fill_unknown_cols].fillna(\"unknown\")\n",
    "players_test[fill_unknown_cols] = players_test[fill_unknown_cols].fillna(\"unknown\")"
   ]
  },
  {
   "cell_type": "code",
   "execution_count": 11,
   "metadata": {},
   "outputs": [],
   "source": [
    "missing_columns = players_train.columns[players_train.isnull().sum() > 0]\n",
    "null_samples = players_train[players_train[missing_columns].isnull().any(axis=1)]\n",
    "\n",
    "for idx, row in null_samples.iterrows():\n",
    "    player_history = players_train[\n",
    "        (players_train[\"playername\"] == row[\"playername\"])\n",
    "        & (players_train[\"gameid\"] < row[\"gameid\"])\n",
    "    ].sort_values(\"gameid\", ascending=False)\n",
    "\n",
    "    for col in missing_columns:\n",
    "        if pd.isnull(row[col]):\n",
    "            prev_5_mean = player_history[col].head(5).mean()\n",
    "            if pd.notnull(prev_5_mean):\n",
    "                players_train.loc[idx, col] = prev_5_mean\n",
    "            else:\n",
    "                position_mean = players_train[\n",
    "                    (players_train[\"position\"] == row[\"position\"])\n",
    "                ][col].mean()\n",
    "                players_train.loc[idx, col] = position_mean"
   ]
  },
  {
   "cell_type": "code",
   "execution_count": 12,
   "metadata": {},
   "outputs": [
    {
     "data": {
      "text/plain": [
       "0"
      ]
     },
     "execution_count": 12,
     "metadata": {},
     "output_type": "execute_result"
    }
   ],
   "source": [
    "players_train.isna().sum().sum()"
   ]
  },
  {
   "cell_type": "code",
   "execution_count": 13,
   "metadata": {},
   "outputs": [],
   "source": [
    "missing_columns = players_test.columns[players_test.isnull().sum() > 0]\n",
    "null_samples = players_test[players_test[missing_columns].isnull().any(axis=1)]\n",
    "\n",
    "for idx, row in null_samples.iterrows():\n",
    "    player_history = players_train[\n",
    "        (players_train[\"playername\"] == row[\"playername\"])\n",
    "        & (players_train[\"gameid\"] < row[\"gameid\"])\n",
    "    ].sort_values(\"gameid\", ascending=False)\n",
    "\n",
    "    for col in missing_columns:\n",
    "        if pd.isnull(row[col]):\n",
    "            prev_5_mean = player_history[col].head(5).mean()\n",
    "            if pd.notnull(prev_5_mean):\n",
    "                players_test.loc[idx, col] = prev_5_mean\n",
    "            else:\n",
    "                position_mean = players_train[\n",
    "                    (players_train[\"position\"] == row[\"position\"])\n",
    "                ][col].mean()\n",
    "                players_test.loc[idx, col] = position_mean"
   ]
  },
  {
   "cell_type": "code",
   "execution_count": 14,
   "metadata": {},
   "outputs": [
    {
     "data": {
      "text/plain": [
       "0"
      ]
     },
     "execution_count": 14,
     "metadata": {},
     "output_type": "execute_result"
    }
   ],
   "source": [
    "players_test.isna().sum().sum()"
   ]
  },
  {
   "cell_type": "code",
   "execution_count": 15,
   "metadata": {},
   "outputs": [],
   "source": [
    "teams_train_target = teams_train[[\"gameid\", \"teamname\", \"result\"]]\n",
    "teams_test_target = teams_test[[\"gameid\", \"teamname\", \"result\"]]\n",
    "\n",
    "players_train_target = players_train[[\"gameid\", \"playername\", \"result\"]]\n",
    "players_test_target = players_test[[\"gameid\", \"playername\", \"result\"]]\n",
    "\n",
    "teams_train.to_csv(f\"{DATA_PATH}teams_train.csv\", index=False)\n",
    "teams_test.to_csv(f\"{DATA_PATH}teams_test.csv\", index=False)\n",
    "players_train.to_csv(f\"{DATA_PATH}players_train.csv\", index=False)\n",
    "players_test.to_csv(f\"{DATA_PATH}players_test.csv\", index=False)\n",
    "\n",
    "teams_train_target.to_csv(f\"{DATA_PATH}teams_train_target.csv\", index=False)\n",
    "teams_test_target.to_csv(f\"{DATA_PATH}teams_test_target.csv\", index=False)\n",
    "players_train_target.to_csv(f\"{DATA_PATH}players_train_target.csv\", index=False)\n",
    "players_test_target.to_csv(f\"{DATA_PATH}players_test_target.csv\", index=False)"
   ]
  }
 ],
 "metadata": {
  "kernelspec": {
   "display_name": "Python 3",
   "language": "python",
   "name": "python3"
  },
  "language_info": {
   "codemirror_mode": {
    "name": "ipython",
    "version": 3
   },
   "file_extension": ".py",
   "mimetype": "text/x-python",
   "name": "python",
   "nbconvert_exporter": "python",
   "pygments_lexer": "ipython3",
   "version": "3.10.8"
  }
 },
 "nbformat": 4,
 "nbformat_minor": 2
}
