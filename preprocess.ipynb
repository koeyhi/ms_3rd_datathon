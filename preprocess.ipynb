{
 "cells": [
  {
   "cell_type": "code",
   "execution_count": 1,
   "metadata": {},
   "outputs": [
    {
     "data": {
      "text/plain": [
       "((266040, 159), (67380, 159))"
      ]
     },
     "execution_count": 1,
     "metadata": {},
     "output_type": "execute_result"
    }
   ],
   "source": [
    "import pandas as pd\n",
    "import glob\n",
    "\n",
    "path = \"LoLesports_data\"\n",
    "\n",
    "all_files = glob.glob(path + \"/*.csv\")\n",
    "\n",
    "df_list = []\n",
    "\n",
    "for file in all_files[-3:]:\n",
    "    temp_df = pd.read_csv(file, low_memory=False)\n",
    "    df_list.append(temp_df)\n",
    "\n",
    "df = pd.concat(df_list, ignore_index=True)\n",
    "df = df[df[\"datacompleteness\"] == \"complete\"]\n",
    "df.drop(columns=[\"datacompleteness\", \"url\"], inplace=True)\n",
    "\n",
    "train = df[(df[\"patch\"] >= 12.01) & (df[\"patch\"] <= 14.05)]\n",
    "test = df[df[\"patch\"] >= 14.06]\n",
    "\n",
    "train.shape, test.shape"
   ]
  },
  {
   "cell_type": "markdown",
   "metadata": {},
   "source": [
    "- 팀, 선수 데이터 분리"
   ]
  },
  {
   "cell_type": "code",
   "execution_count": 2,
   "metadata": {},
   "outputs": [
    {
     "data": {
      "text/plain": [
       "((44340, 159), (221700, 159), (11230, 159), (56150, 159))"
      ]
     },
     "execution_count": 2,
     "metadata": {},
     "output_type": "execute_result"
    }
   ],
   "source": [
    "teams_train = train[train[\"position\"] == \"team\"].reset_index(drop=True)\n",
    "players_train = train[train[\"position\"] != \"team\"].reset_index(drop=True)\n",
    "\n",
    "teams_test = test[test[\"position\"] == \"team\"].reset_index(drop=True)\n",
    "players_test = test[test[\"position\"] != \"team\"].reset_index(drop=True)\n",
    "\n",
    "teams_train.shape, players_train.shape, teams_test.shape, players_test.shape"
   ]
  },
  {
   "cell_type": "markdown",
   "metadata": {},
   "source": [
    "- 팀 데이터 결측치 처리"
   ]
  },
  {
   "cell_type": "code",
   "execution_count": 3,
   "metadata": {},
   "outputs": [],
   "source": [
    "drop_teams_cols = [\n",
    "    \"playername\",\n",
    "    \"playerid\",\n",
    "    \"position\",\n",
    "    \"champion\",\n",
    "    \"firstbloodkill\",\n",
    "    \"firstbloodassist\",\n",
    "    \"firstbloodvictim\",\n",
    "    \"damageshare\",\n",
    "    \"dragons (type unknown)\",\n",
    "    \"earnedgoldshare\",\n",
    "    \"total cs\",\n",
    "    \"goldat20\",\n",
    "    \"xpat20\",\n",
    "    \"csat20\",\n",
    "    \"opp_goldat20\",\n",
    "    \"opp_xpat20\",\n",
    "    \"opp_csat20\",\n",
    "    \"golddiffat20\",\n",
    "    \"xpdiffat20\",\n",
    "    \"csdiffat20\",\n",
    "    \"killsat20\",\n",
    "    \"assistsat20\",\n",
    "    \"deathsat20\",\n",
    "    \"opp_killsat20\",\n",
    "    \"opp_assistsat20\",\n",
    "    \"opp_deathsat20\",\n",
    "    \"goldat25\",\n",
    "    \"xpat25\",\n",
    "    \"csat25\",\n",
    "    \"opp_goldat25\",\n",
    "    \"opp_xpat25\",\n",
    "    \"opp_csat25\",\n",
    "    \"golddiffat25\",\n",
    "    \"xpdiffat25\",\n",
    "    \"csdiffat25\",\n",
    "    \"killsat25\",\n",
    "    \"assistsat25\",\n",
    "    \"deathsat25\",\n",
    "    \"opp_killsat25\",\n",
    "    \"opp_assistsat25\",\n",
    "    \"opp_deathsat25\",\n",
    "    \"monsterkillsownjungle\",\n",
    "    \"monsterkillsenemyjungle\",\n",
    "]\n",
    "\n",
    "fill_zero_cols = [\n",
    "    \"game\",\n",
    "    \"elementaldrakes\",\n",
    "    \"opp_elementaldrakes\",\n",
    "    \"chemtechs\",\n",
    "    \"hextechs\",\n",
    "    \"void_grubs\",\n",
    "    \"opp_void_grubs\",\n",
    "    \"turretplates\",\n",
    "    \"opp_turretplates\",\n",
    "    \"quadrakills\",\n",
    "    \"pentakills\",\n",
    "    \"heralds\",\n",
    "    \"opp_heralds\",\n",
    "    \"firstblood\",\n",
    "    \"firstdragon\",\n",
    "    \"dragons\",\n",
    "    \"opp_dragons\",\n",
    "    \"infernals\",\n",
    "    \"mountains\",\n",
    "    \"clouds\",\n",
    "    \"oceans\",\n",
    "    \"elders\",\n",
    "    \"opp_elders\",\n",
    "    \"firstherald\",\n",
    "    \"firstbaron\",\n",
    "    \"barons\",\n",
    "    \"opp_barons\",\n",
    "    \"firsttower\",\n",
    "    \"firstmidtower\",\n",
    "    \"inhibitors\",\n",
    "    \"opp_inhibitors\",\n",
    "]\n",
    "\n",
    "fill_unknown_cols = [\n",
    "    \"gameid\",\n",
    "    \"teamname\",\n",
    "    \"teamid\",\n",
    "    \"ban1\",\n",
    "    \"ban2\",\n",
    "    \"ban3\",\n",
    "    \"ban4\",\n",
    "    \"ban5\",\n",
    "    \"pick1\",\n",
    "    \"pick2\",\n",
    "    \"pick3\",\n",
    "    \"pick4\",\n",
    "    \"pick5\",\n",
    "    \"split\",\n",
    "]\n",
    "\n",
    "teams_train.drop(columns=drop_teams_cols, inplace=True)\n",
    "teams_train[fill_zero_cols] = teams_train[fill_zero_cols].fillna(0)\n",
    "teams_train[fill_unknown_cols] = teams_train[fill_unknown_cols].fillna(\"unknown\")"
   ]
  },
  {
   "cell_type": "code",
   "execution_count": 4,
   "metadata": {},
   "outputs": [],
   "source": [
    "missing_columns = teams_train.columns[teams_train.isnull().sum() > 0]\n",
    "null_samples = teams_train[teams_train[missing_columns].isnull().any(axis=1)]\n",
    "\n",
    "for idx, row in null_samples.iterrows():\n",
    "    team_history = teams_train[\n",
    "        (teams_train[\"teamid\"] == row[\"teamid\"])\n",
    "        & (teams_train[\"gameid\"] < row[\"gameid\"])\n",
    "    ].sort_values(\"gameid\", ascending=False)\n",
    "\n",
    "    for col in missing_columns:\n",
    "        if pd.isnull(row[col]):\n",
    "            prev_5_mean = team_history[col].head(5).mean()\n",
    "            if pd.notnull(prev_5_mean):\n",
    "                teams_train.loc[idx, col] = prev_5_mean\n",
    "            else:\n",
    "                teams_train.loc[idx, col] = teams_train[col].mean()"
   ]
  },
  {
   "cell_type": "code",
   "execution_count": 5,
   "metadata": {},
   "outputs": [
    {
     "data": {
      "text/plain": [
       "(44340, 116)"
      ]
     },
     "execution_count": 5,
     "metadata": {},
     "output_type": "execute_result"
    }
   ],
   "source": [
    "teams_train.shape"
   ]
  },
  {
   "cell_type": "code",
   "execution_count": 6,
   "metadata": {},
   "outputs": [
    {
     "data": {
      "text/plain": [
       "0"
      ]
     },
     "execution_count": 6,
     "metadata": {},
     "output_type": "execute_result"
    }
   ],
   "source": [
    "teams_train.isnull().sum().sum()"
   ]
  },
  {
   "cell_type": "code",
   "execution_count": 7,
   "metadata": {},
   "outputs": [
    {
     "data": {
      "text/plain": [
       "(11230, 116)"
      ]
     },
     "execution_count": 7,
     "metadata": {},
     "output_type": "execute_result"
    }
   ],
   "source": [
    "teams_test.drop(columns=drop_teams_cols, inplace=True)\n",
    "teams_test[fill_zero_cols] = teams_test[fill_zero_cols].fillna(0)\n",
    "teams_test[fill_unknown_cols] = teams_test[fill_unknown_cols].fillna(\"unknown\")\n",
    "\n",
    "missing_columns = teams_test.columns[teams_test.isnull().sum() > 0]\n",
    "null_samples = teams_test[teams_test[missing_columns].isnull().any(axis=1)]\n",
    "\n",
    "for idx, row in null_samples.iterrows():\n",
    "    team_history = teams_test[\n",
    "        (teams_test[\"teamid\"] == row[\"teamid\"])\n",
    "        & (teams_test[\"gameid\"] < row[\"gameid\"])\n",
    "    ].sort_values(\"gameid\", ascending=False)\n",
    "\n",
    "    for col in missing_columns:\n",
    "        if pd.isnull(row[col]):\n",
    "            prev_5_mean = team_history[col].head(5).mean()\n",
    "            if pd.notnull(prev_5_mean):\n",
    "                teams_test.loc[idx, col] = prev_5_mean\n",
    "            else:\n",
    "                teams_test.loc[idx, col] = teams_test[col].mean()\n",
    "\n",
    "teams_test.shape"
   ]
  },
  {
   "cell_type": "code",
   "execution_count": 8,
   "metadata": {},
   "outputs": [
    {
     "data": {
      "text/plain": [
       "0"
      ]
     },
     "execution_count": 8,
     "metadata": {},
     "output_type": "execute_result"
    }
   ],
   "source": [
    "teams_test.isnull().sum().sum()"
   ]
  },
  {
   "cell_type": "markdown",
   "metadata": {},
   "source": [
    "- 선수 데이터 결측치 처리"
   ]
  },
  {
   "cell_type": "code",
   "execution_count": 9,
   "metadata": {},
   "outputs": [
    {
     "data": {
      "text/plain": [
       "((221700, 159), (56150, 159))"
      ]
     },
     "execution_count": 9,
     "metadata": {},
     "output_type": "execute_result"
    }
   ],
   "source": [
    "players_train.shape, players_test.shape"
   ]
  },
  {
   "cell_type": "code",
   "execution_count": 10,
   "metadata": {},
   "outputs": [],
   "source": [
    "drop_players_cols = [\n",
    "    \"pick1\",\n",
    "    \"pick2\",\n",
    "    \"pick3\",\n",
    "    \"pick4\",\n",
    "    \"pick5\",\n",
    "    \"firstdragon\",\n",
    "    \"dragons\",\n",
    "    \"opp_dragons\",\n",
    "    \"dragons (type unknown)\",\n",
    "    \"elementaldrakes\",\n",
    "    \"opp_elementaldrakes\",\n",
    "    \"infernals\",\n",
    "    \"mountains\",\n",
    "    \"clouds\",\n",
    "    \"oceans\",\n",
    "    \"chemtechs\",\n",
    "    \"hextechs\",\n",
    "    \"elders\",\n",
    "    \"opp_elders\",\n",
    "    \"firstherald\",\n",
    "    \"heralds\",\n",
    "    \"opp_heralds\",\n",
    "    \"void_grubs\",\n",
    "    \"opp_void_grubs\",\n",
    "    \"firstbaron\",\n",
    "    \"firsttower\",\n",
    "    \"towers\",\n",
    "    \"opp_towers\",\n",
    "    \"firstmidtower\",\n",
    "    \"firsttothreetowers\",\n",
    "    \"turretplates\",\n",
    "    \"opp_turretplates\",\n",
    "    \"gspd\",\n",
    "    \"gpr\",\n",
    "    \"goldat20\",\n",
    "    \"xpat20\",\n",
    "    \"csat20\",\n",
    "    \"opp_goldat20\",\n",
    "    \"opp_xpat20\",\n",
    "    \"opp_csat20\",\n",
    "    \"golddiffat20\",\n",
    "    \"xpdiffat20\",\n",
    "    \"csdiffat20\",\n",
    "    \"killsat20\",\n",
    "    \"assistsat20\",\n",
    "    \"deathsat20\",\n",
    "    \"opp_killsat20\",\n",
    "    \"opp_assistsat20\",\n",
    "    \"opp_deathsat20\",\n",
    "    \"goldat25\",\n",
    "    \"xpat25\",\n",
    "    \"csat25\",\n",
    "    \"opp_goldat25\",\n",
    "    \"opp_xpat25\",\n",
    "    \"opp_csat25\",\n",
    "    \"golddiffat25\",\n",
    "    \"xpdiffat25\",\n",
    "    \"csdiffat25\",\n",
    "    \"killsat25\",\n",
    "    \"assistsat25\",\n",
    "    \"deathsat25\",\n",
    "    \"opp_killsat25\",\n",
    "    \"opp_assistsat25\",\n",
    "    \"opp_deathsat25\",\n",
    "    \"monsterkillsownjungle\",\n",
    "    \"monsterkillsenemyjungle\",\n",
    "]\n",
    "\n",
    "fill_zero_cols = [\n",
    "    \"game\",\n",
    "    \"barons\",\n",
    "    \"opp_barons\",\n",
    "    \"quadrakills\",\n",
    "    \"pentakills\",\n",
    "    \"firstblood\",\n",
    "    \"firstbloodkill\",\n",
    "    \"firstbloodassist\",\n",
    "    \"firstbloodvictim\",\n",
    "    \"inhibitors\",\n",
    "    \"opp_inhibitors\",\n",
    "]\n",
    "\n",
    "fill_unknown_cols = [\n",
    "    \"split\",\n",
    "    \"ban1\",\n",
    "    \"ban2\",\n",
    "    \"ban3\",\n",
    "    \"ban4\",\n",
    "    \"ban5\",\n",
    "    \"gameid\",\n",
    "    \"playername\",\n",
    "    \"playerid\",\n",
    "    \"teamname\",\n",
    "    \"teamid\",\n",
    "]\n",
    "\n",
    "players_train.drop(columns=drop_players_cols, inplace=True)\n",
    "players_train[fill_zero_cols] = players_train[fill_zero_cols].fillna(0)\n",
    "players_train[fill_unknown_cols] = players_train[fill_unknown_cols].fillna(\"unknown\")"
   ]
  },
  {
   "cell_type": "code",
   "execution_count": 11,
   "metadata": {},
   "outputs": [
    {
     "data": {
      "text/plain": [
       "(221700, 93)"
      ]
     },
     "execution_count": 11,
     "metadata": {},
     "output_type": "execute_result"
    }
   ],
   "source": [
    "missing_columns = players_train.columns[players_train.isnull().sum() > 0]\n",
    "null_samples = players_train[players_train[missing_columns].isnull().any(axis=1)]\n",
    "\n",
    "for idx, row in null_samples.iterrows():\n",
    "    player_history = players_train[\n",
    "        (players_train[\"playerid\"] == row[\"playerid\"])\n",
    "        & (players_train[\"gameid\"] < row[\"gameid\"])\n",
    "    ].sort_values(\"gameid\", ascending=False)\n",
    "\n",
    "    for col in missing_columns:\n",
    "        if pd.isnull(row[col]):\n",
    "            prev_5_mean = player_history[col].head(5).mean()\n",
    "            if pd.notnull(prev_5_mean):\n",
    "                players_train.loc[idx, col] = prev_5_mean\n",
    "            else:\n",
    "                players_train.loc[idx, col] = players_train[col].mean()\n",
    "\n",
    "players_train.shape"
   ]
  },
  {
   "cell_type": "code",
   "execution_count": 12,
   "metadata": {},
   "outputs": [
    {
     "data": {
      "text/plain": [
       "0"
      ]
     },
     "execution_count": 12,
     "metadata": {},
     "output_type": "execute_result"
    }
   ],
   "source": [
    "players_train.isna().sum().sum()"
   ]
  },
  {
   "cell_type": "code",
   "execution_count": 14,
   "metadata": {},
   "outputs": [
    {
     "data": {
      "text/plain": [
       "(56150, 93)"
      ]
     },
     "execution_count": 14,
     "metadata": {},
     "output_type": "execute_result"
    }
   ],
   "source": [
    "players_test.drop(columns=drop_players_cols, inplace=True)\n",
    "players_test[fill_zero_cols] = players_test[fill_zero_cols].fillna(0)\n",
    "players_test[fill_unknown_cols] = players_test[fill_unknown_cols].fillna(\"unknown\")\n",
    "\n",
    "missing_columns = players_test.columns[players_test.isnull().sum() > 0]\n",
    "null_samples = players_test[players_test[missing_columns].isnull().any(axis=1)]\n",
    "\n",
    "for idx, row in null_samples.iterrows():\n",
    "    player_history = players_test[\n",
    "        (players_test[\"playerid\"] == row[\"playerid\"])\n",
    "        & (players_test[\"gameid\"] < row[\"gameid\"])\n",
    "    ].sort_values(\"gameid\", ascending=False)\n",
    "\n",
    "    for col in missing_columns:\n",
    "        if pd.isnull(row[col]):\n",
    "            prev_5_mean = player_history[col].head(5).mean()\n",
    "            if pd.notnull(prev_5_mean):\n",
    "                players_test.loc[idx, col] = prev_5_mean\n",
    "            else:\n",
    "                players_test.loc[idx, col] = players_test[col].mean()\n",
    "\n",
    "players_test.shape"
   ]
  },
  {
   "cell_type": "markdown",
   "metadata": {},
   "source": [
    "- 상대 팀 추가"
   ]
  },
  {
   "cell_type": "code",
   "execution_count": 15,
   "metadata": {},
   "outputs": [],
   "source": [
    "temp_opp_teams = teams_train.groupby(\"gameid\")[\"teamid\"].transform(lambda x: x.iloc[::-1].values).to_frame(\"opp_teamid\")\n",
    "teams_train = pd.concat([teams_train, temp_opp_teams], axis=1)\n",
    "temp_opp_teams = teams_test.groupby(\"gameid\")[\"teamid\"].transform(lambda x: x.iloc[::-1].values).to_frame(\"opp_teamid\")\n",
    "teams_test = pd.concat([teams_test, temp_opp_teams], axis=1)\n",
    "\n",
    "temp_opp_players = players_train.groupby(\"gameid\")[\"teamid\"].transform(lambda x: x.iloc[::-1].values).to_frame(\"opp_teamid\")\n",
    "players_train = pd.concat([players_train, temp_opp_players], axis=1)\n",
    "temp_opp_players = players_test.groupby(\"gameid\")[\"teamid\"].transform(lambda x: x.iloc[::-1].values).to_frame(\"opp_teamid\")\n",
    "players_test = pd.concat([players_test, temp_opp_players], axis=1)"
   ]
  },
  {
   "cell_type": "markdown",
   "metadata": {},
   "source": [
    "- 날짜 추가"
   ]
  },
  {
   "cell_type": "code",
   "execution_count": 16,
   "metadata": {},
   "outputs": [],
   "source": [
    "teams_train[\"date\"] = pd.to_datetime(teams_train[\"date\"])\n",
    "teams_test[\"date\"] = pd.to_datetime(teams_test[\"date\"])\n",
    "\n",
    "players_train[\"date\"] = pd.to_datetime(players_train[\"date\"])\n",
    "players_test[\"date\"] = pd.to_datetime(players_test[\"date\"])\n",
    "\n",
    "teams_train[\"year\"] = teams_train[\"date\"].dt.year\n",
    "teams_train[\"month\"] = teams_train[\"date\"].dt.month\n",
    "teams_train[\"day\"] = teams_train[\"date\"].dt.day\n",
    "\n",
    "players_train[\"year\"] = players_train[\"date\"].dt.year\n",
    "players_train[\"month\"] = players_train[\"date\"].dt.month\n",
    "players_train[\"day\"] = players_train[\"date\"].dt.day\n",
    "\n",
    "teams_test[\"year\"] = teams_test[\"date\"].dt.year\n",
    "teams_test[\"month\"] = teams_test[\"date\"].dt.month\n",
    "teams_test[\"day\"] = teams_test[\"date\"].dt.day\n",
    "\n",
    "players_test[\"year\"] = players_test[\"date\"].dt.year\n",
    "players_test[\"month\"] = players_test[\"date\"].dt.month\n",
    "players_test[\"day\"] = players_test[\"date\"].dt.day\n",
    "\n",
    "teams_train.drop(columns=[\"date\"], inplace=True)\n",
    "players_train.drop(columns=[\"date\"], inplace=True)\n",
    "\n",
    "teams_test.drop(columns=[\"date\"], inplace=True)\n",
    "players_test.drop(columns=[\"date\"], inplace=True)"
   ]
  },
  {
   "cell_type": "markdown",
   "metadata": {},
   "source": [
    "- 데이터 타입 변경"
   ]
  },
  {
   "cell_type": "code",
   "execution_count": 17,
   "metadata": {},
   "outputs": [],
   "source": [
    "teams_train[\"league\"] = teams_train[\"league\"].astype(\"category\")\n",
    "teams_train[\"split\"] = teams_train[\"split\"].astype(\"category\")\n",
    "teams_train[\"teamid\"] = teams_train[\"teamid\"].astype(\"category\")\n",
    "teams_train[\"opp_teamid\"] = teams_train[\"opp_teamid\"].astype(\"category\")\n",
    "\n",
    "teams_test[\"league\"] = teams_test[\"league\"].astype(\"category\")\n",
    "teams_test[\"split\"] = teams_test[\"split\"].astype(\"category\")\n",
    "teams_test[\"teamid\"] = teams_test[\"teamid\"].astype(\"category\")\n",
    "teams_test[\"opp_teamid\"] = teams_test[\"opp_teamid\"].astype(\"category\")\n",
    "\n",
    "players_train[\"league\"] = players_train[\"league\"].astype(\"category\")\n",
    "players_train[\"split\"] = players_train[\"split\"].astype(\"category\")\n",
    "players_train[\"teamid\"] = players_train[\"teamid\"].astype(\"category\")\n",
    "players_train[\"playerid\"] = players_train[\"playerid\"].astype(\"category\")\n",
    "players_train[\"opp_teamid\"] = players_train[\"opp_teamid\"].astype(\"category\")\n",
    "\n",
    "players_test[\"league\"] = players_test[\"league\"].astype(\"category\")\n",
    "players_test[\"split\"] = players_test[\"split\"].astype(\"category\")\n",
    "players_test[\"teamid\"] = players_test[\"teamid\"].astype(\"category\")\n",
    "players_test[\"playerid\"] = players_test[\"playerid\"].astype(\"category\")\n",
    "players_test[\"opp_teamid\"] = players_test[\"opp_teamid\"].astype(\"category\")"
   ]
  },
  {
   "cell_type": "markdown",
   "metadata": {},
   "source": [
    "- 인코딩"
   ]
  },
  {
   "cell_type": "code",
   "execution_count": 18,
   "metadata": {},
   "outputs": [],
   "source": [
    "teams_train[\"side\"] = teams_train[\"side\"].map({\"Blue\": 0, \"Red\": 1})\n",
    "teams_test[\"side\"] = teams_test[\"side\"].map({\"Blue\": 0, \"Red\": 1})\n",
    "\n",
    "players_train[\"side\"] = players_train[\"side\"].map({\"Blue\": 0, \"Red\": 1})\n",
    "players_test[\"side\"] = players_test[\"side\"].map({\"Blue\": 0, \"Red\": 1})"
   ]
  },
  {
   "cell_type": "code",
   "execution_count": 19,
   "metadata": {},
   "outputs": [],
   "source": [
    "from sklearn.preprocessing import LabelEncoder\n",
    "\n",
    "champion_columns_players = ['champion', 'ban1', 'ban2', 'ban3', 'ban4', 'ban5']\n",
    "champion_columns_teams = ['ban1', 'ban2', 'ban3', 'ban4', 'ban5', 'pick1', 'pick2', 'pick3', 'pick4', 'pick5']\n",
    "\n",
    "champions = pd.concat([\n",
    "    players_train[champion_columns_players],\n",
    "    teams_train[champion_columns_teams],\n",
    "    players_test[champion_columns_players],\n",
    "    teams_test[champion_columns_teams],\n",
    "]).stack().unique()\n",
    "\n",
    "champions_df = pd.DataFrame({'champion': champions})\n",
    "champions_df = champions_df.dropna().reset_index(drop=True)\n",
    "\n",
    "le = LabelEncoder()\n",
    "champions_df['champion_encoded'] = le.fit_transform(champions_df['champion'])\n",
    "\n",
    "for col in champion_columns_players:\n",
    "    players_train[col] = le.transform(players_train[col])\n",
    "    players_test[col] = le.transform(players_test[col])\n",
    "\n",
    "for col in champion_columns_teams:\n",
    "    teams_train[col] = le.transform(teams_train[col])\n",
    "    teams_test[col] = le.transform(teams_test[col])"
   ]
  },
  {
   "cell_type": "code",
   "execution_count": 20,
   "metadata": {},
   "outputs": [],
   "source": [
    "from sklearn.preprocessing import OneHotEncoder\n",
    "\n",
    "ohe = OneHotEncoder(handle_unknown='ignore')\n",
    "players_train[ohe.get_feature_names_out()] = ohe.fit_transform(players_train[[\"position\"]]).toarray()\n",
    "players_test[ohe.get_feature_names_out()] = ohe.transform(players_test[[\"position\"]]).toarray()\n",
    "\n",
    "players_train.drop(columns=[\"position\"], inplace=True)\n",
    "players_test.drop(columns=[\"position\"], inplace=True)"
   ]
  },
  {
   "cell_type": "code",
   "execution_count": 21,
   "metadata": {},
   "outputs": [
    {
     "data": {
      "text/plain": [
       "(Index(['gameid', 'teamname'], dtype='object'),\n",
       " Index(['gameid', 'playername', 'teamname'], dtype='object'))"
      ]
     },
     "execution_count": 21,
     "metadata": {},
     "output_type": "execute_result"
    }
   ],
   "source": [
    "teams_train.select_dtypes(\"object\").columns, players_train.select_dtypes(\"object\").columns"
   ]
  },
  {
   "cell_type": "markdown",
   "metadata": {},
   "source": [
    "- 스케일링"
   ]
  },
  {
   "cell_type": "code",
   "execution_count": 22,
   "metadata": {},
   "outputs": [],
   "source": [
    "from sklearn.preprocessing import StandardScaler\n",
    "\n",
    "scaler = StandardScaler()\n",
    "players_train[players_train.select_dtypes(\"number\").columns] = scaler.fit_transform(players_train[players_train.select_dtypes(\"number\").columns])\n",
    "players_test[players_test.select_dtypes(\"number\").columns] = scaler.transform(players_test[players_test.select_dtypes(\"number\").columns])\n",
    "\n",
    "teams_train[teams_train.select_dtypes(\"number\").columns] = scaler.fit_transform(teams_train[teams_train.select_dtypes(\"number\").columns])\n",
    "teams_test[teams_test.select_dtypes(\"number\").columns] = scaler.transform(teams_test[teams_test.select_dtypes(\"number\").columns])"
   ]
  },
  {
   "cell_type": "markdown",
   "metadata": {},
   "source": [
    "- 모델 학습 및 검증"
   ]
  },
  {
   "cell_type": "code",
   "execution_count": 23,
   "metadata": {},
   "outputs": [],
   "source": [
    "pre_game_features = [\n",
    "    \"patch\",\n",
    "    \"side\",\n",
    "    \"league\",\n",
    "    \"teamid\",\n",
    "    \"opp_teamid\",\n",
    "    \"ban1\",\n",
    "    \"ban2\",\n",
    "    \"ban3\",\n",
    "    \"ban4\",\n",
    "    \"ban5\",\n",
    "    \"pick1\",\n",
    "    \"pick2\",\n",
    "    \"pick3\",\n",
    "    \"pick4\",\n",
    "    \"pick5\",\n",
    "    \"year\",\n",
    "    \"month\",\n",
    "    \"day\",\n",
    "]"
   ]
  },
  {
   "cell_type": "code",
   "execution_count": 24,
   "metadata": {},
   "outputs": [
    {
     "name": "stdout",
     "output_type": "stream",
     "text": [
      "0:\tlearn: 0.6897761\ttotal: 178ms\tremaining: 2m 57s\n",
      "100:\tlearn: 0.6346734\ttotal: 2.89s\tremaining: 25.7s\n",
      "200:\tlearn: 0.6282777\ttotal: 5.79s\tremaining: 23s\n",
      "300:\tlearn: 0.6221378\ttotal: 8.76s\tremaining: 20.3s\n",
      "400:\tlearn: 0.6173083\ttotal: 11.6s\tremaining: 17.4s\n",
      "500:\tlearn: 0.6131648\ttotal: 14.6s\tremaining: 14.6s\n",
      "600:\tlearn: 0.6098661\ttotal: 17.7s\tremaining: 11.8s\n",
      "700:\tlearn: 0.6063461\ttotal: 20.9s\tremaining: 8.93s\n",
      "800:\tlearn: 0.6031108\ttotal: 24.1s\tremaining: 5.99s\n",
      "900:\tlearn: 0.5999129\ttotal: 27.4s\tremaining: 3s\n",
      "999:\tlearn: 0.5964604\ttotal: 30.5s\tremaining: 0us\n",
      "\n",
      "훈련 정확도: 0.7263557917595291\n",
      "검증 정확도: 0.5850995504174695\n",
      "\n",
      "검증 세트 상세 성능:\n",
      "              precision    recall  f1-score   support\n",
      "\n",
      "           0       0.59      0.58      0.58      4673\n",
      "           1       0.58      0.59      0.59      4669\n",
      "\n",
      "    accuracy                           0.59      9342\n",
      "   macro avg       0.59      0.59      0.59      9342\n",
      "weighted avg       0.59      0.59      0.59      9342\n",
      "\n"
     ]
    }
   ],
   "source": [
    "import numpy as np\n",
    "from catboost import CatBoostClassifier\n",
    "from sklearn.metrics import accuracy_score, classification_report\n",
    "\n",
    "teams_train['result'] = (teams_train['result'] > 0).astype(int)\n",
    "teams_test['result'] = (teams_test['result'] > 0).astype(int)\n",
    "\n",
    "cutoff_patch = teams_train[\"patch\"].quantile(0.8)\n",
    "train_games = teams_train[teams_train[\"patch\"] < cutoff_patch][\"gameid\"].unique()\n",
    "valid_games = teams_train[teams_train[\"patch\"] >= cutoff_patch][\"gameid\"].unique()\n",
    "\n",
    "train_x = teams_train[teams_train[\"gameid\"].isin(train_games)][pre_game_features]\n",
    "valid_x = teams_train[teams_train[\"gameid\"].isin(valid_games)][pre_game_features]\n",
    "\n",
    "train_y = teams_train[teams_train[\"gameid\"].isin(train_games)][\"result\"]\n",
    "valid_y = teams_train[teams_train[\"gameid\"].isin(valid_games)][\"result\"]\n",
    "\n",
    "cat_features = list(train_x.select_dtypes(\"category\").columns)\n",
    "catboost = CatBoostClassifier(\n",
    "    iterations=1000,\n",
    "    learning_rate=0.05,\n",
    "    depth=4,\n",
    "    l2_leaf_reg=3,\n",
    "    cat_features=cat_features,\n",
    "    verbose=100\n",
    ")\n",
    "catboost.fit(train_x, train_y)\n",
    "\n",
    "pred_train = catboost.predict(train_x)\n",
    "pred_valid = catboost.predict(valid_x)\n",
    "\n",
    "print(\"\\n훈련 정확도:\", accuracy_score(train_y, pred_train))\n",
    "print(\"검증 정확도:\", accuracy_score(valid_y, pred_valid))\n",
    "\n",
    "print(\"\\n검증 세트 상세 성능:\")\n",
    "print(classification_report(valid_y, pred_valid))"
   ]
  },
  {
   "cell_type": "code",
   "execution_count": 25,
   "metadata": {},
   "outputs": [
    {
     "data": {
      "image/png": "[encoded data removed]",
      "text/plain": [
       "<Figure size 800x870 with 2 Axes>"
      ]
     },
     "metadata": {},
     "output_type": "display_data"
    }
   ],
   "source": [
    "import shap\n",
    "\n",
    "explainer = shap.TreeExplainer(catboost)\n",
    "shap_values = explainer.shap_values(valid_x)\n",
    "\n",
    "shap.summary_plot(shap_values, valid_x)"
   ]
  }
 ],
 "metadata": {
  "kernelspec": {
   "display_name": "Python 3",
   "language": "python",
   "name": "python3"
  },
  "language_info": {
   "codemirror_mode": {
    "name": "ipython",
    "version": 3
   },
   "file_extension": ".py",
   "mimetype": "text/x-python",
   "name": "python",
   "nbconvert_exporter": "python",
   "pygments_lexer": "ipython3",
   "version": "3.10.8"
  }
 },
 "nbformat": 4,
 "nbformat_minor": 2
}
