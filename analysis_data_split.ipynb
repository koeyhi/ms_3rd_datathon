{
 "cells": [
  {
   "cell_type": "code",
   "execution_count": 5,
   "metadata": {
    "executionInfo": {
     "elapsed": 5483,
     "status": "ok",
     "timestamp": 1735535592316,
     "user": {
      "displayName": "leeya",
      "userId": "01846864398267083738"
     },
     "user_tz": -540
    },
    "id": "ZqB-jZkpizLX"
   },
   "outputs": [],
   "source": [
    "import pandas as pd\n",
    "import numpy as np"
   ]
  },
  {
   "cell_type": "code",
   "execution_count": 6,
   "metadata": {
    "executionInfo": {
     "elapsed": 332,
     "status": "ok",
     "timestamp": 1735535705984,
     "user": {
      "displayName": "leeya",
      "userId": "01846864398267083738"
     },
     "user_tz": -540
    },
    "id": "-dXeKoZyi1WA"
   },
   "outputs": [],
   "source": [
    "DATA_PATH = \"LoLesports_data/\"\n",
    "SEED = 42"
   ]
  },
  {
   "cell_type": "code",
   "execution_count": 7,
   "metadata": {
    "colab": {
     "base_uri": "https://localhost:8080/"
    },
    "executionInfo": {
     "elapsed": 1621,
     "status": "ok",
     "timestamp": 1735536405248,
     "user": {
      "displayName": "leeya",
      "userId": "01846864398267083738"
     },
     "user_tz": -540
    },
    "id": "fxqdrko4ZDxZ",
    "outputId": "0d55e8a0-992c-4969-97f5-9deb48a34e2c"
   },
   "outputs": [
    {
     "name": "stderr",
     "output_type": "stream",
     "text": [
      "C:\\Users\\kwon3\\AppData\\Local\\Temp\\ipykernel_12392\\3702863471.py:1: DtypeWarning: Columns (2) have mixed types. Specify dtype option on import or set low_memory=False.\n",
      "  df = pd.read_csv(f'{DATA_PATH}base_data_forreal.csv')\n"
     ]
    }
   ],
   "source": [
    "df = pd.read_csv(f'{DATA_PATH}base_data_forreal.csv')"
   ]
  },
  {
   "cell_type": "code",
   "execution_count": 8,
   "metadata": {
    "colab": {
     "base_uri": "https://localhost:8080/"
    },
    "executionInfo": {
     "elapsed": 331,
     "status": "ok",
     "timestamp": 1735536408467,
     "user": {
      "displayName": "leeya",
      "userId": "01846864398267083738"
     },
     "user_tz": -540
    },
    "id": "FN77hjzH_em3",
    "outputId": "d5cd2707-7bef-44d3-d020-da6e33e2d9d7"
   },
   "outputs": [
    {
     "data": {
      "text/plain": [
       "(74004, 156)"
      ]
     },
     "execution_count": 8,
     "metadata": {},
     "output_type": "execute_result"
    }
   ],
   "source": [
    "df.shape"
   ]
  },
  {
   "cell_type": "code",
   "execution_count": 9,
   "metadata": {
    "executionInfo": {
     "elapsed": 325,
     "status": "ok",
     "timestamp": 1735536412268,
     "user": {
      "displayName": "leeya",
      "userId": "01846864398267083738"
     },
     "user_tz": -540
    },
    "id": "U8xs_dQ6ZIaZ"
   },
   "outputs": [],
   "source": [
    "train = df[(df[\"patch\"] >= 12.01) & (df[\"patch\"] <= 14.05)]\n",
    "test = df[df[\"patch\"] >= 14.06]"
   ]
  },
  {
   "cell_type": "code",
   "execution_count": 10,
   "metadata": {
    "colab": {
     "base_uri": "https://localhost:8080/"
    },
    "executionInfo": {
     "elapsed": 4,
     "status": "ok",
     "timestamp": 1735536542814,
     "user": {
      "displayName": "leeya",
      "userId": "01846864398267083738"
     },
     "user_tz": -540
    },
    "id": "vAkzZA7y_hqk",
    "outputId": "575cb061-7de9-46a3-be3a-1bbff0812963"
   },
   "outputs": [
    {
     "data": {
      "text/plain": [
       "((60000, 156), (14004, 156))"
      ]
     },
     "execution_count": 10,
     "metadata": {},
     "output_type": "execute_result"
    }
   ],
   "source": [
    "train.shape, test.shape"
   ]
  },
  {
   "cell_type": "code",
   "execution_count": 11,
   "metadata": {
    "executionInfo": {
     "elapsed": 342,
     "status": "ok",
     "timestamp": 1735536545316,
     "user": {
      "displayName": "leeya",
      "userId": "01846864398267083738"
     },
     "user_tz": -540
    },
    "id": "SOcGohIVaBJx"
   },
   "outputs": [],
   "source": [
    "teams_train = train[train[\"position\"] == \"team\"].reset_index(drop=True)\n",
    "players_train = train[train[\"position\"] != \"team\"].reset_index(drop=True)\n",
    "\n",
    "teams_test = test[test[\"position\"] == \"team\"].reset_index(drop=True)\n",
    "players_test = test[test[\"position\"] != \"team\"].reset_index(drop=True)"
   ]
  },
  {
   "cell_type": "code",
   "execution_count": 12,
   "metadata": {
    "colab": {
     "base_uri": "https://localhost:8080/"
    },
    "executionInfo": {
     "elapsed": 326,
     "status": "ok",
     "timestamp": 1735536548064,
     "user": {
      "displayName": "leeya",
      "userId": "01846864398267083738"
     },
     "user_tz": -540
    },
    "id": "DRjePpRI_nEs",
    "outputId": "d9d1fd46-aa89-4a14-db31-377af8f5528b"
   },
   "outputs": [
    {
     "data": {
      "text/plain": [
       "((10000, 156), (50000, 156))"
      ]
     },
     "execution_count": 12,
     "metadata": {},
     "output_type": "execute_result"
    }
   ],
   "source": [
    "teams_train.shape, players_train.shape"
   ]
  },
  {
   "cell_type": "code",
   "execution_count": 13,
   "metadata": {
    "colab": {
     "base_uri": "https://localhost:8080/"
    },
    "executionInfo": {
     "elapsed": 295,
     "status": "ok",
     "timestamp": 1735536550043,
     "user": {
      "displayName": "leeya",
      "userId": "01846864398267083738"
     },
     "user_tz": -540
    },
    "id": "ERAzhHho_q3b",
    "outputId": "10649391-f4fb-4fc8-ddf3-c97a51c12846"
   },
   "outputs": [
    {
     "data": {
      "text/plain": [
       "((2334, 156), (11670, 156))"
      ]
     },
     "execution_count": 13,
     "metadata": {},
     "output_type": "execute_result"
    }
   ],
   "source": [
    "teams_test.shape, players_test.shape"
   ]
  },
  {
   "cell_type": "code",
   "execution_count": 14,
   "metadata": {
    "executionInfo": {
     "elapsed": 3,
     "status": "ok",
     "timestamp": 1735536553845,
     "user": {
      "displayName": "leeya",
      "userId": "01846864398267083738"
     },
     "user_tz": -540
    },
    "id": "2K0ePVLEaFvD"
   },
   "outputs": [],
   "source": [
    "teams_train_target = teams_train[[\"gameid\", \"teamname\", \"result\"]]\n",
    "players_train_target = players_train[[\"gameid\", \"playername\", \"result\"]]\n",
    "\n",
    "teams_test_target = teams_test[[\"gameid\", \"teamname\", \"result\"]]\n",
    "players_test_target = players_test[[\"gameid\", \"playername\", \"result\"]]"
   ]
  },
  {
   "cell_type": "code",
   "execution_count": 15,
   "metadata": {
    "colab": {
     "base_uri": "https://localhost:8080/"
    },
    "executionInfo": {
     "elapsed": 306,
     "status": "ok",
     "timestamp": 1735535891446,
     "user": {
      "displayName": "leeya",
      "userId": "01846864398267083738"
     },
     "user_tz": -540
    },
    "id": "-6dCurLV_2sL",
    "outputId": "97093d97-bd9a-4d27-c4fa-dcebc929de2a"
   },
   "outputs": [
    {
     "data": {
      "text/plain": [
       "((10000, 3), (50000, 3), (2334, 3), (11670, 3))"
      ]
     },
     "execution_count": 15,
     "metadata": {},
     "output_type": "execute_result"
    }
   ],
   "source": [
    "teams_train_target.shape, players_train_target.shape, teams_test_target.shape, players_test_target.shape"
   ]
  },
  {
   "cell_type": "code",
   "execution_count": 16,
   "metadata": {
    "executionInfo": {
     "elapsed": 366,
     "status": "ok",
     "timestamp": 1735536557331,
     "user": {
      "displayName": "leeya",
      "userId": "01846864398267083738"
     },
     "user_tz": -540
    },
    "id": "xiOCJ3avSIsL"
   },
   "outputs": [],
   "source": [
    "drop_list_team = [\n",
    "    \"participantid\",\n",
    "    \"playername\",\n",
    "    'position',\n",
    "    \"champion\",\n",
    "    \"teamkills\",\n",
    "    \"teamdeaths\",\n",
    "    \"firstbloodkill\",\n",
    "    \"firstbloodassist\",\n",
    "    \"firstbloodvictim\",\n",
    "    \"dragons (type unknown)\",\n",
    "    \"damageshare\",\n",
    "    \"earnedgoldshare\",\n",
    "    \"total cs\",\n",
    "    \"monsterkillsownjungle\",\n",
    "    \"monsterkillsenemyjungle\",\n",
    "    \"goldat20\",\n",
    "    \"xpat20\",\n",
    "    \"csat20\",\n",
    "    \"opp_goldat20\",\n",
    "    \"opp_xpat20\",\n",
    "    \"opp_csat20\",\n",
    "    \"golddiffat20\",\n",
    "    \"xpdiffat20\",\n",
    "    \"csdiffat20\",\n",
    "    \"killsat20\",\n",
    "    \"assistsat20\",\n",
    "    \"deathsat20\",\n",
    "    \"opp_killsat20\",\n",
    "    \"opp_assistsat20\",\n",
    "    \"opp_deathsat20\",\n",
    "    \"goldat25\",\n",
    "    \"xpat25\",\n",
    "    \"csat25\",\n",
    "    \"opp_goldat25\",\n",
    "    \"opp_xpat25\",\n",
    "    \"opp_csat25\",\n",
    "    \"golddiffat25\",\n",
    "    \"xpdiffat25\",\n",
    "    \"csdiffat25\",\n",
    "    \"killsat25\",\n",
    "    \"assistsat25\",\n",
    "    \"deathsat25\",\n",
    "    \"opp_killsat25\",\n",
    "    \"opp_assistsat25\",\n",
    "    \"opp_deathsat25\"\n",
    "]\n"
   ]
  },
  {
   "cell_type": "code",
   "execution_count": 17,
   "metadata": {
    "executionInfo": {
     "elapsed": 298,
     "status": "ok",
     "timestamp": 1735536357178,
     "user": {
      "displayName": "leeya",
      "userId": "01846864398267083738"
     },
     "user_tz": -540
    },
    "id": "UH7DT2HzUJwV"
   },
   "outputs": [],
   "source": [
    "player_drop_list = [\n",
    "    \"participantid\",\n",
    "    \"pick1\",\n",
    "    \"pick2\",\n",
    "    \"pick3\",\n",
    "    \"pick4\",\n",
    "    \"pick5\",\n",
    "    \"teamkills\",\n",
    "    \"teamdeaths\",\n",
    "    \"firstdragon\",\n",
    "    \"dragons\",\n",
    "    \"opp_dragons\",\n",
    "    \"elementaldrakes\",\n",
    "    \"opp_elementaldrakes\",\n",
    "    \"infernals\",\n",
    "    \"mountains\",\n",
    "    \"clouds\",\n",
    "    \"oceans\",\n",
    "    \"chemtechs\",\n",
    "    \"hextechs\",\n",
    "    \"dragons (type unknown)\",\n",
    "    \"elders\",\n",
    "    \"opp_elders\",\n",
    "    \"firstherald\",\n",
    "    \"heralds\",\n",
    "    \"opp_heralds\",\n",
    "    \"void_grubs\",\n",
    "    \"opp_void_grubs\",\n",
    "    \"firstbaron\",\n",
    "    \"firsttower\",\n",
    "    \"towers\",\n",
    "    \"opp_towers\",\n",
    "    \"firstmidtower\",\n",
    "    \"firsttothreetowers\",\n",
    "    \"turretplates\",\n",
    "    \"opp_turretplates\",\n",
    "    \"gspd\",\n",
    "    \"gpr\",\n",
    "    \"monsterkillsownjungle\",\n",
    "    \"monsterkillsenemyjungle\",\n",
    "    \"goldat20\",\n",
    "    \"xpat20\",\n",
    "    \"csat20\",\n",
    "    \"opp_goldat20\",\n",
    "    \"opp_xpat20\",\n",
    "    \"opp_csat20\",\n",
    "    \"golddiffat20\",\n",
    "    \"xpdiffat20\",\n",
    "    \"csdiffat20\",\n",
    "    \"killsat20\",\n",
    "    \"assistsat20\",\n",
    "    \"deathsat20\",\n",
    "    \"opp_killsat20\",\n",
    "    \"opp_assistsat20\",\n",
    "    \"opp_deathsat20\",\n",
    "    \"goldat25\",\n",
    "    \"xpat25\",\n",
    "    \"csat25\",\n",
    "    \"opp_goldat25\",\n",
    "    \"opp_xpat25\",\n",
    "    \"opp_csat25\",\n",
    "    \"golddiffat25\",\n",
    "    \"xpdiffat25\",\n",
    "    \"csdiffat25\",\n",
    "    \"killsat25\",\n",
    "    \"assistsat25\",\n",
    "    \"deathsat25\",\n",
    "    \"opp_killsat25\",\n",
    "    \"opp_assistsat25\",\n",
    "    \"opp_deathsat25\"\n",
    "]\n"
   ]
  },
  {
   "cell_type": "code",
   "execution_count": 18,
   "metadata": {
    "colab": {
     "base_uri": "https://localhost:8080/"
    },
    "executionInfo": {
     "elapsed": 360,
     "status": "ok",
     "timestamp": 1735527022077,
     "user": {
      "displayName": "leeya",
      "userId": "01846864398267083738"
     },
     "user_tz": -540
    },
    "id": "ThFWQh69UyZv",
    "outputId": "03628256-08c0-4bc7-92b8-edeab4c708a4"
   },
   "outputs": [
    {
     "data": {
      "text/plain": [
       "69"
      ]
     },
     "execution_count": 18,
     "metadata": {},
     "output_type": "execute_result"
    }
   ],
   "source": [
    "len(player_drop_list)"
   ]
  },
  {
   "cell_type": "code",
   "execution_count": 19,
   "metadata": {
    "colab": {
     "base_uri": "https://localhost:8080/"
    },
    "executionInfo": {
     "elapsed": 8,
     "status": "ok",
     "timestamp": 1735527023631,
     "user": {
      "displayName": "leeya",
      "userId": "01846864398267083738"
     },
     "user_tz": -540
    },
    "id": "Y16mim-4SVw8",
    "outputId": "e4598fce-6c44-49f5-aebd-b9a2c01b34d6"
   },
   "outputs": [
    {
     "data": {
      "text/plain": [
       "45"
      ]
     },
     "execution_count": 19,
     "metadata": {},
     "output_type": "execute_result"
    }
   ],
   "source": [
    "len(drop_list_team)"
   ]
  },
  {
   "cell_type": "code",
   "execution_count": 20,
   "metadata": {
    "executionInfo": {
     "elapsed": 339,
     "status": "ok",
     "timestamp": 1735538292844,
     "user": {
      "displayName": "leeya",
      "userId": "01846864398267083738"
     },
     "user_tz": -540
    },
    "id": "_kgp_TEoEiWj"
   },
   "outputs": [],
   "source": [
    "teams_trian = teams_train.drop(columns=drop_list_team)"
   ]
  },
  {
   "cell_type": "code",
   "execution_count": 21,
   "metadata": {
    "executionInfo": {
     "elapsed": 346,
     "status": "ok",
     "timestamp": 1735536993860,
     "user": {
      "displayName": "leeya",
      "userId": "01846864398267083738"
     },
     "user_tz": -540
    },
    "id": "ZmbP7ZekSZnl"
   },
   "outputs": [],
   "source": [
    "players_train = players_train.drop(columns=player_drop_list)\n",
    "players_test = players_test.drop(columns=player_drop_list)"
   ]
  },
  {
   "cell_type": "code",
   "execution_count": 22,
   "metadata": {
    "colab": {
     "base_uri": "https://localhost:8080/"
    },
    "executionInfo": {
     "elapsed": 316,
     "status": "ok",
     "timestamp": 1735538312278,
     "user": {
      "displayName": "leeya",
      "userId": "01846864398267083738"
     },
     "user_tz": -540
    },
    "id": "RD8qzD18ARbQ",
    "outputId": "3203af13-d36b-48c6-ce05-7902a9b89021"
   },
   "outputs": [
    {
     "data": {
      "text/plain": [
       "((10000, 111), (2334, 156), (50000, 87), (11670, 87))"
      ]
     },
     "execution_count": 22,
     "metadata": {},
     "output_type": "execute_result"
    }
   ],
   "source": [
    "teams_trian.shape, teams_test.shape, players_train.shape, players_test.shape"
   ]
  },
  {
   "cell_type": "code",
   "execution_count": 23,
   "metadata": {
    "colab": {
     "base_uri": "https://localhost:8080/"
    },
    "executionInfo": {
     "elapsed": 338,
     "status": "ok",
     "timestamp": 1735538333934,
     "user": {
      "displayName": "leeya",
      "userId": "01846864398267083738"
     },
     "user_tz": -540
    },
    "id": "ZFhsce0EJVMC",
    "outputId": "a895ddc8-73d4-4058-81ae-0ecb9a5ecb3d"
   },
   "outputs": [
    {
     "data": {
      "text/plain": [
       "((10000, 111), (2334, 156), (50000, 87), (11670, 87))"
      ]
     },
     "execution_count": 23,
     "metadata": {},
     "output_type": "execute_result"
    }
   ],
   "source": [
    "teams_trian.shape, teams_test.shape, players_train.shape, players_test.shape"
   ]
  },
  {
   "cell_type": "code",
   "execution_count": 24,
   "metadata": {
    "id": "30atfqukg_Pv"
   },
   "outputs": [],
   "source": [
    "pd.set_option('display.max_rows', None)\n",
    "pd.set_option('display.max_columns', None)"
   ]
  },
  {
   "cell_type": "code",
   "execution_count": 25,
   "metadata": {
    "executionInfo": {
     "elapsed": 2,
     "status": "ok",
     "timestamp": 1735537126812,
     "user": {
      "displayName": "leeya",
      "userId": "01846864398267083738"
     },
     "user_tz": -540
    },
    "id": "3ml1vVP6WsFD"
   },
   "outputs": [],
   "source": [
    "players_train = players_train.drop('result', axis=1)\n",
    "players_test = players_test.drop('result', axis=1)"
   ]
  },
  {
   "cell_type": "code",
   "execution_count": 26,
   "metadata": {
    "executionInfo": {
     "elapsed": 2,
     "status": "ok",
     "timestamp": 1735537127950,
     "user": {
      "displayName": "leeya",
      "userId": "01846864398267083738"
     },
     "user_tz": -540
    },
    "id": "ziAHkQHB32XH"
   },
   "outputs": [],
   "source": [
    "teams_train = teams_train.drop('result', axis=1)\n",
    "teams_test = teams_test.drop('result', axis=1)"
   ]
  },
  {
   "cell_type": "code",
   "execution_count": 27,
   "metadata": {
    "executionInfo": {
     "elapsed": 4113,
     "status": "ok",
     "timestamp": 1735537136606,
     "user": {
      "displayName": "leeya",
      "userId": "01846864398267083738"
     },
     "user_tz": -540
    },
    "id": "KPJMuKKrTmpw"
   },
   "outputs": [],
   "source": [
    "players_train.to_csv(f'{DATA_PATH}players_train(analyze).csv', index=False)\n",
    "players_test.to_csv(f'{DATA_PATH}players_test(analyze).csv', index=False)"
   ]
  },
  {
   "cell_type": "code",
   "execution_count": 28,
   "metadata": {
    "executionInfo": {
     "elapsed": 1321,
     "status": "ok",
     "timestamp": 1735537137923,
     "user": {
      "displayName": "leeya",
      "userId": "01846864398267083738"
     },
     "user_tz": -540
    },
    "id": "GYLRWhtPhvUC"
   },
   "outputs": [],
   "source": [
    "teams_train.to_csv(f'{DATA_PATH}teams_train(analyze).csv', index=False)\n",
    "teams_test.to_csv(f'{DATA_PATH}teams_test(analyze).csv', index=False)"
   ]
  },
  {
   "cell_type": "code",
   "execution_count": 29,
   "metadata": {
    "colab": {
     "base_uri": "https://localhost:8080/"
    },
    "executionInfo": {
     "elapsed": 334,
     "status": "ok",
     "timestamp": 1735538340969,
     "user": {
      "displayName": "leeya",
      "userId": "01846864398267083738"
     },
     "user_tz": -540
    },
    "id": "eS2fKK9YJAdC",
    "outputId": "e9e8703d-f035-4ac0-8e65-49ca250f5575"
   },
   "outputs": [
    {
     "data": {
      "text/plain": [
       "((10000, 155), (2334, 155))"
      ]
     },
     "execution_count": 29,
     "metadata": {},
     "output_type": "execute_result"
    }
   ],
   "source": [
    "teams_train.shape, teams_test.shape"
   ]
  },
  {
   "cell_type": "code",
   "execution_count": 30,
   "metadata": {
    "executionInfo": {
     "elapsed": 1471,
     "status": "ok",
     "timestamp": 1735537177466,
     "user": {
      "displayName": "leeya",
      "userId": "01846864398267083738"
     },
     "user_tz": -540
    },
    "id": "lODgh1Iqhvnf"
   },
   "outputs": [],
   "source": [
    "teams_train_target.to_csv(f'{DATA_PATH}teams_train_target.csv', index=False)\n",
    "players_train_target.to_csv(f'{DATA_PATH}players_train_target.csv', index=False)\n",
    "\n",
    "teams_test_target.to_csv(f'{DATA_PATH}teams_test_target.csv', index=False)\n",
    "players_test_target.to_csv(f'{DATA_PATH}players_test_target.csv', index=False)"
   ]
  }
 ],
 "metadata": {
  "colab": {
   "authorship_tag": "ABX9TyO7I3R9qpXfSQComHp3j0e1",
   "mount_file_id": "1uRKgScP4EHbvmalwWOo2MYTK4ZV-_oHj",
   "provenance": []
  },
  "kernelspec": {
   "display_name": "Python 3",
   "name": "python3"
  },
  "language_info": {
   "codemirror_mode": {
    "name": "ipython",
    "version": 3
   },
   "file_extension": ".py",
   "mimetype": "text/x-python",
   "name": "python",
   "nbconvert_exporter": "python",
   "pygments_lexer": "ipython3",
   "version": "3.10.8"
  }
 },
 "nbformat": 4,
 "nbformat_minor": 0
}
